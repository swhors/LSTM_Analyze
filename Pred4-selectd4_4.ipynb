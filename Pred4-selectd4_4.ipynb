{
 "cells": [
  {
   "cell_type": "markdown",
   "metadata": {},
   "source": [
    "# Prediction with LSTM model (v.4.4)\n",
    "<p style='text-align: right;'>with selectd4.csv</p>\n",
    "\n",
    "* history\n",
    "  * 2025/05/23 PM06:02 : 3번째 모델의 3번째 데이터를 사용\n",
    "  * 2025/05/27"
   ]
  },
  {
   "cell_type": "code",
   "execution_count": null,
   "metadata": {},
   "outputs": [],
   "source": [
    "!pip install scikit-learn\n",
    "!pip install tensorflow\n",
    "from datetime import datetime\n",
    "print(f'restart kernel... {datetime.now()}')"
   ]
  },
  {
   "cell_type": "code",
   "execution_count": 14,
   "metadata": {},
   "outputs": [
    {
     "name": "stdout",
     "output_type": "stream",
     "text": [
      "restart kernel... 2025-05-28 10:21:30.111322\n"
     ]
    }
   ],
   "source": [
    "def restart_kernel():\n",
    "    # Restart the kernet after libraries are loaded.\n",
    "    import IPython\n",
    "    from datetime import datetime\n",
    "    print(f'restart kernel... {datetime.now()}')\n",
    "    app = IPython.Application.instance()\n",
    "    app.kernel.do_shutdown(True)\n",
    "\n",
    "restart_kernel()"
   ]
  },
  {
   "cell_type": "code",
   "execution_count": 1,
   "metadata": {},
   "outputs": [
    {
     "name": "stdout",
     "output_type": "stream",
     "text": [
      "imported library. (2025-05-28 10:51:11.548010)\n"
     ]
    }
   ],
   "source": [
    "# load dependacies\n",
    "import os\n",
    "import time\n",
    "import resource\n",
    "from datetime import datetime\n",
    "from lib.globalvar import *\n",
    "from lib.data_loader import DataLoader\n",
    "from lib.small_predict import predict_small, print_predict_small\n",
    "from lib.activation import ActivationOutput, RecurrentActivation\n",
    "from lib.small_predict import build_and_predict, gen_multi_model, save_model\n",
    "\n",
    "\n",
    "print(f\"imported library. ({datetime.now()})\")"
   ]
  },
  {
   "cell_type": "code",
   "execution_count": 2,
   "metadata": {},
   "outputs": [
    {
     "name": "stdout",
     "output_type": "stream",
     "text": [
      "finished to set environemnt. (2025-05-28 10:51:11.554238)\n"
     ]
    }
   ],
   "source": [
    "##\n",
    "## 모델링 환경 설정\n",
    "##\n",
    "window=1 # default = 1 , help = \"time stamps\"\n",
    "data_dir='./csv/selectd4.csv'\n",
    "    \n",
    "mode='predict' # help = \"back-test or predict\")\n",
    "\n",
    "mode2='sampling' # help = \"greed or sampling\")\n",
    "verb='verbose' # help = \"verbose or not_verb\")\n",
    "    \n",
    "trial=20 # help = \"how much trials to generate\")\n",
    "training_length=0.95 # default = 0.9)\n",
    "epoch=20 # default = 3\n",
    "batch=1 # default = 1\n",
    "model_type='lstm4' # help = \"lstm1 or lstm2\")\n",
    "hid_dim = 50\n",
    "from_pos = 0\n",
    "last = [[1, 5, 18, 20, 30, 35],\n",
    "        [7, 9, 24, 40, 42, 44],\n",
    "        [3, 6, 7, 11, 12, 17],\n",
    "        [3, 13, 28, 34, 38, 42],\n",
    "        [5, 12, 24, 29, 32, 42]]\n",
    "print(f\"finished to set environemnt. ({datetime.now()})\")\n",
    "MAX_MODEL_CNT = 3\n",
    "\n",
    "write_to_db = True\n"
   ]
  },
  {
   "cell_type": "code",
   "execution_count": 3,
   "metadata": {},
   "outputs": [
    {
     "name": "stdout",
     "output_type": "stream",
     "text": [
      "<module 'tensorflow._api.v2.version' from '/home/swhors/jupyter-workspace/finance/venv/lib/python3.11/site-packages/tensorflow/_api/v2/version/__init__.py'>\n"
     ]
    }
   ],
   "source": [
    "import tensorflow as tf\n",
    "print(f'{tf.version}')"
   ]
  },
  {
   "cell_type": "code",
   "execution_count": 4,
   "metadata": {},
   "outputs": [
    {
     "name": "stdout",
     "output_type": "stream",
     "text": [
      "completed to load data. 2025-05-28 10:51:13.678608\n"
     ]
    }
   ],
   "source": [
    "dataset_dicts = {\n",
    "    1: DataLoader(data_dir=data_dir,\n",
    "                  training_length=training_length,\n",
    "                  window_prev=window,\n",
    "                  mode=mode,\n",
    "                  from_pos=0,\n",
    "                  verbose=False\n",
    "                  ),\n",
    "    2: DataLoader(data_dir=data_dir,\n",
    "                  training_length=training_length,\n",
    "                  window_prev=window,\n",
    "                  mode=mode,\n",
    "                  from_pos=300,\n",
    "                  verbose=False\n",
    "                  )\n",
    "    }\n",
    "#print(f'test_X = {dataset_dicts[1].test_X}')\n",
    "print(f'completed to load data. {datetime.now()}')"
   ]
  },
  {
   "cell_type": "code",
   "execution_count": 5,
   "metadata": {},
   "outputs": [
    {
     "name": "stdout",
     "output_type": "stream",
     "text": [
      "completed to set evn for all models. 2025-05-28 10:51:15.140051\n"
     ]
    }
   ],
   "source": [
    "###########\n",
    "## layers\n",
    "## LSTM Neural 계층 선언\n",
    "###########\n",
    "\"\"\"\n",
    "Activation (Output):\n",
    "    linear: No activation, output is directly passed through.\n",
    "    relu: Rectified Linear Unit, max(x, 0).\n",
    "    sigmoid: Sigmoid function, output between 0 and 1.\n",
    "    tanh: Hyperbolic tangent, output between -1 and 1.\n",
    "    softmax: Normalizes output to a probability distribution.\n",
    "    elu: Exponential Linear Unit.\n",
    "    selu: Scaled Exponential Linear Unit.\n",
    "\n",
    "Recurrent Activation:\n",
    "    sigmoid: Commonly used for gates in LSTM.\n",
    "    hard_sigmoid: A faster, less computationally expensive version of sigmoid.\n",
    "    tanh: Can be used, but sigmoid is more typical for gates.\n",
    "\"\"\"\n",
    "datasets = [dataset_dicts[1], # 0\n",
    "            dataset_dicts[2], # 1\n",
    "           ]\n",
    "\n",
    "lstm_units=[[(45, ActivationOutput.selu.name),   # 0\n",
    "             (45, ActivationOutput.selu.name),\n",
    "             (45, ActivationOutput.sigmoid.name),\n",
    "             (45, ActivationOutput.elu.name)\n",
    "             ],\n",
    "            [(45, ActivationOutput.selu.name),   # 1\n",
    "             (45, ActivationOutput.selu.name)\n",
    "             ],\n",
    "            [(45, ActivationOutput.selu.name),   # 2\n",
    "             (45, ActivationOutput.selu.name),\n",
    "             (45, ActivationOutput.selu.name),\n",
    "             (45, ActivationOutput.selu.name),\n",
    "             (45, ActivationOutput.selu.name),\n",
    "             (45, ActivationOutput.selu.name),\n",
    "             (45, ActivationOutput.selu.name),\n",
    "             (45, ActivationOutput.sigmoid.name),\n",
    "             (45, ActivationOutput.sigmoid.name),\n",
    "             (45, ActivationOutput.elu.name)\n",
    "             ],\n",
    "            [(45, ActivationOutput.tanh.name),   # 3\n",
    "             (45, ActivationOutput.tanh.name),\n",
    "             (45, ActivationOutput.tanh.name),\n",
    "             (45, ActivationOutput.tanh.name),\n",
    "             (45, ActivationOutput.tanh.name),\n",
    "             (45, ActivationOutput.tanh.name),\n",
    "             (45, ActivationOutput.tanh.name)\n",
    "             ],\n",
    "            [(45, ActivationOutput.tanh.name),   # 4\n",
    "             (45, ActivationOutput.tanh.name),\n",
    "             (45, ActivationOutput.tanh.name),\n",
    "             ],\n",
    "            [(45, ActivationOutput.tanh.name)    # 5\n",
    "             ],\n",
    "            ]\n",
    "dense_units = [[(45, ActivationOutput.selu.name),   # 0\n",
    "                (45, ActivationOutput.elu.name),\n",
    "                (45, ActivationOutput.elu.name),],\n",
    "               [(45, ActivationOutput.selu.name),], # 1\n",
    "               [(45, ActivationOutput.selu.name),   # 2\n",
    "                (45, ActivationOutput.elu.name),\n",
    "                (45, ActivationOutput.elu.name),],\n",
    "               [(45, ActivationOutput.tanh.name),   # 3\n",
    "               ],\n",
    "               []                                   # 4\n",
    "              ]\n",
    "sel_date = datetime(2025, 5, 24, 20, 35)\n",
    "sel_date_ts = (sel_date.timestamp() / 10000000)\n",
    "steps = [45, 45,]\n",
    "metrics = [[\"accuracy\"], []]\n",
    "dropout = [0, 0]\n",
    "learning_rate = [0.01, 0.05]\n",
    "last_lstm_return_sequences = [False, True]\n",
    "loss = [\"binary_crossentropy\", \"mse\"]\n",
    "output_dense_activation = [ActivationOutput.elu.name, #0\n",
    "                           ActivationOutput.selu.name, #1\n",
    "                           ActivationOutput.sigmoid.name, #2\n",
    "                           ActivationOutput.tanh.name, #3\n",
    "                           ActivationOutput.softmax.name, #4\n",
    "                           ActivationOutput.relu.name, #5\n",
    "                           ActivationOutput.linear.name #6\n",
    "                          ]\n",
    "epochs = [10, #0\n",
    "          20, #1\n",
    "          25, #2\n",
    "          50, #3\n",
    "          100] #4\n",
    "\n",
    "rand_seed=[sel_date_ts, datetime.now().timestamp(), 0]\n",
    "\n",
    "\n",
    "lstm_args = {6: {\"model\":{\"learning_rate\": learning_rate[0],\n",
    "                          \"dropout\": dropout[0],\n",
    "                          \"steps\": steps[0], # last output elements count\n",
    "                          \"metrics\": metrics[0],\n",
    "                          \"last_lstm_return_sequences\": last_lstm_return_sequences[1],\n",
    "                          \"lstm_units\": lstm_units[5],\n",
    "                          \"dense_units\": dense_units[4],\n",
    "                          \"output_dense_activation\": output_dense_activation[3],\n",
    "                          \"loss\": loss[1],\n",
    "                          \"return_state\": False,\n",
    "                          \"lstm_model\": \"Bidirectional\",\n",
    "                          \"rand_seed\": rand_seed[0] # rand_seed[0]\n",
    "                          },\n",
    "                 \"train\": {\"epochs\": epochs[1],\n",
    "                           \"is_shuffle\": False,\n",
    "                           \"batch\": 3,\n",
    "                           \"steps_per_epoch\": 0 #100\n",
    "                           },\n",
    "                 \"dataset\": datasets[0]\n",
    "                 }\n",
    "             }\n",
    "\n",
    "\n",
    "print(f'completed to set evn for all models. {datetime.now()}')"
   ]
  },
  {
   "cell_type": "code",
   "execution_count": null,
   "metadata": {},
   "outputs": [
    {
     "name": "stdout",
     "output_type": "stream",
     "text": [
      "********************\n",
      "working model_version = 1  2025-05-28 10:51:21.502612\n",
      "********************\n",
      "start to train all models. 2025-05-28 10:51:21.502781\n",
      "6's training. status=start 2025-05-28 10:51:21.502802\n",
      "6's training. status=end 2025-05-28 10:51:30.250996\n",
      "completed to train all models. 2025-05-28 10:51:30.251094\n",
      "train to create model(1). 2025-05-28 10:51:33.251179\n",
      "CPU 시간: 18.659042 초\n",
      "메모리 사용량: 691792 KB\n",
      "********************\n",
      "working model_version = 2  2025-05-28 10:51:48.575884\n",
      "********************\n",
      "start to train all models. 2025-05-28 10:51:48.575920\n",
      "6's training. status=start 2025-05-28 10:51:48.575936\n",
      "6's training. status=end 2025-05-28 10:51:57.610481\n",
      "completed to train all models. 2025-05-28 10:51:57.610579\n",
      "train to create model(2). 2025-05-28 10:52:00.610665\n",
      "CPU 시간: 33.405411 초\n",
      "메모리 사용량: 712160 KB\n",
      "********************\n",
      "working model_version = 3  2025-05-28 10:52:15.912274\n",
      "********************\n",
      "start to train all models. 2025-05-28 10:52:15.912311\n",
      "6's training. status=start 2025-05-28 10:52:15.912328\n",
      "6's training. status=end 2025-05-28 10:52:28.541788\n",
      "completed to train all models. 2025-05-28 10:52:28.541904\n",
      "train to create model(3). 2025-05-28 10:52:31.542007\n",
      "CPU 시간: 47.807907 초\n",
      "메모리 사용량: 750144 KB\n",
      "********************\n",
      "working model_version = 4  2025-05-28 10:52:46.858358\n",
      "********************\n",
      "start to train all models. 2025-05-28 10:52:46.858395\n",
      "6's training. status=start 2025-05-28 10:52:46.858412\n",
      "6's training. status=end 2025-05-28 10:52:55.552428\n",
      "completed to train all models. 2025-05-28 10:52:55.552525\n"
     ]
    }
   ],
   "source": [
    "#\n",
    "# max_model_limit 정보만큼 반복적으로 매트릭을 생성합니다.\n",
    "#\n",
    "\n",
    "model_version_limit = 20\n",
    "for version in range(1, model_version_limit+1):\n",
    "    args = {'test_id': 'P4_4_4_2_2',\n",
    "        'version': version,\n",
    "        'write_to_db': True,\n",
    "        'last': last,\n",
    "        'mode2': mode2,\n",
    "        'gen_num': 5,\n",
    "        'round_limit': 40,\n",
    "        'db_file_name': \"./db/metrics.db\"\n",
    "       }\n",
    "    build_and_predict(args=args, lstm_args=lstm_args, sleep_time=3, verbose=False)\n",
    "    time.sleep(10)\n",
    "    usage = resource.getrusage(resource.RUSAGE_SELF)\n",
    "    print(f\"CPU 시간: {usage.ru_utime} 초\")\n",
    "    print(f\"메모리 사용량: {usage.ru_maxrss} KB\")\n",
    "    clear_output_this_02 = False\n",
    "    if clear_output_this_02:\n",
    "        from IPython.display import clear_output\n",
    "        clear_output() # Clears the output\n"
   ]
  },
  {
   "cell_type": "code",
   "execution_count": 12,
   "metadata": {},
   "outputs": [],
   "source": [
    "view_model_info = False\n",
    "if view_model_info:\n",
    "    for i in range(MAX_MODEL_CNT):\n",
    "        print(models[i][0].model.summary())"
   ]
  },
  {
   "cell_type": "code",
   "execution_count": null,
   "metadata": {},
   "outputs": [],
   "source": [
    "# all : save model\n",
    "for model in models:\n",
    "    if model is not None:\n",
    "        model[0].save()"
   ]
  },
  {
   "cell_type": "code",
   "execution_count": null,
   "metadata": {},
   "outputs": [],
   "source": []
  }
 ],
 "metadata": {
  "kernelspec": {
   "display_name": "finance",
   "language": "python",
   "name": "finance"
  },
  "language_info": {
   "codemirror_mode": {
    "name": "ipython",
    "version": 3
   },
   "file_extension": ".py",
   "mimetype": "text/x-python",
   "name": "python",
   "nbconvert_exporter": "python",
   "pygments_lexer": "ipython3",
   "version": "3.11.2"
  }
 },
 "nbformat": 4,
 "nbformat_minor": 4
}
