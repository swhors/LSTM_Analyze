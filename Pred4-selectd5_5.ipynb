{
 "cells": [
  {
   "cell_type": "markdown",
   "metadata": {},
   "source": [
    "# Prediction with LSTM model (v4.5.5)\n",
    "<p style='text-align: right;'>with selectd5.csv</p>\n",
    "\n",
    "* history\n",
    "  * 2025/05/23 PM06:02 : 3번째 모델의 3번째 데이터를 사용\n",
    "  * 2025/05/27\n",
    "  * 2025/05/30 : v4.5.1 작성 시작\n",
    "  * 2025/06/04 : v4.5.2 last update\n",
    "  * 2025/06/04 : v4.5.3 작성\n",
    "  * 2025/06/05 : v4.5.4 작성\n",
    "  * 2025/06/05 : v4.5.5 작성 model_id=14"
   ]
  },
  {
   "cell_type": "code",
   "execution_count": null,
   "metadata": {},
   "outputs": [],
   "source": [
    "!pip install scikit-learn\n",
    "!pip install tensorflow\n",
    "!pip install numpy pandas keras scikit-learn matplotlib scikeras\n",
    "from datetime import datetime\n",
    "print(f'restart kernel... {datetime.now()}')"
   ]
  },
  {
   "cell_type": "code",
   "execution_count": 9,
   "metadata": {},
   "outputs": [
    {
     "name": "stdout",
     "output_type": "stream",
     "text": [
      "restart kernel... 2025-06-04 13:35:20.751728\n",
      "['/home/swhors/jupyter-workspace/LSTM/$PWD', '/home/swhors/jupyter-workspace/finance', '/home/swhors/jupyter-workspace/finance/venv/lib/python3.11/site-paches', '/usr/lib/python311.zip', '/usr/lib/python3.11', '/usr/lib/python3.11/lib-dynload', '', '/home/swhors/jupyter-workspace/finance/venv/lib/python3.11/site-packages', '/home/swhors/jupyter-workspace/LSTM']\n"
     ]
    }
   ],
   "source": [
    "def restart_kernel():\n",
    "    # Restart the kernet after libraries are loaded.\n",
    "    import IPython\n",
    "    from datetime import datetime\n",
    "    print(f'restart kernel... {datetime.now()}')\n",
    "    app = IPython.Application.instance()\n",
    "    app.kernel.do_shutdown(True)\n",
    "\n",
    "restart_kernel()\n",
    "\n",
    "import os\n",
    "import sys\n",
    "from datetime import datetime\n",
    "cwd = os.getcwd()\n",
    "sys.path.append(cwd)\n",
    "print(sys.path)"
   ]
  },
  {
   "cell_type": "code",
   "execution_count": 1,
   "metadata": {},
   "outputs": [
    {
     "name": "stdout",
     "output_type": "stream",
     "text": [
      "imported library. (2025-06-05 14:57:48.605477)\n"
     ]
    }
   ],
   "source": [
    "# load dependacies\n",
    "import os\n",
    "import time\n",
    "import resource\n",
    "from datetime import datetime\n",
    "from lib.globalvar import *\n",
    "from lib.data_loader import DataLoader\n",
    "from lib.small_predict import predict_small, print_predict_small\n",
    "from lib.activation import ActivationOutput, RecurrentActivation\n",
    "from lib.small_predict import build_and_predict, gen_multi_model, save_model, generate_metric\n",
    "from lib.common_env_sets import lstm_units, dense_units, steps, metrics, dropout\n",
    "from lib.common_env_sets import learning_rate, last_lstm_return_sequences\n",
    "from lib.common_env_sets import loss, output_dense_activation, epochs, rand_seed\n",
    "\n",
    "\n",
    "print(f\"imported library. ({datetime.now()})\")"
   ]
  },
  {
   "cell_type": "code",
   "execution_count": 2,
   "metadata": {},
   "outputs": [
    {
     "name": "stdout",
     "output_type": "stream",
     "text": [
      "finished to set environemnt. (2025-06-05 14:57:56.874209)\n"
     ]
    }
   ],
   "source": [
    "##\n",
    "## 모델링 환경 설정\n",
    "##\n",
    "window=1 # default = 1 , help = \"time stamps\"\n",
    "data_dir='./csv/selectd5.csv'\n",
    "    \n",
    "mode='predict' # help = \"back-test or predict\")\n",
    "\n",
    "mode2='sampling' # help = \"greed or sampling\")\n",
    "verb='verbose' # help = \"verbose or not_verb\")\n",
    "    \n",
    "training_length=0.95 # default = 0.9)\n",
    "from_pos = 0\n",
    "last = [[8, 11, 14, 17, 36, 39],\n",
    "        [1, 5, 18, 20, 30, 35],\n",
    "        [7, 9, 24, 40, 42, 44],\n",
    "        [3, 6, 7, 11, 12, 17],\n",
    "        [3, 13, 28, 34, 38, 42],\n",
    "        [5, 12, 24, 29, 32, 42]]\n",
    "print(f\"finished to set environemnt. ({datetime.now()})\")\n"
   ]
  },
  {
   "cell_type": "code",
   "execution_count": 3,
   "metadata": {},
   "outputs": [
    {
     "name": "stdout",
     "output_type": "stream",
     "text": [
      "completed to load data. 2025-06-05 14:58:00.916545\n"
     ]
    }
   ],
   "source": [
    "dataset_dicts = {\n",
    "    1: DataLoader(data_dir=data_dir,\n",
    "                  training_length=training_length,\n",
    "                  window_prev=window,\n",
    "                  mode=mode,\n",
    "                  from_pos=0,\n",
    "                  verbose=False\n",
    "                  ),\n",
    "    2: DataLoader(data_dir=data_dir,\n",
    "                  training_length=training_length,\n",
    "                  window_prev=window,\n",
    "                  mode=mode,\n",
    "                  from_pos=300,\n",
    "                  verbose=False\n",
    "                  )\n",
    "    }\n",
    "\n",
    "print(f'completed to load data. {datetime.now()}')"
   ]
  },
  {
   "cell_type": "code",
   "execution_count": 4,
   "metadata": {},
   "outputs": [
    {
     "name": "stdout",
     "output_type": "stream",
     "text": [
      "completed to set env for all models. 2025-06-05 14:58:04.839291\n"
     ]
    }
   ],
   "source": [
    "###########\n",
    "## layers\n",
    "## LSTM Neural 계층 선언\n",
    "###########\n",
    "datasets = [dataset_dicts[1], # 0\n",
    "            dataset_dicts[2], # 1\n",
    "           ]\n",
    "\n",
    "lstm_args = {14: {\"model\":{\"learning_rate\": learning_rate[0],\n",
    "                           \"dropout\": dropout[0],\n",
    "                           \"steps\": steps[0], # last output elements count\n",
    "                           \"metrics\": metrics[1],\n",
    "                           \"last_lstm_return_sequences\": last_lstm_return_sequences[0],\n",
    "                           \"lstm_units\": lstm_units[2],\n",
    "                           \"dense_units\": dense_units[2],\n",
    "                           \"output_dense_activation\": output_dense_activation[3],\n",
    "                           \"loss\": loss[0],\n",
    "                           \"return_state\": False,\n",
    "                           \"rand_seed\": rand_seed[0] # rand_seed[0]\n",
    "                           },\n",
    "                 \"train\": {\"epochs\": epochs[2],\n",
    "                           \"is_shuffle\": False,\n",
    "                           \"batch\": 1,\n",
    "                           \"steps_per_epoch\": 0 #100\n",
    "                           },\n",
    "                 \"dataset\": datasets[0]\n",
    "                 },\n",
    "             }\n",
    "\n",
    "print(f'completed to set env for all models. {datetime.now()}')"
   ]
  },
  {
   "cell_type": "code",
   "execution_count": 13,
   "metadata": {},
   "outputs": [],
   "source": [
    "def gen_metric(test_id, gen_num, round_limit):\n",
    "    \"\"\" gen_metric \"\"\"\n",
    "    model_version_from = 1\n",
    "    model_version_end = 1\n",
    "    args = {'test_id': test_id,\n",
    "            'version': model_version_from,\n",
    "            'write_to_db': True,\n",
    "            'last': last,\n",
    "            'mode2': mode2,\n",
    "            'gen_num': gen_num,\n",
    "            'round_limit': round_limit,\n",
    "            'db_file_name': \"./db/metrics.db\"\n",
    "            }\n",
    "    generate_metric(args=args,\n",
    "                    from_version=model_version_from,\n",
    "                    to_version=model_version_end,\n",
    "                    lstm_args=lstm_args)"
   ]
  },
  {
   "cell_type": "code",
   "execution_count": 5,
   "metadata": {},
   "outputs": [
    {
     "name": "stdout",
     "output_type": "stream",
     "text": [
      "Test Start: 1~1\n",
      "CPU 시간: 4.171364 초\n",
      "메모리 사용량: 616976 KB\n",
      "generate_metric.02 args[\"version\"]=1\n",
      "********************\n",
      "working model_version = 1  2025-06-05 14:58:44.324780\n",
      "********************\n",
      "start to train all models. 2025-06-05 14:58:44.324809\n",
      "14's training. status=start 2025-06-05 14:58:44.324824\n",
      "14's training. status=end 2025-06-05 14:59:32.380188\n",
      "completed to train all models. 2025-06-05 14:59:32.380290\n",
      "train to create model(1). 2025-06-05 14:59:35.380371\n",
      "CPU 시간: 200.119137 초\n",
      "메모리 사용량: 868032 KB\n"
     ]
    }
   ],
   "source": [
    "#\n",
    "# max_model_limit 정보만큼 반복적으로 매트릭을 생성합니다.\n",
    "#\n",
    "model_version_from = 1\n",
    "model_version_end = 1\n",
    "args = {'test_id': 'P4_5_5_1',\n",
    "        'version': model_version_from,\n",
    "        'write_to_db': True,\n",
    "        'last': last,\n",
    "        'mode2': mode2,\n",
    "        'gen_num': 5,\n",
    "        'round_limit': 1000,\n",
    "        'db_file_name': \"./db/metrics.db\"\n",
    "        }\n",
    "generate_metric(args=args,\n",
    "                from_version=model_version_from,\n",
    "                to_version=model_version_end,\n",
    "                lstm_args=lstm_args)\n"
   ]
  },
  {
   "cell_type": "code",
   "execution_count": 6,
   "metadata": {},
   "outputs": [
    {
     "name": "stdout",
     "output_type": "stream",
     "text": [
      "Test Start: 1~1\n",
      "CPU 시간: 200.643331 초\n",
      "메모리 사용량: 868032 KB\n",
      "generate_metric.02 args[\"version\"]=1\n",
      "********************\n",
      "working model_version = 1  2025-06-05 15:02:47.051994\n",
      "********************\n",
      "start to train all models. 2025-06-05 15:02:47.052028\n",
      "14's training. status=start 2025-06-05 15:02:47.052044\n",
      "14's training. status=end 2025-06-05 15:03:35.263268\n",
      "completed to train all models. 2025-06-05 15:03:35.263369\n",
      "train to create model(1). 2025-06-05 15:03:38.263452\n",
      "CPU 시간: 397.144754 초\n",
      "메모리 사용량: 968096 KB\n"
     ]
    }
   ],
   "source": [
    "#\n",
    "# max_model_limit 정보만큼 반복적으로 매트릭을 생성합니다.\n",
    "#\n",
    "model_version_from = 1\n",
    "model_version_end = 1\n",
    "args = {'test_id': 'P4_5_5_2',\n",
    "        'version': model_version_from,\n",
    "        'write_to_db': True,\n",
    "        'last': last,\n",
    "        'mode2': mode2,\n",
    "        'gen_num': 1,\n",
    "        'round_limit': 1000,\n",
    "        'db_file_name': \"./db/metrics.db\"\n",
    "        }\n",
    "generate_metric(args=args,\n",
    "                from_version=model_version_from,\n",
    "                to_version=model_version_end,\n",
    "                lstm_args=lstm_args)\n"
   ]
  },
  {
   "cell_type": "code",
   "execution_count": 7,
   "metadata": {},
   "outputs": [
    {
     "name": "stdout",
     "output_type": "stream",
     "text": [
      "Test Start: 1~1\n",
      "CPU 시간: 397.781815 초\n",
      "메모리 사용량: 968096 KB\n",
      "generate_metric.02 args[\"version\"]=1\n",
      "********************\n",
      "working model_version = 1  2025-06-05 15:07:16.331444\n",
      "********************\n",
      "start to train all models. 2025-06-05 15:07:16.331475\n",
      "14's training. status=start 2025-06-05 15:07:16.331490\n",
      "14's training. status=end 2025-06-05 15:08:06.818492\n",
      "completed to train all models. 2025-06-05 15:08:06.818593\n",
      "train to create model(1). 2025-06-05 15:08:09.818676\n",
      "CPU 시간: 595.468712 초\n",
      "메모리 사용량: 1062128 KB\n"
     ]
    }
   ],
   "source": [
    "#\n",
    "# max_model_limit 정보만큼 반복적으로 매트릭을 생성합니다.\n",
    "#\n",
    "model_version_from = 1\n",
    "model_version_end = 1\n",
    "args = {'test_id': 'P4_5_5_3',\n",
    "        'version': model_version_from,\n",
    "        'write_to_db': True,\n",
    "        'last': last,\n",
    "        'mode2': mode2,\n",
    "        'gen_num': 1,\n",
    "        'round_limit': 1000,\n",
    "        'db_file_name': \"./db/metrics.db\"\n",
    "        }\n",
    "generate_metric(args=args,\n",
    "                from_version=model_version_from,\n",
    "                to_version=model_version_end,\n",
    "                lstm_args=lstm_args)\n"
   ]
  },
  {
   "cell_type": "code",
   "execution_count": 8,
   "metadata": {},
   "outputs": [
    {
     "name": "stdout",
     "output_type": "stream",
     "text": [
      "Test Start: 1~1\n",
      "CPU 시간: 596.174883 초\n",
      "메모리 사용량: 1062128 KB\n",
      "generate_metric.02 args[\"version\"]=1\n",
      "********************\n",
      "working model_version = 1  2025-06-05 15:11:37.875821\n",
      "********************\n",
      "start to train all models. 2025-06-05 15:11:37.875855\n",
      "14's training. status=start 2025-06-05 15:11:37.875872\n",
      "14's training. status=end 2025-06-05 15:12:25.791851\n",
      "completed to train all models. 2025-06-05 15:12:25.791952\n",
      "train to create model(1). 2025-06-05 15:12:28.792033\n",
      "CPU 시간: 794.343109 초\n",
      "메모리 사용량: 1156944 KB\n"
     ]
    }
   ],
   "source": [
    "#\n",
    "# max_model_limit 정보만큼 반복적으로 매트릭을 생성합니다.\n",
    "#\n",
    "model_version_from = 1\n",
    "model_version_end = 1\n",
    "args = {'test_id': 'P4_5_5_4',\n",
    "        'version': model_version_from,\n",
    "        'write_to_db': True,\n",
    "        'last': last,\n",
    "        'mode2': mode2,\n",
    "        'gen_num': 1,\n",
    "        'round_limit': 1000,\n",
    "        'db_file_name': \"./db/metrics.db\"\n",
    "        }\n",
    "generate_metric(args=args,\n",
    "                from_version=model_version_from,\n",
    "                to_version=model_version_end,\n",
    "                lstm_args=lstm_args)\n"
   ]
  },
  {
   "cell_type": "code",
   "execution_count": 9,
   "metadata": {},
   "outputs": [
    {
     "name": "stdout",
     "output_type": "stream",
     "text": [
      "Test Start: 1~1\n",
      "CPU 시간: 795.122832 초\n",
      "메모리 사용량: 1156944 KB\n",
      "generate_metric.02 args[\"version\"]=1\n",
      "********************\n",
      "working model_version = 1  2025-06-05 15:15:27.369753\n",
      "********************\n",
      "start to train all models. 2025-06-05 15:15:27.369787\n",
      "14's training. status=start 2025-06-05 15:15:27.369803\n",
      "14's training. status=end 2025-06-05 15:16:16.169605\n",
      "completed to train all models. 2025-06-05 15:16:16.169714\n",
      "train to create model(1). 2025-06-05 15:16:19.169798\n",
      "CPU 시간: 994.396516 초\n",
      "메모리 사용량: 1253616 KB\n"
     ]
    }
   ],
   "source": [
    "#\n",
    "# max_model_limit 정보만큼 반복적으로 매트릭을 생성합니다.\n",
    "#\n",
    "model_version_from = 1\n",
    "model_version_end = 1\n",
    "args = {'test_id': 'P4_5_5_5',\n",
    "        'version': model_version_from,\n",
    "        'write_to_db': True,\n",
    "        'last': last,\n",
    "        'mode2': mode2,\n",
    "        'gen_num': 1,\n",
    "        'round_limit': 1000,\n",
    "        'db_file_name': \"./db/metrics.db\"\n",
    "        }\n",
    "generate_metric(args=args,\n",
    "                from_version=model_version_from,\n",
    "                to_version=model_version_end,\n",
    "                lstm_args=lstm_args)\n"
   ]
  },
  {
   "cell_type": "code",
   "execution_count": 10,
   "metadata": {},
   "outputs": [
    {
     "name": "stdout",
     "output_type": "stream",
     "text": [
      "Test Start: 1~1\n",
      "CPU 시간: 995.24091 초\n",
      "메모리 사용량: 1253616 KB\n",
      "generate_metric.02 args[\"version\"]=1\n",
      "********************\n",
      "working model_version = 1  2025-06-05 15:19:14.867012\n",
      "********************\n",
      "start to train all models. 2025-06-05 15:19:14.867037\n",
      "14's training. status=start 2025-06-05 15:19:14.867047\n",
      "14's training. status=end 2025-06-05 15:20:03.443839\n",
      "completed to train all models. 2025-06-05 15:20:03.443942\n",
      "train to create model(1). 2025-06-05 15:20:06.444022\n",
      "CPU 시간: 1193.251777 초\n",
      "메모리 사용량: 1354672 KB\n"
     ]
    }
   ],
   "source": [
    "#\n",
    "# max_model_limit 정보만큼 반복적으로 매트릭을 생성합니다.\n",
    "#\n",
    "model_version_from = 1\n",
    "model_version_end = 1\n",
    "args = {'test_id': 'P4_5_5_6',\n",
    "        'version': model_version_from,\n",
    "        'write_to_db': True,\n",
    "        'last': last,\n",
    "        'mode2': mode2,\n",
    "        'gen_num': 1,\n",
    "        'round_limit': 1000,\n",
    "        'db_file_name': \"./db/metrics.db\"\n",
    "        }\n",
    "generate_metric(args=args,\n",
    "                from_version=model_version_from,\n",
    "                to_version=model_version_end,\n",
    "                lstm_args=lstm_args)\n"
   ]
  },
  {
   "cell_type": "code",
   "execution_count": 11,
   "metadata": {},
   "outputs": [
    {
     "name": "stdout",
     "output_type": "stream",
     "text": [
      "Test Start: 1~1\n",
      "CPU 시간: 1194.2242 초\n",
      "메모리 사용량: 1354672 KB\n",
      "generate_metric.02 args[\"version\"]=1\n",
      "********************\n",
      "working model_version = 1  2025-06-05 15:23:07.240092\n",
      "********************\n",
      "start to train all models. 2025-06-05 15:23:07.240123\n",
      "14's training. status=start 2025-06-05 15:23:07.240139\n",
      "14's training. status=end 2025-06-05 15:23:56.826434\n",
      "completed to train all models. 2025-06-05 15:23:56.826537\n",
      "train to create model(1). 2025-06-05 15:23:59.826616\n",
      "CPU 시간: 1392.491777 초\n",
      "메모리 사용량: 1450064 KB\n"
     ]
    }
   ],
   "source": [
    "#\n",
    "# max_model_limit 정보만큼 반복적으로 매트릭을 생성합니다.\n",
    "#\n",
    "model_version_from = 1\n",
    "model_version_end = 1\n",
    "args = {'test_id': 'P4_5_5_7',\n",
    "        'version': model_version_from,\n",
    "        'write_to_db': True,\n",
    "        'last': last,\n",
    "        'mode2': mode2,\n",
    "        'gen_num': 1,\n",
    "        'round_limit': 1000,\n",
    "        'db_file_name': \"./db/metrics.db\"\n",
    "        }\n",
    "generate_metric(args=args,\n",
    "                from_version=model_version_from,\n",
    "                to_version=model_version_end,\n",
    "                lstm_args=lstm_args)\n"
   ]
  },
  {
   "cell_type": "code",
   "execution_count": 15,
   "metadata": {},
   "outputs": [
    {
     "name": "stdout",
     "output_type": "stream",
     "text": [
      "Test Start: 1~1\n",
      "CPU 시간: 1463.946845 초\n",
      "메모리 사용량: 1541536 KB\n",
      "generate_metric.02 args[\"version\"]=1\n",
      "********************\n",
      "working model_version = 1  2025-06-05 16:15:26.293556\n",
      "********************\n",
      "start to train all models. 2025-06-05 16:15:26.293586\n",
      "14's training. status=start 2025-06-05 16:15:26.293602\n",
      "14's training. status=end 2025-06-05 16:16:17.046041\n",
      "completed to train all models. 2025-06-05 16:16:17.046356\n",
      "train to create model(1). 2025-06-05 16:16:20.046449\n",
      "CPU 시간: 1662.419588 초\n",
      "메모리 사용량: 1641488 KB\n"
     ]
    }
   ],
   "source": [
    "#\n",
    "# max_model_limit 정보만큼 반복적으로 매트릭을 생성합니다.\n",
    "#\n",
    "test_id='P4_5_5_8'\n",
    "gen_num=1\n",
    "round_limit=1000\n",
    "gen_metric(test_id=test_id, gen_num=gen_num, round_limit=round_limit)"
   ]
  },
  {
   "cell_type": "code",
   "execution_count": null,
   "metadata": {},
   "outputs": [],
   "source": [
    "## end"
   ]
  },
  {
   "cell_type": "code",
   "execution_count": null,
   "metadata": {},
   "outputs": [],
   "source": []
  }
 ],
 "metadata": {
  "kernelspec": {
   "display_name": "finance",
   "language": "python",
   "name": "finance"
  },
  "language_info": {
   "codemirror_mode": {
    "name": "ipython",
    "version": 3
   },
   "file_extension": ".py",
   "mimetype": "text/x-python",
   "name": "python",
   "nbconvert_exporter": "python",
   "pygments_lexer": "ipython3",
   "version": "3.11.2"
  }
 },
 "nbformat": 4,
 "nbformat_minor": 4
}
