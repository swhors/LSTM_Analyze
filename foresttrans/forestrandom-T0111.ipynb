{
 "cells": [
  {
   "cell_type": "markdown",
   "id": "8aa115fc-6828-43bd-8c74-42f54294ac46",
   "metadata": {},
   "source": [
    "## Version T_01_11\n",
    "\n",
    "- set data_lengths to 60"
   ]
  },
  {
   "cell_type": "code",
   "execution_count": null,
   "id": "18e9e390-d6a4-4b9a-8e53-e3d3c96b8023",
   "metadata": {},
   "outputs": [],
   "source": [
    "run_this_0 = False\n",
    "if run_this_0:\n",
    "    #!pip install pandas\n",
    "    !pip install scikit-learn\n",
    "    !pip install tensorflow-cpu\n",
    "    !pip install numpy pandas keras scikit-learn matplotlib scikeras\n",
    "    print(f'completed to install library. [{datetime.now()}]')"
   ]
  },
  {
   "cell_type": "code",
   "execution_count": 1,
   "id": "6cffaff6-c9b9-4062-9c24-8e57b7e0c5c7",
   "metadata": {},
   "outputs": [
    {
     "name": "stdout",
     "output_type": "stream",
     "text": [
      "completed to load library. [2025-06-20 18:42:51.408019]\n"
     ]
    }
   ],
   "source": [
    "import numpy as np\n",
    "import pandas as pd\n",
    "from sklearn.ensemble import RandomForestRegressor\n",
    "import warnings\n",
    "from datetime import datetime\n",
    "from lib.rf_data_util import load_data_by_db, create_randomforest_db, insert_randomforest_db, main_predict\n",
    "from lib.rf_data_util import predict_and_test, list_to_dict, rf_prediction_test, rf_predict, print_predicts\n",
    "from lib.rf_data_util import main, main_process, draw_data_graph\n",
    "\n",
    "version=\"T_01_11\"\n",
    "\n",
    "# 불필요한 경고 메시지를 숨깁니다.\n",
    "warnings.filterwarnings('ignore')\n",
    "\n",
    "print(f'completed to load library. [{datetime.now()}]')"
   ]
  },
  {
   "cell_type": "code",
   "execution_count": 2,
   "id": "34410284-e549-4d2b-95d1-6d5036fe0b0b",
   "metadata": {},
   "outputs": [
    {
     "name": "stdout",
     "output_type": "stream",
     "text": [
      "completed to define draw_graph. [2025-06-20 18:42:52.207444]\n"
     ]
    }
   ],
   "source": [
    "def draw_graph(version, condition, file_name):\n",
    "    \"\"\" draw_graph \"\"\"\n",
    "    data = !echo \"select * from rndforest where version=\\\"{version}\\\"\" | sqlite3 ../db/metrics.db\n",
    "    if len(data) > 0:\n",
    "        data_cols = data[0].split('|')\n",
    "        x_data = [int(i) for i in data_cols[4].split(',')]\n",
    "        y_data = [int(i) for i in data_cols[5].split(',')]\n",
    "        x_label = 'round'\n",
    "        y_label = 'count'\n",
    "        draw_data_graph(title='frequency',\n",
    "                        info=condition,\n",
    "                        x_data=x_data,\n",
    "                        y_data=y_data,\n",
    "                        x_label=x_label,\n",
    "                        y_label=y_label,\n",
    "                        width=0,\n",
    "                        height=0,\n",
    "                        file_name=file_name,\n",
    "                        is_bar=False,\n",
    "                        verb=False)\n",
    "    else:\n",
    "        print('Have no data.')\n",
    "\n",
    "print(f'completed to define draw_graph. [{datetime.now()}]')"
   ]
  },
  {
   "cell_type": "code",
   "execution_count": 3,
   "id": "c950bad9-d5a1-457d-86b1-cd55917050f8",
   "metadata": {},
   "outputs": [
    {
     "name": "stdout",
     "output_type": "stream",
     "text": [
      "completed to create db. [2025-06-20 18:42:53.835357]\n"
     ]
    }
   ],
   "source": [
    "created_db = True\n",
    "if created_db == False:\n",
    "    create_randomforest_db('../db/metrics.db')\n",
    "print(f'completed to create db. [{datetime.now()}]')"
   ]
  },
  {
   "cell_type": "code",
   "execution_count": 4,
   "id": "73dc9221-dd4d-4db5-9c2e-605328dcc9db",
   "metadata": {},
   "outputs": [
    {
     "name": "stdout",
     "output_type": "stream",
     "text": [
      "actual_numbers <class 'list'> [[7, 9, 11, 21, 30, 35], [3, 4, 6, 8, 32, 42], [8, 11, 14, 17, 36, 39], [1, 5, 18, 20, 30, 35], [7, 9, 24, 40, 42, 44], [3, 6, 7, 11, 12, 17], [3, 13, 28, 34, 38, 42], [5, 12, 24, 26, 39, 42], [9, 21, 24, 30, 33, 37], [8, 23, 31, 35, 39, 40], [14, 23, 25, 27, 29, 42]]\n",
      "completed to set env. [2025-06-20 18:42:55.889836]\n"
     ]
    }
   ],
   "source": [
    "verbose = 1\n",
    "\n",
    "# 실제 번호\n",
    "actual_numbers_or, _ = load_data_by_db(db_file_path='../db/metrics.db',\n",
    "                                 last_round=1176,\n",
    "                                 length=10, reverse=True)\n",
    "actual_numbers = [actual_sets[1] for actual_sets in actual_numbers_or]\n",
    "\n",
    "if verbose > 0:\n",
    "    print('actual_numbers', type(actual_numbers), actual_numbers)\n",
    "\n",
    "data_list_cnt = 3\n",
    "data_length = 25\n",
    "results_set=[]\n",
    "\n",
    "print(f'completed to set env. [{datetime.now()}]')"
   ]
  },
  {
   "cell_type": "markdown",
   "id": "93e368b5-53df-4e62-9b59-230ab42af915",
   "metadata": {},
   "source": [
    "**Notice**\n",
    "- the random_state parameter is used to control the randomness of the algorithm, ensuring reproducibility of results. \n",
    "- the n_estimators parameter specifies the number of decision trees in the forest. This parameter is crucial as it directly impacts the model's performance and computational cost."
   ]
  },
  {
   "cell_type": "markdown",
   "id": "f6be9ed5-8ca8-4b39-9c7c-c87bba52d32e",
   "metadata": {},
   "source": [
    "## Generate Prediction"
   ]
  },
  {
   "cell_type": "code",
   "execution_count": 5,
   "id": "293f3d2c-d4e5-441d-8ec1-6c5f511bd253",
   "metadata": {},
   "outputs": [
    {
     "name": "stdout",
     "output_type": "stream",
     "text": [
      "start   [now=2025-06-16 12:18:25.255402]\n",
      "last_round=1175, data_length=100\n"
     ]
    },
    {
     "name": "stderr",
     "output_type": "stream",
     "text": [
      "100%|██████████| 701/701 [01:02<00:00, 11.14it/s]\n"
     ]
    },
    {
     "name": "stdout",
     "output_type": "stream",
     "text": [
      "last_round=1174, data_length=100\n"
     ]
    },
    {
     "name": "stderr",
     "output_type": "stream",
     "text": [
      "100%|██████████| 701/701 [01:05<00:00, 10.64it/s]\n"
     ]
    },
    {
     "name": "stdout",
     "output_type": "stream",
     "text": [
      "last_round=1173, data_length=100\n"
     ]
    },
    {
     "name": "stderr",
     "output_type": "stream",
     "text": [
      "100%|██████████| 701/701 [01:05<00:00, 10.70it/s]\n"
     ]
    },
    {
     "name": "stdout",
     "output_type": "stream",
     "text": [
      "last_round=1172, data_length=100\n"
     ]
    },
    {
     "name": "stderr",
     "output_type": "stream",
     "text": [
      "100%|██████████| 701/701 [01:02<00:00, 11.19it/s]\n"
     ]
    },
    {
     "name": "stdout",
     "output_type": "stream",
     "text": [
      "last_round=1171, data_length=100\n"
     ]
    },
    {
     "name": "stderr",
     "output_type": "stream",
     "text": [
      "100%|██████████| 701/701 [01:03<00:00, 11.09it/s]\n"
     ]
    },
    {
     "name": "stdout",
     "output_type": "stream",
     "text": [
      "last_round=1170, data_length=100\n"
     ]
    },
    {
     "name": "stderr",
     "output_type": "stream",
     "text": [
      "100%|██████████| 701/701 [01:02<00:00, 11.28it/s]\n"
     ]
    },
    {
     "name": "stdout",
     "output_type": "stream",
     "text": [
      "last_round=1169, data_length=100\n"
     ]
    },
    {
     "name": "stderr",
     "output_type": "stream",
     "text": [
      "100%|██████████| 701/701 [01:01<00:00, 11.46it/s]\n"
     ]
    },
    {
     "name": "stdout",
     "output_type": "stream",
     "text": [
      "last_round=1168, data_length=100\n"
     ]
    },
    {
     "name": "stderr",
     "output_type": "stream",
     "text": [
      "100%|██████████| 701/701 [01:02<00:00, 11.18it/s]\n"
     ]
    },
    {
     "name": "stdout",
     "output_type": "stream",
     "text": [
      "last_round=1167, data_length=100\n"
     ]
    },
    {
     "name": "stderr",
     "output_type": "stream",
     "text": [
      "100%|██████████| 701/701 [01:01<00:00, 11.43it/s]\n"
     ]
    },
    {
     "name": "stdout",
     "output_type": "stream",
     "text": [
      "last_round=1166, data_length=100\n"
     ]
    },
    {
     "name": "stderr",
     "output_type": "stream",
     "text": [
      "100%|██████████| 701/701 [01:02<00:00, 11.21it/s]\n"
     ]
    },
    {
     "name": "stdout",
     "output_type": "stream",
     "text": [
      "last_round=1165, data_length=100\n"
     ]
    },
    {
     "name": "stderr",
     "output_type": "stream",
     "text": [
      "100%|██████████| 701/701 [01:02<00:00, 11.19it/s]\n"
     ]
    },
    {
     "name": "stdout",
     "output_type": "stream",
     "text": [
      "last_round=1164, data_length=100\n"
     ]
    },
    {
     "name": "stderr",
     "output_type": "stream",
     "text": [
      "100%|██████████| 701/701 [01:02<00:00, 11.16it/s]\n"
     ]
    },
    {
     "name": "stdout",
     "output_type": "stream",
     "text": [
      "last_round=1163, data_length=100\n"
     ]
    },
    {
     "name": "stderr",
     "output_type": "stream",
     "text": [
      "100%|██████████| 701/701 [01:02<00:00, 11.23it/s]\n"
     ]
    },
    {
     "name": "stdout",
     "output_type": "stream",
     "text": [
      "last_round=1162, data_length=100\n"
     ]
    },
    {
     "name": "stderr",
     "output_type": "stream",
     "text": [
      "100%|██████████| 701/701 [01:02<00:00, 11.20it/s]\n"
     ]
    },
    {
     "name": "stdout",
     "output_type": "stream",
     "text": [
      "last_round=1161, data_length=100\n"
     ]
    },
    {
     "name": "stderr",
     "output_type": "stream",
     "text": [
      "100%|██████████| 701/701 [01:01<00:00, 11.37it/s]\n"
     ]
    },
    {
     "name": "stdout",
     "output_type": "stream",
     "text": [
      "last_round=1160, data_length=100\n"
     ]
    },
    {
     "name": "stderr",
     "output_type": "stream",
     "text": [
      "100%|██████████| 701/701 [01:01<00:00, 11.43it/s]\n"
     ]
    },
    {
     "name": "stdout",
     "output_type": "stream",
     "text": [
      "last_round=1159, data_length=100\n"
     ]
    },
    {
     "name": "stderr",
     "output_type": "stream",
     "text": [
      "100%|██████████| 701/701 [01:01<00:00, 11.34it/s]\n"
     ]
    },
    {
     "name": "stdout",
     "output_type": "stream",
     "text": [
      "last_round=1158, data_length=100\n"
     ]
    },
    {
     "name": "stderr",
     "output_type": "stream",
     "text": [
      "100%|██████████| 701/701 [01:02<00:00, 11.27it/s]\n"
     ]
    },
    {
     "name": "stdout",
     "output_type": "stream",
     "text": [
      "last_round=1157, data_length=100\n"
     ]
    },
    {
     "name": "stderr",
     "output_type": "stream",
     "text": [
      "100%|██████████| 701/701 [01:02<00:00, 11.30it/s]\n"
     ]
    },
    {
     "name": "stdout",
     "output_type": "stream",
     "text": [
      "last_round=1156, data_length=100\n"
     ]
    },
    {
     "name": "stderr",
     "output_type": "stream",
     "text": [
      "100%|██████████| 701/701 [01:02<00:00, 11.30it/s]\n"
     ]
    },
    {
     "name": "stdout",
     "output_type": "stream",
     "text": [
      "last_round=1155, data_length=100\n"
     ]
    },
    {
     "name": "stderr",
     "output_type": "stream",
     "text": [
      "100%|██████████| 701/701 [01:03<00:00, 11.09it/s]\n"
     ]
    },
    {
     "name": "stdout",
     "output_type": "stream",
     "text": [
      "last_round=1154, data_length=100\n"
     ]
    },
    {
     "name": "stderr",
     "output_type": "stream",
     "text": [
      "100%|██████████| 701/701 [01:02<00:00, 11.28it/s]\n"
     ]
    },
    {
     "name": "stdout",
     "output_type": "stream",
     "text": [
      "last_round=1153, data_length=100\n"
     ]
    },
    {
     "name": "stderr",
     "output_type": "stream",
     "text": [
      "100%|██████████| 701/701 [01:02<00:00, 11.28it/s]\n"
     ]
    },
    {
     "name": "stdout",
     "output_type": "stream",
     "text": [
      "last_round=1152, data_length=100\n"
     ]
    },
    {
     "name": "stderr",
     "output_type": "stream",
     "text": [
      "100%|██████████| 701/701 [01:02<00:00, 11.31it/s]\n"
     ]
    },
    {
     "name": "stdout",
     "output_type": "stream",
     "text": [
      "last_round=1151, data_length=100\n"
     ]
    },
    {
     "name": "stderr",
     "output_type": "stream",
     "text": [
      "100%|██████████| 701/701 [01:02<00:00, 11.18it/s]\n"
     ]
    },
    {
     "name": "stdout",
     "output_type": "stream",
     "text": [
      "last_round=1150, data_length=100\n"
     ]
    },
    {
     "name": "stderr",
     "output_type": "stream",
     "text": [
      "100%|██████████| 701/701 [01:02<00:00, 11.14it/s]\n"
     ]
    },
    {
     "name": "stdout",
     "output_type": "stream",
     "text": [
      "last_round=1149, data_length=100\n"
     ]
    },
    {
     "name": "stderr",
     "output_type": "stream",
     "text": [
      "100%|██████████| 701/701 [01:02<00:00, 11.27it/s]\n"
     ]
    },
    {
     "name": "stdout",
     "output_type": "stream",
     "text": [
      "last_round=1148, data_length=100\n"
     ]
    },
    {
     "name": "stderr",
     "output_type": "stream",
     "text": [
      "100%|██████████| 701/701 [01:05<00:00, 10.66it/s]\n"
     ]
    },
    {
     "name": "stdout",
     "output_type": "stream",
     "text": [
      "last_round=1147, data_length=100\n"
     ]
    },
    {
     "name": "stderr",
     "output_type": "stream",
     "text": [
      "100%|██████████| 701/701 [01:03<00:00, 10.99it/s]\n"
     ]
    },
    {
     "name": "stdout",
     "output_type": "stream",
     "text": [
      "last_round=1146, data_length=100\n"
     ]
    },
    {
     "name": "stderr",
     "output_type": "stream",
     "text": [
      "100%|██████████| 701/701 [01:04<00:00, 10.84it/s]\n"
     ]
    },
    {
     "name": "stdout",
     "output_type": "stream",
     "text": [
      "last_round=1145, data_length=100\n"
     ]
    },
    {
     "name": "stderr",
     "output_type": "stream",
     "text": [
      "100%|██████████| 701/701 [01:03<00:00, 11.09it/s]\n"
     ]
    },
    {
     "name": "stdout",
     "output_type": "stream",
     "text": [
      "last_round=1144, data_length=100\n"
     ]
    },
    {
     "name": "stderr",
     "output_type": "stream",
     "text": [
      "100%|██████████| 701/701 [01:04<00:00, 10.95it/s]\n"
     ]
    },
    {
     "name": "stdout",
     "output_type": "stream",
     "text": [
      "last_round=1143, data_length=100\n"
     ]
    },
    {
     "name": "stderr",
     "output_type": "stream",
     "text": [
      "100%|██████████| 701/701 [01:06<00:00, 10.49it/s]\n"
     ]
    },
    {
     "name": "stdout",
     "output_type": "stream",
     "text": [
      "last_round=1142, data_length=100\n"
     ]
    },
    {
     "name": "stderr",
     "output_type": "stream",
     "text": [
      "100%|██████████| 701/701 [01:04<00:00, 10.84it/s]\n"
     ]
    },
    {
     "name": "stdout",
     "output_type": "stream",
     "text": [
      "last_round=1141, data_length=100\n"
     ]
    },
    {
     "name": "stderr",
     "output_type": "stream",
     "text": [
      "100%|██████████| 701/701 [01:04<00:00, 10.86it/s]\n"
     ]
    },
    {
     "name": "stdout",
     "output_type": "stream",
     "text": [
      "last_round=1140, data_length=100\n"
     ]
    },
    {
     "name": "stderr",
     "output_type": "stream",
     "text": [
      "100%|██████████| 701/701 [01:03<00:00, 11.04it/s]\n"
     ]
    },
    {
     "name": "stdout",
     "output_type": "stream",
     "text": [
      "last_round=1139, data_length=100\n"
     ]
    },
    {
     "name": "stderr",
     "output_type": "stream",
     "text": [
      "100%|██████████| 701/701 [01:04<00:00, 10.89it/s]\n"
     ]
    },
    {
     "name": "stdout",
     "output_type": "stream",
     "text": [
      "last_round=1138, data_length=100\n"
     ]
    },
    {
     "name": "stderr",
     "output_type": "stream",
     "text": [
      "100%|██████████| 701/701 [01:03<00:00, 11.04it/s]\n"
     ]
    },
    {
     "name": "stdout",
     "output_type": "stream",
     "text": [
      "last_round=1137, data_length=100\n"
     ]
    },
    {
     "name": "stderr",
     "output_type": "stream",
     "text": [
      "100%|██████████| 701/701 [01:03<00:00, 11.05it/s]\n"
     ]
    },
    {
     "name": "stdout",
     "output_type": "stream",
     "text": [
      "last_round=1136, data_length=100\n"
     ]
    },
    {
     "name": "stderr",
     "output_type": "stream",
     "text": [
      "100%|██████████| 701/701 [01:02<00:00, 11.13it/s]\n"
     ]
    },
    {
     "name": "stdout",
     "output_type": "stream",
     "text": [
      "last_round=1135, data_length=100\n"
     ]
    },
    {
     "name": "stderr",
     "output_type": "stream",
     "text": [
      "100%|██████████| 701/701 [01:03<00:00, 11.00it/s]\n"
     ]
    },
    {
     "name": "stdout",
     "output_type": "stream",
     "text": [
      "last_round=1134, data_length=100\n"
     ]
    },
    {
     "name": "stderr",
     "output_type": "stream",
     "text": [
      "100%|██████████| 701/701 [01:03<00:00, 11.00it/s]\n"
     ]
    },
    {
     "name": "stdout",
     "output_type": "stream",
     "text": [
      "last_round=1133, data_length=100\n"
     ]
    },
    {
     "name": "stderr",
     "output_type": "stream",
     "text": [
      "100%|██████████| 701/701 [01:02<00:00, 11.20it/s]\n"
     ]
    },
    {
     "name": "stdout",
     "output_type": "stream",
     "text": [
      "last_round=1132, data_length=100\n"
     ]
    },
    {
     "name": "stderr",
     "output_type": "stream",
     "text": [
      "100%|██████████| 701/701 [01:02<00:00, 11.19it/s]\n"
     ]
    },
    {
     "name": "stdout",
     "output_type": "stream",
     "text": [
      "last_round=1131, data_length=100\n"
     ]
    },
    {
     "name": "stderr",
     "output_type": "stream",
     "text": [
      "100%|██████████| 701/701 [01:02<00:00, 11.24it/s]\n"
     ]
    },
    {
     "name": "stdout",
     "output_type": "stream",
     "text": [
      "last_round=1130, data_length=100\n"
     ]
    },
    {
     "name": "stderr",
     "output_type": "stream",
     "text": [
      "100%|██████████| 701/701 [01:02<00:00, 11.20it/s]\n"
     ]
    },
    {
     "name": "stdout",
     "output_type": "stream",
     "text": [
      "last_round=1129, data_length=100\n"
     ]
    },
    {
     "name": "stderr",
     "output_type": "stream",
     "text": [
      "100%|██████████| 701/701 [01:04<00:00, 10.81it/s]\n"
     ]
    },
    {
     "name": "stdout",
     "output_type": "stream",
     "text": [
      "last_round=1128, data_length=100\n"
     ]
    },
    {
     "name": "stderr",
     "output_type": "stream",
     "text": [
      "100%|██████████| 701/701 [01:06<00:00, 10.59it/s]\n"
     ]
    },
    {
     "name": "stdout",
     "output_type": "stream",
     "text": [
      "last_round=1127, data_length=100\n"
     ]
    },
    {
     "name": "stderr",
     "output_type": "stream",
     "text": [
      "100%|██████████| 701/701 [01:03<00:00, 10.97it/s]\n"
     ]
    },
    {
     "name": "stdout",
     "output_type": "stream",
     "text": [
      "last_round=1126, data_length=100\n"
     ]
    },
    {
     "name": "stderr",
     "output_type": "stream",
     "text": [
      "100%|██████████| 701/701 [01:02<00:00, 11.30it/s]\n"
     ]
    },
    {
     "name": "stdout",
     "output_type": "stream",
     "text": [
      "last_round=1125, data_length=100\n"
     ]
    },
    {
     "name": "stderr",
     "output_type": "stream",
     "text": [
      "100%|██████████| 701/701 [01:02<00:00, 11.22it/s]\n"
     ]
    },
    {
     "name": "stdout",
     "output_type": "stream",
     "text": [
      "last_round=1124, data_length=100\n"
     ]
    },
    {
     "name": "stderr",
     "output_type": "stream",
     "text": [
      "100%|██████████| 701/701 [01:02<00:00, 11.22it/s]\n"
     ]
    },
    {
     "name": "stdout",
     "output_type": "stream",
     "text": [
      "last_round=1123, data_length=100\n"
     ]
    },
    {
     "name": "stderr",
     "output_type": "stream",
     "text": [
      "100%|██████████| 701/701 [01:02<00:00, 11.30it/s]\n"
     ]
    },
    {
     "name": "stdout",
     "output_type": "stream",
     "text": [
      "last_round=1122, data_length=100\n"
     ]
    },
    {
     "name": "stderr",
     "output_type": "stream",
     "text": [
      "100%|██████████| 701/701 [01:02<00:00, 11.20it/s]\n"
     ]
    },
    {
     "name": "stdout",
     "output_type": "stream",
     "text": [
      "last_round=1121, data_length=100\n"
     ]
    },
    {
     "name": "stderr",
     "output_type": "stream",
     "text": [
      "100%|██████████| 701/701 [01:03<00:00, 11.02it/s]\n"
     ]
    },
    {
     "name": "stdout",
     "output_type": "stream",
     "text": [
      "last_round=1120, data_length=100\n"
     ]
    },
    {
     "name": "stderr",
     "output_type": "stream",
     "text": [
      "100%|██████████| 701/701 [01:02<00:00, 11.20it/s]\n"
     ]
    },
    {
     "name": "stdout",
     "output_type": "stream",
     "text": [
      "last_round=1119, data_length=100\n"
     ]
    },
    {
     "name": "stderr",
     "output_type": "stream",
     "text": [
      "100%|██████████| 701/701 [01:03<00:00, 11.10it/s]\n"
     ]
    },
    {
     "name": "stdout",
     "output_type": "stream",
     "text": [
      "last_round=1118, data_length=100\n"
     ]
    },
    {
     "name": "stderr",
     "output_type": "stream",
     "text": [
      "100%|██████████| 701/701 [01:02<00:00, 11.23it/s]\n"
     ]
    },
    {
     "name": "stdout",
     "output_type": "stream",
     "text": [
      "last_round=1117, data_length=100\n"
     ]
    },
    {
     "name": "stderr",
     "output_type": "stream",
     "text": [
      "100%|██████████| 701/701 [01:02<00:00, 11.27it/s]\n"
     ]
    },
    {
     "name": "stdout",
     "output_type": "stream",
     "text": [
      "last_round=1116, data_length=100\n"
     ]
    },
    {
     "name": "stderr",
     "output_type": "stream",
     "text": [
      "100%|██████████| 701/701 [01:01<00:00, 11.35it/s]\n"
     ]
    },
    {
     "name": "stdout",
     "output_type": "stream",
     "text": [
      "last_round=1115, data_length=100\n"
     ]
    },
    {
     "name": "stderr",
     "output_type": "stream",
     "text": [
      "100%|██████████| 701/701 [01:02<00:00, 11.21it/s]\n"
     ]
    },
    {
     "name": "stdout",
     "output_type": "stream",
     "text": [
      "last_round=1114, data_length=100\n"
     ]
    },
    {
     "name": "stderr",
     "output_type": "stream",
     "text": [
      "100%|██████████| 701/701 [01:04<00:00, 10.91it/s]\n"
     ]
    },
    {
     "name": "stdout",
     "output_type": "stream",
     "text": [
      "last_round=1113, data_length=100\n"
     ]
    },
    {
     "name": "stderr",
     "output_type": "stream",
     "text": [
      "100%|██████████| 701/701 [01:01<00:00, 11.38it/s]\n"
     ]
    },
    {
     "name": "stdout",
     "output_type": "stream",
     "text": [
      "last_round=1112, data_length=100\n"
     ]
    },
    {
     "name": "stderr",
     "output_type": "stream",
     "text": [
      "100%|██████████| 701/701 [01:03<00:00, 11.11it/s]\n"
     ]
    },
    {
     "name": "stdout",
     "output_type": "stream",
     "text": [
      "last_round=1111, data_length=100\n"
     ]
    },
    {
     "name": "stderr",
     "output_type": "stream",
     "text": [
      "100%|██████████| 701/701 [01:01<00:00, 11.34it/s]\n"
     ]
    },
    {
     "name": "stdout",
     "output_type": "stream",
     "text": [
      "last_round=1110, data_length=100\n"
     ]
    },
    {
     "name": "stderr",
     "output_type": "stream",
     "text": [
      "100%|██████████| 701/701 [01:03<00:00, 11.11it/s]\n"
     ]
    },
    {
     "name": "stdout",
     "output_type": "stream",
     "text": [
      "last_round=1109, data_length=100\n"
     ]
    },
    {
     "name": "stderr",
     "output_type": "stream",
     "text": [
      "100%|██████████| 701/701 [01:01<00:00, 11.31it/s]\n"
     ]
    },
    {
     "name": "stdout",
     "output_type": "stream",
     "text": [
      "last_round=1108, data_length=100\n"
     ]
    },
    {
     "name": "stderr",
     "output_type": "stream",
     "text": [
      "100%|██████████| 701/701 [01:01<00:00, 11.32it/s]\n"
     ]
    },
    {
     "name": "stdout",
     "output_type": "stream",
     "text": [
      "last_round=1107, data_length=100\n"
     ]
    },
    {
     "name": "stderr",
     "output_type": "stream",
     "text": [
      "100%|██████████| 701/701 [01:00<00:00, 11.51it/s]\n"
     ]
    },
    {
     "name": "stdout",
     "output_type": "stream",
     "text": [
      "last_round=1106, data_length=100\n"
     ]
    },
    {
     "name": "stderr",
     "output_type": "stream",
     "text": [
      "100%|██████████| 701/701 [01:01<00:00, 11.36it/s]\n"
     ]
    },
    {
     "name": "stdout",
     "output_type": "stream",
     "text": [
      "last_round=1105, data_length=100\n"
     ]
    },
    {
     "name": "stderr",
     "output_type": "stream",
     "text": [
      "100%|██████████| 701/701 [01:01<00:00, 11.38it/s]\n"
     ]
    },
    {
     "name": "stdout",
     "output_type": "stream",
     "text": [
      "last_round=1104, data_length=100\n"
     ]
    },
    {
     "name": "stderr",
     "output_type": "stream",
     "text": [
      "100%|██████████| 701/701 [00:59<00:00, 11.76it/s]\n"
     ]
    },
    {
     "name": "stdout",
     "output_type": "stream",
     "text": [
      "last_round=1103, data_length=100\n"
     ]
    },
    {
     "name": "stderr",
     "output_type": "stream",
     "text": [
      "100%|██████████| 701/701 [00:59<00:00, 11.73it/s]\n"
     ]
    },
    {
     "name": "stdout",
     "output_type": "stream",
     "text": [
      "last_round=1102, data_length=100\n"
     ]
    },
    {
     "name": "stderr",
     "output_type": "stream",
     "text": [
      "100%|██████████| 701/701 [01:02<00:00, 11.25it/s]\n"
     ]
    },
    {
     "name": "stdout",
     "output_type": "stream",
     "text": [
      "last_round=1101, data_length=100\n"
     ]
    },
    {
     "name": "stderr",
     "output_type": "stream",
     "text": [
      "100%|██████████| 701/701 [01:03<00:00, 11.07it/s]\n"
     ]
    },
    {
     "name": "stdout",
     "output_type": "stream",
     "text": [
      "last_round=1100, data_length=100\n"
     ]
    },
    {
     "name": "stderr",
     "output_type": "stream",
     "text": [
      "100%|██████████| 701/701 [01:03<00:00, 11.01it/s]\n"
     ]
    },
    {
     "name": "stdout",
     "output_type": "stream",
     "text": [
      "last_round=1099, data_length=100\n"
     ]
    },
    {
     "name": "stderr",
     "output_type": "stream",
     "text": [
      "100%|██████████| 701/701 [01:03<00:00, 11.06it/s]\n"
     ]
    },
    {
     "name": "stdout",
     "output_type": "stream",
     "text": [
      "last_round=1098, data_length=100\n"
     ]
    },
    {
     "name": "stderr",
     "output_type": "stream",
     "text": [
      "100%|██████████| 701/701 [01:02<00:00, 11.21it/s]\n"
     ]
    },
    {
     "name": "stdout",
     "output_type": "stream",
     "text": [
      "last_round=1097, data_length=100\n"
     ]
    },
    {
     "name": "stderr",
     "output_type": "stream",
     "text": [
      "100%|██████████| 701/701 [01:02<00:00, 11.17it/s]\n"
     ]
    },
    {
     "name": "stdout",
     "output_type": "stream",
     "text": [
      "last_round=1096, data_length=100\n"
     ]
    },
    {
     "name": "stderr",
     "output_type": "stream",
     "text": [
      "100%|██████████| 701/701 [01:02<00:00, 11.29it/s]\n"
     ]
    },
    {
     "name": "stdout",
     "output_type": "stream",
     "text": [
      "last_round=1095, data_length=100\n"
     ]
    },
    {
     "name": "stderr",
     "output_type": "stream",
     "text": [
      "100%|██████████| 701/701 [01:01<00:00, 11.37it/s]\n"
     ]
    },
    {
     "name": "stdout",
     "output_type": "stream",
     "text": [
      "last_round=1094, data_length=100\n"
     ]
    },
    {
     "name": "stderr",
     "output_type": "stream",
     "text": [
      "100%|██████████| 701/701 [01:02<00:00, 11.22it/s]\n"
     ]
    },
    {
     "name": "stdout",
     "output_type": "stream",
     "text": [
      "last_round=1093, data_length=100\n"
     ]
    },
    {
     "name": "stderr",
     "output_type": "stream",
     "text": [
      "100%|██████████| 701/701 [01:02<00:00, 11.22it/s]\n"
     ]
    },
    {
     "name": "stdout",
     "output_type": "stream",
     "text": [
      "last_round=1092, data_length=100\n"
     ]
    },
    {
     "name": "stderr",
     "output_type": "stream",
     "text": [
      "100%|██████████| 701/701 [01:02<00:00, 11.22it/s]\n"
     ]
    },
    {
     "name": "stdout",
     "output_type": "stream",
     "text": [
      "last_round=1091, data_length=100\n"
     ]
    },
    {
     "name": "stderr",
     "output_type": "stream",
     "text": [
      "100%|██████████| 701/701 [01:02<00:00, 11.16it/s]\n"
     ]
    },
    {
     "name": "stdout",
     "output_type": "stream",
     "text": [
      "last_round=1090, data_length=100\n"
     ]
    },
    {
     "name": "stderr",
     "output_type": "stream",
     "text": [
      "100%|██████████| 701/701 [01:02<00:00, 11.25it/s]\n"
     ]
    },
    {
     "name": "stdout",
     "output_type": "stream",
     "text": [
      "last_round=1089, data_length=100\n"
     ]
    },
    {
     "name": "stderr",
     "output_type": "stream",
     "text": [
      "100%|██████████| 701/701 [01:04<00:00, 10.81it/s]\n"
     ]
    },
    {
     "name": "stdout",
     "output_type": "stream",
     "text": [
      "last_round=1088, data_length=100\n"
     ]
    },
    {
     "name": "stderr",
     "output_type": "stream",
     "text": [
      "100%|██████████| 701/701 [01:04<00:00, 10.82it/s]\n"
     ]
    },
    {
     "name": "stdout",
     "output_type": "stream",
     "text": [
      "last_round=1087, data_length=100\n"
     ]
    },
    {
     "name": "stderr",
     "output_type": "stream",
     "text": [
      "100%|██████████| 701/701 [01:01<00:00, 11.35it/s]\n"
     ]
    },
    {
     "name": "stdout",
     "output_type": "stream",
     "text": [
      "last_round=1086, data_length=100\n"
     ]
    },
    {
     "name": "stderr",
     "output_type": "stream",
     "text": [
      "100%|██████████| 701/701 [01:02<00:00, 11.21it/s]\n"
     ]
    },
    {
     "name": "stdout",
     "output_type": "stream",
     "text": [
      "last_round=1085, data_length=100\n"
     ]
    },
    {
     "name": "stderr",
     "output_type": "stream",
     "text": [
      "100%|██████████| 701/701 [01:02<00:00, 11.16it/s]\n"
     ]
    },
    {
     "name": "stdout",
     "output_type": "stream",
     "text": [
      "last_round=1084, data_length=100\n"
     ]
    },
    {
     "name": "stderr",
     "output_type": "stream",
     "text": [
      "100%|██████████| 701/701 [01:02<00:00, 11.30it/s]\n"
     ]
    },
    {
     "name": "stdout",
     "output_type": "stream",
     "text": [
      "last_round=1083, data_length=100\n"
     ]
    },
    {
     "name": "stderr",
     "output_type": "stream",
     "text": [
      "100%|██████████| 701/701 [01:03<00:00, 11.09it/s]\n"
     ]
    },
    {
     "name": "stdout",
     "output_type": "stream",
     "text": [
      "last_round=1082, data_length=100\n"
     ]
    },
    {
     "name": "stderr",
     "output_type": "stream",
     "text": [
      "100%|██████████| 701/701 [01:02<00:00, 11.27it/s]\n"
     ]
    },
    {
     "name": "stdout",
     "output_type": "stream",
     "text": [
      "last_round=1081, data_length=100\n"
     ]
    },
    {
     "name": "stderr",
     "output_type": "stream",
     "text": [
      "100%|██████████| 701/701 [01:02<00:00, 11.27it/s]\n"
     ]
    },
    {
     "name": "stdout",
     "output_type": "stream",
     "text": [
      "last_round=1080, data_length=100\n"
     ]
    },
    {
     "name": "stderr",
     "output_type": "stream",
     "text": [
      "100%|██████████| 701/701 [01:03<00:00, 11.05it/s]\n"
     ]
    },
    {
     "name": "stdout",
     "output_type": "stream",
     "text": [
      "last_round=1079, data_length=100\n"
     ]
    },
    {
     "name": "stderr",
     "output_type": "stream",
     "text": [
      "100%|██████████| 701/701 [01:03<00:00, 11.09it/s]\n"
     ]
    },
    {
     "name": "stdout",
     "output_type": "stream",
     "text": [
      "last_round=1078, data_length=100\n"
     ]
    },
    {
     "name": "stderr",
     "output_type": "stream",
     "text": [
      "100%|██████████| 701/701 [01:03<00:00, 11.04it/s]\n"
     ]
    },
    {
     "name": "stdout",
     "output_type": "stream",
     "text": [
      "last_round=1077, data_length=100\n"
     ]
    },
    {
     "name": "stderr",
     "output_type": "stream",
     "text": [
      "100%|██████████| 701/701 [01:03<00:00, 11.00it/s]\n"
     ]
    },
    {
     "name": "stdout",
     "output_type": "stream",
     "text": [
      "last_round=1076, data_length=100\n"
     ]
    },
    {
     "name": "stderr",
     "output_type": "stream",
     "text": [
      "100%|██████████| 701/701 [01:02<00:00, 11.16it/s]\n"
     ]
    },
    {
     "name": "stdout",
     "output_type": "stream",
     "text": [
      "last_round=1075, data_length=100\n"
     ]
    },
    {
     "name": "stderr",
     "output_type": "stream",
     "text": [
      "100%|██████████| 701/701 [01:02<00:00, 11.30it/s]\n"
     ]
    },
    {
     "name": "stdout",
     "output_type": "stream",
     "text": [
      "last_round=1074, data_length=100\n"
     ]
    },
    {
     "name": "stderr",
     "output_type": "stream",
     "text": [
      "100%|██████████| 701/701 [01:01<00:00, 11.31it/s]\n"
     ]
    },
    {
     "name": "stdout",
     "output_type": "stream",
     "text": [
      "last_round=1073, data_length=100\n"
     ]
    },
    {
     "name": "stderr",
     "output_type": "stream",
     "text": [
      "100%|██████████| 701/701 [01:01<00:00, 11.38it/s]\n"
     ]
    },
    {
     "name": "stdout",
     "output_type": "stream",
     "text": [
      "last_round=1072, data_length=100\n"
     ]
    },
    {
     "name": "stderr",
     "output_type": "stream",
     "text": [
      "100%|██████████| 701/701 [01:01<00:00, 11.37it/s]\n"
     ]
    },
    {
     "name": "stdout",
     "output_type": "stream",
     "text": [
      "last_round=1071, data_length=100\n"
     ]
    },
    {
     "name": "stderr",
     "output_type": "stream",
     "text": [
      "100%|██████████| 701/701 [01:01<00:00, 11.40it/s]\n"
     ]
    },
    {
     "name": "stdout",
     "output_type": "stream",
     "text": [
      "last_round=1070, data_length=100\n"
     ]
    },
    {
     "name": "stderr",
     "output_type": "stream",
     "text": [
      "100%|██████████| 701/701 [01:01<00:00, 11.39it/s]\n"
     ]
    },
    {
     "name": "stdout",
     "output_type": "stream",
     "text": [
      "last_round=1069, data_length=100\n"
     ]
    },
    {
     "name": "stderr",
     "output_type": "stream",
     "text": [
      "100%|██████████| 701/701 [01:01<00:00, 11.39it/s]\n"
     ]
    },
    {
     "name": "stdout",
     "output_type": "stream",
     "text": [
      "last_round=1068, data_length=100\n"
     ]
    },
    {
     "name": "stderr",
     "output_type": "stream",
     "text": [
      "100%|██████████| 701/701 [01:01<00:00, 11.45it/s]\n"
     ]
    },
    {
     "name": "stdout",
     "output_type": "stream",
     "text": [
      "last_round=1067, data_length=100\n"
     ]
    },
    {
     "name": "stderr",
     "output_type": "stream",
     "text": [
      "100%|██████████| 701/701 [01:00<00:00, 11.53it/s]\n"
     ]
    },
    {
     "name": "stdout",
     "output_type": "stream",
     "text": [
      "last_round=1066, data_length=100\n"
     ]
    },
    {
     "name": "stderr",
     "output_type": "stream",
     "text": [
      "100%|██████████| 701/701 [01:01<00:00, 11.42it/s]\n"
     ]
    },
    {
     "name": "stdout",
     "output_type": "stream",
     "text": [
      "last_round=1065, data_length=100\n"
     ]
    },
    {
     "name": "stderr",
     "output_type": "stream",
     "text": [
      "100%|██████████| 701/701 [01:01<00:00, 11.33it/s]\n"
     ]
    },
    {
     "name": "stdout",
     "output_type": "stream",
     "text": [
      "last_round=1064, data_length=100\n"
     ]
    },
    {
     "name": "stderr",
     "output_type": "stream",
     "text": [
      "100%|██████████| 701/701 [01:02<00:00, 11.24it/s]\n"
     ]
    },
    {
     "name": "stdout",
     "output_type": "stream",
     "text": [
      "last_round=1063, data_length=100\n"
     ]
    },
    {
     "name": "stderr",
     "output_type": "stream",
     "text": [
      "100%|██████████| 701/701 [01:02<00:00, 11.18it/s]\n"
     ]
    },
    {
     "name": "stdout",
     "output_type": "stream",
     "text": [
      "last_round=1062, data_length=100\n"
     ]
    },
    {
     "name": "stderr",
     "output_type": "stream",
     "text": [
      "100%|██████████| 701/701 [01:02<00:00, 11.19it/s]\n"
     ]
    },
    {
     "name": "stdout",
     "output_type": "stream",
     "text": [
      "last_round=1061, data_length=100\n"
     ]
    },
    {
     "name": "stderr",
     "output_type": "stream",
     "text": [
      "100%|██████████| 701/701 [01:02<00:00, 11.22it/s]\n"
     ]
    },
    {
     "name": "stdout",
     "output_type": "stream",
     "text": [
      "last_round=1060, data_length=100\n"
     ]
    },
    {
     "name": "stderr",
     "output_type": "stream",
     "text": [
      "100%|██████████| 701/701 [01:03<00:00, 11.09it/s]\n"
     ]
    },
    {
     "name": "stdout",
     "output_type": "stream",
     "text": [
      "last_round=1059, data_length=100\n"
     ]
    },
    {
     "name": "stderr",
     "output_type": "stream",
     "text": [
      "100%|██████████| 701/701 [01:01<00:00, 11.31it/s]\n"
     ]
    },
    {
     "name": "stdout",
     "output_type": "stream",
     "text": [
      "last_round=1058, data_length=100\n"
     ]
    },
    {
     "name": "stderr",
     "output_type": "stream",
     "text": [
      "100%|██████████| 701/701 [01:03<00:00, 11.01it/s]\n"
     ]
    },
    {
     "name": "stdout",
     "output_type": "stream",
     "text": [
      "last_round=1057, data_length=100\n"
     ]
    },
    {
     "name": "stderr",
     "output_type": "stream",
     "text": [
      "100%|██████████| 701/701 [01:02<00:00, 11.23it/s]\n"
     ]
    },
    {
     "name": "stdout",
     "output_type": "stream",
     "text": [
      "last_round=1056, data_length=100\n"
     ]
    },
    {
     "name": "stderr",
     "output_type": "stream",
     "text": [
      "100%|██████████| 701/701 [01:02<00:00, 11.14it/s]\n"
     ]
    },
    {
     "name": "stdout",
     "output_type": "stream",
     "text": [
      "last_round=1055, data_length=100\n"
     ]
    },
    {
     "name": "stderr",
     "output_type": "stream",
     "text": [
      "100%|██████████| 701/701 [01:06<00:00, 10.52it/s]\n"
     ]
    },
    {
     "name": "stdout",
     "output_type": "stream",
     "text": [
      "last_round=1054, data_length=100\n"
     ]
    },
    {
     "name": "stderr",
     "output_type": "stream",
     "text": [
      "100%|██████████| 701/701 [01:04<00:00, 10.84it/s]\n"
     ]
    },
    {
     "name": "stdout",
     "output_type": "stream",
     "text": [
      "last_round=1053, data_length=100\n"
     ]
    },
    {
     "name": "stderr",
     "output_type": "stream",
     "text": [
      "100%|██████████| 701/701 [01:04<00:00, 10.94it/s]\n"
     ]
    },
    {
     "name": "stdout",
     "output_type": "stream",
     "text": [
      "last_round=1052, data_length=100\n"
     ]
    },
    {
     "name": "stderr",
     "output_type": "stream",
     "text": [
      "100%|██████████| 701/701 [01:03<00:00, 11.02it/s]\n"
     ]
    },
    {
     "name": "stdout",
     "output_type": "stream",
     "text": [
      "last_round=1051, data_length=100\n"
     ]
    },
    {
     "name": "stderr",
     "output_type": "stream",
     "text": [
      "100%|██████████| 701/701 [01:03<00:00, 11.00it/s]\n"
     ]
    },
    {
     "name": "stdout",
     "output_type": "stream",
     "text": [
      "last_round=1050, data_length=100\n"
     ]
    },
    {
     "name": "stderr",
     "output_type": "stream",
     "text": [
      "100%|██████████| 701/701 [01:02<00:00, 11.19it/s]\n"
     ]
    },
    {
     "name": "stdout",
     "output_type": "stream",
     "text": [
      "last_round=1049, data_length=100\n"
     ]
    },
    {
     "name": "stderr",
     "output_type": "stream",
     "text": [
      "100%|██████████| 701/701 [01:03<00:00, 11.01it/s]\n"
     ]
    },
    {
     "name": "stdout",
     "output_type": "stream",
     "text": [
      "last_round=1048, data_length=100\n"
     ]
    },
    {
     "name": "stderr",
     "output_type": "stream",
     "text": [
      "100%|██████████| 701/701 [01:03<00:00, 11.03it/s]\n"
     ]
    },
    {
     "name": "stdout",
     "output_type": "stream",
     "text": [
      "last_round=1047, data_length=100\n"
     ]
    },
    {
     "name": "stderr",
     "output_type": "stream",
     "text": [
      "100%|██████████| 701/701 [01:02<00:00, 11.14it/s]\n"
     ]
    },
    {
     "name": "stdout",
     "output_type": "stream",
     "text": [
      "last_round=1046, data_length=100\n"
     ]
    },
    {
     "name": "stderr",
     "output_type": "stream",
     "text": [
      "100%|██████████| 701/701 [01:02<00:00, 11.14it/s]\n"
     ]
    },
    {
     "name": "stdout",
     "output_type": "stream",
     "text": [
      "last_round=1045, data_length=100\n"
     ]
    },
    {
     "name": "stderr",
     "output_type": "stream",
     "text": [
      "100%|██████████| 701/701 [01:03<00:00, 11.11it/s]\n"
     ]
    },
    {
     "name": "stdout",
     "output_type": "stream",
     "text": [
      "last_round=1044, data_length=100\n"
     ]
    },
    {
     "name": "stderr",
     "output_type": "stream",
     "text": [
      "100%|██████████| 701/701 [01:03<00:00, 11.08it/s]\n"
     ]
    },
    {
     "name": "stdout",
     "output_type": "stream",
     "text": [
      "last_round=1043, data_length=100\n"
     ]
    },
    {
     "name": "stderr",
     "output_type": "stream",
     "text": [
      "100%|██████████| 701/701 [01:02<00:00, 11.21it/s]\n"
     ]
    },
    {
     "name": "stdout",
     "output_type": "stream",
     "text": [
      "last_round=1042, data_length=100\n"
     ]
    },
    {
     "name": "stderr",
     "output_type": "stream",
     "text": [
      "100%|██████████| 701/701 [01:02<00:00, 11.16it/s]\n"
     ]
    },
    {
     "name": "stdout",
     "output_type": "stream",
     "text": [
      "last_round=1041, data_length=100\n"
     ]
    },
    {
     "name": "stderr",
     "output_type": "stream",
     "text": [
      "100%|██████████| 701/701 [01:02<00:00, 11.18it/s]\n"
     ]
    },
    {
     "name": "stdout",
     "output_type": "stream",
     "text": [
      "last_round=1040, data_length=100\n"
     ]
    },
    {
     "name": "stderr",
     "output_type": "stream",
     "text": [
      "100%|██████████| 701/701 [01:02<00:00, 11.21it/s]\n"
     ]
    },
    {
     "name": "stdout",
     "output_type": "stream",
     "text": [
      "last_round=1039, data_length=100\n"
     ]
    },
    {
     "name": "stderr",
     "output_type": "stream",
     "text": [
      "100%|██████████| 701/701 [01:03<00:00, 11.10it/s]\n"
     ]
    },
    {
     "name": "stdout",
     "output_type": "stream",
     "text": [
      "last_round=1038, data_length=100\n"
     ]
    },
    {
     "name": "stderr",
     "output_type": "stream",
     "text": [
      "100%|██████████| 701/701 [01:03<00:00, 11.07it/s]\n"
     ]
    },
    {
     "name": "stdout",
     "output_type": "stream",
     "text": [
      "last_round=1037, data_length=100\n"
     ]
    },
    {
     "name": "stderr",
     "output_type": "stream",
     "text": [
      "100%|██████████| 701/701 [01:02<00:00, 11.14it/s]\n"
     ]
    },
    {
     "name": "stdout",
     "output_type": "stream",
     "text": [
      "last_round=1036, data_length=100\n"
     ]
    },
    {
     "name": "stderr",
     "output_type": "stream",
     "text": [
      "100%|██████████| 701/701 [01:03<00:00, 11.05it/s]\n"
     ]
    },
    {
     "name": "stdout",
     "output_type": "stream",
     "text": [
      "last_round=1035, data_length=100\n"
     ]
    },
    {
     "name": "stderr",
     "output_type": "stream",
     "text": [
      "100%|██████████| 701/701 [01:03<00:00, 10.99it/s]\n"
     ]
    },
    {
     "name": "stdout",
     "output_type": "stream",
     "text": [
      "last_round=1034, data_length=100\n"
     ]
    },
    {
     "name": "stderr",
     "output_type": "stream",
     "text": [
      "100%|██████████| 701/701 [01:03<00:00, 11.03it/s]\n"
     ]
    },
    {
     "name": "stdout",
     "output_type": "stream",
     "text": [
      "last_round=1033, data_length=100\n"
     ]
    },
    {
     "name": "stderr",
     "output_type": "stream",
     "text": [
      "100%|██████████| 701/701 [01:04<00:00, 10.84it/s]\n"
     ]
    },
    {
     "name": "stdout",
     "output_type": "stream",
     "text": [
      "last_round=1032, data_length=100\n"
     ]
    },
    {
     "name": "stderr",
     "output_type": "stream",
     "text": [
      "100%|██████████| 701/701 [01:04<00:00, 10.82it/s]\n"
     ]
    },
    {
     "name": "stdout",
     "output_type": "stream",
     "text": [
      "last_round=1031, data_length=100\n"
     ]
    },
    {
     "name": "stderr",
     "output_type": "stream",
     "text": [
      "100%|██████████| 701/701 [01:03<00:00, 11.04it/s]\n"
     ]
    },
    {
     "name": "stdout",
     "output_type": "stream",
     "text": [
      "last_round=1030, data_length=100\n"
     ]
    },
    {
     "name": "stderr",
     "output_type": "stream",
     "text": [
      "100%|██████████| 701/701 [01:03<00:00, 11.01it/s]\n"
     ]
    },
    {
     "name": "stdout",
     "output_type": "stream",
     "text": [
      "last_round=1029, data_length=100\n"
     ]
    },
    {
     "name": "stderr",
     "output_type": "stream",
     "text": [
      "100%|██████████| 701/701 [01:03<00:00, 11.09it/s]\n"
     ]
    },
    {
     "name": "stdout",
     "output_type": "stream",
     "text": [
      "last_round=1028, data_length=100\n"
     ]
    },
    {
     "name": "stderr",
     "output_type": "stream",
     "text": [
      "100%|██████████| 701/701 [01:03<00:00, 11.10it/s]\n"
     ]
    },
    {
     "name": "stdout",
     "output_type": "stream",
     "text": [
      "last_round=1027, data_length=100\n"
     ]
    },
    {
     "name": "stderr",
     "output_type": "stream",
     "text": [
      "100%|██████████| 701/701 [01:02<00:00, 11.17it/s]\n"
     ]
    },
    {
     "name": "stdout",
     "output_type": "stream",
     "text": [
      "last_round=1026, data_length=100\n"
     ]
    },
    {
     "name": "stderr",
     "output_type": "stream",
     "text": [
      "100%|██████████| 701/701 [01:03<00:00, 11.07it/s]\n"
     ]
    },
    {
     "name": "stdout",
     "output_type": "stream",
     "text": [
      "last_round=1025, data_length=100\n"
     ]
    },
    {
     "name": "stderr",
     "output_type": "stream",
     "text": [
      "100%|██████████| 701/701 [01:02<00:00, 11.26it/s]\n"
     ]
    },
    {
     "name": "stdout",
     "output_type": "stream",
     "text": [
      "last_round=1024, data_length=100\n"
     ]
    },
    {
     "name": "stderr",
     "output_type": "stream",
     "text": [
      "100%|██████████| 701/701 [01:01<00:00, 11.32it/s]\n"
     ]
    },
    {
     "name": "stdout",
     "output_type": "stream",
     "text": [
      "last_round=1023, data_length=100\n"
     ]
    },
    {
     "name": "stderr",
     "output_type": "stream",
     "text": [
      "100%|██████████| 701/701 [01:00<00:00, 11.56it/s]\n"
     ]
    },
    {
     "name": "stdout",
     "output_type": "stream",
     "text": [
      "last_round=1022, data_length=100\n"
     ]
    },
    {
     "name": "stderr",
     "output_type": "stream",
     "text": [
      "100%|██████████| 701/701 [01:01<00:00, 11.49it/s]\n"
     ]
    },
    {
     "name": "stdout",
     "output_type": "stream",
     "text": [
      "last_round=1021, data_length=100\n"
     ]
    },
    {
     "name": "stderr",
     "output_type": "stream",
     "text": [
      "100%|██████████| 701/701 [01:00<00:00, 11.61it/s]\n"
     ]
    },
    {
     "name": "stdout",
     "output_type": "stream",
     "text": [
      "last_round=1020, data_length=100\n"
     ]
    },
    {
     "name": "stderr",
     "output_type": "stream",
     "text": [
      "100%|██████████| 701/701 [01:03<00:00, 11.12it/s]\n"
     ]
    },
    {
     "name": "stdout",
     "output_type": "stream",
     "text": [
      "last_round=1019, data_length=100\n"
     ]
    },
    {
     "name": "stderr",
     "output_type": "stream",
     "text": [
      "100%|██████████| 701/701 [01:03<00:00, 11.13it/s]\n"
     ]
    },
    {
     "name": "stdout",
     "output_type": "stream",
     "text": [
      "last_round=1018, data_length=100\n"
     ]
    },
    {
     "name": "stderr",
     "output_type": "stream",
     "text": [
      "100%|██████████| 701/701 [01:02<00:00, 11.20it/s]\n"
     ]
    },
    {
     "name": "stdout",
     "output_type": "stream",
     "text": [
      "last_round=1017, data_length=100\n"
     ]
    },
    {
     "name": "stderr",
     "output_type": "stream",
     "text": [
      "100%|██████████| 701/701 [01:00<00:00, 11.56it/s]\n"
     ]
    },
    {
     "name": "stdout",
     "output_type": "stream",
     "text": [
      "last_round=1016, data_length=100\n"
     ]
    },
    {
     "name": "stderr",
     "output_type": "stream",
     "text": [
      "100%|██████████| 701/701 [01:03<00:00, 11.04it/s]\n"
     ]
    },
    {
     "name": "stdout",
     "output_type": "stream",
     "text": [
      "last_round=1015, data_length=100\n"
     ]
    },
    {
     "name": "stderr",
     "output_type": "stream",
     "text": [
      "100%|██████████| 701/701 [01:02<00:00, 11.28it/s]\n"
     ]
    },
    {
     "name": "stdout",
     "output_type": "stream",
     "text": [
      "last_round=1014, data_length=100\n"
     ]
    },
    {
     "name": "stderr",
     "output_type": "stream",
     "text": [
      "100%|██████████| 701/701 [01:03<00:00, 11.02it/s]\n"
     ]
    },
    {
     "name": "stdout",
     "output_type": "stream",
     "text": [
      "last_round=1013, data_length=100\n"
     ]
    },
    {
     "name": "stderr",
     "output_type": "stream",
     "text": [
      "100%|██████████| 701/701 [01:02<00:00, 11.30it/s]\n"
     ]
    },
    {
     "name": "stdout",
     "output_type": "stream",
     "text": [
      "last_round=1012, data_length=100\n"
     ]
    },
    {
     "name": "stderr",
     "output_type": "stream",
     "text": [
      "100%|██████████| 701/701 [01:03<00:00, 11.04it/s]\n"
     ]
    },
    {
     "name": "stdout",
     "output_type": "stream",
     "text": [
      "last_round=1011, data_length=100\n"
     ]
    },
    {
     "name": "stderr",
     "output_type": "stream",
     "text": [
      "100%|██████████| 701/701 [01:03<00:00, 11.02it/s]\n"
     ]
    },
    {
     "name": "stdout",
     "output_type": "stream",
     "text": [
      "last_round=1010, data_length=100\n"
     ]
    },
    {
     "name": "stderr",
     "output_type": "stream",
     "text": [
      "100%|██████████| 701/701 [01:03<00:00, 11.05it/s]\n"
     ]
    },
    {
     "name": "stdout",
     "output_type": "stream",
     "text": [
      "last_round=1009, data_length=100\n"
     ]
    },
    {
     "name": "stderr",
     "output_type": "stream",
     "text": [
      "100%|██████████| 701/701 [01:02<00:00, 11.14it/s]\n"
     ]
    },
    {
     "name": "stdout",
     "output_type": "stream",
     "text": [
      "last_round=1008, data_length=100\n"
     ]
    },
    {
     "name": "stderr",
     "output_type": "stream",
     "text": [
      "100%|██████████| 701/701 [01:01<00:00, 11.33it/s]\n"
     ]
    },
    {
     "name": "stdout",
     "output_type": "stream",
     "text": [
      "last_round=1007, data_length=100\n"
     ]
    },
    {
     "name": "stderr",
     "output_type": "stream",
     "text": [
      "100%|██████████| 701/701 [01:02<00:00, 11.16it/s]\n"
     ]
    },
    {
     "name": "stdout",
     "output_type": "stream",
     "text": [
      "last_round=1006, data_length=100\n"
     ]
    },
    {
     "name": "stderr",
     "output_type": "stream",
     "text": [
      "100%|██████████| 701/701 [01:04<00:00, 10.87it/s]\n"
     ]
    },
    {
     "name": "stdout",
     "output_type": "stream",
     "text": [
      "last_round=1005, data_length=100\n"
     ]
    },
    {
     "name": "stderr",
     "output_type": "stream",
     "text": [
      "100%|██████████| 701/701 [01:03<00:00, 11.05it/s]\n"
     ]
    },
    {
     "name": "stdout",
     "output_type": "stream",
     "text": [
      "last_round=1004, data_length=100\n"
     ]
    },
    {
     "name": "stderr",
     "output_type": "stream",
     "text": [
      "100%|██████████| 701/701 [01:03<00:00, 11.00it/s]\n"
     ]
    },
    {
     "name": "stdout",
     "output_type": "stream",
     "text": [
      "last_round=1003, data_length=100\n"
     ]
    },
    {
     "name": "stderr",
     "output_type": "stream",
     "text": [
      "100%|██████████| 701/701 [01:03<00:00, 10.97it/s]\n"
     ]
    },
    {
     "name": "stdout",
     "output_type": "stream",
     "text": [
      "last_round=1002, data_length=100\n"
     ]
    },
    {
     "name": "stderr",
     "output_type": "stream",
     "text": [
      "100%|██████████| 701/701 [01:04<00:00, 10.85it/s]\n"
     ]
    },
    {
     "name": "stdout",
     "output_type": "stream",
     "text": [
      "last_round=1001, data_length=100\n"
     ]
    },
    {
     "name": "stderr",
     "output_type": "stream",
     "text": [
      "100%|██████████| 701/701 [01:02<00:00, 11.24it/s]\n"
     ]
    },
    {
     "name": "stdout",
     "output_type": "stream",
     "text": [
      "last_round=1000, data_length=100\n"
     ]
    },
    {
     "name": "stderr",
     "output_type": "stream",
     "text": [
      "100%|██████████| 701/701 [01:02<00:00, 11.17it/s]\n"
     ]
    },
    {
     "name": "stdout",
     "output_type": "stream",
     "text": [
      "last_round=999, data_length=100\n"
     ]
    },
    {
     "name": "stderr",
     "output_type": "stream",
     "text": [
      "100%|██████████| 701/701 [01:01<00:00, 11.32it/s]\n"
     ]
    },
    {
     "name": "stdout",
     "output_type": "stream",
     "text": [
      "last_round=998, data_length=100\n"
     ]
    },
    {
     "name": "stderr",
     "output_type": "stream",
     "text": [
      "100%|██████████| 701/701 [01:04<00:00, 10.94it/s]\n"
     ]
    },
    {
     "name": "stdout",
     "output_type": "stream",
     "text": [
      "last_round=997, data_length=100\n"
     ]
    },
    {
     "name": "stderr",
     "output_type": "stream",
     "text": [
      "100%|██████████| 701/701 [01:02<00:00, 11.18it/s]\n"
     ]
    },
    {
     "name": "stdout",
     "output_type": "stream",
     "text": [
      "last_round=996, data_length=100\n"
     ]
    },
    {
     "name": "stderr",
     "output_type": "stream",
     "text": [
      "100%|██████████| 701/701 [01:03<00:00, 10.98it/s]\n"
     ]
    },
    {
     "name": "stdout",
     "output_type": "stream",
     "text": [
      "last_round=995, data_length=100\n"
     ]
    },
    {
     "name": "stderr",
     "output_type": "stream",
     "text": [
      "100%|██████████| 701/701 [01:03<00:00, 11.00it/s]\n"
     ]
    },
    {
     "name": "stdout",
     "output_type": "stream",
     "text": [
      "last_round=994, data_length=100\n"
     ]
    },
    {
     "name": "stderr",
     "output_type": "stream",
     "text": [
      "100%|██████████| 701/701 [01:04<00:00, 10.93it/s]\n"
     ]
    },
    {
     "name": "stdout",
     "output_type": "stream",
     "text": [
      "last_round=993, data_length=100\n"
     ]
    },
    {
     "name": "stderr",
     "output_type": "stream",
     "text": [
      "100%|██████████| 701/701 [01:04<00:00, 10.95it/s]\n"
     ]
    },
    {
     "name": "stdout",
     "output_type": "stream",
     "text": [
      "last_round=992, data_length=100\n"
     ]
    },
    {
     "name": "stderr",
     "output_type": "stream",
     "text": [
      "100%|██████████| 701/701 [01:04<00:00, 10.81it/s]\n"
     ]
    },
    {
     "name": "stdout",
     "output_type": "stream",
     "text": [
      "last_round=991, data_length=100\n"
     ]
    },
    {
     "name": "stderr",
     "output_type": "stream",
     "text": [
      "100%|██████████| 701/701 [01:03<00:00, 10.99it/s]\n"
     ]
    },
    {
     "name": "stdout",
     "output_type": "stream",
     "text": [
      "last_round=990, data_length=100\n"
     ]
    },
    {
     "name": "stderr",
     "output_type": "stream",
     "text": [
      "100%|██████████| 701/701 [01:04<00:00, 10.80it/s]\n"
     ]
    },
    {
     "name": "stdout",
     "output_type": "stream",
     "text": [
      "last_round=989, data_length=100\n"
     ]
    },
    {
     "name": "stderr",
     "output_type": "stream",
     "text": [
      "100%|██████████| 701/701 [01:04<00:00, 10.93it/s]\n"
     ]
    },
    {
     "name": "stdout",
     "output_type": "stream",
     "text": [
      "last_round=988, data_length=100\n"
     ]
    },
    {
     "name": "stderr",
     "output_type": "stream",
     "text": [
      "100%|██████████| 701/701 [01:05<00:00, 10.75it/s]\n"
     ]
    },
    {
     "name": "stdout",
     "output_type": "stream",
     "text": [
      "last_round=987, data_length=100\n"
     ]
    },
    {
     "name": "stderr",
     "output_type": "stream",
     "text": [
      "100%|██████████| 701/701 [01:05<00:00, 10.74it/s]\n"
     ]
    },
    {
     "name": "stdout",
     "output_type": "stream",
     "text": [
      "last_round=986, data_length=100\n"
     ]
    },
    {
     "name": "stderr",
     "output_type": "stream",
     "text": [
      "100%|██████████| 701/701 [01:03<00:00, 10.96it/s]\n"
     ]
    },
    {
     "name": "stdout",
     "output_type": "stream",
     "text": [
      "last_round=985, data_length=100\n"
     ]
    },
    {
     "name": "stderr",
     "output_type": "stream",
     "text": [
      "100%|██████████| 701/701 [01:04<00:00, 10.94it/s]\n"
     ]
    },
    {
     "name": "stdout",
     "output_type": "stream",
     "text": [
      "last_round=984, data_length=100\n"
     ]
    },
    {
     "name": "stderr",
     "output_type": "stream",
     "text": [
      "100%|██████████| 701/701 [01:03<00:00, 11.03it/s]\n"
     ]
    },
    {
     "name": "stdout",
     "output_type": "stream",
     "text": [
      "last_round=983, data_length=100\n"
     ]
    },
    {
     "name": "stderr",
     "output_type": "stream",
     "text": [
      "100%|██████████| 701/701 [01:04<00:00, 10.95it/s]\n"
     ]
    },
    {
     "name": "stdout",
     "output_type": "stream",
     "text": [
      "last_round=982, data_length=100\n"
     ]
    },
    {
     "name": "stderr",
     "output_type": "stream",
     "text": [
      "100%|██████████| 701/701 [01:03<00:00, 11.04it/s]\n"
     ]
    },
    {
     "name": "stdout",
     "output_type": "stream",
     "text": [
      "last_round=981, data_length=100\n"
     ]
    },
    {
     "name": "stderr",
     "output_type": "stream",
     "text": [
      "100%|██████████| 701/701 [01:04<00:00, 10.95it/s]\n"
     ]
    },
    {
     "name": "stdout",
     "output_type": "stream",
     "text": [
      "last_round=980, data_length=100\n"
     ]
    },
    {
     "name": "stderr",
     "output_type": "stream",
     "text": [
      "100%|██████████| 701/701 [01:03<00:00, 11.00it/s]\n"
     ]
    },
    {
     "name": "stdout",
     "output_type": "stream",
     "text": [
      "last_round=979, data_length=100\n"
     ]
    },
    {
     "name": "stderr",
     "output_type": "stream",
     "text": [
      "100%|██████████| 701/701 [01:04<00:00, 10.91it/s]\n"
     ]
    },
    {
     "name": "stdout",
     "output_type": "stream",
     "text": [
      "last_round=978, data_length=100\n"
     ]
    },
    {
     "name": "stderr",
     "output_type": "stream",
     "text": [
      "100%|██████████| 701/701 [01:04<00:00, 10.90it/s]\n"
     ]
    },
    {
     "name": "stdout",
     "output_type": "stream",
     "text": [
      "last_round=977, data_length=100\n"
     ]
    },
    {
     "name": "stderr",
     "output_type": "stream",
     "text": [
      "100%|██████████| 701/701 [01:04<00:00, 10.85it/s]\n"
     ]
    },
    {
     "name": "stdout",
     "output_type": "stream",
     "text": [
      "last_round=976, data_length=100\n"
     ]
    },
    {
     "name": "stderr",
     "output_type": "stream",
     "text": [
      "100%|██████████| 701/701 [01:04<00:00, 10.85it/s]\n"
     ]
    },
    {
     "name": "stdout",
     "output_type": "stream",
     "text": [
      "last_round=975, data_length=100\n"
     ]
    },
    {
     "name": "stderr",
     "output_type": "stream",
     "text": [
      "100%|██████████| 701/701 [01:03<00:00, 11.05it/s]\n"
     ]
    },
    {
     "name": "stdout",
     "output_type": "stream",
     "text": [
      "last_round=974, data_length=100\n"
     ]
    },
    {
     "name": "stderr",
     "output_type": "stream",
     "text": [
      "100%|██████████| 701/701 [01:03<00:00, 11.04it/s]\n"
     ]
    },
    {
     "name": "stdout",
     "output_type": "stream",
     "text": [
      "last_round=973, data_length=100\n"
     ]
    },
    {
     "name": "stderr",
     "output_type": "stream",
     "text": [
      "100%|██████████| 701/701 [01:04<00:00, 10.90it/s]\n"
     ]
    },
    {
     "name": "stdout",
     "output_type": "stream",
     "text": [
      "last_round=972, data_length=100\n"
     ]
    },
    {
     "name": "stderr",
     "output_type": "stream",
     "text": [
      "100%|██████████| 701/701 [01:03<00:00, 10.98it/s]\n"
     ]
    },
    {
     "name": "stdout",
     "output_type": "stream",
     "text": [
      "last_round=971, data_length=100\n"
     ]
    },
    {
     "name": "stderr",
     "output_type": "stream",
     "text": [
      "100%|██████████| 701/701 [01:03<00:00, 10.96it/s]\n"
     ]
    },
    {
     "name": "stdout",
     "output_type": "stream",
     "text": [
      "last_round=970, data_length=100\n"
     ]
    },
    {
     "name": "stderr",
     "output_type": "stream",
     "text": [
      "100%|██████████| 701/701 [01:04<00:00, 10.95it/s]\n"
     ]
    },
    {
     "name": "stdout",
     "output_type": "stream",
     "text": [
      "last_round=969, data_length=100\n"
     ]
    },
    {
     "name": "stderr",
     "output_type": "stream",
     "text": [
      "100%|██████████| 701/701 [01:04<00:00, 10.85it/s]\n"
     ]
    },
    {
     "name": "stdout",
     "output_type": "stream",
     "text": [
      "last_round=968, data_length=100\n"
     ]
    },
    {
     "name": "stderr",
     "output_type": "stream",
     "text": [
      "100%|██████████| 701/701 [01:03<00:00, 11.02it/s]\n"
     ]
    },
    {
     "name": "stdout",
     "output_type": "stream",
     "text": [
      "last_round=967, data_length=100\n"
     ]
    },
    {
     "name": "stderr",
     "output_type": "stream",
     "text": [
      "100%|██████████| 701/701 [01:03<00:00, 11.00it/s]\n"
     ]
    },
    {
     "name": "stdout",
     "output_type": "stream",
     "text": [
      "last_round=966, data_length=100\n"
     ]
    },
    {
     "name": "stderr",
     "output_type": "stream",
     "text": [
      "100%|██████████| 701/701 [01:04<00:00, 10.79it/s]\n"
     ]
    },
    {
     "name": "stdout",
     "output_type": "stream",
     "text": [
      "last_round=965, data_length=100\n"
     ]
    },
    {
     "name": "stderr",
     "output_type": "stream",
     "text": [
      "100%|██████████| 701/701 [01:05<00:00, 10.66it/s]\n"
     ]
    },
    {
     "name": "stdout",
     "output_type": "stream",
     "text": [
      "last_round=964, data_length=100\n"
     ]
    },
    {
     "name": "stderr",
     "output_type": "stream",
     "text": [
      "100%|██████████| 701/701 [01:05<00:00, 10.74it/s]\n"
     ]
    },
    {
     "name": "stdout",
     "output_type": "stream",
     "text": [
      "last_round=963, data_length=100\n"
     ]
    },
    {
     "name": "stderr",
     "output_type": "stream",
     "text": [
      "100%|██████████| 701/701 [01:04<00:00, 10.82it/s]\n"
     ]
    },
    {
     "name": "stdout",
     "output_type": "stream",
     "text": [
      "last_round=962, data_length=100\n"
     ]
    },
    {
     "name": "stderr",
     "output_type": "stream",
     "text": [
      "100%|██████████| 701/701 [01:04<00:00, 10.81it/s]\n"
     ]
    },
    {
     "name": "stdout",
     "output_type": "stream",
     "text": [
      "last_round=961, data_length=100\n"
     ]
    },
    {
     "name": "stderr",
     "output_type": "stream",
     "text": [
      "100%|██████████| 701/701 [01:04<00:00, 10.83it/s]\n"
     ]
    },
    {
     "name": "stdout",
     "output_type": "stream",
     "text": [
      "last_round=960, data_length=100\n"
     ]
    },
    {
     "name": "stderr",
     "output_type": "stream",
     "text": [
      "100%|██████████| 701/701 [01:05<00:00, 10.73it/s]\n"
     ]
    },
    {
     "name": "stdout",
     "output_type": "stream",
     "text": [
      "last_round=959, data_length=100\n"
     ]
    },
    {
     "name": "stderr",
     "output_type": "stream",
     "text": [
      "100%|██████████| 701/701 [01:05<00:00, 10.70it/s]\n"
     ]
    },
    {
     "name": "stdout",
     "output_type": "stream",
     "text": [
      "last_round=958, data_length=100\n"
     ]
    },
    {
     "name": "stderr",
     "output_type": "stream",
     "text": [
      "100%|██████████| 701/701 [01:04<00:00, 10.87it/s]\n"
     ]
    },
    {
     "name": "stdout",
     "output_type": "stream",
     "text": [
      "last_round=957, data_length=100\n"
     ]
    },
    {
     "name": "stderr",
     "output_type": "stream",
     "text": [
      "100%|██████████| 701/701 [01:04<00:00, 10.91it/s]\n"
     ]
    },
    {
     "name": "stdout",
     "output_type": "stream",
     "text": [
      "last_round=956, data_length=100\n"
     ]
    },
    {
     "name": "stderr",
     "output_type": "stream",
     "text": [
      "100%|██████████| 701/701 [01:02<00:00, 11.26it/s]\n"
     ]
    },
    {
     "name": "stdout",
     "output_type": "stream",
     "text": [
      "last_round=955, data_length=100\n"
     ]
    },
    {
     "name": "stderr",
     "output_type": "stream",
     "text": [
      "100%|██████████| 701/701 [01:01<00:00, 11.32it/s]\n"
     ]
    },
    {
     "name": "stdout",
     "output_type": "stream",
     "text": [
      "last_round=954, data_length=100\n"
     ]
    },
    {
     "name": "stderr",
     "output_type": "stream",
     "text": [
      "100%|██████████| 701/701 [01:02<00:00, 11.21it/s]\n"
     ]
    },
    {
     "name": "stdout",
     "output_type": "stream",
     "text": [
      "last_round=953, data_length=100\n"
     ]
    },
    {
     "name": "stderr",
     "output_type": "stream",
     "text": [
      "100%|██████████| 701/701 [01:01<00:00, 11.32it/s]\n"
     ]
    },
    {
     "name": "stdout",
     "output_type": "stream",
     "text": [
      "last_round=952, data_length=100\n"
     ]
    },
    {
     "name": "stderr",
     "output_type": "stream",
     "text": [
      "100%|██████████| 701/701 [01:02<00:00, 11.28it/s]\n"
     ]
    },
    {
     "name": "stdout",
     "output_type": "stream",
     "text": [
      "last_round=951, data_length=100\n"
     ]
    },
    {
     "name": "stderr",
     "output_type": "stream",
     "text": [
      "100%|██████████| 701/701 [01:03<00:00, 11.11it/s]\n"
     ]
    },
    {
     "name": "stdout",
     "output_type": "stream",
     "text": [
      "last_round=950, data_length=100\n"
     ]
    },
    {
     "name": "stderr",
     "output_type": "stream",
     "text": [
      "100%|██████████| 701/701 [01:02<00:00, 11.14it/s]\n"
     ]
    },
    {
     "name": "stdout",
     "output_type": "stream",
     "text": [
      "last_round=949, data_length=100\n"
     ]
    },
    {
     "name": "stderr",
     "output_type": "stream",
     "text": [
      "100%|██████████| 701/701 [01:02<00:00, 11.29it/s]\n"
     ]
    },
    {
     "name": "stdout",
     "output_type": "stream",
     "text": [
      "last_round=948, data_length=100\n"
     ]
    },
    {
     "name": "stderr",
     "output_type": "stream",
     "text": [
      "100%|██████████| 701/701 [01:02<00:00, 11.17it/s]\n"
     ]
    },
    {
     "name": "stdout",
     "output_type": "stream",
     "text": [
      "last_round=947, data_length=100\n"
     ]
    },
    {
     "name": "stderr",
     "output_type": "stream",
     "text": [
      "100%|██████████| 701/701 [01:02<00:00, 11.15it/s]\n"
     ]
    },
    {
     "name": "stdout",
     "output_type": "stream",
     "text": [
      "last_round=946, data_length=100\n"
     ]
    },
    {
     "name": "stderr",
     "output_type": "stream",
     "text": [
      "100%|██████████| 701/701 [01:02<00:00, 11.24it/s]\n"
     ]
    },
    {
     "name": "stdout",
     "output_type": "stream",
     "text": [
      "last_round=945, data_length=100\n"
     ]
    },
    {
     "name": "stderr",
     "output_type": "stream",
     "text": [
      "100%|██████████| 701/701 [01:00<00:00, 11.62it/s]\n"
     ]
    },
    {
     "name": "stdout",
     "output_type": "stream",
     "text": [
      "last_round=944, data_length=100\n"
     ]
    },
    {
     "name": "stderr",
     "output_type": "stream",
     "text": [
      "100%|██████████| 701/701 [01:00<00:00, 11.61it/s]\n"
     ]
    },
    {
     "name": "stdout",
     "output_type": "stream",
     "text": [
      "last_round=943, data_length=100\n"
     ]
    },
    {
     "name": "stderr",
     "output_type": "stream",
     "text": [
      "100%|██████████| 701/701 [01:00<00:00, 11.65it/s]\n"
     ]
    },
    {
     "name": "stdout",
     "output_type": "stream",
     "text": [
      "last_round=942, data_length=100\n"
     ]
    },
    {
     "name": "stderr",
     "output_type": "stream",
     "text": [
      "100%|██████████| 701/701 [00:59<00:00, 11.72it/s]\n"
     ]
    },
    {
     "name": "stdout",
     "output_type": "stream",
     "text": [
      "last_round=941, data_length=100\n"
     ]
    },
    {
     "name": "stderr",
     "output_type": "stream",
     "text": [
      "100%|██████████| 701/701 [01:01<00:00, 11.44it/s]\n"
     ]
    },
    {
     "name": "stdout",
     "output_type": "stream",
     "text": [
      "last_round=940, data_length=100\n"
     ]
    },
    {
     "name": "stderr",
     "output_type": "stream",
     "text": [
      "100%|██████████| 701/701 [01:02<00:00, 11.26it/s]\n"
     ]
    },
    {
     "name": "stdout",
     "output_type": "stream",
     "text": [
      "last_round=939, data_length=100\n"
     ]
    },
    {
     "name": "stderr",
     "output_type": "stream",
     "text": [
      "100%|██████████| 701/701 [01:00<00:00, 11.59it/s]\n"
     ]
    },
    {
     "name": "stdout",
     "output_type": "stream",
     "text": [
      "last_round=938, data_length=100\n"
     ]
    },
    {
     "name": "stderr",
     "output_type": "stream",
     "text": [
      "100%|██████████| 701/701 [01:01<00:00, 11.42it/s]\n"
     ]
    },
    {
     "name": "stdout",
     "output_type": "stream",
     "text": [
      "last_round=937, data_length=100\n"
     ]
    },
    {
     "name": "stderr",
     "output_type": "stream",
     "text": [
      "100%|██████████| 701/701 [01:02<00:00, 11.17it/s]\n"
     ]
    },
    {
     "name": "stdout",
     "output_type": "stream",
     "text": [
      "last_round=936, data_length=100\n"
     ]
    },
    {
     "name": "stderr",
     "output_type": "stream",
     "text": [
      "100%|██████████| 701/701 [01:03<00:00, 11.11it/s]\n"
     ]
    },
    {
     "name": "stdout",
     "output_type": "stream",
     "text": [
      "last_round=935, data_length=100\n"
     ]
    },
    {
     "name": "stderr",
     "output_type": "stream",
     "text": [
      "100%|██████████| 701/701 [01:02<00:00, 11.15it/s]\n"
     ]
    },
    {
     "name": "stdout",
     "output_type": "stream",
     "text": [
      "last_round=934, data_length=100\n"
     ]
    },
    {
     "name": "stderr",
     "output_type": "stream",
     "text": [
      "100%|██████████| 701/701 [01:03<00:00, 11.10it/s]\n"
     ]
    },
    {
     "name": "stdout",
     "output_type": "stream",
     "text": [
      "last_round=933, data_length=100\n"
     ]
    },
    {
     "name": "stderr",
     "output_type": "stream",
     "text": [
      "100%|██████████| 701/701 [01:04<00:00, 10.79it/s]\n"
     ]
    },
    {
     "name": "stdout",
     "output_type": "stream",
     "text": [
      "last_round=932, data_length=100\n"
     ]
    },
    {
     "name": "stderr",
     "output_type": "stream",
     "text": [
      "100%|██████████| 701/701 [01:03<00:00, 11.07it/s]\n"
     ]
    },
    {
     "name": "stdout",
     "output_type": "stream",
     "text": [
      "last_round=931, data_length=100\n"
     ]
    },
    {
     "name": "stderr",
     "output_type": "stream",
     "text": [
      "100%|██████████| 701/701 [01:02<00:00, 11.17it/s]\n"
     ]
    },
    {
     "name": "stdout",
     "output_type": "stream",
     "text": [
      "last_round=930, data_length=100\n"
     ]
    },
    {
     "name": "stderr",
     "output_type": "stream",
     "text": [
      "100%|██████████| 701/701 [01:03<00:00, 11.04it/s]\n"
     ]
    },
    {
     "name": "stdout",
     "output_type": "stream",
     "text": [
      "last_round=929, data_length=100\n"
     ]
    },
    {
     "name": "stderr",
     "output_type": "stream",
     "text": [
      "100%|██████████| 701/701 [01:02<00:00, 11.19it/s]\n"
     ]
    },
    {
     "name": "stdout",
     "output_type": "stream",
     "text": [
      "last_round=928, data_length=100\n"
     ]
    },
    {
     "name": "stderr",
     "output_type": "stream",
     "text": [
      " 68%|██████▊   | 477/701 [00:42<00:20, 11.11it/s]\n"
     ]
    },
    {
     "ename": "KeyboardInterrupt",
     "evalue": "",
     "output_type": "error",
     "traceback": [
      "\u001b[31m---------------------------------------------------------------------------\u001b[39m",
      "\u001b[31mKeyboardInterrupt\u001b[39m                         Traceback (most recent call last)",
      "\u001b[36mCell\u001b[39m\u001b[36m \u001b[39m\u001b[32mIn[5]\u001b[39m\u001b[32m, line 13\u001b[39m\n\u001b[32m      1\u001b[39m parameters = {\n\u001b[32m      2\u001b[39m     \u001b[33m\"\u001b[39m\u001b[33mn_estimators\u001b[39m\u001b[33m\"\u001b[39m: [\u001b[32m100\u001b[39m],\n\u001b[32m      3\u001b[39m     \u001b[33m\"\u001b[39m\u001b[33mdata_lengths\u001b[39m\u001b[33m\"\u001b[39m: [\u001b[32m100\u001b[39m],\n\u001b[32m   (...)\u001b[39m\u001b[32m      9\u001b[39m     \u001b[33m\"\u001b[39m\u001b[33mwrite_db_file_path\u001b[39m\u001b[33m\"\u001b[39m: \u001b[33m'\u001b[39m\u001b[33m../db/metrics.db\u001b[39m\u001b[33m'\u001b[39m\n\u001b[32m     10\u001b[39m }\n\u001b[32m     12\u001b[39m version=\u001b[33m\"\u001b[39m\u001b[33mT_01_10\u001b[39m\u001b[33m\"\u001b[39m\n\u001b[32m---> \u001b[39m\u001b[32m13\u001b[39m result_sets = \u001b[43mmain\u001b[49m\u001b[43m(\u001b[49m\u001b[43mparameters\u001b[49m\u001b[43m=\u001b[49m\u001b[43mparameters\u001b[49m\u001b[43m,\u001b[49m\u001b[43m \u001b[49m\u001b[43mversion\u001b[49m\u001b[43m=\u001b[49m\u001b[43mversion\u001b[49m\u001b[43m,\u001b[49m\u001b[43m \u001b[49m\u001b[43msum_min\u001b[49m\u001b[43m=\u001b[49m\u001b[32;43m0\u001b[39;49m\u001b[43m,\u001b[49m\u001b[43m \u001b[49m\u001b[43msum_max\u001b[49m\u001b[43m=\u001b[49m\u001b[43m-\u001b[49m\u001b[32;43m1\u001b[39;49m\u001b[43m,\u001b[49m\u001b[43m \u001b[49m\u001b[43mtrial\u001b[49m\u001b[43m=\u001b[49m\u001b[32;43m1\u001b[39;49m\u001b[43m,\u001b[49m\u001b[43m \u001b[49m\u001b[43mwrite_to_db\u001b[49m\u001b[43m=\u001b[49m\u001b[38;5;28;43;01mTrue\u001b[39;49;00m\u001b[43m)\u001b[49m\n",
      "\u001b[36mFile \u001b[39m\u001b[32m~/work/LSTM_Analyze/foresttrans/lib/rf_data_util.py:372\u001b[39m, in \u001b[36mmain\u001b[39m\u001b[34m(parameters, version, sum_min, sum_max, write_to_file, write_to_db, trial, verbose)\u001b[39m\n\u001b[32m    363\u001b[39m             \u001b[38;5;28;01mif\u001b[39;00m write_to_db:\n\u001b[32m    364\u001b[39m                 db_datas = (n_estimator,\n\u001b[32m    365\u001b[39m                             data_length,\n\u001b[32m    366\u001b[39m                             random_state,\n\u001b[32m    367\u001b[39m                             predict_lens[n_estimator][data_length][random_state],\n\u001b[32m    368\u001b[39m                             sum_val)\n\u001b[32m    369\u001b[39m                 insert_randomforest_db(write_db_file_path,\n\u001b[32m    370\u001b[39m                                        version=version,\n\u001b[32m    371\u001b[39m                                        db_datas=db_datas,\n\u001b[32m--> \u001b[39m\u001b[32m372\u001b[39m                                        verbose=verbose)    \n\u001b[32m    373\u001b[39m \u001b[38;5;28;01mreturn\u001b[39;00m result_set\n",
      "\u001b[36mFile \u001b[39m\u001b[32m~/work/LSTM_Analyze/foresttrans/lib/rf_data_util.py:275\u001b[39m, in \u001b[36mmain_process\u001b[39m\u001b[34m(version, n_estimators, last_rounds, data_lengths, random_state_gap, random_state_begin, random_state_end, db_file_path, write_to_db, write_db_file_path, trial, verbose)\u001b[39m\n\u001b[32m    272\u001b[39m if data_length not in predict_lens[n_estimator]:\n\u001b[32m    273\u001b[39m     predict_lens[n_estimator][data_length] = {}\n\u001b[32m    274\u001b[39m for random_state in tqdm(range(random_state_begin, random_state_end, random_state_gap)):\n\u001b[32m--> \u001b[39m\u001b[32m275\u001b[39m     # print(f'n_estimator={n_estimator}, last_round={last_round}, '\\\n\u001b[32m    276\u001b[39m     #       f'data_length={data_length}, random_state={random_state}')\n\u001b[32m    277\u001b[39m     predict_len = predict_and_test(last_round,\n\u001b[32m    278\u001b[39m                                    first_bonus,\n\u001b[32m    279\u001b[39m                                    hist_data,\n\u001b[32m   (...)\u001b[39m\u001b[32m    282\u001b[39m                                    trial,\n\u001b[32m    283\u001b[39m                                    verbose=0)\n\u001b[32m    284\u001b[39m     if n_estimator not in predict_lens:\n",
      "\u001b[36mFile \u001b[39m\u001b[32m~/work/LSTM_Analyze/foresttrans/lib/rf_data_util.py:205\u001b[39m, in \u001b[36mpredict_and_test\u001b[39m\u001b[34m(round, bonus, h_data, n_estimators, random_state, trial, with_data, verbose)\u001b[39m\n\u001b[32m    203\u001b[39m test_X = []\n\u001b[32m    204\u001b[39m \u001b[38;5;28;01mfor\u001b[39;00m i \u001b[38;5;129;01min\u001b[39;00m \u001b[38;5;28mrange\u001b[39m(\u001b[38;5;28mlen\u001b[39m(h_data) - \u001b[32m1\u001b[39m):\n\u001b[32m--> \u001b[39m\u001b[32m205\u001b[39m     train_X.append(h_data[i][\u001b[32m1\u001b[39m])\n\u001b[32m    206\u001b[39m test_X = h_data[\u001b[38;5;28mlen\u001b[39m(h_data) - \u001b[32m1\u001b[39m][\u001b[32m1\u001b[39m]\n\u001b[32m    207\u001b[39m predicted_numbers_set = rf_predict(train_X=train_X,\n\u001b[32m    208\u001b[39m                                    n_estimators=n_estimators,\n\u001b[32m    209\u001b[39m                                    random_state=random_state,\n\u001b[32m    210\u001b[39m                                    trial=trial,\n\u001b[32m    211\u001b[39m                                    verbose=verbose)\n",
      "\u001b[36mFile \u001b[39m\u001b[32m~/work/LSTM_Analyze/foresttrans/lib/rf_data_util.py:113\u001b[39m, in \u001b[36mrf_predict\u001b[39m\u001b[34m(train_X, n_estimators, random_state, trial, verbose)\u001b[39m\n\u001b[32m    107\u001b[39m     print(\"\\n--- 정답 데이터 (y) ---\")\n\u001b[32m    108\u001b[39m     print(y.head())\n\u001b[32m    110\u001b[39m # 머신러닝 모델 선택 및 훈련\n\u001b[32m    111\u001b[39m # 랜덤 포레스트 회귀 모델을 사용합니다.\n\u001b[32m    112\u001b[39m # the random_state parameter is used to control the randomness of the algorithm, ensuring reproducibility of results. \n\u001b[32m--> \u001b[39m\u001b[32m113\u001b[39m # the n_estimators parameter specifies the number of decision trees in the forest. \n\u001b[32m    114\u001b[39m model = RandomForestRegressor(n_estimators=n_estimators, random_state=random_state) # n_estimators: 만들 트리의 개수\n\u001b[32m    115\u001b[39m model.fit(X, y)\n",
      "\u001b[36mFile \u001b[39m\u001b[32m/opt/conda/lib/python3.12/site-packages/sklearn/base.py:1389\u001b[39m, in \u001b[36m_fit_context.<locals>.decorator.<locals>.wrapper\u001b[39m\u001b[34m(estimator, *args, **kwargs)\u001b[39m\n\u001b[32m   1382\u001b[39m     estimator._validate_params()\n\u001b[32m   1384\u001b[39m \u001b[38;5;28;01mwith\u001b[39;00m config_context(\n\u001b[32m   1385\u001b[39m     skip_parameter_validation=(\n\u001b[32m   1386\u001b[39m         prefer_skip_nested_validation \u001b[38;5;129;01mor\u001b[39;00m global_skip_validation\n\u001b[32m   1387\u001b[39m     )\n\u001b[32m   1388\u001b[39m ):\n\u001b[32m-> \u001b[39m\u001b[32m1389\u001b[39m     \u001b[38;5;28;01mreturn\u001b[39;00m \u001b[43mfit_method\u001b[49m\u001b[43m(\u001b[49m\u001b[43mestimator\u001b[49m\u001b[43m,\u001b[49m\u001b[43m \u001b[49m\u001b[43m*\u001b[49m\u001b[43margs\u001b[49m\u001b[43m,\u001b[49m\u001b[43m \u001b[49m\u001b[43m*\u001b[49m\u001b[43m*\u001b[49m\u001b[43mkwargs\u001b[49m\u001b[43m)\u001b[49m\n",
      "\u001b[36mFile \u001b[39m\u001b[32m/opt/conda/lib/python3.12/site-packages/sklearn/ensemble/_forest.py:487\u001b[39m, in \u001b[36mBaseForest.fit\u001b[39m\u001b[34m(self, X, y, sample_weight)\u001b[39m\n\u001b[32m    476\u001b[39m trees = [\n\u001b[32m    477\u001b[39m     \u001b[38;5;28mself\u001b[39m._make_estimator(append=\u001b[38;5;28;01mFalse\u001b[39;00m, random_state=random_state)\n\u001b[32m    478\u001b[39m     \u001b[38;5;28;01mfor\u001b[39;00m i \u001b[38;5;129;01min\u001b[39;00m \u001b[38;5;28mrange\u001b[39m(n_more_estimators)\n\u001b[32m    479\u001b[39m ]\n\u001b[32m    481\u001b[39m \u001b[38;5;66;03m# Parallel loop: we prefer the threading backend as the Cython code\u001b[39;00m\n\u001b[32m    482\u001b[39m \u001b[38;5;66;03m# for fitting the trees is internally releasing the Python GIL\u001b[39;00m\n\u001b[32m    483\u001b[39m \u001b[38;5;66;03m# making threading more efficient than multiprocessing in\u001b[39;00m\n\u001b[32m    484\u001b[39m \u001b[38;5;66;03m# that case. However, for joblib 0.12+ we respect any\u001b[39;00m\n\u001b[32m    485\u001b[39m \u001b[38;5;66;03m# parallel_backend contexts set at a higher level,\u001b[39;00m\n\u001b[32m    486\u001b[39m \u001b[38;5;66;03m# since correctness does not rely on using threads.\u001b[39;00m\n\u001b[32m--> \u001b[39m\u001b[32m487\u001b[39m trees = \u001b[43mParallel\u001b[49m\u001b[43m(\u001b[49m\n\u001b[32m    488\u001b[39m \u001b[43m    \u001b[49m\u001b[43mn_jobs\u001b[49m\u001b[43m=\u001b[49m\u001b[38;5;28;43mself\u001b[39;49m\u001b[43m.\u001b[49m\u001b[43mn_jobs\u001b[49m\u001b[43m,\u001b[49m\n\u001b[32m    489\u001b[39m \u001b[43m    \u001b[49m\u001b[43mverbose\u001b[49m\u001b[43m=\u001b[49m\u001b[38;5;28;43mself\u001b[39;49m\u001b[43m.\u001b[49m\u001b[43mverbose\u001b[49m\u001b[43m,\u001b[49m\n\u001b[32m    490\u001b[39m \u001b[43m    \u001b[49m\u001b[43mprefer\u001b[49m\u001b[43m=\u001b[49m\u001b[33;43m\"\u001b[39;49m\u001b[33;43mthreads\u001b[39;49m\u001b[33;43m\"\u001b[39;49m\u001b[43m,\u001b[49m\n\u001b[32m    491\u001b[39m \u001b[43m\u001b[49m\u001b[43m)\u001b[49m\u001b[43m(\u001b[49m\n\u001b[32m    492\u001b[39m \u001b[43m    \u001b[49m\u001b[43mdelayed\u001b[49m\u001b[43m(\u001b[49m\u001b[43m_parallel_build_trees\u001b[49m\u001b[43m)\u001b[49m\u001b[43m(\u001b[49m\n\u001b[32m    493\u001b[39m \u001b[43m        \u001b[49m\u001b[43mt\u001b[49m\u001b[43m,\u001b[49m\n\u001b[32m    494\u001b[39m \u001b[43m        \u001b[49m\u001b[38;5;28;43mself\u001b[39;49m\u001b[43m.\u001b[49m\u001b[43mbootstrap\u001b[49m\u001b[43m,\u001b[49m\n\u001b[32m    495\u001b[39m \u001b[43m        \u001b[49m\u001b[43mX\u001b[49m\u001b[43m,\u001b[49m\n\u001b[32m    496\u001b[39m \u001b[43m        \u001b[49m\u001b[43my\u001b[49m\u001b[43m,\u001b[49m\n\u001b[32m    497\u001b[39m \u001b[43m        \u001b[49m\u001b[43msample_weight\u001b[49m\u001b[43m,\u001b[49m\n\u001b[32m    498\u001b[39m \u001b[43m        \u001b[49m\u001b[43mi\u001b[49m\u001b[43m,\u001b[49m\n\u001b[32m    499\u001b[39m \u001b[43m        \u001b[49m\u001b[38;5;28;43mlen\u001b[39;49m\u001b[43m(\u001b[49m\u001b[43mtrees\u001b[49m\u001b[43m)\u001b[49m\u001b[43m,\u001b[49m\n\u001b[32m    500\u001b[39m \u001b[43m        \u001b[49m\u001b[43mverbose\u001b[49m\u001b[43m=\u001b[49m\u001b[38;5;28;43mself\u001b[39;49m\u001b[43m.\u001b[49m\u001b[43mverbose\u001b[49m\u001b[43m,\u001b[49m\n\u001b[32m    501\u001b[39m \u001b[43m        \u001b[49m\u001b[43mclass_weight\u001b[49m\u001b[43m=\u001b[49m\u001b[38;5;28;43mself\u001b[39;49m\u001b[43m.\u001b[49m\u001b[43mclass_weight\u001b[49m\u001b[43m,\u001b[49m\n\u001b[32m    502\u001b[39m \u001b[43m        \u001b[49m\u001b[43mn_samples_bootstrap\u001b[49m\u001b[43m=\u001b[49m\u001b[43mn_samples_bootstrap\u001b[49m\u001b[43m,\u001b[49m\n\u001b[32m    503\u001b[39m \u001b[43m        \u001b[49m\u001b[43mmissing_values_in_feature_mask\u001b[49m\u001b[43m=\u001b[49m\u001b[43mmissing_values_in_feature_mask\u001b[49m\u001b[43m,\u001b[49m\n\u001b[32m    504\u001b[39m \u001b[43m    \u001b[49m\u001b[43m)\u001b[49m\n\u001b[32m    505\u001b[39m \u001b[43m    \u001b[49m\u001b[38;5;28;43;01mfor\u001b[39;49;00m\u001b[43m \u001b[49m\u001b[43mi\u001b[49m\u001b[43m,\u001b[49m\u001b[43m \u001b[49m\u001b[43mt\u001b[49m\u001b[43m \u001b[49m\u001b[38;5;129;43;01min\u001b[39;49;00m\u001b[43m \u001b[49m\u001b[38;5;28;43menumerate\u001b[39;49m\u001b[43m(\u001b[49m\u001b[43mtrees\u001b[49m\u001b[43m)\u001b[49m\n\u001b[32m    506\u001b[39m \u001b[43m\u001b[49m\u001b[43m)\u001b[49m\n\u001b[32m    508\u001b[39m \u001b[38;5;66;03m# Collect newly grown trees\u001b[39;00m\n\u001b[32m    509\u001b[39m \u001b[38;5;28mself\u001b[39m.estimators_.extend(trees)\n",
      "\u001b[36mFile \u001b[39m\u001b[32m/opt/conda/lib/python3.12/site-packages/sklearn/utils/parallel.py:77\u001b[39m, in \u001b[36mParallel.__call__\u001b[39m\u001b[34m(self, iterable)\u001b[39m\n\u001b[32m     72\u001b[39m config = get_config()\n\u001b[32m     73\u001b[39m iterable_with_config = (\n\u001b[32m     74\u001b[39m     (_with_config(delayed_func, config), args, kwargs)\n\u001b[32m     75\u001b[39m     \u001b[38;5;28;01mfor\u001b[39;00m delayed_func, args, kwargs \u001b[38;5;129;01min\u001b[39;00m iterable\n\u001b[32m     76\u001b[39m )\n\u001b[32m---> \u001b[39m\u001b[32m77\u001b[39m \u001b[38;5;28;01mreturn\u001b[39;00m \u001b[38;5;28;43msuper\u001b[39;49m\u001b[43m(\u001b[49m\u001b[43m)\u001b[49m\u001b[43m.\u001b[49m\u001b[34;43m__call__\u001b[39;49m\u001b[43m(\u001b[49m\u001b[43miterable_with_config\u001b[49m\u001b[43m)\u001b[49m\n",
      "\u001b[36mFile \u001b[39m\u001b[32m/opt/conda/lib/python3.12/site-packages/joblib/parallel.py:1986\u001b[39m, in \u001b[36mParallel.__call__\u001b[39m\u001b[34m(self, iterable)\u001b[39m\n\u001b[32m   1984\u001b[39m     output = \u001b[38;5;28mself\u001b[39m._get_sequential_output(iterable)\n\u001b[32m   1985\u001b[39m     \u001b[38;5;28mnext\u001b[39m(output)\n\u001b[32m-> \u001b[39m\u001b[32m1986\u001b[39m     \u001b[38;5;28;01mreturn\u001b[39;00m output \u001b[38;5;28;01mif\u001b[39;00m \u001b[38;5;28mself\u001b[39m.return_generator \u001b[38;5;28;01melse\u001b[39;00m \u001b[38;5;28;43mlist\u001b[39;49m\u001b[43m(\u001b[49m\u001b[43moutput\u001b[49m\u001b[43m)\u001b[49m\n\u001b[32m   1988\u001b[39m \u001b[38;5;66;03m# Let's create an ID that uniquely identifies the current call. If the\u001b[39;00m\n\u001b[32m   1989\u001b[39m \u001b[38;5;66;03m# call is interrupted early and that the same instance is immediately\u001b[39;00m\n\u001b[32m   1990\u001b[39m \u001b[38;5;66;03m# reused, this id will be used to prevent workers that were\u001b[39;00m\n\u001b[32m   1991\u001b[39m \u001b[38;5;66;03m# concurrently finalizing a task from the previous call to run the\u001b[39;00m\n\u001b[32m   1992\u001b[39m \u001b[38;5;66;03m# callback.\u001b[39;00m\n\u001b[32m   1993\u001b[39m \u001b[38;5;28;01mwith\u001b[39;00m \u001b[38;5;28mself\u001b[39m._lock:\n",
      "\u001b[36mFile \u001b[39m\u001b[32m/opt/conda/lib/python3.12/site-packages/joblib/parallel.py:1914\u001b[39m, in \u001b[36mParallel._get_sequential_output\u001b[39m\u001b[34m(self, iterable)\u001b[39m\n\u001b[32m   1912\u001b[39m \u001b[38;5;28mself\u001b[39m.n_dispatched_batches += \u001b[32m1\u001b[39m\n\u001b[32m   1913\u001b[39m \u001b[38;5;28mself\u001b[39m.n_dispatched_tasks += \u001b[32m1\u001b[39m\n\u001b[32m-> \u001b[39m\u001b[32m1914\u001b[39m res = \u001b[43mfunc\u001b[49m\u001b[43m(\u001b[49m\u001b[43m*\u001b[49m\u001b[43margs\u001b[49m\u001b[43m,\u001b[49m\u001b[43m \u001b[49m\u001b[43m*\u001b[49m\u001b[43m*\u001b[49m\u001b[43mkwargs\u001b[49m\u001b[43m)\u001b[49m\n\u001b[32m   1915\u001b[39m \u001b[38;5;28mself\u001b[39m.n_completed_tasks += \u001b[32m1\u001b[39m\n\u001b[32m   1916\u001b[39m \u001b[38;5;28mself\u001b[39m.print_progress()\n",
      "\u001b[36mFile \u001b[39m\u001b[32m/opt/conda/lib/python3.12/site-packages/sklearn/utils/parallel.py:139\u001b[39m, in \u001b[36m_FuncWrapper.__call__\u001b[39m\u001b[34m(self, *args, **kwargs)\u001b[39m\n\u001b[32m    137\u001b[39m     config = {}\n\u001b[32m    138\u001b[39m \u001b[38;5;28;01mwith\u001b[39;00m config_context(**config):\n\u001b[32m--> \u001b[39m\u001b[32m139\u001b[39m     \u001b[38;5;28;01mreturn\u001b[39;00m \u001b[38;5;28;43mself\u001b[39;49m\u001b[43m.\u001b[49m\u001b[43mfunction\u001b[49m\u001b[43m(\u001b[49m\u001b[43m*\u001b[49m\u001b[43margs\u001b[49m\u001b[43m,\u001b[49m\u001b[43m \u001b[49m\u001b[43m*\u001b[49m\u001b[43m*\u001b[49m\u001b[43mkwargs\u001b[49m\u001b[43m)\u001b[49m\n",
      "\u001b[36mFile \u001b[39m\u001b[32m/opt/conda/lib/python3.12/site-packages/sklearn/ensemble/_forest.py:176\u001b[39m, in \u001b[36m_parallel_build_trees\u001b[39m\u001b[34m(tree, bootstrap, X, y, sample_weight, tree_idx, n_trees, verbose, class_weight, n_samples_bootstrap, missing_values_in_feature_mask)\u001b[39m\n\u001b[32m    173\u001b[39m \u001b[38;5;28;01melse\u001b[39;00m:\n\u001b[32m    174\u001b[39m     curr_sample_weight = sample_weight.copy()\n\u001b[32m--> \u001b[39m\u001b[32m176\u001b[39m indices = \u001b[43m_generate_sample_indices\u001b[49m\u001b[43m(\u001b[49m\n\u001b[32m    177\u001b[39m \u001b[43m    \u001b[49m\u001b[43mtree\u001b[49m\u001b[43m.\u001b[49m\u001b[43mrandom_state\u001b[49m\u001b[43m,\u001b[49m\u001b[43m \u001b[49m\u001b[43mn_samples\u001b[49m\u001b[43m,\u001b[49m\u001b[43m \u001b[49m\u001b[43mn_samples_bootstrap\u001b[49m\n\u001b[32m    178\u001b[39m \u001b[43m\u001b[49m\u001b[43m)\u001b[49m\n\u001b[32m    179\u001b[39m sample_counts = np.bincount(indices, minlength=n_samples)\n\u001b[32m    180\u001b[39m curr_sample_weight *= sample_counts\n",
      "\u001b[36mFile \u001b[39m\u001b[32m/opt/conda/lib/python3.12/site-packages/sklearn/ensemble/_forest.py:129\u001b[39m, in \u001b[36m_generate_sample_indices\u001b[39m\u001b[34m(random_state, n_samples, n_samples_bootstrap)\u001b[39m\n\u001b[32m    125\u001b[39m \u001b[38;5;28;01mdef\u001b[39;00m\u001b[38;5;250m \u001b[39m\u001b[34m_generate_sample_indices\u001b[39m(random_state, n_samples, n_samples_bootstrap):\n\u001b[32m    126\u001b[39m \u001b[38;5;250m    \u001b[39m\u001b[33;03m\"\"\"\u001b[39;00m\n\u001b[32m    127\u001b[39m \u001b[33;03m    Private function used to _parallel_build_trees function.\"\"\"\u001b[39;00m\n\u001b[32m--> \u001b[39m\u001b[32m129\u001b[39m     random_instance = \u001b[43mcheck_random_state\u001b[49m\u001b[43m(\u001b[49m\u001b[43mrandom_state\u001b[49m\u001b[43m)\u001b[49m\n\u001b[32m    130\u001b[39m     sample_indices = random_instance.randint(\n\u001b[32m    131\u001b[39m         \u001b[32m0\u001b[39m, n_samples, n_samples_bootstrap, dtype=np.int32\n\u001b[32m    132\u001b[39m     )\n\u001b[32m    134\u001b[39m     \u001b[38;5;28;01mreturn\u001b[39;00m sample_indices\n",
      "\u001b[36mFile \u001b[39m\u001b[32m/opt/conda/lib/python3.12/site-packages/sklearn/utils/validation.py:1515\u001b[39m, in \u001b[36mcheck_random_state\u001b[39m\u001b[34m(seed)\u001b[39m\n\u001b[32m   1513\u001b[39m     \u001b[38;5;28;01mreturn\u001b[39;00m np.random.mtrand._rand\n\u001b[32m   1514\u001b[39m \u001b[38;5;28;01mif\u001b[39;00m \u001b[38;5;28misinstance\u001b[39m(seed, numbers.Integral):\n\u001b[32m-> \u001b[39m\u001b[32m1515\u001b[39m     \u001b[38;5;28;01mreturn\u001b[39;00m \u001b[43mnp\u001b[49m\u001b[43m.\u001b[49m\u001b[43mrandom\u001b[49m\u001b[43m.\u001b[49m\u001b[43mRandomState\u001b[49m\u001b[43m(\u001b[49m\u001b[43mseed\u001b[49m\u001b[43m)\u001b[49m\n\u001b[32m   1516\u001b[39m \u001b[38;5;28;01mif\u001b[39;00m \u001b[38;5;28misinstance\u001b[39m(seed, np.random.RandomState):\n\u001b[32m   1517\u001b[39m     \u001b[38;5;28;01mreturn\u001b[39;00m seed\n",
      "\u001b[36mFile \u001b[39m\u001b[32mnumpy/random/mtrand.pyx:185\u001b[39m, in \u001b[36mnumpy.random.mtrand.RandomState.__init__\u001b[39m\u001b[34m()\u001b[39m\n",
      "\u001b[36mFile \u001b[39m\u001b[32m_mt19937.pyx:132\u001b[39m, in \u001b[36mnumpy.random._mt19937.MT19937.__init__\u001b[39m\u001b[34m()\u001b[39m\n",
      "\u001b[36mFile \u001b[39m\u001b[32m/opt/conda/lib/python3.12/site-packages/numpy/_core/_ufunc_config.py:480\u001b[39m, in \u001b[36merrstate.__call__.<locals>.inner\u001b[39m\u001b[34m(*args, **kwargs)\u001b[39m\n\u001b[32m    477\u001b[39m _token = _extobj_contextvar.set(extobj)\n\u001b[32m    478\u001b[39m \u001b[38;5;28;01mtry\u001b[39;00m:\n\u001b[32m    479\u001b[39m     \u001b[38;5;66;03m# Call the original, decorated, function:\u001b[39;00m\n\u001b[32m--> \u001b[39m\u001b[32m480\u001b[39m     \u001b[38;5;28;01mreturn\u001b[39;00m \u001b[43mfunc\u001b[49m\u001b[43m(\u001b[49m\u001b[43m*\u001b[49m\u001b[43margs\u001b[49m\u001b[43m,\u001b[49m\u001b[43m \u001b[49m\u001b[43m*\u001b[49m\u001b[43m*\u001b[49m\u001b[43mkwargs\u001b[49m\u001b[43m)\u001b[49m\n\u001b[32m    481\u001b[39m \u001b[38;5;28;01mfinally\u001b[39;00m:\n\u001b[32m    482\u001b[39m     _extobj_contextvar.reset(_token)\n",
      "\u001b[31mKeyboardInterrupt\u001b[39m: "
     ]
    }
   ],
   "source": [
    "parameters = {\n",
    "    \"n_estimators\": [100],\n",
    "    \"data_lengths\": [100],\n",
    "    \"random_state_gap\": 1,\n",
    "    \"random_state_begin\": 113300,\n",
    "    \"random_state_end\": 114001,\n",
    "    \"last_rounds\": [i for i in range(1175, 770, -1)],\n",
    "    \"db_file_path\": '../db/metrics.db',\n",
    "    \"write_db_file_path\": '../db/metrics.db'\n",
    "}\n",
    "\n",
    "result_sets = main(parameters=parameters, version=version, sum_min=0, sum_max=-1, trial=1, write_to_db=True)"
   ]
  },
  {
   "cell_type": "markdown",
   "id": "93c0d7d4-47ec-49e0-a244-442b5a34eb40",
   "metadata": {},
   "source": [
    "## 데이터 검증 코드"
   ]
  },
  {
   "cell_type": "code",
   "execution_count": null,
   "id": "af31c0b6-e7e0-4d36-95a7-63ee3f361a28",
   "metadata": {},
   "outputs": [],
   "source": [
    "version=\"T_01_10\"\n",
    "!echo \"delete from rndforest where version=\\\"{version}\\\"\" | sqlite3 ../db/metrics.db\n",
    "parameters = {\n",
    "    \"n_estimators\": [45],\n",
    "    \"data_lengths\": [21],\n",
    "    \"random_state_gap\": 1,\n",
    "    \"random_state_begin\": 101700,\n",
    "    \"random_state_end\": 101701,\n",
    "    \"last_rounds\": [i for i in range(1175, 900, -1)],\n",
    "    \"db_file_path\": '../db/metrics.db',\n",
    "    \"write_db_file_path\": '../db/metrics.db'\n",
    "}\n",
    "result_sets = main(parameters=parameters, version=version, sum_min=0, sum_max=-1, trial=1, write_to_db=True)"
   ]
  },
  {
   "cell_type": "code",
   "execution_count": null,
   "id": "43404555-1c11-4105-b678-f347563ca08c",
   "metadata": {},
   "outputs": [],
   "source": [
    "## SQL Query\n",
    "version=\"T_01_10\"\n",
    "data = !echo \"select * from rndforest where version=\\\"{version}\\\"\" | sqlite3 ../db/metrics.db\n",
    "if len(data) > 0:\n",
    "    data_cols = data[0].split('|')\n",
    "    x_data = [int(i) for i in data_cols[4].split(',')]\n",
    "    y_data = [int(i) for i in data_cols[5].split(',')]\n",
    "    x_label = 'round'\n",
    "    y_label = 'count'\n",
    "    draw_data_graph(title='frequency',\n",
    "                    x_data=x_data,\n",
    "                    y_data=y_data,\n",
    "                    x_label=x_label,\n",
    "                    y_label=y_label,\n",
    "                    width=0,\n",
    "                    height=0,\n",
    "                    file_name=\"\",\n",
    "                    is_bar=False,\n",
    "                    verb=False)\n",
    "else:\n",
    "    print('Have no data.')"
   ]
  },
  {
   "cell_type": "code",
   "execution_count": null,
   "id": "613f0938-f7a5-4736-bc59-fd4867aedc6a",
   "metadata": {},
   "outputs": [],
   "source": [
    "version=\"T_01_10\"\n",
    "\"\"\"\n",
    "['10', '400', '338000', '1175,1174,1173,1172,1171,1170,1169,1168,1167,1166', '3,3,1,0,3,0,1,3,3,2', '19', 'T_01_08'],\n",
    "['10', '400', '74730', '1175,1174,1173,1172,1171,1170,1169,1168,1167,1166', '1,3,1,1,3,1,0,0,3,1', '14', 'T_01_08']\n",
    "['25', '400', '116690', '1175,1174,1173,1172,1171,1170,1169,1168,1167,1166', '1,3,2,2,3,0,3,2,1,1', '18', 'T_01_08']\n",
    "['10', '400', '129020', '1175,1174,1173,1172,1171,1170,1169,1168,1167,1166', '0,0,0,1,0,0,0,0,0,0', '1', 'T_01_08']\n",
    "\"\"\"\n",
    "!echo \"delete from rndforest where version=\\\"{version}\\\"\" | sqlite3 ../db/metrics.db\n",
    "parameters = {\n",
    "    \"n_estimators\": [25],\n",
    "    \"data_lengths\": [400],\n",
    "    \"random_state_gap\": 1,\n",
    "    \"random_state_begin\": 116690,\n",
    "    \"random_state_end\": 116691,\n",
    "    \"last_rounds\": [i for i in range(1175, 900, -1)],\n",
    "    \"db_file_path\": '../db/metrics.db',\n",
    "    \"write_db_file_path\": '../db/metrics.db'\n",
    "}\n",
    "result_sets = main(parameters=parameters, version=version, sum_min=0, sum_max=-1, trial=1, write_to_db=True)"
   ]
  },
  {
   "cell_type": "code",
   "execution_count": null,
   "id": "48bf8218-2204-469a-8782-cecc7551182d",
   "metadata": {},
   "outputs": [],
   "source": [
    "## SQL Query\n",
    "version=\"T_01_10\"\n",
    "data = !echo \"select * from rndforest where version=\\\"{version}\\\"\" | sqlite3 ../db/metrics.db\n",
    "if len(data) > 0:\n",
    "    data_cols = data[0].split('|')\n",
    "    x_data = [int(i) for i in data_cols[4].split(',')]\n",
    "    y_data = [int(i) for i in data_cols[5].split(',')]\n",
    "    x_label = 'round'\n",
    "    y_label = 'count'\n",
    "    draw_data_graph(title='frequency',\n",
    "                    x_data=x_data,\n",
    "                    y_data=y_data,\n",
    "                    x_label=x_label,\n",
    "                    y_label=y_label,\n",
    "                    width=0,\n",
    "                    height=0,\n",
    "                    file_name=\"\",\n",
    "                    is_bar=False,\n",
    "                    verb=False)\n",
    "else:\n",
    "    print('Have no data.')"
   ]
  },
  {
   "cell_type": "code",
   "execution_count": null,
   "id": "eac6f4ac-d7bb-438e-b2db-8bb5a4b12c68",
   "metadata": {},
   "outputs": [],
   "source": [
    "version=\"T_01_10\"\n",
    "\"\"\"\n",
    "['10', '400', '338000', '1175,1174,1173,1172,1171,1170,1169,1168,1167,1166', '3,3,1,0,3,0,1,3,3,2', '19', 'T_01_08'],\n",
    "['10', '400', '74730', '1175,1174,1173,1172,1171,1170,1169,1168,1167,1166', '1,3,1,1,3,1,0,0,3,1', '14', 'T_01_08']\n",
    "['25', '400', '116690', '1175,1174,1173,1172,1171,1170,1169,1168,1167,1166', '1,3,2,2,3,0,3,2,1,1', '18', 'T_01_08']\n",
    "['10', '400', '129020', '1175,1174,1173,1172,1171,1170,1169,1168,1167,1166', '0,0,0,1,0,0,0,0,0,0', '1', 'T_01_08']\n",
    "39874|25|400|383080|1175,1174,1173,1172,1171,1170,1169,1168,1167,1166|0,0,0,0,0,1,0,0,0,0|1|T_01_08\n",
    "41795|10|400|302290|1175,1174,1173,1172,1171,1170,1169,1168,1167,1166|1,0,0,0,0,0,0,0,0,0|1|T_01_08\n",
    "42155|10|400|305890|1175,1174,1173,1172,1171,1170,1169,1168,1167,1166|1,0,0,0,0,0,0,0,0,0|1|T_01_08\n",
    "\n",
    "    (25, 451600, [4, 3], 6),\n",
    "    (25, 489000, [4, 3], 6),\n",
    "    (6, 473900, [4, 4], 6),\n",
    "    (10, 113700, [4, 4], 6),\n",
    "\"\"\"\n",
    "!echo \"delete from rndforest where version=\\\"{version}\\\"\" | sqlite3 ../db/metrics.db\n",
    "parameters = {\n",
    "    \"img/T_01_95_1.png\":{\n",
    "        \"n_estimators\": [10],\n",
    "        \"data_lengths\": [20],\n",
    "        \"random_state_gap\": 1,\n",
    "        \"random_state_begin\": 11370000,\n",
    "        \"random_state_end\": 11370001,\n",
    "        \"last_rounds\": [i for i in range(1175, 700, -1)],\n",
    "        \"db_file_path\": '../db/metrics.db',\n",
    "        \"write_db_file_path\": '../db/metrics.db',\n",
    "        \"version\": \"T_01_95\"\n",
    "    },\n",
    "    \"img/T_01_95_2.png\":{\n",
    "        \"n_estimators\": [90],\n",
    "        \"data_lengths\": [90],\n",
    "        \"random_state_gap\": 1,\n",
    "        \"random_state_begin\": 11370000,\n",
    "        \"random_state_end\": 11370001,\n",
    "        \"last_rounds\": [i for i in range(1175, 760, -1)],\n",
    "        \"db_file_path\": '../db/metrics.db',\n",
    "        \"write_db_file_path\": '../db/metrics.db',\n",
    "        \"version\": \"T_01_95\"\n",
    "    },\n",
    "    \"img/T_01_95_3.png\":{\n",
    "        \"n_estimators\": [100],\n",
    "        \"data_lengths\": [100],\n",
    "        \"random_state_gap\": 1,\n",
    "        \"random_state_begin\": 113700,\n",
    "        \"random_state_end\": 113701,\n",
    "        \"last_rounds\": [i for i in range(1175, 760, -1)],\n",
    "        \"db_file_path\": '../db/metrics.db',\n",
    "        \"write_db_file_path\": '../db/metrics.db',\n",
    "        \"version\": \"T_01_95\"\n",
    "    },\n",
    "    \"img/T_01_95_4.png\":{\n",
    "        \"n_estimators\": [90],\n",
    "        \"data_lengths\": [45],\n",
    "        \"random_state_gap\": 1,\n",
    "        \"random_state_begin\": 113700,\n",
    "        \"random_state_end\": 113701,\n",
    "        \"last_rounds\": [i for i in range(1175, 710, -1)],\n",
    "        \"db_file_path\": '../db/metrics.db',\n",
    "        \"write_db_file_path\": '../db/metrics.db',\n",
    "        \"version\": \"T_01_95\"\n",
    "    },\n",
    "    \"img/T_01_95_5.png\":{\n",
    "        \"n_estimators\": [6],\n",
    "        \"data_lengths\": [6],\n",
    "        \"random_state_gap\": 1,\n",
    "        \"random_state_begin\": 113700,\n",
    "        \"random_state_end\": 113701,\n",
    "        \"last_rounds\": [i for i in range(1175, 660, -1)],\n",
    "        \"db_file_path\": '../db/metrics.db',\n",
    "        \"write_db_file_path\": '../db/metrics.db',\n",
    "        \"version\": \"T_01_95\"\n",
    "    },\n",
    "    \"img/T_01_95_6.png\":{\n",
    "        \"n_estimators\": [45],\n",
    "        \"data_lengths\": [19],\n",
    "        \"random_state_gap\": 1,\n",
    "        \"random_state_begin\": 113700,\n",
    "        \"random_state_end\": 113701,\n",
    "        \"last_rounds\": [i for i in range(1175, 680, -1)],\n",
    "        \"db_file_path\": '../db/metrics.db',\n",
    "        \"write_db_file_path\": '../db/metrics.db',\n",
    "        \"version\": \"T_01_95\"\n",
    "    },\n",
    "    \"img/T_01_95_7.png\":{\n",
    "        \"n_estimators\": [10],\n",
    "        \"data_lengths\": [21],\n",
    "        \"random_state_gap\": 1,\n",
    "        \"random_state_begin\": 113700,\n",
    "        \"random_state_end\": 113701,\n",
    "        \"last_rounds\": [i for i in range(1175, 690, -1)],\n",
    "        \"db_file_path\": '../db/metrics.db',\n",
    "        \"write_db_file_path\": '../db/metrics.db',\n",
    "        \"version\": \"T_01_95\"\n",
    "    },\n",
    "    \"img/T_01_95_8.png\":{\n",
    "        \"n_estimators\": [6],\n",
    "        \"data_lengths\": [15],\n",
    "        \"random_state_gap\": 1,\n",
    "        \"random_state_begin\": 113700,\n",
    "        \"random_state_end\": 113701,\n",
    "        \"last_rounds\": [i for i in range(1175, 690, -1)],\n",
    "        \"db_file_path\": '../db/metrics.db',\n",
    "        \"write_db_file_path\": '../db/metrics.db',\n",
    "        \"version\": \"T_01_95\"\n",
    "    },\n",
    "    \"img/T_01_95_9.png\":{\n",
    "        \"n_estimators\": [6],\n",
    "        \"data_lengths\": [11],\n",
    "        \"random_state_gap\": 1,\n",
    "        \"random_state_begin\": 473900,\n",
    "        \"random_state_end\": 473901,\n",
    "        \"last_rounds\": [i for i in range(1175, 690, -1)],\n",
    "        \"db_file_path\": '../db/metrics.db',\n",
    "        \"write_db_file_path\": '../db/metrics.db',\n",
    "        \"version\": \"T_01_95\"\n",
    "    },\n",
    "    \"img/T_01_95_10.png\":{\n",
    "        \"n_estimators\": [10],\n",
    "        \"data_lengths\": [38],\n",
    "        \"random_state_gap\": 1,\n",
    "        \"random_state_begin\": 338000,\n",
    "        \"random_state_end\": 338001,\n",
    "        \"last_rounds\": [i for i in range(1175, 708, -1)],\n",
    "        \"db_file_path\": '../db/metrics.db',\n",
    "        \"write_db_file_path\": '../db/metrics.db',\n",
    "        \"version\": \"T_01_95\"\n",
    "    },\n",
    "    \"img/T_01_95_11.png\":{\n",
    "        \"n_estimators\": [25],\n",
    "        \"data_lengths\": [400],\n",
    "        \"random_state_gap\": 1,\n",
    "        \"random_state_begin\": 116690,\n",
    "        \"random_state_end\": 116691,\n",
    "        \"last_rounds\": [i for i in range(1175, 1055, -1)],\n",
    "        \"db_file_path\": '../db/metrics.db',\n",
    "        \"write_db_file_path\": '../db/metrics.db',\n",
    "        \"version\": \"T_01_95\"\n",
    "    },\n",
    "    \"img/T_01_95_12.png\":{\n",
    "        \"n_estimators\": [10],\n",
    "        \"data_lengths\": [400],\n",
    "        \"random_state_gap\": 1,\n",
    "        \"random_state_begin\": 74730,\n",
    "        \"random_state_end\": 74731,\n",
    "        \"last_rounds\": [i for i in range(1175, 1055, -1)],\n",
    "        \"db_file_path\": '../db/metrics.db',\n",
    "        \"write_db_file_path\": '../db/metrics.db',\n",
    "        \"version\": \"T_01_95\"\n",
    "    },\n",
    "    \"img/T_01_95_13.png\":{\n",
    "        \"n_estimators\": [10],\n",
    "        \"data_lengths\": [400],\n",
    "        \"random_state_gap\": 1,\n",
    "        \"random_state_begin\": 338000,\n",
    "        \"random_state_end\": 338001,\n",
    "        \"last_rounds\": [i for i in range(1175, 1055, -1)],\n",
    "        \"db_file_path\": '../db/metrics.db',\n",
    "        \"write_db_file_path\": '../db/metrics.db',\n",
    "        \"version\": \"T_01_95\"\n",
    "    },\n",
    "    \"img/T_01_95_14.png\":{\n",
    "        \"n_estimators\": [10],\n",
    "        \"data_lengths\": [400],\n",
    "        \"random_state_gap\": 1,\n",
    "        \"random_state_begin\": 129020,\n",
    "        \"random_state_end\": 129020,\n",
    "        \"last_rounds\": [i for i in range(1175, 1055, -1)],\n",
    "        \"db_file_path\": '../db/metrics.db',\n",
    "        \"write_db_file_path\": '../db/metrics.db',\n",
    "        \"version\": \"T_01_95\"\n",
    "    },\n",
    "    \"img/T_01_96_1.png\":{\n",
    "        \"n_estimators\": [25],\n",
    "        \"data_lengths\": [400],\n",
    "        \"random_state_gap\": 1,\n",
    "        \"random_state_begin\": 116690,\n",
    "        \"random_state_end\": 116691,\n",
    "        \"last_rounds\": [i for i in range(1175, 1055, -1)],\n",
    "        \"db_file_path\": '../db/metrics.db',\n",
    "        \"write_db_file_path\": '../db/metrics.db',\n",
    "        \"version\": \"T_01_96\"\n",
    "    },\n",
    "    \"img/T_01_97_1.png\":{\n",
    "        \"n_estimators\": [45],\n",
    "        \"data_lengths\": [21],\n",
    "        \"random_state_gap\": 1,\n",
    "        \"random_state_begin\": 101700,\n",
    "        \"random_state_end\": 101701,\n",
    "        \"last_rounds\": [i for i in range(1175, 700, -1)],\n",
    "        \"db_file_path\": '../db/metrics.db',\n",
    "        \"write_db_file_path\": '../db/metrics.db',\n",
    "        \"version\": \"T_01_97\"\n",
    "    },\n",
    "}\n"
   ]
  },
  {
   "cell_type": "code",
   "execution_count": null,
   "id": "e2e73a57-579b-4609-b1aa-8a4bf02c3c0d",
   "metadata": {},
   "outputs": [],
   "source": [
    "def delete_file(path, except_files: list):\n",
    "    \"\"\" delete_file \"\"\"\n",
    "    import os\n",
    "    file_list = os.listdir(path)\n",
    "    for file in file_list:\n",
    "        if file.endswith('png'):\n",
    "            if file not in except_files:\n",
    "                file_path = path + '/' + file\n",
    "                print(file_path)\n",
    "                os.remove(file_path)"
   ]
  },
  {
   "cell_type": "code",
   "execution_count": null,
   "id": "99cc4e22-a357-4695-9c03-370cfafe35fa",
   "metadata": {},
   "outputs": [],
   "source": [
    "## predict all data\n",
    "except_files = []\n",
    "img_path = \"./img\"\n",
    "\n",
    "delete_file(path=img_path, except_files=except_files)\n",
    "\n",
    "for key in parameters:\n",
    "    version = parameters[key][\"version\"]\n",
    "    if version == \"T_01_95\":\n",
    "        !echo \"delete from rndforest where version=\\\"{version}\\\"\" | sqlite3 ../db/metrics.db\n",
    "        main(parameters=parameters[key], version=version, sum_min=0, sum_max=-1, trial=1, write_to_db=True)\n",
    "    print(f\"{key}, {result_sets}, {len(result_sets)} [now: {datetime.now()}]\")\n",
    "    condition = {\n",
    "        \"n_estimators\": parameters[key][\"n_estimators\"],\n",
    "        \"data_lengths\": parameters[key][\"data_lengths\"],\n",
    "        \"random_state_gap\": parameters[key][\"random_state_gap\"],\n",
    "        \"random_state_begin\": parameters[key][\"random_state_begin\"],\n",
    "        \"random_state_end\": parameters[key][\"random_state_end\"],\n",
    "        }\n",
    "    file_name = key\n",
    "    draw_graph(version=version, condition=condition, file_name=file_name)"
   ]
  },
  {
   "cell_type": "code",
   "execution_count": null,
   "id": "4e87c774-789d-4ffb-b096-5642693bedab",
   "metadata": {},
   "outputs": [],
   "source": [
    "#45,96800,4,3,1\n",
    "\"\"\"\n",
    "['25', '400', '44510', '1175,1174,1173,1172,1171,1170,1169,1168,1167,1166', '0,1,0,3,2,0,1,3,3,1', '14', 'T_01_08']\n",
    "['10', '400', '392390', '1175,1174,1173,1172,1171,1170,1169,1168,1167,1166', '1,1,2,1,2,1,0,1,3,3', '15', 'T_01_08']\n",
    "['25', '400', '111570', '1175,1174,1173,1172,1171,1170,1169,1168,1167,1166', '1,0,0,0,0,0,3,3,0,0', '7', 'T_01_08']\n",
    "['10', '400', '160040', '1175,1174,1173,1172,1171,1170,1169,1168,1167,1166', '1,0,0,0,1,1,0,1,3,0', '7', 'T_01_08']\n",
    "['25', '400', '396820', '1175,1174,1173,1172,1171,1170,1169,1168,1167,1166', '0,0,0,0,0,0,0,0,3,0', '3', 'T_01_08']\n",
    "\"\"\"\n",
    "parameters_2 = {\n",
    "    \"n_estimators\": [25],\n",
    "    \"data_lengths\": [120],\n",
    "    \"random_state_gap\": 1,\n",
    "    \"random_state_begin\": 396831,\n",
    "    \"random_state_end\": 396832,\n",
    "    \"last_rounds\": [i for i in range(1175, 790, -1)],\n",
    "    \"db_file_path\": '../db/metrics.db',\n",
    "    \"write_db_file_path\": '../db/metrics.db',\n",
    "    \"version\": \"T_01_94\"\n",
    "    }\n",
    "\n",
    "parameters_0 = {\n",
    "        \"n_estimators\": [25],\n",
    "        \"data_lengths\": [400],\n",
    "        \"random_state_gap\": 1,\n",
    "        \"random_state_begin\": 396831,\n",
    "        \"random_state_end\": 396832,\n",
    "        \"last_rounds\": [i for i in range(1175, 1055, -1)],\n",
    "        \"db_file_path\": '../db/metrics.db',\n",
    "        \"write_db_file_path\": '../db/metrics.db',\n",
    "        \"version\": \"T_01_94\"\n",
    "    }\n",
    "\n",
    "parameters_1 = {\n",
    "        \"n_estimators\": [10],\n",
    "        \"data_lengths\": [40],\n",
    "        \"random_state_gap\": 1,\n",
    "        \"random_state_begin\": 31390,\n",
    "        \"random_state_end\": 31391,\n",
    "        \"last_rounds\": [i for i in range(1175, 700, -1)],\n",
    "        \"db_file_path\": '../db/metrics.db',\n",
    "        \"write_db_file_path\": '../db/metrics.db',\n",
    "        \"version\": \"T_01_95\"\n",
    "    }\n",
    "\n",
    "## predict data\n",
    "file_name = \"img/temp.png\"\n",
    "\n",
    "!echo \"delete from rndforest where version=\\\"{parameters_1[\"version\"]}\\\"\" | sqlite3 ../db/metrics.db\n",
    "\n",
    "result_sets = main(parameters=parameters_1,\n",
    "                   version=parameters_1[\"version\"],\n",
    "                   sum_min=0,\n",
    "                   sum_max=-1,\n",
    "                   trial=1,\n",
    "                   write_to_db=True)\n",
    "## SQL Query\n",
    "condition = {\n",
    "    \"n_estimators\": parameters_1[\"n_estimators\"],\n",
    "    \"data_lengths\": parameters_1[\"data_lengths\"],\n",
    "    \"random_state_gap\": parameters_1[\"random_state_gap\"],\n",
    "    \"random_state_begin\": parameters_1[\"random_state_begin\"],\n",
    "    \"random_state_end\": parameters_1[\"random_state_end\"],\n",
    "}\n",
    "print(f'draw graph : [{datetime.now()}')\n",
    " \n",
    "draw_graph(version=parameters_1[\"version\"], condition=condition, file_name=file_name)\n",
    "data = !echo \"select * from rndforest where version=\\\"{parameters_1[\"version\"]}\\\"\" | sqlite3 ../db/metrics.db\n",
    "print(data)"
   ]
  },
  {
   "cell_type": "code",
   "execution_count": null,
   "id": "8dce23d7-8471-43ca-a5c3-c83065ca8938",
   "metadata": {},
   "outputs": [],
   "source": [
    "#45,96800,4,3,1\n",
    "\"\"\"\n",
    "\"\"\"\n",
    "T_VERSION=\"T_01_10\"\n",
    "DB_FILE=\"../db/metrics.db\"\n",
    "\n",
    "rows = !echo \"select * from rndforest where version={T_VERSION}\" | sqlite3 {DB_FILE}\n",
    "\n",
    "for row in rows:\n",
    "    print(row)\n",
    "\n",
    "# ## predict data\n",
    "# file_name = \"img/temp.png\"\n",
    "\n",
    "# !echo \"delete from rndforest where version=\\\"{parameters_1[\"version\"]}\\\"\" | sqlite3 \"DB_FILE\"\n",
    "\n",
    "\n",
    "# result_sets = main(parameters=parameters_1,\n",
    "#                    version=parameters_1[\"version\"],\n",
    "#                    sum_min=0,\n",
    "#                    sum_max=-1,\n",
    "#                    trial=1,\n",
    "#                    write_to_db=True)\n",
    "# ## SQL Query\n",
    "# condition = {\n",
    "#     \"n_estimators\": parameters_1[\"n_estimators\"],\n",
    "#     \"data_lengths\": parameters_1[\"data_lengths\"],\n",
    "#     \"random_state_gap\": parameters_1[\"random_state_gap\"],\n",
    "#     \"random_state_begin\": parameters_1[\"random_state_begin\"],\n",
    "#     \"random_state_end\": parameters_1[\"random_state_end\"],\n",
    "# }\n",
    "# print(f'draw graph : [{datetime.now()}')\n",
    " \n",
    "# draw_graph(version=parameters_1[\"version\"], condition=condition, file_name=file_name)\n",
    "# data = !echo \"select * from rndforest where version=\\\"{parameters_1[\"version\"]}\\\"\" | sqlite3 ../db/metrics.db\n",
    "# print(data)"
   ]
  },
  {
   "cell_type": "markdown",
   "id": "e287b894-dfb6-49d5-9f9f-aabc3fa713e5",
   "metadata": {},
   "source": [
    "## 이전 테스트 데이터 목록\n",
    "\n",
    "```\n",
    "(25, 219100, [3, 4], 0)\n",
    "(25, 560100, [3, 4], 0)\n",
    "(25, 322300, [3, 4], 5)\n",
    "(25, 520500, [3, 4], 5)\n",
    "(25, 148700, [3, 4], 6)\n",
    "(25, 283500, [3, 4], 6)\n",
    "(25, 358100, [3, 4], 6)\n",
    "(25, 451600, [4, 3], 6)\n",
    "(25, 489000, [4, 3], 6)\n",
    "(25, 295500, [3, 4], 7)\n",
    "(25, 241500, [3, 4], 8)\n",
    "(45, 52100, [3, 4], 6)\n",
    "(45, 587300, [3, 4], 4)\n",
    "(10, 102500, [3, 4], 7)\n",
    "(10, 113700, [4, 4], 6)\n",
    "(10, 164200, [3, 4], 1)\n",
    "(10, 225300, [3, 4], 8)\n",
    "(10, 371400, [3, 4], 8)\n",
    "(10, 255700, [3, 4], 7)\n",
    "(10, 15200, [3, 4], 7)\n",
    "(10, 63300, [3, 4], 6)\n",
    "(6, 131400, [3, 4], 5)\n",
    "(6, 195200, [4, 3], 5)\n",
    "(6, 406100, [4, 3], 8)\n",
    "(6, 325200, [4, 3], 7)\n",
    "(6, 353200, [4, 3], 7)\n",
    "(6, 473900, [4, 4], 6)\n",
    "(6, 363000, [4, 3], 5)\n",
    "[\n",
    "(25, 451600, [4, 3], 6),\n",
    "(25, 489000, [4, 3], 6),\n",
    "(6, 473900, [4, 4], 6),\n",
    "(10, 113700, [4, 4], 6),\n",
    "(10, 15200, [3, 4], 7),\n",
    "]\n",
    "\n",
    "```\n",
    "\n",
    "```\n",
    "datas = [\n",
    "    (25, 451600, [4, 3], 6),\n",
    "    (25, 489000, [4, 3], 6),\n",
    "    (6, 473900, [4, 4], 6),\n",
    "    (10, 113700, [4, 4], 6),\n",
    "    (10, 15200, [3, 4], 7),\n",
    "    ]\n",
    "\n",
    "datas = [\n",
    "    [45,208000,4,3,5],\n",
    "    [45,101700,4,3,2],\n",
    "    [45,101700,4,3,2],\n",
    "    [45,185400,4,3,2],\n",
    "    [45,96800,4,3,1],\n",
    "    [45,58600,3,3,0],\n",
    "    ]\n",
    "\n",
    "# datas = [\n",
    "#     [45,208000,4,3,5],\n",
    "#     [45,101700,4,3,2],\n",
    "#     [45,185400,4,3,2],\n",
    "#     [45,96800,4,3,1],\n",
    "#     [45,58600,3,3,0],\n",
    "#     ]\n",
    "datas = [\n",
    "    (25, 451600, [4, 3], 6),\n",
    "    (25, 489000, [4, 3], 6),\n",
    "    (6, 473900, [4, 4], 6),\n",
    "    (10, 113700, [4, 4], 6),\n",
    "    (10, 15200, [3, 4], 7),\n",
    "    ]\n",
    "    \n",
    "    # datas = [\n",
    "#     [45,208000,4,3,5],\n",
    "#     [45,101700,4,3,2],\n",
    "#     [45,185400,4,3,2],\n",
    "#     [45,96800,4,3,1],\n",
    "#     [45,58600,3,3,0],\n",
    "#     ]\n",
    "datas = [\n",
    "    (25, 451600, [4, 3], 6),\n",
    "    (25, 489000, [4, 3], 6),\n",
    "    (6, 473900, [4, 4], 6),\n",
    "    (10, 113700, [4, 4], 6),\n",
    "    (10, 15200, [3, 4], 7),\n",
    "    ]\n",
    "\n",
    "[\n",
    "[45,208000,4,3,5],\n",
    "[45,101700,4,3,2],\n",
    "[45,101700,4,3,2],\n",
    "[45,185400,4,3,2],\n",
    "[45,96800,4,3,1],\n",
    "    [45,58600,3,3,0],\n",
    "]\n",
    "\n",
    "    ([14, 17, 23, 27, 34, 36], [14, 17, 36], (45, 1000), (1160, 1173),\n",
    "    ([13, 16, 23, 27, 34, 36], [36], (45, 1300), (1160, 1173)),\n",
    "    ([11, 15, 21, 30, 36, 39], [11, 36, 39], (45, 1000), (1160, 1173),\n",
    "```"
   ]
  },
  {
   "cell_type": "code",
   "execution_count": null,
   "id": "0f555628-817b-4016-a446-e9ee8814e86a",
   "metadata": {},
   "outputs": [],
   "source": [
    "params = [\n",
    "    ['45', '23', '101700', '1175,1174,1173,1172', '0,0,1,0', '1', 'T_01_98'],\n",
    "    ['45', '24', '101700', '1175,1174,1173,1172', '0,0,0,0', '0', 'T_01_98'],\n",
    "    ['45', '25', '101700', '1175,1174,1173,1172', '0,0,1,1', '2', 'T_01_98'],\n",
    "    ['45', '26', '101700', '1175,1174,1173,1172', '0,2,1,1', '4', 'T_01_98'],\n",
    "]\n",
    "\n",
    "predicted_numbers_set = []\n",
    "\n",
    "db_file_path = '../db/metrics.db'\n",
    "\n",
    "print(params[0][3])\n",
    "last_rounds = [int(i) for i in params[0][3].split(',')]\n",
    "print(last_rounds)\n",
    "\n",
    "print('last_rounds')\n",
    "actual_nums = []\n",
    "for last_round in last_rounds:\n",
    "    nums = !echo \"select * from results where round={last_round}\" | sqlite3 ../db/metrics.db\n",
    "    actual_nums.append(nums)\n",
    "\n",
    "for nums in actual_nums:\n",
    "    print(nums)\n",
    "\n",
    "for last_round in last_rounds:\n",
    "    for param in params:\n",
    "        predicted_numbers = main_predict(n_estimator=int(param[0]),\n",
    "                                         last_round=last_round,\n",
    "                                         data_length=int(param[1]),\n",
    "                                         random_state=int(param[2]),\n",
    "                                         db_file_path=db_file_path,\n",
    "                                         trial=1,\n",
    "                                         verbose=0)\n",
    "        predicted_numbers_set.append((last_round, predicted_numbers, int(param[0]), int(param[1]), int(param[2])))\n",
    "\n",
    "for numbers in predicted_numbers_set:\n",
    "    print(numbers)"
   ]
  },
  {
   "cell_type": "markdown",
   "id": "a559129c-09c8-4da2-bb42-d9179e64a6f7",
   "metadata": {},
   "source": [
    "## 데이터 예측"
   ]
  },
  {
   "cell_type": "code",
   "execution_count": 14,
   "id": "84c31c40-56a5-4051-bea3-77810ebfdd83",
   "metadata": {},
   "outputs": [
    {
     "name": "stdout",
     "output_type": "stream",
     "text": [
      "[[9, 12, 20, 25, 30, 40]]\n",
      "[[8, 12, 20, 24, 29, 40]]\n"
     ]
    }
   ],
   "source": [
    "# params = [\n",
    "#     ['25', '400', '168060', '1175,1174,1173,1172,1171,1170,1169,1168,1167,1166', '1,3,1,2,0,1,4,4,0,1', '17', 'T_01_08'],\n",
    "#     ['25', '400', '680', '1175,1174,1173,1172,1171,1170,1169,1168,1167,1166', '1,1,1,1,2,1,4,4,1,1', '17', 'T_01_08'],\n",
    "#     ['10', '400', '338000', '1175,1174,1173,1172,1171,1170,1169,1168,1167,1166', '3,3,1,0,3,0,1,3,3,2', '19', 'T_01_08'],\n",
    "#     ['25', '400', '116690', '1175,1174,1173,1172,1171,1170,1169,1168,1167,1166', '1,3,2,2,3,0,3,2,1,1', '18', 'T_01_08'],\n",
    "#     ['25', '400', '143050', '1175,1174,1173,1172,1171,1170,1169,1168,1167,1166', '1,3,3,3,2,0,3,1,1,1', '18', 'T_01_08'],\n",
    "#     ['10', '400', '129920', '1175,1174,1173,1172,1171,1170,1169,1168,1167,1166', '2,0,2,3,2,3,1,3,1,1', '18', 'T_01_08'],\n",
    "#     ['25', '400', '319350', '1175,1174,1173,1172,1171,1170,1169,1168,1167,1166', '1,3,1,3,1,1,3,3,2,0', '18', 'T_01_08'],\n",
    "#     ['10', '400', '374630', '1175,1174,1173,1172,1171,1170,1169,1168,1167,1166', '3,3,1,2,3,0,2,2,2,0', '18', 'T_01_08'],\n",
    "#     ['25', '400', '381150', '1175,1174,1173,1172,1171,1170,1169,1168,1167,1166', '1,3,1,1,2,0,3,3,2,1', '17', 'T_01_08'],\n",
    "#     ['10', '400', '373380', '1175,1174,1173,1172,1171,1170,1169,1168,1167,1166', '1,3,1,2,0,3,2,3,1,1', '17', 'T_01_08'],\n",
    "#     ['10', '400', '397710', '1175,1174,1173,1172,1171,1170,1169,1168,1167,1166', '1,3,2,1,1,0,2,3,3,1', '17', 'T_01_08'],\n",
    "#     ['10', '400', '73700', '1175,1174,1173,1172,1171,1170,1169,1168,1167,1166', '2,3,1,1,1,2,3,0,3,1', '17', 'T_01_08'],\n",
    "# ]\n",
    "\n",
    "\n",
    "params = [\n",
    "    # ['100', '100', '113806', '1175,1174,1173,1172,1171,1170,1169,1168,1167,1166', '1,3,1,2,0,1,4,4,0,1', '17', 'T_01_08'],\n",
    "    # ['100', '100', '113410', '1175,1174,1173,1172,1171,1170,1169,1168,1167,1166', '1,1,1,1,2,1,4,4,1,1', '17', 'T_01_08'],\n",
    "    # ['100', '100', '113732', '1175,1174,1173,1172,1171,1170,1169,1168,1167,1166', '3,3,1,0,3,0,1,3,3,2', '19', 'T_01_08'],\n",
    "    ['100', '100', '113429', '1175,1174,1173,1172,1171,1170,1169,1168,1167,1166', '1,3,2,2,3,0,3,2,1,1', '18', 'T_01_08'],\n",
    "    # ['100', '100', '113658', '1175,1174,1173,1172,1171,1170,1169,1168,1167,1166', '1,3,3,3,2,0,3,1,1,1', '18', 'T_01_08'],\n",
    "    # ['100', '100', '113650', '1175,1174,1173,1172,1171,1170,1169,1168,1167,1166', '2,0,2,3,2,3,1,3,1,1', '18', 'T_01_08'],\n",
    "    # ['100', '100', '113825', '1175,1174,1173,1172,1171,1170,1169,1168,1167,1166', '2,0,2,3,2,3,1,3,1,1', '18', 'T_01_08'],\n",
    "    # ['100', '100', '113685', '1175,1174,1173,1172,1171,1170,1169,1168,1167,1166', '2,0,2,3,2,3,1,3,1,1', '18', 'T_01_08'],\n",
    "    # ['100', '100', '113636', '1175,1174,1173,1172,1171,1170,1169,1168,1167,1166', '2,0,2,3,2,3,1,3,1,1', '18', 'T_01_08'],\n",
    "    ['100', '100', '3734', '1175,1174,1173,1172,1171,1170,1169,1168,1167,1166', '2,0,2,3,2,3,1,3,1,1', '18', 'T_01_08'],\n",
    "]\n",
    "\n",
    "### 113806 113410, 113732, 113429, 113658, 113650\n",
    "predicted_numbers_set = []\n",
    "\n",
    "db_file_path = '../db/metrics.db'\n",
    "\n",
    "for param in params:\n",
    "    predicted_numbers = main_predict(n_estimator=int(param[0]),\n",
    "                                     last_round=1176,\n",
    "                                     data_length=int(param[1]),\n",
    "                                     random_state=int(param[2]),\n",
    "                                     db_file_path=db_file_path,\n",
    "                                     trial=1,\n",
    "                                     verbose=0)\n",
    "    predicted_numbers_set.append(predicted_numbers)\n",
    "\n",
    "for numbers in predicted_numbers_set:\n",
    "    print(numbers)"
   ]
  },
  {
   "cell_type": "code",
   "execution_count": null,
   "id": "d0b72cc2-21a7-49ec-9034-620363ab139e",
   "metadata": {},
   "outputs": [],
   "source": [
    "#test\n",
    "[[9, 12, 20, 25, 30, 40]]"
   ]
  },
  {
   "cell_type": "code",
   "execution_count": null,
   "id": "92494318-fdfe-4f30-9abd-16f0ae974460",
   "metadata": {},
   "outputs": [],
   "source": [
    "params = {\n",
    "    \"img/T_01_95_2.png\": {\n",
    "        \"n_estimators\": [90],\n",
    "        \"data_lengths\": [90],\n",
    "        \"random_state_gap\": 1,\n",
    "        \"random_state_begin\": 11370000,\n",
    "        \"random_state_end\": 11370001,\n",
    "        \"last_rounds\": [i for i in range(1175, 760, -1)],\n",
    "        \"db_file_path\": '../db/metrics.db',\n",
    "        \"write_db_file_path\": '../db/metrics.db',\n",
    "        \"version\": \"T_01_95\"\n",
    "    },\n",
    "    \"img/T_01_95_3.png\": {\n",
    "        \"n_estimators\": [100],\n",
    "        \"data_lengths\": [100],\n",
    "        \"random_state_gap\": 1,\n",
    "        \"random_state_begin\": 113700,\n",
    "        \"random_state_end\": 113701,\n",
    "        \"last_rounds\": [i for i in range(1175, 760, -1)],\n",
    "        \"db_file_path\": '../db/metrics.db',\n",
    "        \"write_db_file_path\": '../db/metrics.db',\n",
    "        \"version\": \"T_01_95\"\n",
    "    },\n",
    "    \"img/T_01_95_9.png\": {\n",
    "        \"n_estimators\": [6],\n",
    "        \"data_lengths\": [11],\n",
    "        \"random_state_gap\": 1,\n",
    "        \"random_state_begin\": 473900,\n",
    "        \"random_state_end\": 473901,\n",
    "        \"last_rounds\": [i for i in range(1175, 690, -1)],\n",
    "        \"db_file_path\": '../db/metrics.db',\n",
    "        \"write_db_file_path\": '../db/metrics.db',\n",
    "        \"version\": \"T_01_95\"\n",
    "    },\n",
    "    \"img/T_01_94_1.png\": {\n",
    "        \"n_estimators\": [25],\n",
    "        \"data_lengths\": [400],\n",
    "        \"random_state_gap\": 1,\n",
    "        \"random_state_begin\": 396822,\n",
    "        \"random_state_end\": 396823,\n",
    "        \"last_rounds\": [i for i in range(1175, 1055, -1)],\n",
    "        \"db_file_path\": '../db/metrics.db',\n",
    "        \"write_db_file_path\": '../db/metrics.db',\n",
    "        \"version\": \"T_01_94\"\n",
    "    },\n",
    "    \"img/T_01_94_2.png\": {\n",
    "        \"n_estimators\": [25],\n",
    "        \"data_lengths\": [400],\n",
    "        \"random_state_gap\": 1,\n",
    "        \"random_state_begin\": 396831,\n",
    "        \"random_state_end\": 396832,\n",
    "        \"last_rounds\": [i for i in range(1175, 1055, -1)],\n",
    "        \"db_file_path\": '../db/metrics.db',\n",
    "        \"write_db_file_path\": '../db/metrics.db',\n",
    "        \"version\": \"T_01_94\"\n",
    "    },\n",
    "    \"img/T_01_94_3.png\": {\n",
    "        \"n_estimators\": [25],\n",
    "        \"data_lengths\": [120],\n",
    "        \"random_state_gap\": 1,\n",
    "        \"random_state_begin\": 396831,\n",
    "        \"random_state_end\": 396832,\n",
    "        \"last_rounds\": [i for i in range(1175, 790, -1)],\n",
    "        \"db_file_path\": '../db/metrics.db',\n",
    "        \"write_db_file_path\": '../db/metrics.db',\n",
    "        \"version\": \"T_01_94\"\n",
    "    },\n",
    "    \"img/T_01_94_4.png\": {\n",
    "        \"n_estimators\": [10],\n",
    "        \"data_lengths\": [45],\n",
    "        \"random_state_gap\": 1,\n",
    "        \"random_state_begin\": 33390,\n",
    "        \"random_state_end\": 33391,\n",
    "        \"last_rounds\": [i for i in range(1175, 700, -1)],\n",
    "        \"db_file_path\": '../db/metrics.db',\n",
    "        \"write_db_file_path\": '../db/metrics.db',\n",
    "        \"version\": \"T_01_95\"\n",
    "    },\n",
    "    \"img/T_01_94_5.png\": {\n",
    "        \"n_estimators\": [10],\n",
    "        \"data_lengths\": [40],\n",
    "        \"random_state_gap\": 1,\n",
    "        \"random_state_begin\": 31390,\n",
    "        \"random_state_end\": 31391,\n",
    "        \"last_rounds\": [i for i in range(1175, 700, -1)],\n",
    "        \"db_file_path\": '../db/metrics.db',\n",
    "        \"write_db_file_path\": '../db/metrics.db',\n",
    "        \"version\": \"T_01_95\"\n",
    "    },\n",
    "}\n",
    "predicted_numbers_set = []\n",
    "\n",
    "db_file_path = '../db/metrics.db'\n",
    "\n",
    "for key in params:\n",
    "    predicted_numbers = main_predict(n_estimator=params[key][\"n_estimators\"][0],\n",
    "                                     last_round=1176,\n",
    "                                     data_length=params[key][\"data_lengths\"][0],\n",
    "                                     random_state=params[key][\"random_state_begin\"],\n",
    "                                     db_file_path=db_file_path,\n",
    "                                     trial=1,\n",
    "                                     verbose=0)\n",
    "    predicted_numbers_set.append(predicted_numbers[0])\n",
    "print(\"last numbers\")\n",
    "nums = !echo \"select metric from results where round=1176\" | sqlite3 ../db/metrics.db\n",
    "print(f\"{nums}\")\n",
    "print(f\"{'*'*30}\")\n",
    "print(\"predicted numbers\")\n",
    "for numbers in predicted_numbers_set:\n",
    "    print(numbers)"
   ]
  },
  {
   "cell_type": "code",
   "execution_count": 6,
   "id": "5b28c5f6-55dc-4348-b317-c73290a65962",
   "metadata": {},
   "outputs": [
    {
     "name": "stdout",
     "output_type": "stream",
     "text": [
      "7,9,11,21,30,35\n"
     ]
    }
   ],
   "source": [
    "!echo \"select metric from results where round=1176\" | sqlite3 ../db/metrics.db"
   ]
  },
  {
   "cell_type": "code",
   "execution_count": null,
   "id": "4d1ecd33-32f1-41ff-94d4-5f5cbd3012f7",
   "metadata": {},
   "outputs": [],
   "source": [
    "\"\"\"\n",
    "last numbers\n",
    "['3,4,6,8,32,42']\n",
    "******************************\n",
    "predicted numbers\n",
    "[10, 13, 20, 24, 28, 40] * \n",
    "[9, 12, 20, 26, 31, 40] *\n",
    "[6, 10, 18, 26, 38, 42] *\n",
    "[8, 14, 21, 26, 29, 38]\n",
    "[8, 14, 21, 26, 30, 39] *\n",
    "[9, 14, 21, 27, 33, 39]\n",
    "[13, 15, 22, 29, 33, 38]\n",
    "[16, 20, 26, 31, 35, 37] *\n",
    "\n",
    "\n",
    "576|1176|1,2,3,4,5,6|7\n",
    "575|1175|3,4,6,8,32,42|31\n",
    "574|1174|8,11,14,17,36,39|22\n",
    "573|1173|1,5,18,20,30,35|3\n",
    "572|1172|7,9,24,40,42,44|45\n",
    "571|1171|3,6,7,11,12,17|19\n",
    "570|1170|3,13,28,34,38,42|25\n",
    "569|1169|5,12,24,26,39,42|20\n",
    "568|1168|9,21,24,30,33,37|29\n",
    "567|1167|8,23,31,35,39,40|24\n",
    "566|1166|14,23,25,27,29,42|16\n",
    "565|1165|6,7,27,29,38,45|17\n",
    "564|1164|17,18,23,25,38,39|22\n",
    "563|1163|2,13,15,16,33,43|4\n",
    "562|1162|20,21,22,25,28,29|6\n",
    "561|1161|2,12,20,24,34,42|37\n",
    "560|1160|7,13,18,36,39,45|19\n",
    "559|1159|3,9,27,28,38,39|7\n",
    "558|1158|21,25,27,32,37,38|20\n",
    "557|1157|5,7,12,20,25,26|28\n",
    "\"\"\""
   ]
  },
  {
   "cell_type": "code",
   "execution_count": 4,
   "id": "5fa07b1c-50a5-437e-b259-0b3d9d4cb211",
   "metadata": {},
   "outputs": [],
   "source": [
    "params = {\"img/T_01_95_3.png\": {\n",
    "        \"n_estimators\": [100],\n",
    "        \"data_lengths\": [100],\n",
    "        \"random_state_gap\": 1,\n",
    "        \"random_state_begin\": 113700,\n",
    "        \"random_state_end\": 113701,\n",
    "        \"last_rounds\": [i for i in range(1175, 760, -1)],\n",
    "        \"db_file_path\": '../db/metrics.db',\n",
    "        \"write_db_file_path\": '../db/metrics.db',\n",
    "        \"version\": \"T_01_95\"\n",
    "    } }"
   ]
  },
  {
   "cell_type": "code",
   "execution_count": 11,
   "id": "bd94e993-4ee3-406e-8634-cee228fa5f33",
   "metadata": {},
   "outputs": [],
   "source": [
    "## params\n",
    "params = {\n",
    "    'parameters_99.png': {\n",
    "        \"n_estimators\": [100],\n",
    "        \"data_lengths\": [100],\n",
    "        \"random_state_gap\": 1,\n",
    "        \"random_state_begin\": 113806,\n",
    "        \"random_state_end\": 113411,\n",
    "        \"last_rounds\": [i for i in range(1176, 770, -1)],\n",
    "        \"db_file_path\": '../db/metrics.db',\n",
    "        \"write_db_file_path\": '../db/metrics.db',\n",
    "        \"version\": \"T_01_11\",\n",
    "        \"updated\": False\n",
    "        },          \n",
    "    'parameters_0.png': {\n",
    "        \"n_estimators\": [100],\n",
    "        \"data_lengths\": [100],\n",
    "        \"random_state_gap\": 1,\n",
    "        \"random_state_begin\": 113410,\n",
    "        \"random_state_end\": 113411,\n",
    "        \"last_rounds\": [i for i in range(1176, 770, -1)],\n",
    "        \"db_file_path\": '../db/metrics.db',\n",
    "        \"write_db_file_path\": '../db/metrics.db',\n",
    "        \"version\": \"T_01_11\",\n",
    "        \"updated\": False\n",
    "        },\n",
    "    'parameters_1.png': {\n",
    "        \"n_estimators\": [100],\n",
    "        \"data_lengths\": [100],\n",
    "        \"random_state_gap\": 1,\n",
    "        \"random_state_begin\": 113732,\n",
    "        \"random_state_end\": 113732,\n",
    "        \"last_rounds\": [i for i in range(1176, 770, -1)],\n",
    "        \"db_file_path\": '../db/metrics.db',\n",
    "        \"write_db_file_path\": '../db/metrics.db',\n",
    "        \"version\": \"T_01_11\",\n",
    "        \"updated\": False\n",
    "        },\n",
    "    'parameters_2.png': {\n",
    "        \"n_estimators\": [100],\n",
    "        \"data_lengths\": [100],\n",
    "        \"random_state_gap\": 1,\n",
    "        \"random_state_begin\": 113429,\n",
    "        \"random_state_end\": 113430,\n",
    "        \"last_rounds\": [i for i in range(1176, 770, -1)],\n",
    "        \"db_file_path\": '../db/metrics.db',\n",
    "        \"write_db_file_path\": '../db/metrics.db',\n",
    "        \"version\": \"T_01_11\",\n",
    "        \"updated\": False\n",
    "        },\n",
    "    'parameters_3.png': {\n",
    "        \"n_estimators\": [100],\n",
    "        \"data_lengths\": [100],\n",
    "        \"random_state_gap\": 1,\n",
    "        \"random_state_begin\": 113658,\n",
    "        \"random_state_end\": 113659,\n",
    "        \"last_rounds\": [i for i in range(1176, 770, -1)],\n",
    "        \"db_file_path\": '../db/metrics.db',\n",
    "        \"write_db_file_path\": '../db/metrics.db',\n",
    "        \"version\": \"T_01_11\",\n",
    "        \"updated\": False\n",
    "        },\n",
    "    'parameters_4.png': {\n",
    "        \"n_estimators\": [100],\n",
    "        \"data_lengths\": [100],\n",
    "        \"random_state_gap\": 1,\n",
    "        \"random_state_begin\": 113650,\n",
    "        \"random_state_end\": 113651,\n",
    "        \"last_rounds\": [i for i in range(1176, 770, -1)],\n",
    "        \"db_file_path\": '../db/metrics.db',\n",
    "        \"write_db_file_path\": '../db/metrics.db',\n",
    "        \"version\": \"T_01_11\",\n",
    "        \"updated\": False\n",
    "        },\n",
    "    }\n",
    "\n",
    "\n",
    "### 113410, 113732, 113429, 113658, 113650"
   ]
  },
  {
   "cell_type": "code",
   "execution_count": 12,
   "id": "f585f38b-36be-49c3-8bf2-e750170a0f1b",
   "metadata": {},
   "outputs": [
    {
     "name": "stdout",
     "output_type": "stream",
     "text": [
      "cur_step_01 2025-06-20 18:36:32.536137\n",
      "start   [now=2025-06-20 18:36:32.536305]\n",
      "../db/metrics.db\n",
      "dict_keys(['n_estimators', 'data_lengths', 'random_state_gap', 'random_state_begin', 'random_state_end', 'last_rounds', 'db_file_path', 'write_db_file_path', 'version', 'updated'])\n",
      "main.db_file_path =  ../db/metrics.db\n"
     ]
    },
    {
     "ename": "UnboundLocalError",
     "evalue": "cannot access local variable 'result_set' where it is not associated with a value",
     "output_type": "error",
     "traceback": [
      "\u001b[31m---------------------------------------------------------------------------\u001b[39m",
      "\u001b[31mUnboundLocalError\u001b[39m                         Traceback (most recent call last)",
      "\u001b[36mCell\u001b[39m\u001b[36m \u001b[39m\u001b[32mIn[12]\u001b[39m\u001b[32m, line 13\u001b[39m\n\u001b[32m     11\u001b[39m get_ipython().system(\u001b[33m'\u001b[39m\u001b[33mecho \u001b[39m\u001b[33m\"\u001b[39m\u001b[33mdelete from rndforest where version=\u001b[39m\u001b[38;5;130;01m\\\\\u001b[39;00m\u001b[33m\"\u001b[39m\u001b[38;5;132;01m{cur_params[\"version\"]}\u001b[39;00m\u001b[38;5;130;01m\\\\\u001b[39;00m\u001b[33m\"\u001b[39m\u001b[33m\"\u001b[39m\u001b[33m | sqlite3 \u001b[39m\u001b[38;5;132;01m{db_file_path}\u001b[39;00m\u001b[33m'\u001b[39m)\n\u001b[32m     12\u001b[39m \u001b[38;5;28mprint\u001b[39m(\u001b[33mf\u001b[39m\u001b[33m'\u001b[39m\u001b[33mcur_step_01 \u001b[39m\u001b[38;5;132;01m{\u001b[39;00mdatetime.now()\u001b[38;5;132;01m}\u001b[39;00m\u001b[33m'\u001b[39m)\n\u001b[32m---> \u001b[39m\u001b[32m13\u001b[39m result_sets = \u001b[43mmain\u001b[49m\u001b[43m(\u001b[49m\u001b[43mparameters\u001b[49m\u001b[43m=\u001b[49m\u001b[43mcur_params\u001b[49m\u001b[43m,\u001b[49m\n\u001b[32m     14\u001b[39m \u001b[43m                   \u001b[49m\u001b[43mversion\u001b[49m\u001b[43m=\u001b[49m\u001b[43mcur_params\u001b[49m\u001b[43m[\u001b[49m\u001b[33;43m\"\u001b[39;49m\u001b[33;43mversion\u001b[39;49m\u001b[33;43m\"\u001b[39;49m\u001b[43m]\u001b[49m\u001b[43m,\u001b[49m\n\u001b[32m     15\u001b[39m \u001b[43m                   \u001b[49m\u001b[43msum_min\u001b[49m\u001b[43m=\u001b[49m\u001b[32;43m0\u001b[39;49m\u001b[43m,\u001b[49m\n\u001b[32m     16\u001b[39m \u001b[43m                   \u001b[49m\u001b[43msum_max\u001b[49m\u001b[43m=\u001b[49m\u001b[43m-\u001b[49m\u001b[32;43m1\u001b[39;49m\u001b[43m,\u001b[49m\n\u001b[32m     17\u001b[39m \u001b[43m                   \u001b[49m\u001b[43mtrial\u001b[49m\u001b[43m=\u001b[49m\u001b[32;43m1\u001b[39;49m\u001b[43m,\u001b[49m\n\u001b[32m     18\u001b[39m \u001b[43m                   \u001b[49m\u001b[43mwrite_to_db\u001b[49m\u001b[43m=\u001b[49m\u001b[38;5;28;43;01mTrue\u001b[39;49;00m\u001b[43m)\u001b[49m\n\u001b[32m     19\u001b[39m \u001b[38;5;28mprint\u001b[39m(\u001b[33mf\u001b[39m\u001b[33m'\u001b[39m\u001b[33mcur_step_03 \u001b[39m\u001b[38;5;132;01m{\u001b[39;00mdatetime.now()\u001b[38;5;132;01m}\u001b[39;00m\u001b[33m'\u001b[39m)\n\u001b[32m     20\u001b[39m \u001b[38;5;66;03m## SQL Query\u001b[39;00m\n",
      "\u001b[36mFile \u001b[39m\u001b[32m~/work/LSTM_Analyze/foresttrans/lib/rf_data_util.py:448\u001b[39m, in \u001b[36mmain\u001b[39m\u001b[34m(parameters, version, sum_min, sum_max, write_to_file, write_to_db, trial, verbose)\u001b[39m\n\u001b[32m    440\u001b[39m     result_set = print_predicts(predict_lens=predict_lens,\n\u001b[32m    441\u001b[39m                                 sum_min=sum_min,\n\u001b[32m    442\u001b[39m                                 sum_max=sum_max,\n\u001b[32m   (...)\u001b[39m\u001b[32m    445\u001b[39m                                 write_to_db=write_to_db,\n\u001b[32m    446\u001b[39m                                 write_db_file_path=write_db_file_path)\n\u001b[32m    447\u001b[39m     \u001b[38;5;28mprint\u001b[39m(\u001b[33mf\u001b[39m\u001b[33m'\u001b[39m\u001b[33mcomplete to read and data: [now=\u001b[39m\u001b[38;5;132;01m{\u001b[39;00mdatetime.now()\u001b[38;5;132;01m}\u001b[39;00m\u001b[33m]\u001b[39m\u001b[33m'\u001b[39m)\n\u001b[32m--> \u001b[39m\u001b[32m448\u001b[39m \u001b[38;5;28;01mreturn\u001b[39;00m \u001b[43mresult_set\u001b[49m\n",
      "\u001b[31mUnboundLocalError\u001b[39m: cannot access local variable 'result_set' where it is not associated with a value"
     ]
    }
   ],
   "source": [
    "#45,96800,4,3,1\n",
    "\n",
    "predicted_numbers_set = []\n",
    "\n",
    "db_file_path = '../db/metrics.db'\n",
    "\n",
    "## predict data\n",
    "for key in params:\n",
    "    cur_params = params[key]    \n",
    "    if cur_params['updated'] == False:\n",
    "        !echo \"delete from rndforest where version=\\\"{cur_params[\"version\"]}\\\"\" | sqlite3 {db_file_path}\n",
    "        print(f'cur_step_01 {datetime.now()}')\n",
    "        result_sets = main(parameters=cur_params,\n",
    "                           version=cur_params[\"version\"],\n",
    "                           sum_min=0,\n",
    "                           sum_max=-1,\n",
    "                           trial=1,\n",
    "                           write_to_db=True)\n",
    "        print(f'cur_step_03 {datetime.now()}')\n",
    "        ## SQL Query\n",
    "        condition = {\n",
    "            \"n_estimators\": cur_params[\"n_estimators\"],\n",
    "            \"data_lengths\": cur_params[\"data_lengths\"],\n",
    "            \"random_state_gap\": cur_params[\"random_state_gap\"],\n",
    "            \"random_state_begin\": cur_params[\"random_state_begin\"],\n",
    "            \"random_state_end\": cur_params[\"random_state_end\"],\n",
    "        }\n",
    "        print(f'draw graph : [{datetime.now()}')\n",
    "        print(f'cur_step_05 {datetime.now()}')\n",
    "        file_name = key\n",
    "        draw_graph(version=cur_params[\"version\"], condition=condition, file_name=file_name)\n",
    "        data = !echo \"select * from rndforest where version=\\\"{cur_params[\"version\"]}\\\"\" | sqlite3 {db_file_path}\n",
    "        print(data)\n",
    "        print(f'cur_step_07 {datetime.now()}')\n",
    "        predicted_numbers = main_predict(n_estimator=cur_params[\"n_estimators\"][0],\n",
    "                                         last_round=1176,\n",
    "                                         data_length=cur_params[\"data_lengths\"][0],\n",
    "                                         random_state=cur_params[\"random_state_begin\"],\n",
    "                                         db_file_path=db_file_path,\n",
    "                                         trial=1,\n",
    "                                         verbose=0)\n",
    "        predicted_numbers_set.append(predicted_numbers)\n",
    "        print(f'cur_step_09 {datetime.now()}')\n",
    "        print('predicted_numbers', predicted_numbers)\n",
    "        latest = !echo \"select * from results order by round desc limit 1\" | sqlite3 {db_file_path}\n",
    "        print('latest', latest)\n",
    "        cur_params['updated'] = True\n",
    "\n",
    "for pre in predicted_numbers:\n",
    "    print(pre)"
   ]
  },
  {
   "cell_type": "code",
   "execution_count": 10,
   "id": "d8d40fb9-65ef-4c95-b3eb-991c624f3994",
   "metadata": {},
   "outputs": [
    {
     "name": "stdout",
     "output_type": "stream",
     "text": [
      "[[8, 12, 19, 25, 29, 40]]\n",
      "[[9, 13, 20, 25, 30, 40]]\n"
     ]
    }
   ],
   "source": [
    "for pre in predicted_numbers_set:\n",
    "    print(pre)"
   ]
  },
  {
   "cell_type": "code",
   "execution_count": null,
   "id": "ee47cc2a-c691-4d28-9359-46d65820da75",
   "metadata": {},
   "outputs": [],
   "source": []
  }
 ],
 "metadata": {
  "kernelspec": {
   "display_name": "Python 3 (ipykernel)",
   "language": "python",
   "name": "python3"
  },
  "language_info": {
   "codemirror_mode": {
    "name": "ipython",
    "version": 3
   },
   "file_extension": ".py",
   "mimetype": "text/x-python",
   "name": "python",
   "nbconvert_exporter": "python",
   "pygments_lexer": "ipython3",
   "version": "3.12.10"
  }
 },
 "nbformat": 4,
 "nbformat_minor": 5
}
