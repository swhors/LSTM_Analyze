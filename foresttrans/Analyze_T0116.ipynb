{
 "cells": [
  {
   "cell_type": "code",
   "execution_count": null,
   "id": "e27663a7-97b9-4312-8bf2-4e90efdca773",
   "metadata": {},
   "outputs": [],
   "source": [
    "!pip install faker"
   ]
  },
  {
   "cell_type": "code",
   "execution_count": 71,
   "id": "398b6621-a22a-4d89-ac3c-fdaa58580fcb",
   "metadata": {},
   "outputs": [
    {
     "name": "stdout",
     "output_type": "stream",
     "text": [
      "define this code : [now=2025-07-01 18:53:13.421889\n"
     ]
    }
   ],
   "source": [
    "from IPython.display import clear_output\n",
    "import sqlite3\n",
    "from contextlib import closing\n",
    "from datetime import datetime\n",
    "from tqdm import tqdm\n",
    "\n",
    "print(f'define this code : [now={datetime.now()}')"
   ]
  },
  {
   "cell_type": "code",
   "execution_count": 72,
   "id": "b516aab6-3e64-4028-98c3-4c705b533a83",
   "metadata": {},
   "outputs": [
    {
     "name": "stdout",
     "output_type": "stream",
     "text": [
      "define this code : [now=2025-07-01 18:53:14.733963\n"
     ]
    }
   ],
   "source": [
    "def select_data(db_file_path, db_data, reverse=False, verbose=0):\n",
    "    \"\"\" select_data \"\"\"\n",
    "    with closing(sqlite3.connect(db_file_path)) as conn:\n",
    "        with closing(conn.cursor()) as cur:\n",
    "            col_dicts = {\"n_estimator\": (db_data[1], True),\n",
    "                         \"data_length\": (db_data[2], True),\n",
    "                         \"random_state\": (db_data[3], True),\n",
    "                         \"rounds\": (db_data[4], False)\n",
    "                         }\n",
    "            where_list = []\n",
    "            for col in col_dicts:\n",
    "                if col_dicts[col][1]:\n",
    "                    where_list.append(f'{col}={col_dicts[col][0]}')\n",
    "                else:\n",
    "                    where_list.append(f'{col}=\\\"{col_dicts[col][0]}\\\"')\n",
    "            results = []\n",
    "            query = f'select * from rndforest where {\" and \".join(where_list)}'\n",
    "            query += \" order by id desc\" if reverse else \" order by id asc\"\n",
    "            if verbose > 0:\n",
    "                print('query=', query)\n",
    "            datas = cur.execute(query).fetchall()\n",
    "            for data in datas:\n",
    "                results.append(data)\n",
    "            return results\n",
    "\n",
    "\n",
    "def insert_data(db_file_path, db_data, auto_commit=True, verbose=0):\n",
    "    \"\"\" insert_randomforest_db \"\"\"\n",
    "    with closing(sqlite3.connect(db_file_path)) as conn:\n",
    "        col_dicts = {\"n_estimator\": db_data[1],\n",
    "                     \"data_length\": db_data[2],\n",
    "                     \"random_state\": db_data[3],\n",
    "                     \"rounds\": db_data[4],\n",
    "                     \"matched_cnts\": db_data[5],\n",
    "                     \"sum_val\": db_data[6],\n",
    "                     \"version\": db_data[7]+\"_back\"\n",
    "                     }\n",
    "        columns = col_dicts.keys()\n",
    "        values=list(col_dicts.values())\n",
    "        column_val=[\"?\" for i in range(len(columns))]\n",
    "        query = f\"INSERT INTO rndforest ({','.join(columns)}) \"\\\n",
    "        f\"VALUES ({','.join(column_val)})\"\n",
    "        with closing(conn.cursor()) as cursor:\n",
    "            if verbose > 0:\n",
    "                print(f'query={query}')\n",
    "                print('-'*30)\n",
    "            cursor.execute(query, values)\n",
    "            if auto_commit:\n",
    "                conn.commit()\n",
    "\n",
    "\n",
    "def backup_randomforest_db(db_file_path, db_datas, auto_commit=True, verbose=0):\n",
    "    for db_data in db_datas:\n",
    "        if verbose > 0:\n",
    "            print('db_data = ', db_data)\n",
    "        result = select_data(db_file_path, db_data, verbose=verbose)\n",
    "        if len(result) == 0:\n",
    "            insert_data(db_file_path, db_data, verbose=verbose)\n",
    "\n",
    "print(f'define this code : [now={datetime.now()}')"
   ]
  },
  {
   "cell_type": "code",
   "execution_count": 73,
   "id": "bcc4dddf-67c9-4bf2-8f5b-99b0775618f3",
   "metadata": {},
   "outputs": [
    {
     "name": "stdout",
     "output_type": "stream",
     "text": [
      "define this code : [now=2025-07-01 18:53:16.335111\n"
     ]
    }
   ],
   "source": [
    "def db_row_parse(rows):\n",
    "    \"\"\" db_row_parse \"\"\"\n",
    "    rows_list = []\n",
    "    for row in rows:\n",
    "        cols = row.split('|')\n",
    "        col_dict = {\n",
    "            \"n_estimator\": cols[1],\n",
    "            \"data_length\": cols[2],\n",
    "            \"random_state\": cols[3],\n",
    "            \"rounds\": cols[4],\n",
    "            \"matched_cnts\": cols[5],\n",
    "            \"sum_val\": cols[6],\n",
    "            \"version\": cols[7]\n",
    "            }\n",
    "        rows_list.append(col_dict)\n",
    "    return rows_list\n",
    "\n",
    "\n",
    "def db_row_parse_v2(rows, min_cnt, target_num, verbose):\n",
    "    \"\"\" db_row_parse \"\"\"\n",
    "    rows_list = []\n",
    "    for row in rows:\n",
    "        cols = row.split('|')\n",
    "        matched_cnts = [int(i) for i in cols[5].split(',')]\n",
    "        checked = [1 for i in matched_cnts if i >= target_num]\n",
    "        if verbose > 1:\n",
    "            print(sum(checked), matched_cnts)\n",
    "        if sum(checked) >= min_cnt:\n",
    "            col_dict = {\n",
    "                \"n_estimator\": cols[1],\n",
    "                \"data_length\": cols[2],\n",
    "                \"random_state\": cols[3],\n",
    "                \"rounds\": cols[4],\n",
    "                \"matched_cnts\": matched_cnts,\n",
    "                \"sum_val\": cols[6],\n",
    "                \"version\": cols[7]\n",
    "                }\n",
    "            rows_list.append(col_dict)\n",
    "    return rows_list\n",
    "\n",
    "\n",
    "def execute_direct_query_for_sum_val_frequency(min_cnt, max_cnt, target_num, version, verbose=0):\n",
    "    \"\"\" execute_direct_query_for_sum_val_frequency \"\"\"\n",
    "    likes = \"\"\n",
    "    results = {}\n",
    "    ## base\n",
    "    for i in range(1, min_cnt):\n",
    "        likes += f\"%{target_num}\"\n",
    "    for i in range(min_cnt, max_cnt+1):\n",
    "        likes += f\"%{target_num}\"\n",
    "        if verbose > 0:\n",
    "            !echo \"{'-'*15} {target_num}'s num = {i} {'-'*15}\"\n",
    "        query = f'select * from rndforest where version=\\\\\"{version}\\\\\" and matched_cnts like \\\\\"{likes}%\\\\\" order by sum_val desc'\n",
    "        if verbose > 0:\n",
    "            !echo \"{query}\"\n",
    "        !echo \"{query}\"\n",
    "        print('query = ', query)\n",
    "        rows = !echo \"{query}\" | sqlite3 ../db/metrics.db\n",
    "        print('rows = ', rows)\n",
    "        rows_list = db_row_parse(rows)\n",
    "        results[i] = rows_list\n",
    "    return results\n",
    "\n",
    "\n",
    "def execute_direct_query_for_sum_val_frequency_v2(min_cnt, max_cnt, target_num, version, verbose=0):\n",
    "    \"\"\" execute_direct_query_for_sum_val_frequency \"\"\"\n",
    "    likes = \"\"\n",
    "    results = {}\n",
    "    query = f'select * from rndforest where version=\\\\\"{version}\\\\\" order by sum_val desc'\n",
    "    if verbose > 0:\n",
    "        !echo \"{query}\"\n",
    "    rows = !echo \"{query}\" | sqlite3 ../db/metrics.db\n",
    "    rows_list = db_row_parse_v2(rows, min_cnt, target_num, verbose)\n",
    "    results[min_cnt] = rows_list\n",
    "    return results\n",
    "\n",
    "\n",
    "def print_colums(target_num, results, list_view=False):\n",
    "    \"\"\" print_colums \"\"\"\n",
    "    for cnt in results:\n",
    "        print(f\"{'-'*15} {target_num}'s num = {cnt} {'-'*15}\")\n",
    "        for row in results[cnt]:\n",
    "            if list_view:\n",
    "                print(list(row.values()))\n",
    "            else:\n",
    "                print(row)\n",
    "\n",
    "\n",
    "def db_query(min_cnt, max_cnt, target_num, version, print_data=False, list_view=False, verbose=0):\n",
    "    \"\"\" db_query \"\"\"\n",
    "    results = execute_direct_query_for_sum_val_frequency_v2(min_cnt=min_cnt,\n",
    "                                                            max_cnt=max_cnt,\n",
    "                                                            target_num=target_num,\n",
    "                                                            version=version,\n",
    "                                                            verbose=verbose)\n",
    "    if print_data:\n",
    "        print_colums(target_num, results, list_view)\n",
    "    return results\n",
    "\n",
    "\n",
    "print(f'define this code : [now={datetime.now()}')"
   ]
  },
  {
   "cell_type": "code",
   "execution_count": 74,
   "id": "c440afae-7227-4243-b5ff-4905b0b0fb5c",
   "metadata": {},
   "outputs": [
    {
     "name": "stdout",
     "output_type": "stream",
     "text": [
      "define this code : [now=2025-07-01 18:53:17.992864\n"
     ]
    }
   ],
   "source": [
    "def subprocess_v2(cmd_list1, cmd_list2):\n",
    "    \"\"\" subprocess_v2 \"\"\"\n",
    "    process1 = subprocess.Popen(cmd_list1, stdout=subprocess.PIPE)\n",
    "    process2 = subprocess.Popen(cmd_list2, stdin=process1.stdout, stdout=subprocess.PIPE)\n",
    "    output, error = process2.communicate()\n",
    "    if error:\n",
    "        print(f\"Error: {error.decode('utf-8')}\")\n",
    "        return \"\"\n",
    "    lines = output.decode('utf-8').split('\\n')\n",
    "    results = []\n",
    "    for line in lines:\n",
    "        if len(line) > 0:\n",
    "            results.append(line)\n",
    "    return results\n",
    "\n",
    "\n",
    "def db_dicret_query(query, db_file_path) -> list:\n",
    "    \"\"\" db_dicret_query             \"\"\"\n",
    "    \"\"\" sqlite3에 바로 sql을 실행합니다. \"\"\"\n",
    "    sql_parts = ['echo', query]\n",
    "    execute_parts = ['sqlite3', db_file_path]\n",
    "    rows = subprocess_v2(sql_parts, execute_parts)\n",
    "    data_cols = []\n",
    "    for row in rows:\n",
    "        if len(row) > 0:\n",
    "            cols = row.split('|')\n",
    "            data_cols.append(row.split('|'))\n",
    "    return data_cols\n",
    "    \n",
    "\n",
    "execute_example=False\n",
    "if execute_example:\n",
    "    query = 'select * from rndforest where version=\\\"T_01_02\\\" and sum_val > 7;'\n",
    "    db_file_path = '../db/metrics.db'\n",
    "    data_cols = db_dicret_query(query=query, db_file_path=db_file_path)\n",
    "    for data_col in data_cols:\n",
    "        print(data_col)\n",
    "\n",
    "print(f'define this code : [now={datetime.now()}')"
   ]
  },
  {
   "cell_type": "code",
   "execution_count": 75,
   "id": "15357776-52b7-47fe-8866-60ab0231d0b3",
   "metadata": {},
   "outputs": [
    {
     "name": "stdout",
     "output_type": "stream",
     "text": [
      "define this code : [now=2025-07-01 18:53:19.683887\n"
     ]
    }
   ],
   "source": [
    "import itertools\n",
    "import matplotlib.pyplot as plt\n",
    "from PIL import Image\n",
    "from IPython.display import display\n",
    "import random\n",
    "from faker import Factory\n",
    "\n",
    "def draw_datas_graph(title,\n",
    "                     x_y_datas,\n",
    "                     x_label,\n",
    "                     y_label,\n",
    "                     width=0,\n",
    "                     height=0,\n",
    "                     file_name=\"\",\n",
    "                     is_bar=True,\n",
    "                     verb=False):\n",
    "    \"\"\" draw_data_graph \"\"\"\n",
    "    fake = Factory.create()\n",
    "    for x_y_data in x_y_datas:\n",
    "        if is_bar:\n",
    "            if len(x_y_data) > 2:\n",
    "                plt.bar(x_y_data[0], x_y_data[1], color=fake.hex_color(), label=x_y_data[2])\n",
    "            else:\n",
    "                plt.bar(x_y_data[0], x_y_data[1], color=fake.hex_color())\n",
    "        else:\n",
    "            if len(x_y_data) > 2:\n",
    "                plt.plot(x_y_data[0], x_y_data[1], color=fake.hex_color(), label=x_y_data[2])\n",
    "            else:\n",
    "                plt.plot(x_y_data[0], x_y_data[1], color=fake.hex_color())\n",
    "    plt.xlabel(x_label)\n",
    "    plt.ylabel(y_label)\n",
    "    plt.legend(loc='upper right', bbox_to_anchor=(1.2, 1))\n",
    "    plt.title(title)\n",
    "    if len(file_name) > 0:\n",
    "        plt.legend(loc=0)\n",
    "        plt.savefig(file_name)\n",
    "    if width > 0 and height > 0:\n",
    "        plt.figure(figsize=(width,height))\n",
    "    plt.show()\n",
    "\n",
    "print(f'define this code : [now={datetime.now()}')"
   ]
  },
  {
   "cell_type": "code",
   "execution_count": 76,
   "id": "3aa3fe41-7de5-4436-b554-f3281afa6271",
   "metadata": {},
   "outputs": [
    {
     "name": "stdout",
     "output_type": "stream",
     "text": [
      "define this code : [now=2025-07-01 18:53:21.190580\n"
     ]
    }
   ],
   "source": [
    "def data_graph_from_db(version: str, random_states: list, verbose=0):\n",
    "    \"\"\" data_graph_from_db \"\"\"\n",
    "    DB_FILE=\"../db/metrics.db\"\n",
    "\n",
    "    if len(random_states) == 0:\n",
    "        wheres = \"\"\n",
    "    else:\n",
    "        temp = [str(i) for i in random_states]\n",
    "        wheres = f'and random_state in ({\",\".join(temp)})'\n",
    "    rows = !echo \"select * from rndforest where version=\\\"{version}\\\" {wheres} order by random_state asc\" | sqlite3 {DB_FILE}\n",
    "\n",
    "    if len(rows) > 0:\n",
    "        x_y_datas = []\n",
    "        for row in rows:\n",
    "            cols = row.split(\"|\")\n",
    "            n_estimator = cols[1]\n",
    "            data_length = cols[2]\n",
    "            random_state = cols[3]\n",
    "            rounds = [int(i) for i in cols[4].split(',')]\n",
    "            matched_cnts = [int(i) for i in cols[5].split(',')]\n",
    "            rounds.reverse()\n",
    "            matched_cnts.reverse()\n",
    "            sum_val = cols[6]\n",
    "            x_y_datas.append((rounds, matched_cnts, str(random_state)))\n",
    "            # print(f'{n_estimator} / {data_length} / {random_state} / {sum_val}')\n",
    "            if verbose > 0:\n",
    "                print('rounds', rounds)\n",
    "                print('matched_cnts', matched_cnts)\n",
    "\n",
    "        # ## predict data\n",
    "        # file_name = \"img/temp.png\"\n",
    "        draw_datas_graph(title=\"matched_cnts\",\n",
    "                         x_y_datas=x_y_datas,\n",
    "                         x_label=\"rounds\",\n",
    "                         y_label=\"matched_cnts\",\n",
    "                         width=0,\n",
    "                         height=0,\n",
    "                         file_name=\"\",\n",
    "                         is_bar=False,\n",
    "                         verb=False if verbose == 0 else True)\n",
    "    return len(rows)\n",
    "\n",
    "print(f'define this code : [now={datetime.now()}')"
   ]
  },
  {
   "cell_type": "code",
   "execution_count": 77,
   "id": "92d23a13-28db-4d8b-8179-5a501060c84c",
   "metadata": {},
   "outputs": [
    {
     "name": "stdout",
     "output_type": "stream",
     "text": [
      "define this code : [now=2025-07-01 18:53:22.820950\n"
     ]
    }
   ],
   "source": [
    "def check_yes(title, wanted: list, default: str):\n",
    "    \"\"\" check_yes \"\"\"\n",
    "    is_continue_str = input(title)\n",
    "    if len(is_continue_str) == 0:\n",
    "        is_continue_str = default\n",
    "    if is_continue_str in wanted:\n",
    "        return True\n",
    "    return False\n",
    "\n",
    "\n",
    "def check_continue():\n",
    "    \"\"\" check_conotinue \"\"\"\n",
    "    return check_yes(\"Continue ? (Y/n)\", [\"Y\", \"y\"], \"y\")\n",
    "\n",
    "\n",
    "def check_append_to_list():\n",
    "    \"\"\" check_conotinue \"\"\"\n",
    "    return check_yes(\"Append to list ? (Y/n)\", [\"Y\", \"y\"], \"n\")\n",
    "\n",
    "\n",
    "def check_reset_list():\n",
    "    \"\"\" check_conotinue \"\"\"\n",
    "    return check_yes(\"Reset list ? (Y/n)\", [\"Y\", \"y\"], \"n\")\n",
    "\n",
    "\n",
    "def check_remove_this(value):\n",
    "    \"\"\" check_remove_this \"\"\"\n",
    "    return check_yes(f\"Remove this({value}) ? (Y/n)\", [\"Y\", \"y\"], \"n\")\n",
    "\n",
    "\n",
    "def get_wanted_item(title) -> list:\n",
    "    \"\"\" get_wanted_item \"\"\"\n",
    "    wanted_line = input(title)\n",
    "    if len(wanted_line) > 0:\n",
    "        return wanted_line.split(\",\")\n",
    "    return []\n",
    "\n",
    "\n",
    "print(f'define this code : [now={datetime.now()}')"
   ]
  },
  {
   "cell_type": "code",
   "execution_count": 78,
   "id": "83d649ca-e0b6-4bb0-b81f-a5d805a46e92",
   "metadata": {},
   "outputs": [
    {
     "name": "stdout",
     "output_type": "stream",
     "text": [
      "define this code : [now=2025-07-01 18:53:24.832537\n"
     ]
    }
   ],
   "source": [
    "version='T_01_16'\n",
    "t_version='T_01_90'\n",
    "print(f'define this code : [now={datetime.now()}')"
   ]
  },
  {
   "cell_type": "code",
   "execution_count": null,
   "id": "04fc3a5b-4d7d-4365-af0e-e87a1dc7e873",
   "metadata": {},
   "outputs": [],
   "source": [
    "#!echo \"select * from rndforest where version=\\\"{t_version}\\\" and matched_cnts like '%3%3%3%3%3%';\" | sqlite3 ../db/metrics.db\n",
    "!echo \"select random_state from rndforest where version=\\\"{version}\\\" and matched_cnts like '%3%3%3%3%3%3%3%';\" | sqlite3 ../db/metrics.db"
   ]
  },
  {
   "cell_type": "code",
   "execution_count": null,
   "id": "4fd89b2e-dba4-4f41-a61d-ff66823ef6cf",
   "metadata": {},
   "outputs": [],
   "source": [
    "# 3이 많이 발생하는 경우 확인\n",
    "min_cnt = 0\n",
    "max_cnt = 7\n",
    "target_num = 3\n",
    "results_T_01_16 = db_query(min_cnt=min_cnt, max_cnt=max_cnt, version=version, target_num=target_num, print_data=False, list_view=True, verbose=0)\n",
    "print(results_T_01_16)"
   ]
  },
  {
   "cell_type": "code",
   "execution_count": 79,
   "id": "7343ade2-2537-4a95-9a89-18c6fda10c91",
   "metadata": {},
   "outputs": [
    {
     "name": "stdout",
     "output_type": "stream",
     "text": [
      "\n",
      "*************** Checking version = [T_01_16] ***************\n",
      "\n",
      "result's len = 36\n",
      "113618\n",
      "113712\n",
      "311164406\n",
      "113648\n",
      "114039\n",
      "31116652\n",
      "311164017\n",
      "311164452\n",
      "113722\n",
      "1750505798\n",
      "114165\n",
      "311164139\n",
      "311164295\n",
      "113565\n",
      "311164368\n",
      "114220\n",
      "311164289\n",
      "113700\n",
      "113640\n",
      "311164378\n",
      "311164653\n",
      "113824\n",
      "113936\n",
      "1750505747\n",
      "113471\n",
      "31116841\n",
      "113698\n",
      "31116709\n",
      "311164150\n",
      "1750505759\n",
      "311164177\n",
      "311164396\n",
      "31116677\n",
      "114217\n",
      "113690\n",
      "113717\n"
     ]
    }
   ],
   "source": [
    "# 4가 많이 발생하는 경우 확인\n",
    "min_cnt = 17\n",
    "max_cnt = 7\n",
    "target_num = 3\n",
    "versions = [version]\n",
    "results_dict4 = {}\n",
    "for ver in versions:\n",
    "    print(f'\\n{\"*\"*15} Checking version = [{ver}] {\"*\"*15}\\n')\n",
    "    results = db_query(min_cnt=min_cnt, max_cnt=max_cnt, version=version, target_num=target_num, print_data=False, list_view=True)\n",
    "    results_dict4[ver] = results\n",
    "\n",
    "for key in results_dict4:\n",
    "    print(f'result\\'s len = {len(results_dict4[ver][min_cnt])}')\n",
    "    for result in results_dict4[key][min_cnt]:\n",
    "        print(result['random_state'])"
   ]
  },
  {
   "cell_type": "code",
   "execution_count": 80,
   "id": "948dbce2-bd16-490f-8286-a066f185e9d6",
   "metadata": {},
   "outputs": [
    {
     "name": "stdout",
     "output_type": "stream",
     "text": [
      "\n",
      "*************** Checking version = [T_01_16] ***************\n",
      "\n",
      "result's len = 12\n",
      "113712\n",
      "113648\n",
      "31116652\n",
      "311164017\n",
      "311164452\n",
      "1750505798\n",
      "311164368\n",
      "311164378\n",
      "31116841\n",
      "31116677\n",
      "114217\n",
      "113690\n"
     ]
    }
   ],
   "source": [
    "# 4가 많이 발생하는 경우 확인\n",
    "min_cnt = 18\n",
    "max_cnt = 7\n",
    "target_num = 3\n",
    "versions = [version]\n",
    "results_dict4 = {}\n",
    "for ver in versions:\n",
    "    print(f'\\n{\"*\"*15} Checking version = [{ver}] {\"*\"*15}\\n')\n",
    "    results = db_query(min_cnt=min_cnt, max_cnt=max_cnt, version=version, target_num=target_num, print_data=False, list_view=True)\n",
    "    results_dict4[ver] = results\n",
    "\n",
    "for key in results_dict4:\n",
    "    print(f'result\\'s len = {len(results_dict4[ver][min_cnt])}')\n",
    "    for result in results_dict4[key][min_cnt]:\n",
    "        print(result['random_state'])"
   ]
  },
  {
   "cell_type": "code",
   "execution_count": 81,
   "id": "c5fcebb0-ced8-4cc0-89c5-72bb2312b181",
   "metadata": {},
   "outputs": [
    {
     "name": "stdout",
     "output_type": "stream",
     "text": [
      "\n",
      "*************** Checking version = [T_01_16] ***************\n",
      "\n",
      "result's len = 6\n",
      "113712\n",
      "31116652\n",
      "311164017\n",
      "1750505798\n",
      "311164368\n",
      "31116677\n"
     ]
    }
   ],
   "source": [
    "# 4가 많이 발생하는 경우 확인\n",
    "min_cnt = 19\n",
    "max_cnt = 7\n",
    "target_num = 3\n",
    "versions = [version]\n",
    "results_dict4 = {}\n",
    "for ver in versions:\n",
    "    print(f'\\n{\"*\"*15} Checking version = [{ver}] {\"*\"*15}\\n')\n",
    "    results = db_query(min_cnt=min_cnt, max_cnt=max_cnt, version=version, target_num=target_num, print_data=False, list_view=True)\n",
    "    results_dict4[ver] = results\n",
    "\n",
    "for key in results_dict4:\n",
    "    print(f'result\\'s len = {len(results_dict4[ver][min_cnt])}')\n",
    "    for result in results_dict4[key][min_cnt]:\n",
    "        print(result['random_state'])"
   ]
  },
  {
   "cell_type": "code",
   "execution_count": 82,
   "id": "e1ba38c6-1754-4015-9642-517ee0fb0a91",
   "metadata": {},
   "outputs": [
    {
     "name": "stdout",
     "output_type": "stream",
     "text": [
      "\n",
      "*************** Checking version = [T_01_16] ***************\n",
      "\n",
      "result's len = 1\n",
      "311164368\n"
     ]
    }
   ],
   "source": [
    "# 4가 많이 발생하는 경우 확인\n",
    "min_cnt = 20\n",
    "max_cnt = 7\n",
    "target_num = 3\n",
    "versions = [version]\n",
    "results_dict4 = {}\n",
    "for ver in versions:\n",
    "    print(f'\\n{\"*\"*15} Checking version = [{ver}] {\"*\"*15}\\n')\n",
    "    results = db_query(min_cnt=min_cnt, max_cnt=max_cnt, version=version, target_num=target_num, print_data=False, list_view=True)\n",
    "    results_dict4[ver] = results\n",
    "\n",
    "for key in results_dict4:\n",
    "    print(f'result\\'s len = {len(results_dict4[ver][min_cnt])}')\n",
    "    for result in results_dict4[key][min_cnt]:\n",
    "        print(result['random_state'])"
   ]
  },
  {
   "cell_type": "code",
   "execution_count": 83,
   "id": "ca1839af-3c1a-462b-b420-683ac8ab5daa",
   "metadata": {},
   "outputs": [
    {
     "name": "stdout",
     "output_type": "stream",
     "text": [
      "\n",
      "*************** Checking version = [T_01_16] ***************\n",
      "\n",
      "result's len = 1\n",
      "311164368\n"
     ]
    }
   ],
   "source": [
    "# 4가 많이 발생하는 경우 확인\n",
    "min_cnt = 21\n",
    "max_cnt = 7\n",
    "target_num = 3\n",
    "versions = [version]\n",
    "results_dict4 = {}\n",
    "for ver in versions:\n",
    "    print(f'\\n{\"*\"*15} Checking version = [{ver}] {\"*\"*15}\\n')\n",
    "    results = db_query(min_cnt=min_cnt, max_cnt=max_cnt, version=version, target_num=target_num, print_data=False, list_view=True)\n",
    "    results_dict4[ver] = results\n",
    "\n",
    "for key in results_dict4:\n",
    "    print(f'result\\'s len = {len(results_dict4[ver][min_cnt])}')\n",
    "    for result in results_dict4[key][min_cnt]:\n",
    "        print(result['random_state'])"
   ]
  },
  {
   "cell_type": "code",
   "execution_count": 84,
   "id": "6e407a12-3c8d-455c-a5b8-c164bf55df6c",
   "metadata": {},
   "outputs": [
    {
     "name": "stdout",
     "output_type": "stream",
     "text": [
      "\n",
      "*************** Checking version = [T_01_16] ***************\n",
      "\n",
      "result's len = 1\n",
      "311164368\n"
     ]
    }
   ],
   "source": [
    "# 4가 많이 발생하는 경우 확인\n",
    "min_cnt = 22\n",
    "max_cnt = 7\n",
    "target_num = 3\n",
    "versions = [version]\n",
    "results_dict4 = {}\n",
    "for ver in versions:\n",
    "    print(f'\\n{\"*\"*15} Checking version = [{ver}] {\"*\"*15}\\n')\n",
    "    results = db_query(min_cnt=min_cnt, max_cnt=max_cnt, version=version, target_num=target_num, print_data=False, list_view=True)\n",
    "    results_dict4[ver] = results\n",
    "\n",
    "for key in results_dict4:\n",
    "    print(f'result\\'s len = {len(results_dict4[ver][min_cnt])}')\n",
    "    for result in results_dict4[key][min_cnt]:\n",
    "        print(result['random_state'])"
   ]
  },
  {
   "cell_type": "code",
   "execution_count": 96,
   "id": "009f9fc6-5251-4363-a129-6af539ea34d7",
   "metadata": {},
   "outputs": [
    {
     "name": "stdout",
     "output_type": "stream",
     "text": [
      "[0, 1, 0, 2, 1, 0, 0, 1, 1, 2, 2, 2, 2, 0, 1, 0, 1, 0, 0, 0, 2, 0, 0, 1, 0, 1, 1, 1, 1, 0, 2, 3, 0, 0, 0, 0, 1, 1, 1, 1, 0, 1, 3, 1, 0, 3, 0, 2, 2, 0, 1, 1, 3, 3, 2, 2, 0, 2, 0, 1, 2, 4, 1, 1, 0, 1, 0, 2, 0, 1, 0, 2, 1, 2, 1, 1, 1, 0, 1, 2, 1, 1, 1, 0, 1, 1, 1, 1, 2, 1, 0, 1, 0, 1, 0, 1, 3, 3, 1, 2, 1, 1, 1, 1, 0, 1, 0, 0, 0, 0, 3, 3, 1, 0, 0, 1, 0, 1, 0, 1, 2, 1, 0, 0, 1, 2, 1, 2, 0, 0, 1, 1, 0, 0, 0, 2, 0, 0, 0, 1, 0, 0, 1, 0, 1, 0, 1, 1, 1, 1, 1, 0, 1, 0, 1, 0, 0, 0, 1, 1, 1, 1, 0, 0, 0, 2, 1, 1, 0, 0, 1, 0, 0, 0, 0, 0, 0, 0, 0, 3, 1, 2, 0, 0, 3, 0, 1, 0, 3, 0, 1, 0, 3, 1, 0, 0, 1, 0, 1, 0, 0, 0, 0, 1, 1, 1, 1, 0, 1, 0, 0, 0, 0, 1, 0, 1, 3, 0, 1, 0, 0, 1, 1, 1, 1, 2, 1, 2, 1, 0, 0, 3, 1, 0, 0, 2, 0, 1, 0, 0, 0, 0, 1, 1, 1, 1, 1, 0, 2, 1, 0, 1, 1, 1, 1, 2, 2, 1, 0, 0, 1, 0, 0, 0, 2, 0, 0, 1, 1, 0, 1, 2, 0, 2, 1, 2, 0, 0, 0, 2, 2, 0, 0, 1, 1, 1, 1, 0, 2, 0, 1, 1, 1, 2, 0, 0, 0, 0, 1, 1, 1, 0, 0, 1, 0, 1, 2, 0, 1, 0, 0, 0, 1, 2, 1, 2, 1, 2, 0, 3, 3, 0, 1, 3, 1, 1, 0, 2, 0, 1, 1, 0, 0, 1, 0, 0, 1, 0, 1, 2, 0, 1, 1, 1, 2, 1, 1, 1, 0, 1, 0, 1, 2, 1, 1, 0, 0, 1, 0, 1, 0, 3, 2, 1, 1, 1, 0, 1, 2, 1, 0, 0, 0, 1, 1, 0, 1, 2, 2, 0, 0, 0, 3, 0, 3, 2, 2, 1, 1, 0, 0, 2, 0, 3, 1, 1, 0, 0, 1, 1, 0, 0, 0, 1, 2, 0, 1, 0]\n"
     ]
    },
    {
     "data": {
      "image/png": "[encoded data removed]",
      "text/plain": [
       "<Figure size 640x480 with 1 Axes>"
      ]
     },
     "metadata": {},
     "output_type": "display_data"
    }
   ],
   "source": [
    "version=\"T_01_16\"\n",
    "random_state=311164368\n",
    "rows = !echo \"select rounds, matched_cnts from rndforest where version=\\\"{version}\\\" and random_state={random_state}\"|sqlite3 ../db/metrics.db\n",
    "if len(rows) > 0:\n",
    "    cols = rows[0].split('|')\n",
    "    rounds = [int(i) for i in cols[0].split(',')]\n",
    "    matched_cnts = [int(i) for i in cols[1].split(',')]\n",
    "    rounds.reverse()\n",
    "    matched_cnts.reverse()\n",
    "    print(matched_cnts)\n",
    "    draw_datas_graph(f'matched_cnts for {version}.{random_state}',\n",
    "                     [(rounds, matched_cnts, \"first\")],\n",
    "                     'rounds',\n",
    "                     'cnts')"
   ]
  },
  {
   "cell_type": "code",
   "execution_count": 86,
   "id": "c20ea7fd-3a41-459a-acac-680eacd98ca3",
   "metadata": {},
   "outputs": [
    {
     "name": "stdout",
     "output_type": "stream",
     "text": [
      "\n",
      "*************** Checking version = [T_01_16] ***************\n",
      "\n",
      "result's len = 0\n"
     ]
    }
   ],
   "source": [
    "# 4가 많이 발생하는 경우 확인\n",
    "min_cnt = 24\n",
    "max_cnt = 7\n",
    "target_num = 3\n",
    "versions = [version]\n",
    "results_dict4 = {}\n",
    "for ver in versions:\n",
    "    print(f'\\n{\"*\"*15} Checking version = [{ver}] {\"*\"*15}\\n')\n",
    "    results = db_query(min_cnt=min_cnt, max_cnt=max_cnt, version=version, target_num=target_num, print_data=False, list_view=True)\n",
    "    results_dict4[ver] = results\n",
    "\n",
    "for key in results_dict4:\n",
    "    print(f'result\\'s len = {len(results_dict4[ver][min_cnt])}')\n",
    "    for result in results_dict4[key][min_cnt]:\n",
    "        print(result['random_state'])"
   ]
  },
  {
   "cell_type": "code",
   "execution_count": 85,
   "id": "44d379aa-c442-4e35-956b-86eb9d3b7813",
   "metadata": {},
   "outputs": [
    {
     "name": "stdout",
     "output_type": "stream",
     "text": [
      "\n",
      "*************** Checking version = [T_01_16] ***************\n",
      "\n",
      "result's len = 1\n",
      "311164368\n"
     ]
    }
   ],
   "source": [
    "# 4가 많이 발생하는 경우 확인\n",
    "min_cnt = 23\n",
    "max_cnt = 7\n",
    "target_num = 3\n",
    "versions = [version]\n",
    "results_dict4 = {}\n",
    "for ver in versions:\n",
    "    print(f'\\n{\"*\"*15} Checking version = [{ver}] {\"*\"*15}\\n')\n",
    "    results = db_query(min_cnt=min_cnt, max_cnt=max_cnt, version=version, target_num=target_num, print_data=False, list_view=True)\n",
    "    results_dict4[ver] = results\n",
    "\n",
    "for key in results_dict4:\n",
    "    print(f'result\\'s len = {len(results_dict4[ver][min_cnt])}')\n",
    "    for result in results_dict4[key][min_cnt]:\n",
    "        print(result['random_state'])"
   ]
  },
  {
   "cell_type": "code",
   "execution_count": 40,
   "id": "97ce49ee-cb59-452b-b9c2-d9e2e58af227",
   "metadata": {},
   "outputs": [
    {
     "name": "stdout",
     "output_type": "stream",
     "text": [
      "\n",
      "*************** Checking version = [T_01_16 / 5] ***************\n",
      "\n",
      "\n",
      "*************** Checking version = [T_01_16 / 6] ***************\n",
      "\n"
     ]
    }
   ],
   "source": [
    "# 5/6이 많이 발생하는 경우 확인\n",
    "min_cnt = 1\n",
    "max_cnt = 3\n",
    "target_nums = [5, 6]\n",
    "versions = [version]\n",
    "results_dict5 = {}\n",
    "for ver in versions:\n",
    "    results_dict5[version] = {}\n",
    "    for target_num in target_nums:\n",
    "        print(f'\\n{\"*\"*15} Checking version = [{ver} / {target_num}] {\"*\"*15}\\n')\n",
    "        results = db_query(min_cnt=min_cnt,\n",
    "                           max_cnt=max_cnt,\n",
    "                           version=version,\n",
    "                           target_num=target_num,\n",
    "                           print_data=False,\n",
    "                           list_view=True)\n",
    "        results_dict5[ver][target_num] = results"
   ]
  },
  {
   "cell_type": "code",
   "execution_count": null,
   "id": "a93a8ad6-e1be-452a-8fc6-6b3e06997790",
   "metadata": {},
   "outputs": [],
   "source": [
    "min_rnd_st=113400\n",
    "max_rnd_st=113830\n",
    "from datetime import datetime\n",
    "print(version)\n",
    "query = f'select * from rndforest where version=\\\\\"{version}\\\\\" and random_state>={min_rnd_st} and random_state<{max_rnd_st};'\n",
    "print(query)\n",
    "rows = !echo \"{query}\"|sqlite3 ../db/metrics_or.db\n",
    "matched_cnts_3 = []\n",
    "print(datetime.now(), rows)\n",
    "for row in rows:\n",
    "    print(row)\n",
    "    cols = row.split('|')\n",
    "    matched_cnts = cols[5].split(',')\n",
    "    count = 0;\n",
    "    for mc in matched_cnts:\n",
    "        if int(mc) > 2:\n",
    "            count+=1\n",
    "    matched_cnts_3.append((cols[0], cols[3], count))\n",
    "sorted_data = sorted(matched_cnts_3, key=lambda x: x[2])\n",
    "for data in sorted_data:\n",
    "    print(data)"
   ]
  },
  {
   "cell_type": "code",
   "execution_count": null,
   "id": "ccbe513b-b4a1-41e2-bc92-de696519ce9a",
   "metadata": {},
   "outputs": [],
   "source": [
    "# find n_estimators=[25, 10]\n",
    "#  data_lengths = [40]\n",
    "#  random_state_gap = 1\n",
    "#  last_rounds = [1176]\n",
    "!echo \"select * from rndforest where version=\\\"T_01_03\\\" and sum_val > 14;\" | sqlite3 ../db/metrics.db\n",
    "!echo \"...........like 4..............................\"\n",
    "!echo \"select * from rndforest where version in (\\\"T_01_03\\\", \\\"T_01_07\\\") and matched_cnts like \\\"%4%\\\";\" | sqlite3 ../db/metrics.db\n",
    "!echo \"...........like 5..............................\"\n",
    "!echo \"select * from rndforest where version in (\\\"T_01_03\\\", \\\"T_01_07\\\") and matched_cnts like \\\"%5%\\\";\" | sqlite3 ../db/metrics.db\n",
    "!echo \"...........like 6..............................\"\n",
    "!echo \"select * from rndforest where version in (\\\"T_01_03\\\", \\\"T_01_07\\\") and matched_cnts like \\\"%6%\\\";\" | sqlite3 ../db/metrics.db\n",
    "!echo \"...............................................\"\n",
    "!echo \"select * from rndforest where version in (\\\"T_01_07\\\", \\\"T_01_03\\\") and sum_val > 13;\" | sqlite3 ../db/metrics.db\n",
    "!echo \"...............................................\"\n"
   ]
  },
  {
   "cell_type": "code",
   "execution_count": null,
   "id": "acb5d1a5-6274-4c45-b6c7-aa1ea4a015e0",
   "metadata": {},
   "outputs": [],
   "source": [
    "# find n_estimators=[25, 10]\n",
    "#  data_lengths = [40]\n",
    "#  random_state_gap = 1\n",
    "#  last_rounds = [1176]\n",
    "version=\"T_01_05\"\n",
    "!echo \"select * from rndforest where version=\\\"T_01_03\\\" and random_state in (357, 264, 762, 864);\" | sqlite3 ../db/metrics.db\n",
    "!echo \"select * from rndforest where version=\\\"T_01_06\\\" and sum_val > 2;\" | sqlite3 ../db/metrics.db"
   ]
  },
  {
   "cell_type": "code",
   "execution_count": null,
   "id": "21b7167a-e7df-4395-a87e-749f808ba45a",
   "metadata": {},
   "outputs": [],
   "source": [
    "# find n_estimators=[25, 10]\n",
    "#  data_lengths = [40]\n",
    "#  random_state_gap = 1\n",
    "#  last_rounds = [1176, 1175]\n",
    "version=\"T_01_05\"\n",
    "!echo \"select * from rndforest where version=\\\"T_01_05\\\" and sum_val > 3;\" | sqlite3 ../db/metrics.db"
   ]
  },
  {
   "cell_type": "code",
   "execution_count": null,
   "id": "d3d4d991-9b58-47cd-bbb8-b0d469d85457",
   "metadata": {},
   "outputs": [],
   "source": [
    "# find n_estimators=[25, 10]\n",
    "#  data_lengths = [40]\n",
    "#  random_state_gap = 1\n",
    "#  last_rounds = [1176, 1175, 1174]\n",
    "!echo \"select * from rndforest where version=\\\"T_01_04\\\" and sum_val > 5;\" | sqlite3 ../db/metrics.db"
   ]
  },
  {
   "cell_type": "code",
   "execution_count": null,
   "id": "c30265e5-3fe4-4383-8bd2-a8a0537f2c91",
   "metadata": {},
   "outputs": [],
   "source": [
    "# find n_estimators=[25, 10]\n",
    "#  data_lengths = [40]\n",
    "#  random_state_gap = 1\n",
    "#  last_rounds = [1176, 1175, 1174, 1173]\n",
    "!echo \"select * from rndforest where version=\\\"T_01_02\\\" and sum_val > 7;\" | sqlite3 ../db/metrics.db\n",
    "db_file_path = '../db/metrics.db'\n",
    "version = \"T_01_02\"\n",
    "query = f'select * from rndforest where version=\\\"{version}\\\" and sum_val > 7;'\n",
    "db_dicret_query(query=query, db_file_path=db_file_path)"
   ]
  },
  {
   "cell_type": "code",
   "execution_count": null,
   "id": "ed52269f-ef09-4707-8d5b-9400f6c750a0",
   "metadata": {},
   "outputs": [],
   "source": [
    "old_versions = [\"T_01_01\", \"T_01_02\", \"T_01_03\", \"T_01_04\", \"T_01_05\"]\n",
    "sum_val = 7\n",
    "for version in old_versions:\n",
    "    !echo \"select * from rndforest where version=\\\"{version}\\\" and sum_val > {sum_val};\" | sqlite3 ../db/metrics.db"
   ]
  },
  {
   "cell_type": "code",
   "execution_count": null,
   "id": "9dbb23b7-2823-4021-8b7a-25d44f38bfcc",
   "metadata": {},
   "outputs": [],
   "source": [
    "!echo \"select * from rndforest where version=\\\"T_01_03\\\" and random_state=762;\" | sqlite3 ../db/metrics.db\n",
    "!echo \".........................................\"\n",
    "!echo \"select * from rndforest where version=\\\"T_01_03\\\" and sum_val > 12;\" | sqlite3 ../db/metrics.db"
   ]
  },
  {
   "cell_type": "markdown",
   "id": "d3fecbe2-b8be-477c-8f08-c084eddda27d",
   "metadata": {},
   "source": [
    "## 1. __N개 씩 데이터를 읽어서 화면에 표시합니다.__"
   ]
  },
  {
   "cell_type": "markdown",
   "id": "2b481a7f-3b92-4599-a2a1-7e5dc7590a45",
   "metadata": {},
   "source": [
    "### 1.1 글로벌 변수 정의"
   ]
  },
  {
   "cell_type": "code",
   "execution_count": null,
   "id": "c05127ca-4221-4a44-a391-a529e230e608",
   "metadata": {},
   "outputs": [],
   "source": [
    "## - 데이터 보존을 위하여 여기에서 정의합니다.\n",
    "answer_list = []\n",
    "first = 113700\n",
    "last = 113800\n",
    "step = 10"
   ]
  },
  {
   "cell_type": "code",
   "execution_count": null,
   "id": "d0beaa3f-6556-4d94-aca2-a02af44889bf",
   "metadata": {},
   "outputs": [],
   "source": [
    "# for i in ['113686', '113700', '113708', '113738', '113746', '113750', '113755', '113759', '113765', '113776', '113783', '113789', '113792', '113794', '113795']:\n",
    "#     answer_list.append(int(i))"
   ]
  },
  {
   "cell_type": "markdown",
   "id": "086be538-c8f3-42c8-af08-72ca25261c02",
   "metadata": {},
   "source": [
    "### 1.2 데이터 확인 (N개 씩)"
   ]
  },
  {
   "cell_type": "code",
   "execution_count": null,
   "id": "3df72f91-931c-4ac9-ba06-6c36b2339bf3",
   "metadata": {},
   "outputs": [],
   "source": [
    "T_VERSION=t_version\n",
    "db_path='../db/metrics.db'\n",
    "\n",
    "first_random_state = !echo 'select random_state from rndforest where version=\"{T_VERSION}\" order by random_state limit 1' | sqlite3 {db_path}\n",
    "last_random_state = !echo 'select random_state from rndforest where version=\"{T_VERSION}\" order by random_state desc limit 1' | sqlite3 {db_path}\n",
    "print(f'first random_state is {first_random_state[0]} / first')\n",
    "print(f'last random_state is {last_random_state[0]} / last')\n",
    "\n",
    "try:\n",
    "    print('first', first)\n",
    "except NameError as ex:\n",
    "    first = 1000\n",
    "\n",
    "try:\n",
    "    print('last', last)\n",
    "except NameError as ex:\n",
    "    last = 10\n",
    "\n",
    "try:\n",
    "    print('step', step)\n",
    "except NameError as ex:\n",
    "    step = 10\n",
    "\n",
    "\n",
    "first_str = input(f\"처음을 입력하세요: (ex: {first})\")\n",
    "if len(first_str) > 0:\n",
    "    first = int(first_str)\n",
    "else:\n",
    "    first = int(first_random_state[0])\n",
    "last_str = input(f\"마지막을 입력하세요: (ex: {last})\")\n",
    "if len(last_str) > 0:\n",
    "    last = int(last_str)\n",
    "else:\n",
    "    last = int(last_random_state[0])\n",
    "\n",
    "step_str = input(f\"step을 입력하세요: (ex: {step})\")\n",
    "if len(step_str) > 0:\n",
    "    step = int(step_str)\n",
    "else:\n",
    "    step = 10\n",
    "\n",
    "for current in tqdm(range(first, last, step)):\n",
    "    # %matplotlib inline\n",
    "    is_last_data = False\n",
    "    begin = current\n",
    "    end = current + step\n",
    "    if end >= last:\n",
    "        end = last\n",
    "        print('마지막 데이터 입니다.')\n",
    "        is_last_data = True\n",
    "    print(begin, end)\n",
    "    random_states = [i for i in range(begin, end, 1)]\n",
    "    print(f'random_states = {random_states}')\n",
    "    row_len = data_graph_from_db(version=T_VERSION, random_states=random_states,verbose=0)\n",
    "    if row_len > 0:\n",
    "        wanted_items = get_wanted_item('저장할 번호를 선택하세요. (\",\"로 분리하세요)')\n",
    "        for random_state in wanted_items:\n",
    "            if random_state not in answer_list:\n",
    "                answer_list.append(random_state)\n",
    "        if is_last_data == False:\n",
    "            is_continue = check_continue()\n",
    "            if is_continue == False:\n",
    "                break\n",
    "            else:\n",
    "                clear_output()\n",
    "    else:\n",
    "        print('Have no more data.')\n",
    "        break"
   ]
  },
  {
   "cell_type": "code",
   "execution_count": null,
   "id": "59aaf0df-dba7-43cc-afee-06e8c314e857",
   "metadata": {},
   "outputs": [],
   "source": [
    "print(f'first = {first}')\n",
    "print(f'end   = {end}')\n",
    "print(f'step  = {step}')\n",
    "print(f'selected = {answer_list}')"
   ]
  },
  {
   "cell_type": "markdown",
   "id": "547da4a4-4f0a-4c60-b836-92e0a4744f8f",
   "metadata": {},
   "source": [
    "### 1.3 위에서 저장한 random_state를 그래프로 확인 함."
   ]
  },
  {
   "cell_type": "code",
   "execution_count": null,
   "id": "fe961336-8234-4407-91db-d17b9835e810",
   "metadata": {},
   "outputs": [],
   "source": [
    "print(f'{\"=\"*30}')\n",
    "answer_list.sort()\n",
    "temp_list = answer_list\n",
    "for random_state in tqdm(temp_list):\n",
    "    if temp_list[len(temp_list)-1] == random_state:\n",
    "        is_last_data = True\n",
    "    else:\n",
    "        is_last_data = False\n",
    "    print('selected random_state : ', random_state)\n",
    "    data_graph_from_db(version=T_VERSION, random_states=[random_state],verbose=0)\n",
    "    is_remove_this = check_remove_this(random_state)\n",
    "    if is_remove_this:\n",
    "        answer_list.remove(random_state)\n",
    "    if is_last_data == False:\n",
    "        is_continue = check_conotinue()\n",
    "        if is_continue == False:\n",
    "            break\n",
    "        else:\n",
    "            clear_output()"
   ]
  },
  {
   "cell_type": "code",
   "execution_count": null,
   "id": "cf0ab179-eefa-4acb-a1d3-8cf11dc1e9b1",
   "metadata": {},
   "outputs": [],
   "source": [
    "# temp = []\n",
    "# for i in answer_list:\n",
    "#     print(i, type(i))\n",
    "#     if isinstance(i, str):\n",
    "#         temp.append(int(i))\n",
    "#     else:\n",
    "#         temp.append(i)\n",
    "# temp.sort()\n",
    "# answer_list = temp"
   ]
  },
  {
   "cell_type": "code",
   "execution_count": null,
   "id": "ac37aa91-301d-4acd-bb1c-61a02eac095e",
   "metadata": {},
   "outputs": [],
   "source": [
    "print(f'first = {first}')\n",
    "print(f'end   = {end}')\n",
    "print(f'step  = {step}')\n",
    "print(f'selected = {answer_list}')"
   ]
  },
  {
   "cell_type": "markdown",
   "id": "ec2a6dcf-ef26-4fc3-9624-aa8e642ba6ba",
   "metadata": {},
   "source": [
    "## 2. __위에서 선택 된 데이터에 대해서 한 번 더 그래프를 확인 합니다.__"
   ]
  },
  {
   "cell_type": "markdown",
   "id": "29f2060a-e8d8-439a-bd4f-21e284aa58af",
   "metadata": {},
   "source": [
    "### 2.1 특정 데이터에 대해서 확인을 합니다."
   ]
  },
  {
   "cell_type": "code",
   "execution_count": null,
   "id": "52a57e53-cb17-4e2f-a3fe-f857042a08a1",
   "metadata": {},
   "outputs": [],
   "source": [
    "# random_states = [114001, 114003, 114005, ]\n",
    "# random_states = [114005, ]\n",
    "# random_states = [113723, 113732, 113738]\n",
    "# 113791, 113798\n",
    "# 113661\n",
    "# 113797\n",
    "# random_states = [113700, 113738, 113696, 113745, 113789]\n",
    "# random_states = [113410, 113732, 113429, 113650, 113424, 113837]\n",
    "# random_states = [113410, 113732, 113429, 113658, 113650, 113424, 113837]\n",
    "\"\"\"\n",
    "('74698', '3711', 11)\n",
    "('74715', '3728', 11)\n",
    "('74716', '3729', 11)\n",
    "('74730', '3743', 11)\n",
    "('74722', '3735', 12)\n",
    "('74696', '3709', 13)\n",
    "('74699', '3712', 13)\n",
    "('74711', '3724', 13)\n",
    "('74723', '3736', 13)\n",
    "('74729', '3742', 13)\n",
    "('74720', '3733', 14)\n",
    "\n",
    "74720\n",
    "\"\"\"\n",
    "\n",
    "random_states = []\n",
    "data_rows_str=\"\\\n",
    "('74698', '3711', 11)\\\n",
    "('74715', '3728', 11)\\\n",
    "('74716', '3729', 11)\\\n",
    "('74730', '3743', 11)\\\n",
    "('74746', '3759', 11)\\\n",
    "('74778', '3791', 11)\\\n",
    "('74781', '3794', 11)\\\n",
    "('74722', '3735', 12)\\\n",
    "('74766', '3779', 12)\\\n",
    "('74767', '3780', 12)\\\n",
    "('74696', '3709', 13)\\\n",
    "('74699', '3712', 13)\\\n",
    "('74711', '3724', 13)\\\n",
    "('74723', '3736', 13)\\\n",
    "('74729', '3742', 13)\\\n",
    "('74720', '3733', 14)\\\n",
    "\"\n",
    "rows_str=\"\\\n",
    "('74691', '3704', 9)\\\n",
    "('74708', '3721', 9)\\\n",
    "('74709', '3722', 9)\\\n",
    "('74717', '3730', 9)\\\n",
    "('74718', '3731', 9)\\\n",
    "('74719', '3732', 9)\\\n",
    "('74741', '3754', 9)\\\n",
    "('74749', '3762', 9)\\\n",
    "('74760', '3773', 9)\\\n",
    "('74764', '3777', 9)\\\n",
    "('74772', '3785', 9)\\\n",
    "('74774', '3787', 9)\\\n",
    "\"\n",
    "rows_str=\"\\\n",
    "('74713', '3726', 8)\\\n",
    "('74724', '3737', 8)\\\n",
    "('74734', '3747', 8)\\\n",
    "('74737', '3750', 8)\\\n",
    "('74747', '3760', 8)\\\n",
    "('74752', '3765', 8)\\\n",
    "('74755', '3768', 8)\\\n",
    "('74758', '3771', 8)\\\n",
    "('74765', '3778', 8)\\\n",
    "('74773', '3786', 8)\\\n",
    "\"\n",
    "\n",
    "rows_str=\"\\\n",
    "('74689', '3702', 10)\\\n",
    "('74692', '3705', 10)\\\n",
    "('74702', '3715', 10)\\\n",
    "('74704', '3717', 10)\\\n",
    "('74712', '3725', 10)\\\n",
    "('74721', '3734', 10)\\\n",
    "('74740', '3753', 10)\\\n",
    "('74743', '3756', 10)\\\n",
    "('74748', '3761', 10)\\\n",
    "('74757', '3770', 10)\\\n",
    "('74775', '3788', 10)\\\n",
    "('74777', '3790', 10)\\\n",
    "('74779', '3792', 10)\\\n",
    "\"\n",
    "rows_str = rows_str.replace(\"(\",\"\")\n",
    "rows = rows_str.split(\")\")\n",
    "for row in rows:\n",
    "    if len(row) > 0:\n",
    "        row = row.replace(\"\\'\",\"\")\n",
    "        cols = row.split(\", \")\n",
    "        if len(cols) > 0:\n",
    "            print(cols)\n",
    "            random_states.append(int(cols[1]))\n",
    "print(random_states)\n",
    "\n",
    "for random_state in tqdm(random_states):\n",
    "    print(f'random_state = {random_state}')\n",
    "    if random_state == random_states[len(random_states) - 1]:\n",
    "        is_last = True\n",
    "    else:\n",
    "        is_last = False\n",
    "    data_graph_from_db(version=version, random_states=[random_state],verbose=0)\n",
    "    if is_last == False:\n",
    "        is_continue = check_continue()\n",
    "        if is_continue == False:\n",
    "            break\n",
    "        else:\n",
    "            clear_output()"
   ]
  },
  {
   "cell_type": "markdown",
   "id": "5814ab2a-1961-4570-97a0-6c9fc18ffa95",
   "metadata": {},
   "source": [
    "## 3. __한 개의 데이터 만을 확인 합니다.__"
   ]
  },
  {
   "cell_type": "code",
   "execution_count": null,
   "id": "ca9b16d8-d2a5-4563-893d-c14a61bb21cd",
   "metadata": {},
   "outputs": [],
   "source": [
    "3731,3786,3702,3715,3734,3753,3761,3770"
   ]
  },
  {
   "cell_type": "code",
   "execution_count": null,
   "id": "4a3a4f28-de76-408f-ba63-19650676e28d",
   "metadata": {},
   "outputs": [],
   "source": [
    "T_VERSION=\"T_01_10\"\n",
    "\n",
    "random_states = get_wanted_item('random_state를 \",\"로 구분하여 입력하여 주세요.')\n",
    "\n",
    "for random_state in tqdm(random_states):\n",
    "    print(f'random_state = {random_state}')\n",
    "    if random_state == random_states[len(random_states) - 1]:\n",
    "        is_last = True\n",
    "    else:\n",
    "        is_last = False\n",
    "    data_graph_from_db(version=T_VERSION, random_states=[random_state],verbose=0)\n",
    "    if is_last == False:\n",
    "        is_continue = check_conotinue()\n",
    "        if is_continue == False:\n",
    "            break\n",
    "        else:\n",
    "            clear_output()"
   ]
  },
  {
   "cell_type": "markdown",
   "id": "b23ed5bf-3705-434b-a357-90509e96a772",
   "metadata": {},
   "source": [
    "```\n",
    "create table rndforest_possi(id INTEGER PRIMARY KEY AUTOINCREMENT, version TEXT, random_state INTEGER, possibility FLOAT);\n",
    "create table rndforest_possi(id INTEGER PRIMARY KEY AUTOINCREMENT, version TEXT, random_state INTEGER, possibility FLOAT, max INTEGER);\n",
    "```"
   ]
  },
  {
   "cell_type": "code",
   "execution_count": null,
   "id": "f9be6e3f-5ed5-4dc0-843e-dd8edfc1cba6",
   "metadata": {},
   "outputs": [],
   "source": [
    "157|T_01_11|113410|2.05857292|4.0\n",
    "14|T_01_11|113732|2.03060084581375|4.999999998\n",
    "159|T_01_11|113429|2.01577738|4.0\n",
    "155|T_01_11|113658|1.90289810299873|4.0\n",
    "147|T_01_11|113650|1.76873996853828|4.0\n",
    "158|T_01_11|113424|1.74410105|4.0\n",
    "74|T_01_11|113837|1.74028784036636|4.0\n",
    "\n",
    "\n",
    "[113410, 113732, 113429, 113658, 113650, 113424, 113837]"
   ]
  }
 ],
 "metadata": {
  "kernelspec": {
   "display_name": "Python 3 (ipykernel)",
   "language": "python",
   "name": "python3"
  },
  "language_info": {
   "codemirror_mode": {
    "name": "ipython",
    "version": 3
   },
   "file_extension": ".py",
   "mimetype": "text/x-python",
   "name": "python",
   "nbconvert_exporter": "python",
   "pygments_lexer": "ipython3",
   "version": "3.12.10"
  }
 },
 "nbformat": 4,
 "nbformat_minor": 5
}
