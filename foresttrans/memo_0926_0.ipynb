{
 "cells": [
  {
   "cell_type": "markdown",
   "id": "82b87a4c-503a-4008-8554-04245d46297d",
   "metadata": {},
   "source": [
    "### _* Memo_0915_0_"
   ]
  },
  {
   "cell_type": "code",
   "execution_count": 1,
   "id": "0af1d137-cab1-45b5-a8d0-786cdd616261",
   "metadata": {},
   "outputs": [],
   "source": [
    "# Configuration\n",
    "from config import next_round, version_main\n",
    "\n",
    "version_sub=0\n",
    "version=f\"{version_main}_{version_sub}\"\n",
    "title = \"Metrics\"\n",
    "row_length = 150\n",
    "new_to_old = True\n",
    "show_mark_down = True\n",
    "markdown_table_limit_length = 30\n",
    "# 1179 3,16,18,24,40,44+21. "
   ]
  },
  {
   "cell_type": "code",
   "execution_count": 2,
   "id": "ae2f8015-3542-4119-a0df-107e9525dc4c",
   "metadata": {},
   "outputs": [
    {
     "name": "stdout",
     "output_type": "stream",
     "text": [
      "Current Step #01 [now = 2025-09-26 16:41:00.048834\n"
     ]
    }
   ],
   "source": [
    "## this code was run.\n",
    "#!pip install keras-tuner\n",
    "\n",
    "import numpy as np\n",
    "import pandas as pd\n",
    "import os\n",
    "import matplotlib.pyplot as plt\n",
    "import math\n",
    "from datetime import datetime\n",
    "from tqdm import tqdm\n",
    "print(f'Current Step #01 [now = {datetime.now()}')\n",
    "import matplotlib.pyplot as plt\n",
    "from IPython.display import Markdown\n"
   ]
  },
  {
   "cell_type": "code",
   "execution_count": 3,
   "id": "f3b5d97d-ed5f-4ec6-a5ef-66eb53be8113",
   "metadata": {},
   "outputs": [],
   "source": [
    "def get_candidated(version: str):\n",
    "    \"\"\" get_candidated \"\"\"\n",
    "    query = f'select n0, n1, n2, n3, n4, n5 from candidated where version=\\\\\"{version}\\\\\";'\n",
    "    metrics = !echo \"{query}\" | sqlite3 ../db/metrics.db\n",
    "    if len(metrics) == 1:\n",
    "        metrics = metrics[0].split('|')\n",
    "        if len(metrics) == 6:\n",
    "            return {0: int(metrics[0]),\n",
    "                    1: int(metrics[1]),\n",
    "                    2: int(metrics[2]),\n",
    "                    3: int(metrics[3]),\n",
    "                    4: int(metrics[4]),\n",
    "                    5: int(metrics[5])}\n",
    "    return {}\n",
    "\n",
    "\n",
    "def set_candidated_level(version: str, level: int):\n",
    "    \"\"\" set_candidated_level \"\"\"\n",
    "    \"\"\" candidated의 level을 설정합니다. \"\"\" \n",
    "    up_query = f'update candidated set level={level} where version=\\\\\"{version}\\\\\";'\n",
    "    !echo \"{up_query}\" | sqlite3 ../db/metrics.db\n",
    "\n",
    "\n",
    "def get_candidated_level(version: str):\n",
    "    \"\"\" get_candidated_level \"\"\"\n",
    "    \"\"\" level을 가져 옵니다. \"\"\"\n",
    "    sel_query = f'select level from candidated where version=\\\\\"{version}\\\\\";'\n",
    "    levels = !echo \"{sel_query}\" | sqlite3 ../db/metrics.db\n",
    "\n",
    "    if len(levels) > 0:\n",
    "        return int(levels[0])\n",
    "    return 0\n",
    "\n",
    "\n",
    "def update_candidated(candidated: dict, version: str):\n",
    "    \"\"\" update_candidated \"\"\"\n",
    "    sel_query = f'select * from candidated where version=\\\\\"{version}\\\\\";'\n",
    "    metrics = !echo \"{sel_query}\" | sqlite3 ../db/metrics.db\n",
    "    if len(metrics) == 1:\n",
    "        \"\"\" update \"\"\"\n",
    "        update_query = 'update candidated set '\n",
    "        set_kv = []\n",
    "        for key in candidated.keys():\n",
    "            set_kv.append(f'n{key}={candidated[key]}')\n",
    "        update_query += \", \".join(set_kv)\n",
    "        update_query += f' where version=\\\\\"{version}\\\\\";'\n",
    "        !echo \"{update_query}\" | sqlite3 ../db/metrics.db\n",
    "    else:\n",
    "        \"\"\" insert \"\"\"\n",
    "        insert_query = 'insert into candidated ('\n",
    "        new_key = []\n",
    "        new_val = []\n",
    "        for key in candidated.keys():\n",
    "            new_key.append(f'n{key}')\n",
    "            new_val.append(f'{candidated[key]}')\n",
    "        new_key.append('version')\n",
    "        new_val.append(f'\\\\\"{version}\\\\\"')\n",
    "        insert_query += f'{\", \".join(new_key)} ) values ('\n",
    "        insert_query += f'{\", \".join(new_val)} );'\n",
    "        !echo \"{insert_query}\" | sqlite3 ../db/metrics.db\n",
    "\n",
    "\n",
    "def create_candidated():\n",
    "    \"\"\" create_candidated \"\"\"\n",
    "    new_query = 'create table candidated ( ' \\\n",
    "                ' id INTEGER PRIMARY KEY AUTOINCREMENT, ' \\\n",
    "                ' version char[14], ' \\\n",
    "                ' n0 int, ' \\\n",
    "                ' n1 int, ' \\\n",
    "                ' n2 int, ' \\\n",
    "                ' n3 int, ' \\\n",
    "                ' n4 int, ' \\\n",
    "                ' n5 int );'\n",
    "    !echo \"{new_query}\" | sqlite3 ../db/metrics.db\n",
    "\n",
    "\n",
    "def draw_nums(ext_datas, is_pre_data=False, fig_size=(15, 8)):\n",
    "    \"\"\" draw_nums \"\"\"\n",
    "    show_cols = [0, 1, 2, 3, 4, 5]\n",
    "    show_label = False\n",
    "    show_cnt = 100\n",
    "    start_pos = row_length - show_cnt\n",
    "    show_data = []\n",
    "    for i in range(6):\n",
    "        end_pos = -1 if is_pre_data else len(row_list_none_last[i])\n",
    "        show_data.append(row_list_none_last[i][start_pos:end_pos])\n",
    "    print(ext_datas)\n",
    "    draw_scatter(show_data, f'line num : {key}', True, True, show_cols, ext_datas, show_label, helper_line_nums=[10, 20, 30, 40], fig_size=fig_size)\n",
    "\n",
    "\n",
    "# 기준이 되는 수에 대한 DB의 기존 데이터를 출력합니다.\n",
    "def get_likey(like_query, next_round):\n",
    "    \"\"\" get_likey \"\"\"\n",
    "    rows = !echo \"{like_query}\" | sqlite3 ../db/metrics.db\n",
    "    cur_next_round = next_round\n",
    "    if len(rows) > 0:\n",
    "        for row in rows:\n",
    "            cols = row.split(\"|\")\n",
    "            nums = [int(i) for i in cols[2].split(',')]\n",
    "            nums_str = [f\"{int(i): >2}\" for i in nums]\n",
    "            round_diff = 0\n",
    "            cur_round = int(cols[1])        \n",
    "            if next_round > 0:\n",
    "                round_diff = cur_next_round - cur_round\n",
    "            cur_next_round = cur_round\n",
    "            print(f\"{cur_round: >4} | {','.join(nums_str)} | {sum(nums): >3} | {round_diff: >3}\")\n",
    "    else:\n",
    "        print('data is empty.')\n",
    "\n",
    "\n",
    "cur_level = get_candidated_level(version=version)"
   ]
  },
  {
   "cell_type": "code",
   "execution_count": 4,
   "id": "b6132dd4-f20a-49e3-9538-b25458333dec",
   "metadata": {},
   "outputs": [
    {
     "name": "stdout",
     "output_type": "stream",
     "text": [
      "cur_level = 0, db_level = 0\n"
     ]
    }
   ],
   "source": [
    "## 레벨을 설정합니다.\n",
    "## 변경시에는 아래의 cur_level을 해제하고 실행하여야 합니다.\n",
    "db_level = get_candidated_level(version=version)\n",
    "print(f'cur_level = {cur_level}, db_level = {db_level}')\n",
    "if cur_level != db_level:\n",
    "    set_candidated_level(version=version, level=cur_level)\n",
    "    db_level = get_candidated_level(version=version)\n",
    "    print(f'cur_level = {cur_level}, db_level = {db_level}')\n",
    "#cur_level = 1"
   ]
  },
  {
   "cell_type": "code",
   "execution_count": 5,
   "id": "8117d0af-9ac0-4a26-8f2a-39a5d895dc35",
   "metadata": {},
   "outputs": [
    {
     "name": "stdout",
     "output_type": "stream",
     "text": [
      "row's len = 150\n"
     ]
    },
    {
     "data": {
      "text/markdown": [
       "###### Updated 2025-09-26 16:41:01.057916\n",
       "\n",
       "### Metrics\n",
       "|round|numbers|bonus|sum|0|10|20|30|40|\n",
       "|--|--|--|--|--|--|--|--|--|\n",
       "|1191|07,09,19,23,26,45|33|129|2|1|2|0|1|\n",
       "|1190|07,09,19,23,26,45|33|129|2|1|2|0|1|\n",
       "|1189|09,19,29,35,37,38|31|167|1|1|1|3|0|\n",
       "|1188|03,04,12,19,22,27|9|87|2|2|2|0|0|\n",
       "|1187|05,13,26,29,37,40|42|150|1|1|2|1|1|\n",
       "|1186|02,08,13,16,23,28|35|90|2|2|2|0|0|\n",
       "|1185|06,17,22,28,29,32|38|134|1|1|3|1|0|\n",
       "|1184|14,16,23,25,31,37|42|146|0|2|2|2|0|\n",
       "|1183|04,15,17,23,27,36|31|122|1|2|2|1|0|\n",
       "|1182|01,13,21,25,28,31|22|119|1|1|3|1|0|\n",
       "|1181|08,10,14,20,33,41|28|126|1|2|1|1|1|\n",
       "|1180|06,12,18,37,40,41|3|154|1|2|0|1|2|\n",
       "|1179|03,16,18,24,40,44|21|145|1|2|1|0|2|\n",
       "|1178|05,06,11,27,43,44|17|136|2|1|1|0|2|\n",
       "|1177|03,07,15,16,19,43|21|103|2|3|0|0|1|\n",
       "|1176|07,09,11,21,30,35|29|113|2|1|1|2|0|\n",
       "|1175|03,04,06,08,32,42|31|95|4|0|0|1|1|\n",
       "|1174|08,11,14,17,36,39|22|125|1|3|0|2|0|\n",
       "|1173|01,05,18,20,30,35|3|109|2|1|1|2|0|\n",
       "|1172|07,09,24,40,42,44|45|166|2|0|1|0|3|\n",
       "|1171|03,06,07,11,12,17|19|56|3|3|0|0|0|\n",
       "|1170|03,13,28,34,38,42|25|158|1|1|1|2|1|\n",
       "|1169|05,12,24,26,39,42|20|148|1|1|2|1|1|\n",
       "|1168|09,21,24,30,33,37|29|154|1|0|2|3|0|\n",
       "|1167|08,23,31,35,39,40|24|176|1|0|1|3|1|\n",
       "|1166|14,23,25,27,29,42|16|160|0|1|4|0|1|\n",
       "|1165|06,07,27,29,38,45|17|152|2|0|2|1|1|\n",
       "|1164|17,18,23,25,38,39|22|160|0|2|2|2|0|\n",
       "|1163|02,13,15,16,33,43|4|122|1|3|0|1|1|\n",
       "|1162|20,21,22,25,28,29|6|145|0|0|6|0|0|\n",
       "###### Updated 2025-09-26 16:41:01.066257"
      ],
      "text/plain": [
       "<IPython.core.display.Markdown object>"
      ]
     },
     "execution_count": 5,
     "metadata": {},
     "output_type": "execute_result"
    }
   ],
   "source": [
    "# Display the variable's value in Markdown\n",
    "contents = f\"###### Updated {datetime.now()}\\n\\n### {title}\\n\"\n",
    "query = 'select round, metric, bonus from results'\n",
    "query += f' order by round {\"desc\" if new_to_old else \"asc\"}'\n",
    "limit_str = f'limit {row_length}'\n",
    "query += f' {limit_str if row_length > 0 else \"\"}'\n",
    "rows = !echo \"{query}\"| sqlite3 ../db/metrics.db\n",
    "table_rows = [\"|round|numbers|bonus|sum|0|10|20|30|40|\",\n",
    "              \"|--|--|--|--|--|--|--|--|--|\"\n",
    "             ]\n",
    "rows_dict = {1:[], 10:[], 20:[], 30:[], 40:[]}\n",
    "nums_t = []\n",
    "sums = []\n",
    "cur_table_limit = 0\n",
    "print(f'row\\'s len = {len(rows)}')\n",
    "for row in rows:\n",
    "    cols = row.split('|')\n",
    "    if len(cols) == 3:\n",
    "        num_00 = 0\n",
    "        num_10 = 0\n",
    "        num_20 = 0\n",
    "        num_30 = 0\n",
    "        num_40 = 0\n",
    "        nums_list = [int(i) for i in cols[1].split(',')]\n",
    "        for num in nums_list:\n",
    "            if num < 10:\n",
    "                num_00 += 1\n",
    "            if num >= 10 and num < 20:\n",
    "                num_10 += 1\n",
    "            if num >= 20 and num < 30:\n",
    "                num_20 += 1\n",
    "            if num >= 30 and num < 40:\n",
    "                num_30 += 1\n",
    "            if num >= 40 :\n",
    "                num_40 += 1\n",
    "        rows_dict[1].append(num_00)\n",
    "        rows_dict[10].append(num_10)\n",
    "        rows_dict[20].append(num_20)\n",
    "        rows_dict[30].append(num_30)\n",
    "        rows_dict[40].append(num_40)\n",
    "        if cur_table_limit < markdown_table_limit_length:\n",
    "            nums=[f\"{i:02}\" for i in nums_list] \n",
    "            table_rows.append(f\"|{cols[0]}|{\",\".join(nums)}|{cols[2]}|{sum(nums_list)}|{num_00}|{num_10}|{num_20}|{num_30}|{num_40}|\")\n",
    "            cur_table_limit += 1\n",
    "        nums_t.append(nums_list)\n",
    "        sums.append(sum(nums_list))\n",
    "sums.reverse()\n",
    "table_rows_str = \"\\n\".join(table_rows)\n",
    "contents+=table_rows_str + \"\\n\" + f\"###### Updated {datetime.now()}\"\n",
    "Markdown(contents)"
   ]
  },
  {
   "cell_type": "code",
   "execution_count": 6,
   "id": "f6d0a9e9-63e3-4b24-830a-64273d6112b6",
   "metadata": {},
   "outputs": [],
   "source": [
    "\"\"\"\n",
    "Data preparation\n",
    "\"\"\"\n",
    "\n",
    "#########\n",
    "# nums_t\n",
    "nums_by_row = [[] for i in range(6)]\n",
    "for nums in nums_t:\n",
    "    for i in range(6):\n",
    "        nums_by_row[i].append(nums[i])\n",
    "for i in range(6):\n",
    "    nums_by_row[i].reverse()\n",
    "\n",
    "##########\n",
    "# row_list\n",
    "row_list = []\n",
    "row_list_none_last = []\n",
    "for nums in nums_by_row:\n",
    "    row_list.append(nums[0:-1])\n",
    "    row_list_none_last.append(nums[0: len(nums)-1])"
   ]
  },
  {
   "cell_type": "code",
   "execution_count": 7,
   "id": "d2c3120c-5373-42a4-834f-25273c2d1306",
   "metadata": {},
   "outputs": [],
   "source": [
    "predicted_nums = {0:0, 1:0, 2:0, 3:0, 4:0, 5:0}"
   ]
  },
  {
   "cell_type": "code",
   "execution_count": 6,
   "id": "a1232cc9-0d1c-4529-9b22-0d84b2d91aed",
   "metadata": {},
   "outputs": [],
   "source": [
    "def get_predicted(version: str):\n",
    "    query = f'select version, n0, n1, n2, n3, n4, n5, level from candidated where version like \\\\\"{version_prefix[0]}%\\\\\" order by version asc'\n",
    "    predict_lines = []    \n",
    "    rows = !echo \"{query}\" | sqlite3 ../db/metrics.db\n",
    "    return rows\n",
    "\n",
    "\n",
    "def row_to_cols(row: str):\n",
    "    \"\"\" row_to_cols \"\"\"\n",
    "    cols = row.split('|')\n",
    "    level = cols[len(cols)-1]\n",
    "    version_id = int(cols[0].split(version_prefix[0])[1])\n",
    "    nums = [int(cols[i]) for i in range(1, len(cols) - 1)]\n",
    "    sum_val = sum(nums)\n",
    "    return level, version_id, nums, sum_val\n",
    "\n",
    "def get_predicted_strs(version: str):\n",
    "    \"\"\" get_predicted_strs \"\"\"\n",
    "    rows = get_predicted(version = version)\n",
    "    predicted_val = []\n",
    "    for row in rows:\n",
    "        level, version_id, nums, sum_val = row_to_cols(row)\n",
    "        nums_str = []\n",
    "        for num in nums:\n",
    "            nums_str.append(f'{num: >2}')\n",
    "        predicted_val.append((f'[{\", \".join(nums_str)})]', f'{sum_val: >3}', f'{version_id:02}', f'*{level}'))\n",
    "    sorted_data_by_col1 = sorted(predicted_val, key=lambda x: x[2])\n",
    "    return sorted_data_by_col1\n",
    "\n",
    "\n",
    "def get_predicted_list(version: str):\n",
    "    \"\"\" get_predicted \"\"\"\n",
    "    predicted = []\n",
    "    rows = get_predicted(version = version)\n",
    "    for row in rows:\n",
    "        predicted.append(row_to_cols(row))\n",
    "    return predicted\n",
    "\n",
    "\n",
    "def print_results_by_round(rounds: list):\n",
    "    \"\"\" get_results_by_round \"\"\"\n",
    "    sel_query = f'select * from results where round in ({\",\".join(rounds)}) order by round asc;'\n",
    "    rows = !echo \"{sel_query}\" | sqlite3 ../db/metrics.db\n",
    "    for row in rows:\n",
    "        cols = row.split('|')\n",
    "        nums = [int(i) for i in cols[2].split(',')]\n",
    "        print(f'{cols[1]} | {nums[0]: >2},{nums[1]: >2},{nums[2]: >2},{nums[3]: >2},{nums[4]: >2},{nums[5]: >2} | {sum(nums)}')\n",
    "    print('\\n')"
   ]
  },
  {
   "cell_type": "code",
   "execution_count": 8,
   "id": "c656d96d-ebbc-4642-93a1-f072c6422755",
   "metadata": {},
   "outputs": [
    {
     "name": "stdout",
     "output_type": "stream",
     "text": [
      "('memo_0901_', 1188) =\n",
      "         ('[11, 13, 17, 19, 26, 42)]', '128', '01', '*21')\n",
      "         ('[ 6, 12, 15, 26, 37, 45)]', '141', '02', '*1')\n",
      "         ('[ 3, 12, 16, 32, 34, 39)]', '136', '03', '*2')\n",
      "         ('[ 3, 10, 14, 18, 36, 43)]', '124', '04', '*1')\n",
      "         ('[ 8, 14, 18, 25, 35, 40)]', '140', '05', '*2')\n",
      "         ('[ 2,  3, 12, 20, 28, 33)]', ' 98', '06', '*22')\n",
      "         ('[ 5, 10, 12, 23, 33, 44)]', '127', '07', '*22')\n",
      "         ('[ 3, 10, 14, 18, 36, 43)]', '124', '08', '*0')\n",
      "----------------------------------------------------\n",
      "('memo_0908_', 1189) =\n",
      "         ('[ 9, 14, 22, 25, 27, 37)]', '134', '01', '*21')\n",
      "         ('[ 3,  4, 12, 19, 22, 27)]', ' 87', '02', '*0')\n",
      "         ('[ 4, 13, 14, 30, 34, 38)]', '133', '03', '*22')\n",
      "         ('[ 2,  9, 11, 14, 33, 37)]', '106', '04', '*22')\n",
      "         ('[ 2, 11, 16, 20, 28, 33)]', '110', '05', '*22')\n",
      "         ('[ 3, 11, 18, 31, 34, 41)]', '138', '06', '*2')\n",
      "         ('[ 7,  9, 23, 35, 39, 42)]', '155', '07', '*22')\n",
      "         ('[ 5, 10, 12, 23, 33, 44)]', '127', '08', '*3')\n",
      "         ('[ 8, 14, 18, 25, 35, 40)]', '140', '09', '*3')\n",
      "         ('[ 2,  3, 12, 20, 28, 33)]', ' 98', '10', '*3')\n",
      "         ('[15, 18, 24, 27, 29, 33)]', '146', '11', '*22')\n",
      "----------------------------------------------------\n",
      "('memo_0915_', 1190) =\n",
      "         ('[ 9, 14, 22, 24, 27, 37)]', '133', '01', '*0')\n",
      "         ('[ 7,  9, 14, 20, 39, 40)]', '129', '02', '*0')\n",
      "         ('[11, 16, 21, 28, 37, 41)]', '154', '03', '*0')\n",
      "         ('[ 9, 14, 22, 24, 27, 37)]', '133', '04', '*0')\n",
      "----------------------------------------------------\n",
      "('memo_0926_', 1191) =\n",
      "         ('[ 9, 14, 22, 24, 27, 37)]', '133', '01', '*0')\n",
      "         ('[ 7,  9, 14, 20, 39, 40)]', '129', '02', '*0')\n",
      "         ('[11, 16, 21, 28, 37, 41)]', '154', '03', '*0')\n",
      "         ('[ 9, 14, 22, 24, 27, 37)]', '133', '04', '*0')\n",
      "         ('[ 5, 16, 21, 28, 37, 41)]', '148', '05', '*0')\n",
      "----------------------------------------------------\n",
      "1188 |  3, 4,12,19,22,27 | 87\n",
      "1189 |  9,19,29,35,37,38 | 167\n",
      "1190 |  7, 9,19,23,26,45 | 129\n",
      "1191 |  7, 9,19,23,26,45 | 129\n",
      "\n",
      "\n"
     ]
    }
   ],
   "source": [
    "version_prefixes=[(\"memo_0901_\", 1188), (\"memo_0908_\", 1189), (\"memo_0915_\", 1190), (\"memo_0926_\", 1191), ]\n",
    "predict_dict = {}\n",
    "for version_prefix in version_prefixes:\n",
    "    predict_lines = get_predicted_strs(version_prefix)\n",
    "    predict_dict[version_prefix] = predict_lines\n",
    "\n",
    "for k, vs in predict_dict.items():\n",
    "    print(k, '=')\n",
    "    for v in vs:\n",
    "        print(' '*8, v)\n",
    "        \n",
    "    print('-'*52)\n",
    "\n",
    "round_vps = []\n",
    "for vp in version_prefixes:\n",
    "    round_vps.append(str(vp[1]))\n",
    "\n",
    "print_results_by_round(round_vps)"
   ]
  },
  {
   "cell_type": "code",
   "execution_count": 11,
   "id": "85b5bb43-ae85-41b8-8e10-85240cac52ec",
   "metadata": {},
   "outputs": [
    {
     "name": "stdout",
     "output_type": "stream",
     "text": [
      "insert into results_order(round, n1, n2, n3, n4, n5, n6, bonus) values(1189, 37, 29, 19, 9, 38, 35, 31);\n",
      "insert into results_order(round, n1, n2, n3, n4, n5, n6, bonus) values(1189, 37, 29, 19, 9, 38, 35, 31);\n"
     ]
    }
   ],
   "source": [
    "\"\"\"\n",
    "9,19,29,35,37,38 31\n",
    "\n",
    "37 29 19 9 38 35  31\n",
    "\"\"\"\n",
    "query = \"insert into results_order(round, n1, n2, n3, n4, n5, n6, bonus) values(1189, 37, 29, 19, 9, 38, 35, 31);\"\n",
    "print(f'{query}')\n",
    "!echo \"{query}\"\n",
    "!echo \"{query}\" > sqlite3 ../db/metrics.db"
   ]
  },
  {
   "cell_type": "code",
   "execution_count": 77,
   "id": "1c4dd1aa-b821-4e5b-b9fb-9ed14f0b5c89",
   "metadata": {},
   "outputs": [
    {
     "name": "stdout",
     "output_type": "stream",
     "text": [
      "('memo_0811_', 1185) [(2, 1), (11, 1), (34, 1), (27, 1), (43, 1), (13, 1), (24, 1), (17, 1), (26, 1), (41, 1), (7, 1), (18, 1), (33, 1), (42, 1), (15, 1), (38, 1), (45, 1), (29, 2), (12, 2), (32, 2), (30, 2), (37, 2), (25, 2), (1, 2), (10, 2), (9, 3), (28, 3), (3, 3), (6, 3), (16, 3), (36, 3), (14, 3)]\n",
      "('memo_0818_', 1186) [(2, 1), (4, 1), (17, 1), (25, 1), (40, 1), (1, 1), (9, 1), (23, 1), (13, 1), (21, 1), (26, 1), (38, 1), (42, 1), (5, 1), (15, 1), (22, 1), (39, 1), (3, 1), (10, 2), (16, 2), (18, 2), (28, 2), (30, 2), (11, 2), (14, 2), (37, 2), (7, 2), (33, 3), (27, 3)]\n",
      "('memo_0825_', 1187) [(10, 1), (16, 1), (30, 1), (25, 1), (39, 1), (45, 1), (3, 1), (12, 1), (41, 1), (42, 1), (44, 1), (5, 1), (20, 1), (6, 1), (2, 1), (33, 2), (32, 2), (38, 2), (9, 2), (13, 2), (18, 3), (28, 3), (31, 3), (19, 3), (1, 3), (8, 3), (27, 3), (37, 4), (11, 4)]\n",
      "('memo_0901_', 1188) [(11, 1), (13, 1), (17, 1), (19, 1), (42, 1), (6, 1), (15, 1), (37, 1), (45, 1), (16, 1), (32, 1), (34, 1), (39, 1), (8, 1), (25, 1), (35, 1), (40, 1), (2, 1), (20, 1), (28, 1), (5, 1), (23, 1), (44, 1), (26, 2), (36, 2), (43, 2), (33, 2), (10, 3), (14, 3), (18, 3), (12, 4), (3, 4)]\n",
      "('memo_0908_', 1189) [(37, 1), (6, 1), (17, 1), (4, 1), (19, 1), (1, 1), (16, 1), (38, 1), (41, 1), (7, 1), (39, 1), (42, 1), (23, 1), (44, 1), (8, 1), (40, 1), (22, 2), (25, 2), (27, 2), (2, 2), (20, 2), (28, 2), (33, 2), (5, 2), (10, 2), (30, 2), (32, 2), (36, 2), (18, 2), (31, 2), (35, 2), (9, 3), (14, 3), (34, 3), (11, 3), (3, 4), (12, 4)]\n"
     ]
    }
   ],
   "source": [
    "version_prefixes=[(\"memo_0811_\", 1185), (\"memo_0818_\", 1186), (\"memo_0825_\", 1187), (\"memo_0901_\", 1188), (\"memo_0908_\", 1189)]\n",
    "for version_prefix in version_prefixes:\n",
    "    predicts = get_predicted_list(version_prefix[0])\n",
    "    freq_dicts = {}\n",
    "    for predict in predicts:\n",
    "        for num in predict[2]:\n",
    "            if num in freq_dicts:\n",
    "                freq_dicts[num] += 1\n",
    "            else:\n",
    "                freq_dicts[num] = 1\n",
    "    sotred_freq = sorted(freq_dicts.items(), key=lambda item: item[1])\n",
    "    print(version_prefix, sotred_freq)"
   ]
  },
  {
   "cell_type": "code",
   "execution_count": 55,
   "id": "7eecb8e5-14c6-4184-8644-d300ffafece6",
   "metadata": {},
   "outputs": [
    {
     "name": "stdout",
     "output_type": "stream",
     "text": [
      "current working date :  2025-09-10 11:25:01.061945\n"
     ]
    }
   ],
   "source": [
    "print('current working date : ', datetime.now())"
   ]
  },
  {
   "cell_type": "code",
   "execution_count": 56,
   "id": "63b2316d-1a97-4cc1-9b2e-a90f33062bcc",
   "metadata": {},
   "outputs": [
    {
     "data": {
      "text/plain": [
       "\" \\n3 4 12 19 22 27. 보너스. 9. \\n\\nupdate results set metric='3,4,12,19,22,27', bonus=9 where round=1188;\\ninsert into results(round, metric, bonus) values( 1188, '3,4,12,19,22,27', 9);\\n38, 29, 10, 22, 31, 7, 15\\nn1=3, n2=19, n3=12, n4=22, n5=4, n6=27, bonus=9\\n\""
      ]
     },
     "execution_count": 56,
     "metadata": {},
     "output_type": "execute_result"
    }
   ],
   "source": [
    "\"\"\" \n",
    "\n",
    "1190회 당첨번호 7,9,19,23,26,45+33\n",
    "23 26 7 19 9 45  33\n",
    "\n",
    "insert into results_order(round, n1, n2, n3, n4, n5, n6, bonus) values(1190, 23, 26, 7, 19, 9, 45, 33); \n",
    "\n",
    "table|results_order|results_order|15|CREATE TABLE results_order(id INTEGER PRIMARY KEY AUTOINCREMENT, round short, n1 short, n2 short, n3 short, n4 short, n5 short, n6 short, bonus short)\n",
    "\n",
    "\n",
    "update results set metric='3,4,12,19,22,27', bonus=9 where round=1188;\n",
    "insert into results(round, metric, bonus) values( 1188, '3,4,12,19,22,27', 9);\n",
    "38, 29, 10, 22, 31, 7, 15\n",
    "n1=3, n2=19, n3=12, n4=22, n5=4, n6=27, bonus=9\n",
    "\"\"\""
   ]
  },
  {
   "cell_type": "code",
   "execution_count": null,
   "id": "655a0752-172d-4e75-a0ed-d9e145d2eacf",
   "metadata": {},
   "outputs": [],
   "source": [
    "\n"
   ]
  },
  {
   "cell_type": "code",
   "execution_count": null,
   "id": "c4138f58-2c3e-4eae-851a-a6309c53d626",
   "metadata": {},
   "outputs": [],
   "source": [
    "## original\n",
    "('[ 3,  4, 12, 19, 22, 27)]', ' 87', '02', '*0')\n",
    "\n",
    "('[ 1,  9, 28, 30, 32, 36)]', '136', '03', '*2')\n",
    "('[ 2, 11, 16, 20, 34, 38)]', '121', '05', '*2')\n",
    "('[ 2,  3, 12, 20, 28, 33)]', ' 98', '10', '*3')\n",
    "\n",
    "#----\n",
    "('[ 3,  4, 12, 19, 22, 27)]', ' 87', '02', '*0')\n",
    "#----\n",
    "\n",
    "('[ 3,  9, 11, 14, 32, 36)]', '105', '04', '*2')\n",
    "('[ 3, 11, 18, 31, 34, 41)]', '138', '06', '*2')\n",
    "\n",
    "('[ 5, 10, 12, 23, 33, 44)]', '127', '08', '*3')\n",
    "\n",
    "('[ 7, 12, 31, 35, 39, 42)]', '166', '07', '*2')\n",
    "('[ 8, 14, 18, 25, 35, 40)]', '140', '09', '*3')\n",
    "('[ 9, 14, 22, 25, 27, 37)]', '134', '01', '*1')\n"
   ]
  }
 ],
 "metadata": {
  "kernelspec": {
   "display_name": "Python 3 (ipykernel)",
   "language": "python",
   "name": "python3"
  },
  "language_info": {
   "codemirror_mode": {
    "name": "ipython",
    "version": 3
   },
   "file_extension": ".py",
   "mimetype": "text/x-python",
   "name": "python",
   "nbconvert_exporter": "python",
   "pygments_lexer": "ipython3",
   "version": "3.12.10"
  }
 },
 "nbformat": 4,
 "nbformat_minor": 5
}
