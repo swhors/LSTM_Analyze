{
 "cells": [
  {
   "cell_type": "code",
   "execution_count": 15,
   "id": "08b27c02-3545-4753-8e6b-ad6808735b12",
   "metadata": {},
   "outputs": [],
   "source": [
    "results = {}"
   ]
  },
  {
   "cell_type": "code",
   "execution_count": 42,
   "id": "39120f9a-9ef8-4228-a0b9-2ed0f30bc48b",
   "metadata": {},
   "outputs": [
    {
     "name": "stderr",
     "output_type": "stream",
     "text": [
      "시퀀스 데이터 생성 중: 100%|██████████| 563/563 [00:00<00:00, 679146.72it/s]\n",
      "/home/swhors/jupyter-workspace/finance/venv/lib/python3.11/site-packages/keras/src/layers/rnn/rnn.py:200: UserWarning: Do not pass an `input_shape`/`input_dim` argument to a layer. When using Sequential models, prefer using an `Input(shape)` object as the first layer in the model instead.\n",
      "  super().__init__(**kwargs)\n"
     ]
    },
    {
     "name": "stdout",
     "output_type": "stream",
     "text": [
      "\n",
      "LSTM 모델 학습을 시작합니다...\n",
      "\\1174회 예측을 시작합니다...\n",
      "\u001b[1m1/1\u001b[0m \u001b[32m━━━━━━━━━━━━━━━━━━━━\u001b[0m\u001b[37m\u001b[0m \u001b[1m0s\u001b[0m 372ms/step\n",
      "\n",
      "--- 최종 예측 결과 ---\n",
      "LSTM 모델 기반 1174회 예측 번호: [6, 12, 19, 21, 38, 45] 64, \n"
     ]
    },
    {
     "name": "stderr",
     "output_type": "stream",
     "text": [
      "시퀀스 데이터 생성 중: 100%|██████████| 564/564 [00:00<00:00, 838860.80it/s]"
     ]
    },
    {
     "name": "stdout",
     "output_type": "stream",
     "text": [
      "\n",
      "LSTM 모델 학습을 시작합니다...\n"
     ]
    },
    {
     "name": "stderr",
     "output_type": "stream",
     "text": [
      "\n",
      "/home/swhors/jupyter-workspace/finance/venv/lib/python3.11/site-packages/keras/src/layers/rnn/rnn.py:200: UserWarning: Do not pass an `input_shape`/`input_dim` argument to a layer. When using Sequential models, prefer using an `Input(shape)` object as the first layer in the model instead.\n",
      "  super().__init__(**kwargs)\n"
     ]
    },
    {
     "name": "stdout",
     "output_type": "stream",
     "text": [
      "\\1175회 예측을 시작합니다...\n",
      "\u001b[1m1/1\u001b[0m \u001b[32m━━━━━━━━━━━━━━━━━━━━\u001b[0m\u001b[37m\u001b[0m \u001b[1m0s\u001b[0m 369ms/step\n",
      "\n",
      "--- 최종 예측 결과 ---\n",
      "LSTM 모델 기반 1175회 예측 번호: [6, 12, 18, 21, 33, 45] 64, \n"
     ]
    },
    {
     "name": "stderr",
     "output_type": "stream",
     "text": [
      "시퀀스 데이터 생성 중: 100%|██████████| 565/565 [00:00<00:00, 826860.35it/s]"
     ]
    },
    {
     "name": "stdout",
     "output_type": "stream",
     "text": [
      "\n",
      "LSTM 모델 학습을 시작합니다...\n"
     ]
    },
    {
     "name": "stderr",
     "output_type": "stream",
     "text": [
      "\n",
      "/home/swhors/jupyter-workspace/finance/venv/lib/python3.11/site-packages/keras/src/layers/rnn/rnn.py:200: UserWarning: Do not pass an `input_shape`/`input_dim` argument to a layer. When using Sequential models, prefer using an `Input(shape)` object as the first layer in the model instead.\n",
      "  super().__init__(**kwargs)\n"
     ]
    },
    {
     "name": "stdout",
     "output_type": "stream",
     "text": [
      "\\1176회 예측을 시작합니다...\n",
      "\u001b[1m1/1\u001b[0m \u001b[32m━━━━━━━━━━━━━━━━━━━━\u001b[0m\u001b[37m\u001b[0m \u001b[1m0s\u001b[0m 371ms/step\n",
      "\n",
      "--- 최종 예측 결과 ---\n",
      "LSTM 모델 기반 1176회 예측 번호: [6, 12, 13, 33, 38, 45] 64, \n"
     ]
    }
   ],
   "source": [
    "import pandas as pd\n",
    "import numpy as np\n",
    "import requests\n",
    "import io\n",
    "from tqdm import tqdm\n",
    "\n",
    "# 딥러닝 라이브러리 TensorFlow/Keras\n",
    "from tensorflow.keras.models import Sequential\n",
    "from tensorflow.keras.layers import LSTM, Dense, Dropout\n",
    "from sklearn.preprocessing import MultiLabelBinarizer\n",
    "\n",
    "# 시퀀스 길이 (과거 몇 회차의 데이터를 보고 다음을 예측할 것인가)\n",
    "SEQUENCE_LENGTH = 10\n",
    "\n",
    "\n",
    "def get_lotto_history(round, file_path, real_data, verbose=0, row_begin=0, row_end=30):\n",
    "    try:\n",
    "        # 인덱스를 지정해 시트 설정\n",
    "        df = pd.read_excel(file_path, engine='openpyxl')\n",
    "        # 필요한 컬럼 선택 및 이름 변경\n",
    "        # lotto_df = df.iloc[row_begin:row_end, [0] + list(range(0, 7))]\n",
    "        lotto_df = df[df.columns[1:7]]\n",
    "        lotto_df.columns = ['1', '2', '3', '4', '5', '6']\n",
    "        if verbose > 0:\n",
    "            print(f\"최신 데이터 로드 완료. [{round}]\")\n",
    "        return lotto_df.values.tolist()\n",
    "    except requests.exceptions.RequestException as e:\n",
    "        print(f\"데이터를 가져오는 데 실패했습니다: {e}\")\n",
    "        return None\n",
    "\n",
    "\n",
    "def create_sequences(data, seq_length):\n",
    "    \"\"\"\n",
    "    데이터를 LSTM 학습에 맞는 시퀀스 형태로 변환합니다.\n",
    "    \"\"\"\n",
    "    xs = []\n",
    "    ys = []\n",
    "    # Multi-hot 인코딩을 위해 1~45번까지의 클래스를 명시적으로 지정\n",
    "    mlb = MultiLabelBinarizer(classes=list(range(1, 46)))\n",
    "    \n",
    "    # 전체 데이터를 Multi-hot 벡터로 변환\n",
    "    encoded_data = mlb.fit_transform(data)\n",
    "    \n",
    "    for i in tqdm(range(len(encoded_data) - seq_length), desc=\"시퀀스 데이터 생성 중\"):\n",
    "        # 입력 시퀀스 (X): i부터 i+seq_length-1 까지\n",
    "        xs.append(encoded_data[i:(i + seq_length)])\n",
    "        # 타겟 (y): i+seq_length\n",
    "        ys.append(encoded_data[i + seq_length])\n",
    "        \n",
    "    return np.array(xs), np.array(ys), mlb\n",
    "\n",
    "\n",
    "def build_lstm_model(seq_length, num_features, neural_num=128, verbose=0, activation='sigmoid'):\n",
    "    \"\"\"\n",
    "    LSTM 모델을 생성합니다.\n",
    "    \"\"\"\n",
    "    model = Sequential()\n",
    "    # 입력층: LSTM 레이어, input_shape=(시퀀스 길이, 피처 개수)\n",
    "    model.add(LSTM(neural_num, return_sequences=True, activation=activation, input_shape=(seq_length, num_features)))\n",
    "    model.add(LSTM(neural_num, return_sequences=True, activation=activation))\n",
    "    # model.add(LSTM(neural_num, return_sequences=True, activation=activation))\n",
    "    # model.add(LSTM(neural_num, return_sequences=True, activation=activation))\n",
    "    # model.add(LSTM(neural_num, return_sequences=True, activation=activation))\n",
    "    # model.add(LSTM(neural_num, return_sequences=True, activation=activation))\n",
    "    # model.add(LSTM(neural_num, return_sequences=True, activation=activation))\n",
    "    # model.add(LSTM(neural_num, return_sequences=True, activation=activation))\n",
    "    # model.add(LSTM(neural_num, return_sequences=True, activation=activation))\n",
    "    # model.add(LSTM(neural_num, return_sequences=True, activation=activation))\n",
    "    # model.add(LSTM(neural_num, return_sequences=True, activation=activation))\n",
    "    # model.add(LSTM(neural_num, return_sequences=True, activation=activation))\n",
    "    # model.add(LSTM(neural_num, return_sequences=True, activation=activation))\n",
    "    # model.add(LSTM(neural_num, return_sequences=True, activation=activation))\n",
    "    # model.add(LSTM(neural_num, return_sequences=True, activation=activation))\n",
    "    model.add(Dropout(0.2))\n",
    "    # 중간층: LSTM 레이어\n",
    "    model.add(LSTM(128, return_sequences=False))\n",
    "    model.add(Dropout(0.2))\n",
    "    # 출력층으로 가기 전 Dense 레이어\n",
    "    model.add(Dense(64, activation='relu'))\n",
    "    # 출력층: 45개의 로또 번호에 대한 확률을 출력 (sigmoid는 다중 라벨 분류에 사용)\n",
    "    model.add(Dense(num_features, activation='sigmoid'))\n",
    "    \n",
    "    # 모델 컴파일\n",
    "    # binary_crossentropy는 각 번호가 나올지/안나올지를 독립적으로 판단하는 다중 라벨 문제에 적합\n",
    "    model.compile(optimizer='adam', loss='binary_crossentropy', metrics=['accuracy'])\n",
    "    if verbose > 0:\n",
    "        model.summary()\n",
    "    return model\n",
    "\n",
    "\n",
    "file_names = [\n",
    "    (1174, 'xlsx/1173.xlsx', [8, 11, 14, 17, 36, 39]),\n",
    "    (1175, 'xlsx/1174.xlsx', [3, 4, 6, 8, 32, 42]),\n",
    "    (1176, 'xlsx/1175.xlsx', [0, 0, 0, 0, 0, 0])\n",
    "    ]\n",
    "\n",
    "\n",
    "for file_name in file_names:\n",
    "    # --- 코드 실행 ---\n",
    "    # 1. 역대 당첨 번호 데이터 가져오기\n",
    "    lotto_history = get_lotto_history(*file_name, row_end=10)\n",
    "    if lotto_history is not None:\n",
    "        neural_num = 64\n",
    "        # 2. 데이터 전처리 및 시퀀스 생성\n",
    "        X, y, mlb = create_sequences(lotto_history, SEQUENCE_LENGTH)\n",
    "    \n",
    "        # 3. LSTM 모델 빌드\n",
    "        # num_features는 로또 번호의 개수(45)\n",
    "        model = build_lstm_model(SEQUENCE_LENGTH, X.shape[2], neural_num=neural_num)\n",
    "    \n",
    "        # 4. 모델 학습 (데이터가 많아 시간이 소요될 수 있습니다)\n",
    "        print(\"\\nLSTM 모델 학습을 시작합니다...\")\n",
    "        model.fit(X, y, epochs=20, batch_size=32, validation_split=0.1, verbose=0)\n",
    "    \n",
    "        # 5. 1176회 예측\n",
    "        print(f\"\\{file_name[0]}회 예측을 시작합니다...\")\n",
    "    \n",
    "        # 예측을 위해 가장 마지막 시퀀스를 입력으로 사용\n",
    "        last_sequence_raw = lotto_history[-SEQUENCE_LENGTH:]\n",
    "        last_sequence_encoded = mlb.transform(last_sequence_raw)\n",
    "    \n",
    "        # Keras 모델은 배치 입력을 기대하므로 차원을 추가 (samples, timesteps, features)\n",
    "        input_for_prediction = np.expand_dims(last_sequence_encoded, axis=0)\n",
    "    \n",
    "        # 예측 실행 (결과는 각 번호가 나올 확률)\n",
    "        predicted_probabilities = model.predict(input_for_prediction)[0]\n",
    "    \n",
    "        # 확률이 높은 순으로 6개 번호의 인덱스를 추출\n",
    "        # argsort는 값을 정렬했을 때의 원래 인덱스를 반환\n",
    "        top_6_indices = np.argsort(predicted_probabilities)[-6:]\n",
    "    \n",
    "        # 인덱스는 0부터 시작하므로 1을 더해 실제 로또 번호로 변환\n",
    "        predicted_numbers = sorted([int(i + 1) for i in top_6_indices])\n",
    "        if file_name[0] not in results:\n",
    "            results[file_name[0]] = [predicted_numbers]\n",
    "        else:\n",
    "            results[file_name[0]].append(predicted_numbers)\n",
    "    \n",
    "        print(\"\\n--- 최종 예측 결과 ---\")\n",
    "        print(f\"LSTM 모델 기반 {file_name[0]}회 예측 번호: {predicted_numbers} {neural_num}, \")"
   ]
  },
  {
   "cell_type": "code",
   "execution_count": 41,
   "id": "dfbf28d6-7591-4145-acd8-6d1d452f5c5e",
   "metadata": {},
   "outputs": [
    {
     "name": "stdout",
     "output_type": "stream",
     "text": [
      "라운드 1174\n",
      "[12, 18, 21, 30, 33, 45]\n",
      "[12, 18, 21, 33, 34, 38]\n",
      "[12, 15, 18, 21, 33, 34]\n",
      "[6, 7, 33, 34, 38, 45]\n",
      "[12, 13, 15, 33, 34, 45]\n",
      "[11, 12, 21, 33, 38, 45]\n",
      "[12, 18, 21, 33, 34, 38]\n",
      "[12, 18, 33, 34, 38, 45]\n",
      "[12, 21, 28, 33, 38, 45]\n",
      "[12, 15, 18, 33, 34, 38]\n",
      "[12, 15, 33, 34, 38, 45]\n",
      "라운드 1175\n",
      "[6, 12, 21, 33, 34, 38]\n",
      "[11, 12, 21, 33, 38, 45]\n",
      "[12, 19, 21, 33, 38, 45]\n",
      "[7, 11, 12, 18, 33, 34]\n",
      "[12, 18, 21, 33, 38, 45]\n",
      "[6, 11, 12, 33, 34, 45]\n",
      "[12, 19, 21, 33, 38, 45]\n",
      "[3, 12, 18, 21, 33, 38]\n",
      "[12, 15, 18, 33, 38, 45]\n",
      "[3, 12, 13, 21, 33, 38]\n",
      "[12, 18, 21, 33, 34, 38]\n",
      "라운드 1176\n",
      "[3, 6, 12, 21, 33, 38]\n",
      "[6, 12, 15, 21, 33, 38]\n",
      "[7, 11, 12, 21, 38, 45]\n",
      "[12, 13, 33, 34, 38, 45]\n",
      "[6, 12, 33, 34, 38, 45]\n",
      "[12, 18, 21, 33, 38, 45]\n",
      "[12, 13, 33, 34, 38, 45]\n",
      "[12, 19, 21, 33, 34, 45]\n",
      "[12, 13, 15, 21, 33, 45]\n",
      "[12, 21, 33, 34, 38, 45]\n",
      "[12, 18, 21, 34, 38, 45]\n"
     ]
    }
   ],
   "source": [
    "for result in results:\n",
    "    print(\"라운드\", result)\n",
    "    for metric in results[result]:\n",
    "        print(metric)"
   ]
  },
  {
   "cell_type": "code",
   "execution_count": 7,
   "id": "e1ace55a-7dab-46c1-8159-449059c56203",
   "metadata": {},
   "outputs": [],
   "source": [
    "\n",
    "actual_numbers = [\n",
    "    [1175, 3, 4, 6, 8, 32, 42],\n",
    "    [1174, 8, 11, 14, 17, 36, 39],\n",
    "    [1173, 1, 5, 18, 20, 30, 35],\n",
    "    [1172, 7, 9, 24, 40, 42, 44],\n",
    "    [1171, 3, 6, 7, 11, 12, 17],\n",
    "    [1170, 3, 13, 28, 34, 38, 42],\n",
    "    [1169, 5, 12, 24, 26, 39, 42],\n",
    "    [1168, 9, 21, 24, 30, 33, 37],\n",
    "    [1167, 8, 23, 31, 35, 39, 40],\n",
    "]"
   ]
  },
  {
   "cell_type": "code",
   "execution_count": null,
   "id": "7ea48970-cf21-4deb-9c37-fab262a90c53",
   "metadata": {},
   "outputs": [],
   "source": []
  }
 ],
 "metadata": {
  "kernelspec": {
   "display_name": "finance",
   "language": "python",
   "name": "finance"
  },
  "language_info": {
   "codemirror_mode": {
    "name": "ipython",
    "version": 3
   },
   "file_extension": ".py",
   "mimetype": "text/x-python",
   "name": "python",
   "nbconvert_exporter": "python",
   "pygments_lexer": "ipython3",
   "version": "3.11.2"
  }
 },
 "nbformat": 4,
 "nbformat_minor": 5
}
