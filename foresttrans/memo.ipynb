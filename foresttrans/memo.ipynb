{
 "cells": [
  {
   "cell_type": "code",
   "execution_count": 55,
   "id": "4b5e9a08-b772-4973-a42f-ef8270f13586",
   "metadata": {},
   "outputs": [
    {
     "name": "stdout",
     "output_type": "stream",
     "text": [
      "current 2025-06-25 23:41:56.377707\n"
     ]
    }
   ],
   "source": [
    "from datetime import datetime\n",
    "\n",
    "print('current', datetime.now())"
   ]
  },
  {
   "cell_type": "code",
   "execution_count": 10,
   "id": "6cb30e0b-b4c4-4d35-8c5e-9edebc8cad72",
   "metadata": {},
   "outputs": [],
   "source": [
    "data1 = (119179, [3,0,1,2,1,0,2,1,2,2,1,1,1,1,1,1,0,1,0,2,0,2,3,1,2,0,1,1,1,0,2,0,2,1,1,1,1,0,0,1,0,1,2,0,1,1,0,1,0,1,0,1,0,1,1,1,1,2,1,1,1,0,2,1,1,2,0,1,3,1,0,0,1,1,1,2,1,0,1,1,2,0,1,1,2,1,1,1,2,0,0,1,0,1,0,0,1,0,1,1,0,0,0,0,2,1,2,1,2,2,0,1,0,0,2,1,0,1,1,0,0,2,1,1,0,0,2,2,1,1,2,1,3,0,1,0,1,0,1,1,1,1,0,0,1,2,0,1,1,2,1,1,1,1,1,1,2,0,0,0,2,1,2,0,2,1,1,0,0,0,2,1,1,1,2,0,1,0,0,0,1,1,1,1,1,0,1,1,1,0,3,1,0,1,1,1,1,2,1,0,0,0,2,0,1,0,0,1,0,1,1,0,0,1,0,1,0,1,1,1,0,1,1,0,0,1,2,2,0,1,3,0,1,1,1,1,1,0,2,2,1,1,1,0,2,1,0,0,1,1,0,1,0,0,0,1,1,0,0,0,0,0,0,2,2,0,1,0,1,0,2,0,1,0,0,1,1,1,0,1,2,2,0,2,0,0,1,0,1,2,0,1,0,0,1,0,1,0,0,0,0,0,1,0,1,0,1,1,0,1,1,0,1,0,1,1,1,0,1,1,2,2,2,1,1,1,1,1,1,1,0,1,2,1,0,0,1,0,0,0,0,1,1,2,0,1,1,2,2,1,0,1,0,1,2,1,1,1,1,1,1,2,1,0,2,1,0,1,0,1,2,1,1,1,1,1,0,0,1,1,0,0,1,2,1,0,0,2,0,2,1,1,1,1,0,1,2,0,1,0,1,0,1,1,0,0,1,0,1,1,2,1,0,1,1,1,2,0,1,0,0,1,1,0,1,1,2,0,0,1,1,1,0,1,1,2,0,1,0,0,0,2,2,0,0,1,1,1,1,0,2,0,1,1,0,2,2,1,1,2,1,1,1,0,0,0,1,2,1,2,1,1,0,1,0,1,2])"
   ]
  },
  {
   "cell_type": "code",
   "execution_count": 11,
   "id": "9e2e945e-6c36-4d6c-9ecd-4dfc83b9df54",
   "metadata": {},
   "outputs": [],
   "source": [
    "data2 = (114116, [3,2,1,1,1,0,1,1,1,1,1,0,0,3,0,2,1,1,0,1,1,1,2,0,0,1,1,0,0,1,1,1,0,1,1,2,2,0,2,1,0,1,1,0,1,2,0,0,1,1,2,0,1,0,0,1,1,1,1,1,0,1,0,1,2,2,2,1,1,1,1,0,0,2,1,3,1,2,0,0,1,0,0,1,2,0,2,2,0,1,0,2,1,2,3,0,1,2,1,2,1,2,0,1,1,0,0,1,1,0,2,2,0,0,1,1,0,2,1,0,1,1,0,1,0,0,0,1,0,0,1,0,1,0,0,1,2,3,2,0,2,1,0,0,0,1,0,1,1,1,1,1,1,1,3,0,0,1,1,1,2,1,1,1,1,1,0,1,0,1,0,2,2,2,0,1,1,3,0,1,1,1,1,0,1,3,1,1,0,0,2,0,1,1,0,0,1,1,1,1,0,1,1,0,0,0,0,1,1,0,2,2,0,1,2,0,0,0,1,0,1,2,0,1,1,1,0,0,1,0,0,0,1,0,0,1,0,0,0,0,1,1,0,0,1,0,0,1,1,0,0,0,2,0,1,1,2,1,1,0,1,0,2,0,0,1,1,0,1,0,2,0,1,0,0,0,0,0,1,1,0,0,2,1,0,0,1,0,2,1,0,1,0,1,1,0,1,0,1,1,3,1,1,0,0,1,2,1,1,0,1,1,1,0,0,1,3,2,1,2,2,1,1,2,2,1,1,0,0,0,1,1,1,1,2,2,0,1,0,0,1,0,1,2,0,0,0,3,1,1,2,2,0,2,3,1,1,3,0,1,1,1,2,2,0,0,1,0,1,0,1,1,1,3,2,1,1,1,0,0,1,0,0,1,0,1,1,0,1,0,2,0,0,2,0,1,0,1,0,2,1,1,2,1,0,2,1,1,0,2,2,1,0,0,1,0,2,1,2,1,0,1,2,1,1,1,1,1,2,0,1,0,0,0,2,1,0,0,0,0,1,1,1,1,0,3,1,0,1,2,0,0,1,1,1,2,1,0,1,2,1,0,2,0,0,0,2,1,1,0,0,3,0,1,1,1,0])"
   ]
  },
  {
   "cell_type": "code",
   "execution_count": 12,
   "id": "d1e764a4-012f-4f00-bf76-f6fc1fa7b593",
   "metadata": {},
   "outputs": [],
   "source": [
    "data3 = (114287, [3,0,1,0,2,0,1,0,1,0,0,2,0,1,1,1,1,0,0,1,0,2,2,0,0,0,0,0,0,1,0,1,0,1,1,1,2,0,2,0,0,1,0,0,3,2,1,1,0,2,0,3,0,2,1,2,0,1,0,1,0,3,1,1,0,2,0,2,0,0,1,0,0,1,1,1,0,1,1,1,1,2,0,1,0,0,2,0,1,2,1,2,0,1,0,1,0,1,1,1,0,1,0,1,2,1,1,1,0,0,2,0,0,1,1,2,1,0,0,0,1,1,2,1,0,1,1,1,2,0,0,1,2,0,0,0,1,2,0,0,1,1,0,0,1,0,1,0,0,3,1,1,1,0,1,1,0,1,0,0,1,1,0,1,0,0,0,0,2,1,0,1,1,2,1,1,0,0,0,1,1,2,0,2,1,1,1,1,1,1,0,0,1,0,2,0,2,1,1,1,0,1,2,0,2,0,1,0,1,1,0,1,0,1,1,1,1,1,2,1,1,0,1,0,0,1,0,1,1,0,3,1,0,2,0,1,0,0,2,0,1,0,1,1,1,1,0,0,1,1,2,2,0,0,1,0,0,1,1,1,1,0,0,0,1,1,1,0,1,0,1,0,0,1,0,1,1,1,1,1,1,1,1,1,1,1,0,0,1,2,1,0,0,0,1,0,1,0,1,1,2,0,1,2,1,0,0,2,0,0,1,2,0,0,0,1,1,0,1,1,0,0,0,1,0,2,2,0,1,1,1,0,0,2,3,0,0,1,0,1,1,1,0,1,0,3,0,2,0,1,0,1,2,0,1,1,0,1,1,1,1,2,1,0,0,1,1,0,3,1,3,0,0,2,0,0,2,0,0,1,0,0,0,0,2,0,1,0,1,0,1,2,1,2,1,0,2,0,0,0,0,0,0,2,0,0,1,1,1,1,1,2,0,1,0,0,0,1,1,0,0,1,1,1,1,1,0,0,0,1,2,0,0,0,1,1,1,0,1,1,2,0,2,0,2,1,0,0,0,0,1,0,1,0,0,0,0,1,0,2,0,0,0,2,0,1,0,1,0,1,0,1,2,2,1,0,0])"
   ]
  },
  {
   "cell_type": "code",
   "execution_count": 56,
   "id": "ef407a07-c9a7-42d0-aa95-40cd69870c71",
   "metadata": {},
   "outputs": [],
   "source": [
    "datas = [data2, data1, data3]"
   ]
  },
  {
   "cell_type": "code",
   "execution_count": 56,
   "id": "3340ad21-c49d-41eb-a309-2dd6458f83b4",
   "metadata": {},
   "outputs": [
    {
     "name": "stdout",
     "output_type": "stream",
     "text": [
      "current 2025-06-25 23:42:00.057886\n"
     ]
    }
   ],
   "source": [
    "def get_median_v2(input_num):\n",
    "\tinput_num = sorted(input_num) #주어진 리스트 정렬하기\n",
    "\tcenter_Index=len(input_num)//2 #center_Index 값 할당하기\n",
    "\treturn (input_num[center_Index]+input_num[-center_Index -1])/2 \n",
    "\n",
    "print('current', datetime.now())"
   ]
  },
  {
   "cell_type": "code",
   "execution_count": 133,
   "id": "697f80dc-08ab-4b75-9f88-715a7e5bbca1",
   "metadata": {},
   "outputs": [
    {
     "name": "stdout",
     "output_type": "stream",
     "text": [
      "current 2025-06-26 01:08:28.643396\n"
     ]
    }
   ],
   "source": [
    "def get_count(random_states, verbose=0):\n",
    "    \"\"\" get_count \"\"\"\n",
    "    datas = []\n",
    "    for random_state in random_states:\n",
    "        t_version = random_state[1]\n",
    "        query = f'select matched_cnts from rndforest where version=\\\\\"{t_version}\\\\\" and random_state={random_state[0]}'\n",
    "        row = !echo \"{query}\"|sqlite3 ../db/metrics.db\n",
    "        if verbose > 1:\n",
    "            print(row)\n",
    "        if len(row) > 0 and row[0][0].isdigit():\n",
    "            cnts = [int(i) for i in row[0].split(',')]\n",
    "            count = 0\n",
    "            for cnt in cnts:\n",
    "                if cnt >=3:\n",
    "                    count += 1\n",
    "            datas.append([random_state[0], random_state[1], cnts, count, ])\n",
    "    return datas\n",
    "\n",
    "\n",
    "print('current', datetime.now())"
   ]
  },
  {
   "cell_type": "code",
   "execution_count": 134,
   "id": "db690581-d355-437f-b8dc-85c3276a1810",
   "metadata": {},
   "outputs": [
    {
     "name": "stdout",
     "output_type": "stream",
     "text": [
      "114116 T_01_95 16\n",
      "119179 T_01_95 6\n",
      "114287 T_01_95 10\n",
      "116702 T_01_95 18\n",
      "116725 T_01_95 16\n"
     ]
    }
   ],
   "source": [
    "## random_states안의 정보에 따라서 count를 계산, \n",
    "## datas에 추가\n",
    "\n",
    "random_states = [(114116, \"T_01_95\"), (119179, \"T_01_95\"), (114287, \"T_01_95\"), (116702, \"T_01_95\"), (116725, \"T_01_95\"),]\n",
    "datas = get_count(random_states)\n",
    "\n",
    "for data in datas:\n",
    "    print(data[0], data[1], data[3])"
   ]
  },
  {
   "cell_type": "code",
   "execution_count": 132,
   "id": "32b93f4f-28b2-4e9a-8f83-d74808c733fb",
   "metadata": {},
   "outputs": [
    {
     "name": "stdout",
     "output_type": "stream",
     "text": [
      "114116 16\n",
      "114287 10\n",
      "114905 15\n",
      "116469 11\n",
      "117668 15\n",
      "118407 15\n",
      "118991 15\n",
      "119179 6\n"
     ]
    }
   ],
   "source": [
    "### 지정된 값들의 데이터 추적\n",
    "random_states = [114116, 114287, 114905, 116469, 117668, 118407, 118991, 119179]\n",
    "t_version=\"T_01_95\"\n",
    "for random_state in random_states:\n",
    "    row = !echo 'select matched_cnts from rndforest where version=\"{t_version}\" and random_state={random_state}' | sqlite3 ../db/metrics.db\n",
    "    cnts = row[0].split(',')\n",
    "    count = 0\n",
    "    for cnt in cnts:\n",
    "        if int(cnt) >=3:\n",
    "            count += 1\n",
    "    print(random_state, count)"
   ]
  },
  {
   "cell_type": "code",
   "execution_count": 87,
   "id": "c7f64443-6cb2-4ed7-a5f5-dc9aa0352f41",
   "metadata": {},
   "outputs": [
    {
     "name": "stdout",
     "output_type": "stream",
     "text": [
      "current 2025-06-25 23:55:57.430376\n"
     ]
    }
   ],
   "source": [
    "def get_count_with_start_width(start, data_length, version, verbose=0):\n",
    "    random_states = [(i, version) for i in range(start, start+data_length)]\n",
    "    return get_count(random_states, verbose=verbose)\n",
    "\n",
    "print('current', datetime.now())"
   ]
  },
  {
   "cell_type": "code",
   "execution_count": 106,
   "id": "21295162-cfd0-4c7c-9d06-2768c7a40466",
   "metadata": {},
   "outputs": [
    {
     "name": "stdout",
     "output_type": "stream",
     "text": [
      "0 116700 T_01_13 11\n",
      "1 116704 T_01_13 12\n",
      "2 116723 T_01_13 12\n",
      "3 116725 T_01_13 11\n",
      "4 116737 T_01_13 12\n",
      "5 116740 T_01_13 13\n",
      "6 116741 T_01_13 11\n",
      "7 116743 T_01_13 11\n"
     ]
    }
   ],
   "source": [
    "### 116700애서 시작하는 범위의 데이터 추적\n",
    "t_version=\"T_01_13\"\n",
    "start=116700\n",
    "data_length=50\n",
    "\n",
    "datas = get_count_with_start_width(start=start, data_length=data_length, version=t_version, verbose=0)\n",
    "\n",
    "cnt = 0\n",
    "for data in datas:\n",
    "    if data[3] > 10:\n",
    "        print(cnt, data[0], data[1], data[3])\n",
    "        cnt += 1\n"
   ]
  },
  {
   "cell_type": "code",
   "execution_count": 120,
   "id": "b26c824e-622c-484c-b427-0fdade44834a",
   "metadata": {},
   "outputs": [
    {
     "name": "stdout",
     "output_type": "stream",
     "text": [
      "0 113739 T_01_13 17\n",
      "1 113745 T_01_13 13\n",
      "2 113762 T_01_13 14\n",
      "3 113792 T_01_13 15\n",
      "4 113795 T_01_13 14\n"
     ]
    }
   ],
   "source": [
    "### 116700애서 시작하는 범위의 데이터 추적\n",
    "t_version=\"T_01_13\"\n",
    "start=113700\n",
    "data_length=100\n",
    "\n",
    "datas = get_count_with_start_width(start=start, data_length=data_length, version=t_version, verbose=0)\n",
    "cnt = 0\n",
    "for data in datas:\n",
    "    if data[3] > 12:\n",
    "        print(cnt, data[0], data[1], data[3])\n",
    "        cnt += 1\n"
   ]
  },
  {
   "cell_type": "code",
   "execution_count": 139,
   "id": "5b031be9-8809-4298-8a9a-1ab451cd5a30",
   "metadata": {},
   "outputs": [
    {
     "name": "stdout",
     "output_type": "stream",
     "text": [
      "0 113608 T_01_13 11\n",
      "1 113620 T_01_13 12\n",
      "2 113628 T_01_13 11\n",
      "3 113636 T_01_13 11\n",
      "4 113645 T_01_13 11\n",
      "5 113646 T_01_13 13\n",
      "6 113650 T_01_13 12\n",
      "7 113654 T_01_13 11\n"
     ]
    }
   ],
   "source": [
    "### 116700애서 시작하는 범위의 데이터 추적\n",
    "t_version=\"T_01_13\"\n",
    "start=113600\n",
    "data_length=100\n",
    "\n",
    "datas = get_count_with_start_width(start=start, data_length=data_length, version=t_version, verbose=0)\n",
    "cnt = 0\n",
    "for data in datas:\n",
    "    if data[3] > 10:\n",
    "        print(cnt, data[0], data[1], data[3])\n",
    "        cnt += 1\n"
   ]
  },
  {
   "cell_type": "code",
   "execution_count": 111,
   "id": "edcd9e24-aeb2-4c40-b6b0-aff878f1ce5d",
   "metadata": {},
   "outputs": [
    {
     "name": "stdout",
     "output_type": "stream",
     "text": [
      " len = 7\n"
     ]
    },
    {
     "ename": "TypeError",
     "evalue": "'>=' not supported between instances of 'str' and 'int'",
     "output_type": "error",
     "traceback": [
      "\u001b[31m---------------------------------------------------------------------------\u001b[39m",
      "\u001b[31mTypeError\u001b[39m                                 Traceback (most recent call last)",
      "\u001b[36mCell\u001b[39m\u001b[36m \u001b[39m\u001b[32mIn[111]\u001b[39m\u001b[32m, line 10\u001b[39m\n\u001b[32m      8\u001b[39m check_pos = \u001b[32m0\u001b[39m\n\u001b[32m      9\u001b[39m \u001b[38;5;28;01mfor\u001b[39;00m i \u001b[38;5;129;01min\u001b[39;00m \u001b[38;5;28mrange\u001b[39m(\u001b[38;5;28mlen\u001b[39m(data[\u001b[32m1\u001b[39m])):\n\u001b[32m---> \u001b[39m\u001b[32m10\u001b[39m     \u001b[38;5;28;01mif\u001b[39;00m \u001b[43mdata\u001b[49m\u001b[43m[\u001b[49m\u001b[32;43m1\u001b[39;49m\u001b[43m]\u001b[49m\u001b[43m[\u001b[49m\u001b[43mi\u001b[49m\u001b[43m]\u001b[49m\u001b[43m \u001b[49m\u001b[43m>\u001b[49m\u001b[43m=\u001b[49m\u001b[43m \u001b[49m\u001b[32;43m3\u001b[39;49m:\n\u001b[32m     11\u001b[39m         width.append(i-check_pos)\n\u001b[32m     12\u001b[39m         check_pos = i\n",
      "\u001b[31mTypeError\u001b[39m: '>=' not supported between instances of 'str' and 'int'"
     ]
    }
   ],
   "source": [
    "import statistics\n",
    "\n",
    "t_width = []\n",
    "for data in datas:\n",
    "    # print(f' len = {data[1]}')\n",
    "    print(f' len = {len(data[1])}')\n",
    "    width = []\n",
    "    check_pos = 0\n",
    "    for i in range(len(data[1])):\n",
    "        if data[1][i] >= 3:\n",
    "            width.append(i-check_pos)\n",
    "            check_pos = i\n",
    "        else:\n",
    "            if i == (len(data[1]) - 1):\n",
    "                width.append(i-check_pos)            \n",
    "                check_pos = i\n",
    "    mean_val = statistics.mean(width)\n",
    "    median = get_median_v2(width)\n",
    "    # width1 = width.copy()\n",
    "    # width1.remove(max(width))\n",
    "    # width1.remove(min(width))\n",
    "    t_width.append({\n",
    "        'random_state': data[0],\n",
    "        'width': width,\n",
    "        'width_len': len(width),\n",
    "        'width_avg': sum(width)/len(width),\n",
    "        'width_sum': sum(width),\n",
    "        'width_median': median,\n",
    "        'width_mean': mean_val,\n",
    "        'mean_diff': 55-mean_val,\n",
    "        # 'new_width_mean': statistics.mean(width1),\n",
    "    })\n",
    "    "
   ]
  },
  {
   "cell_type": "code",
   "execution_count": 112,
   "id": "4dbe88b9-0129-46d0-bcdd-5e003b91bc19",
   "metadata": {},
   "outputs": [],
   "source": [
    "for width in t_width:\n",
    "    print(width)"
   ]
  },
  {
   "cell_type": "code",
   "execution_count": 60,
   "id": "8913c137-c4da-437d-8657-3276f2930774",
   "metadata": {},
   "outputs": [
    {
     "data": {
      "text/plain": [
       "24.066666666666666"
      ]
     },
     "execution_count": 60,
     "metadata": {},
     "output_type": "execute_result"
    }
   ],
   "source": [
    "361 / 15"
   ]
  },
  {
   "cell_type": "code",
   "execution_count": 44,
   "id": "0e8c1029-b6ee-4be1-ac71-dff6b5dc0753",
   "metadata": {},
   "outputs": [
    {
     "name": "stdout",
     "output_type": "stream",
     "text": [
      "38\n"
     ]
    }
   ],
   "source": [
    "68 + 27\n",
    "43 + 27\n",
    "print(55-17)"
   ]
  },
  {
   "cell_type": "code",
   "execution_count": 36,
   "id": "4f6ca433-8222-41e5-85df-a50124818072",
   "metadata": {},
   "outputs": [
    {
     "data": {
      "text/plain": [
       "61"
      ]
     },
     "execution_count": 36,
     "metadata": {},
     "output_type": "execute_result"
    }
   ],
   "source": [
    "38+23"
   ]
  },
  {
   "cell_type": "code",
   "execution_count": 37,
   "id": "dabb2ac7-f41c-4973-929a-e4212c2a770b",
   "metadata": {},
   "outputs": [
    {
     "data": {
      "text/plain": [
       "3.235294117647059"
      ]
     },
     "execution_count": 37,
     "metadata": {},
     "output_type": "execute_result"
    }
   ],
   "source": [
    "55 / 17"
   ]
  },
  {
   "cell_type": "code",
   "execution_count": 38,
   "id": "7a93ad51-2537-4f40-a503-953fab7a710f",
   "metadata": {},
   "outputs": [
    {
     "data": {
      "text/plain": [
       "74.405"
      ]
     },
     "execution_count": 38,
     "metadata": {},
     "output_type": "execute_result"
    }
   ],
   "source": [
    "23 * 3.235"
   ]
  },
  {
   "cell_type": "code",
   "execution_count": 47,
   "id": "eda73626-def9-4862-87c0-a09c489ea8da",
   "metadata": {},
   "outputs": [
    {
     "data": {
      "text/plain": [
       "54.999999869999996"
      ]
     },
     "execution_count": 47,
     "metadata": {},
     "output_type": "execute_result"
    }
   ],
   "source": [
    "17 * 3.23529411"
   ]
  },
  {
   "cell_type": "markdown",
   "id": "733a7dc3-4f09-4c31-9ab4-4c87e9b72ce7",
   "metadata": {},
   "source": [
    "# 46.0 * 3.235"
   ]
  },
  {
   "cell_type": "code",
   "execution_count": 50,
   "id": "5735c304-20be-4280-9988-c341f09d0694",
   "metadata": {},
   "outputs": [
    {
     "data": {
      "text/plain": [
       "31"
      ]
     },
     "execution_count": 50,
     "metadata": {},
     "output_type": "execute_result"
    }
   ],
   "source": [
    "55-24"
   ]
  },
  {
   "cell_type": "markdown",
   "id": "17623015-cdd8-4b96-a3e5-b7de58188326",
   "metadata": {},
   "source": [
    "41+24"
   ]
  },
  {
   "cell_type": "code",
   "execution_count": 51,
   "id": "1ee2226a-2471-42b7-9e79-d22324ed0296",
   "metadata": {},
   "outputs": [
    {
     "data": {
      "text/plain": [
       "3.235294117647059"
      ]
     },
     "execution_count": 51,
     "metadata": {},
     "output_type": "execute_result"
    }
   ],
   "source": [
    "55 / 17"
   ]
  },
  {
   "cell_type": "code",
   "execution_count": null,
   "id": "091126ca-d1dd-4ce9-8e42-fbe19c14bd5d",
   "metadata": {},
   "outputs": [],
   "source": []
  }
 ],
 "metadata": {
  "kernelspec": {
   "display_name": "Python 3 (ipykernel)",
   "language": "python",
   "name": "python3"
  },
  "language_info": {
   "codemirror_mode": {
    "name": "ipython",
    "version": 3
   },
   "file_extension": ".py",
   "mimetype": "text/x-python",
   "name": "python",
   "nbconvert_exporter": "python",
   "pygments_lexer": "ipython3",
   "version": "3.12.3"
  }
 },
 "nbformat": 4,
 "nbformat_minor": 5
}
