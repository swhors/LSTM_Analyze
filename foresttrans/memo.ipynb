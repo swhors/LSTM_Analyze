{
 "cells": [
  {
   "cell_type": "code",
   "execution_count": 1,
   "id": "4b5e9a08-b772-4973-a42f-ef8270f13586",
   "metadata": {},
   "outputs": [
    {
     "name": "stdout",
     "output_type": "stream",
     "text": [
      "current 2025-06-26 22:03:52.101636\n"
     ]
    }
   ],
   "source": [
    "from datetime import datetime\n",
    "\n",
    "print('current', datetime.now())"
   ]
  },
  {
   "cell_type": "code",
   "execution_count": 2,
   "id": "3340ad21-c49d-41eb-a309-2dd6458f83b4",
   "metadata": {},
   "outputs": [
    {
     "name": "stdout",
     "output_type": "stream",
     "text": [
      "current 2025-06-26 22:03:52.490246\n"
     ]
    }
   ],
   "source": [
    "def get_median_v2(input_num):\n",
    "    \"\"\" get_median_v2 \"\"\"\n",
    "    input_num = sorted(input_num)  #주어진 리스트 정렬하기\n",
    "    center_Index=len(input_num)//2 #center_Index 값 할당하기\n",
    "    return (input_num[center_Index]+input_num[-center_Index -1])/2\n",
    "\n",
    "\n",
    "def get_count(random_states, verbose=0):\n",
    "    \"\"\" get_count \"\"\"\n",
    "    datas = []\n",
    "    for random_state in random_states:\n",
    "        t_version = random_state[1]\n",
    "        query = f'select matched_cnts from rndforest where version=\\\\\"{t_version}\\\\\" and random_state={random_state[0]}'\n",
    "        row = !echo \"{query}\"|sqlite3 ../db/metrics.db\n",
    "        if verbose > 1:\n",
    "            print(row)\n",
    "        if len(row) > 0 and row[0][0].isdigit():\n",
    "            cnts = [int(i) for i in row[0].split(',')]\n",
    "            count = 0\n",
    "            for cnt in cnts:\n",
    "                if cnt >=3:\n",
    "                    count += 1\n",
    "            datas.append([random_state[0], random_state[1], cnts, count, ])\n",
    "    return datas\n",
    "\n",
    "\n",
    "def get_count_with_start_width(start, data_length, version, verbose=0):\n",
    "    random_states = [(i, version) for i in range(start, start+data_length)]\n",
    "    return get_count(random_states, verbose=verbose)\n",
    "\n",
    "\n",
    "print('current', datetime.now())"
   ]
  },
  {
   "cell_type": "code",
   "execution_count": 10,
   "id": "6cb30e0b-b4c4-4d35-8c5e-9edebc8cad72",
   "metadata": {},
   "outputs": [],
   "source": [
    "data1 = (119179, [3,0,1,2,1,0,2,1,2,2,1,1,1,1,1,1,0,1,0,2,0,2,3,1,2,0,1,1,1,0,2,0,2,1,1,1,1,0,0,1,0,1,2,0,1,1,0,1,0,1,0,1,0,1,1,1,1,2,1,1,1,0,2,1,1,2,0,1,3,1,0,0,1,1,1,2,1,0,1,1,2,0,1,1,2,1,1,1,2,0,0,1,0,1,0,0,1,0,1,1,0,0,0,0,2,1,2,1,2,2,0,1,0,0,2,1,0,1,1,0,0,2,1,1,0,0,2,2,1,1,2,1,3,0,1,0,1,0,1,1,1,1,0,0,1,2,0,1,1,2,1,1,1,1,1,1,2,0,0,0,2,1,2,0,2,1,1,0,0,0,2,1,1,1,2,0,1,0,0,0,1,1,1,1,1,0,1,1,1,0,3,1,0,1,1,1,1,2,1,0,0,0,2,0,1,0,0,1,0,1,1,0,0,1,0,1,0,1,1,1,0,1,1,0,0,1,2,2,0,1,3,0,1,1,1,1,1,0,2,2,1,1,1,0,2,1,0,0,1,1,0,1,0,0,0,1,1,0,0,0,0,0,0,2,2,0,1,0,1,0,2,0,1,0,0,1,1,1,0,1,2,2,0,2,0,0,1,0,1,2,0,1,0,0,1,0,1,0,0,0,0,0,1,0,1,0,1,1,0,1,1,0,1,0,1,1,1,0,1,1,2,2,2,1,1,1,1,1,1,1,0,1,2,1,0,0,1,0,0,0,0,1,1,2,0,1,1,2,2,1,0,1,0,1,2,1,1,1,1,1,1,2,1,0,2,1,0,1,0,1,2,1,1,1,1,1,0,0,1,1,0,0,1,2,1,0,0,2,0,2,1,1,1,1,0,1,2,0,1,0,1,0,1,1,0,0,1,0,1,1,2,1,0,1,1,1,2,0,1,0,0,1,1,0,1,1,2,0,0,1,1,1,0,1,1,2,0,1,0,0,0,2,2,0,0,1,1,1,1,0,2,0,1,1,0,2,2,1,1,2,1,1,1,0,0,0,1,2,1,2,1,1,0,1,0,1,2])"
   ]
  },
  {
   "cell_type": "code",
   "execution_count": 11,
   "id": "9e2e945e-6c36-4d6c-9ecd-4dfc83b9df54",
   "metadata": {},
   "outputs": [],
   "source": [
    "data2 = (114116, [3,2,1,1,1,0,1,1,1,1,1,0,0,3,0,2,1,1,0,1,1,1,2,0,0,1,1,0,0,1,1,1,0,1,1,2,2,0,2,1,0,1,1,0,1,2,0,0,1,1,2,0,1,0,0,1,1,1,1,1,0,1,0,1,2,2,2,1,1,1,1,0,0,2,1,3,1,2,0,0,1,0,0,1,2,0,2,2,0,1,0,2,1,2,3,0,1,2,1,2,1,2,0,1,1,0,0,1,1,0,2,2,0,0,1,1,0,2,1,0,1,1,0,1,0,0,0,1,0,0,1,0,1,0,0,1,2,3,2,0,2,1,0,0,0,1,0,1,1,1,1,1,1,1,3,0,0,1,1,1,2,1,1,1,1,1,0,1,0,1,0,2,2,2,0,1,1,3,0,1,1,1,1,0,1,3,1,1,0,0,2,0,1,1,0,0,1,1,1,1,0,1,1,0,0,0,0,1,1,0,2,2,0,1,2,0,0,0,1,0,1,2,0,1,1,1,0,0,1,0,0,0,1,0,0,1,0,0,0,0,1,1,0,0,1,0,0,1,1,0,0,0,2,0,1,1,2,1,1,0,1,0,2,0,0,1,1,0,1,0,2,0,1,0,0,0,0,0,1,1,0,0,2,1,0,0,1,0,2,1,0,1,0,1,1,0,1,0,1,1,3,1,1,0,0,1,2,1,1,0,1,1,1,0,0,1,3,2,1,2,2,1,1,2,2,1,1,0,0,0,1,1,1,1,2,2,0,1,0,0,1,0,1,2,0,0,0,3,1,1,2,2,0,2,3,1,1,3,0,1,1,1,2,2,0,0,1,0,1,0,1,1,1,3,2,1,1,1,0,0,1,0,0,1,0,1,1,0,1,0,2,0,0,2,0,1,0,1,0,2,1,1,2,1,0,2,1,1,0,2,2,1,0,0,1,0,2,1,2,1,0,1,2,1,1,1,1,1,2,0,1,0,0,0,2,1,0,0,0,0,1,1,1,1,0,3,1,0,1,2,0,0,1,1,1,2,1,0,1,2,1,0,2,0,0,0,2,1,1,0,0,3,0,1,1,1,0])"
   ]
  },
  {
   "cell_type": "code",
   "execution_count": 12,
   "id": "d1e764a4-012f-4f00-bf76-f6fc1fa7b593",
   "metadata": {},
   "outputs": [],
   "source": [
    "data3 = (114287, [3,0,1,0,2,0,1,0,1,0,0,2,0,1,1,1,1,0,0,1,0,2,2,0,0,0,0,0,0,1,0,1,0,1,1,1,2,0,2,0,0,1,0,0,3,2,1,1,0,2,0,3,0,2,1,2,0,1,0,1,0,3,1,1,0,2,0,2,0,0,1,0,0,1,1,1,0,1,1,1,1,2,0,1,0,0,2,0,1,2,1,2,0,1,0,1,0,1,1,1,0,1,0,1,2,1,1,1,0,0,2,0,0,1,1,2,1,0,0,0,1,1,2,1,0,1,1,1,2,0,0,1,2,0,0,0,1,2,0,0,1,1,0,0,1,0,1,0,0,3,1,1,1,0,1,1,0,1,0,0,1,1,0,1,0,0,0,0,2,1,0,1,1,2,1,1,0,0,0,1,1,2,0,2,1,1,1,1,1,1,0,0,1,0,2,0,2,1,1,1,0,1,2,0,2,0,1,0,1,1,0,1,0,1,1,1,1,1,2,1,1,0,1,0,0,1,0,1,1,0,3,1,0,2,0,1,0,0,2,0,1,0,1,1,1,1,0,0,1,1,2,2,0,0,1,0,0,1,1,1,1,0,0,0,1,1,1,0,1,0,1,0,0,1,0,1,1,1,1,1,1,1,1,1,1,1,0,0,1,2,1,0,0,0,1,0,1,0,1,1,2,0,1,2,1,0,0,2,0,0,1,2,0,0,0,1,1,0,1,1,0,0,0,1,0,2,2,0,1,1,1,0,0,2,3,0,0,1,0,1,1,1,0,1,0,3,0,2,0,1,0,1,2,0,1,1,0,1,1,1,1,2,1,0,0,1,1,0,3,1,3,0,0,2,0,0,2,0,0,1,0,0,0,0,2,0,1,0,1,0,1,2,1,2,1,0,2,0,0,0,0,0,0,2,0,0,1,1,1,1,1,2,0,1,0,0,0,1,1,0,0,1,1,1,1,1,0,0,0,1,2,0,0,0,1,1,1,0,1,1,2,0,2,0,2,1,0,0,0,0,1,0,1,0,0,0,0,1,0,2,0,0,0,2,0,1,0,1,0,1,0,1,2,2,1,0,0])"
   ]
  },
  {
   "cell_type": "code",
   "execution_count": 56,
   "id": "ef407a07-c9a7-42d0-aa95-40cd69870c71",
   "metadata": {},
   "outputs": [],
   "source": [
    "datas = [data2, data1, data3]"
   ]
  },
  {
   "cell_type": "code",
   "execution_count": 84,
   "id": "db690581-d355-437f-b8dc-85c3276a1810",
   "metadata": {},
   "outputs": [
    {
     "name": "stdout",
     "output_type": "stream",
     "text": [
      "0 114116 T_01_95 16\n",
      "1 114287 T_01_95 10\n",
      "2 114905 T_01_95 15\n",
      "3 116469 T_01_95 11\n",
      "4 117668 T_01_95 15\n",
      "5 118407 T_01_95 15\n",
      "6 118991 T_01_95 15\n",
      "7 119179 T_01_95 6\n",
      "8 116702 T_01_95 18\n",
      "9 116725 T_01_95 16\n"
     ]
    }
   ],
   "source": [
    "## random_states안의 정보에 따라서 count를 계산, \n",
    "## datas에 추가\n",
    "### 지정된 값들의 데이터 추적\n",
    "\n",
    "random_states = [(114116, \"T_01_95\"),\n",
    "                 (114287, \"T_01_95\"),\n",
    "                 (114905, \"T_01_95\"),\n",
    "                 (116469, \"T_01_95\"),\n",
    "                 (117668, \"T_01_95\"),\n",
    "                 (118407, \"T_01_95\"),\n",
    "                 (118991, \"T_01_95\"),\n",
    "                 (119179, \"T_01_95\"),\n",
    "                 (116702, \"T_01_95\"),\n",
    "                 (116725, \"T_01_95\"),]\n",
    "datas = get_count(random_states)\n",
    "\n",
    "id_num = 0\n",
    "for data in datas:\n",
    "    print(id_num, data[0], data[1], data[3])\n",
    "    id_num += 1"
   ]
  },
  {
   "cell_type": "code",
   "execution_count": 17,
   "id": "28262553-5015-41bb-b1bc-f6bdb3664db5",
   "metadata": {},
   "outputs": [
    {
     "name": "stdout",
     "output_type": "stream",
     "text": [
      "{'n_estimator': '100', 'data_length': '100', 'random_state': '11413', 'last_round': '1177', 'first_round': ['771'], 'round_length': 407, 'over_3_cnt': 8, 'version': 'T_01_94'}\n",
      "{'n_estimator': '100', 'data_length': '100', 'random_state': '11414', 'last_round': '1177', 'first_round': ['771'], 'round_length': 407, 'over_3_cnt': 8, 'version': 'T_01_94'}\n",
      "{'n_estimator': '100', 'data_length': '100', 'random_state': '11415', 'last_round': '1177', 'first_round': ['771'], 'round_length': 407, 'over_3_cnt': 9, 'version': 'T_01_94'}\n",
      "{'n_estimator': '100', 'data_length': '100', 'random_state': '11416', 'last_round': '1177', 'first_round': ['771'], 'round_length': 407, 'over_3_cnt': 9, 'version': 'T_01_94'}\n",
      "{'n_estimator': '100', 'data_length': '100', 'random_state': '11417', 'last_round': '1177', 'first_round': ['771'], 'round_length': 407, 'over_3_cnt': 6, 'version': 'T_01_94'}\n",
      "{'n_estimator': '100', 'data_length': '100', 'random_state': '11418', 'last_round': '1177', 'first_round': ['771'], 'round_length': 407, 'over_3_cnt': 9, 'version': 'T_01_94'}\n",
      "{'n_estimator': '100', 'data_length': '100', 'random_state': '114114', 'last_round': '1177', 'first_round': ['771'], 'round_length': 407, 'over_3_cnt': 6, 'version': 'T_01_94'}\n",
      "{'n_estimator': '100', 'data_length': '100', 'random_state': '114115', 'last_round': '1177', 'first_round': ['771'], 'round_length': 407, 'over_3_cnt': 10, 'version': 'T_01_94'}\n",
      "{'n_estimator': '100', 'data_length': '100', 'random_state': '114116', 'last_round': '1177', 'first_round': ['771'], 'round_length': 407, 'over_3_cnt': 4, 'version': 'T_01_94'}\n",
      "{'n_estimator': '100', 'data_length': '100', 'random_state': '114117', 'last_round': '1177', 'first_round': ['771'], 'round_length': 407, 'over_3_cnt': 8, 'version': 'T_01_94'}\n",
      "{'n_estimator': '100', 'data_length': '100', 'random_state': '114118', 'last_round': '1177', 'first_round': ['771'], 'round_length': 407, 'over_3_cnt': 5, 'version': 'T_01_94'}\n",
      "{'n_estimator': '100', 'data_length': '100', 'random_state': '114903', 'last_round': '1177', 'first_round': ['771'], 'round_length': 407, 'over_3_cnt': 11, 'version': 'T_01_94'}\n",
      "{'n_estimator': '100', 'data_length': '100', 'random_state': '114904', 'last_round': '1177', 'first_round': ['771'], 'round_length': 407, 'over_3_cnt': 6, 'version': 'T_01_94'}\n",
      "{'n_estimator': '100', 'data_length': '100', 'random_state': '114905', 'last_round': '1177', 'first_round': ['771'], 'round_length': 407, 'over_3_cnt': 6, 'version': 'T_01_94'}\n",
      "{'n_estimator': '100', 'data_length': '100', 'random_state': '114906', 'last_round': '1177', 'first_round': ['771'], 'round_length': 407, 'over_3_cnt': 6, 'version': 'T_01_94'}\n",
      "{'n_estimator': '100', 'data_length': '100', 'random_state': '114907', 'last_round': '1177', 'first_round': ['771'], 'round_length': 407, 'over_3_cnt': 8, 'version': 'T_01_94'}\n",
      "{'n_estimator': '100', 'data_length': '100', 'random_state': '116467', 'last_round': '1177', 'first_round': ['771'], 'round_length': 407, 'over_3_cnt': 11, 'version': 'T_01_94'}\n",
      "{'n_estimator': '100', 'data_length': '100', 'random_state': '116468', 'last_round': '1177', 'first_round': ['771'], 'round_length': 407, 'over_3_cnt': 12, 'version': 'T_01_94'}\n",
      "{'n_estimator': '100', 'data_length': '100', 'random_state': '116469', 'last_round': '1177', 'first_round': ['771'], 'round_length': 407, 'over_3_cnt': 3, 'version': 'T_01_94'}\n",
      "{'n_estimator': '100', 'data_length': '100', 'random_state': '116470', 'last_round': '1177', 'first_round': ['771'], 'round_length': 407, 'over_3_cnt': 8, 'version': 'T_01_94'}\n",
      "{'n_estimator': '100', 'data_length': '100', 'random_state': '116471', 'last_round': '1177', 'first_round': ['771'], 'round_length': 407, 'over_3_cnt': 4, 'version': 'T_01_94'}\n",
      "{'n_estimator': '100', 'data_length': '100', 'random_state': '117666', 'last_round': '1177', 'first_round': ['771'], 'round_length': 407, 'over_3_cnt': 8, 'version': 'T_01_94'}\n",
      "{'n_estimator': '100', 'data_length': '100', 'random_state': '117667', 'last_round': '1177', 'first_round': ['771'], 'round_length': 407, 'over_3_cnt': 9, 'version': 'T_01_94'}\n",
      "{'n_estimator': '100', 'data_length': '100', 'random_state': '117668', 'last_round': '1177', 'first_round': ['771'], 'round_length': 407, 'over_3_cnt': 5, 'version': 'T_01_94'}\n",
      "{'n_estimator': '100', 'data_length': '100', 'random_state': '117669', 'last_round': '1177', 'first_round': ['771'], 'round_length': 407, 'over_3_cnt': 5, 'version': 'T_01_94'}\n",
      "{'n_estimator': '100', 'data_length': '100', 'random_state': '117670', 'last_round': '1177', 'first_round': ['771'], 'round_length': 407, 'over_3_cnt': 6, 'version': 'T_01_94'}\n",
      "{'n_estimator': '100', 'data_length': '100', 'random_state': '118405', 'last_round': '1177', 'first_round': ['771'], 'round_length': 407, 'over_3_cnt': 9, 'version': 'T_01_94'}\n",
      "{'n_estimator': '100', 'data_length': '100', 'random_state': '118406', 'last_round': '1177', 'first_round': ['771'], 'round_length': 407, 'over_3_cnt': 9, 'version': 'T_01_94'}\n",
      "{'n_estimator': '100', 'data_length': '100', 'random_state': '118407', 'last_round': '1177', 'first_round': ['771'], 'round_length': 407, 'over_3_cnt': 7, 'version': 'T_01_94'}\n",
      "{'n_estimator': '100', 'data_length': '100', 'random_state': '118408', 'last_round': '1177', 'first_round': ['771'], 'round_length': 407, 'over_3_cnt': 6, 'version': 'T_01_94'}\n",
      "{'n_estimator': '100', 'data_length': '100', 'random_state': '118409', 'last_round': '1177', 'first_round': ['771'], 'round_length': 407, 'over_3_cnt': 7, 'version': 'T_01_94'}\n",
      "{'n_estimator': '100', 'data_length': '100', 'random_state': '119177', 'last_round': '1177', 'first_round': ['771'], 'round_length': 407, 'over_3_cnt': 9, 'version': 'T_01_94'}\n",
      "{'n_estimator': '100', 'data_length': '100', 'random_state': '119178', 'last_round': '1177', 'first_round': ['771'], 'round_length': 407, 'over_3_cnt': 7, 'version': 'T_01_94'}\n",
      "{'n_estimator': '100', 'data_length': '100', 'random_state': '119179', 'last_round': '1177', 'first_round': ['771'], 'round_length': 407, 'over_3_cnt': 8, 'version': 'T_01_94'}\n",
      "{'n_estimator': '100', 'data_length': '100', 'random_state': '119180', 'last_round': '1177', 'first_round': ['771'], 'round_length': 407, 'over_3_cnt': 8, 'version': 'T_01_94'}\n",
      "{'n_estimator': '100', 'data_length': '100', 'random_state': '119181', 'last_round': '1177', 'first_round': ['771'], 'round_length': 407, 'over_3_cnt': 6, 'version': 'T_01_94'}\n",
      "{'n_estimator': '100', 'data_length': '100', 'random_state': '116700', 'last_round': '1177', 'first_round': ['771'], 'round_length': 407, 'over_3_cnt': 11, 'version': 'T_01_94'}\n",
      "{'n_estimator': '100', 'data_length': '100', 'random_state': '116701', 'last_round': '1177', 'first_round': ['771'], 'round_length': 407, 'over_3_cnt': 3, 'version': 'T_01_94'}\n",
      "{'n_estimator': '100', 'data_length': '100', 'random_state': '116702', 'last_round': '1177', 'first_round': ['771'], 'round_length': 407, 'over_3_cnt': 10, 'version': 'T_01_94'}\n",
      "{'n_estimator': '100', 'data_length': '100', 'random_state': '116703', 'last_round': '1177', 'first_round': ['771'], 'round_length': 407, 'over_3_cnt': 8, 'version': 'T_01_94'}\n",
      "{'n_estimator': '100', 'data_length': '100', 'random_state': '116704', 'last_round': '1177', 'first_round': ['771'], 'round_length': 407, 'over_3_cnt': 12, 'version': 'T_01_94'}\n",
      "{'n_estimator': '100', 'data_length': '100', 'random_state': '116723', 'last_round': '1177', 'first_round': ['771'], 'round_length': 407, 'over_3_cnt': 12, 'version': 'T_01_94'}\n",
      "{'n_estimator': '100', 'data_length': '100', 'random_state': '116724', 'last_round': '1177', 'first_round': ['771'], 'round_length': 407, 'over_3_cnt': 8, 'version': 'T_01_94'}\n",
      "{'n_estimator': '100', 'data_length': '100', 'random_state': '116725', 'last_round': '1177', 'first_round': ['771'], 'round_length': 407, 'over_3_cnt': 11, 'version': 'T_01_94'}\n",
      "{'n_estimator': '100', 'data_length': '100', 'random_state': '116726', 'last_round': '1177', 'first_round': ['771'], 'round_length': 407, 'over_3_cnt': 9, 'version': 'T_01_94'}\n",
      "{'n_estimator': '100', 'data_length': '100', 'random_state': '116727', 'last_round': '1177', 'first_round': ['771'], 'round_length': 407, 'over_3_cnt': 9, 'version': 'T_01_94'}\n"
     ]
    }
   ],
   "source": [
    "rows = !echo 'select random_state from rndforest where version=\"T_01_94\"' | sqlite3 ../db/metrics.db\n",
    "random_states = []\n",
    "\n",
    "for row in rows:\n",
    "    random_states.append((int(row), \"T_01_94\"))\n",
    "\n",
    "selected_datas = []\n",
    "for random in random_states:\n",
    "    query = f'select * from rndforest where version=\\\\\"{random[1]}\\\\\" and random_state={random[0]}'\n",
    "    row = !echo \"{query}\"| sqlite3 ../db/metrics.db\n",
    "    cols = row[0].split('|')\n",
    "    rounds_nums = cols[4].split(',')\n",
    "    first_round = rounds_nums[-1:]\n",
    "    last_round = rounds_nums[0]\n",
    "    matched_cnts = [int(i) for i in cols[5].split(',')]\n",
    "    over_3_cnt = 0\n",
    "    for cnt in matched_cnts:\n",
    "        if cnt > 2:\n",
    "            over_3_cnt += 1\n",
    "    result = {\n",
    "        \"n_estimator\": cols[1],\n",
    "        \"data_length\": cols[2],\n",
    "        'random_state': cols[3],\n",
    "        \"last_round\": last_round,\n",
    "        \"first_round\": first_round,\n",
    "        \"round_length\": len(rounds_nums),\n",
    "        \"over_3_cnt\": over_3_cnt,\n",
    "        # \"rounds\": cols[4],\n",
    "        # \"matched_cnts\": cols[5],\n",
    "        \"version\": cols[7]\n",
    "    }\n",
    "    print(result)\n",
    "    selected_datas.append(result)\n",
    "    "
   ]
  },
  {
   "cell_type": "code",
   "execution_count": 16,
   "id": "a7ca5960-4663-450d-9a24-8ff4dc6d342b",
   "metadata": {},
   "outputs": [
    {
     "name": "stdout",
     "output_type": "stream",
     "text": [
      "{'n_estimator': '10', 'data_length': '100', 'random_state': '114116', 'last_round': '1177', 'first_round': ['701'], 'round_length': 477, 'over_3_cnt': 16, 'version': 'T_01_95'}\n",
      "{'n_estimator': '10', 'data_length': '100', 'random_state': '114287', 'last_round': '1177', 'first_round': ['701'], 'round_length': 477, 'over_3_cnt': 10, 'version': 'T_01_95'}\n",
      "{'n_estimator': '10', 'data_length': '100', 'random_state': '114905', 'last_round': '1177', 'first_round': ['701'], 'round_length': 477, 'over_3_cnt': 15, 'version': 'T_01_95'}\n",
      "{'n_estimator': '10', 'data_length': '100', 'random_state': '116469', 'last_round': '1177', 'first_round': ['701'], 'round_length': 477, 'over_3_cnt': 11, 'version': 'T_01_95'}\n",
      "{'n_estimator': '10', 'data_length': '100', 'random_state': '117668', 'last_round': '1177', 'first_round': ['701'], 'round_length': 477, 'over_3_cnt': 15, 'version': 'T_01_95'}\n",
      "{'n_estimator': '10', 'data_length': '100', 'random_state': '118407', 'last_round': '1177', 'first_round': ['701'], 'round_length': 477, 'over_3_cnt': 15, 'version': 'T_01_95'}\n",
      "{'n_estimator': '10', 'data_length': '100', 'random_state': '118991', 'last_round': '1177', 'first_round': ['701'], 'round_length': 477, 'over_3_cnt': 15, 'version': 'T_01_95'}\n",
      "{'n_estimator': '10', 'data_length': '100', 'random_state': '119179', 'last_round': '1177', 'first_round': ['701'], 'round_length': 477, 'over_3_cnt': 6, 'version': 'T_01_95'}\n",
      "{'n_estimator': '10', 'data_length': '100', 'random_state': '116702', 'last_round': '1177', 'first_round': ['701'], 'round_length': 477, 'over_3_cnt': 18, 'version': 'T_01_95'}\n",
      "{'n_estimator': '10', 'data_length': '100', 'random_state': '116725', 'last_round': '1177', 'first_round': ['701'], 'round_length': 477, 'over_3_cnt': 16, 'version': 'T_01_95'}\n"
     ]
    }
   ],
   "source": [
    "random_states = [(114116, \"T_01_95\"),\n",
    "                 (114287, \"T_01_95\"),\n",
    "                 (114905, \"T_01_95\"),\n",
    "                 (116469, \"T_01_95\"),\n",
    "                 (117668, \"T_01_95\"),\n",
    "                 (118407, \"T_01_95\"),\n",
    "                 (118991, \"T_01_95\"),\n",
    "                 (119179, \"T_01_95\"),\n",
    "                 (116702, \"T_01_95\"),\n",
    "                 (116725, \"T_01_95\"),]\n",
    "selected_datas = []\n",
    "for random in random_states:\n",
    "    query = f'select * from rndforest where version=\\\\\"{random[1]}\\\\\" and random_state={random[0]}'\n",
    "    row = !echo \"{query}\"| sqlite3 ../db/metrics.db\n",
    "    cols = row[0].split('|')\n",
    "    rounds_nums = cols[4].split(',')\n",
    "    first_round = rounds_nums[-1:]\n",
    "    last_round = rounds_nums[0]\n",
    "    matched_cnts = [int(i) for i in cols[5].split(',')]\n",
    "    over_3_cnt = 0\n",
    "    for cnt in matched_cnts:\n",
    "        if cnt > 2:\n",
    "            over_3_cnt += 1\n",
    "    result = {\n",
    "        \"n_estimator\": cols[1],\n",
    "        \"data_length\": cols[2],\n",
    "        'random_state': cols[3],\n",
    "        \"last_round\": last_round,\n",
    "        \"first_round\": first_round,\n",
    "        \"round_length\": len(rounds_nums),\n",
    "        \"over_3_cnt\": over_3_cnt,\n",
    "        # \"rounds\": cols[4],\n",
    "        # \"matched_cnts\": cols[5],\n",
    "        \"version\": cols[7]\n",
    "    }\n",
    "    print(result)\n",
    "    selected_datas.append(result)\n",
    "    "
   ]
  },
  {
   "cell_type": "code",
   "execution_count": 86,
   "id": "21295162-cfd0-4c7c-9d06-2768c7a40466",
   "metadata": {},
   "outputs": [
    {
     "name": "stdout",
     "output_type": "stream",
     "text": [
      "0 116700 T_01_13 11\n",
      "1 116704 T_01_13 12\n",
      "2 116723 T_01_13 12\n",
      "3 116725 T_01_13 11\n",
      "4 116737 T_01_13 12\n",
      "5 116740 T_01_13 13\n",
      "6 116741 T_01_13 11\n",
      "7 116743 T_01_13 11\n"
     ]
    }
   ],
   "source": [
    "### 116700애서 시작하는 범위의 데이터 추적\n",
    "t_version=\"T_01_13\"\n",
    "start=116700\n",
    "data_length=50\n",
    "\n",
    "datas = get_count_with_start_width(start=start, data_length=data_length, version=t_version, verbose=0)\n",
    "\n",
    "cnt = 0\n",
    "for data in datas:\n",
    "    if data[3] > 10:\n",
    "        print(cnt, data[0], data[1], data[3])\n",
    "        cnt += 1\n"
   ]
  },
  {
   "cell_type": "code",
   "execution_count": 3,
   "id": "8cfca38b-dbd3-4b66-bb0f-0510290c6045",
   "metadata": {},
   "outputs": [
    {
     "name": "stdout",
     "output_type": "stream",
     "text": [
      "current 2025-06-26 22:04:21.189798\n"
     ]
    }
   ],
   "source": [
    "### 116700애서 시작하는 범위의 데이터 추적\n",
    "t_version=\"T_01_13\"\n",
    "start=114000\n",
    "data_length=100\n",
    "\n",
    "datas = get_count_with_start_width(start=start, data_length=data_length, version=t_version, verbose=0)\n",
    "cnt = 0\n",
    "for data in datas:\n",
    "    if data[3] > 13:\n",
    "        print(cnt, data[0], data[1], data[3])\n",
    "        cnt += 1\n",
    "print('current', datetime.now())"
   ]
  },
  {
   "cell_type": "code",
   "execution_count": 15,
   "id": "b26c824e-622c-484c-b427-0fdade44834a",
   "metadata": {},
   "outputs": [
    {
     "name": "stdout",
     "output_type": "stream",
     "text": [
      "*************** over 13 ***************\n",
      "(6, 113739, 'T_01_13', 17)\n",
      "(0, 113236, 'T_01_13', 16)\n",
      "(2, 113304, 'T_01_13', 15)\n",
      "(4, 113429, 'T_01_13', 15)\n",
      "(5, 113575, 'T_01_13', 15)\n",
      "(8, 113792, 'T_01_13', 15)\n",
      "(1, 113242, 'T_01_13', 14)\n",
      "(3, 113342, 'T_01_13', 14)\n",
      "(7, 113762, 'T_01_13', 14)\n",
      "(9, 113795, 'T_01_13', 14)\n",
      "(10, 113840, 'T_01_13', 14)\n",
      "(11, 113860, 'T_01_13', 14)\n",
      "(12, 113916, 'T_01_13', 14)\n",
      "(13, 113980, 'T_01_13', 14)\n",
      "\n",
      "\n",
      "*************** between 12 and 13 ***************\n",
      "(15, 113225, 'T_01_13', 13)\n",
      "(17, 113254, 'T_01_13', 13)\n",
      "(20, 113277, 'T_01_13', 13)\n",
      "(22, 113331, 'T_01_13', 13)\n",
      "(25, 113340, 'T_01_13', 13)\n",
      "(26, 113347, 'T_01_13', 13)\n",
      "(27, 113351, 'T_01_13', 13)\n",
      "(30, 113388, 'T_01_13', 13)\n",
      "(31, 113396, 'T_01_13', 13)\n",
      "(36, 113424, 'T_01_13', 13)\n",
      "(40, 113516, 'T_01_13', 13)\n",
      "(42, 113546, 'T_01_13', 13)\n",
      "(47, 113646, 'T_01_13', 13)\n",
      "(55, 113745, 'T_01_13', 13)\n",
      "(60, 113810, 'T_01_13', 13)\n",
      "(62, 113825, 'T_01_13', 13)\n",
      "(63, 113838, 'T_01_13', 13)\n",
      "(66, 113859, 'T_01_13', 13)\n",
      "(67, 113870, 'T_01_13', 13)\n",
      "(68, 113901, 'T_01_13', 13)\n",
      "(71, 113951, 'T_01_13', 13)\n",
      "(72, 113986, 'T_01_13', 13)\n",
      "(76, 114025, 'T_01_13', 13)\n",
      "(82, 114098, 'T_01_13', 13)\n",
      "(14, 113222, 'T_01_13', 12)\n",
      "(16, 113230, 'T_01_13', 12)\n",
      "(18, 113256, 'T_01_13', 12)\n",
      "(19, 113271, 'T_01_13', 12)\n",
      "(21, 113294, 'T_01_13', 12)\n",
      "(23, 113336, 'T_01_13', 12)\n",
      "(24, 113339, 'T_01_13', 12)\n",
      "(28, 113370, 'T_01_13', 12)\n",
      "(29, 113377, 'T_01_13', 12)\n",
      "(32, 113411, 'T_01_13', 12)\n",
      "(33, 113417, 'T_01_13', 12)\n",
      "(34, 113420, 'T_01_13', 12)\n",
      "(35, 113422, 'T_01_13', 12)\n",
      "(37, 113433, 'T_01_13', 12)\n",
      "(38, 113436, 'T_01_13', 12)\n",
      "(39, 113495, 'T_01_13', 12)\n",
      "(41, 113526, 'T_01_13', 12)\n",
      "(43, 113547, 'T_01_13', 12)\n",
      "(44, 113549, 'T_01_13', 12)\n",
      "(45, 113558, 'T_01_13', 12)\n",
      "(46, 113620, 'T_01_13', 12)\n",
      "(48, 113650, 'T_01_13', 12)\n",
      "(49, 113662, 'T_01_13', 12)\n",
      "(50, 113678, 'T_01_13', 12)\n",
      "(51, 113681, 'T_01_13', 12)\n",
      "(52, 113703, 'T_01_13', 12)\n",
      "(53, 113710, 'T_01_13', 12)\n",
      "(54, 113724, 'T_01_13', 12)\n",
      "(56, 113746, 'T_01_13', 12)\n",
      "(57, 113755, 'T_01_13', 12)\n",
      "(58, 113761, 'T_01_13', 12)\n",
      "(59, 113765, 'T_01_13', 12)\n",
      "(61, 113824, 'T_01_13', 12)\n",
      "(64, 113852, 'T_01_13', 12)\n",
      "(65, 113855, 'T_01_13', 12)\n",
      "(69, 113902, 'T_01_13', 12)\n",
      "(70, 113911, 'T_01_13', 12)\n",
      "(73, 113987, 'T_01_13', 12)\n",
      "(74, 113988, 'T_01_13', 12)\n",
      "(75, 114011, 'T_01_13', 12)\n",
      "(77, 114027, 'T_01_13', 12)\n",
      "(78, 114053, 'T_01_13', 12)\n",
      "(79, 114064, 'T_01_13', 12)\n",
      "(80, 114074, 'T_01_13', 12)\n",
      "(81, 114094, 'T_01_13', 12)\n",
      "current 2025-06-27 00:16:47.490506\n"
     ]
    }
   ],
   "source": [
    "### 113600~113899 범위의 데이터 추적\n",
    "t_version=\"T_01_13\"\n",
    "start=113100\n",
    "data_length=1100\n",
    "\n",
    "datas = get_count_with_start_width(start=start, data_length=data_length, version=t_version, verbose=0)\n",
    "cnt = 0\n",
    "print(f'{\"*\"*15} over 13 {\"*\"*15}')\n",
    "list1=[]\n",
    "list2=[]\n",
    "for data in datas:\n",
    "    if data[3] > 13:\n",
    "        list1.append((cnt, data[0], data[1], data[3]))\n",
    "        cnt += 1\n",
    "list1.sort(key=lambda x: x[3], reverse=True)\n",
    "for i in list1:\n",
    "    print(i)\n",
    "print(f'\\n\\n{\"*\"*15} between 12 and 13 {\"*\"*15}')\n",
    "for data in datas:\n",
    "    if data[3] >= 12 and data[3] <= 13:\n",
    "        list2.append((cnt, data[0], data[1], data[3]))\n",
    "        cnt += 1\n",
    "list2.sort(key=lambda x: x[3], reverse=True)\n",
    "for i in list2:\n",
    "    print(i)\n",
    "print('current', datetime.now())"
   ]
  },
  {
   "cell_type": "code",
   "execution_count": 22,
   "id": "5f15af38-57f4-4264-bf82-f1a0baee65ce",
   "metadata": {},
   "outputs": [
    {
     "name": "stdout",
     "output_type": "stream",
     "text": [
      "*************** over 13 ***************\n",
      "(0, 116772, 'T_01_13', 14)\n",
      "\n",
      "\n",
      "*************** between 12 and 13 ***************\n",
      "(4, 116740, 'T_01_13', 13)\n",
      "(7, 116799, 'T_01_13', 13)\n",
      "(1, 116704, 'T_01_13', 12)\n",
      "(2, 116723, 'T_01_13', 12)\n",
      "(3, 116737, 'T_01_13', 12)\n",
      "(5, 116797, 'T_01_13', 12)\n",
      "(6, 116798, 'T_01_13', 12)\n",
      "current 2025-06-27 01:26:18.316854\n"
     ]
    }
   ],
   "source": [
    "### 113600~113899 범위의 데이터 추적\n",
    "t_version=\"T_01_13\"\n",
    "start=116700\n",
    "data_length=1100\n",
    "\n",
    "datas = get_count_with_start_width(start=start, data_length=data_length, version=t_version, verbose=0)\n",
    "cnt = 0\n",
    "print(f'{\"*\"*15} over 13 {\"*\"*15}')\n",
    "list1=[]\n",
    "list2=[]\n",
    "for data in datas:\n",
    "    if data[3] > 13:\n",
    "        list1.append((cnt, data[0], data[1], data[3]))\n",
    "        cnt += 1\n",
    "list1.sort(key=lambda x: x[3], reverse=True)\n",
    "for i in list1:\n",
    "    print(i)\n",
    "print(f'\\n\\n{\"*\"*15} between 12 and 13 {\"*\"*15}')\n",
    "for data in datas:\n",
    "    if data[3] >= 12 and data[3] <= 13:\n",
    "        list2.append((cnt, data[0], data[1], data[3]))\n",
    "        cnt += 1\n",
    "list2.sort(key=lambda x: x[3], reverse=True)\n",
    "for i in list2:\n",
    "    print(i)\n",
    "print('current', datetime.now())"
   ]
  },
  {
   "cell_type": "code",
   "execution_count": null,
   "id": "edcd9e24-aeb2-4c40-b6b0-aff878f1ce5d",
   "metadata": {},
   "outputs": [],
   "source": [
    "import statistics\n",
    "\n",
    "t_width = []\n",
    "for data in datas:\n",
    "    # print(f' len = {data[1]}')\n",
    "    print(f' len = {len(data[1])}')\n",
    "    width = []\n",
    "    check_pos = 0\n",
    "    for i in range(len(data[1])):\n",
    "        if data[1][i] >= 3:\n",
    "            width.append(i-check_pos)\n",
    "            check_pos = i\n",
    "        else:\n",
    "            if i == (len(data[1]) - 1):\n",
    "                width.append(i-check_pos)            \n",
    "                check_pos = i\n",
    "    mean_val = statistics.mean(width)\n",
    "    median = get_median_v2(width)\n",
    "    # width1 = width.copy()\n",
    "    # width1.remove(max(width))\n",
    "    # width1.remove(min(width))\n",
    "    t_width.append({\n",
    "        'random_state': data[0],\n",
    "        'width': width,\n",
    "        'width_len': len(width),\n",
    "        'width_avg': sum(width)/len(width),\n",
    "        'width_sum': sum(width),\n",
    "        'width_median': median,\n",
    "        'width_mean': mean_val,\n",
    "        'mean_diff': 55-mean_val,\n",
    "        # 'new_width_mean': statistics.mean(width1),\n",
    "    })\n",
    "    "
   ]
  },
  {
   "cell_type": "code",
   "execution_count": 78,
   "id": "4dbe88b9-0129-46d0-bcdd-5e003b91bc19",
   "metadata": {},
   "outputs": [],
   "source": [
    "for width in t_width:\n",
    "    print(width)"
   ]
  },
  {
   "cell_type": "code",
   "execution_count": 79,
   "id": "8913c137-c4da-437d-8657-3276f2930774",
   "metadata": {},
   "outputs": [
    {
     "data": {
      "text/plain": [
       "24.066666666666666"
      ]
     },
     "execution_count": 79,
     "metadata": {},
     "output_type": "execute_result"
    }
   ],
   "source": [
    "361 / 15"
   ]
  },
  {
   "cell_type": "code",
   "execution_count": 44,
   "id": "0e8c1029-b6ee-4be1-ac71-dff6b5dc0753",
   "metadata": {},
   "outputs": [
    {
     "name": "stdout",
     "output_type": "stream",
     "text": [
      "38\n"
     ]
    }
   ],
   "source": [
    "68 + 27\n",
    "43 + 27\n",
    "print(55-17)"
   ]
  },
  {
   "cell_type": "code",
   "execution_count": 36,
   "id": "4f6ca433-8222-41e5-85df-a50124818072",
   "metadata": {},
   "outputs": [
    {
     "data": {
      "text/plain": [
       "61"
      ]
     },
     "execution_count": 36,
     "metadata": {},
     "output_type": "execute_result"
    }
   ],
   "source": [
    "38+23"
   ]
  },
  {
   "cell_type": "code",
   "execution_count": 37,
   "id": "dabb2ac7-f41c-4973-929a-e4212c2a770b",
   "metadata": {},
   "outputs": [
    {
     "data": {
      "text/plain": [
       "3.235294117647059"
      ]
     },
     "execution_count": 37,
     "metadata": {},
     "output_type": "execute_result"
    }
   ],
   "source": [
    "55 / 17"
   ]
  },
  {
   "cell_type": "code",
   "execution_count": 38,
   "id": "7a93ad51-2537-4f40-a503-953fab7a710f",
   "metadata": {},
   "outputs": [
    {
     "data": {
      "text/plain": [
       "74.405"
      ]
     },
     "execution_count": 38,
     "metadata": {},
     "output_type": "execute_result"
    }
   ],
   "source": [
    "23 * 3.235"
   ]
  },
  {
   "cell_type": "code",
   "execution_count": 47,
   "id": "eda73626-def9-4862-87c0-a09c489ea8da",
   "metadata": {},
   "outputs": [
    {
     "data": {
      "text/plain": [
       "54.999999869999996"
      ]
     },
     "execution_count": 47,
     "metadata": {},
     "output_type": "execute_result"
    }
   ],
   "source": [
    "17 * 3.23529411"
   ]
  },
  {
   "cell_type": "markdown",
   "id": "733a7dc3-4f09-4c31-9ab4-4c87e9b72ce7",
   "metadata": {},
   "source": [
    "# 46.0 * 3.235"
   ]
  },
  {
   "cell_type": "code",
   "execution_count": 50,
   "id": "5735c304-20be-4280-9988-c341f09d0694",
   "metadata": {},
   "outputs": [
    {
     "data": {
      "text/plain": [
       "31"
      ]
     },
     "execution_count": 50,
     "metadata": {},
     "output_type": "execute_result"
    }
   ],
   "source": [
    "55-24"
   ]
  },
  {
   "cell_type": "markdown",
   "id": "17623015-cdd8-4b96-a3e5-b7de58188326",
   "metadata": {},
   "source": [
    "41+24"
   ]
  },
  {
   "cell_type": "code",
   "execution_count": 51,
   "id": "1ee2226a-2471-42b7-9e79-d22324ed0296",
   "metadata": {},
   "outputs": [
    {
     "data": {
      "text/plain": [
       "3.235294117647059"
      ]
     },
     "execution_count": 51,
     "metadata": {},
     "output_type": "execute_result"
    }
   ],
   "source": [
    "55 / 17"
   ]
  },
  {
   "cell_type": "code",
   "execution_count": null,
   "id": "091126ca-d1dd-4ce9-8e42-fbe19c14bd5d",
   "metadata": {},
   "outputs": [],
   "source": []
  }
 ],
 "metadata": {
  "kernelspec": {
   "display_name": "Python 3 (ipykernel)",
   "language": "python",
   "name": "python3"
  },
  "language_info": {
   "codemirror_mode": {
    "name": "ipython",
    "version": 3
   },
   "file_extension": ".py",
   "mimetype": "text/x-python",
   "name": "python",
   "nbconvert_exporter": "python",
   "pygments_lexer": "ipython3",
   "version": "3.12.3"
  }
 },
 "nbformat": 4,
 "nbformat_minor": 5
}
