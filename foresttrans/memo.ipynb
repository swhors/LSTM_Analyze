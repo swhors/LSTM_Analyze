{
 "cells": [
  {
   "cell_type": "code",
   "execution_count": 10,
   "id": "6cb30e0b-b4c4-4d35-8c5e-9edebc8cad72",
   "metadata": {},
   "outputs": [],
   "source": [
    "data1 = (119179, [3,0,1,2,1,0,2,1,2,2,1,1,1,1,1,1,0,1,0,2,0,2,3,1,2,0,1,1,1,0,2,0,2,1,1,1,1,0,0,1,0,1,2,0,1,1,0,1,0,1,0,1,0,1,1,1,1,2,1,1,1,0,2,1,1,2,0,1,3,1,0,0,1,1,1,2,1,0,1,1,2,0,1,1,2,1,1,1,2,0,0,1,0,1,0,0,1,0,1,1,0,0,0,0,2,1,2,1,2,2,0,1,0,0,2,1,0,1,1,0,0,2,1,1,0,0,2,2,1,1,2,1,3,0,1,0,1,0,1,1,1,1,0,0,1,2,0,1,1,2,1,1,1,1,1,1,2,0,0,0,2,1,2,0,2,1,1,0,0,0,2,1,1,1,2,0,1,0,0,0,1,1,1,1,1,0,1,1,1,0,3,1,0,1,1,1,1,2,1,0,0,0,2,0,1,0,0,1,0,1,1,0,0,1,0,1,0,1,1,1,0,1,1,0,0,1,2,2,0,1,3,0,1,1,1,1,1,0,2,2,1,1,1,0,2,1,0,0,1,1,0,1,0,0,0,1,1,0,0,0,0,0,0,2,2,0,1,0,1,0,2,0,1,0,0,1,1,1,0,1,2,2,0,2,0,0,1,0,1,2,0,1,0,0,1,0,1,0,0,0,0,0,1,0,1,0,1,1,0,1,1,0,1,0,1,1,1,0,1,1,2,2,2,1,1,1,1,1,1,1,0,1,2,1,0,0,1,0,0,0,0,1,1,2,0,1,1,2,2,1,0,1,0,1,2,1,1,1,1,1,1,2,1,0,2,1,0,1,0,1,2,1,1,1,1,1,0,0,1,1,0,0,1,2,1,0,0,2,0,2,1,1,1,1,0,1,2,0,1,0,1,0,1,1,0,0,1,0,1,1,2,1,0,1,1,1,2,0,1,0,0,1,1,0,1,1,2,0,0,1,1,1,0,1,1,2,0,1,0,0,0,2,2,0,0,1,1,1,1,0,2,0,1,1,0,2,2,1,1,2,1,1,1,0,0,0,1,2,1,2,1,1,0,1,0,1,2])"
   ]
  },
  {
   "cell_type": "code",
   "execution_count": 11,
   "id": "9e2e945e-6c36-4d6c-9ecd-4dfc83b9df54",
   "metadata": {},
   "outputs": [],
   "source": [
    "data2 = (114116, [3,2,1,1,1,0,1,1,1,1,1,0,0,3,0,2,1,1,0,1,1,1,2,0,0,1,1,0,0,1,1,1,0,1,1,2,2,0,2,1,0,1,1,0,1,2,0,0,1,1,2,0,1,0,0,1,1,1,1,1,0,1,0,1,2,2,2,1,1,1,1,0,0,2,1,3,1,2,0,0,1,0,0,1,2,0,2,2,0,1,0,2,1,2,3,0,1,2,1,2,1,2,0,1,1,0,0,1,1,0,2,2,0,0,1,1,0,2,1,0,1,1,0,1,0,0,0,1,0,0,1,0,1,0,0,1,2,3,2,0,2,1,0,0,0,1,0,1,1,1,1,1,1,1,3,0,0,1,1,1,2,1,1,1,1,1,0,1,0,1,0,2,2,2,0,1,1,3,0,1,1,1,1,0,1,3,1,1,0,0,2,0,1,1,0,0,1,1,1,1,0,1,1,0,0,0,0,1,1,0,2,2,0,1,2,0,0,0,1,0,1,2,0,1,1,1,0,0,1,0,0,0,1,0,0,1,0,0,0,0,1,1,0,0,1,0,0,1,1,0,0,0,2,0,1,1,2,1,1,0,1,0,2,0,0,1,1,0,1,0,2,0,1,0,0,0,0,0,1,1,0,0,2,1,0,0,1,0,2,1,0,1,0,1,1,0,1,0,1,1,3,1,1,0,0,1,2,1,1,0,1,1,1,0,0,1,3,2,1,2,2,1,1,2,2,1,1,0,0,0,1,1,1,1,2,2,0,1,0,0,1,0,1,2,0,0,0,3,1,1,2,2,0,2,3,1,1,3,0,1,1,1,2,2,0,0,1,0,1,0,1,1,1,3,2,1,1,1,0,0,1,0,0,1,0,1,1,0,1,0,2,0,0,2,0,1,0,1,0,2,1,1,2,1,0,2,1,1,0,2,2,1,0,0,1,0,2,1,2,1,0,1,2,1,1,1,1,1,2,0,1,0,0,0,2,1,0,0,0,0,1,1,1,1,0,3,1,0,1,2,0,0,1,1,1,2,1,0,1,2,1,0,2,0,0,0,2,1,1,0,0,3,0,1,1,1,0])"
   ]
  },
  {
   "cell_type": "code",
   "execution_count": 12,
   "id": "d1e764a4-012f-4f00-bf76-f6fc1fa7b593",
   "metadata": {},
   "outputs": [],
   "source": [
    "data3 = (114287, [3,0,1,0,2,0,1,0,1,0,0,2,0,1,1,1,1,0,0,1,0,2,2,0,0,0,0,0,0,1,0,1,0,1,1,1,2,0,2,0,0,1,0,0,3,2,1,1,0,2,0,3,0,2,1,2,0,1,0,1,0,3,1,1,0,2,0,2,0,0,1,0,0,1,1,1,0,1,1,1,1,2,0,1,0,0,2,0,1,2,1,2,0,1,0,1,0,1,1,1,0,1,0,1,2,1,1,1,0,0,2,0,0,1,1,2,1,0,0,0,1,1,2,1,0,1,1,1,2,0,0,1,2,0,0,0,1,2,0,0,1,1,0,0,1,0,1,0,0,3,1,1,1,0,1,1,0,1,0,0,1,1,0,1,0,0,0,0,2,1,0,1,1,2,1,1,0,0,0,1,1,2,0,2,1,1,1,1,1,1,0,0,1,0,2,0,2,1,1,1,0,1,2,0,2,0,1,0,1,1,0,1,0,1,1,1,1,1,2,1,1,0,1,0,0,1,0,1,1,0,3,1,0,2,0,1,0,0,2,0,1,0,1,1,1,1,0,0,1,1,2,2,0,0,1,0,0,1,1,1,1,0,0,0,1,1,1,0,1,0,1,0,0,1,0,1,1,1,1,1,1,1,1,1,1,1,0,0,1,2,1,0,0,0,1,0,1,0,1,1,2,0,1,2,1,0,0,2,0,0,1,2,0,0,0,1,1,0,1,1,0,0,0,1,0,2,2,0,1,1,1,0,0,2,3,0,0,1,0,1,1,1,0,1,0,3,0,2,0,1,0,1,2,0,1,1,0,1,1,1,1,2,1,0,0,1,1,0,3,1,3,0,0,2,0,0,2,0,0,1,0,0,0,0,2,0,1,0,1,0,1,2,1,2,1,0,2,0,0,0,0,0,0,2,0,0,1,1,1,1,1,2,0,1,0,0,0,1,1,0,0,1,1,1,1,1,0,0,0,1,2,0,0,0,1,1,1,0,1,1,2,0,2,0,2,1,0,0,0,0,1,0,1,0,0,0,0,1,0,2,0,0,0,2,0,1,0,1,0,1,0,1,2,2,1,0,0])"
   ]
  },
  {
   "cell_type": "code",
   "execution_count": 56,
   "id": "ef407a07-c9a7-42d0-aa95-40cd69870c71",
   "metadata": {},
   "outputs": [],
   "source": [
    "datas = [data2, data1, data3]"
   ]
  },
  {
   "cell_type": "code",
   "execution_count": 57,
   "id": "3340ad21-c49d-41eb-a309-2dd6458f83b4",
   "metadata": {},
   "outputs": [],
   "source": [
    "def get_median_v2(input_num):\n",
    "\tinput_num = sorted(input_num) #주어진 리스트 정렬하기\n",
    "\tcenter_Index=len(input_num)//2 #center_Index 값 할당하기\n",
    "\treturn (input_num[center_Index]+input_num[-center_Index -1])/2 "
   ]
  },
  {
   "cell_type": "code",
   "execution_count": 101,
   "id": "db690581-d355-437f-b8dc-85c3276a1810",
   "metadata": {},
   "outputs": [],
   "source": [
    "random_state = [114116, 119179, 114287, 116702, 116725,]\n",
    "datas = []\n",
    "t_version=\"T_01_13\"\n",
    "for random_state in random_states:\n",
    "    row = !echo 'select matched_cnts from rndforest where version=\"{t_version}\" and random_state={random_state}' | sqlite3 ../db/metrics.db\n",
    "    cnts = [int(i) for i in row[0].split(',')]\n",
    "    count = 0\n",
    "    for cnt in cnts:\n",
    "        if cnt >=3:\n",
    "            count += 1\n",
    "    datas.append([random_state, cnts, count, ])"
   ]
  },
  {
   "cell_type": "code",
   "execution_count": 106,
   "id": "32b93f4f-28b2-4e9a-8f83-d74808c733fb",
   "metadata": {},
   "outputs": [
    {
     "name": "stdout",
     "output_type": "stream",
     "text": [
      "114116 16\n",
      "114287 10\n",
      "114905 15\n",
      "116469 11\n",
      "117668 15\n",
      "118407 15\n",
      "118991 15\n",
      "119179 6\n"
     ]
    }
   ],
   "source": [
    "random_states = [114116, 114287, 114905, 116469, 117668, 118407, 118991, 119179]\n",
    "t_version=\"T_01_95\"\n",
    "for random_state in random_states:\n",
    "    row = !echo 'select matched_cnts from rndforest where version=\"{t_version}\" and random_state={random_state}' | sqlite3 ../db/metrics.db\n",
    "    \n",
    "    cnts = row[0].split(',')\n",
    "    count = 0\n",
    "    for cnt in cnts:\n",
    "        if int(cnt) >=3:\n",
    "            count += 1\n",
    "    print(random_state, count)"
   ]
  },
  {
   "cell_type": "code",
   "execution_count": 107,
   "id": "21295162-cfd0-4c7c-9d06-2768c7a40466",
   "metadata": {},
   "outputs": [
    {
     "name": "stdout",
     "output_type": "stream",
     "text": [
      "116700 11\n",
      "116701 3\n",
      "116702 10\n",
      "116703 8\n",
      "116704 12\n",
      "116705 6\n",
      "116706 7\n",
      "116707 4\n",
      "116708 7\n",
      "116709 6\n",
      "116710 7\n",
      "116711 6\n",
      "116712 6\n",
      "116713 7\n",
      "116714 8\n",
      "116715 6\n",
      "116716 6\n",
      "116717 8\n",
      "116718 6\n",
      "116719 7\n",
      "116720 6\n",
      "116721 9\n",
      "116722 7\n",
      "116723 12\n",
      "116724 8\n",
      "116725 11\n",
      "116726 9\n",
      "116727 9\n",
      "116728 6\n",
      "116729 3\n",
      "116730 8\n",
      "116731 10\n",
      "116732 8\n",
      "116733 6\n",
      "116734 9\n",
      "116735 9\n",
      "116736 7\n",
      "116737 12\n",
      "116738 8\n",
      "116739 5\n",
      "116740 13\n",
      "116741 11\n",
      "116742 7\n",
      "116743 11\n",
      "116744 9\n",
      "116745 8\n",
      "116746 6\n",
      "116747 7\n",
      "116748 10\n",
      "116749 7\n"
     ]
    }
   ],
   "source": [
    "t_version=\"T_01_13\"\n",
    "random_states = [i for i in range(116700, 116700+50)]\n",
    "for random_state in random_states:\n",
    "    row = !echo 'select matched_cnts from rndforest where version=\"{t_version}\" and random_state={random_state}' | sqlite3 ../db/metrics.db\n",
    "    cnts = row[0].split(',')\n",
    "    count = 0\n",
    "    for cnt in cnts:\n",
    "        if int(cnt) >=3:\n",
    "            count += 1\n",
    "    print(random_state, count)"
   ]
  },
  {
   "cell_type": "code",
   "execution_count": 92,
   "id": "edcd9e24-aeb2-4c40-b6b0-aff878f1ce5d",
   "metadata": {},
   "outputs": [
    {
     "name": "stdout",
     "output_type": "stream",
     "text": [
      " len = 10\n",
      " len = 477\n",
      " len = 477\n",
      " len = 477\n",
      " len = 477\n",
      " len = 477\n",
      " len = 477\n",
      " len = 477\n",
      " len = 477\n",
      " len = 477\n",
      " len = 10\n",
      " len = 477\n",
      " len = 477\n",
      " len = 477\n",
      " len = 477\n",
      " len = 477\n",
      " len = 477\n",
      " len = 477\n",
      " len = 477\n",
      " len = 477\n",
      " len = 10\n",
      " len = 477\n",
      " len = 477\n",
      " len = 477\n",
      " len = 477\n",
      " len = 477\n",
      " len = 477\n",
      " len = 477\n",
      " len = 477\n",
      " len = 477\n",
      " len = 10\n",
      " len = 477\n",
      " len = 477\n",
      " len = 477\n",
      " len = 477\n",
      " len = 477\n",
      " len = 477\n",
      " len = 477\n",
      " len = 477\n",
      " len = 477\n",
      " len = 10\n",
      " len = 477\n",
      " len = 477\n",
      " len = 477\n",
      " len = 477\n",
      " len = 477\n",
      " len = 477\n",
      " len = 477\n",
      " len = 477\n",
      " len = 477\n"
     ]
    }
   ],
   "source": [
    "import statistics\n",
    "\n",
    "t_width = []\n",
    "for data in datas:\n",
    "    # print(f' len = {data[1]}')\n",
    "    print(f' len = {len(data[1])}')\n",
    "    width = []\n",
    "    check_pos = 0\n",
    "    for i in range(len(data[1])):\n",
    "        if data[1][i] >= 3:\n",
    "            width.append(i-check_pos)\n",
    "            check_pos = i\n",
    "        else:\n",
    "            if i == (len(data[1]) - 1):\n",
    "                width.append(i-check_pos)            \n",
    "                check_pos = i\n",
    "    mean_val = statistics.mean(width)\n",
    "    median = get_median_v2(width)\n",
    "    # width1 = width.copy()\n",
    "    # width1.remove(max(width))\n",
    "    # width1.remove(min(width))\n",
    "    t_width.append({\n",
    "        'random_state': data[0],\n",
    "        'width': width,\n",
    "        'width_len': len(width),\n",
    "        'width_avg': sum(width)/len(width),\n",
    "        'width_sum': sum(width),\n",
    "        'width_median': median,\n",
    "        'width_mean': mean_val,\n",
    "        'mean_diff': 55-mean_val,\n",
    "        # 'new_width_mean': statistics.mean(width1),\n",
    "    })\n",
    "    "
   ]
  },
  {
   "cell_type": "code",
   "execution_count": 93,
   "id": "4dbe88b9-0129-46d0-bcdd-5e003b91bc19",
   "metadata": {},
   "outputs": [
    {
     "name": "stdout",
     "output_type": "stream",
     "text": [
      "{'random_state': 116700, 'width': [9], 'width_len': 1, 'width_avg': 9.0, 'width_sum': 9, 'width_median': 9.0, 'width_mean': 9, 'mean_diff': 46}\n",
      "{'random_state': 116701, 'width': [19, 66, 19, 35, 113, 80, 31, 11, 100, 2], 'width_len': 10, 'width_avg': 47.6, 'width_sum': 476, 'width_median': 33.0, 'width_mean': 47.6, 'mean_diff': 7.399999999999999}\n",
      "{'random_state': 116702, 'width': [8, 57, 9, 44, 1, 15, 20, 128, 18, 2, 20, 13, 1, 3, 12, 34, 29, 33, 29], 'width_len': 19, 'width_avg': 25.05263157894737, 'width_sum': 476, 'width_median': 18.0, 'width_mean': 25.05263157894737, 'mean_diff': 29.94736842105263}\n",
      "{'random_state': 116703, 'width': [20, 10, 65, 12, 55, 15, 240, 44, 10, 5], 'width_len': 10, 'width_avg': 47.6, 'width_sum': 476, 'width_median': 17.5, 'width_mean': 47.6, 'mean_diff': 7.399999999999999}\n",
      "{'random_state': 116704, 'width': [83, 150, 78, 58, 30, 77], 'width_len': 6, 'width_avg': 79.33333333333333, 'width_sum': 476, 'width_median': 77.5, 'width_mean': 79.33333333333333, 'mean_diff': -24.33333333333333}\n",
      "{'random_state': 116705, 'width': [184, 48, 43, 5, 3, 170, 23], 'width_len': 7, 'width_avg': 68.0, 'width_sum': 476, 'width_median': 43.0, 'width_mean': 68, 'mean_diff': -13}\n",
      "{'random_state': 116706, 'width': [31, 42, 4, 42, 5, 16, 32, 24, 72, 18, 66, 2, 46, 76], 'width_len': 14, 'width_avg': 34.0, 'width_sum': 476, 'width_median': 31.5, 'width_mean': 34, 'mean_diff': 21}\n",
      "{'random_state': 116707, 'width': [51, 5, 35, 66, 14, 57, 14, 9, 29, 22, 174], 'width_len': 11, 'width_avg': 43.27272727272727, 'width_sum': 476, 'width_median': 29.0, 'width_mean': 43.27272727272727, 'mean_diff': 11.727272727272727}\n",
      "{'random_state': 116708, 'width': [2, 27, 58, 20, 41, 148, 1, 46, 3, 21, 1, 19, 3, 69, 17], 'width_len': 15, 'width_avg': 31.733333333333334, 'width_sum': 476, 'width_median': 20.0, 'width_mean': 31.733333333333334, 'mean_diff': 23.266666666666666}\n",
      "{'random_state': 116709, 'width': [22, 42, 27, 20, 96, 9, 118, 27, 5, 2, 46, 47, 15], 'width_len': 13, 'width_avg': 36.61538461538461, 'width_sum': 476, 'width_median': 27.0, 'width_mean': 36.61538461538461, 'mean_diff': 18.384615384615387}\n",
      "{'random_state': 116710, 'width': [9], 'width_len': 1, 'width_avg': 9.0, 'width_sum': 9, 'width_median': 9.0, 'width_mean': 9, 'mean_diff': 46}\n",
      "{'random_state': 116711, 'width': [7, 16, 112, 129, 63, 101, 3, 27, 18], 'width_len': 9, 'width_avg': 52.888888888888886, 'width_sum': 476, 'width_median': 27.0, 'width_mean': 52.888888888888886, 'mean_diff': 2.1111111111111143}\n",
      "{'random_state': 116712, 'width': [41, 1, 39, 139, 124, 41, 16, 75], 'width_len': 8, 'width_avg': 59.5, 'width_sum': 476, 'width_median': 41.0, 'width_mean': 59.5, 'mean_diff': -4.5}\n",
      "{'random_state': 116713, 'width': [2, 11, 59, 160, 13, 21, 78, 5, 127], 'width_len': 9, 'width_avg': 52.888888888888886, 'width_sum': 476, 'width_median': 21.0, 'width_mean': 52.888888888888886, 'mean_diff': 2.1111111111111143}\n",
      "{'random_state': 116714, 'width': [12, 26, 46, 23, 59, 15, 70, 84, 4, 12, 30, 37, 20, 38], 'width_len': 14, 'width_avg': 34.0, 'width_sum': 476, 'width_median': 28.0, 'width_mean': 34, 'mean_diff': 21}\n",
      "{'random_state': 116715, 'width': [8, 64, 27, 125, 9, 69, 17, 20, 28, 68, 41], 'width_len': 11, 'width_avg': 43.27272727272727, 'width_sum': 476, 'width_median': 28.0, 'width_mean': 43.27272727272727, 'mean_diff': 11.727272727272727}\n",
      "{'random_state': 116716, 'width': [46, 37, 41, 9, 28, 32, 56, 7, 27, 5, 46, 26, 82, 34], 'width_len': 14, 'width_avg': 34.0, 'width_sum': 476, 'width_median': 33.0, 'width_mean': 34, 'mean_diff': 21}\n",
      "{'random_state': 116717, 'width': [3, 39, 100, 56, 76, 5, 27, 21, 7, 20, 122], 'width_len': 11, 'width_avg': 43.27272727272727, 'width_sum': 476, 'width_median': 27.0, 'width_mean': 43.27272727272727, 'mean_diff': 11.727272727272727}\n",
      "{'random_state': 116718, 'width': [35, 13, 35, 7, 4, 24, 22, 182, 108, 46], 'width_len': 10, 'width_avg': 47.6, 'width_sum': 476, 'width_median': 29.5, 'width_mean': 47.6, 'mean_diff': 7.399999999999999}\n",
      "{'random_state': 116719, 'width': [52, 52, 80, 41, 33, 10, 68, 7, 18, 115], 'width_len': 10, 'width_avg': 47.6, 'width_sum': 476, 'width_median': 46.5, 'width_mean': 47.6, 'mean_diff': 7.399999999999999}\n",
      "{'random_state': 116720, 'width': [6, 2, 1], 'width_len': 3, 'width_avg': 3.0, 'width_sum': 9, 'width_median': 2.0, 'width_mean': 3, 'mean_diff': 52}\n",
      "{'random_state': 116721, 'width': [10, 40, 65, 61, 54, 106, 140], 'width_len': 7, 'width_avg': 68.0, 'width_sum': 476, 'width_median': 61.0, 'width_mean': 68, 'mean_diff': -13}\n",
      "{'random_state': 116722, 'width': [46, 95, 14, 3, 23, 5, 28, 11, 58, 13, 7, 68, 51, 37, 17], 'width_len': 15, 'width_avg': 31.733333333333334, 'width_sum': 476, 'width_median': 23.0, 'width_mean': 31.733333333333334, 'mean_diff': 23.266666666666666}\n",
      "{'random_state': 116723, 'width': [57, 168, 58, 193], 'width_len': 4, 'width_avg': 119.0, 'width_sum': 476, 'width_median': 113.0, 'width_mean': 119, 'mean_diff': -64}\n",
      "{'random_state': 116724, 'width': [23, 6, 1, 53, 67, 204, 69, 53], 'width_len': 8, 'width_avg': 59.5, 'width_sum': 476, 'width_median': 53.0, 'width_mean': 59.5, 'mean_diff': -4.5}\n",
      "{'random_state': 116725, 'width': [29, 6, 19, 32, 31, 32, 32, 26, 11, 117, 4, 4, 2, 47, 22, 21, 41], 'width_len': 17, 'width_avg': 28.0, 'width_sum': 476, 'width_median': 26.0, 'width_mean': 28, 'mean_diff': 27}\n",
      "{'random_state': 116726, 'width': [42, 15, 11, 5, 19, 12, 47, 7, 6, 74, 126, 32, 48, 32], 'width_len': 14, 'width_avg': 34.0, 'width_sum': 476, 'width_median': 25.5, 'width_mean': 34, 'mean_diff': 21}\n",
      "{'random_state': 116727, 'width': [1, 267, 86, 31, 2, 18, 16, 23, 11, 21], 'width_len': 10, 'width_avg': 47.6, 'width_sum': 476, 'width_median': 19.5, 'width_mean': 47.6, 'mean_diff': 7.399999999999999}\n",
      "{'random_state': 116728, 'width': [65, 19, 207, 34, 46, 30, 9, 11, 23, 32], 'width_len': 10, 'width_avg': 47.6, 'width_sum': 476, 'width_median': 31.0, 'width_mean': 47.6, 'mean_diff': 7.399999999999999}\n",
      "{'random_state': 116729, 'width': [76, 34, 35, 27, 12, 15, 77, 69, 55, 14, 24, 24, 14], 'width_len': 13, 'width_avg': 36.61538461538461, 'width_sum': 476, 'width_median': 27.0, 'width_mean': 36.61538461538461, 'mean_diff': 18.384615384615387}\n",
      "{'random_state': 116730, 'width': [4, 5], 'width_len': 2, 'width_avg': 4.5, 'width_sum': 9, 'width_median': 4.5, 'width_mean': 4.5, 'mean_diff': 50.5}\n",
      "{'random_state': 116731, 'width': [40, 77, 3, 94, 69, 34, 37, 72, 10, 40], 'width_len': 10, 'width_avg': 47.6, 'width_sum': 476, 'width_median': 40.0, 'width_mean': 47.6, 'mean_diff': 7.399999999999999}\n",
      "{'random_state': 116732, 'width': [20, 52, 121, 129, 10, 81, 63], 'width_len': 7, 'width_avg': 68.0, 'width_sum': 476, 'width_median': 63.0, 'width_mean': 68, 'mean_diff': -13}\n",
      "{'random_state': 116733, 'width': [7, 1, 57, 159, 1, 85, 18, 11, 62, 66, 9], 'width_len': 11, 'width_avg': 43.27272727272727, 'width_sum': 476, 'width_median': 18.0, 'width_mean': 43.27272727272727, 'mean_diff': 11.727272727272727}\n",
      "{'random_state': 116734, 'width': [22, 57, 40, 62, 23, 23, 103, 9, 16, 13, 19, 11, 52, 11, 15], 'width_len': 15, 'width_avg': 31.733333333333334, 'width_sum': 476, 'width_median': 22.0, 'width_mean': 31.733333333333334, 'mean_diff': 23.266666666666666}\n",
      "{'random_state': 116735, 'width': [44, 40, 10, 79, 12, 35, 18, 76, 31, 7, 39, 85], 'width_len': 12, 'width_avg': 39.666666666666664, 'width_sum': 476, 'width_median': 37.0, 'width_mean': 39.666666666666664, 'mean_diff': 15.333333333333336}\n",
      "{'random_state': 116736, 'width': [1, 66, 58, 4, 52, 44, 78, 15, 35, 34, 8, 19, 62], 'width_len': 13, 'width_avg': 36.61538461538461, 'width_sum': 476, 'width_median': 35.0, 'width_mean': 36.61538461538461, 'mean_diff': 18.384615384615387}\n",
      "{'random_state': 116737, 'width': [111, 59, 6, 55, 103, 27, 9, 4, 51, 11, 15, 25], 'width_len': 12, 'width_avg': 39.666666666666664, 'width_sum': 476, 'width_median': 26.0, 'width_mean': 39.666666666666664, 'mean_diff': 15.333333333333336}\n",
      "{'random_state': 116738, 'width': [73, 10, 41, 30, 57, 141, 49, 75], 'width_len': 8, 'width_avg': 59.5, 'width_sum': 476, 'width_median': 53.0, 'width_mean': 59.5, 'mean_diff': -4.5}\n",
      "{'random_state': 116739, 'width': [12, 10, 46, 8, 68, 26, 32, 92, 2, 50, 130], 'width_len': 11, 'width_avg': 43.27272727272727, 'width_sum': 476, 'width_median': 32.0, 'width_mean': 43.27272727272727, 'mean_diff': 11.727272727272727}\n",
      "{'random_state': 116740, 'width': [9], 'width_len': 1, 'width_avg': 9.0, 'width_sum': 9, 'width_median': 9.0, 'width_mean': 9, 'mean_diff': 46}\n",
      "{'random_state': 116741, 'width': [57, 90, 82, 39, 54, 14, 21, 35, 34, 50], 'width_len': 10, 'width_avg': 47.6, 'width_sum': 476, 'width_median': 44.5, 'width_mean': 47.6, 'mean_diff': 7.399999999999999}\n",
      "{'random_state': 116742, 'width': [29, 86, 12, 10, 70, 20, 18, 92, 2, 47, 55, 35], 'width_len': 12, 'width_avg': 39.666666666666664, 'width_sum': 476, 'width_median': 32.0, 'width_mean': 39.666666666666664, 'mean_diff': 15.333333333333336}\n",
      "{'random_state': 116743, 'width': [17, 1, 68, 208, 38, 51, 15, 70, 2, 6], 'width_len': 10, 'width_avg': 47.6, 'width_sum': 476, 'width_median': 27.5, 'width_mean': 47.6, 'mean_diff': 7.399999999999999}\n",
      "{'random_state': 116744, 'width': [23, 60, 8, 58, 1, 48, 4, 18, 224, 29, 3], 'width_len': 11, 'width_avg': 43.27272727272727, 'width_sum': 476, 'width_median': 23.0, 'width_mean': 43.27272727272727, 'mean_diff': 11.727272727272727}\n",
      "{'random_state': 116745, 'width': [34, 47, 2, 28, 86, 55, 70, 31, 35, 35, 53], 'width_len': 11, 'width_avg': 43.27272727272727, 'width_sum': 476, 'width_median': 35.0, 'width_mean': 43.27272727272727, 'mean_diff': 11.727272727272727}\n",
      "{'random_state': 116746, 'width': [1, 18, 11, 12, 3, 3, 2, 239, 13, 19, 8, 39, 108], 'width_len': 13, 'width_avg': 36.61538461538461, 'width_sum': 476, 'width_median': 12.0, 'width_mean': 36.61538461538461, 'mean_diff': 18.384615384615387}\n",
      "{'random_state': 116747, 'width': [62, 20, 9, 8, 215, 2, 157, 3], 'width_len': 8, 'width_avg': 59.5, 'width_sum': 476, 'width_median': 14.5, 'width_mean': 59.5, 'mean_diff': -4.5}\n",
      "{'random_state': 116748, 'width': [27, 19, 64, 67, 140, 18, 12, 27, 97, 5], 'width_len': 10, 'width_avg': 47.6, 'width_sum': 476, 'width_median': 27.0, 'width_mean': 47.6, 'mean_diff': 7.399999999999999}\n",
      "{'random_state': 116749, 'width': [1, 7, 77, 60, 7, 112, 58, 42, 20, 92], 'width_len': 10, 'width_avg': 47.6, 'width_sum': 476, 'width_median': 50.0, 'width_mean': 47.6, 'mean_diff': 7.399999999999999}\n"
     ]
    }
   ],
   "source": [
    "for width in t_width:\n",
    "    print(width)"
   ]
  },
  {
   "cell_type": "code",
   "execution_count": 60,
   "id": "8913c137-c4da-437d-8657-3276f2930774",
   "metadata": {},
   "outputs": [
    {
     "data": {
      "text/plain": [
       "24.066666666666666"
      ]
     },
     "execution_count": 60,
     "metadata": {},
     "output_type": "execute_result"
    }
   ],
   "source": [
    "361 / 15"
   ]
  },
  {
   "cell_type": "code",
   "execution_count": 44,
   "id": "0e8c1029-b6ee-4be1-ac71-dff6b5dc0753",
   "metadata": {},
   "outputs": [
    {
     "name": "stdout",
     "output_type": "stream",
     "text": [
      "38\n"
     ]
    }
   ],
   "source": [
    "68 + 27\n",
    "43 + 27\n",
    "print(55-17)"
   ]
  },
  {
   "cell_type": "code",
   "execution_count": 36,
   "id": "4f6ca433-8222-41e5-85df-a50124818072",
   "metadata": {},
   "outputs": [
    {
     "data": {
      "text/plain": [
       "61"
      ]
     },
     "execution_count": 36,
     "metadata": {},
     "output_type": "execute_result"
    }
   ],
   "source": [
    "38+23"
   ]
  },
  {
   "cell_type": "code",
   "execution_count": 37,
   "id": "dabb2ac7-f41c-4973-929a-e4212c2a770b",
   "metadata": {},
   "outputs": [
    {
     "data": {
      "text/plain": [
       "3.235294117647059"
      ]
     },
     "execution_count": 37,
     "metadata": {},
     "output_type": "execute_result"
    }
   ],
   "source": [
    "55 / 17"
   ]
  },
  {
   "cell_type": "code",
   "execution_count": 38,
   "id": "7a93ad51-2537-4f40-a503-953fab7a710f",
   "metadata": {},
   "outputs": [
    {
     "data": {
      "text/plain": [
       "74.405"
      ]
     },
     "execution_count": 38,
     "metadata": {},
     "output_type": "execute_result"
    }
   ],
   "source": [
    "23 * 3.235"
   ]
  },
  {
   "cell_type": "code",
   "execution_count": 47,
   "id": "eda73626-def9-4862-87c0-a09c489ea8da",
   "metadata": {},
   "outputs": [
    {
     "data": {
      "text/plain": [
       "54.999999869999996"
      ]
     },
     "execution_count": 47,
     "metadata": {},
     "output_type": "execute_result"
    }
   ],
   "source": [
    "17 * 3.23529411"
   ]
  },
  {
   "cell_type": "markdown",
   "id": "733a7dc3-4f09-4c31-9ab4-4c87e9b72ce7",
   "metadata": {},
   "source": [
    "# 46.0 * 3.235"
   ]
  },
  {
   "cell_type": "code",
   "execution_count": 50,
   "id": "5735c304-20be-4280-9988-c341f09d0694",
   "metadata": {},
   "outputs": [
    {
     "data": {
      "text/plain": [
       "31"
      ]
     },
     "execution_count": 50,
     "metadata": {},
     "output_type": "execute_result"
    }
   ],
   "source": [
    "55-24"
   ]
  },
  {
   "cell_type": "markdown",
   "id": "17623015-cdd8-4b96-a3e5-b7de58188326",
   "metadata": {},
   "source": [
    "41+24"
   ]
  },
  {
   "cell_type": "code",
   "execution_count": 51,
   "id": "1ee2226a-2471-42b7-9e79-d22324ed0296",
   "metadata": {},
   "outputs": [
    {
     "data": {
      "text/plain": [
       "3.235294117647059"
      ]
     },
     "execution_count": 51,
     "metadata": {},
     "output_type": "execute_result"
    }
   ],
   "source": [
    "55 / 17"
   ]
  },
  {
   "cell_type": "code",
   "execution_count": null,
   "id": "091126ca-d1dd-4ce9-8e42-fbe19c14bd5d",
   "metadata": {},
   "outputs": [],
   "source": []
  }
 ],
 "metadata": {
  "kernelspec": {
   "display_name": "Python 3 (ipykernel)",
   "language": "python",
   "name": "python3"
  },
  "language_info": {
   "codemirror_mode": {
    "name": "ipython",
    "version": 3
   },
   "file_extension": ".py",
   "mimetype": "text/x-python",
   "name": "python",
   "nbconvert_exporter": "python",
   "pygments_lexer": "ipython3",
   "version": "3.12.10"
  }
 },
 "nbformat": 4,
 "nbformat_minor": 5
}
