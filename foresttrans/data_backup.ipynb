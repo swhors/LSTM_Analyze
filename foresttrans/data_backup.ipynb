{
 "cells": [
  {
   "cell_type": "code",
   "execution_count": 3,
   "id": "72db9a96-d93f-4c9f-8e04-cc21ee9822aa",
   "metadata": {},
   "outputs": [
    {
     "name": "stderr",
     "output_type": "stream",
     "text": [
      "100%|██████████| 3600/3600 [11:11<00:00,  5.36it/s]"
     ]
    },
    {
     "name": "stdout",
     "output_type": "stream",
     "text": [
      "total_cnt =  3600\n",
      "write_cnt =  1449\n",
      "fail_cnt  =  0\n",
      "exist_cnt =  2151\n"
     ]
    },
    {
     "name": "stderr",
     "output_type": "stream",
     "text": [
      "\n"
     ]
    }
   ],
   "source": [
    "from tqdm import tqdm\n",
    "\"\"\"\n",
    "(id INTEGER PRIMARY KEY AUTOINCREMENT,\n",
    " n_estimator INTEGER,\n",
    " data_length INTEGER,\n",
    " random_state INTEGER,\n",
    " rounds TEXT,\n",
    " matched_cnts TEXT,\n",
    " sum_val INTEGER,\n",
    " version TEXT)\n",
    "\"\"\"\n",
    "n_estimator = \"1\"\n",
    "data_length = \"1\"\n",
    "random_state = \"\"\n",
    "rounds = \"\"\n",
    "matched_cnts = \"\"\n",
    "sum_val = \"\"\n",
    "version = \"\"\n",
    "\n",
    "read_sql = 'select * from rndforest where version=\\\\\"T_01_16\\\\\" order by random_state'\n",
    "\n",
    "rows = !echo \"{read_sql}\"|sqlite3 ../db/metrics_5.db\n",
    "cnt = 0\n",
    "write_cnt = 0\n",
    "fail_cnt = 0\n",
    "exist_cnt = 0\n",
    "exist_column = []\n",
    "error_column = []\n",
    "for row in tqdm(rows):\n",
    "    cols = row.split('|')\n",
    "    # print('cols',cols)\n",
    "    # if cnt > 1:\n",
    "    #     break\n",
    "    cnt += 1\n",
    "    check_sql = f'select * from rndforest where n_estimator={cols[1]} and data_length={cols[2]} and random_state={cols[3]} and version=\\\\\"{cols[7]}\\\\\"'\n",
    "    find_row = !echo \"{check_sql}\"|sqlite3 ../db/metrics.db\n",
    "    if len(find_row) == 0 or len(find_row[0].split('|')) != 8:\n",
    "        write_sql = f'insert into rndforest(n_estimator, data_length, random_state, rounds, matched_cnts, sum_val, version) ' +\\\n",
    "                    f' values({cols[1]}, {cols[2]}, {cols[3]}, \\\\\"{cols[4]}\\\\\", \\\\\"{cols[5]}\\\\\", {cols[6]}, \\\\\"{cols[7]}\\\\\")'\n",
    "        !echo \"{write_sql}\"|sqlite3 ../db/metrics.db\n",
    "        write_cnt += 1\n",
    "        # !echo \"{write_sql}\"\n",
    "    else:\n",
    "        if len(find_row) == 1 and len(find_row[0].split('|')) == 8:\n",
    "            # print(f' exist : {cols[1]}, {cols[2]}, {cols[3]}')\n",
    "            exist_column.append((cols[1], cols[2], cols[3]))\n",
    "            exist_cnt += 1\n",
    "        else:\n",
    "            error_column.append(find_row)\n",
    "            # print('error : ', find_row)\n",
    "            fail_cnt += 1\n",
    "\n",
    "print('total_cnt = ', cnt)\n",
    "print('write_cnt = ', write_cnt)\n",
    "print('fail_cnt  = ', fail_cnt)\n",
    "print('exist_cnt = ', exist_cnt)"
   ]
  },
  {
   "cell_type": "code",
   "execution_count": 1,
   "id": "51534088-dc23-4c70-a627-eaefa886de7c",
   "metadata": {},
   "outputs": [
    {
     "name": "stderr",
     "output_type": "stream",
     "text": [
      "100%|██████████| 3600/3600 [13:47<00:00,  4.35it/s]"
     ]
    },
    {
     "name": "stdout",
     "output_type": "stream",
     "text": [
      "total_cnt =  3600\n",
      "write_cnt =  1865\n",
      "fail_cnt  =  500\n",
      "exist_cnt =  1235\n"
     ]
    },
    {
     "name": "stderr",
     "output_type": "stream",
     "text": [
      "\n"
     ]
    }
   ],
   "source": [
    "from tqdm import tqdm\n",
    "\"\"\"\n",
    "(id INTEGER PRIMARY KEY AUTOINCREMENT,\n",
    " n_estimator INTEGER,\n",
    " data_length INTEGER,\n",
    " random_state INTEGER,\n",
    " rounds TEXT,\n",
    " matched_cnts TEXT,\n",
    " sum_val INTEGER,\n",
    " version TEXT)\n",
    "\"\"\"\n",
    "n_estimator = \"1\"\n",
    "data_length = \"1\"\n",
    "random_state = \"\"\n",
    "rounds = \"\"\n",
    "matched_cnts = \"\"\n",
    "sum_val = \"\"\n",
    "version = \"\"\n",
    "\n",
    "read_sql = 'select * from rndforest where version=\\\\\"T_01_16\\\\\" order by random_state'\n",
    "\n",
    "rows = !echo \"{read_sql}\"|sqlite3 ../db/metrics_5.db\n",
    "cnt = 0\n",
    "write_cnt = 0\n",
    "fail_cnt = 0\n",
    "exist_cnt = 0\n",
    "exist_column = []\n",
    "error_column = []\n",
    "for row in tqdm(rows):\n",
    "    cols = row.split('|')\n",
    "    # print('cols',cols)\n",
    "    # if cnt > 1:\n",
    "    #     break\n",
    "    cnt += 1\n",
    "    check_sql = f'select * from rndforest where n_estimator={cols[1]} and data_length={cols[2]} and random_state={cols[3]} and version=\\\\\"{cols[7]}\\\\\"'\n",
    "    find_row = !echo \"{check_sql}\"|sqlite3 ../db/metrics.db\n",
    "    if len(find_row) == 0 or len(find_row[0].split('|')) != 8:\n",
    "        write_sql = f'insert into rndforest(n_estimator, data_length, random_state, rounds, matched_cnts, sum_val, version) ' +\\\n",
    "                    f' values({cols[1]}, {cols[2]}, {cols[3]}, \\\\\"{cols[4]}\\\\\", \\\\\"{cols[5]}\\\\\", {cols[6]}, \\\\\"{cols[7]}\\\\\")'\n",
    "        !echo \"{write_sql}\"|sqlite3 ../db/metrics.db\n",
    "        write_cnt += 1\n",
    "        # !echo \"{write_sql}\"\n",
    "    else:\n",
    "        if len(find_row) == 1 and len(find_row[0].split('|')) == 8:\n",
    "            # print(f' exist : {cols[1]}, {cols[2]}, {cols[3]}')\n",
    "            exist_column.append((cols[1], cols[2], cols[3]))\n",
    "            exist_cnt += 1\n",
    "        else:\n",
    "            error_column.append(find_row)\n",
    "            # print('error : ', find_row)\n",
    "            fail_cnt += 1\n",
    "\n",
    "print('total_cnt = ', cnt)\n",
    "print('write_cnt = ', write_cnt)\n",
    "print('fail_cnt  = ', fail_cnt)\n",
    "print('exist_cnt = ', exist_cnt)"
   ]
  },
  {
   "cell_type": "code",
   "execution_count": 5,
   "id": "4c49e402-d954-4c46-a363-5f5097fcdf20",
   "metadata": {},
   "outputs": [
    {
     "data": {
      "text/plain": [
       "3314"
      ]
     },
     "execution_count": 5,
     "metadata": {},
     "output_type": "execute_result"
    }
   ],
   "source": [
    "1449 + 1865"
   ]
  },
  {
   "cell_type": "code",
   "execution_count": 6,
   "id": "42337cde-64b5-4df6-83f0-784877e781b9",
   "metadata": {},
   "outputs": [
    {
     "data": {
      "text/plain": [
       "286"
      ]
     },
     "execution_count": 6,
     "metadata": {},
     "output_type": "execute_result"
    }
   ],
   "source": [
    "2151 - 1865"
   ]
  },
  {
   "cell_type": "code",
   "execution_count": null,
   "id": "71fe02e6-7fc1-4196-95ad-461e5fb0ff1d",
   "metadata": {},
   "outputs": [],
   "source": [
    "for error in error_column:\n",
    "    print(error)"
   ]
  },
  {
   "cell_type": "code",
   "execution_count": null,
   "id": "ff5a1992-2c49-4f59-88cb-f74cab79ff6c",
   "metadata": {},
   "outputs": [],
   "source": []
  },
  {
   "cell_type": "code",
   "execution_count": 13,
   "id": "2383f07f-cb6b-40d8-a99d-04f1ada4bbdb",
   "metadata": {},
   "outputs": [
    {
     "name": "stderr",
     "output_type": "stream",
     "text": [
      "100%|██████████| 3600/3600 [00:00<00:00, 3523802.66it/s]"
     ]
    },
    {
     "name": "stdout",
     "output_type": "stream",
     "text": [
      "multiple_list's len = 0\n"
     ]
    },
    {
     "name": "stderr",
     "output_type": "stream",
     "text": [
      "\n"
     ]
    }
   ],
   "source": [
    "from tqdm import tqdm\n",
    "\"\"\"\n",
    "(id INTEGER PRIMARY KEY AUTOINCREMENT,\n",
    " n_estimator INTEGER,\n",
    " data_length INTEGER,\n",
    " random_state INTEGER,\n",
    " rounds TEXT,\n",
    " matched_cnts TEXT,\n",
    " sum_val INTEGER,\n",
    " version TEXT)\n",
    "\"\"\"\n",
    "n_estimator = \"1\"\n",
    "data_length = \"1\"\n",
    "random_state = \"\"\n",
    "rounds = \"\"\n",
    "matched_cnts = \"\"\n",
    "sum_val = \"\"\n",
    "version = \"\"\n",
    "\n",
    "data_dicts = {}\n",
    "multiple_list = []\n",
    "\n",
    "read_sql = 'select random_state from rndforest where version=\\\\\"T_01_16\\\\\" order by random_state'\n",
    "\n",
    "rows = !echo \"{read_sql}\"|sqlite3 ../db/metrics_5.db\n",
    "cnt = 0\n",
    "write_cnt = 0\n",
    "fail_cnt = 0\n",
    "exist_cnt = 0\n",
    "exist_column = []\n",
    "error_column = []\n",
    "for row in tqdm(rows):\n",
    "    # cols = row.split('|')\n",
    "    # print('cols',cols)\n",
    "    # if cnt > 1:\n",
    "    #     break\n",
    "    # print(row)\n",
    "    if row not in data_dicts:\n",
    "        data_dicts[row] = 1\n",
    "    else:\n",
    "        data_dicts[row] += 1\n",
    "        multiple_list.append(row)\n",
    "\n",
    "print(f'multiple_list\\'s len = {len(multiple_list)}')\n",
    "for multiple in multiple_list:\n",
    "    print(multiple)"
   ]
  },
  {
   "cell_type": "code",
   "execution_count": 8,
   "id": "000e3b8c-02c0-4ecd-b163-bc8dcfba5649",
   "metadata": {},
   "outputs": [
    {
     "name": "stdout",
     "output_type": "stream",
     "text": [
      "[]\n"
     ]
    }
   ],
   "source": [
    "print(multiple_list)"
   ]
  },
  {
   "cell_type": "code",
   "execution_count": null,
   "id": "ece43c3b-bac8-4739-89a8-7c74ce45c9a2",
   "metadata": {},
   "outputs": [],
   "source": []
  }
 ],
 "metadata": {
  "kernelspec": {
   "display_name": "Python 3 (ipykernel)",
   "language": "python",
   "name": "python3"
  },
  "language_info": {
   "codemirror_mode": {
    "name": "ipython",
    "version": 3
   },
   "file_extension": ".py",
   "mimetype": "text/x-python",
   "name": "python",
   "nbconvert_exporter": "python",
   "pygments_lexer": "ipython3",
   "version": "3.12.10"
  }
 },
 "nbformat": 4,
 "nbformat_minor": 5
}
