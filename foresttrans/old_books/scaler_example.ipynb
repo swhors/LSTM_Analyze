{
 "cells": [
  {
   "cell_type": "code",
   "execution_count": null,
   "id": "dd941a31-aa22-47b0-813f-2e5150709087",
   "metadata": {},
   "outputs": [],
   "source": [
    "from sklearn.preprocessing import MinMaxScaler\n",
    "import numpy as np\n",
    "\n",
    "# Example data\n",
    "data = np.array([[1], [2], [3], [4], [5]])\n",
    "\n",
    "# Initialize and fit-transform the scaler\n",
    "scaler = MinMaxScaler()\n",
    "scaled_data = scaler.fit_transform(data)\n",
    "\n",
    "print(\"Scaled Data:\")\n",
    "print(scaled_data)\n",
    "\n",
    "new_scaled = np.array([0.33, 0.5, 0.83456, 0.845])\n",
    "new_scaled = new_scaled.reshape(-1, 1)\n",
    "\n",
    "# Restore the original data using inverse_transform\n",
    "restored_data = scaler.inverse_transform(scaled_data)\n",
    "restored_data1 = scaler.inverse_transform(new_scaled)\n",
    "print(\"\\nRestored Data:\")\n",
    "print(restored_data)\n",
    "print(restored_data1)"
   ]
  }
 ],
 "metadata": {
  "kernelspec": {
   "display_name": "Python 3 (ipykernel)",
   "language": "python",
   "name": "python3"
  },
  "language_info": {
   "codemirror_mode": {
    "name": "ipython",
    "version": 3
   },
   "file_extension": ".py",
   "mimetype": "text/x-python",
   "name": "python",
   "nbconvert_exporter": "python",
   "pygments_lexer": "ipython3",
   "version": "3.12.10"
  }
 },
 "nbformat": 4,
 "nbformat_minor": 5
}
