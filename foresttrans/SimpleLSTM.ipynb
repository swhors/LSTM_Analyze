{
 "cells": [
  {
   "cell_type": "code",
   "execution_count": 23,
   "id": "ea5f1551-d867-454b-a16e-1e1e3cfdb76d",
   "metadata": {},
   "outputs": [],
   "source": [
    "import tensorflow as tf\n",
    "from tensorflow.keras.models import Sequential\n",
    "from tensorflow.keras.layers import LSTM, Dense\n",
    "import numpy as np\n"
   ]
  },
  {
   "cell_type": "code",
   "execution_count": 15,
   "id": "08b27c02-3545-4753-8e6b-ad6808735b12",
   "metadata": {},
   "outputs": [],
   "source": [
    "results = {}"
   ]
  },
  {
   "cell_type": "code",
   "execution_count": 35,
   "id": "3ab9080c-64dd-41c2-b702-b9408d2e9ac4",
   "metadata": {},
   "outputs": [],
   "source": [
    "def lstm_predict(train_X, train_y, test_X):\n",
    "    \"\"\" lstm_predict \"\"\"\n",
    "    model = Sequential()\n",
    "    model.add(LSTM(50, activation='relu', input_shape=(10, 1))) # 50 LSTM units\n",
    "    model.add(Dense(1)) # Output layer\n",
    "    # Compile the model\n",
    "    model.compile(optimizer='adam', loss='mse')\n",
    "    # Train the model\n",
    "    model.fit(train_X, train_y, epochs=100, verbose=0)\n",
    "    # Make predictions\n",
    "    X_test = np.random.rand(5, 10, 1)\n",
    "    predictions = model.predict(test_X)\n",
    "    return predictions"
   ]
  },
  {
   "cell_type": "code",
   "execution_count": 36,
   "id": "ca3df2fe-df60-424d-a916-6ab35f4939f9",
   "metadata": {},
   "outputs": [
    {
     "name": "stdout",
     "output_type": "stream",
     "text": [
      "['1175,1174,1173,1172,1171,1170,1169,1168,1167,1166,1165,1164,1163,1162,1161,1160,1159,1158,1157,1156,1155,1154,1153,1152,1151,1150,1149,1148,1147,1146,1145,1144,1143,1142,1141,1140,1139,1138,1137,1136,1135,1134,1133,1132,1131,1130,1129,1128,1127,1126,1125,1124,1123,1122,1121,1120,1119,1118,1117,1116,1115,1114,1113,1112,1111,1110,1109,1108,1107,1106,1105,1104,1103,1102,1101,1100,1099,1098,1097,1096,1095,1094,1093,1092,1091,1090,1089,1088,1087,1086,1085,1084,1083,1082,1081,1080,1079,1078,1077,1076,1075,1074,1073,1072,1071,1070,1069,1068,1067,1066,1065,1064,1063,1062,1061,1060,1059,1058,1057,1056,1055,1054,1053,1052,1051,1050,1049,1048,1047,1046,1045,1044,1043,1042,1041,1040,1039,1038,1037,1036,1035,1034,1033,1032,1031,1030,1029,1028,1027,1026,1025,1024,1023,1022,1021,1020,1019,1018,1017,1016,1015,1014,1013,1012,1011,1010,1009,1008,1007,1006,1005,1004,1003,1002,1001,1000,999,998,997,996,995,994,993,992,991,990,989,988,987,986,985,984,983,982,981,980,979,978,977,976,975,974,973,972,971,970,969,968,967,966,965,964,963,962,961,960,959,958,957,956,955,954,953,952,951,950,949,948,947,946,945,944,943,942,941,940,939,938,937,936,935,934,933,932,931,930,929,928,927,926,925,924,923,922,921,920,919,918,917,916,915,914,913,912,911,910,909,908,907,906,905,904,903,902,901,900,899,898,897,896,895,894,893,892,891,890,889,888,887,886,885,884,883,882,881,880,879,878,877,876,875,874,873,872,871,870,869,868,867,866,865,864,863,862,861,860,859,858,857,856,855,854,853,852,851,850,849,848,847,846,845,844,843,842,841,840,839,838,837,836,835,834,833,832,831,830,829,828,827,826,825,824,823,822,821,820,819,818,817,816,815,814,813,812,811,810,809,808,807,806,805,804,803,802,801,800,799,798,797,796,795,794,793,792,791,790,789,788,787,786,785,784,783,782,781,780,779,778,777,776,775,774,773,772,771|1,2,0,0,0,1,2,1,0,1,0,1,0,2,0,0,0,2,0,2,1,1,0,0,0,1,1,0,2,1,0,1,1,2,0,1,1,1,1,1,2,0,1,1,1,0,0,0,0,0,0,0,1,1,0,0,2,1,1,0,0,1,1,2,0,2,1,0,1,0,0,2,0,0,3,1,1,1,2,0,0,1,1,0,2,1,1,0,0,1,2,0,3,0,0,0,1,0,0,0,0,0,1,1,1,0,0,0,0,1,1,1,1,1,0,0,1,1,0,1,0,1,1,0,0,1,2,0,0,0,0,1,2,0,0,2,1,1,1,0,0,1,2,0,0,1,1,1,1,0,0,0,3,2,0,1,1,0,2,0,1,0,0,1,0,0,1,0,3,1,0,1,1,0,0,0,1,1,3,2,2,1,1,1,0,0,1,1,1,1,0,1,1,0,2,0,0,0,0,0,1,0,1,2,0,2,1,0,2,0,1,1,1,0,0,0,1,0,2,1,1,1,0,2,1,2,1,0,2,1,2,2,0,1,2,1,1,0,0,1,2,1,0,1,0,0,2,0,0,0,0,0,0,0,1,0,0,1,1,0,0,0,2,1,1,1,2,1,1,0,0,1,0,1,1,1,1,0,0,1,0,2,0,0,1,0,2,1,0,1,1,1,2,0,3,0,1,0,1,0,2,3,0,0,2,1,1,1,0,2,0,0,0,0,0,0,1,1,1,1,2,1,1,0,1,1,1,1,0,0,0,2,0,2,2,1,0,0,0,1,0,0,2,1,1,1,1,1,2,0,0,1,2,1,0,0,1,0,0,1,0,0,1,1,1,2,2,2,1,1,0,1,3,0,0,0,0,1,1,1,0,1,1,3,1,1,1,0,0,1,0,2,2,0,1,1,1,1,1,2,2,1,0,2,0']\n"
     ]
    },
    {
     "name": "stderr",
     "output_type": "stream",
     "text": [
      "/opt/conda/lib/python3.12/site-packages/keras/src/layers/rnn/rnn.py:199: UserWarning: Do not pass an `input_shape`/`input_dim` argument to a layer. When using Sequential models, prefer using an `Input(shape)` object as the first layer in the model instead.\n",
      "  super().__init__(**kwargs)\n"
     ]
    },
    {
     "ename": "ValueError",
     "evalue": "Unrecognized data type: x=[1] (of type <class 'list'>)",
     "output_type": "error",
     "traceback": [
      "\u001b[31m---------------------------------------------------------------------------\u001b[39m",
      "\u001b[31mValueError\u001b[39m                                Traceback (most recent call last)",
      "\u001b[36mCell\u001b[39m\u001b[36m \u001b[39m\u001b[32mIn[36]\u001b[39m\u001b[32m, line 20\u001b[39m\n\u001b[32m     18\u001b[39m \u001b[38;5;28;01mfor\u001b[39;00m i \u001b[38;5;129;01min\u001b[39;00m matched_cnts.split(\u001b[33m'\u001b[39m\u001b[33m,\u001b[39m\u001b[33m'\u001b[39m):\n\u001b[32m     19\u001b[39m     train_y.append(\u001b[38;5;28mint\u001b[39m(i))\n\u001b[32m---> \u001b[39m\u001b[32m20\u001b[39m predict_num = \u001b[43mlstm_predict\u001b[49m\u001b[43m(\u001b[49m\u001b[43mtrain_X\u001b[49m\u001b[43m=\u001b[49m\u001b[43mtrain_X\u001b[49m\u001b[43m,\u001b[49m\u001b[43m \u001b[49m\u001b[43mtrain_y\u001b[49m\u001b[43m=\u001b[49m\u001b[43mtrain_y\u001b[49m\u001b[43m,\u001b[49m\u001b[43m \u001b[49m\u001b[43mtest_X\u001b[49m\u001b[43m=\u001b[49m\u001b[43mtest_X\u001b[49m\u001b[43m)\u001b[49m\n\u001b[32m     21\u001b[39m \u001b[38;5;28mprint\u001b[39m(\u001b[33mf\u001b[39m\u001b[33m'\u001b[39m\u001b[33mpredicted = \u001b[39m\u001b[38;5;132;01m{\u001b[39;00mpredicted_num\u001b[38;5;132;01m}\u001b[39;00m\u001b[33m'\u001b[39m)\n",
      "\u001b[36mCell\u001b[39m\u001b[36m \u001b[39m\u001b[32mIn[35]\u001b[39m\u001b[32m, line 9\u001b[39m, in \u001b[36mlstm_predict\u001b[39m\u001b[34m(train_X, train_y, test_X)\u001b[39m\n\u001b[32m      7\u001b[39m model.compile(optimizer=\u001b[33m'\u001b[39m\u001b[33madam\u001b[39m\u001b[33m'\u001b[39m, loss=\u001b[33m'\u001b[39m\u001b[33mmse\u001b[39m\u001b[33m'\u001b[39m)\n\u001b[32m      8\u001b[39m \u001b[38;5;66;03m# Train the model\u001b[39;00m\n\u001b[32m----> \u001b[39m\u001b[32m9\u001b[39m \u001b[43mmodel\u001b[49m\u001b[43m.\u001b[49m\u001b[43mfit\u001b[49m\u001b[43m(\u001b[49m\u001b[43mtrain_X\u001b[49m\u001b[43m,\u001b[49m\u001b[43m \u001b[49m\u001b[43mtrain_y\u001b[49m\u001b[43m,\u001b[49m\u001b[43m \u001b[49m\u001b[43mepochs\u001b[49m\u001b[43m=\u001b[49m\u001b[32;43m100\u001b[39;49m\u001b[43m,\u001b[49m\u001b[43m \u001b[49m\u001b[43mverbose\u001b[49m\u001b[43m=\u001b[49m\u001b[32;43m0\u001b[39;49m\u001b[43m)\u001b[49m\n\u001b[32m     10\u001b[39m \u001b[38;5;66;03m# Make predictions\u001b[39;00m\n\u001b[32m     11\u001b[39m X_test = np.random.rand(\u001b[32m5\u001b[39m, \u001b[32m10\u001b[39m, \u001b[32m1\u001b[39m)\n",
      "\u001b[36mFile \u001b[39m\u001b[32m/opt/conda/lib/python3.12/site-packages/keras/src/utils/traceback_utils.py:122\u001b[39m, in \u001b[36mfilter_traceback.<locals>.error_handler\u001b[39m\u001b[34m(*args, **kwargs)\u001b[39m\n\u001b[32m    119\u001b[39m     filtered_tb = _process_traceback_frames(e.__traceback__)\n\u001b[32m    120\u001b[39m     \u001b[38;5;66;03m# To get the full stack trace, call:\u001b[39;00m\n\u001b[32m    121\u001b[39m     \u001b[38;5;66;03m# `keras.config.disable_traceback_filtering()`\u001b[39;00m\n\u001b[32m--> \u001b[39m\u001b[32m122\u001b[39m     \u001b[38;5;28;01mraise\u001b[39;00m e.with_traceback(filtered_tb) \u001b[38;5;28;01mfrom\u001b[39;00m\u001b[38;5;250m \u001b[39m\u001b[38;5;28;01mNone\u001b[39;00m\n\u001b[32m    123\u001b[39m \u001b[38;5;28;01mfinally\u001b[39;00m:\n\u001b[32m    124\u001b[39m     \u001b[38;5;28;01mdel\u001b[39;00m filtered_tb\n",
      "\u001b[36mFile \u001b[39m\u001b[32m/opt/conda/lib/python3.12/site-packages/keras/src/trainers/data_adapters/__init__.py:125\u001b[39m, in \u001b[36mget_data_adapter\u001b[39m\u001b[34m(x, y, sample_weight, batch_size, steps_per_epoch, shuffle, class_weight)\u001b[39m\n\u001b[32m    117\u001b[39m     \u001b[38;5;28;01mreturn\u001b[39;00m GeneratorDataAdapter(x)\n\u001b[32m    118\u001b[39m     \u001b[38;5;66;03m# TODO: should we warn or not?\u001b[39;00m\n\u001b[32m    119\u001b[39m     \u001b[38;5;66;03m# warnings.warn(\u001b[39;00m\n\u001b[32m    120\u001b[39m     \u001b[38;5;66;03m#     \"`shuffle=True` was passed, but will be ignored since the \"\u001b[39;00m\n\u001b[32m   (...)\u001b[39m\u001b[32m    123\u001b[39m     \u001b[38;5;66;03m# )\u001b[39;00m\n\u001b[32m    124\u001b[39m \u001b[38;5;28;01melse\u001b[39;00m:\n\u001b[32m--> \u001b[39m\u001b[32m125\u001b[39m     \u001b[38;5;28;01mraise\u001b[39;00m \u001b[38;5;167;01mValueError\u001b[39;00m(\u001b[33mf\u001b[39m\u001b[33m\"\u001b[39m\u001b[33mUnrecognized data type: x=\u001b[39m\u001b[38;5;132;01m{\u001b[39;00mx\u001b[38;5;132;01m}\u001b[39;00m\u001b[33m (of type \u001b[39m\u001b[38;5;132;01m{\u001b[39;00m\u001b[38;5;28mtype\u001b[39m(x)\u001b[38;5;132;01m}\u001b[39;00m\u001b[33m)\u001b[39m\u001b[33m\"\u001b[39m)\n",
      "\u001b[31mValueError\u001b[39m: Unrecognized data type: x=[1] (of type <class 'list'>)"
     ]
    }
   ],
   "source": [
    "def load_metrics(random_state, version, db_file_path):\n",
    "    query = f'select rounds, matched_cnts from rndforest where random_state={random_state} and version=\\\\\"{version}\\\\\"'\n",
    "    metrics = !echo {query} | sqlite3 {db_file_path}\n",
    "    metrics = metrics[0].split('|')\n",
    "    return metrics[0][0], metrics[1]\n",
    "\n",
    "\n",
    "version = \"T_01_10\"\n",
    "db_file_path = '../db/metrics.db'\n",
    "random_state = 113789\n",
    "rounds, matched_cnts = load_metrics(random_state=random_state, db_file_path=db_file_path, version=version)\n",
    "print(metrics)\n",
    "train_X = []\n",
    "train_y = []\n",
    "test_X = 1376\n",
    "for i in rounds.split(','):\n",
    "    train_X.append(int(i))\n",
    "for i in matched_cnts.split(','):\n",
    "    train_y.append(int(i))\n",
    "predict_num = lstm_predict(train_X=train_X, train_y=train_y, test_X=test_X)\n",
    "print(f'predicted = {predicted_num}')"
   ]
  },
  {
   "cell_type": "code",
   "execution_count": null,
   "id": "39120f9a-9ef8-4228-a0b9-2ed0f30bc48b",
   "metadata": {},
   "outputs": [],
   "source": [
    "import pandas as pd\n",
    "import numpy as np\n",
    "import requests\n",
    "import io\n",
    "from tqdm import tqdm\n",
    "\n",
    "# 딥러닝 라이브러리 TensorFlow/Keras\n",
    "from tensorflow.keras.models import Sequential\n",
    "from tensorflow.keras.layers import LSTM, Dense, Dropout\n",
    "from sklearn.preprocessing import MultiLabelBinarizer\n",
    "\n",
    "# 시퀀스 길이 (과거 몇 회차의 데이터를 보고 다음을 예측할 것인가)\n",
    "SEQUENCE_LENGTH = 10\n",
    "\n",
    "\n",
    "def create_sequences(data, seq_length):\n",
    "    \"\"\"\n",
    "    데이터를 LSTM 학습에 맞는 시퀀스 형태로 변환합니다.\n",
    "    \"\"\"\n",
    "    xs = []\n",
    "    ys = []\n",
    "    # Multi-hot 인코딩을 위해 1~45번까지의 클래스를 명시적으로 지정\n",
    "    mlb = MultiLabelBinarizer(classes=list(range(1, 46)))\n",
    "    \n",
    "    # 전체 데이터를 Multi-hot 벡터로 변환\n",
    "    encoded_data = mlb.fit_transform(data)\n",
    "    \n",
    "    for i in tqdm(range(len(encoded_data) - seq_length), desc=\"시퀀스 데이터 생성 중\"):\n",
    "        # 입력 시퀀스 (X): i부터 i+seq_length-1 까지\n",
    "        xs.append(encoded_data[i:(i + seq_length)])\n",
    "        # 타겟 (y): i+seq_length\n",
    "        ys.append(encoded_data[i + seq_length])\n",
    "        \n",
    "    return np.array(xs), np.array(ys), mlb\n",
    "\n",
    "\n",
    "def build_lstm_model(seq_length, num_features, neural_num=128, verbose=0, activation='sigmoid'):\n",
    "    \"\"\"\n",
    "    LSTM 모델을 생성합니다.\n",
    "    \"\"\"\n",
    "    model = Sequential()\n",
    "    # 입력층: LSTM 레이어, input_shape=(시퀀스 길이, 피처 개수)\n",
    "    model.add(LSTM(neural_num, return_sequences=True, activation=activation, input_shape=(seq_length, num_features)))\n",
    "    model.add(LSTM(neural_num, return_sequences=True, activation=activation))\n",
    "    model.add(LSTM(neural_num, return_sequences=True, activation=activation))\n",
    "    # model.add(LSTM(neural_num, return_sequences=True, activation=activation))\n",
    "    model.add(Dropout(0.2))\n",
    "    # 중간층: LSTM 레이어\n",
    "    model.add(LSTM(128, return_sequences=False))\n",
    "    model.add(Dropout(0.2))\n",
    "    # 출력층으로 가기 전 Dense 레이어\n",
    "    model.add(Dense(64, activation='relu'))\n",
    "    model.add(Dense(num_features, activation='sigmoid'))\n",
    "    \n",
    "    # 모델 컴파일\n",
    "    # binary_crossentropy는 각 번호가 나올지/안나올지를 독립적으로 판단하는 다중 라벨 문제에 적합\n",
    "    model.compile(optimizer='adam', loss='binary_crossentropy', metrics=['accuracy'])\n",
    "    if verbose > 0:\n",
    "        model.summary()\n",
    "    return model\n",
    "\n",
    "\n",
    "file_names = [\n",
    "    (1174, 'xlsx/1173.xlsx', [8, 11, 14, 17, 36, 39]),\n",
    "    (1175, 'xlsx/1174.xlsx', [3, 4, 6, 8, 32, 42]),\n",
    "    (1176, 'xlsx/1175.xlsx', [0, 0, 0, 0, 0, 0])\n",
    "    ]\n",
    "\n",
    "\n",
    "\n",
    "for file_name in file_names:\n",
    "    # --- 코드 실행 ---\n",
    "    # 1. 역대 당첨 번호 데이터 가져오기\n",
    "    lotto_history = get_lotto_history(*file_name, row_end=10)\n",
    "    if lotto_history is not None:\n",
    "        neural_num = 64\n",
    "        # 2. 데이터 전처리 및 시퀀스 생성\n",
    "        X, y, mlb = create_sequences(lotto_history, SEQUENCE_LENGTH)\n",
    "    \n",
    "        # 3. LSTM 모델 빌드\n",
    "        # num_features는 로또 번호의 개수(45)\n",
    "        model = build_lstm_model(SEQUENCE_LENGTH, X.shape[2], neural_num=neural_num)\n",
    "    \n",
    "        # 4. 모델 학습 (데이터가 많아 시간이 소요될 수 있습니다)\n",
    "        print(\"\\nLSTM 모델 학습을 시작합니다...\")\n",
    "        model.fit(X, y, epochs=20, batch_size=32, validation_split=0.1, verbose=0)\n",
    "    \n",
    "        # 5. 1176회 예측\n",
    "        print(f\"\\{file_name[0]}회 예측을 시작합니다...\")\n",
    "    \n",
    "        # 예측을 위해 가장 마지막 시퀀스를 입력으로 사용\n",
    "        last_sequence_raw = lotto_history[-SEQUENCE_LENGTH:]\n",
    "        last_sequence_encoded = mlb.transform(last_sequence_raw)\n",
    "    \n",
    "        # Keras 모델은 배치 입력을 기대하므로 차원을 추가 (samples, timesteps, features)\n",
    "        input_for_prediction = np.expand_dims(last_sequence_encoded, axis=0)\n",
    "    \n",
    "        # 예측 실행 (결과는 각 번호가 나올 확률)\n",
    "        predicted_probabilities = model.predict(input_for_prediction)[0]\n",
    "    \n",
    "        # 확률이 높은 순으로 6개 번호의 인덱스를 추출\n",
    "        # argsort는 값을 정렬했을 때의 원래 인덱스를 반환\n",
    "        top_6_indices = np.argsort(predicted_probabilities)[-6:]\n",
    "    \n",
    "        # 인덱스는 0부터 시작하므로 1을 더해 실제 로또 번호로 변환\n",
    "        predicted_numbers = sorted([int(i + 1) for i in top_6_indices])\n",
    "        if file_name[0] not in results:\n",
    "            results[file_name[0]] = [predicted_numbers]\n",
    "        else:\n",
    "            results[file_name[0]].append(predicted_numbers)\n",
    "    \n",
    "        print(\"\\n--- 최종 예측 결과 ---\")\n",
    "        print(f\"LSTM 모델 기반 {file_name[0]}회 예측 번호: {predicted_numbers} {neural_num}, \")"
   ]
  },
  {
   "cell_type": "code",
   "execution_count": 13,
   "id": "8d320e24-4ea2-4f6e-9148-f1712a4ef548",
   "metadata": {},
   "outputs": [
    {
     "name": "stdout",
     "output_type": "stream",
     "text": [
      "query select rounds, matched_cnts from rndforest where random_state=113789 and version=\"T_01_10\";\n",
      "db_file_path ../db/metrics.db\n",
      "[\"'select rounds, matched_cnts from rndforest where random_state=113789 and version=T_01_10\", \"/bin/bash: line 1: ': command not found\"]\n"
     ]
    }
   ],
   "source": [
    "version = \"T_01_10\"\n",
    "db_file_path = '../db/metrics.db'\n",
    "random_state = 113789\n",
    "metrics = load_metrics(random_state=random_state, db_file_path=db_file_path, version=version)\n",
    "print(metrics)"
   ]
  },
  {
   "cell_type": "code",
   "execution_count": 41,
   "id": "dfbf28d6-7591-4145-acd8-6d1d452f5c5e",
   "metadata": {},
   "outputs": [
    {
     "name": "stdout",
     "output_type": "stream",
     "text": [
      "라운드 1174\n",
      "[12, 18, 21, 30, 33, 45]\n",
      "[12, 18, 21, 33, 34, 38]\n",
      "[12, 15, 18, 21, 33, 34]\n",
      "[6, 7, 33, 34, 38, 45]\n",
      "[12, 13, 15, 33, 34, 45]\n",
      "[11, 12, 21, 33, 38, 45]\n",
      "[12, 18, 21, 33, 34, 38]\n",
      "[12, 18, 33, 34, 38, 45]\n",
      "[12, 21, 28, 33, 38, 45]\n",
      "[12, 15, 18, 33, 34, 38]\n",
      "[12, 15, 33, 34, 38, 45]\n",
      "라운드 1175\n",
      "[6, 12, 21, 33, 34, 38]\n",
      "[11, 12, 21, 33, 38, 45]\n",
      "[12, 19, 21, 33, 38, 45]\n",
      "[7, 11, 12, 18, 33, 34]\n",
      "[12, 18, 21, 33, 38, 45]\n",
      "[6, 11, 12, 33, 34, 45]\n",
      "[12, 19, 21, 33, 38, 45]\n",
      "[3, 12, 18, 21, 33, 38]\n",
      "[12, 15, 18, 33, 38, 45]\n",
      "[3, 12, 13, 21, 33, 38]\n",
      "[12, 18, 21, 33, 34, 38]\n",
      "라운드 1176\n",
      "[3, 6, 12, 21, 33, 38]\n",
      "[6, 12, 15, 21, 33, 38]\n",
      "[7, 11, 12, 21, 38, 45]\n",
      "[12, 13, 33, 34, 38, 45]\n",
      "[6, 12, 33, 34, 38, 45]\n",
      "[12, 18, 21, 33, 38, 45]\n",
      "[12, 13, 33, 34, 38, 45]\n",
      "[12, 19, 21, 33, 34, 45]\n",
      "[12, 13, 15, 21, 33, 45]\n",
      "[12, 21, 33, 34, 38, 45]\n",
      "[12, 18, 21, 34, 38, 45]\n"
     ]
    }
   ],
   "source": [
    "for result in results:\n",
    "    print(\"라운드\", result)\n",
    "    for metric in results[result]:\n",
    "        print(metric)"
   ]
  },
  {
   "cell_type": "code",
   "execution_count": 7,
   "id": "e1ace55a-7dab-46c1-8159-449059c56203",
   "metadata": {},
   "outputs": [],
   "source": [
    "\n",
    "actual_numbers = [\n",
    "    [1175, 3, 4, 6, 8, 32, 42],\n",
    "    [1174, 8, 11, 14, 17, 36, 39],\n",
    "    [1173, 1, 5, 18, 20, 30, 35],\n",
    "    [1172, 7, 9, 24, 40, 42, 44],\n",
    "    [1171, 3, 6, 7, 11, 12, 17],\n",
    "    [1170, 3, 13, 28, 34, 38, 42],\n",
    "    [1169, 5, 12, 24, 26, 39, 42],\n",
    "    [1168, 9, 21, 24, 30, 33, 37],\n",
    "    [1167, 8, 23, 31, 35, 39, 40],\n",
    "]"
   ]
  },
  {
   "cell_type": "code",
   "execution_count": null,
   "id": "7ea48970-cf21-4deb-9c37-fab262a90c53",
   "metadata": {},
   "outputs": [],
   "source": []
  }
 ],
 "metadata": {
  "kernelspec": {
   "display_name": "Python 3 (ipykernel)",
   "language": "python",
   "name": "python3"
  },
  "language_info": {
   "codemirror_mode": {
    "name": "ipython",
    "version": 3
   },
   "file_extension": ".py",
   "mimetype": "text/x-python",
   "name": "python",
   "nbconvert_exporter": "python",
   "pygments_lexer": "ipython3",
   "version": "3.12.10"
  }
 },
 "nbformat": 4,
 "nbformat_minor": 5
}
