{
 "cells": [
  {
   "cell_type": "markdown",
   "id": "169d9acb-1caa-4f42-a5cd-a4b51465d3c9",
   "metadata": {},
   "source": [
    "### mysql test"
   ]
  },
  {
   "cell_type": "code",
   "execution_count": 3,
   "id": "88a4c6cf-956a-407d-a444-ffd70cc3497c",
   "metadata": {},
   "outputs": [
    {
     "name": "stdout",
     "output_type": "stream",
     "text": [
      "table|sqlite_sequence|sqlite_sequence|6|CREATE TABLE sqlite_sequence(name,seq)\n",
      "table|metrics|metrics|2|CREATE TABLE metrics (id INTEGER PRIMARY KEY AUTOINCREMENT, test_id TEXT, version INTEGER, round INTEGER, model_id INTEGER, trial INTEGER, date DATETIME, metric TEXT, matched TEXT, matched_size INTEGER)\n",
      "table|models|models|3|CREATE TABLE models (id INTEGER PRIMARY KEY AUTOINCREMENT, test_id TEXT, version INTEGER, model_id INTEGER, date DATETIME, model BLOB)\n",
      "table|results|results|5|CREATE TABLE results (id INTEGER PRIMARY KEY AUTOINCREMENT, round INTEGER, metric TEXT, bonus INTEGER)\n",
      "table|rndforest|rndforest|6568|CREATE TABLE rndforest (id INTEGER PRIMARY KEY AUTOINCREMENT,n_estimator INTEGER,data_length INTEGER,random_state INTEGER,rounds TEXT,matched_cnts TEXT,sum_val INTEGER,version TEXT)\n",
      "table|version|version|8031|CREATE TABLE version(id INTEGER, name TXT, ver TXT)\n",
      "table|rndforest_possi|rndforest_possi|9461|CREATE TABLE rndforest_possi(id INTEGER PRIMARY KEY AUTOINCREMENT, version TEXT, random_state INTEGER, possibility FLOAT, max FLOAT)\n"
     ]
    }
   ],
   "source": [
    "!echo 'select * from sqlite_master' | sqlite3 ../db/metrics.db"
   ]
  },
  {
   "cell_type": "code",
   "execution_count": 4,
   "id": "3cbe7e97-e3e4-4a84-ab92-a073a74c725c",
   "metadata": {},
   "outputs": [
    {
     "name": "stdout",
     "output_type": "stream",
     "text": [
      "Enter password: \n",
      "ERROR 1045 (28000): Access denied for user 'swhors'@'localhost' (using password: YES)\n"
     ]
    }
   ],
   "source": [
    "!echo 'CREATE TABLE metrics (id INTEGER PRIMARY KEY AUTOINCREMENT, test_id TEXT, version INTEGER, round INTEGER, model_id INTEGER, trial INTEGER, date DATETIME, metric TEXT, matched TEXT, matched_size INTEGER)'| mysql -u swhors -h localhost -p"
   ]
  },
  {
   "cell_type": "code",
   "execution_count": null,
   "id": "f88f4d68-638e-40d8-9fad-92371b51c45e",
   "metadata": {},
   "outputs": [],
   "source": [
    "```\n",
    "CREATE TABLE metrics (id int(16) NOT NULL AUTO_INCREMENT PRIMARY KEY, test_id varchar, version int, round int, model_id int, trial int, date datetime, metric varchar, matcher varchar, matched_size int);\n",
    "```"
   ]
  },
  {
   "cell_type": "code",
   "execution_count": null,
   "id": "adc934ba-ba92-42c6-88ea-92acc3d79385",
   "metadata": {},
   "outputs": [],
   "source": [
    " CREATE TABLE metrics (id INT NOT NULL AUTO_INCREMENT PRIMARY KEY, test_id varchar(10), version INT, round INT, model_id INT, trial INT, date DATETIME, metric TEXT, matched TEXT, matched_size INT);"
   ]
  },
  {
   "cell_type": "code",
   "execution_count": null,
   "id": "e1a8f6ff-855a-4cd2-a3e9-2b50f1e5ed94",
   "metadata": {},
   "outputs": [],
   "source": [
    "CREATE TABLE models (id INT NOT NULL AUTO_INCREMENT PRIMARY KEY, test_id char(10), version INT, model_id INT, date DATETIME, model BLOB);"
   ]
  },
  {
   "cell_type": "code",
   "execution_count": null,
   "id": "95f92fa1-70bd-4a5f-8de1-ab0c5003c6d1",
   "metadata": {},
   "outputs": [],
   "source": [
    "CREATE TABLE results (id INT NOT NULL AUTO_INCREMENT PRIMARY KEY, round INT, metric TEXT, bonus INT);"
   ]
  },
  {
   "cell_type": "code",
   "execution_count": null,
   "id": "ab0a97ea-eb0e-4ea2-9e91-a38b97d31d54",
   "metadata": {},
   "outputs": [],
   "source": [
    "CREATE TABLE rndforest (id INT NOT NULL AUTO_INCREMENT PRIMARY KEY,n_estimator INT,data_length INT,random_state INT,rounds TEXT,matched_cnts TEXT,sum_val INT,version char(10))"
   ]
  },
  {
   "cell_type": "code",
   "execution_count": 9,
   "id": "3cbb6d5e-c6eb-4262-979d-571bc059b527",
   "metadata": {},
   "outputs": [],
   "source": [
    "def to_mysql(table_name, cols_dict):\n",
    "    import mysql.connector\n",
    "    from contextlib import closing\n",
    " \n",
    "    with closing(mysql.connector.connect(\n",
    "        host=\"localhost\",\n",
    "        user=\"swhors\",\n",
    "        password=\"aq1234\",\n",
    "        database=\"metrics\"\n",
    "        )) as conn:\n",
    "        with closing(conn.cursor()) as cursor:\n",
    "            column_names = cols_dict.keys()\n",
    "            column_values = cols_dict.values()\n",
    "            column_names_str = ','.join(column_names)\n",
    "            column_values_str = \"\"\n",
    "            col_cnt = 0\n",
    "            for column_value in column_values:\n",
    "                column_values_str += column_value if column_value.isdigit() else f'\\\"{column_value}\\\"'\n",
    "                col_cnt += 1\n",
    "                if col_cnt < len(column_values):\n",
    "                    column_values_str += \",\"\n",
    "            query = f\"insert into {table_name}({column_names_str}) values({column_values_str});\"\n",
    "            print\n",
    "            cursor.execute(query)\n",
    "        conn.commit()\n"
   ]
  },
  {
   "cell_type": "code",
   "execution_count": null,
   "id": "b94126e3-255d-409b-a2f8-fd5b0612a298",
   "metadata": {},
   "outputs": [],
   "source": [
    "from tqdm import tqdm\n",
    "rows = ! echo 'select * from results' | sqlite3 ../db/metrics.db\n",
    "for row in tqdm(rows):\n",
    "    cols = row.split('|')\n",
    "    print(cols)\n",
    "    cols_dicts = {\n",
    "        'round': cols[1],\n",
    "        'metric': cols[2],\n",
    "        'bonus': cols[3]\n",
    "    }\n",
    "    to_mysql('results', cols_dicts)"
   ]
  },
  {
   "cell_type": "code",
   "execution_count": 16,
   "id": "ba677bb7-3b72-42db-9a83-39961bf484ee",
   "metadata": {},
   "outputs": [
    {
     "name": "stderr",
     "output_type": "stream",
     "text": [
      " 65%|██████████████████████████████████████████████████▍                          | 46705/71310 [31:34<16:38, 24.65it/s]\n"
     ]
    },
    {
     "ename": "KeyboardInterrupt",
     "evalue": "",
     "output_type": "error",
     "traceback": [
      "\u001b[31m---------------------------------------------------------------------------\u001b[39m",
      "\u001b[31mKeyboardInterrupt\u001b[39m                         Traceback (most recent call last)",
      "\u001b[36mCell\u001b[39m\u001b[36m \u001b[39m\u001b[32mIn[16]\u001b[39m\u001b[32m, line 18\u001b[39m\n\u001b[32m      8\u001b[39m \u001b[38;5;66;03m# print(cols)\u001b[39;00m\n\u001b[32m      9\u001b[39m cols_dicts = {\n\u001b[32m     10\u001b[39m     \u001b[33m'\u001b[39m\u001b[33mn_estimator\u001b[39m\u001b[33m'\u001b[39m: cols[\u001b[32m1\u001b[39m],\n\u001b[32m     11\u001b[39m     \u001b[33m'\u001b[39m\u001b[33mdata_length\u001b[39m\u001b[33m'\u001b[39m: cols[\u001b[32m2\u001b[39m],\n\u001b[32m   (...)\u001b[39m\u001b[32m     16\u001b[39m     \u001b[33m'\u001b[39m\u001b[33mversion\u001b[39m\u001b[33m'\u001b[39m: cols[\u001b[32m7\u001b[39m]\n\u001b[32m     17\u001b[39m }\n\u001b[32m---> \u001b[39m\u001b[32m18\u001b[39m \u001b[43mto_mysql\u001b[49m\u001b[43m(\u001b[49m\u001b[33;43m'\u001b[39;49m\u001b[33;43mrndforest\u001b[39;49m\u001b[33;43m'\u001b[39;49m\u001b[43m,\u001b[49m\u001b[43m \u001b[49m\u001b[43mcols_dicts\u001b[49m\u001b[43m)\u001b[49m\n",
      "\u001b[36mCell\u001b[39m\u001b[36m \u001b[39m\u001b[32mIn[9]\u001b[39m\u001b[32m, line 5\u001b[39m, in \u001b[36mto_mysql\u001b[39m\u001b[34m(table_name, cols_dict)\u001b[39m\n\u001b[32m      2\u001b[39m \u001b[38;5;28;01mimport\u001b[39;00m\u001b[38;5;250m \u001b[39m\u001b[34;01mmysql\u001b[39;00m\u001b[34;01m.\u001b[39;00m\u001b[34;01mconnector\u001b[39;00m\n\u001b[32m      3\u001b[39m \u001b[38;5;28;01mfrom\u001b[39;00m\u001b[38;5;250m \u001b[39m\u001b[34;01mcontextlib\u001b[39;00m\u001b[38;5;250m \u001b[39m\u001b[38;5;28;01mimport\u001b[39;00m closing\n\u001b[32m----> \u001b[39m\u001b[32m5\u001b[39m \u001b[38;5;28;01mwith\u001b[39;00m closing(\u001b[43mmysql\u001b[49m\u001b[43m.\u001b[49m\u001b[43mconnector\u001b[49m\u001b[43m.\u001b[49m\u001b[43mconnect\u001b[49m\u001b[43m(\u001b[49m\n\u001b[32m      6\u001b[39m \u001b[43m    \u001b[49m\u001b[43mhost\u001b[49m\u001b[43m=\u001b[49m\u001b[33;43m\"\u001b[39;49m\u001b[33;43mlocalhost\u001b[39;49m\u001b[33;43m\"\u001b[39;49m\u001b[43m,\u001b[49m\n\u001b[32m      7\u001b[39m \u001b[43m    \u001b[49m\u001b[43muser\u001b[49m\u001b[43m=\u001b[49m\u001b[33;43m\"\u001b[39;49m\u001b[33;43mswhors\u001b[39;49m\u001b[33;43m\"\u001b[39;49m\u001b[43m,\u001b[49m\n\u001b[32m      8\u001b[39m \u001b[43m    \u001b[49m\u001b[43mpassword\u001b[49m\u001b[43m=\u001b[49m\u001b[33;43m\"\u001b[39;49m\u001b[33;43maq1234\u001b[39;49m\u001b[33;43m\"\u001b[39;49m\u001b[43m,\u001b[49m\n\u001b[32m      9\u001b[39m \u001b[43m    \u001b[49m\u001b[43mdatabase\u001b[49m\u001b[43m=\u001b[49m\u001b[33;43m\"\u001b[39;49m\u001b[33;43mmetrics\u001b[39;49m\u001b[33;43m\"\u001b[39;49m\n\u001b[32m     10\u001b[39m \u001b[43m    \u001b[49m\u001b[43m)\u001b[49m) \u001b[38;5;28;01mas\u001b[39;00m conn:\n\u001b[32m     11\u001b[39m     \u001b[38;5;28;01mwith\u001b[39;00m closing(conn.cursor()) \u001b[38;5;28;01mas\u001b[39;00m cursor:\n\u001b[32m     12\u001b[39m         column_names = cols_dict.keys()\n",
      "\u001b[36mFile \u001b[39m\u001b[32m~/bin/jupyter_venv/lib/python3.12/site-packages/mysql/connector/pooling.py:322\u001b[39m, in \u001b[36mconnect\u001b[39m\u001b[34m(*args, **kwargs)\u001b[39m\n\u001b[32m    319\u001b[39m         \u001b[38;5;28;01mraise\u001b[39;00m \u001b[38;5;167;01mImportError\u001b[39;00m(ERROR_NO_CEXT)\n\u001b[32m    321\u001b[39m \u001b[38;5;28;01mif\u001b[39;00m CMySQLConnection \u001b[38;5;129;01mand\u001b[39;00m \u001b[38;5;129;01mnot\u001b[39;00m use_pure:\n\u001b[32m--> \u001b[39m\u001b[32m322\u001b[39m     \u001b[38;5;28;01mreturn\u001b[39;00m \u001b[43mCMySQLConnection\u001b[49m\u001b[43m(\u001b[49m\u001b[43m*\u001b[49m\u001b[43margs\u001b[49m\u001b[43m,\u001b[49m\u001b[43m \u001b[49m\u001b[43m*\u001b[49m\u001b[43m*\u001b[49m\u001b[43mkwargs\u001b[49m\u001b[43m)\u001b[49m\n\u001b[32m    323\u001b[39m \u001b[38;5;28;01mreturn\u001b[39;00m MySQLConnection(*args, **kwargs)\n",
      "\u001b[36mFile \u001b[39m\u001b[32m~/bin/jupyter_venv/lib/python3.12/site-packages/mysql/connector/connection_cext.py:142\u001b[39m, in \u001b[36mCMySQLConnection.__init__\u001b[39m\u001b[34m(self, **kwargs)\u001b[39m\n\u001b[32m    140\u001b[39m \u001b[38;5;28;01mif\u001b[39;00m kwargs:\n\u001b[32m    141\u001b[39m     \u001b[38;5;28;01mtry\u001b[39;00m:\n\u001b[32m--> \u001b[39m\u001b[32m142\u001b[39m         \u001b[38;5;28;43mself\u001b[39;49m\u001b[43m.\u001b[49m\u001b[43mconnect\u001b[49m\u001b[43m(\u001b[49m\u001b[43m*\u001b[49m\u001b[43m*\u001b[49m\u001b[43mkwargs\u001b[49m\u001b[43m)\u001b[49m\n\u001b[32m    143\u001b[39m     \u001b[38;5;28;01mexcept\u001b[39;00m \u001b[38;5;167;01mException\u001b[39;00m:\n\u001b[32m    144\u001b[39m         \u001b[38;5;28mself\u001b[39m.close()\n",
      "\u001b[36mFile \u001b[39m\u001b[32m~/bin/jupyter_venv/lib/python3.12/site-packages/mysql/connector/abstracts.py:1605\u001b[39m, in \u001b[36mMySQLConnectionAbstract.connect\u001b[39m\u001b[34m(self, **kwargs)\u001b[39m\n\u001b[32m   1602\u001b[39m     \u001b[38;5;28mself\u001b[39m.config(**kwargs)\n\u001b[32m   1604\u001b[39m \u001b[38;5;28mself\u001b[39m.disconnect()\n\u001b[32m-> \u001b[39m\u001b[32m1605\u001b[39m \u001b[38;5;28;43mself\u001b[39;49m\u001b[43m.\u001b[49m\u001b[43m_open_connection\u001b[49m\u001b[43m(\u001b[49m\u001b[43m)\u001b[49m\n\u001b[32m   1607\u001b[39m charset, collation = (\n\u001b[32m   1608\u001b[39m     kwargs.pop(\u001b[33m\"\u001b[39m\u001b[33mcharset\u001b[39m\u001b[33m\"\u001b[39m, \u001b[38;5;28;01mNone\u001b[39;00m),\n\u001b[32m   1609\u001b[39m     kwargs.pop(\u001b[33m\"\u001b[39m\u001b[33mcollation\u001b[39m\u001b[33m\"\u001b[39m, \u001b[38;5;28;01mNone\u001b[39;00m),\n\u001b[32m   1610\u001b[39m )\n\u001b[32m   1611\u001b[39m \u001b[38;5;28;01mif\u001b[39;00m charset \u001b[38;5;129;01mor\u001b[39;00m collation:\n",
      "\u001b[36mFile \u001b[39m\u001b[32m~/bin/jupyter_venv/lib/python3.12/site-packages/mysql/connector/connection_cext.py:354\u001b[39m, in \u001b[36mCMySQLConnection._open_connection\u001b[39m\u001b[34m(self)\u001b[39m\n\u001b[32m    351\u001b[39m     cnx_kwargs[\u001b[33m\"\u001b[39m\u001b[33muse_kerberos_gssapi\u001b[39m\u001b[33m\"\u001b[39m] = \u001b[38;5;28;01mTrue\u001b[39;00m\n\u001b[32m    353\u001b[39m \u001b[38;5;28;01mtry\u001b[39;00m:\n\u001b[32m--> \u001b[39m\u001b[32m354\u001b[39m     \u001b[38;5;28;43mself\u001b[39;49m\u001b[43m.\u001b[49m\u001b[43m_cmysql\u001b[49m\u001b[43m.\u001b[49m\u001b[43mconnect\u001b[49m\u001b[43m(\u001b[49m\u001b[43m*\u001b[49m\u001b[43m*\u001b[49m\u001b[43mcnx_kwargs\u001b[49m\u001b[43m)\u001b[49m\n\u001b[32m    355\u001b[39m     \u001b[38;5;28mself\u001b[39m._cmysql.converter_str_fallback = \u001b[38;5;28mself\u001b[39m._converter_str_fallback\n\u001b[32m    356\u001b[39m     \u001b[38;5;28;01mif\u001b[39;00m \u001b[38;5;28mself\u001b[39m.converter:\n",
      "\u001b[31mKeyboardInterrupt\u001b[39m: "
     ]
    }
   ],
   "source": [
    "from tqdm import tqdm\n",
    "\"\"\"\n",
    ",n_estimator INT,data_length INT,random_state INT,rounds TEXT,matched_cnts TEXT,sum_val INT,version char(10))\n",
    "\"\"\"\n",
    "rows = ! echo 'select * from rndforest' | sqlite3 ../db/metrics.db\n",
    "for row in tqdm(rows):\n",
    "    cols = row.split('|')\n",
    "    # print(cols)\n",
    "    cols_dicts = {\n",
    "        'n_estimator': cols[1],\n",
    "        'data_length': cols[2],\n",
    "        'random_state': cols[3],\n",
    "        'rounds': cols[4],\n",
    "        'matched_cnts': cols[5],\n",
    "        'sum_val': cols[6],\n",
    "        'version': cols[7]\n",
    "    }\n",
    "    to_mysql('rndforest', cols_dicts)"
   ]
  },
  {
   "cell_type": "code",
   "execution_count": null,
   "id": "01b34b7c-a624-416b-98b6-c0172444f046",
   "metadata": {},
   "outputs": [],
   "source": [
    "\"\"\"\n",
    "rndforest_possi(id INTEGER PRIMARY KEY AUTOINCREMENT, version TEXT, random_state INTEGER, possibility FLOAT, max FLOAT)\n",
    "\"\"\"\n",
    "from tqdm import tqdm\n",
    "\n",
    "rows = ! echo 'select * from rndforest_possi' | sqlite3 ../db/metrics.db\n",
    "for row in tqdm(rows):\n",
    "    cols = row.split('|')\n",
    "    cols_dicts = {\n",
    "        'version': cols[1],\n",
    "        'random_state': cols[2],\n",
    "        'possibility': cols[3],\n",
    "        'max': cols[4],\n",
    "    }\n",
    "    to_mysql('rndforest', cols_dicts)"
   ]
  }
 ],
 "metadata": {
  "kernelspec": {
   "display_name": "Python 3 (ipykernel)",
   "language": "python",
   "name": "python3"
  },
  "language_info": {
   "codemirror_mode": {
    "name": "ipython",
    "version": 3
   },
   "file_extension": ".py",
   "mimetype": "text/x-python",
   "name": "python",
   "nbconvert_exporter": "python",
   "pygments_lexer": "ipython3",
   "version": "3.12.3"
  }
 },
 "nbformat": 4,
 "nbformat_minor": 5
}
