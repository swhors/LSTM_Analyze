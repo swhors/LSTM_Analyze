{
 "cells": [
  {
   "cell_type": "markdown",
   "id": "baae9102-a895-48b9-bde9-3a9e9daa74f9",
   "metadata": {},
   "source": [
    "## memo_re 0 init"
   ]
  },
  {
   "cell_type": "markdown",
   "id": "0f63095f-d97a-40e0-9124-697146f085c6",
   "metadata": {},
   "source": [
    "### to version = \"memo_0\"\n",
    "```\n",
    "초기화 과정입니다.\n",
    "```"
   ]
  },
  {
   "cell_type": "code",
   "execution_count": 27,
   "id": "aa0cab66-99c0-4e66-9234-06d852f7e74b",
   "metadata": {},
   "outputs": [],
   "source": [
    "#01,13,21,25,28,31\n",
    "candidate = {0:1, 1:13, 2:21, 3:25, 4:28, 5:31}\n",
    "next_round = 1186"
   ]
  },
  {
   "cell_type": "code",
   "execution_count": 28,
   "id": "c4e4c0bb-a788-4145-aa0d-79662965eed9",
   "metadata": {},
   "outputs": [
    {
     "name": "stdout",
     "output_type": "stream",
     "text": [
      "define this code. [2025-08-18 18:48:52.734354]\n"
     ]
    }
   ],
   "source": [
    "## this code was run.\n",
    "#!pip install keras-tuner\n",
    "# import numpy as np\n",
    "# import pandas as pd\n",
    "import os\n",
    "from datetime import datetime\n",
    "from tqdm import tqdm\n",
    "# print(f'Current Step #01 [now = {datetime.now()}')\n",
    "from IPython.display import Markdown\n",
    "\n",
    "from lib.analy_util import ( draw_markdown,\n",
    "                             draw_graph,\n",
    "                             draw_scatter,\n",
    "                             get_pre_bef,\n",
    "                             draw_average,\n",
    "                             get_frequency,\n",
    "                             get_information,\n",
    "                             analyze_v1,\n",
    "                             data_prepare,\n",
    "                             search_model,\n",
    "                             get_information_v2,\n",
    "                             get_extdatas,\n",
    "                             )\n",
    "print(f'define this code. [{datetime.now()}]')\n",
    "\n",
    "\n",
    "to_version=\"memo_0818_5\"\n",
    "next_round = 1186\n",
    "\n",
    "title = \"Metrics\"\n",
    "row_length = 400\n",
    "new_to_old = True\n",
    "show_mark_down = True\n",
    "markdown_table_limit_length = 5"
   ]
  },
  {
   "cell_type": "code",
   "execution_count": 1,
   "id": "81495071-55f1-4dc3-80af-216302d17772",
   "metadata": {},
   "outputs": [],
   "source": [
    "create_query = f'create table if not exists results_order(id INTEGER PRIMARY KEY AUTOINCREMENT, round short, n1 short, n2 short, n3 short, n4 short, n5 short, n6 short, bonus short);'\n",
    "!echo \"{create_query}\" | sqlite3 ../db/metrics.db"
   ]
  },
  {
   "cell_type": "code",
   "execution_count": 33,
   "id": "836e597f-a24f-4b0a-93c3-1edd369910da",
   "metadata": {},
   "outputs": [],
   "source": [
    "\"\"\"\n",
    "init memo_re\n",
    "\"\"\"\n",
    "\n",
    "datas = \"\"\"\n",
    "1185,17,6,32,28,29,22,38\n",
    "1184,16,14,23,31,37,25,42\n",
    "1183,36,4,15,23,17,27,31\n",
    "1182,31,21,13,25,28,1,22\n",
    "1181,8,14,20,41,10,33,28\n",
    "1180,37,40,18,6,12,41,3\n",
    "1179,44,18,16,24,40,3,21\n",
    "1178,43,5,27,44,6,11,17\n",
    "1177,3,43,7,15,19,16,21\n",
    "1176,30,11,35,9,7,21,29\n",
    "1175,42,8,4,3,6,32,31\n",
    "1174,8,17,39,14,36,11,22\n",
    "1173,30,35,20,1,18,5,3\n",
    "1172,44,42,40,9,24,7,45\n",
    "1171,7,3,12,6,17,11,19\n",
    "1170,3,38,13,28,34,42,25\n",
    "1169,39,26,24,12,42,5,20\n",
    "1168,33,9,24,37,21,30,29\n",
    "1167,35,40,8,31,39,23,24\n",
    "1166,14,42,25,29,23,27,16\n",
    "1165,38,29,45,7,6,27,17\n",
    "1164,25,18,39,23,17,38,22\n",
    "1163,13,2,33,16,15,43,4\n",
    "1162,29,28,21,25,22,20,6\n",
    "1161,2,12,34,24,20,42,37\n",
    "1160,39,7,36,13,45,18,19\n",
    "1159,3,28,39,9,38,27,7\n",
    "1158,38,21,27,25,32,37,20\n",
    "1157,5,7,20,26,25,12,28\n",
    "1156,45,39,34,41,30,31,7\n",
    "1155,19,10,37,27,38,16,13\n",
    "1154,22,38,32,8,4,26,27\n",
    "1153,35,9,44,13,1,10,5\n",
    "1152,31,36,35,37,32,30,5\n",
    "1151,27,29,9,3,15,2,8\n",
    "1150,45,18,39,35,9,8,25\n",
    "1149,21,15,8,32,36,19,38\n",
    "1148,16,22,13,15,6,3,32\n",
    "1147,7,37,11,26,24,27,32\n",
    "1146,6,19,17,11,40,43,28\n",
    "1145,31,33,2,11,44,37,32\n",
    "1144,34,12,4,26,3,15,6\n",
    "1143,36,17,27,16,10,28,6\n",
    "1142,37,41,30,2,28,8,22\n",
    "1141,21,26,35,12,7,11,20\n",
    "1140,38,29,10,22,31,7,15\n",
    "\"\"\"\n",
    "\n",
    "histories = datas.split(\"\\n\")\n",
    "for history in histories:\n",
    "    cols = history.split(',')\n",
    "    if len(cols) == 8:\n",
    "        sel_query = f'select * from results_order where round={cols[0]} and n1={cols[1]} and n1={cols[1]} and n2={cols[2]} and n3={cols[3]} and n4={cols[4]} and n5={cols[5]} and n6={cols[6]};'\n",
    "        results = !echo \"{sel_query}\" | sqlite3 ../db/metrics.db\n",
    "        if len(results) == 0:\n",
    "            insert_query = f'insert into results_order(round, n1, n2, n3, n4, n5, n6, bonus) values({cols[0]}, {cols[1]}, {cols[2]}, {cols[3]}, {cols[4]}, {cols[5]}, {cols[6]}, {cols[7]});'\n",
    "            !echo \"{insert_query}\" | sqlite3 ../db/metrics.db\n"
   ]
  },
  {
   "cell_type": "code",
   "execution_count": null,
   "id": "9d64153e-0c5a-4984-9767-a5ad5554c2d0",
   "metadata": {},
   "outputs": [],
   "source": []
  }
 ],
 "metadata": {
  "kernelspec": {
   "display_name": "Python 3 (ipykernel)",
   "language": "python",
   "name": "python3"
  },
  "language_info": {
   "codemirror_mode": {
    "name": "ipython",
    "version": 3
   },
   "file_extension": ".py",
   "mimetype": "text/x-python",
   "name": "python",
   "nbconvert_exporter": "python",
   "pygments_lexer": "ipython3",
   "version": "3.12.10"
  }
 },
 "nbformat": 4,
 "nbformat_minor": 5
}
