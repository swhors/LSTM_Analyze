{
 "cells": [
  {
   "cell_type": "code",
   "execution_count": null,
   "id": "953d672b-76dc-4570-92b5-8b1ac046095e",
   "metadata": {},
   "outputs": [],
   "source": [
    "import os\n",
    "from PIL import Image\n",
    "import numpy as np\n",
    "import matplotlib.pyplot as plt"
   ]
  },
  {
   "cell_type": "code",
   "execution_count": null,
   "id": "80664fd3-8a3d-436a-a77b-7acd30b72092",
   "metadata": {},
   "outputs": [],
   "source": [
    "path = \"./img\"\n",
    "file_list = os.listdir(path)\n",
    "\n",
    "file_list = [file for file in file_list if file.endswith(\".png\")]\n",
    "file_list.sort()\n",
    "for file_name in file_list:\n",
    "    img = Image.open(f'./img/{file_name}')\n",
    "    img_np = np.array(img) ## 행렬로 변환된 이미지\n",
    "    plt.imshow(img_np) ## 행렬 이미지를 다시 이미지로 변경해 디스플레이\n",
    "    plt.show() ## 이미지 인터프린터에 출력\n",
    "    print(file_name)"
   ]
  },
  {
   "cell_type": "code",
   "execution_count": null,
   "id": "84775e77-7c80-46ef-9172-71e70017af44",
   "metadata": {},
   "outputs": [],
   "source": [
    "file_list = [\"Line_1_1_average_1.png\", \"Line_1_10_average_1.png\"]\n",
    "\n",
    "file_list = [file for file in file_list if file.endswith(\".png\")]\n",
    "file_list.sort()\n",
    "for file_name in file_list:\n",
    "    img = Image.open(f'./img/{file_name}')\n",
    "    img_np = np.array(img) ## 행렬로 변환된 이미지\n",
    "    plt.imshow(img_np) ## 행렬 이미지를 다시 이미지로 변경해 디스플레이\n",
    "    plt.show() ## 이미지 인터프린터에 출력\n",
    "    print(file_name)"
   ]
  },
  {
   "cell_type": "code",
   "execution_count": null,
   "id": "e259a4e9-1569-43b9-b904-d088a9fd444c",
   "metadata": {},
   "outputs": [],
   "source": [
    "file_list = [\"Line_1_1_average_10.png\", \"Line_1_10_average_10.png\"]\n",
    "\n",
    "file_list = [file for file in file_list if file.endswith(\".png\")]\n",
    "file_list.sort()\n",
    "for file_name in file_list:\n",
    "    img = Image.open(f'./img/{file_name}')\n",
    "    img_np = np.array(img) ## 행렬로 변환된 이미지\n",
    "    plt.imshow(img_np) ## 행렬 이미지를 다시 이미지로 변경해 디스플레이\n",
    "    plt.show() ## 이미지 인터프린터에 출력\n",
    "    print(file_name)"
   ]
  },
  {
   "cell_type": "code",
   "execution_count": null,
   "id": "cbe2f338-78db-4756-91b6-deac1d1a7174",
   "metadata": {},
   "outputs": [],
   "source": [
    "file_list = [\"Line_1_1_average_20.png\", \"Line_1_10_average_20.png\"]\n",
    "\n",
    "file_list = [file for file in file_list if file.endswith(\".png\")]\n",
    "file_list.sort()\n",
    "for file_name in file_list:\n",
    "    img = Image.open(f'./img/{file_name}')\n",
    "    img_np = np.array(img) ## 행렬로 변환된 이미지\n",
    "    plt.imshow(img_np) ## 행렬 이미지를 다시 이미지로 변경해 디스플레이\n",
    "    plt.show() ## 이미지 인터프린터에 출력\n",
    "    print(file_name)"
   ]
  },
  {
   "cell_type": "code",
   "execution_count": null,
   "id": "8e84fe40-37c0-44b3-b272-0f352b049d88",
   "metadata": {},
   "outputs": [],
   "source": [
    "file_list = [\"Line_1_1_average_30.png\", \"Line_1_10_average_30.png\"]\n",
    "\n",
    "file_list = [file for file in file_list if file.endswith(\".png\")]\n",
    "file_list.sort()\n",
    "for file_name in file_list:\n",
    "    img = Image.open(f'./img/{file_name}')\n",
    "    img_np = np.array(img) ## 행렬로 변환된 이미지\n",
    "    plt.imshow(img_np) ## 행렬 이미지를 다시 이미지로 변경해 디스플레이\n",
    "    plt.show() ## 이미지 인터프린터에 출력\n",
    "    print(file_name)"
   ]
  },
  {
   "cell_type": "code",
   "execution_count": null,
   "id": "274b6adc-1ac6-4955-b011-990da31afe44",
   "metadata": {},
   "outputs": [],
   "source": [
    "\n",
    "\n"
   ]
  }
 ],
 "metadata": {
  "kernelspec": {
   "display_name": "Python 3 (ipykernel)",
   "language": "python",
   "name": "python3"
  },
  "language_info": {
   "codemirror_mode": {
    "name": "ipython",
    "version": 3
   },
   "file_extension": ".py",
   "mimetype": "text/x-python",
   "name": "python",
   "nbconvert_exporter": "python",
   "pygments_lexer": "ipython3",
   "version": "3.12.10"
  }
 },
 "nbformat": 4,
 "nbformat_minor": 5
}
