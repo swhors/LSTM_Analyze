{
 "cells": [
  {
   "cell_type": "markdown",
   "metadata": {},
   "source": [
    "# Prediction with LSTM model (v.4.4.6)\n",
    "<p style='text-align: right;'>with selectd4.csv</p>\n",
    "\n",
    "* history\n",
    "  * 2025/05/23 PM06:02 : 3번째 모델의 3번째 데이터를 사용\n",
    "  * 2025/05/27"
   ]
  },
  {
   "cell_type": "code",
   "execution_count": null,
   "metadata": {},
   "outputs": [],
   "source": [
    "!pip install scikit-learn\n",
    "!pip install tensorflow\n",
    "from datetime import datetime\n",
    "print(f'restart kernel... {datetime.now()}')"
   ]
  },
  {
   "cell_type": "code",
   "execution_count": 6,
   "metadata": {},
   "outputs": [
    {
     "name": "stdout",
     "output_type": "stream",
     "text": [
      "restart kernel... 2025-05-29 12:49:53.668297\n"
     ]
    }
   ],
   "source": [
    "def restart_kernel():\n",
    "    # Restart the kernet after libraries are loaded.\n",
    "    import IPython\n",
    "    from datetime import datetime\n",
    "    print(f'restart kernel... {datetime.now()}')\n",
    "    app = IPython.Application.instance()\n",
    "    app.kernel.do_shutdown(True)\n",
    "\n",
    "restart_kernel()"
   ]
  },
  {
   "cell_type": "code",
   "execution_count": 1,
   "metadata": {},
   "outputs": [
    {
     "name": "stdout",
     "output_type": "stream",
     "text": [
      "imported library. (2025-05-29 12:50:03.123889)\n"
     ]
    }
   ],
   "source": [
    "# load dependacies\n",
    "import os\n",
    "import time\n",
    "import resource\n",
    "from datetime import datetime\n",
    "from lib.globalvar import *\n",
    "from lib.data_loader import DataLoader\n",
    "from lib.small_predict import predict_small, print_predict_small\n",
    "from lib.activation import ActivationOutput, RecurrentActivation\n",
    "from lib.small_predict import build_and_predict, gen_multi_model, save_model, generate_metric\n",
    "from lib.common_env_sets import lstm_units, dense_units, steps, metrics, dropout\n",
    "from lib.common_env_sets import learning_rate, last_lstm_return_sequences\n",
    "from lib.common_env_sets import loss, output_dense_activation, epochs, rand_seed\n",
    "\n",
    "\n",
    "print(f\"imported library. ({datetime.now()})\")"
   ]
  },
  {
   "cell_type": "code",
   "execution_count": 2,
   "metadata": {},
   "outputs": [
    {
     "name": "stdout",
     "output_type": "stream",
     "text": [
      "finished to set environemnt. (2025-05-29 12:50:04.004477)\n"
     ]
    }
   ],
   "source": [
    "##\n",
    "## 모델링 환경 설정\n",
    "##\n",
    "window=1 # default = 1 , help = \"time stamps\"\n",
    "data_dir='./csv/selectd4.csv'\n",
    "    \n",
    "mode='predict' # help = \"back-test or predict\")\n",
    "\n",
    "mode2='sampling' # help = \"greed or sampling\")\n",
    "verb='verbose' # help = \"verbose or not_verb\")\n",
    "    \n",
    "trial=20 # help = \"how much trials to generate\")\n",
    "training_length=0.95 # default = 0.9)\n",
    "epoch=20 # default = 3\n",
    "batch=1 # default = 1\n",
    "model_type='lstm4' # help = \"lstm1 or lstm2\")\n",
    "hid_dim = 50\n",
    "from_pos = 0\n",
    "last = [[1, 5, 18, 20, 30, 35],\n",
    "        [7, 9, 24, 40, 42, 44],\n",
    "        [3, 6, 7, 11, 12, 17],\n",
    "        [3, 13, 28, 34, 38, 42],\n",
    "        [5, 12, 24, 29, 32, 42]]\n",
    "print(f\"finished to set environemnt. ({datetime.now()})\")\n",
    "MAX_MODEL_CNT = 3\n",
    "\n",
    "write_to_db = True\n"
   ]
  },
  {
   "cell_type": "code",
   "execution_count": 3,
   "metadata": {},
   "outputs": [
    {
     "name": "stdout",
     "output_type": "stream",
     "text": [
      "<module 'tensorflow._api.v2.version' from '/home/swhors/jupyter-workspace/finance/venv/lib/python3.11/site-packages/tensorflow/_api/v2/version/__init__.py'>\n"
     ]
    }
   ],
   "source": [
    "import tensorflow as tf\n",
    "print(f'{tf.version}')"
   ]
  },
  {
   "cell_type": "code",
   "execution_count": 3,
   "metadata": {},
   "outputs": [
    {
     "name": "stdout",
     "output_type": "stream",
     "text": [
      "completed to load data. 2025-05-29 12:50:06.647888\n"
     ]
    }
   ],
   "source": [
    "dataset_dicts = {\n",
    "    1: DataLoader(data_dir=data_dir,\n",
    "                  training_length=training_length,\n",
    "                  window_prev=window,\n",
    "                  mode=mode,\n",
    "                  from_pos=0,\n",
    "                  verbose=False\n",
    "                  ),\n",
    "    2: DataLoader(data_dir=data_dir,\n",
    "                  training_length=training_length,\n",
    "                  window_prev=window,\n",
    "                  mode=mode,\n",
    "                  from_pos=300,\n",
    "                  verbose=False\n",
    "                  )\n",
    "    }\n",
    "#print(f'test_X = {dataset_dicts[1].test_X}')\n",
    "print(f'completed to load data. {datetime.now()}')"
   ]
  },
  {
   "cell_type": "code",
   "execution_count": 4,
   "metadata": {},
   "outputs": [
    {
     "name": "stdout",
     "output_type": "stream",
     "text": [
      "completed to set env for all models. 2025-05-29 12:50:09.763786\n"
     ]
    }
   ],
   "source": [
    "###########\n",
    "## layers\n",
    "## LSTM Neural 계층 선언\n",
    "###########\n",
    "datasets = [dataset_dicts[1], # 0\n",
    "            dataset_dicts[2], # 1\n",
    "           ]\n",
    "\n",
    "lstm_args = {14: {\"model\":{\"learning_rate\": learning_rate[0],\n",
    "                           \"dropout\": dropout[0],\n",
    "                           \"steps\": steps[0], # last output elements count\n",
    "                           \"metrics\": metrics[1],\n",
    "                           \"last_lstm_return_sequences\": last_lstm_return_sequences[0],\n",
    "                           \"lstm_units\": lstm_units[2],\n",
    "                           \"dense_units\": dense_units[2],\n",
    "                           \"output_dense_activation\": output_dense_activation[3],\n",
    "                           \"loss\": loss[0],\n",
    "                           \"return_state\": False,\n",
    "                           \"rand_seed\": rand_seed[0] # rand_seed[0]\n",
    "                           },\n",
    "                 \"train\": {\"epochs\": epochs[2],\n",
    "                           \"is_shuffle\": False,\n",
    "                           \"batch\": 1,\n",
    "                           \"steps_per_epoch\": 0 #100\n",
    "                           },\n",
    "                 \"dataset\": datasets[0]\n",
    "                 },\n",
    "             24: {\"model\":{\"learning_rate\": learning_rate[0],\n",
    "                           \"dropout\": dropout[0],\n",
    "                           \"steps\": steps[0], # last output elements count\n",
    "                           \"metrics\": metrics[1],\n",
    "                           \"last_lstm_return_sequences\": last_lstm_return_sequences[0],\n",
    "                           \"lstm_units\": lstm_units[2],\n",
    "                           \"dense_units\": dense_units[2],\n",
    "                           \"output_dense_activation\": output_dense_activation[3],\n",
    "                           \"loss\": loss[0],\n",
    "                           \"return_state\": False,\n",
    "                           \"rand_seed\": rand_seed[0] # rand_seed[0]\n",
    "                           },\n",
    "                 \"train\": {\"epochs\": epochs[0],\n",
    "                           \"is_shuffle\": False,\n",
    "                           \"batch\": 1,\n",
    "                           \"steps_per_epoch\": 0 #100\n",
    "                           },\n",
    "                 \"dataset\": datasets[0]\n",
    "                 },\n",
    "             }\n",
    "\n",
    "\n",
    "print(f'completed to set env for all models. {datetime.now()}')"
   ]
  },
  {
   "cell_type": "code",
   "execution_count": 5,
   "metadata": {},
   "outputs": [
    {
     "name": "stdout",
     "output_type": "stream",
     "text": [
      "Test Start: 53~54\n",
      "CPU 시간: 4.155471 초\n",
      "메모리 사용량: 616512 KB\n",
      "********************\n",
      "working model_version = 53  2025-05-29 12:50:11.753620\n",
      "********************\n",
      "start to train all models. 2025-05-29 12:50:11.753648\n",
      "14's training. status=start 2025-05-29 12:50:11.753664\n",
      "14's training. status=end 2025-05-29 12:50:59.310317\n",
      "24's training. status=start 2025-05-29 12:50:59.310412\n",
      "24's training. status=end 2025-05-29 12:51:26.956063\n",
      "completed to train all models. 2025-05-29 12:51:26.956161\n",
      "train to create model(53). 2025-05-29 12:51:29.956253\n",
      "CPU 시간: 99.559979 초\n",
      "메모리 사용량: 1029376 KB\n",
      "********************\n",
      "working model_version = 53  2025-05-29 12:51:57.840054\n",
      "********************\n",
      "start to train all models. 2025-05-29 12:51:57.840081\n",
      "14's training. status=start 2025-05-29 12:51:57.840092\n",
      "14's training. status=end 2025-05-29 12:52:47.200209\n",
      "24's training. status=start 2025-05-29 12:52:47.200307\n",
      "24's training. status=end 2025-05-29 12:53:14.434942\n",
      "completed to train all models. 2025-05-29 12:53:14.435042\n",
      "train to create model(53). 2025-05-29 12:53:17.435126\n",
      "CPU 시간: 195.854015 초\n",
      "메모리 사용량: 1217632 KB\n"
     ]
    }
   ],
   "source": [
    "#\n",
    "# max_model_limit 정보만큼 반복적으로 매트릭을 생성합니다.\n",
    "#\n",
    "model_version_from = 53\n",
    "model_version_end = 54\n",
    "args = {'test_id': 'P4_4_5_1_2',\n",
    "        'version': model_version_from,\n",
    "        'write_to_db': True,\n",
    "        'last': last,\n",
    "        'mode2': mode2,\n",
    "        'gen_num': 5,\n",
    "        'round_limit': 40,\n",
    "        'db_file_name': \"./db/metrics.db\"\n",
    "        }\n",
    "generate_metric(args=args, from_version=model_version_from, to_version=model_version_end, lstm_args=lstm_args)\n"
   ]
  },
  {
   "cell_type": "code",
   "execution_count": 12,
   "metadata": {},
   "outputs": [],
   "source": [
    "view_model_info = False\n",
    "if view_model_info:\n",
    "    for i in range(MAX_MODEL_CNT):\n",
    "        print(models[i][0].model.summary())"
   ]
  },
  {
   "cell_type": "code",
   "execution_count": null,
   "metadata": {},
   "outputs": [],
   "source": [
    "# all : save model\n",
    "for model in models:\n",
    "    if model is not None:\n",
    "        model[0].save()"
   ]
  },
  {
   "cell_type": "code",
   "execution_count": null,
   "metadata": {},
   "outputs": [],
   "source": []
  },
  {
   "cell_type": "code",
   "execution_count": null,
   "metadata": {},
   "outputs": [],
   "source": []
  }
 ],
 "metadata": {
  "kernelspec": {
   "display_name": "finance",
   "language": "python",
   "name": "finance"
  },
  "language_info": {
   "codemirror_mode": {
    "name": "ipython",
    "version": 3
   },
   "file_extension": ".py",
   "mimetype": "text/x-python",
   "name": "python",
   "nbconvert_exporter": "python",
   "pygments_lexer": "ipython3",
   "version": "3.11.2"
  }
 },
 "nbformat": 4,
 "nbformat_minor": 4
}
