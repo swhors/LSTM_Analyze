{
 "cells": [
  {
   "cell_type": "markdown",
   "metadata": {},
   "source": [
    "# Prediction with LSTM model (v4.5.8)\n",
    "<p style='text-align: right;'>with selectd5.csv</p>\n",
    "\n",
    "* history\n",
    "  * 2025/05/23 PM06:02 : 3번째 모델의 3번째 데이터를 사용\n",
    "  * 2025/05/27\n",
    "  * 2025/05/30 : v4.5.1 작성 시작\n",
    "  * 2025/06/04 : v4.5.2 last update\n",
    "  * 2025/06/04 : v4.5.3 작성\n",
    "  * 2025/06/05 : v4.5.4 작성\n",
    "  * 2025/06/05 : v4.5.5 작성 model_id=14\n",
    "  * 2025/06/05 : v4.5.6 작성 model_id=4\n",
    "  * 2025/06/05 : v4.5.7 작성 model_id=2\n",
    "  * 2025/06/05 : v4.5.7 작성 model_id=8"
   ]
  },
  {
   "cell_type": "code",
   "execution_count": null,
   "metadata": {},
   "outputs": [],
   "source": [
    "!pip install scikit-learn\n",
    "!pip install tensorflow-cpu\n",
    "!pip install numpy pandas keras scikit-learn matplotlib scikeras\n",
    "from datetime import datetime\n",
    "print(f'restart kernel... {datetime.now()}')"
   ]
  },
  {
   "cell_type": "code",
   "execution_count": 3,
   "metadata": {},
   "outputs": [
    {
     "name": "stdout",
     "output_type": "stream",
     "text": [
      "restart kernel... 2025-06-05 23:30:49.740578\n",
      "['/usr/lib/python38.zip', '/usr/lib/python3.8', '/usr/lib/python3.8/lib-dynload', '', '/home/simpson/.local/lib/python3.8/site-packages', '/usr/local/lib/python3.8/dist-packages', '/usr/lib/python3/dist-packages', '/home/simpson/jupyter-workspace/LSTM_Analyze']\n"
     ]
    }
   ],
   "source": [
    "def restart_kernel():\n",
    "    # Restart the kernet after libraries are loaded.\n",
    "    import IPython\n",
    "    from datetime import datetime\n",
    "    print(f'restart kernel... {datetime.now()}')\n",
    "    app = IPython.Application.instance()\n",
    "    app.kernel.do_shutdown(True)\n",
    "\n",
    "restart_kernel()\n",
    "\n",
    "import os\n",
    "import sys\n",
    "from datetime import datetime\n",
    "cwd = os.getcwd()\n",
    "sys.path.append(cwd)\n",
    "print(sys.path)"
   ]
  },
  {
   "cell_type": "code",
   "execution_count": 1,
   "metadata": {},
   "outputs": [
    {
     "name": "stderr",
     "output_type": "stream",
     "text": [
      "2025-06-05 23:30:57.926663: I tensorflow/core/platform/cpu_feature_guard.cc:182] This TensorFlow binary is optimized to use available CPU instructions in performance-critical operations.\n",
      "To enable the following instructions: AVX2 FMA, in other operations, rebuild TensorFlow with the appropriate compiler flags.\n"
     ]
    },
    {
     "name": "stdout",
     "output_type": "stream",
     "text": [
      "imported library. (2025-06-05 23:31:00.620752)\n"
     ]
    }
   ],
   "source": [
    "# load dependacies\n",
    "import os\n",
    "import time\n",
    "import resource\n",
    "from datetime import datetime\n",
    "from lib.globalvar import *\n",
    "from lib.data_loader import DataLoader\n",
    "from lib.small_predict import predict_small, print_predict_small\n",
    "from lib.activation import ActivationOutput, RecurrentActivation\n",
    "from lib.small_predict import build_and_predict, gen_multi_model, save_model, generate_metric\n",
    "from lib.common_env_sets import lstm_units, dense_units, steps, metrics, dropout\n",
    "from lib.common_env_sets import learning_rate, last_lstm_return_sequences\n",
    "from lib.common_env_sets import loss, output_dense_activation, epochs, rand_seed\n",
    "\n",
    "\n",
    "print(f\"imported library. ({datetime.now()})\")"
   ]
  },
  {
   "cell_type": "code",
   "execution_count": 2,
   "metadata": {},
   "outputs": [
    {
     "name": "stdout",
     "output_type": "stream",
     "text": [
      "finished to set environemnt. (2025-06-05 23:31:10.796978)\n"
     ]
    }
   ],
   "source": [
    "##\n",
    "## 모델링 환경 설정\n",
    "##\n",
    "window=1 # default = 1 , help = \"time stamps\"\n",
    "data_dir='./csv/selectd5.csv'\n",
    "    \n",
    "mode='predict' # help = \"back-test or predict\")\n",
    "\n",
    "mode2='sampling' # help = \"greed or sampling\")\n",
    "verb='verbose' # help = \"verbose or not_verb\")\n",
    "    \n",
    "training_length=0.95 # default = 0.9)\n",
    "from_pos = 0\n",
    "last = [[8, 11, 14, 17, 36, 39],\n",
    "        [1, 5, 18, 20, 30, 35],\n",
    "        [7, 9, 24, 40, 42, 44],\n",
    "        [3, 6, 7, 11, 12, 17],\n",
    "        [3, 13, 28, 34, 38, 42],\n",
    "        [5, 12, 24, 29, 32, 42]]\n",
    "print(f\"finished to set environemnt. ({datetime.now()})\")\n"
   ]
  },
  {
   "cell_type": "code",
   "execution_count": 3,
   "metadata": {},
   "outputs": [
    {
     "name": "stdout",
     "output_type": "stream",
     "text": [
      "completed to load data. 2025-06-05 23:31:14.486241\n"
     ]
    }
   ],
   "source": [
    "dataset_dicts = {\n",
    "    1: DataLoader(data_dir=data_dir,\n",
    "                  training_length=training_length,\n",
    "                  window_prev=window,\n",
    "                  mode=mode,\n",
    "                  from_pos=0,\n",
    "                  verbose=False\n",
    "                  ),\n",
    "    2: DataLoader(data_dir=data_dir,\n",
    "                  training_length=training_length,\n",
    "                  window_prev=window,\n",
    "                  mode=mode,\n",
    "                  from_pos=300,\n",
    "                  verbose=False\n",
    "                  )\n",
    "    }\n",
    "\n",
    "print(f'completed to load data. {datetime.now()}')"
   ]
  },
  {
   "cell_type": "code",
   "execution_count": 15,
   "metadata": {},
   "outputs": [
    {
     "name": "stdout",
     "output_type": "stream",
     "text": [
      "completed to set env for all models. 2025-06-06 02:07:15.659868\n"
     ]
    }
   ],
   "source": [
    "###########\n",
    "## layers\n",
    "## LSTM Neural 계층 선언\n",
    "###########\n",
    "datasets = [dataset_dicts[1], # 0\n",
    "            dataset_dicts[2], # 1\n",
    "           ]\n",
    "\n",
    "lstm_args = {6: {\"model\":{\"learning_rate\": learning_rate[0],\n",
    "                          \"dropout\": dropout[1],\n",
    "                          \"steps\": steps[0], # last output elements count\n",
    "                          \"metrics\": metrics[0],\n",
    "                          \"last_lstm_return_sequences\": last_lstm_return_sequences[0],\n",
    "                          \"lstm_units\": lstm_units[5],\n",
    "                          \"dense_units\": dense_units[4],\n",
    "                          \"output_dense_activation\": output_dense_activation[3],\n",
    "                          \"loss\": loss[1],\n",
    "                          \"return_state\": False,\n",
    "                          \"lstm_model\": \"Bidirectional\",\n",
    "                          \"rand_seed\": rand_seed[0] # rand_seed[0]\n",
    "                          },\n",
    "                 \"train\": {\"epochs\": epochs[3],\n",
    "                           \"is_shuffle\": False,\n",
    "                           \"batch\": 3,\n",
    "                           \"steps_per_epoch\": 90 #100\n",
    "                           },\n",
    "                 \"dataset\": datasets[0]\n",
    "                 }\n",
    "             }\n",
    "\n",
    "print(f'completed to set env for all models. {datetime.now()}')"
   ]
  },
  {
   "cell_type": "code",
   "execution_count": 16,
   "metadata": {},
   "outputs": [],
   "source": [
    "def gen_metric(test_id, gen_num, round_limit, lstm_args=lstm_args):\n",
    "    \"\"\" gen_metric \"\"\"\n",
    "    model_version_from = 1\n",
    "    model_version_end = 1\n",
    "    print(f'gen_metric.step.0 [{datetime.now()}]')\n",
    "    args = {'test_id': test_id,\n",
    "            'version': model_version_from,\n",
    "            'write_to_db': True,\n",
    "            'last': last,\n",
    "            'mode2': mode2,\n",
    "            'gen_num': gen_num,\n",
    "            'round_limit': round_limit,\n",
    "            'db_file_name': \"./db/metrics.db\"\n",
    "            }\n",
    "    print(f'gen_metric.step.1 [{datetime.now()}]')\n",
    "    generate_metric(args=args,\n",
    "                    from_version=model_version_from,\n",
    "                    to_version=model_version_end,\n",
    "                    lstm_args=lstm_args)\n",
    "    print(f'gen_metric.step.2 [{datetime.now()}]')"
   ]
  },
  {
   "cell_type": "code",
   "execution_count": null,
   "metadata": {},
   "outputs": [],
   "source": [
    "#\n",
    "# max_model_limit 정보만큼 반복적으로 매트릭을 생성합니다.\n",
    "#\n",
    "test_id='P4_5_8_1'\n",
    "gen_num=5\n",
    "round_limit=1000\n",
    "gen_metric(test_id=test_id, gen_num=gen_num, round_limit=round_limit)"
   ]
  },
  {
   "cell_type": "code",
   "execution_count": 17,
   "metadata": {},
   "outputs": [
    {
     "name": "stdout",
     "output_type": "stream",
     "text": [
      "gen_metric.step.0 [2025-06-06 02:07:21.186954]\n",
      "gen_metric.step.1 [2025-06-06 02:07:21.187356]\n",
      "Test Start: 1~1\n",
      "CPU 시간: 243.9375 초\n",
      "메모리 사용량: 1163240 KB\n",
      "generate_metric.02 args[\"version\"]=1\n",
      "********************\n",
      "working model_version = 1  2025-06-06 02:07:21.187460\n",
      "********************\n",
      "start to train all models. 2025-06-06 02:07:21.187470\n",
      "6's training. status=start 2025-06-06 02:07:21.187478\n",
      "6's training. status=end 2025-06-06 02:07:31.512736\n",
      "completed to train all models. 2025-06-06 02:07:31.512825\n",
      "train to create model(1). 2025-06-06 02:07:34.513120\n",
      "INFO:tensorflow:Assets written to: ram://43b914d3749f410c9a7ea48c31f618eb/assets\n"
     ]
    },
    {
     "name": "stderr",
     "output_type": "stream",
     "text": [
      "INFO:tensorflow:Assets written to: ram://43b914d3749f410c9a7ea48c31f618eb/assets\n"
     ]
    },
    {
     "name": "stdout",
     "output_type": "stream",
     "text": [
      "CPU 시간: 278.515625 초\n",
      "메모리 사용량: 1182696 KB\n",
      "gen_metric.step.2 [2025-06-06 02:08:40.974856]\n"
     ]
    }
   ],
   "source": [
    "#\n",
    "# max_model_limit 정보만큼 반복적으로 매트릭을 생성합니다.\n",
    "#\n",
    "test_id='P4_5_8_2'\n",
    "gen_num=1\n",
    "round_limit=1000\n",
    "gen_metric(test_id=test_id, gen_num=gen_num, round_limit=round_limit)"
   ]
  },
  {
   "cell_type": "code",
   "execution_count": 18,
   "metadata": {},
   "outputs": [
    {
     "name": "stdout",
     "output_type": "stream",
     "text": [
      "gen_metric.step.0 [2025-06-06 02:10:25.684145]\n",
      "gen_metric.step.1 [2025-06-06 02:10:25.684304]\n",
      "Test Start: 1~1\n",
      "CPU 시간: 278.78125 초\n",
      "메모리 사용량: 1182696 KB\n",
      "generate_metric.02 args[\"version\"]=1\n",
      "********************\n",
      "working model_version = 1  2025-06-06 02:10:25.684374\n",
      "********************\n",
      "start to train all models. 2025-06-06 02:10:25.684383\n",
      "6's training. status=start 2025-06-06 02:10:25.684390\n",
      "6's training. status=end 2025-06-06 02:10:35.517757\n",
      "completed to train all models. 2025-06-06 02:10:35.517847\n",
      "train to create model(1). 2025-06-06 02:10:38.517905\n",
      "INFO:tensorflow:Assets written to: ram://abd0eaf73214454691925600f99a9553/assets\n"
     ]
    },
    {
     "name": "stderr",
     "output_type": "stream",
     "text": [
      "INFO:tensorflow:Assets written to: ram://abd0eaf73214454691925600f99a9553/assets\n"
     ]
    },
    {
     "name": "stdout",
     "output_type": "stream",
     "text": [
      "CPU 시간: 313.421875 초\n",
      "메모리 사용량: 1198276 KB\n",
      "gen_metric.step.2 [2025-06-06 02:11:43.326464]\n"
     ]
    }
   ],
   "source": [
    "#\n",
    "# max_model_limit 정보만큼 반복적으로 매트릭을 생성합니다.\n",
    "#\n",
    "test_id='P4_5_8_3'\n",
    "gen_num=1\n",
    "round_limit=1000\n",
    "gen_metric(test_id=test_id, gen_num=gen_num, round_limit=round_limit)"
   ]
  },
  {
   "cell_type": "code",
   "execution_count": 19,
   "metadata": {},
   "outputs": [
    {
     "name": "stdout",
     "output_type": "stream",
     "text": [
      "gen_metric.step.0 [2025-06-06 02:11:50.197122]\n",
      "gen_metric.step.1 [2025-06-06 02:11:50.197373]\n",
      "Test Start: 1~1\n",
      "CPU 시간: 313.734375 초\n",
      "메모리 사용량: 1198276 KB\n",
      "generate_metric.02 args[\"version\"]=1\n",
      "********************\n",
      "working model_version = 1  2025-06-06 02:11:50.197439\n",
      "********************\n",
      "start to train all models. 2025-06-06 02:11:50.197447\n",
      "6's training. status=start 2025-06-06 02:11:50.197454\n",
      "6's training. status=end 2025-06-06 02:12:00.343797\n",
      "completed to train all models. 2025-06-06 02:12:00.343877\n",
      "train to create model(1). 2025-06-06 02:12:03.344381\n",
      "INFO:tensorflow:Assets written to: ram://c2260105d66a4798a484b57f5b854e7f/assets\n"
     ]
    },
    {
     "name": "stderr",
     "output_type": "stream",
     "text": [
      "INFO:tensorflow:Assets written to: ram://c2260105d66a4798a484b57f5b854e7f/assets\n"
     ]
    },
    {
     "name": "stdout",
     "output_type": "stream",
     "text": [
      "CPU 시간: 348.65625 초\n",
      "메모리 사용량: 1214388 KB\n",
      "gen_metric.step.2 [2025-06-06 02:13:09.520634]\n"
     ]
    }
   ],
   "source": [
    "#\n",
    "# max_model_limit 정보만큼 반복적으로 매트릭을 생성합니다.\n",
    "#\n",
    "test_id='P4_5_8_4'\n",
    "gen_num=1\n",
    "round_limit=1000\n",
    "gen_metric(test_id=test_id, gen_num=gen_num, round_limit=round_limit)"
   ]
  },
  {
   "cell_type": "code",
   "execution_count": 20,
   "metadata": {},
   "outputs": [
    {
     "name": "stdout",
     "output_type": "stream",
     "text": [
      "gen_metric.step.0 [2025-06-06 02:13:26.775072]\n",
      "gen_metric.step.1 [2025-06-06 02:13:26.775542]\n",
      "Test Start: 1~1\n",
      "CPU 시간: 348.9375 초\n",
      "메모리 사용량: 1214388 KB\n",
      "generate_metric.02 args[\"version\"]=1\n",
      "********************\n",
      "working model_version = 1  2025-06-06 02:13:26.775613\n",
      "********************\n",
      "start to train all models. 2025-06-06 02:13:26.775621\n",
      "6's training. status=start 2025-06-06 02:13:26.775629\n",
      "6's training. status=end 2025-06-06 02:13:37.211419\n",
      "completed to train all models. 2025-06-06 02:13:37.211499\n",
      "train to create model(1). 2025-06-06 02:13:40.212066\n",
      "INFO:tensorflow:Assets written to: ram://7c00140fe8f641efbfc7d2fc8fa2e15f/assets\n"
     ]
    },
    {
     "name": "stderr",
     "output_type": "stream",
     "text": [
      "INFO:tensorflow:Assets written to: ram://7c00140fe8f641efbfc7d2fc8fa2e15f/assets\n"
     ]
    },
    {
     "name": "stdout",
     "output_type": "stream",
     "text": [
      "CPU 시간: 383.203125 초\n",
      "메모리 사용량: 1228328 KB\n",
      "gen_metric.step.2 [2025-06-06 02:14:46.162217]\n"
     ]
    }
   ],
   "source": [
    "#\n",
    "# max_model_limit 정보만큼 반복적으로 매트릭을 생성합니다.\n",
    "#\n",
    "test_id='P4_5_8_5'\n",
    "gen_num=1\n",
    "round_limit=1000\n",
    "gen_metric(test_id=test_id, gen_num=gen_num, round_limit=round_limit)"
   ]
  },
  {
   "cell_type": "code",
   "execution_count": 21,
   "metadata": {},
   "outputs": [
    {
     "name": "stdout",
     "output_type": "stream",
     "text": [
      "gen_metric.step.0 [2025-06-06 02:14:51.369412]\n",
      "gen_metric.step.1 [2025-06-06 02:14:51.369721]\n",
      "Test Start: 1~1\n",
      "CPU 시간: 383.375 초\n",
      "메모리 사용량: 1228328 KB\n",
      "generate_metric.02 args[\"version\"]=1\n",
      "********************\n",
      "working model_version = 1  2025-06-06 02:14:51.369791\n",
      "********************\n",
      "start to train all models. 2025-06-06 02:14:51.369799\n",
      "6's training. status=start 2025-06-06 02:14:51.369806\n",
      "6's training. status=end 2025-06-06 02:15:01.692008\n",
      "completed to train all models. 2025-06-06 02:15:01.692086\n",
      "train to create model(1). 2025-06-06 02:15:04.692406\n",
      "INFO:tensorflow:Assets written to: ram://d6058c02ed9e47e28fbb5ec172ece60f/assets\n"
     ]
    },
    {
     "name": "stderr",
     "output_type": "stream",
     "text": [
      "INFO:tensorflow:Assets written to: ram://d6058c02ed9e47e28fbb5ec172ece60f/assets\n"
     ]
    },
    {
     "name": "stdout",
     "output_type": "stream",
     "text": [
      "CPU 시간: 418.546875 초\n",
      "메모리 사용량: 1247088 KB\n",
      "gen_metric.step.2 [2025-06-06 02:16:11.276324]\n"
     ]
    }
   ],
   "source": [
    "#\n",
    "# max_model_limit 정보만큼 반복적으로 매트릭을 생성합니다.\n",
    "#\n",
    "test_id='P4_5_8_6'\n",
    "gen_num=1\n",
    "round_limit=1000\n",
    "gen_metric(test_id=test_id, gen_num=gen_num, round_limit=round_limit)"
   ]
  },
  {
   "cell_type": "code",
   "execution_count": 22,
   "metadata": {},
   "outputs": [
    {
     "name": "stdout",
     "output_type": "stream",
     "text": [
      "gen_metric.step.0 [2025-06-06 02:16:30.666279]\n",
      "gen_metric.step.1 [2025-06-06 02:16:30.666535]\n",
      "Test Start: 1~1\n",
      "CPU 시간: 418.734375 초\n",
      "메모리 사용량: 1247088 KB\n",
      "generate_metric.02 args[\"version\"]=1\n",
      "********************\n",
      "working model_version = 1  2025-06-06 02:16:30.666615\n",
      "********************\n",
      "start to train all models. 2025-06-06 02:16:30.666624\n",
      "6's training. status=start 2025-06-06 02:16:30.666639\n",
      "6's training. status=end 2025-06-06 02:16:41.910890\n",
      "completed to train all models. 2025-06-06 02:16:41.910974\n",
      "train to create model(1). 2025-06-06 02:16:44.911198\n",
      "INFO:tensorflow:Assets written to: ram://f248e39eb0f74e30bd8ecceaaa5dc821/assets\n"
     ]
    },
    {
     "name": "stderr",
     "output_type": "stream",
     "text": [
      "INFO:tensorflow:Assets written to: ram://f248e39eb0f74e30bd8ecceaaa5dc821/assets\n"
     ]
    },
    {
     "name": "stdout",
     "output_type": "stream",
     "text": [
      "CPU 시간: 453.703125 초\n",
      "메모리 사용량: 1263492 KB\n",
      "gen_metric.step.2 [2025-06-06 02:17:52.385885]\n"
     ]
    }
   ],
   "source": [
    "#\n",
    "# max_model_limit 정보만큼 반복적으로 매트릭을 생성합니다.\n",
    "#\n",
    "test_id='P4_5_8_7'\n",
    "gen_num=1\n",
    "round_limit=1000\n",
    "gen_metric(test_id=test_id, gen_num=gen_num, round_limit=round_limit)"
   ]
  },
  {
   "cell_type": "code",
   "execution_count": 23,
   "metadata": {},
   "outputs": [
    {
     "name": "stdout",
     "output_type": "stream",
     "text": [
      "gen_metric.step.0 [2025-06-06 02:17:59.652541]\n",
      "gen_metric.step.1 [2025-06-06 02:17:59.652812]\n",
      "Test Start: 1~1\n",
      "CPU 시간: 454.0 초\n",
      "메모리 사용량: 1263492 KB\n",
      "generate_metric.02 args[\"version\"]=1\n",
      "********************\n",
      "working model_version = 1  2025-06-06 02:17:59.652880\n",
      "********************\n",
      "start to train all models. 2025-06-06 02:17:59.652888\n",
      "6's training. status=start 2025-06-06 02:17:59.652896\n",
      "6's training. status=end 2025-06-06 02:18:10.201721\n",
      "completed to train all models. 2025-06-06 02:18:10.201803\n",
      "train to create model(1). 2025-06-06 02:18:13.201913\n",
      "INFO:tensorflow:Assets written to: ram://bf5ebb48fa064de691fc311bfed87bff/assets\n"
     ]
    },
    {
     "name": "stderr",
     "output_type": "stream",
     "text": [
      "INFO:tensorflow:Assets written to: ram://bf5ebb48fa064de691fc311bfed87bff/assets\n"
     ]
    },
    {
     "name": "stdout",
     "output_type": "stream",
     "text": [
      "CPU 시간: 489.15625 초\n",
      "메모리 사용량: 1277732 KB\n",
      "gen_metric.step.2 [2025-06-06 02:19:21.340037]\n"
     ]
    }
   ],
   "source": [
    "#\n",
    "# max_model_limit 정보만큼 반복적으로 매트릭을 생성합니다.\n",
    "#\n",
    "test_id='P4_5_8_8'\n",
    "gen_num=1\n",
    "round_limit=1000\n",
    "gen_metric(test_id=test_id, gen_num=gen_num, round_limit=round_limit)"
   ]
  },
  {
   "cell_type": "code",
   "execution_count": null,
   "metadata": {},
   "outputs": [],
   "source": [
    "## end"
   ]
  },
  {
   "cell_type": "code",
   "execution_count": null,
   "metadata": {},
   "outputs": [],
   "source": []
  }
 ],
 "metadata": {
  "kernelspec": {
   "display_name": "Python 3 (ipykernel)",
   "language": "python",
   "name": "python3"
  },
  "language_info": {
   "codemirror_mode": {
    "name": "ipython",
    "version": 3
   },
   "file_extension": ".py",
   "mimetype": "text/x-python",
   "name": "python",
   "nbconvert_exporter": "python",
   "pygments_lexer": "ipython3",
   "version": "3.12.3"
  }
 },
 "nbformat": 4,
 "nbformat_minor": 4
}
