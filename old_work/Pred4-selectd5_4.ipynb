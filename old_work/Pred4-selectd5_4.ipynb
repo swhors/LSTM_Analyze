{
 "cells": [
  {
   "cell_type": "markdown",
   "metadata": {},
   "source": [
    "# Prediction with LSTM model (v4.5.4)\n",
    "<p style='text-align: right;'>with selectd5.csv</p>\n",
    "\n",
    "* history\n",
    "  * 2025/05/23 PM06:02 : 3번째 모델의 3번째 데이터를 사용\n",
    "  * 2025/05/27\n",
    "  * 2025/05/30 : v4.5.1 작성 시작\n",
    "  * 2025/06/04 : v4.5.2 last update\n",
    "  * 2025/06/04 : v4.5.3 작성\n",
    "  * 2025/06/05 : v4.5.4 작성"
   ]
  },
  {
   "cell_type": "code",
   "execution_count": 8,
   "metadata": {},
   "outputs": [
    {
     "name": "stdout",
     "output_type": "stream",
     "text": [
      "Looking in indexes: https://pypi.org/simple, https://www.piwheels.org/simple\n",
      "Requirement already satisfied: scikit-learn in /home/swhors/jupyter-workspace/finance/venv/lib/python3.11/site-packages (1.5.2)\n",
      "Requirement already satisfied: numpy>=1.19.5 in /home/swhors/jupyter-workspace/finance/venv/lib/python3.11/site-packages (from scikit-learn) (2.1.3)\n",
      "Requirement already satisfied: scipy>=1.6.0 in /home/swhors/jupyter-workspace/finance/venv/lib/python3.11/site-packages (from scikit-learn) (1.15.2)\n",
      "Requirement already satisfied: joblib>=1.2.0 in /home/swhors/jupyter-workspace/finance/venv/lib/python3.11/site-packages (from scikit-learn) (1.4.2)\n",
      "Requirement already satisfied: threadpoolctl>=3.1.0 in /home/swhors/jupyter-workspace/finance/venv/lib/python3.11/site-packages (from scikit-learn) (3.6.0)\n",
      "Looking in indexes: https://pypi.org/simple, https://www.piwheels.org/simple\n",
      "Requirement already satisfied: tensorflow in /home/swhors/jupyter-workspace/finance/venv/lib/python3.11/site-packages (2.19.0)\n",
      "Requirement already satisfied: absl-py>=1.0.0 in /home/swhors/jupyter-workspace/finance/venv/lib/python3.11/site-packages (from tensorflow) (2.2.2)\n",
      "Requirement already satisfied: astunparse>=1.6.0 in /home/swhors/jupyter-workspace/finance/venv/lib/python3.11/site-packages (from tensorflow) (1.6.3)\n",
      "Requirement already satisfied: flatbuffers>=24.3.25 in /home/swhors/jupyter-workspace/finance/venv/lib/python3.11/site-packages (from tensorflow) (20181003210633)\n",
      "Requirement already satisfied: gast!=0.5.0,!=0.5.1,!=0.5.2,>=0.2.1 in /home/swhors/jupyter-workspace/finance/venv/lib/python3.11/site-packages (from tensorflow) (0.6.0)\n",
      "Requirement already satisfied: google-pasta>=0.1.1 in /home/swhors/jupyter-workspace/finance/venv/lib/python3.11/site-packages (from tensorflow) (0.2.0)\n",
      "Requirement already satisfied: libclang>=13.0.0 in /home/swhors/jupyter-workspace/finance/venv/lib/python3.11/site-packages (from tensorflow) (18.1.1)\n",
      "Requirement already satisfied: opt-einsum>=2.3.2 in /home/swhors/jupyter-workspace/finance/venv/lib/python3.11/site-packages (from tensorflow) (3.4.0)\n",
      "Requirement already satisfied: packaging in /home/swhors/jupyter-workspace/finance/venv/lib/python3.11/site-packages (from tensorflow) (24.1)\n",
      "Requirement already satisfied: protobuf!=4.21.0,!=4.21.1,!=4.21.2,!=4.21.3,!=4.21.4,!=4.21.5,<6.0.0dev,>=3.20.3 in /home/swhors/jupyter-workspace/finance/venv/lib/python3.11/site-packages (from tensorflow) (5.29.4)\n",
      "Requirement already satisfied: requests<3,>=2.21.0 in /home/swhors/jupyter-workspace/finance/venv/lib/python3.11/site-packages (from tensorflow) (2.32.3)\n",
      "Requirement already satisfied: setuptools in /home/swhors/jupyter-workspace/finance/venv/lib/python3.11/site-packages (from tensorflow) (66.1.1)\n",
      "Requirement already satisfied: six>=1.12.0 in /home/swhors/jupyter-workspace/finance/venv/lib/python3.11/site-packages (from tensorflow) (1.17.0)\n",
      "Requirement already satisfied: termcolor>=1.1.0 in /home/swhors/jupyter-workspace/finance/venv/lib/python3.11/site-packages (from tensorflow) (3.0.1)\n",
      "Requirement already satisfied: typing-extensions>=3.6.6 in /home/swhors/jupyter-workspace/finance/venv/lib/python3.11/site-packages (from tensorflow) (4.12.2)\n",
      "Requirement already satisfied: wrapt>=1.11.0 in /home/swhors/jupyter-workspace/finance/venv/lib/python3.11/site-packages (from tensorflow) (1.17.2)\n",
      "Requirement already satisfied: grpcio<2.0,>=1.24.3 in /home/swhors/jupyter-workspace/finance/venv/lib/python3.11/site-packages (from tensorflow) (1.71.0)\n",
      "Requirement already satisfied: tensorboard~=2.19.0 in /home/swhors/jupyter-workspace/finance/venv/lib/python3.11/site-packages (from tensorflow) (2.19.0)\n",
      "Requirement already satisfied: keras>=3.5.0 in /home/swhors/jupyter-workspace/finance/venv/lib/python3.11/site-packages (from tensorflow) (3.9.2)\n",
      "Requirement already satisfied: numpy<2.2.0,>=1.26.0 in /home/swhors/jupyter-workspace/finance/venv/lib/python3.11/site-packages (from tensorflow) (2.1.3)\n",
      "Requirement already satisfied: h5py>=3.11.0 in /home/swhors/jupyter-workspace/finance/venv/lib/python3.11/site-packages (from tensorflow) (3.13.0)\n",
      "Requirement already satisfied: ml-dtypes<1.0.0,>=0.5.1 in /home/swhors/jupyter-workspace/finance/venv/lib/python3.11/site-packages (from tensorflow) (0.5.1)\n",
      "Requirement already satisfied: tensorflow-io-gcs-filesystem>=0.23.1 in /home/swhors/jupyter-workspace/finance/venv/lib/python3.11/site-packages (from tensorflow) (0.37.1)\n",
      "Requirement already satisfied: wheel<1.0,>=0.23.0 in /home/swhors/jupyter-workspace/finance/venv/lib/python3.11/site-packages (from astunparse>=1.6.0->tensorflow) (0.45.1)\n",
      "Requirement already satisfied: rich in /home/swhors/jupyter-workspace/finance/venv/lib/python3.11/site-packages (from keras>=3.5.0->tensorflow) (14.0.0)\n",
      "Requirement already satisfied: namex in /home/swhors/jupyter-workspace/finance/venv/lib/python3.11/site-packages (from keras>=3.5.0->tensorflow) (0.0.9)\n",
      "Requirement already satisfied: optree in /home/swhors/jupyter-workspace/finance/venv/lib/python3.11/site-packages (from keras>=3.5.0->tensorflow) (0.15.0)\n",
      "Requirement already satisfied: charset-normalizer<4,>=2 in /home/swhors/jupyter-workspace/finance/venv/lib/python3.11/site-packages (from requests<3,>=2.21.0->tensorflow) (3.4.1)\n",
      "Requirement already satisfied: idna<4,>=2.5 in /home/swhors/jupyter-workspace/finance/venv/lib/python3.11/site-packages (from requests<3,>=2.21.0->tensorflow) (3.10)\n",
      "Requirement already satisfied: urllib3<3,>=1.21.1 in /home/swhors/jupyter-workspace/finance/venv/lib/python3.11/site-packages (from requests<3,>=2.21.0->tensorflow) (1.26.20)\n",
      "Requirement already satisfied: certifi>=2017.4.17 in /home/swhors/jupyter-workspace/finance/venv/lib/python3.11/site-packages (from requests<3,>=2.21.0->tensorflow) (2025.1.31)\n",
      "Requirement already satisfied: markdown>=2.6.8 in /home/swhors/jupyter-workspace/finance/venv/lib/python3.11/site-packages (from tensorboard~=2.19.0->tensorflow) (3.8)\n",
      "Requirement already satisfied: tensorboard-data-server<0.8.0,>=0.7.0 in /home/swhors/jupyter-workspace/finance/venv/lib/python3.11/site-packages (from tensorboard~=2.19.0->tensorflow) (0.7.2)\n",
      "Requirement already satisfied: werkzeug>=1.0.1 in /home/swhors/jupyter-workspace/finance/venv/lib/python3.11/site-packages (from tensorboard~=2.19.0->tensorflow) (3.1.3)\n",
      "Requirement already satisfied: MarkupSafe>=2.1.1 in /home/swhors/jupyter-workspace/finance/venv/lib/python3.11/site-packages (from werkzeug>=1.0.1->tensorboard~=2.19.0->tensorflow) (3.0.2)\n",
      "Requirement already satisfied: markdown-it-py>=2.2.0 in /home/swhors/jupyter-workspace/finance/venv/lib/python3.11/site-packages (from rich->keras>=3.5.0->tensorflow) (3.0.0)\n",
      "Requirement already satisfied: pygments<3.0.0,>=2.13.0 in /home/swhors/jupyter-workspace/finance/venv/lib/python3.11/site-packages (from rich->keras>=3.5.0->tensorflow) (2.18.0)\n",
      "Requirement already satisfied: mdurl~=0.1 in /home/swhors/jupyter-workspace/finance/venv/lib/python3.11/site-packages (from markdown-it-py>=2.2.0->rich->keras>=3.5.0->tensorflow) (0.1.2)\n",
      "Looking in indexes: https://pypi.org/simple, https://www.piwheels.org/simple\n",
      "Requirement already satisfied: numpy in /home/swhors/jupyter-workspace/finance/venv/lib/python3.11/site-packages (2.1.3)\n",
      "Requirement already satisfied: pandas in /home/swhors/jupyter-workspace/finance/venv/lib/python3.11/site-packages (2.2.3)\n",
      "Requirement already satisfied: keras in /home/swhors/jupyter-workspace/finance/venv/lib/python3.11/site-packages (3.9.2)\n",
      "Requirement already satisfied: scikit-learn in /home/swhors/jupyter-workspace/finance/venv/lib/python3.11/site-packages (1.5.2)\n",
      "Requirement already satisfied: matplotlib in /home/swhors/jupyter-workspace/finance/venv/lib/python3.11/site-packages (3.10.0)\n",
      "Requirement already satisfied: scikeras in /home/swhors/jupyter-workspace/finance/venv/lib/python3.11/site-packages (0.13.0)\n",
      "Requirement already satisfied: python-dateutil>=2.8.2 in /home/swhors/jupyter-workspace/finance/venv/lib/python3.11/site-packages (from pandas) (2.8.2)\n",
      "Requirement already satisfied: pytz>=2020.1 in /home/swhors/jupyter-workspace/finance/venv/lib/python3.11/site-packages (from pandas) (2025.2)\n",
      "Requirement already satisfied: tzdata>=2022.7 in /home/swhors/jupyter-workspace/finance/venv/lib/python3.11/site-packages (from pandas) (2025.2)\n",
      "Requirement already satisfied: absl-py in /home/swhors/jupyter-workspace/finance/venv/lib/python3.11/site-packages (from keras) (2.2.2)\n",
      "Requirement already satisfied: rich in /home/swhors/jupyter-workspace/finance/venv/lib/python3.11/site-packages (from keras) (14.0.0)\n",
      "Requirement already satisfied: namex in /home/swhors/jupyter-workspace/finance/venv/lib/python3.11/site-packages (from keras) (0.0.9)\n",
      "Requirement already satisfied: h5py in /home/swhors/jupyter-workspace/finance/venv/lib/python3.11/site-packages (from keras) (3.13.0)\n",
      "Requirement already satisfied: optree in /home/swhors/jupyter-workspace/finance/venv/lib/python3.11/site-packages (from keras) (0.15.0)\n",
      "Requirement already satisfied: ml-dtypes in /home/swhors/jupyter-workspace/finance/venv/lib/python3.11/site-packages (from keras) (0.5.1)\n",
      "Requirement already satisfied: packaging in /home/swhors/jupyter-workspace/finance/venv/lib/python3.11/site-packages (from keras) (24.1)\n",
      "Requirement already satisfied: scipy>=1.6.0 in /home/swhors/jupyter-workspace/finance/venv/lib/python3.11/site-packages (from scikit-learn) (1.15.2)\n",
      "Requirement already satisfied: joblib>=1.2.0 in /home/swhors/jupyter-workspace/finance/venv/lib/python3.11/site-packages (from scikit-learn) (1.4.2)\n",
      "Requirement already satisfied: threadpoolctl>=3.1.0 in /home/swhors/jupyter-workspace/finance/venv/lib/python3.11/site-packages (from scikit-learn) (3.6.0)\n",
      "Requirement already satisfied: contourpy>=1.0.1 in /home/swhors/jupyter-workspace/finance/venv/lib/python3.11/site-packages (from matplotlib) (1.3.1)\n",
      "Requirement already satisfied: cycler>=0.10 in /home/swhors/jupyter-workspace/finance/venv/lib/python3.11/site-packages (from matplotlib) (0.12.1)\n",
      "Requirement already satisfied: fonttools>=4.22.0 in /home/swhors/jupyter-workspace/finance/venv/lib/python3.11/site-packages (from matplotlib) (4.55.3)\n",
      "Requirement already satisfied: kiwisolver>=1.3.1 in /home/swhors/jupyter-workspace/finance/venv/lib/python3.11/site-packages (from matplotlib) (1.4.8)\n",
      "Requirement already satisfied: pillow>=8 in /home/swhors/jupyter-workspace/finance/venv/lib/python3.11/site-packages (from matplotlib) (11.1.0)\n",
      "Requirement already satisfied: pyparsing>=2.3.1 in /home/swhors/jupyter-workspace/finance/venv/lib/python3.11/site-packages (from matplotlib) (3.1.4)\n",
      "Requirement already satisfied: six>=1.5 in /home/swhors/jupyter-workspace/finance/venv/lib/python3.11/site-packages (from python-dateutil>=2.8.2->pandas) (1.17.0)\n",
      "Requirement already satisfied: typing-extensions>=4.5.0 in /home/swhors/jupyter-workspace/finance/venv/lib/python3.11/site-packages (from optree->keras) (4.12.2)\n",
      "Requirement already satisfied: markdown-it-py>=2.2.0 in /home/swhors/jupyter-workspace/finance/venv/lib/python3.11/site-packages (from rich->keras) (3.0.0)\n",
      "Requirement already satisfied: pygments<3.0.0,>=2.13.0 in /home/swhors/jupyter-workspace/finance/venv/lib/python3.11/site-packages (from rich->keras) (2.18.0)\n",
      "Requirement already satisfied: mdurl~=0.1 in /home/swhors/jupyter-workspace/finance/venv/lib/python3.11/site-packages (from markdown-it-py>=2.2.0->rich->keras) (0.1.2)\n",
      "restart kernel... 2025-06-05 13:12:57.373125\n"
     ]
    }
   ],
   "source": [
    "!pip install scikit-learn\n",
    "!pip install tensorflow\n",
    "!pip install numpy pandas keras scikit-learn matplotlib scikeras\n",
    "from datetime import datetime\n",
    "print(f'restart kernel... {datetime.now()}')"
   ]
  },
  {
   "cell_type": "code",
   "execution_count": 9,
   "metadata": {},
   "outputs": [
    {
     "name": "stdout",
     "output_type": "stream",
     "text": [
      "restart kernel... 2025-06-04 13:35:20.751728\n",
      "['/home/swhors/jupyter-workspace/LSTM/$PWD', '/home/swhors/jupyter-workspace/finance', '/home/swhors/jupyter-workspace/finance/venv/lib/python3.11/site-paches', '/usr/lib/python311.zip', '/usr/lib/python3.11', '/usr/lib/python3.11/lib-dynload', '', '/home/swhors/jupyter-workspace/finance/venv/lib/python3.11/site-packages', '/home/swhors/jupyter-workspace/LSTM']\n"
     ]
    }
   ],
   "source": [
    "def restart_kernel():\n",
    "    # Restart the kernet after libraries are loaded.\n",
    "    import IPython\n",
    "    from datetime import datetime\n",
    "    print(f'restart kernel... {datetime.now()}')\n",
    "    app = IPython.Application.instance()\n",
    "    app.kernel.do_shutdown(True)\n",
    "\n",
    "restart_kernel()\n",
    "\n",
    "import os\n",
    "import sys\n",
    "from datetime import datetime\n",
    "cwd = os.getcwd()\n",
    "sys.path.append(cwd)\n",
    "print(sys.path)"
   ]
  },
  {
   "cell_type": "code",
   "execution_count": 1,
   "metadata": {},
   "outputs": [
    {
     "name": "stdout",
     "output_type": "stream",
     "text": [
      "imported library. (2025-06-05 10:55:43.949441)\n"
     ]
    }
   ],
   "source": [
    "# load dependacies\n",
    "import os\n",
    "import time\n",
    "import resource\n",
    "from datetime import datetime\n",
    "from lib.globalvar import *\n",
    "from lib.data_loader import DataLoader\n",
    "from lib.small_predict import predict_small, print_predict_small\n",
    "from lib.activation import ActivationOutput, RecurrentActivation\n",
    "from lib.small_predict import build_and_predict, gen_multi_model, save_model, generate_metric\n",
    "from lib.common_env_sets import lstm_units, dense_units, steps, metrics, dropout\n",
    "from lib.common_env_sets import learning_rate, last_lstm_return_sequences\n",
    "from lib.common_env_sets import loss, output_dense_activation, epochs, rand_seed\n",
    "\n",
    "\n",
    "print(f\"imported library. ({datetime.now()})\")"
   ]
  },
  {
   "cell_type": "code",
   "execution_count": 2,
   "metadata": {},
   "outputs": [
    {
     "name": "stdout",
     "output_type": "stream",
     "text": [
      "finished to set environemnt. (2025-06-05 10:56:04.107946)\n"
     ]
    }
   ],
   "source": [
    "##\n",
    "## 모델링 환경 설정\n",
    "##\n",
    "window=1 # default = 1 , help = \"time stamps\"\n",
    "data_dir='./csv/selectd5.csv'\n",
    "    \n",
    "mode='predict' # help = \"back-test or predict\")\n",
    "\n",
    "mode2='sampling' # help = \"greed or sampling\")\n",
    "verb='verbose' # help = \"verbose or not_verb\")\n",
    "    \n",
    "training_length=0.95 # default = 0.9)\n",
    "from_pos = 0\n",
    "last = [[8, 11, 14, 17, 36, 39],\n",
    "        [1, 5, 18, 20, 30, 35],\n",
    "        [7, 9, 24, 40, 42, 44],\n",
    "        [3, 6, 7, 11, 12, 17],\n",
    "        [3, 13, 28, 34, 38, 42],\n",
    "        [5, 12, 24, 29, 32, 42]]\n",
    "print(f\"finished to set environemnt. ({datetime.now()})\")\n"
   ]
  },
  {
   "cell_type": "code",
   "execution_count": 3,
   "metadata": {},
   "outputs": [
    {
     "name": "stdout",
     "output_type": "stream",
     "text": [
      "completed to load data. 2025-06-05 10:56:07.284056\n"
     ]
    }
   ],
   "source": [
    "dataset_dicts = {\n",
    "    1: DataLoader(data_dir=data_dir,\n",
    "                  training_length=training_length,\n",
    "                  window_prev=window,\n",
    "                  mode=mode,\n",
    "                  from_pos=0,\n",
    "                  verbose=False\n",
    "                  ),\n",
    "    2: DataLoader(data_dir=data_dir,\n",
    "                  training_length=training_length,\n",
    "                  window_prev=window,\n",
    "                  mode=mode,\n",
    "                  from_pos=300,\n",
    "                  verbose=False\n",
    "                  )\n",
    "    }\n",
    "\n",
    "print(f'completed to load data. {datetime.now()}')"
   ]
  },
  {
   "cell_type": "code",
   "execution_count": 4,
   "metadata": {},
   "outputs": [
    {
     "name": "stdout",
     "output_type": "stream",
     "text": [
      "completed to set env for all models. 2025-06-05 10:56:13.254372\n"
     ]
    }
   ],
   "source": [
    "###########\n",
    "## layers\n",
    "## LSTM Neural 계층 선언\n",
    "###########\n",
    "datasets = [dataset_dicts[1], # 0\n",
    "            dataset_dicts[2], # 1\n",
    "           ]\n",
    "\n",
    "lstm_args = {44: {\"model\":{\"learning_rate\": learning_rate[0],\n",
    "                           \"dropout\": dropout[0],\n",
    "                           \"steps\": steps[0], # last output elements count\n",
    "                           \"metrics\": metrics[0],\n",
    "                           \"last_lstm_return_sequences\": last_lstm_return_sequences[1],\n",
    "                           \"lstm_units\": lstm_units[2],\n",
    "                           \"dense_units\": dense_units[2],\n",
    "                           \"output_dense_activation\": output_dense_activation[3],\n",
    "                           \"loss\": loss[0],\n",
    "                           \"return_state\": False,\n",
    "                           \"rand_seed\": rand_seed[0] # rand_seed[0]\n",
    "                           },\n",
    "                 \"train\": {\"epochs\": epochs[3],\n",
    "                           \"is_shuffle\": False,\n",
    "                           \"batch\": 1,\n",
    "                           \"steps_per_epoch\": 0 #100\n",
    "                           },\n",
    "                 \"dataset\": datasets[0]\n",
    "                 },\n",
    "             }\n",
    "\n",
    "print(f'completed to set env for all models. {datetime.now()}')"
   ]
  },
  {
   "cell_type": "code",
   "execution_count": 5,
   "metadata": {},
   "outputs": [
    {
     "name": "stdout",
     "output_type": "stream",
     "text": [
      "Test Start: 1~1\n",
      "CPU 시간: 4.253573 초\n",
      "메모리 사용량: 611888 KB\n",
      "generate_metric.02 args[\"version\"]=1\n",
      "********************\n",
      "working model_version = 1  2025-06-05 10:56:17.149979\n",
      "********************\n",
      "start to train all models. 2025-06-05 10:56:17.150010\n",
      "44's training. status=start 2025-06-05 10:56:17.150025\n",
      "44's training. status=end 2025-06-05 10:57:46.493760\n",
      "completed to train all models. 2025-06-05 10:57:46.493858\n",
      "train to create model(1). 2025-06-05 10:57:49.493942\n",
      "CPU 시간: 247.24722 초\n",
      "메모리 사용량: 866880 KB\n"
     ]
    }
   ],
   "source": [
    "#\n",
    "# max_model_limit 정보만큼 반복적으로 매트릭을 생성합니다.\n",
    "#\n",
    "model_version_from = 1\n",
    "model_version_end = 1\n",
    "args = {'test_id': 'P4_5_4_1',\n",
    "        'version': model_version_from,\n",
    "        'write_to_db': True,\n",
    "        'last': last,\n",
    "        'mode2': mode2,\n",
    "        'gen_num': 5,\n",
    "        'round_limit': 1000,\n",
    "        'db_file_name': \"./db/metrics.db\"\n",
    "        }\n",
    "generate_metric(args=args,\n",
    "                from_version=model_version_from,\n",
    "                to_version=model_version_end,\n",
    "                lstm_args=lstm_args)\n"
   ]
  },
  {
   "cell_type": "code",
   "execution_count": 6,
   "metadata": {},
   "outputs": [
    {
     "name": "stdout",
     "output_type": "stream",
     "text": [
      "Test Start: 1~1\n",
      "CPU 시간: 247.786099 초\n",
      "메모리 사용량: 866880 KB\n",
      "generate_metric.02 args[\"version\"]=1\n",
      "********************\n",
      "working model_version = 1  2025-06-05 11:06:32.117262\n",
      "********************\n",
      "start to train all models. 2025-06-05 11:06:32.117299\n",
      "44's training. status=start 2025-06-05 11:06:32.117315\n",
      "44's training. status=end 2025-06-05 11:08:01.975723\n",
      "completed to train all models. 2025-06-05 11:08:01.975824\n",
      "train to create model(1). 2025-06-05 11:08:04.975909\n",
      "CPU 시간: 491.850567 초\n",
      "메모리 사용량: 973584 KB\n"
     ]
    }
   ],
   "source": [
    "#\n",
    "# max_model_limit 정보만큼 반복적으로 매트릭을 생성합니다.\n",
    "#\n",
    "model_version_from = 1\n",
    "model_version_end = 1\n",
    "args = {'test_id': 'P4_5_4_2',\n",
    "        'version': model_version_from,\n",
    "        'write_to_db': True,\n",
    "        'last': last,\n",
    "        'mode2': mode2,\n",
    "        'gen_num': 1,\n",
    "        'round_limit': 1000,\n",
    "        'db_file_name': \"./db/metrics.db\"\n",
    "        }\n",
    "generate_metric(args=args,\n",
    "                from_version=model_version_from,\n",
    "                to_version=model_version_end,\n",
    "                lstm_args=lstm_args)\n"
   ]
  },
  {
   "cell_type": "code",
   "execution_count": 7,
   "metadata": {},
   "outputs": [
    {
     "name": "stdout",
     "output_type": "stream",
     "text": [
      "Test Start: 1~1\n",
      "CPU 시간: 492.661234 초\n",
      "메모리 사용량: 973584 KB\n",
      "generate_metric.02 args[\"version\"]=1\n",
      "********************\n",
      "working model_version = 1  2025-06-05 13:08:23.557416\n",
      "********************\n",
      "start to train all models. 2025-06-05 13:08:23.557446\n",
      "44's training. status=start 2025-06-05 13:08:23.557462\n",
      "44's training. status=end 2025-06-05 13:09:52.354555\n",
      "completed to train all models. 2025-06-05 13:09:52.354655\n",
      "train to create model(1). 2025-06-05 13:09:55.354735\n",
      "CPU 시간: 737.522399 초\n",
      "메모리 사용량: 1070352 KB\n"
     ]
    }
   ],
   "source": [
    "#\n",
    "# max_model_limit 정보만큼 반복적으로 매트릭을 생성합니다.\n",
    "#\n",
    "model_version_from = 1\n",
    "model_version_end = 1\n",
    "args = {'test_id': 'P4_5_4_3',\n",
    "        'version': model_version_from,\n",
    "        'write_to_db': True,\n",
    "        'last': last,\n",
    "        'mode2': mode2,\n",
    "        'gen_num': 1,\n",
    "        'round_limit': 1000,\n",
    "        'db_file_name': \"./db/metrics.db\"\n",
    "        }\n",
    "generate_metric(args=args,\n",
    "                from_version=model_version_from,\n",
    "                to_version=model_version_end,\n",
    "                lstm_args=lstm_args)\n"
   ]
  },
  {
   "cell_type": "code",
   "execution_count": 9,
   "metadata": {},
   "outputs": [
    {
     "name": "stdout",
     "output_type": "stream",
     "text": [
      "Test Start: 1~1\n",
      "CPU 시간: 738.357368 초\n",
      "메모리 사용량: 1070352 KB\n",
      "generate_metric.02 args[\"version\"]=1\n",
      "********************\n",
      "working model_version = 1  2025-06-05 13:24:18.305797\n",
      "********************\n",
      "start to train all models. 2025-06-05 13:24:18.305833\n",
      "44's training. status=start 2025-06-05 13:24:18.305849\n",
      "44's training. status=end 2025-06-05 13:25:48.471795\n",
      "completed to train all models. 2025-06-05 13:25:48.471898\n",
      "train to create model(1). 2025-06-05 13:25:51.471983\n",
      "CPU 시간: 984.226175 초\n",
      "메모리 사용량: 1165920 KB\n"
     ]
    }
   ],
   "source": [
    "#\n",
    "# max_model_limit 정보만큼 반복적으로 매트릭을 생성합니다.\n",
    "#\n",
    "model_version_from = 1\n",
    "model_version_end = 1\n",
    "args = {'test_id': 'P4_5_4_4',\n",
    "        'version': model_version_from,\n",
    "        'write_to_db': True,\n",
    "        'last': last,\n",
    "        'mode2': mode2,\n",
    "        'gen_num': 1,\n",
    "        'round_limit': 1000,\n",
    "        'db_file_name': \"./db/metrics.db\"\n",
    "        }\n",
    "generate_metric(args=args,\n",
    "                from_version=model_version_from,\n",
    "                to_version=model_version_end,\n",
    "                lstm_args=lstm_args)\n"
   ]
  },
  {
   "cell_type": "code",
   "execution_count": 10,
   "metadata": {},
   "outputs": [
    {
     "name": "stdout",
     "output_type": "stream",
     "text": [
      "Test Start: 1~1\n",
      "CPU 시간: 985.017693 초\n",
      "메모리 사용량: 1165920 KB\n",
      "generate_metric.02 args[\"version\"]=1\n",
      "********************\n",
      "working model_version = 1  2025-06-05 13:29:28.732839\n",
      "********************\n",
      "start to train all models. 2025-06-05 13:29:28.732874\n",
      "44's training. status=start 2025-06-05 13:29:28.732891\n",
      "44's training. status=end 2025-06-05 13:30:58.224392\n",
      "completed to train all models. 2025-06-05 13:30:58.224494\n",
      "train to create model(1). 2025-06-05 13:31:01.224577\n",
      "CPU 시간: 1231.022737 초\n",
      "메모리 사용량: 1256544 KB\n"
     ]
    }
   ],
   "source": [
    "#\n",
    "# max_model_limit 정보만큼 반복적으로 매트릭을 생성합니다.\n",
    "#\n",
    "model_version_from = 1\n",
    "model_version_end = 1\n",
    "args = {'test_id': 'P4_5_4_5',\n",
    "        'version': model_version_from,\n",
    "        'write_to_db': True,\n",
    "        'last': last,\n",
    "        'mode2': mode2,\n",
    "        'gen_num': 1,\n",
    "        'round_limit': 1000,\n",
    "        'db_file_name': \"./db/metrics.db\"\n",
    "        }\n",
    "generate_metric(args=args,\n",
    "                from_version=model_version_from,\n",
    "                to_version=model_version_end,\n",
    "                lstm_args=lstm_args)\n"
   ]
  },
  {
   "cell_type": "code",
   "execution_count": 11,
   "metadata": {},
   "outputs": [
    {
     "name": "stdout",
     "output_type": "stream",
     "text": [
      "Test Start: 1~1\n",
      "CPU 시간: 1231.857141 초\n",
      "메모리 사용량: 1256544 KB\n",
      "generate_metric.02 args[\"version\"]=1\n",
      "********************\n",
      "working model_version = 1  2025-06-05 13:33:56.449075\n",
      "********************\n",
      "start to train all models. 2025-06-05 13:33:56.449098\n",
      "44's training. status=start 2025-06-05 13:33:56.449108\n",
      "44's training. status=end 2025-06-05 13:35:27.307357\n",
      "completed to train all models. 2025-06-05 13:35:27.307456\n",
      "train to create model(1). 2025-06-05 13:35:30.307540\n",
      "CPU 시간: 1477.436818 초\n",
      "메모리 사용량: 1358384 KB\n"
     ]
    }
   ],
   "source": [
    "#\n",
    "# max_model_limit 정보만큼 반복적으로 매트릭을 생성합니다.\n",
    "#\n",
    "model_version_from = 1\n",
    "model_version_end = 1\n",
    "args = {'test_id': 'P4_5_4_6',\n",
    "        'version': model_version_from,\n",
    "        'write_to_db': True,\n",
    "        'last': last,\n",
    "        'mode2': mode2,\n",
    "        'gen_num': 1,\n",
    "        'round_limit': 1000,\n",
    "        'db_file_name': \"./db/metrics.db\"\n",
    "        }\n",
    "generate_metric(args=args,\n",
    "                from_version=model_version_from,\n",
    "                to_version=model_version_end,\n",
    "                lstm_args=lstm_args)\n"
   ]
  },
  {
   "cell_type": "code",
   "execution_count": 12,
   "metadata": {},
   "outputs": [
    {
     "name": "stdout",
     "output_type": "stream",
     "text": [
      "Test Start: 1~1\n",
      "CPU 시간: 1478.442048 초\n",
      "메모리 사용량: 1358384 KB\n",
      "generate_metric.02 args[\"version\"]=1\n",
      "********************\n",
      "working model_version = 1  2025-06-05 13:51:51.384109\n",
      "********************\n",
      "start to train all models. 2025-06-05 13:51:51.384142\n",
      "44's training. status=start 2025-06-05 13:51:51.384158\n",
      "44's training. status=end 2025-06-05 13:53:24.419159\n",
      "completed to train all models. 2025-06-05 13:53:24.419260\n",
      "train to create model(1). 2025-06-05 13:53:27.419344\n",
      "CPU 시간: 1724.437278 초\n",
      "메모리 사용량: 1462752 KB\n"
     ]
    }
   ],
   "source": [
    "#\n",
    "# max_model_limit 정보만큼 반복적으로 매트릭을 생성합니다.\n",
    "#\n",
    "model_version_from = 1\n",
    "model_version_end = 1\n",
    "args = {'test_id': 'P4_5_4_7',\n",
    "        'version': model_version_from,\n",
    "        'write_to_db': True,\n",
    "        'last': last,\n",
    "        'mode2': mode2,\n",
    "        'gen_num': 1,\n",
    "        'round_limit': 1000,\n",
    "        'db_file_name': \"./db/metrics.db\"\n",
    "        }\n",
    "generate_metric(args=args,\n",
    "                from_version=model_version_from,\n",
    "                to_version=model_version_end,\n",
    "                lstm_args=lstm_args)\n"
   ]
  },
  {
   "cell_type": "code",
   "execution_count": 13,
   "metadata": {},
   "outputs": [
    {
     "name": "stdout",
     "output_type": "stream",
     "text": [
      "Test Start: 1~1\n",
      "CPU 시간: 1725.531982 초\n",
      "메모리 사용량: 1462752 KB\n",
      "generate_metric.02 args[\"version\"]=1\n",
      "********************\n",
      "working model_version = 1  2025-06-05 14:11:06.995248\n",
      "********************\n",
      "start to train all models. 2025-06-05 14:11:06.995283\n",
      "44's training. status=start 2025-06-05 14:11:06.995298\n",
      "44's training. status=end 2025-06-05 14:12:40.633690\n",
      "completed to train all models. 2025-06-05 14:12:40.633791\n",
      "train to create model(1). 2025-06-05 14:12:43.633875\n",
      "CPU 시간: 1970.768192 초\n",
      "메모리 사용량: 1560064 KB\n"
     ]
    }
   ],
   "source": [
    "#\n",
    "# max_model_limit 정보만큼 반복적으로 매트릭을 생성합니다.\n",
    "#\n",
    "model_version_from = 1\n",
    "model_version_end = 1\n",
    "args = {'test_id': 'P4_5_4_8',\n",
    "        'version': model_version_from,\n",
    "        'write_to_db': True,\n",
    "        'last': last,\n",
    "        'mode2': mode2,\n",
    "        'gen_num': 1,\n",
    "        'round_limit': 1000,\n",
    "        'db_file_name': \"./db/metrics.db\"\n",
    "        }\n",
    "generate_metric(args=args,\n",
    "                from_version=model_version_from,\n",
    "                to_version=model_version_end,\n",
    "                lstm_args=lstm_args)\n"
   ]
  },
  {
   "cell_type": "code",
   "execution_count": null,
   "metadata": {},
   "outputs": [],
   "source": [
    "## end"
   ]
  },
  {
   "cell_type": "code",
   "execution_count": null,
   "metadata": {},
   "outputs": [],
   "source": []
  }
 ],
 "metadata": {
  "kernelspec": {
   "display_name": "finance",
   "language": "python",
   "name": "finance"
  },
  "language_info": {
   "codemirror_mode": {
    "name": "ipython",
    "version": 3
   },
   "file_extension": ".py",
   "mimetype": "text/x-python",
   "name": "python",
   "nbconvert_exporter": "python",
   "pygments_lexer": "ipython3",
   "version": "3.11.2"
  }
 },
 "nbformat": 4,
 "nbformat_minor": 4
}
