{
 "cells": [
  {
   "cell_type": "markdown",
   "metadata": {},
   "source": [
    "# Prediction with LSTM model (v4.5.6)\n",
    "<p style='text-align: right;'>with selectd5.csv</p>\n",
    "\n",
    "* history\n",
    "  * 2025/05/23 PM06:02 : 3번째 모델의 3번째 데이터를 사용\n",
    "  * 2025/05/27\n",
    "  * 2025/05/30 : v4.5.1 작성 시작\n",
    "  * 2025/06/04 : v4.5.2 last update\n",
    "  * 2025/06/04 : v4.5.3 작성\n",
    "  * 2025/06/05 : v4.5.4 작성\n",
    "  * 2025/06/05 : v4.5.5 작성 model_id=14\n",
    "  * 2025/06/05 : v4.5.6 작성 model_id=4"
   ]
  },
  {
   "cell_type": "code",
   "execution_count": null,
   "metadata": {},
   "outputs": [],
   "source": [
    "!pip install scikit-learn\n",
    "!pip install tensorflow\n",
    "!pip install numpy pandas keras scikit-learn matplotlib scikeras\n",
    "from datetime import datetime\n",
    "print(f'restart kernel... {datetime.now()}')"
   ]
  },
  {
   "cell_type": "code",
   "execution_count": null,
   "metadata": {},
   "outputs": [],
   "source": [
    "def restart_kernel():\n",
    "    # Restart the kernet after libraries are loaded.\n",
    "    import IPython\n",
    "    from datetime import datetime\n",
    "    print(f'restart kernel... {datetime.now()}')\n",
    "    app = IPython.Application.instance()\n",
    "    app.kernel.do_shutdown(True)\n",
    "\n",
    "restart_kernel()\n",
    "\n",
    "import os\n",
    "import sys\n",
    "from datetime import datetime\n",
    "cwd = os.getcwd()\n",
    "sys.path.append(cwd)\n",
    "print(sys.path)"
   ]
  },
  {
   "cell_type": "code",
   "execution_count": null,
   "metadata": {},
   "outputs": [],
   "source": [
    "# load dependacies\n",
    "import os\n",
    "import time\n",
    "import resource\n",
    "from datetime import datetime\n",
    "from lib.globalvar import *\n",
    "from lib.data_loader import DataLoader\n",
    "from lib.small_predict import predict_small, print_predict_small\n",
    "from lib.activation import ActivationOutput, RecurrentActivation\n",
    "from lib.small_predict import build_and_predict, gen_multi_model, save_model, generate_metric\n",
    "from lib.common_env_sets import lstm_units, dense_units, steps, metrics, dropout\n",
    "from lib.common_env_sets import learning_rate, last_lstm_return_sequences\n",
    "from lib.common_env_sets import loss, output_dense_activation, epochs, rand_seed\n",
    "\n",
    "\n",
    "print(f\"imported library. ({datetime.now()})\")"
   ]
  },
  {
   "cell_type": "code",
   "execution_count": null,
   "metadata": {},
   "outputs": [],
   "source": [
    "##\n",
    "## 모델링 환경 설정\n",
    "##\n",
    "window=1 # default = 1 , help = \"time stamps\"\n",
    "data_dir='./csv/selectd5.csv'\n",
    "    \n",
    "mode='predict' # help = \"back-test or predict\")\n",
    "\n",
    "mode2='sampling' # help = \"greed or sampling\")\n",
    "verb='verbose' # help = \"verbose or not_verb\")\n",
    "    \n",
    "training_length=0.95 # default = 0.9)\n",
    "from_pos = 0\n",
    "last = [[8, 11, 14, 17, 36, 39],\n",
    "        [1, 5, 18, 20, 30, 35],\n",
    "        [7, 9, 24, 40, 42, 44],\n",
    "        [3, 6, 7, 11, 12, 17],\n",
    "        [3, 13, 28, 34, 38, 42],\n",
    "        [5, 12, 24, 29, 32, 42]]\n",
    "print(f\"finished to set environemnt. ({datetime.now()})\")\n"
   ]
  },
  {
   "cell_type": "code",
   "execution_count": null,
   "metadata": {},
   "outputs": [],
   "source": [
    "dataset_dicts = {\n",
    "    1: DataLoader(data_dir=data_dir,\n",
    "                  training_length=training_length,\n",
    "                  window_prev=window,\n",
    "                  mode=mode,\n",
    "                  from_pos=0,\n",
    "                  verbose=False\n",
    "                  ),\n",
    "    2: DataLoader(data_dir=data_dir,\n",
    "                  training_length=training_length,\n",
    "                  window_prev=window,\n",
    "                  mode=mode,\n",
    "                  from_pos=300,\n",
    "                  verbose=False\n",
    "                  )\n",
    "    }\n",
    "\n",
    "print(f'completed to load data. {datetime.now()}')"
   ]
  },
  {
   "cell_type": "code",
   "execution_count": null,
   "metadata": {},
   "outputs": [],
   "source": [
    "###########\n",
    "## layers\n",
    "## LSTM Neural 계층 선언\n",
    "###########\n",
    "datasets = [dataset_dicts[1], # 0\n",
    "            dataset_dicts[2], # 1\n",
    "           ]\n",
    "\n",
    "lstm_args = {4: {\"model\":{\"learning_rate\": learning_rate[0],\n",
    "                          \"dropout\": dropout[1],\n",
    "                          \"steps\": steps[0], # last output elements count\n",
    "                          \"metrics\": metrics[0],\n",
    "                          \"last_lstm_return_sequences\": last_lstm_return_sequences[0],\n",
    "                          \"lstm_units\": lstm_units[2],\n",
    "                          \"dense_units\": dense_units[2],\n",
    "                          \"output_dense_activation\": output_dense_activation[3],\n",
    "                          \"loss\": loss[1],\n",
    "                          \"return_state\": False,\n",
    "                          \"rand_seed\": rand_seed[0] # rand_seed[0]\n",
    "                          },\n",
    "                 \"train\": {\"epochs\": epochs[3],\n",
    "                           \"is_shuffle\": False,\n",
    "                           \"batch\": 3,\n",
    "                           \"steps_per_epoch\": 90 #100\n",
    "                           },\n",
    "                 \"dataset\": datasets[0]\n",
    "                 },\n",
    "             }\n",
    "\n",
    "print(f'completed to set env for all models. {datetime.now()}')"
   ]
  },
  {
   "cell_type": "code",
   "execution_count": null,
   "metadata": {},
   "outputs": [],
   "source": [
    "def gen_metric(test_id, gen_num, round_limit, lstm_args=lstm_args):\n",
    "    \"\"\" gen_metric \"\"\"\n",
    "    model_version_from = 1\n",
    "    model_version_end = 1\n",
    "    print(f'gen_metric.step.0 [{datetime.now()}]')\n",
    "    args = {'test_id': test_id,\n",
    "            'version': model_version_from,\n",
    "            'write_to_db': True,\n",
    "            'last': last,\n",
    "            'mode2': mode2,\n",
    "            'gen_num': gen_num,\n",
    "            'round_limit': round_limit,\n",
    "            'db_file_name': \"./db/metrics.db\"\n",
    "            }\n",
    "    print(f'gen_metric.step.1 [{datetime.now()}]')\n",
    "    generate_metric(args=args,\n",
    "                    from_version=model_version_from,\n",
    "                    to_version=model_version_end,\n",
    "                    lstm_args=lstm_args)\n",
    "    print(f'gen_metric.step.2 [{datetime.now()}]')"
   ]
  },
  {
   "cell_type": "code",
   "execution_count": null,
   "metadata": {},
   "outputs": [],
   "source": [
    "#\n",
    "# max_model_limit 정보만큼 반복적으로 매트릭을 생성합니다.\n",
    "#\n",
    "test_id='P4_5_6_1'\n",
    "gen_num=5\n",
    "round_limit=1000\n",
    "gen_metric(test_id=test_id, gen_num=gen_num, round_limit=round_limit)"
   ]
  },
  {
   "cell_type": "code",
   "execution_count": 8,
   "metadata": {},
   "outputs": [
    {
     "name": "stdout",
     "output_type": "stream",
     "text": [
      "gen_metric.step.0 [2025-06-05 16:57:44.558011]\n",
      "gen_metric.step.1 [2025-06-05 16:57:44.558779]\n",
      "Test Start: 1~1\n",
      "CPU 시간: 200.544639 초\n",
      "메모리 사용량: 912144 KB\n",
      "generate_metric.02 args[\"version\"]=1\n",
      "********************\n",
      "working model_version = 1  2025-06-05 16:57:44.558881\n",
      "********************\n",
      "start to train all models. 2025-06-05 16:57:44.558898\n",
      "4's training. status=start 2025-06-05 16:57:44.558913\n",
      "4's training. status=end 2025-06-05 16:58:30.258066\n",
      "completed to train all models. 2025-06-05 16:58:30.258388\n",
      "train to create model(1). 2025-06-05 16:58:33.258477\n",
      "CPU 시간: 397.729002 초\n",
      "메모리 사용량: 1031424 KB\n",
      "gen_metric.step.2 [2025-06-05 17:01:28.341745]\n"
     ]
    }
   ],
   "source": [
    "#\n",
    "# max_model_limit 정보만큼 반복적으로 매트릭을 생성합니다.\n",
    "#\n",
    "test_id='P4_5_6_2'\n",
    "gen_num=1\n",
    "round_limit=1000\n",
    "gen_metric(test_id=test_id, gen_num=gen_num, round_limit=round_limit)"
   ]
  },
  {
   "cell_type": "code",
   "execution_count": 9,
   "metadata": {},
   "outputs": [
    {
     "name": "stdout",
     "output_type": "stream",
     "text": [
      "gen_metric.step.0 [2025-06-05 17:01:53.394111]\n",
      "gen_metric.step.1 [2025-06-05 17:01:53.394460]\n",
      "Test Start: 1~1\n",
      "CPU 시간: 398.417202 초\n",
      "메모리 사용량: 1031424 KB\n",
      "generate_metric.02 args[\"version\"]=1\n",
      "********************\n",
      "working model_version = 1  2025-06-05 17:01:53.394550\n",
      "********************\n",
      "start to train all models. 2025-06-05 17:01:53.394567\n",
      "4's training. status=start 2025-06-05 17:01:53.394582\n",
      "4's training. status=end 2025-06-05 17:02:39.210146\n",
      "completed to train all models. 2025-06-05 17:02:39.210259\n",
      "train to create model(1). 2025-06-05 17:02:42.210350\n",
      "CPU 시간: 594.614292 초\n",
      "메모리 사용량: 1148016 KB\n",
      "gen_metric.step.2 [2025-06-05 17:05:34.936140]\n"
     ]
    }
   ],
   "source": [
    "#\n",
    "# max_model_limit 정보만큼 반복적으로 매트릭을 생성합니다.\n",
    "#\n",
    "test_id='P4_5_6_3'\n",
    "gen_num=1\n",
    "round_limit=1000\n",
    "gen_metric(test_id=test_id, gen_num=gen_num, round_limit=round_limit)"
   ]
  },
  {
   "cell_type": "code",
   "execution_count": 10,
   "metadata": {},
   "outputs": [
    {
     "name": "stdout",
     "output_type": "stream",
     "text": [
      "gen_metric.step.0 [2025-06-05 17:06:07.280569]\n",
      "gen_metric.step.1 [2025-06-05 17:06:07.280661]\n",
      "Test Start: 1~1\n",
      "CPU 시간: 595.392947 초\n",
      "메모리 사용량: 1148016 KB\n",
      "generate_metric.02 args[\"version\"]=1\n",
      "********************\n",
      "working model_version = 1  2025-06-05 17:06:07.280748\n",
      "********************\n",
      "start to train all models. 2025-06-05 17:06:07.280764\n",
      "4's training. status=start 2025-06-05 17:06:07.280779\n",
      "4's training. status=end 2025-06-05 17:06:52.769013\n",
      "completed to train all models. 2025-06-05 17:06:52.769115\n",
      "train to create model(1). 2025-06-05 17:06:55.769206\n",
      "CPU 시간: 793.187879 초\n",
      "메모리 사용량: 1263536 KB\n",
      "gen_metric.step.2 [2025-06-05 17:09:53.054340]\n"
     ]
    }
   ],
   "source": [
    "#\n",
    "# max_model_limit 정보만큼 반복적으로 매트릭을 생성합니다.\n",
    "#\n",
    "test_id='P4_5_6_4'\n",
    "gen_num=1\n",
    "round_limit=1000\n",
    "gen_metric(test_id=test_id, gen_num=gen_num, round_limit=round_limit)"
   ]
  },
  {
   "cell_type": "code",
   "execution_count": 11,
   "metadata": {},
   "outputs": [
    {
     "name": "stdout",
     "output_type": "stream",
     "text": [
      "gen_metric.step.0 [2025-06-05 17:20:42.479797]\n",
      "gen_metric.step.1 [2025-06-05 17:20:42.479888]\n",
      "Test Start: 1~1\n",
      "CPU 시간: 794.104507 초\n",
      "메모리 사용량: 1263536 KB\n",
      "generate_metric.02 args[\"version\"]=1\n",
      "********************\n",
      "working model_version = 1  2025-06-05 17:20:42.479975\n",
      "********************\n",
      "start to train all models. 2025-06-05 17:20:42.479993\n",
      "4's training. status=start 2025-06-05 17:20:42.480008\n",
      "4's training. status=end 2025-06-05 17:21:27.767116\n",
      "completed to train all models. 2025-06-05 17:21:27.767218\n",
      "train to create model(1). 2025-06-05 17:21:30.767306\n",
      "CPU 시간: 991.305959 초\n",
      "메모리 사용량: 1377712 KB\n",
      "gen_metric.step.2 [2025-06-05 17:24:24.640008]\n"
     ]
    }
   ],
   "source": [
    "#\n",
    "# max_model_limit 정보만큼 반복적으로 매트릭을 생성합니다.\n",
    "#\n",
    "test_id='P4_5_6_5'\n",
    "gen_num=1\n",
    "round_limit=1000\n",
    "gen_metric(test_id=test_id, gen_num=gen_num, round_limit=round_limit)"
   ]
  },
  {
   "cell_type": "code",
   "execution_count": 12,
   "metadata": {},
   "outputs": [
    {
     "name": "stdout",
     "output_type": "stream",
     "text": [
      "gen_metric.step.0 [2025-06-05 17:25:56.169507]\n",
      "gen_metric.step.1 [2025-06-05 17:25:56.169730]\n",
      "Test Start: 1~1\n",
      "CPU 시간: 992.258392 초\n",
      "메모리 사용량: 1377712 KB\n",
      "generate_metric.02 args[\"version\"]=1\n",
      "********************\n",
      "working model_version = 1  2025-06-05 17:25:56.169792\n",
      "********************\n",
      "start to train all models. 2025-06-05 17:25:56.169804\n",
      "4's training. status=start 2025-06-05 17:25:56.169813\n",
      "4's training. status=end 2025-06-05 17:26:41.687751\n",
      "completed to train all models. 2025-06-05 17:26:41.687853\n",
      "train to create model(1). 2025-06-05 17:26:44.687932\n",
      "CPU 시간: 1189.297003 초\n",
      "메모리 사용량: 1493392 KB\n",
      "gen_metric.step.2 [2025-06-05 17:29:41.196634]\n"
     ]
    }
   ],
   "source": [
    "#\n",
    "# max_model_limit 정보만큼 반복적으로 매트릭을 생성합니다.\n",
    "#\n",
    "test_id='P4_5_6_6'\n",
    "gen_num=1\n",
    "round_limit=1000\n",
    "gen_metric(test_id=test_id, gen_num=gen_num, round_limit=round_limit)"
   ]
  },
  {
   "cell_type": "code",
   "execution_count": 13,
   "metadata": {},
   "outputs": [
    {
     "name": "stdout",
     "output_type": "stream",
     "text": [
      "gen_metric.step.0 [2025-06-05 17:29:44.240378]\n",
      "gen_metric.step.1 [2025-06-05 17:29:44.240431]\n",
      "Test Start: 1~1\n",
      "CPU 시간: 1190.375658 초\n",
      "메모리 사용량: 1493392 KB\n",
      "generate_metric.02 args[\"version\"]=1\n",
      "********************\n",
      "working model_version = 1  2025-06-05 17:29:44.240489\n",
      "********************\n",
      "start to train all models. 2025-06-05 17:29:44.240500\n",
      "4's training. status=start 2025-06-05 17:29:44.240509\n",
      "4's training. status=end 2025-06-05 17:30:29.502494\n",
      "completed to train all models. 2025-06-05 17:30:29.502596\n",
      "train to create model(1). 2025-06-05 17:30:32.502684\n",
      "CPU 시간: 1387.190363 초\n",
      "메모리 사용량: 1608096 KB\n",
      "gen_metric.step.2 [2025-06-05 17:33:26.997318]\n"
     ]
    }
   ],
   "source": [
    "#\n",
    "# max_model_limit 정보만큼 반복적으로 매트릭을 생성합니다.\n",
    "#\n",
    "test_id='P4_5_6_7'\n",
    "gen_num=1\n",
    "round_limit=1000\n",
    "gen_metric(test_id=test_id, gen_num=gen_num, round_limit=round_limit)"
   ]
  },
  {
   "cell_type": "code",
   "execution_count": 14,
   "metadata": {},
   "outputs": [
    {
     "name": "stdout",
     "output_type": "stream",
     "text": [
      "gen_metric.step.0 [2025-06-05 17:33:29.129156]\n",
      "gen_metric.step.1 [2025-06-05 17:33:29.129214]\n",
      "Test Start: 1~1\n",
      "CPU 시간: 1388.377748 초\n",
      "메모리 사용량: 1608096 KB\n",
      "generate_metric.02 args[\"version\"]=1\n",
      "********************\n",
      "working model_version = 1  2025-06-05 17:33:29.129272\n",
      "********************\n",
      "start to train all models. 2025-06-05 17:33:29.129283\n",
      "4's training. status=start 2025-06-05 17:33:29.129292\n",
      "4's training. status=end 2025-06-05 17:34:14.919217\n",
      "completed to train all models. 2025-06-05 17:34:14.919318\n",
      "train to create model(1). 2025-06-05 17:34:17.919399\n",
      "CPU 시간: 1585.861168 초\n",
      "메모리 사용량: 1721088 KB\n",
      "gen_metric.step.2 [2025-06-05 17:37:13.477221]\n"
     ]
    }
   ],
   "source": [
    "#\n",
    "# max_model_limit 정보만큼 반복적으로 매트릭을 생성합니다.\n",
    "#\n",
    "test_id='P4_5_6_8'\n",
    "gen_num=1\n",
    "round_limit=1000\n",
    "gen_metric(test_id=test_id, gen_num=gen_num, round_limit=round_limit)"
   ]
  },
  {
   "cell_type": "code",
   "execution_count": null,
   "metadata": {},
   "outputs": [],
   "source": [
    "## end"
   ]
  },
  {
   "cell_type": "code",
   "execution_count": null,
   "metadata": {},
   "outputs": [],
   "source": []
  }
 ],
 "metadata": {
  "kernelspec": {
   "display_name": "finance",
   "language": "python",
   "name": "finance"
  },
  "language_info": {
   "codemirror_mode": {
    "name": "ipython",
    "version": 3
   },
   "file_extension": ".py",
   "mimetype": "text/x-python",
   "name": "python",
   "nbconvert_exporter": "python",
   "pygments_lexer": "ipython3",
   "version": "3.11.2"
  }
 },
 "nbformat": 4,
 "nbformat_minor": 4
}
