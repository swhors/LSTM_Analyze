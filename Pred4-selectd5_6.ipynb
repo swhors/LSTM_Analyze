{
 "cells": [
  {
   "cell_type": "markdown",
   "metadata": {},
   "source": [
    "# Prediction with LSTM model (v4.5.6)\n",
    "<p style='text-align: right;'>with selectd5.csv</p>\n",
    "\n",
    "* history\n",
    "  * 2025/05/23 PM06:02 : 3번째 모델의 3번째 데이터를 사용\n",
    "  * 2025/05/27\n",
    "  * 2025/05/30 : v4.5.1 작성 시작\n",
    "  * 2025/06/04 : v4.5.2 last update\n",
    "  * 2025/06/04 : v4.5.3 작성\n",
    "  * 2025/06/05 : v4.5.4 작성\n",
    "  * 2025/06/05 : v4.5.5 작성 model_id=14\n",
    "  * 2025/06/05 : v4.5.6 작성 model_id=4"
   ]
  },
  {
   "cell_type": "code",
   "execution_count": 8,
   "metadata": {},
   "outputs": [
    {
     "name": "stdout",
     "output_type": "stream",
     "text": [
      "\u001b[33mWARNING: Skipping tensotflow as it is not installed.\u001b[0m\n"
     ]
    }
   ],
   "source": [
    "!pip uninstall tensotflow"
   ]
  },
  {
   "cell_type": "code",
   "execution_count": null,
   "metadata": {},
   "outputs": [],
   "source": [
    "!pip install scikit-learn\n",
    "!pip install tensorflow-cpu\n",
    "!pip install numpy pandas keras scikit-learn matplotlib scikeras\n",
    "from datetime import datetime\n",
    "print(f'restart kernel... {datetime.now()}')"
   ]
  },
  {
   "cell_type": "code",
   "execution_count": 13,
   "metadata": {},
   "outputs": [
    {
     "name": "stdout",
     "output_type": "stream",
     "text": [
      "restart kernel... 2025-06-06 14:58:01.525484\n",
      "['/usr/lib/python38.zip', '/usr/lib/python3.8', '/usr/lib/python3.8/lib-dynload', '', '/home/simpson/.local/lib/python3.8/site-packages', '/usr/local/lib/python3.8/dist-packages', '/usr/lib/python3/dist-packages', '/home/simpson/jupyter-workspace/LSTM_Analyze']\n"
     ]
    }
   ],
   "source": [
    "def restart_kernel():\n",
    "    # Restart the kernet after libraries are loaded.\n",
    "    import IPython\n",
    "    from datetime import datetime\n",
    "    print(f'restart kernel... {datetime.now()}')\n",
    "    app = IPython.Application.instance()\n",
    "    app.kernel.do_shutdown(True)\n",
    "\n",
    "restart_kernel()\n",
    "\n",
    "import os\n",
    "import sys\n",
    "from datetime import datetime\n",
    "cwd = os.getcwd()\n",
    "sys.path.append(cwd)\n",
    "print(sys.path)"
   ]
  },
  {
   "cell_type": "code",
   "execution_count": 1,
   "metadata": {},
   "outputs": [
    {
     "name": "stderr",
     "output_type": "stream",
     "text": [
      "2025-06-06 14:58:16.788118: I tensorflow/tsl/cuda/cudart_stub.cc:28] Could not find cuda drivers on your machine, GPU will not be used.\n",
      "2025-06-06 14:58:16.844726: I tensorflow/tsl/cuda/cudart_stub.cc:28] Could not find cuda drivers on your machine, GPU will not be used.\n",
      "2025-06-06 14:58:16.845760: I tensorflow/core/platform/cpu_feature_guard.cc:182] This TensorFlow binary is optimized to use available CPU instructions in performance-critical operations.\n",
      "To enable the following instructions: AVX2 FMA, in other operations, rebuild TensorFlow with the appropriate compiler flags.\n",
      "2025-06-06 14:58:17.924400: W tensorflow/compiler/tf2tensorrt/utils/py_utils.cc:38] TF-TRT Warning: Could not find TensorRT\n"
     ]
    },
    {
     "name": "stdout",
     "output_type": "stream",
     "text": [
      "imported library. (2025-06-06 14:58:19.371313)\n"
     ]
    }
   ],
   "source": [
    "# load dependacies\n",
    "import os\n",
    "import time\n",
    "import resource\n",
    "from datetime import datetime\n",
    "from lib.globalvar import *\n",
    "from lib.data_loader import DataLoader\n",
    "from lib.small_predict import predict_small, print_predict_small\n",
    "from lib.activation import ActivationOutput, RecurrentActivation\n",
    "from lib.small_predict import build_and_predict, gen_multi_model, save_model, generate_metric\n",
    "from lib.common_env_sets import lstm_units, dense_units, steps, metrics, dropout\n",
    "from lib.common_env_sets import learning_rate, last_lstm_return_sequences\n",
    "from lib.common_env_sets import loss, output_dense_activation, epochs, rand_seed\n",
    "\n",
    "\n",
    "print(f\"imported library. ({datetime.now()})\")"
   ]
  },
  {
   "cell_type": "code",
   "execution_count": 2,
   "metadata": {},
   "outputs": [
    {
     "name": "stdout",
     "output_type": "stream",
     "text": [
      "finished to set environemnt. (2025-06-06 14:58:20.673589)\n"
     ]
    }
   ],
   "source": [
    "##\n",
    "## 모델링 환경 설정\n",
    "##\n",
    "window=1 # default = 1 , help = \"time stamps\"\n",
    "data_dir='./csv/selectd5.csv'\n",
    "    \n",
    "#mode='predict' # help = \"back-test or predict\")\n",
    "mode='back-test'\n",
    "mode2='sampling' # help = \"greed or sampling\")\n",
    "verb='verbose' # help = \"verbose or not_verb\")\n",
    "    \n",
    "training_length=0.95 # default = 0.9)\n",
    "from_pos = 0\n",
    "last = [[8, 11, 14, 17, 36, 39],\n",
    "        [1, 5, 18, 20, 30, 35],\n",
    "        [7, 9, 24, 40, 42, 44],\n",
    "        [3, 6, 7, 11, 12, 17],\n",
    "        [3, 13, 28, 34, 38, 42],\n",
    "        [5, 12, 24, 29, 32, 42]]\n",
    "print(f\"finished to set environemnt. ({datetime.now()})\")\n"
   ]
  },
  {
   "cell_type": "code",
   "execution_count": 3,
   "metadata": {},
   "outputs": [
    {
     "name": "stdout",
     "output_type": "stream",
     "text": [
      "completed to load data. 2025-06-06 14:58:21.759462\n"
     ]
    }
   ],
   "source": [
    "dataset_dicts = {\n",
    "    1: DataLoader(data_dir=data_dir,\n",
    "                  training_length=training_length,\n",
    "                  window_prev=window,\n",
    "                  mode=mode,\n",
    "                  from_pos=0,\n",
    "                  verbose=False\n",
    "                  ),\n",
    "    2: DataLoader(data_dir=data_dir,\n",
    "                  training_length=training_length,\n",
    "                  window_prev=window,\n",
    "                  mode=mode,\n",
    "                  from_pos=300,\n",
    "                  verbose=False\n",
    "                  )\n",
    "    }\n",
    "\n",
    "print(f'completed to load data. {datetime.now()}')"
   ]
  },
  {
   "cell_type": "code",
   "execution_count": 4,
   "metadata": {},
   "outputs": [
    {
     "name": "stdout",
     "output_type": "stream",
     "text": [
      "completed to set env for all models. 2025-06-06 14:58:22.504862\n"
     ]
    }
   ],
   "source": [
    "###########\n",
    "## layers\n",
    "## LSTM Neural 계층 선언\n",
    "###########\n",
    "datasets = [dataset_dicts[1], # 0\n",
    "            dataset_dicts[2], # 1\n",
    "           ]\n",
    "\n",
    "lstm_args = {4: {\"model\":{\"learning_rate\": learning_rate[0],\n",
    "                          \"dropout\": dropout[1],\n",
    "                          \"steps\": steps[0], # last output elements count\n",
    "                          \"metrics\": [], #metrics[0],\n",
    "                          \"last_lstm_return_sequences\": last_lstm_return_sequences[0],\n",
    "                          \"lstm_units\": lstm_units[2],\n",
    "                          \"dense_units\": dense_units[2],\n",
    "                          \"output_dense_activation\": output_dense_activation[3],\n",
    "                          \"loss\": loss[1],\n",
    "                          \"return_state\": False,\n",
    "                          \"rand_seed\": rand_seed[0] # rand_seed[0]\n",
    "                          },\n",
    "                 \"train\": {\"epochs\": epochs[3],\n",
    "                           \"is_shuffle\": False,\n",
    "                           \"batch\": 3,\n",
    "                           \"steps_per_epoch\": 0#90 #100\n",
    "                           },\n",
    "                 \"dataset\": datasets[0]\n",
    "                 },\n",
    "             }\n",
    "\n",
    "print(f'completed to set env for all models. {datetime.now()}')"
   ]
  },
  {
   "cell_type": "code",
   "execution_count": 5,
   "metadata": {},
   "outputs": [],
   "source": [
    "def gen_metric(test_id, gen_num, round_limit, lstm_args=lstm_args):\n",
    "    \"\"\" gen_metric \"\"\"\n",
    "    model_version_from = 1\n",
    "    model_version_end = 1\n",
    "    print(f'gen_metric.step.0 [{datetime.now()}]')\n",
    "    args = {'test_id': test_id,\n",
    "            'version': model_version_from,\n",
    "            'write_to_db': True,\n",
    "            'last': last,\n",
    "            'mode2': mode2,\n",
    "            'gen_num': gen_num,\n",
    "            'round_limit': round_limit,\n",
    "            'db_file_name': \"./db/metrics.db\"\n",
    "            }\n",
    "    print(f'gen_metric.step.1 [{datetime.now()}]')\n",
    "    generate_metric(args=args,\n",
    "                    from_version=model_version_from,\n",
    "                    to_version=model_version_end,\n",
    "                    lstm_args=lstm_args)\n",
    "    print(f'gen_metric.step.2 [{datetime.now()}]')"
   ]
  },
  {
   "cell_type": "code",
   "execution_count": null,
   "metadata": {},
   "outputs": [],
   "source": [
    "#\n",
    "# max_model_limit 정보만큼 반복적으로 매트릭을 생성합니다.\n",
    "#\n",
    "test_id='P4_5_6_1'\n",
    "gen_num=5\n",
    "round_limit=1000\n",
    "gen_metric(test_id=test_id, gen_num=gen_num, round_limit=round_limit)"
   ]
  },
  {
   "cell_type": "code",
   "execution_count": 8,
   "metadata": {},
   "outputs": [
    {
     "name": "stdout",
     "output_type": "stream",
     "text": [
      "gen_metric.step.0 [2025-06-05 16:57:44.558011]\n",
      "gen_metric.step.1 [2025-06-05 16:57:44.558779]\n",
      "Test Start: 1~1\n",
      "CPU 시간: 200.544639 초\n",
      "메모리 사용량: 912144 KB\n",
      "generate_metric.02 args[\"version\"]=1\n",
      "********************\n",
      "working model_version = 1  2025-06-05 16:57:44.558881\n",
      "********************\n",
      "start to train all models. 2025-06-05 16:57:44.558898\n",
      "4's training. status=start 2025-06-05 16:57:44.558913\n",
      "4's training. status=end 2025-06-05 16:58:30.258066\n",
      "completed to train all models. 2025-06-05 16:58:30.258388\n",
      "train to create model(1). 2025-06-05 16:58:33.258477\n",
      "CPU 시간: 397.729002 초\n",
      "메모리 사용량: 1031424 KB\n",
      "gen_metric.step.2 [2025-06-05 17:01:28.341745]\n"
     ]
    }
   ],
   "source": [
    "#\n",
    "# max_model_limit 정보만큼 반복적으로 매트릭을 생성합니다.\n",
    "#\n",
    "test_id='P4_5_6_2'\n",
    "gen_num=1\n",
    "round_limit=1000\n",
    "gen_metric(test_id=test_id, gen_num=gen_num, round_limit=round_limit)"
   ]
  },
  {
   "cell_type": "code",
   "execution_count": 9,
   "metadata": {},
   "outputs": [
    {
     "name": "stdout",
     "output_type": "stream",
     "text": [
      "gen_metric.step.0 [2025-06-05 17:01:53.394111]\n",
      "gen_metric.step.1 [2025-06-05 17:01:53.394460]\n",
      "Test Start: 1~1\n",
      "CPU 시간: 398.417202 초\n",
      "메모리 사용량: 1031424 KB\n",
      "generate_metric.02 args[\"version\"]=1\n",
      "********************\n",
      "working model_version = 1  2025-06-05 17:01:53.394550\n",
      "********************\n",
      "start to train all models. 2025-06-05 17:01:53.394567\n",
      "4's training. status=start 2025-06-05 17:01:53.394582\n",
      "4's training. status=end 2025-06-05 17:02:39.210146\n",
      "completed to train all models. 2025-06-05 17:02:39.210259\n",
      "train to create model(1). 2025-06-05 17:02:42.210350\n",
      "CPU 시간: 594.614292 초\n",
      "메모리 사용량: 1148016 KB\n",
      "gen_metric.step.2 [2025-06-05 17:05:34.936140]\n"
     ]
    }
   ],
   "source": [
    "#\n",
    "# max_model_limit 정보만큼 반복적으로 매트릭을 생성합니다.\n",
    "#\n",
    "test_id='P4_5_6_3'\n",
    "gen_num=1\n",
    "round_limit=1000\n",
    "gen_metric(test_id=test_id, gen_num=gen_num, round_limit=round_limit)"
   ]
  },
  {
   "cell_type": "code",
   "execution_count": 10,
   "metadata": {},
   "outputs": [
    {
     "name": "stdout",
     "output_type": "stream",
     "text": [
      "gen_metric.step.0 [2025-06-05 17:06:07.280569]\n",
      "gen_metric.step.1 [2025-06-05 17:06:07.280661]\n",
      "Test Start: 1~1\n",
      "CPU 시간: 595.392947 초\n",
      "메모리 사용량: 1148016 KB\n",
      "generate_metric.02 args[\"version\"]=1\n",
      "********************\n",
      "working model_version = 1  2025-06-05 17:06:07.280748\n",
      "********************\n",
      "start to train all models. 2025-06-05 17:06:07.280764\n",
      "4's training. status=start 2025-06-05 17:06:07.280779\n",
      "4's training. status=end 2025-06-05 17:06:52.769013\n",
      "completed to train all models. 2025-06-05 17:06:52.769115\n",
      "train to create model(1). 2025-06-05 17:06:55.769206\n",
      "CPU 시간: 793.187879 초\n",
      "메모리 사용량: 1263536 KB\n",
      "gen_metric.step.2 [2025-06-05 17:09:53.054340]\n"
     ]
    }
   ],
   "source": [
    "#\n",
    "# max_model_limit 정보만큼 반복적으로 매트릭을 생성합니다.\n",
    "#\n",
    "test_id='P4_5_6_4'\n",
    "gen_num=1\n",
    "round_limit=1000\n",
    "gen_metric(test_id=test_id, gen_num=gen_num, round_limit=round_limit)"
   ]
  },
  {
   "cell_type": "code",
   "execution_count": 11,
   "metadata": {},
   "outputs": [
    {
     "name": "stdout",
     "output_type": "stream",
     "text": [
      "gen_metric.step.0 [2025-06-05 17:20:42.479797]\n",
      "gen_metric.step.1 [2025-06-05 17:20:42.479888]\n",
      "Test Start: 1~1\n",
      "CPU 시간: 794.104507 초\n",
      "메모리 사용량: 1263536 KB\n",
      "generate_metric.02 args[\"version\"]=1\n",
      "********************\n",
      "working model_version = 1  2025-06-05 17:20:42.479975\n",
      "********************\n",
      "start to train all models. 2025-06-05 17:20:42.479993\n",
      "4's training. status=start 2025-06-05 17:20:42.480008\n",
      "4's training. status=end 2025-06-05 17:21:27.767116\n",
      "completed to train all models. 2025-06-05 17:21:27.767218\n",
      "train to create model(1). 2025-06-05 17:21:30.767306\n",
      "CPU 시간: 991.305959 초\n",
      "메모리 사용량: 1377712 KB\n",
      "gen_metric.step.2 [2025-06-05 17:24:24.640008]\n"
     ]
    }
   ],
   "source": [
    "#\n",
    "# max_model_limit 정보만큼 반복적으로 매트릭을 생성합니다.\n",
    "#\n",
    "test_id='P4_5_6_5'\n",
    "gen_num=1\n",
    "round_limit=1000\n",
    "gen_metric(test_id=test_id, gen_num=gen_num, round_limit=round_limit)"
   ]
  },
  {
   "cell_type": "code",
   "execution_count": 12,
   "metadata": {},
   "outputs": [
    {
     "name": "stdout",
     "output_type": "stream",
     "text": [
      "gen_metric.step.0 [2025-06-05 17:25:56.169507]\n",
      "gen_metric.step.1 [2025-06-05 17:25:56.169730]\n",
      "Test Start: 1~1\n",
      "CPU 시간: 992.258392 초\n",
      "메모리 사용량: 1377712 KB\n",
      "generate_metric.02 args[\"version\"]=1\n",
      "********************\n",
      "working model_version = 1  2025-06-05 17:25:56.169792\n",
      "********************\n",
      "start to train all models. 2025-06-05 17:25:56.169804\n",
      "4's training. status=start 2025-06-05 17:25:56.169813\n",
      "4's training. status=end 2025-06-05 17:26:41.687751\n",
      "completed to train all models. 2025-06-05 17:26:41.687853\n",
      "train to create model(1). 2025-06-05 17:26:44.687932\n",
      "CPU 시간: 1189.297003 초\n",
      "메모리 사용량: 1493392 KB\n",
      "gen_metric.step.2 [2025-06-05 17:29:41.196634]\n"
     ]
    }
   ],
   "source": [
    "#\n",
    "# max_model_limit 정보만큼 반복적으로 매트릭을 생성합니다.\n",
    "#\n",
    "test_id='P4_5_6_6'\n",
    "gen_num=1\n",
    "round_limit=1000\n",
    "gen_metric(test_id=test_id, gen_num=gen_num, round_limit=round_limit)"
   ]
  },
  {
   "cell_type": "code",
   "execution_count": 13,
   "metadata": {},
   "outputs": [
    {
     "name": "stdout",
     "output_type": "stream",
     "text": [
      "gen_metric.step.0 [2025-06-05 17:29:44.240378]\n",
      "gen_metric.step.1 [2025-06-05 17:29:44.240431]\n",
      "Test Start: 1~1\n",
      "CPU 시간: 1190.375658 초\n",
      "메모리 사용량: 1493392 KB\n",
      "generate_metric.02 args[\"version\"]=1\n",
      "********************\n",
      "working model_version = 1  2025-06-05 17:29:44.240489\n",
      "********************\n",
      "start to train all models. 2025-06-05 17:29:44.240500\n",
      "4's training. status=start 2025-06-05 17:29:44.240509\n",
      "4's training. status=end 2025-06-05 17:30:29.502494\n",
      "completed to train all models. 2025-06-05 17:30:29.502596\n",
      "train to create model(1). 2025-06-05 17:30:32.502684\n",
      "CPU 시간: 1387.190363 초\n",
      "메모리 사용량: 1608096 KB\n",
      "gen_metric.step.2 [2025-06-05 17:33:26.997318]\n"
     ]
    }
   ],
   "source": [
    "#\n",
    "# max_model_limit 정보만큼 반복적으로 매트릭을 생성합니다.\n",
    "#\n",
    "test_id='P4_5_6_7'\n",
    "gen_num=1\n",
    "round_limit=1000\n",
    "gen_metric(test_id=test_id, gen_num=gen_num, round_limit=round_limit)"
   ]
  },
  {
   "cell_type": "code",
   "execution_count": 14,
   "metadata": {},
   "outputs": [
    {
     "name": "stdout",
     "output_type": "stream",
     "text": [
      "gen_metric.step.0 [2025-06-05 17:33:29.129156]\n",
      "gen_metric.step.1 [2025-06-05 17:33:29.129214]\n",
      "Test Start: 1~1\n",
      "CPU 시간: 1388.377748 초\n",
      "메모리 사용량: 1608096 KB\n",
      "generate_metric.02 args[\"version\"]=1\n",
      "********************\n",
      "working model_version = 1  2025-06-05 17:33:29.129272\n",
      "********************\n",
      "start to train all models. 2025-06-05 17:33:29.129283\n",
      "4's training. status=start 2025-06-05 17:33:29.129292\n",
      "4's training. status=end 2025-06-05 17:34:14.919217\n",
      "completed to train all models. 2025-06-05 17:34:14.919318\n",
      "train to create model(1). 2025-06-05 17:34:17.919399\n",
      "CPU 시간: 1585.861168 초\n",
      "메모리 사용량: 1721088 KB\n",
      "gen_metric.step.2 [2025-06-05 17:37:13.477221]\n"
     ]
    }
   ],
   "source": [
    "#\n",
    "# max_model_limit 정보만큼 반복적으로 매트릭을 생성합니다.\n",
    "#\n",
    "test_id='P4_5_6_8'\n",
    "gen_num=1\n",
    "round_limit=1000\n",
    "gen_metric(test_id=test_id, gen_num=gen_num, round_limit=round_limit)"
   ]
  },
  {
   "cell_type": "code",
   "execution_count": 7,
   "metadata": {},
   "outputs": [
    {
     "name": "stdout",
     "output_type": "stream",
     "text": [
      "gen_metric.step.0 [2025-06-06 10:29:14.458746]\n",
      "gen_metric.step.1 [2025-06-06 10:29:14.458994]\n",
      "Test Start: 1~1\n",
      "CPU 시간: 1.328125 초\n",
      "메모리 사용량: 371528 KB\n",
      "generate_metric.02 args[\"version\"]=1\n",
      "********************\n",
      "working model_version = 1  2025-06-06 10:29:14.459051\n",
      "********************\n",
      "start to train all models. 2025-06-06 10:29:14.459060\n",
      "4's training. status=start 2025-06-06 10:29:14.459067\n",
      "4's training. status=end 2025-06-06 10:29:34.587033\n",
      "completed to train all models. 2025-06-06 10:29:34.587115\n",
      "train to create model(1). 2025-06-06 10:29:37.587305\n",
      "INFO:tensorflow:Assets written to: ram://28ab2deca6ab4a709a58518443aacc1a/assets\n"
     ]
    },
    {
     "name": "stderr",
     "output_type": "stream",
     "text": [
      "INFO:tensorflow:Assets written to: ram://28ab2deca6ab4a709a58518443aacc1a/assets\n"
     ]
    },
    {
     "name": "stdout",
     "output_type": "stream",
     "text": [
      "CPU 시간: 46.296875 초\n",
      "메모리 사용량: 1225712 KB\n",
      "gen_metric.step.2 [2025-06-06 10:30:56.470593]\n"
     ]
    }
   ],
   "source": [
    "#\n",
    "# max_model_limit 정보만큼 반복적으로 매트릭을 생성합니다.\n",
    "#\n",
    "test_id='P4_5_6_9'\n",
    "gen_num=1\n",
    "round_limit=1000\n",
    "gen_metric(test_id=test_id, gen_num=gen_num, round_limit=round_limit)"
   ]
  },
  {
   "cell_type": "code",
   "execution_count": 8,
   "metadata": {},
   "outputs": [
    {
     "name": "stdout",
     "output_type": "stream",
     "text": [
      "gen_metric.step.0 [2025-06-06 10:55:13.046049]\n",
      "gen_metric.step.1 [2025-06-06 10:55:13.046439]\n",
      "Test Start: 1~1\n",
      "CPU 시간: 46.625 초\n",
      "메모리 사용량: 1225712 KB\n",
      "generate_metric.02 args[\"version\"]=1\n",
      "********************\n",
      "working model_version = 1  2025-06-06 10:55:13.046509\n",
      "********************\n",
      "start to train all models. 2025-06-06 10:55:13.046518\n",
      "4's training. status=start 2025-06-06 10:55:13.046526\n",
      "4's training. status=end 2025-06-06 10:55:34.321883\n",
      "completed to train all models. 2025-06-06 10:55:34.321969\n",
      "train to create model(1). 2025-06-06 10:55:37.322501\n",
      "INFO:tensorflow:Assets written to: ram://566d74090e9d4956925b65b3e1a673c4/assets\n"
     ]
    },
    {
     "name": "stderr",
     "output_type": "stream",
     "text": [
      "INFO:tensorflow:Assets written to: ram://566d74090e9d4956925b65b3e1a673c4/assets\n"
     ]
    },
    {
     "name": "stdout",
     "output_type": "stream",
     "text": [
      "CPU 시간: 91.421875 초\n",
      "메모리 사용량: 1244136 KB\n",
      "gen_metric.step.2 [2025-06-06 10:56:57.462749]\n"
     ]
    }
   ],
   "source": [
    "#\n",
    "# max_model_limit 정보만큼 반복적으로 매트릭을 생성합니다.\n",
    "#\n",
    "test_id='P4_5_6_10'\n",
    "gen_num=1\n",
    "round_limit=1000\n",
    "gen_metric(test_id=test_id, gen_num=gen_num, round_limit=round_limit)"
   ]
  },
  {
   "cell_type": "code",
   "execution_count": 9,
   "metadata": {},
   "outputs": [
    {
     "name": "stdout",
     "output_type": "stream",
     "text": [
      "gen_metric.step.0 [2025-06-06 11:05:14.122936]\n",
      "gen_metric.step.1 [2025-06-06 11:05:14.123139]\n",
      "Test Start: 1~1\n",
      "CPU 시간: 91.8125 초\n",
      "메모리 사용량: 1244136 KB\n",
      "generate_metric.02 args[\"version\"]=1\n",
      "********************\n",
      "working model_version = 1  2025-06-06 11:05:14.123207\n",
      "********************\n",
      "start to train all models. 2025-06-06 11:05:14.123217\n",
      "4's training. status=start 2025-06-06 11:05:14.123224\n",
      "4's training. status=end 2025-06-06 11:05:35.304958\n",
      "completed to train all models. 2025-06-06 11:05:35.305047\n",
      "train to create model(1). 2025-06-06 11:05:38.305523\n",
      "INFO:tensorflow:Assets written to: ram://690d073f51214d009ef0dbf25366e98f/assets\n"
     ]
    },
    {
     "name": "stderr",
     "output_type": "stream",
     "text": [
      "INFO:tensorflow:Assets written to: ram://690d073f51214d009ef0dbf25366e98f/assets\n"
     ]
    },
    {
     "name": "stdout",
     "output_type": "stream",
     "text": [
      "CPU 시간: 136.578125 초\n",
      "메모리 사용량: 1268568 KB\n",
      "gen_metric.step.2 [2025-06-06 11:06:58.821416]\n"
     ]
    }
   ],
   "source": [
    "#\n",
    "# max_model_limit 정보만큼 반복적으로 매트릭을 생성합니다.\n",
    "#\n",
    "test_id='P4_5_6_11'\n",
    "gen_num=1\n",
    "round_limit=1000\n",
    "gen_metric(test_id=test_id, gen_num=gen_num, round_limit=round_limit)"
   ]
  },
  {
   "cell_type": "code",
   "execution_count": 11,
   "metadata": {},
   "outputs": [
    {
     "name": "stdout",
     "output_type": "stream",
     "text": [
      "gen_metric.step.0 [2025-06-06 11:08:56.851334]\n",
      "gen_metric.step.1 [2025-06-06 11:08:56.851637]\n",
      "Test Start: 1~1\n",
      "CPU 시간: 137.03125 초\n",
      "메모리 사용량: 1268568 KB\n",
      "generate_metric.02 args[\"version\"]=1\n",
      "********************\n",
      "working model_version = 1  2025-06-06 11:08:56.851711\n",
      "********************\n",
      "start to train all models. 2025-06-06 11:08:56.851721\n",
      "4's training. status=start 2025-06-06 11:08:56.851729\n",
      "4's training. status=end 2025-06-06 11:09:17.765127\n",
      "completed to train all models. 2025-06-06 11:09:17.765220\n",
      "train to create model(1). 2025-06-06 11:09:20.765320\n",
      "INFO:tensorflow:Assets written to: ram://5f2b9f08c334488da5b174ae25b64fab/assets\n"
     ]
    },
    {
     "name": "stderr",
     "output_type": "stream",
     "text": [
      "INFO:tensorflow:Assets written to: ram://5f2b9f08c334488da5b174ae25b64fab/assets\n"
     ]
    },
    {
     "name": "stdout",
     "output_type": "stream",
     "text": [
      "CPU 시간: 180.890625 초\n",
      "메모리 사용량: 1285488 KB\n",
      "gen_metric.step.2 [2025-06-06 11:10:44.364457]\n"
     ]
    }
   ],
   "source": [
    "#\n",
    "# max_model_limit 정보만큼 반복적으로 매트릭을 생성합니다.\n",
    "#\n",
    "test_id='P4_5_6_12'\n",
    "gen_num=1\n",
    "round_limit=1000\n",
    "gen_metric(test_id=test_id, gen_num=gen_num, round_limit=round_limit)"
   ]
  },
  {
   "cell_type": "code",
   "execution_count": 10,
   "metadata": {},
   "outputs": [
    {
     "name": "stdout",
     "output_type": "stream",
     "text": [
      "gen_metric.step.0 [2025-06-06 11:53:57.390938]\n",
      "gen_metric.step.1 [2025-06-06 11:53:57.391259]\n",
      "Test Start: 1~1\n",
      "CPU 시간: 36.859375 초\n",
      "메모리 사용량: 953264 KB\n",
      "generate_metric.02 args[\"version\"]=1\n",
      "********************\n",
      "working model_version = 1  2025-06-06 11:53:57.391346\n",
      "********************\n",
      "start to train all models. 2025-06-06 11:53:57.391361\n",
      "4's training. status=start 2025-06-06 11:53:57.391369\n",
      "4's training. status=end 2025-06-06 11:54:17.761072\n",
      "completed to train all models. 2025-06-06 11:54:17.761150\n",
      "train to create model(1). 2025-06-06 11:54:20.761244\n",
      "INFO:tensorflow:Assets written to: ram://bed8a096ae634883bf374a890b1b453c/assets\n"
     ]
    },
    {
     "name": "stderr",
     "output_type": "stream",
     "text": [
      "INFO:tensorflow:Assets written to: ram://bed8a096ae634883bf374a890b1b453c/assets\n"
     ]
    },
    {
     "name": "stdout",
     "output_type": "stream",
     "text": [
      "CPU 시간: 82.296875 초\n",
      "메모리 사용량: 1462756 KB\n",
      "gen_metric.step.2 [2025-06-06 11:55:39.381164]\n"
     ]
    }
   ],
   "source": [
    "# 데이터 셋을 수정해서 테스트 합니다.\n",
    "#\n",
    "# max_model_limit 정보만큼 반복적으로 매트릭을 생성합니다.\n",
    "#\n",
    "test_id='P4_5_6_14'\n",
    "gen_num=1\n",
    "round_limit=1000\n",
    "gen_metric(test_id=test_id, gen_num=gen_num, round_limit=round_limit)"
   ]
  },
  {
   "cell_type": "code",
   "execution_count": 11,
   "metadata": {},
   "outputs": [
    {
     "name": "stdout",
     "output_type": "stream",
     "text": [
      "gen_metric.step.0 [2025-06-06 11:56:24.059200]\n",
      "gen_metric.step.1 [2025-06-06 11:56:24.059614]\n",
      "Test Start: 1~1\n",
      "CPU 시간: 82.765625 초\n",
      "메모리 사용량: 1462756 KB\n",
      "generate_metric.02 args[\"version\"]=1\n",
      "********************\n",
      "working model_version = 1  2025-06-06 11:56:24.059675\n",
      "********************\n",
      "start to train all models. 2025-06-06 11:56:24.059683\n",
      "4's training. status=start 2025-06-06 11:56:24.059691\n",
      "4's training. status=end 2025-06-06 11:56:44.284243\n",
      "completed to train all models. 2025-06-06 11:56:44.284348\n",
      "train to create model(1). 2025-06-06 11:56:47.284416\n",
      "INFO:tensorflow:Assets written to: ram://2ba16ac61c6e4ef190e64a1e448762d3/assets\n"
     ]
    },
    {
     "name": "stderr",
     "output_type": "stream",
     "text": [
      "INFO:tensorflow:Assets written to: ram://2ba16ac61c6e4ef190e64a1e448762d3/assets\n"
     ]
    },
    {
     "name": "stdout",
     "output_type": "stream",
     "text": [
      "CPU 시간: 129.296875 초\n",
      "메모리 사용량: 1477984 KB\n",
      "gen_metric.step.2 [2025-06-06 11:58:06.388850]\n"
     ]
    }
   ],
   "source": [
    "# 데이터 셋을 수정해서 테스트 합니다.\n",
    "#\n",
    "# max_model_limit 정보만큼 반복적으로 매트릭을 생성합니다.\n",
    "#\n",
    "test_id='P4_5_6_15'\n",
    "gen_num=1\n",
    "round_limit=1000\n",
    "gen_metric(test_id=test_id, gen_num=gen_num, round_limit=round_limit)"
   ]
  },
  {
   "cell_type": "code",
   "execution_count": 12,
   "metadata": {},
   "outputs": [
    {
     "name": "stdout",
     "output_type": "stream",
     "text": [
      "gen_metric.step.0 [2025-06-06 12:00:16.929338]\n",
      "gen_metric.step.1 [2025-06-06 12:00:16.929524]\n",
      "Test Start: 1~1\n",
      "CPU 시간: 129.859375 초\n",
      "메모리 사용량: 1477984 KB\n",
      "generate_metric.02 args[\"version\"]=1\n",
      "********************\n",
      "working model_version = 1  2025-06-06 12:00:16.929581\n",
      "********************\n",
      "start to train all models. 2025-06-06 12:00:16.929589\n",
      "4's training. status=start 2025-06-06 12:00:16.929596\n",
      "4's training. status=end 2025-06-06 12:00:37.109211\n",
      "completed to train all models. 2025-06-06 12:00:37.109289\n",
      "train to create model(1). 2025-06-06 12:00:40.109427\n",
      "INFO:tensorflow:Assets written to: ram://830763330d4d4bf2947f9860bc638fe6/assets\n"
     ]
    },
    {
     "name": "stderr",
     "output_type": "stream",
     "text": [
      "INFO:tensorflow:Assets written to: ram://830763330d4d4bf2947f9860bc638fe6/assets\n"
     ]
    },
    {
     "name": "stdout",
     "output_type": "stream",
     "text": [
      "CPU 시간: 177.375 초\n",
      "메모리 사용량: 1501152 KB\n",
      "gen_metric.step.2 [2025-06-06 12:02:00.606857]\n"
     ]
    }
   ],
   "source": [
    "# 데이터 셋을 수정해서 테스트 합니다.\n",
    "#\n",
    "# max_model_limit 정보만큼 반복적으로 매트릭을 생성합니다.\n",
    "#\n",
    "test_id='P4_5_6_16'\n",
    "gen_num=1\n",
    "round_limit=1000\n",
    "gen_metric(test_id=test_id, gen_num=gen_num, round_limit=round_limit)"
   ]
  },
  {
   "cell_type": "code",
   "execution_count": 15,
   "metadata": {},
   "outputs": [
    {
     "name": "stdout",
     "output_type": "stream",
     "text": [
      "gen_metric.step.0 [2025-06-06 12:06:53.196224]\n",
      "gen_metric.step.1 [2025-06-06 12:06:53.196555]\n",
      "Test Start: 1~1\n",
      "CPU 시간: 177.890625 초\n",
      "메모리 사용량: 1501152 KB\n",
      "generate_metric.02 args[\"version\"]=1\n",
      "********************\n",
      "working model_version = 1  2025-06-06 12:06:53.196626\n",
      "********************\n",
      "start to train all models. 2025-06-06 12:06:53.196635\n",
      "4's training. status=start 2025-06-06 12:06:53.196642\n",
      "4's training. status=end 2025-06-06 12:07:13.545985\n",
      "completed to train all models. 2025-06-06 12:07:13.546063\n",
      "train to create model(1). 2025-06-06 12:07:16.546117\n",
      "INFO:tensorflow:Assets written to: ram://a419ce4ebd624f75b73105c7acc93e25/assets\n"
     ]
    },
    {
     "name": "stderr",
     "output_type": "stream",
     "text": [
      "INFO:tensorflow:Assets written to: ram://a419ce4ebd624f75b73105c7acc93e25/assets\n"
     ]
    },
    {
     "name": "stdout",
     "output_type": "stream",
     "text": [
      "CPU 시간: 225.328125 초\n",
      "메모리 사용량: 1512596 KB\n",
      "gen_metric.step.2 [2025-06-06 12:08:36.618191]\n"
     ]
    }
   ],
   "source": [
    "# 데이터 셋을 수정해서 테스트 합니다.\n",
    "# predict -> back_test\n",
    "#\n",
    "# max_model_limit 정보만큼 반복적으로 매트릭을 생성합니다.\n",
    "#\n",
    "test_id='P4_5_6_17'\n",
    "gen_num=1\n",
    "round_limit=1000\n",
    "gen_metric(test_id=test_id, gen_num=gen_num, round_limit=round_limit)"
   ]
  },
  {
   "cell_type": "code",
   "execution_count": 16,
   "metadata": {},
   "outputs": [
    {
     "name": "stdout",
     "output_type": "stream",
     "text": [
      "gen_metric.step.0 [2025-06-06 12:09:30.408520]\n",
      "gen_metric.step.1 [2025-06-06 12:09:30.409056]\n",
      "Test Start: 1~1\n",
      "CPU 시간: 225.84375 초\n",
      "메모리 사용량: 1512596 KB\n",
      "generate_metric.02 args[\"version\"]=1\n",
      "********************\n",
      "working model_version = 1  2025-06-06 12:09:30.409136\n",
      "********************\n",
      "start to train all models. 2025-06-06 12:09:30.409145\n",
      "4's training. status=start 2025-06-06 12:09:30.409153\n",
      "4's training. status=end 2025-06-06 12:09:50.841610\n",
      "completed to train all models. 2025-06-06 12:09:50.841697\n",
      "train to create model(1). 2025-06-06 12:09:53.841756\n",
      "INFO:tensorflow:Assets written to: ram://812eef8f1ef7477d827048e21266e3aa/assets\n"
     ]
    },
    {
     "name": "stderr",
     "output_type": "stream",
     "text": [
      "INFO:tensorflow:Assets written to: ram://812eef8f1ef7477d827048e21266e3aa/assets\n"
     ]
    },
    {
     "name": "stdout",
     "output_type": "stream",
     "text": [
      "CPU 시간: 271.734375 초\n",
      "메모리 사용량: 1531904 KB\n",
      "gen_metric.step.2 [2025-06-06 12:11:13.359821]\n"
     ]
    }
   ],
   "source": [
    "# 데이터 셋을 수정해서 테스트 합니다.\n",
    "# predict -> back_test\n",
    "#\n",
    "# max_model_limit 정보만큼 반복적으로 매트릭을 생성합니다.\n",
    "#\n",
    "test_id='P4_5_6_18'\n",
    "gen_num=1\n",
    "round_limit=1000\n",
    "gen_metric(test_id=test_id, gen_num=gen_num, round_limit=round_limit)"
   ]
  },
  {
   "cell_type": "code",
   "execution_count": 17,
   "metadata": {},
   "outputs": [
    {
     "name": "stdout",
     "output_type": "stream",
     "text": [
      "gen_metric.step.0 [2025-06-06 12:11:52.014251]\n",
      "gen_metric.step.1 [2025-06-06 12:11:52.014629]\n",
      "Test Start: 1~1\n",
      "CPU 시간: 272.21875 초\n",
      "메모리 사용량: 1531904 KB\n",
      "generate_metric.02 args[\"version\"]=1\n",
      "********************\n",
      "working model_version = 1  2025-06-06 12:11:52.014725\n",
      "********************\n",
      "start to train all models. 2025-06-06 12:11:52.014739\n",
      "4's training. status=start 2025-06-06 12:11:52.014750\n",
      "4's training. status=end 2025-06-06 12:12:14.147610\n",
      "completed to train all models. 2025-06-06 12:12:14.147698\n",
      "train to create model(1). 2025-06-06 12:12:17.148047\n",
      "INFO:tensorflow:Assets written to: ram://97f6ad5f809942c0a2808383521f0de7/assets\n"
     ]
    },
    {
     "name": "stderr",
     "output_type": "stream",
     "text": [
      "INFO:tensorflow:Assets written to: ram://97f6ad5f809942c0a2808383521f0de7/assets\n"
     ]
    },
    {
     "name": "stdout",
     "output_type": "stream",
     "text": [
      "CPU 시간: 316.28125 초\n",
      "메모리 사용량: 1542244 KB\n",
      "gen_metric.step.2 [2025-06-06 12:13:37.275269]\n"
     ]
    }
   ],
   "source": [
    "# 데이터 셋을 수정해서 테스트 합니다.\n",
    "# predict -> back_test\n",
    "#\n",
    "# max_model_limit 정보만큼 반복적으로 매트릭을 생성합니다.\n",
    "#\n",
    "test_id='P4_5_6_19'\n",
    "gen_num=1\n",
    "round_limit=1000\n",
    "gen_metric(test_id=test_id, gen_num=gen_num, round_limit=round_limit)"
   ]
  },
  {
   "cell_type": "code",
   "execution_count": 18,
   "metadata": {},
   "outputs": [
    {
     "name": "stdout",
     "output_type": "stream",
     "text": [
      "gen_metric.step.0 [2025-06-06 12:19:22.204116]\n",
      "gen_metric.step.1 [2025-06-06 12:19:22.204307]\n",
      "Test Start: 1~1\n",
      "CPU 시간: 316.78125 초\n",
      "메모리 사용량: 1542244 KB\n",
      "generate_metric.02 args[\"version\"]=1\n",
      "********************\n",
      "working model_version = 1  2025-06-06 12:19:22.204392\n",
      "********************\n",
      "start to train all models. 2025-06-06 12:19:22.204402\n",
      "4's training. status=start 2025-06-06 12:19:22.204410\n",
      "4's training. status=end 2025-06-06 12:19:43.673801\n",
      "completed to train all models. 2025-06-06 12:19:43.673881\n",
      "train to create model(1). 2025-06-06 12:19:46.673990\n",
      "INFO:tensorflow:Assets written to: ram://4126f40db62649ceb86b2d66372e74bd/assets\n"
     ]
    },
    {
     "name": "stderr",
     "output_type": "stream",
     "text": [
      "INFO:tensorflow:Assets written to: ram://4126f40db62649ceb86b2d66372e74bd/assets\n"
     ]
    },
    {
     "name": "stdout",
     "output_type": "stream",
     "text": [
      "CPU 시간: 361.921875 초\n",
      "메모리 사용량: 1565580 KB\n",
      "gen_metric.step.2 [2025-06-06 12:21:09.064118]\n"
     ]
    }
   ],
   "source": [
    "# 데이터 셋을 수정해서 테스트 합니다.\n",
    "# predict -> back_test\n",
    "#\n",
    "# max_model_limit 정보만큼 반복적으로 매트릭을 생성합니다.\n",
    "#\n",
    "test_id='P4_5_6_20'\n",
    "gen_num=1\n",
    "round_limit=1000\n",
    "gen_metric(test_id=test_id, gen_num=gen_num, round_limit=round_limit)"
   ]
  },
  {
   "cell_type": "code",
   "execution_count": 19,
   "metadata": {},
   "outputs": [
    {
     "name": "stdout",
     "output_type": "stream",
     "text": [
      "gen_metric.step.0 [2025-06-06 12:22:46.984245]\n",
      "gen_metric.step.1 [2025-06-06 12:22:46.984668]\n",
      "Test Start: 1~1\n",
      "CPU 시간: 362.40625 초\n",
      "메모리 사용량: 1565580 KB\n",
      "generate_metric.02 args[\"version\"]=1\n",
      "********************\n",
      "working model_version = 1  2025-06-06 12:22:46.984746\n",
      "********************\n",
      "start to train all models. 2025-06-06 12:22:46.984762\n",
      "4's training. status=start 2025-06-06 12:22:46.984772\n",
      "4's training. status=end 2025-06-06 12:23:08.736019\n",
      "completed to train all models. 2025-06-06 12:23:08.736114\n",
      "train to create model(1). 2025-06-06 12:23:11.736550\n",
      "INFO:tensorflow:Assets written to: ram://076e5b08aa17449fa552063d947d1b23/assets\n"
     ]
    },
    {
     "name": "stderr",
     "output_type": "stream",
     "text": [
      "INFO:tensorflow:Assets written to: ram://076e5b08aa17449fa552063d947d1b23/assets\n"
     ]
    },
    {
     "name": "stdout",
     "output_type": "stream",
     "text": [
      "CPU 시간: 407.578125 초\n",
      "메모리 사용량: 1577572 KB\n",
      "gen_metric.step.2 [2025-06-06 12:24:35.989914]\n"
     ]
    }
   ],
   "source": [
    "# 데이터 셋을 수정해서 테스트 합니다.\n",
    "# predict -> back_test\n",
    "#\n",
    "# max_model_limit 정보만큼 반복적으로 매트릭을 생성합니다.\n",
    "#\n",
    "test_id='P4_5_6_21'\n",
    "gen_num=1\n",
    "round_limit=1000\n",
    "gen_metric(test_id=test_id, gen_num=gen_num, round_limit=round_limit)"
   ]
  },
  {
   "cell_type": "code",
   "execution_count": 20,
   "metadata": {},
   "outputs": [
    {
     "name": "stdout",
     "output_type": "stream",
     "text": [
      "gen_metric.step.0 [2025-06-06 12:25:05.481278]\n",
      "gen_metric.step.1 [2025-06-06 12:25:05.481553]\n",
      "Test Start: 1~1\n",
      "CPU 시간: 408.046875 초\n",
      "메모리 사용량: 1577572 KB\n",
      "generate_metric.02 args[\"version\"]=1\n",
      "********************\n",
      "working model_version = 1  2025-06-06 12:25:05.481614\n",
      "********************\n",
      "start to train all models. 2025-06-06 12:25:05.481624\n",
      "4's training. status=start 2025-06-06 12:25:05.481633\n",
      "4's training. status=end 2025-06-06 12:25:27.039859\n",
      "completed to train all models. 2025-06-06 12:25:27.039971\n",
      "train to create model(1). 2025-06-06 12:25:30.040164\n",
      "INFO:tensorflow:Assets written to: ram://a3e12ba900de4b97a68bbb8266e04893/assets\n"
     ]
    },
    {
     "name": "stderr",
     "output_type": "stream",
     "text": [
      "INFO:tensorflow:Assets written to: ram://a3e12ba900de4b97a68bbb8266e04893/assets\n"
     ]
    },
    {
     "name": "stdout",
     "output_type": "stream",
     "text": [
      "CPU 시간: 453.640625 초\n",
      "메모리 사용량: 1594868 KB\n",
      "gen_metric.step.2 [2025-06-06 12:26:52.584764]\n"
     ]
    }
   ],
   "source": [
    "# 데이터 셋을 수정해서 테스트 합니다.\n",
    "# predict -> back_test\n",
    "#\n",
    "# max_model_limit 정보만큼 반복적으로 매트릭을 생성합니다.\n",
    "#\n",
    "test_id='P4_5_6_22'\n",
    "gen_num=1\n",
    "round_limit=1000\n",
    "gen_metric(test_id=test_id, gen_num=gen_num, round_limit=round_limit)"
   ]
  },
  {
   "cell_type": "code",
   "execution_count": 7,
   "metadata": {},
   "outputs": [
    {
     "name": "stdout",
     "output_type": "stream",
     "text": [
      "gen_metric.step.0 [2025-06-06 13:55:30.372343]\n",
      "gen_metric.step.1 [2025-06-06 13:55:30.372521]\n",
      "Test Start: 1~1\n",
      "CPU 시간: 1.15625 초\n",
      "메모리 사용량: 394800 KB\n",
      "generate_metric.02 args[\"version\"]=1\n",
      "********************\n",
      "working model_version = 1  2025-06-06 13:55:30.372576\n",
      "********************\n",
      "start to train all models. 2025-06-06 13:55:30.372585\n",
      "4's training. status=start 2025-06-06 13:55:30.372592\n"
     ]
    },
    {
     "name": "stderr",
     "output_type": "stream",
     "text": [
      "2025-06-06 13:55:30.425428: E tensorflow/compiler/xla/stream_executor/cuda/cuda_driver.cc:268] failed call to cuInit: CUDA_ERROR_NO_DEVICE: no CUDA-capable device is detected\n"
     ]
    },
    {
     "name": "stdout",
     "output_type": "stream",
     "text": [
      "4's training. status=end 2025-06-06 13:55:39.249418\n",
      "completed to train all models. 2025-06-06 13:55:39.249496\n",
      "train to create model(1). 2025-06-06 13:55:42.249562\n",
      "INFO:tensorflow:Assets written to: ram://771a1aefd48643edb7acdd295c0cee8b/assets\n"
     ]
    },
    {
     "name": "stderr",
     "output_type": "stream",
     "text": [
      "INFO:tensorflow:Assets written to: ram://771a1aefd48643edb7acdd295c0cee8b/assets\n"
     ]
    },
    {
     "name": "stdout",
     "output_type": "stream",
     "text": [
      "CPU 시간: 38.015625 초\n",
      "메모리 사용량: 1235888 KB\n",
      "gen_metric.step.2 [2025-06-06 13:56:34.025344]\n"
     ]
    }
   ],
   "source": [
    "# 데이터 셋을 수정해서 테스트 합니다.\n",
    "# predict -> back_test\n",
    "#\n",
    "# max_model_limit 정보만큼 반복적으로 매트릭을 생성합니다.\n",
    "#\n",
    "test_id='P4_5_6_23'\n",
    "gen_num=1\n",
    "round_limit=1000\n",
    "gen_metric(test_id=test_id, gen_num=gen_num, round_limit=round_limit)"
   ]
  },
  {
   "cell_type": "code",
   "execution_count": 8,
   "metadata": {},
   "outputs": [
    {
     "name": "stdout",
     "output_type": "stream",
     "text": [
      "gen_metric.step.0 [2025-06-06 13:56:45.520247]\n",
      "gen_metric.step.1 [2025-06-06 13:56:45.520524]\n",
      "Test Start: 1~1\n",
      "CPU 시간: 38.390625 초\n",
      "메모리 사용량: 1235888 KB\n",
      "generate_metric.02 args[\"version\"]=1\n",
      "********************\n",
      "working model_version = 1  2025-06-06 13:56:45.520588\n",
      "********************\n",
      "start to train all models. 2025-06-06 13:56:45.520597\n",
      "4's training. status=start 2025-06-06 13:56:45.520605\n",
      "4's training. status=end 2025-06-06 13:56:54.536552\n",
      "completed to train all models. 2025-06-06 13:56:54.536627\n",
      "train to create model(1). 2025-06-06 13:56:57.536713\n",
      "INFO:tensorflow:Assets written to: ram://e7b677a7633f4912b4b9d8301d719165/assets\n"
     ]
    },
    {
     "name": "stderr",
     "output_type": "stream",
     "text": [
      "INFO:tensorflow:Assets written to: ram://e7b677a7633f4912b4b9d8301d719165/assets\n"
     ]
    },
    {
     "name": "stdout",
     "output_type": "stream",
     "text": [
      "CPU 시간: 75.671875 초\n",
      "메모리 사용량: 1241748 KB\n",
      "gen_metric.step.2 [2025-06-06 13:57:49.564041]\n"
     ]
    }
   ],
   "source": [
    "# 데이터 셋을 수정해서 테스트 합니다.\n",
    "# predict -> back_test\n",
    "#\n",
    "# max_model_limit 정보만큼 반복적으로 매트릭을 생성합니다.\n",
    "#\n",
    "test_id='P4_5_6_24'\n",
    "gen_num=1\n",
    "round_limit=1000\n",
    "gen_metric(test_id=test_id, gen_num=gen_num, round_limit=round_limit)"
   ]
  },
  {
   "cell_type": "code",
   "execution_count": 9,
   "metadata": {},
   "outputs": [
    {
     "name": "stdout",
     "output_type": "stream",
     "text": [
      "gen_metric.step.0 [2025-06-06 14:05:58.009051]\n",
      "gen_metric.step.1 [2025-06-06 14:05:58.009376]\n",
      "Test Start: 1~1\n",
      "CPU 시간: 76.046875 초\n",
      "메모리 사용량: 1241748 KB\n",
      "generate_metric.02 args[\"version\"]=1\n",
      "********************\n",
      "working model_version = 1  2025-06-06 14:05:58.009459\n",
      "********************\n",
      "start to train all models. 2025-06-06 14:05:58.009468\n",
      "4's training. status=start 2025-06-06 14:05:58.009476\n",
      "4's training. status=end 2025-06-06 14:06:07.219001\n",
      "completed to train all models. 2025-06-06 14:06:07.219078\n",
      "train to create model(1). 2025-06-06 14:06:10.219236\n",
      "INFO:tensorflow:Assets written to: ram://7c9a60f95c054c86a75446ecb628cd25/assets\n"
     ]
    },
    {
     "name": "stderr",
     "output_type": "stream",
     "text": [
      "INFO:tensorflow:Assets written to: ram://7c9a60f95c054c86a75446ecb628cd25/assets\n"
     ]
    },
    {
     "name": "stdout",
     "output_type": "stream",
     "text": [
      "CPU 시간: 112.9375 초\n",
      "메모리 사용량: 1248120 KB\n",
      "gen_metric.step.2 [2025-06-06 14:07:02.132138]\n"
     ]
    }
   ],
   "source": [
    "# 데이터 셋을 수정해서 테스트 합니다.\n",
    "# predict -> back_test\n",
    "#\n",
    "# max_model_limit 정보만큼 반복적으로 매트릭을 생성합니다.\n",
    "#\n",
    "test_id='P4_5_6_25'\n",
    "gen_num=1\n",
    "round_limit=1000\n",
    "gen_metric(test_id=test_id, gen_num=gen_num, round_limit=round_limit)"
   ]
  },
  {
   "cell_type": "code",
   "execution_count": 10,
   "metadata": {},
   "outputs": [
    {
     "name": "stdout",
     "output_type": "stream",
     "text": [
      "gen_metric.step.0 [2025-06-06 14:07:04.621420]\n",
      "gen_metric.step.1 [2025-06-06 14:07:04.621492]\n",
      "Test Start: 1~1\n",
      "CPU 시간: 113.296875 초\n",
      "메모리 사용량: 1248120 KB\n",
      "generate_metric.02 args[\"version\"]=1\n",
      "********************\n",
      "working model_version = 1  2025-06-06 14:07:04.621554\n",
      "********************\n",
      "start to train all models. 2025-06-06 14:07:04.621563\n",
      "4's training. status=start 2025-06-06 14:07:04.621571\n",
      "4's training. status=end 2025-06-06 14:07:13.974670\n",
      "completed to train all models. 2025-06-06 14:07:13.974755\n",
      "train to create model(1). 2025-06-06 14:07:16.974827\n",
      "INFO:tensorflow:Assets written to: ram://d41d6c0103334227b2f06950c4aa1f95/assets\n"
     ]
    },
    {
     "name": "stderr",
     "output_type": "stream",
     "text": [
      "INFO:tensorflow:Assets written to: ram://d41d6c0103334227b2f06950c4aa1f95/assets\n"
     ]
    },
    {
     "name": "stdout",
     "output_type": "stream",
     "text": [
      "CPU 시간: 149.578125 초\n",
      "메모리 사용량: 1253124 KB\n",
      "gen_metric.step.2 [2025-06-06 14:08:09.478106]\n"
     ]
    }
   ],
   "source": [
    "# 데이터 셋을 수정해서 테스트 합니다.\n",
    "# predict -> back_test\n",
    "#\n",
    "# max_model_limit 정보만큼 반복적으로 매트릭을 생성합니다.\n",
    "#\n",
    "test_id='P4_5_6_26'\n",
    "gen_num=1\n",
    "round_limit=1000\n",
    "gen_metric(test_id=test_id, gen_num=gen_num, round_limit=round_limit)"
   ]
  },
  {
   "cell_type": "code",
   "execution_count": 11,
   "metadata": {},
   "outputs": [
    {
     "name": "stdout",
     "output_type": "stream",
     "text": [
      "gen_metric.step.0 [2025-06-06 14:10:09.510010]\n",
      "gen_metric.step.1 [2025-06-06 14:10:09.510344]\n",
      "Test Start: 1~1\n",
      "CPU 시간: 149.9375 초\n",
      "메모리 사용량: 1253124 KB\n",
      "generate_metric.02 args[\"version\"]=1\n",
      "********************\n",
      "working model_version = 1  2025-06-06 14:10:09.510411\n",
      "********************\n",
      "start to train all models. 2025-06-06 14:10:09.510420\n",
      "4's training. status=start 2025-06-06 14:10:09.510428\n",
      "4's training. status=end 2025-06-06 14:10:19.202376\n",
      "completed to train all models. 2025-06-06 14:10:19.203291\n",
      "train to create model(1). 2025-06-06 14:10:22.203689\n",
      "INFO:tensorflow:Assets written to: ram://75ead2907f6e49d2bbe102090d5605b5/assets\n"
     ]
    },
    {
     "name": "stderr",
     "output_type": "stream",
     "text": [
      "INFO:tensorflow:Assets written to: ram://75ead2907f6e49d2bbe102090d5605b5/assets\n"
     ]
    },
    {
     "name": "stdout",
     "output_type": "stream",
     "text": [
      "CPU 시간: 185.5625 초\n",
      "메모리 사용량: 1256160 KB\n",
      "gen_metric.step.2 [2025-06-06 14:11:15.668194]\n"
     ]
    }
   ],
   "source": [
    "# 데이터 셋을 수정해서 테스트 합니다.\n",
    "# predict -> back_test\n",
    "#\n",
    "# max_model_limit 정보만큼 반복적으로 매트릭을 생성합니다.\n",
    "#\n",
    "test_id='P4_5_6_27'\n",
    "gen_num=1\n",
    "round_limit=1000\n",
    "gen_metric(test_id=test_id, gen_num=gen_num, round_limit=round_limit)"
   ]
  },
  {
   "cell_type": "code",
   "execution_count": 12,
   "metadata": {},
   "outputs": [
    {
     "name": "stdout",
     "output_type": "stream",
     "text": [
      "gen_metric.step.0 [2025-06-06 14:11:42.737554]\n",
      "gen_metric.step.1 [2025-06-06 14:11:42.737950]\n",
      "Test Start: 1~1\n",
      "CPU 시간: 185.921875 초\n",
      "메모리 사용량: 1256160 KB\n",
      "generate_metric.02 args[\"version\"]=1\n",
      "********************\n",
      "working model_version = 1  2025-06-06 14:11:42.738016\n",
      "********************\n",
      "start to train all models. 2025-06-06 14:11:42.738026\n",
      "4's training. status=start 2025-06-06 14:11:42.738033\n",
      "4's training. status=end 2025-06-06 14:11:52.187389\n",
      "completed to train all models. 2025-06-06 14:11:52.187500\n",
      "train to create model(1). 2025-06-06 14:11:55.187649\n",
      "INFO:tensorflow:Assets written to: ram://e9b8c9f30d4e4b7eb74c7424b33d7510/assets\n"
     ]
    },
    {
     "name": "stderr",
     "output_type": "stream",
     "text": [
      "INFO:tensorflow:Assets written to: ram://e9b8c9f30d4e4b7eb74c7424b33d7510/assets\n"
     ]
    },
    {
     "name": "stdout",
     "output_type": "stream",
     "text": [
      "CPU 시간: 224.015625 초\n",
      "메모리 사용량: 1266448 KB\n",
      "gen_metric.step.2 [2025-06-06 14:12:47.605228]\n"
     ]
    }
   ],
   "source": [
    "# 데이터 셋을 수정해서 테스트 합니다.\n",
    "# predict -> back_test\n",
    "#\n",
    "# max_model_limit 정보만큼 반복적으로 매트릭을 생성합니다.\n",
    "#\n",
    "test_id='P4_5_6_28'\n",
    "gen_num=1\n",
    "round_limit=1000\n",
    "gen_metric(test_id=test_id, gen_num=gen_num, round_limit=round_limit)"
   ]
  },
  {
   "cell_type": "code",
   "execution_count": null,
   "metadata": {},
   "outputs": [],
   "source": [
    "## end"
   ]
  },
  {
   "cell_type": "code",
   "execution_count": null,
   "metadata": {},
   "outputs": [],
   "source": []
  }
 ],
 "metadata": {
  "kernelspec": {
   "display_name": "Python 3 (ipykernel)",
   "language": "python",
   "name": "python3"
  },
  "language_info": {
   "codemirror_mode": {
    "name": "ipython",
    "version": 3
   },
   "file_extension": ".py",
   "mimetype": "text/x-python",
   "name": "python",
   "nbconvert_exporter": "python",
   "pygments_lexer": "ipython3",
   "version": "3.8.10"
  }
 },
 "nbformat": 4,
 "nbformat_minor": 4
}
