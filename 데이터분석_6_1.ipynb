{
 "cells": [
  {
   "cell_type": "markdown",
   "id": "fe29b1f4-357b-49da-a50e-e523cc17c998",
   "metadata": {},
   "source": [
    "# DB에서 매트릭을 읽어서 그래프 그리기 (v4.6.1)\n",
    "\n",
    "<p>won@aimmo.co.kr(swhors@naver.com)</p>"
   ]
  },
  {
   "cell_type": "code",
   "execution_count": null,
   "id": "c6b8f400-b3bd-479c-81bb-639ddf521064",
   "metadata": {},
   "outputs": [],
   "source": [
    "!pip install pillow"
   ]
  },
  {
   "cell_type": "code",
   "execution_count": null,
   "id": "6f16df82-f70f-4050-8e0a-a0d8bbd95233",
   "metadata": {},
   "outputs": [],
   "source": [
    "def restart_kernel():\n",
    "    # Restart the kernet after libraries are loaded.\n",
    "    import IPython\n",
    "    from datetime import datetime\n",
    "    print(f'restart kernel... {datetime.now()}')\n",
    "    app = IPython.Application.instance()\n",
    "    app.kernel.do_shutdown(True)\n",
    "\n",
    "restart_kernel()"
   ]
  },
  {
   "cell_type": "code",
   "execution_count": null,
   "id": "b27673ef-bf91-409d-90bb-e15826276dc3",
   "metadata": {},
   "outputs": [],
   "source": [
    "import os\n",
    "import sys\n",
    "from datetime import datetime\n",
    "cwd = os.getcwd()\n",
    "sys.path.append(cwd)\n",
    "print(sys.path)\n",
    "\n",
    "print(f'load_library step#1 {datetime.now()}')\n",
    "\n",
    "from datetime import datetime\n",
    "from lib.metrics_loader import load_data_by_version\n",
    "from lib.graph_util import draw_data_graph\n",
    "from lib.graph_util import draw_data_graph_v2\n",
    "from lib.graph_util import load_image\n",
    "from lib.graph_util import draw_graph_with_metric\n",
    "from lib.graph_util import load_all_image\n",
    "from lib.metric_analyze import load_data, draw_metric\n",
    "from lib.metric_analyze import draw_graph, draw_graph_by_version\n",
    "from lib.metric_analyze import load_data_matched_freq_v2\n",
    "from lib.metric_analyze import load_all_matched_info\n",
    "from lib.metric_analyze import draw_graph_matched_size\n",
    "from lib.metric_analyze import get_matched_case_by_round\n",
    "print(f'load_library step#2 {datetime.now()}')\n",
    "\n",
    "model_ids = [14]"
   ]
  },
  {
   "cell_type": "markdown",
   "id": "c2b3c8a7-10b1-4b81-892d-fa2ac5f49ab0",
   "metadata": {},
   "source": [
    "#### Test P4_6_1_1"
   ]
  },
  {
   "cell_type": "code",
   "execution_count": null,
   "id": "b8408f66-4bd3-4e09-a793-a29e4282bb6f",
   "metadata": {},
   "outputs": [],
   "source": [
    "test_id = 'P4_6_1_1'\n",
    "draw_graph(test_id=test_id,\n",
    "           model_ids=model_ids,\n",
    "           del_res=True,\n",
    "           width=60, height=30)"
   ]
  },
  {
   "cell_type": "code",
   "execution_count": null,
   "id": "f87093be-19fd-4571-8e26-38eb94f7a052",
   "metadata": {},
   "outputs": [],
   "source": [
    "test_id = 'P4_6_1_1'\n",
    "draw_graph_by_version(test_id=test_id,\n",
    "                      model_ids=model_ids,\n",
    "                      del_res=True,\n",
    "                      width=100, height=100)"
   ]
  },
  {
   "cell_type": "markdown",
   "id": "81fe979f-e538-4733-9b08-6b24ef24a760",
   "metadata": {},
   "source": [
    "#### Test P4_6_1_2"
   ]
  },
  {
   "cell_type": "code",
   "execution_count": null,
   "id": "0c50b74d-a7c8-4e22-974d-6a6d1decb0e1",
   "metadata": {},
   "outputs": [],
   "source": [
    "test_id = 'P4_6_1_2'\n",
    "draw_graph(test_id=test_id,\n",
    "           model_ids=model_ids,\n",
    "           del_res=True,\n",
    "           width=100, height=100)"
   ]
  },
  {
   "cell_type": "code",
   "execution_count": null,
   "id": "539a36ea-dad1-4119-b1d2-d042323367b9",
   "metadata": {},
   "outputs": [],
   "source": [
    "test_id = 'P4_6_1_2'\n",
    "draw_graph_by_version(test_id=test_id,\n",
    "                      model_ids=model_ids,\n",
    "                      del_res=True,\n",
    "                      width=100, height=100)"
   ]
  },
  {
   "cell_type": "markdown",
   "id": "63d75ba8-e28a-4352-b2cb-5f1c8758e153",
   "metadata": {},
   "source": [
    "#### Test P4_6_1_2 #2"
   ]
  },
  {
   "cell_type": "code",
   "execution_count": null,
   "id": "c2093c73-2b7d-4fad-a243-03568b88de34",
   "metadata": {},
   "outputs": [],
   "source": [
    "test_id=\"P4_6_1_2\"\n",
    "draw_graph_matched_size(test_ids=[test_id], model_ids=model_ids, from_pos=0, to_pos=1000)"
   ]
  },
  {
   "cell_type": "code",
   "execution_count": null,
   "id": "913c954a-b8fd-44d8-a177-6671db42eba3",
   "metadata": {},
   "outputs": [],
   "source": [
    "test_ids=['P4_6_1_2',]\n",
    "draw_graph_matched_size(test_ids=test_ids, model_ids=model_ids, from_pos=0, to_pos=1001)\n"
   ]
  },
  {
   "cell_type": "code",
   "execution_count": null,
   "id": "68a6b241-9130-4fdc-bd42-420da1ebcb10",
   "metadata": {},
   "outputs": [],
   "source": [
    "test_ids=['P4_5_5_2',\n",
    "          'P4_5_5_3',\n",
    "          'P4_5_5_4',\n",
    "          'P4_5_5_5',\n",
    "          'P4_5_5_6',\n",
    "          'P4_5_5_7',\n",
    "          'P4_5_5_8']\n",
    "draw_graph_matched_size(test_ids=test_ids, model_ids=model_ids, from_pos=0, to_pos=1001)\n"
   ]
  },
  {
   "cell_type": "code",
   "execution_count": null,
   "id": "2f0325e7-3bd6-4701-b191-17bc9a1a7e4c",
   "metadata": {},
   "outputs": [],
   "source": [
    "test_ids=['P4_5_5_2',\n",
    "          'P4_5_5_3',\n",
    "          'P4_5_5_4',\n",
    "          'P4_5_5_5',\n",
    "          'P4_5_5_6',\n",
    "          'P4_5_5_7',\n",
    "          'P4_5_5_8']\n",
    "results = get_matched_case_by_round(test_ids=test_ids, model_ids=model_ids, min_val=1)\n",
    "sorted_results = sorted(results.items())\n",
    "print(f'Now = {datetime.now()}')"
   ]
  },
  {
   "cell_type": "code",
   "execution_count": null,
   "id": "f723745d-151a-4e56-9129-3cd88ea54b26",
   "metadata": {},
   "outputs": [],
   "source": [
    "for result in sorted_results:\n",
    "    print(result)"
   ]
  },
  {
   "cell_type": "code",
   "execution_count": null,
   "id": "3d415083-ed3d-4c7f-9e25-7a98c6885192",
   "metadata": {},
   "outputs": [],
   "source": [
    "for result in sorted_results:\n",
    "    if len(result[1])>=(len(test_ids)-1):\n",
    "        print(result)"
   ]
  },
  {
   "cell_type": "code",
   "execution_count": null,
   "id": "070312d7-edef-49d4-a473-27b35ea04db2",
   "metadata": {},
   "outputs": [],
   "source": [
    "# 876, 877, 879, 880"
   ]
  },
  {
   "cell_type": "code",
   "execution_count": null,
   "id": "956214a6-8ad6-4077-9413-458812502988",
   "metadata": {},
   "outputs": [],
   "source": [
    "test_ids=['P4_5_5_2',\n",
    "          'P4_5_5_3',\n",
    "          'P4_5_5_4',\n",
    "          'P4_5_5_5',\n",
    "          'P4_5_5_6',\n",
    "          'P4_5_5_7',\n",
    "          'P4_5_5_8']\n",
    "results = load_data_matched_freq_v2(test_ids=test_ids, model_ids=model_ids)\n",
    "for result in results:\n",
    "    print(f'{\"*\"*30}\\nid={result[\"id\"]}')\n",
    "    print('   ** metric version:round')\n",
    "    sorted_keys = sorted(result['metric'])\n",
    "    for metric in sorted_keys:\n",
    "        if len(result['metric'][metric]) > 2:\n",
    "            print(metric,result['metric'][metric])\n"
   ]
  },
  {
   "cell_type": "code",
   "execution_count": null,
   "id": "77178312-6589-4a57-a057-1e1a3677de66",
   "metadata": {},
   "outputs": [],
   "source": []
  },
  {
   "cell_type": "code",
   "execution_count": null,
   "id": "a985f4e6-18db-4fe4-ba9d-7506afdca2cb",
   "metadata": {},
   "outputs": [],
   "source": []
  }
 ],
 "metadata": {
  "kernelspec": {
   "display_name": "finance",
   "language": "python",
   "name": "finance"
  },
  "language_info": {
   "codemirror_mode": {
    "name": "ipython",
    "version": 3
   },
   "file_extension": ".py",
   "mimetype": "text/x-python",
   "name": "python",
   "nbconvert_exporter": "python",
   "pygments_lexer": "ipython3",
   "version": "3.11.2"
  }
 },
 "nbformat": 4,
 "nbformat_minor": 5
}
