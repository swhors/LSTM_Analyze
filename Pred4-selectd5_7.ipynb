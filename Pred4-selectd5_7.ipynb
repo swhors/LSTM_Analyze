{
 "cells": [
  {
   "cell_type": "markdown",
   "metadata": {},
   "source": [
    "# Prediction with LSTM model (v4.5.7)\n",
    "<p style='text-align: right;'>with selectd5.csv</p>\n",
    "\n",
    "* history\n",
    "  * 2025/05/23 PM06:02 : 3번째 모델의 3번째 데이터를 사용\n",
    "  * 2025/05/27\n",
    "  * 2025/05/30 : v4.5.1 작성 시작\n",
    "  * 2025/06/04 : v4.5.2 last update\n",
    "  * 2025/06/04 : v4.5.3 작성\n",
    "  * 2025/06/05 : v4.5.4 작성\n",
    "  * 2025/06/05 : v4.5.5 작성 model_id=14\n",
    "  * 2025/06/05 : v4.5.6 작성 model_id=4\n",
    "  * 2025/06/05 : v4.5.7 작성 model_id=2"
   ]
  },
  {
   "cell_type": "code",
   "execution_count": null,
   "metadata": {},
   "outputs": [],
   "source": [
    "!pip install scikit-learn\n",
    "!pip install tensorflow\n",
    "!pip install numpy pandas keras scikit-learn matplotlib scikeras\n",
    "from datetime import datetime\n",
    "print(f'restart kernel... {datetime.now()}')"
   ]
  },
  {
   "cell_type": "code",
   "execution_count": null,
   "metadata": {},
   "outputs": [],
   "source": [
    "def restart_kernel():\n",
    "    # Restart the kernet after libraries are loaded.\n",
    "    import IPython\n",
    "    from datetime import datetime\n",
    "    print(f'restart kernel... {datetime.now()}')\n",
    "    app = IPython.Application.instance()\n",
    "    app.kernel.do_shutdown(True)\n",
    "\n",
    "restart_kernel()\n",
    "\n",
    "import os\n",
    "import sys\n",
    "from datetime import datetime\n",
    "cwd = os.getcwd()\n",
    "sys.path.append(cwd)\n",
    "print(sys.path)"
   ]
  },
  {
   "cell_type": "code",
   "execution_count": 1,
   "metadata": {},
   "outputs": [
    {
     "name": "stdout",
     "output_type": "stream",
     "text": [
      "imported library. (2025-06-05 18:23:19.085747)\n"
     ]
    }
   ],
   "source": [
    "# load dependacies\n",
    "import os\n",
    "import time\n",
    "import resource\n",
    "from datetime import datetime\n",
    "from lib.globalvar import *\n",
    "from lib.data_loader import DataLoader\n",
    "from lib.small_predict import predict_small, print_predict_small\n",
    "from lib.activation import ActivationOutput, RecurrentActivation\n",
    "from lib.small_predict import build_and_predict, gen_multi_model, save_model, generate_metric\n",
    "from lib.common_env_sets import lstm_units, dense_units, steps, metrics, dropout\n",
    "from lib.common_env_sets import learning_rate, last_lstm_return_sequences\n",
    "from lib.common_env_sets import loss, output_dense_activation, epochs, rand_seed\n",
    "\n",
    "\n",
    "print(f\"imported library. ({datetime.now()})\")"
   ]
  },
  {
   "cell_type": "code",
   "execution_count": 2,
   "metadata": {},
   "outputs": [
    {
     "name": "stdout",
     "output_type": "stream",
     "text": [
      "finished to set environemnt. (2025-06-05 18:23:19.093098)\n"
     ]
    }
   ],
   "source": [
    "##\n",
    "## 모델링 환경 설정\n",
    "##\n",
    "window=1 # default = 1 , help = \"time stamps\"\n",
    "data_dir='./csv/selectd5.csv'\n",
    "    \n",
    "mode='predict' # help = \"back-test or predict\")\n",
    "\n",
    "mode2='sampling' # help = \"greed or sampling\")\n",
    "verb='verbose' # help = \"verbose or not_verb\")\n",
    "    \n",
    "training_length=0.95 # default = 0.9)\n",
    "from_pos = 0\n",
    "last = [[8, 11, 14, 17, 36, 39],\n",
    "        [1, 5, 18, 20, 30, 35],\n",
    "        [7, 9, 24, 40, 42, 44],\n",
    "        [3, 6, 7, 11, 12, 17],\n",
    "        [3, 13, 28, 34, 38, 42],\n",
    "        [5, 12, 24, 29, 32, 42]]\n",
    "print(f\"finished to set environemnt. ({datetime.now()})\")\n"
   ]
  },
  {
   "cell_type": "code",
   "execution_count": 3,
   "metadata": {},
   "outputs": [
    {
     "name": "stdout",
     "output_type": "stream",
     "text": [
      "completed to load data. 2025-06-05 18:23:19.140286\n"
     ]
    }
   ],
   "source": [
    "dataset_dicts = {\n",
    "    1: DataLoader(data_dir=data_dir,\n",
    "                  training_length=training_length,\n",
    "                  window_prev=window,\n",
    "                  mode=mode,\n",
    "                  from_pos=0,\n",
    "                  verbose=False\n",
    "                  ),\n",
    "    2: DataLoader(data_dir=data_dir,\n",
    "                  training_length=training_length,\n",
    "                  window_prev=window,\n",
    "                  mode=mode,\n",
    "                  from_pos=300,\n",
    "                  verbose=False\n",
    "                  )\n",
    "    }\n",
    "\n",
    "print(f'completed to load data. {datetime.now()}')"
   ]
  },
  {
   "cell_type": "code",
   "execution_count": 4,
   "metadata": {},
   "outputs": [
    {
     "name": "stdout",
     "output_type": "stream",
     "text": [
      "completed to set env for all models. 2025-06-05 18:23:24.561268\n"
     ]
    }
   ],
   "source": [
    "###########\n",
    "## layers\n",
    "## LSTM Neural 계층 선언\n",
    "###########\n",
    "datasets = [dataset_dicts[1], # 0\n",
    "            dataset_dicts[2], # 1\n",
    "           ]\n",
    "\n",
    "lstm_args = {2: {\"model\":{\"learning_rate\": learning_rate[0],\n",
    "                          \"dropout\": dropout[0],\n",
    "                          \"steps\": steps[0], # last output elements count\n",
    "                          \"metrics\": metrics[0],\n",
    "                          \"last_lstm_return_sequences\": last_lstm_return_sequences[0],\n",
    "                          \"lstm_units\": lstm_units[1],\n",
    "                          \"dense_units\": dense_units[1],\n",
    "                          \"output_dense_activation\": output_dense_activation[0],\n",
    "                          \"loss\": loss[0],\n",
    "                          \"rand_seed\": rand_seed[0]\n",
    "                          },\n",
    "                 \"train\": {\"epochs\": epochs[1],\n",
    "                           \"is_shuffle\": False,\n",
    "                           \"batch\": 1,\n",
    "                           \"steps_per_epoch\": 1\n",
    "                           },\n",
    "                 \"dataset\": datasets[0]\n",
    "                 },\n",
    "             }\n",
    "\n",
    "print(f'completed to set env for all models. {datetime.now()}')"
   ]
  },
  {
   "cell_type": "code",
   "execution_count": 5,
   "metadata": {},
   "outputs": [],
   "source": [
    "def gen_metric(test_id, gen_num, round_limit, lstm_args=lstm_args):\n",
    "    \"\"\" gen_metric \"\"\"\n",
    "    model_version_from = 1\n",
    "    model_version_end = 1\n",
    "    print(f'gen_metric.step.0 [{datetime.now()}]')\n",
    "    args = {'test_id': test_id,\n",
    "            'version': model_version_from,\n",
    "            'write_to_db': True,\n",
    "            'last': last,\n",
    "            'mode2': mode2,\n",
    "            'gen_num': gen_num,\n",
    "            'round_limit': round_limit,\n",
    "            'db_file_name': \"./db/metrics.db\"\n",
    "            }\n",
    "    print(f'gen_metric.step.1 [{datetime.now()}]')\n",
    "    generate_metric(args=args,\n",
    "                    from_version=model_version_from,\n",
    "                    to_version=model_version_end,\n",
    "                    lstm_args=lstm_args)\n",
    "    print(f'gen_metric.step.2 [{datetime.now()}]')"
   ]
  },
  {
   "cell_type": "code",
   "execution_count": null,
   "metadata": {},
   "outputs": [],
   "source": [
    "#\n",
    "# max_model_limit 정보만큼 반복적으로 매트릭을 생성합니다.\n",
    "#\n",
    "test_id='P4_5_7_1'\n",
    "gen_num=5\n",
    "round_limit=1000\n",
    "gen_metric(test_id=test_id, gen_num=gen_num, round_limit=round_limit)"
   ]
  },
  {
   "cell_type": "code",
   "execution_count": 6,
   "metadata": {},
   "outputs": [
    {
     "name": "stdout",
     "output_type": "stream",
     "text": [
      "gen_metric.step.0 [2025-06-05 18:23:33.139323]\n",
      "gen_metric.step.1 [2025-06-05 18:23:33.139410]\n",
      "Test Start: 1~1\n",
      "CPU 시간: 4.388881 초\n",
      "메모리 사용량: 602000 KB\n",
      "generate_metric.02 args[\"version\"]=1\n",
      "********************\n",
      "working model_version = 1  2025-06-05 18:23:33.139493\n",
      "********************\n",
      "start to train all models. 2025-06-05 18:23:33.139509\n",
      "2's training. status=start 2025-06-05 18:23:33.139524\n",
      "2's training. status=end 2025-06-05 18:23:52.565282\n",
      "completed to train all models. 2025-06-05 18:23:52.565376\n",
      "train to create model(1). 2025-06-05 18:23:55.565456\n",
      "CPU 시간: 133.880981 초\n",
      "메모리 사용량: 680400 KB\n",
      "gen_metric.step.2 [2025-06-05 18:26:05.626602]\n"
     ]
    }
   ],
   "source": [
    "#\n",
    "# max_model_limit 정보만큼 반복적으로 매트릭을 생성합니다.\n",
    "#\n",
    "test_id='P4_5_7_2'\n",
    "gen_num=1\n",
    "round_limit=1000\n",
    "gen_metric(test_id=test_id, gen_num=gen_num, round_limit=round_limit)"
   ]
  },
  {
   "cell_type": "code",
   "execution_count": 7,
   "metadata": {},
   "outputs": [
    {
     "name": "stdout",
     "output_type": "stream",
     "text": [
      "gen_metric.step.0 [2025-06-05 18:27:17.139462]\n",
      "gen_metric.step.1 [2025-06-05 18:27:17.139838]\n",
      "Test Start: 1~1\n",
      "CPU 시간: 134.201909 초\n",
      "메모리 사용량: 680400 KB\n",
      "generate_metric.02 args[\"version\"]=1\n",
      "********************\n",
      "working model_version = 1  2025-06-05 18:27:17.139927\n",
      "********************\n",
      "start to train all models. 2025-06-05 18:27:17.139945\n",
      "2's training. status=start 2025-06-05 18:27:17.139960\n",
      "2's training. status=end 2025-06-05 18:27:36.389187\n",
      "completed to train all models. 2025-06-05 18:27:36.389285\n",
      "train to create model(1). 2025-06-05 18:27:39.389377\n",
      "CPU 시간: 263.590767 초\n",
      "메모리 사용량: 694688 KB\n",
      "gen_metric.step.2 [2025-06-05 18:29:51.873710]\n"
     ]
    }
   ],
   "source": [
    "#\n",
    "# max_model_limit 정보만큼 반복적으로 매트릭을 생성합니다.\n",
    "#\n",
    "test_id='P4_5_7_3'\n",
    "gen_num=1\n",
    "round_limit=1000\n",
    "gen_metric(test_id=test_id, gen_num=gen_num, round_limit=round_limit)"
   ]
  },
  {
   "cell_type": "code",
   "execution_count": null,
   "metadata": {},
   "outputs": [
    {
     "name": "stdout",
     "output_type": "stream",
     "text": [
      "gen_metric.step.0 [2025-06-05 18:30:26.783219]\n",
      "gen_metric.step.1 [2025-06-05 18:30:26.783299]\n",
      "Test Start: 1~1\n",
      "CPU 시간: 263.951425 초\n",
      "메모리 사용량: 694688 KB\n",
      "generate_metric.02 args[\"version\"]=1\n",
      "********************\n",
      "working model_version = 1  2025-06-05 18:30:26.783383\n",
      "********************\n",
      "start to train all models. 2025-06-05 18:30:26.783399\n",
      "2's training. status=start 2025-06-05 18:30:26.783414\n",
      "2's training. status=end 2025-06-05 18:30:46.057649\n",
      "completed to train all models. 2025-06-05 18:30:46.057744\n",
      "train to create model(1). 2025-06-05 18:30:49.057828\n"
     ]
    }
   ],
   "source": [
    "#\n",
    "# max_model_limit 정보만큼 반복적으로 매트릭을 생성합니다.\n",
    "#\n",
    "test_id='P4_5_7_4'\n",
    "gen_num=1\n",
    "round_limit=1000\n",
    "gen_metric(test_id=test_id, gen_num=gen_num, round_limit=round_limit)"
   ]
  },
  {
   "cell_type": "code",
   "execution_count": null,
   "metadata": {},
   "outputs": [],
   "source": [
    "#\n",
    "# max_model_limit 정보만큼 반복적으로 매트릭을 생성합니다.\n",
    "#\n",
    "test_id='P4_5_7_5'\n",
    "gen_num=1\n",
    "round_limit=1000\n",
    "gen_metric(test_id=test_id, gen_num=gen_num, round_limit=round_limit)"
   ]
  },
  {
   "cell_type": "code",
   "execution_count": null,
   "metadata": {},
   "outputs": [],
   "source": [
    "#\n",
    "# max_model_limit 정보만큼 반복적으로 매트릭을 생성합니다.\n",
    "#\n",
    "test_id='P4_5_7_6'\n",
    "gen_num=1\n",
    "round_limit=1000\n",
    "gen_metric(test_id=test_id, gen_num=gen_num, round_limit=round_limit)"
   ]
  },
  {
   "cell_type": "code",
   "execution_count": null,
   "metadata": {},
   "outputs": [],
   "source": [
    "#\n",
    "# max_model_limit 정보만큼 반복적으로 매트릭을 생성합니다.\n",
    "#\n",
    "test_id='P4_5_7_7'\n",
    "gen_num=1\n",
    "round_limit=1000\n",
    "gen_metric(test_id=test_id, gen_num=gen_num, round_limit=round_limit)"
   ]
  },
  {
   "cell_type": "code",
   "execution_count": null,
   "metadata": {},
   "outputs": [],
   "source": [
    "#\n",
    "# max_model_limit 정보만큼 반복적으로 매트릭을 생성합니다.\n",
    "#\n",
    "test_id='P4_5_7_8'\n",
    "gen_num=1\n",
    "round_limit=1000\n",
    "gen_metric(test_id=test_id, gen_num=gen_num, round_limit=round_limit)"
   ]
  },
  {
   "cell_type": "code",
   "execution_count": null,
   "metadata": {},
   "outputs": [],
   "source": [
    "## end"
   ]
  },
  {
   "cell_type": "code",
   "execution_count": null,
   "metadata": {},
   "outputs": [],
   "source": []
  }
 ],
 "metadata": {
  "kernelspec": {
   "display_name": "finance",
   "language": "python",
   "name": "finance"
  },
  "language_info": {
   "codemirror_mode": {
    "name": "ipython",
    "version": 3
   },
   "file_extension": ".py",
   "mimetype": "text/x-python",
   "name": "python",
   "nbconvert_exporter": "python",
   "pygments_lexer": "ipython3",
   "version": "3.11.2"
  }
 },
 "nbformat": 4,
 "nbformat_minor": 4
}
