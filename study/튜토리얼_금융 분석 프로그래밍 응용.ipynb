{
 "cells": [
  {
   "cell_type": "markdown",
   "id": "aed6f42b-42b7-4ff8-9b3b-0b4861f1bfd0",
   "metadata": {},
   "source": [
    "## 3. 튜토리얼/금융 분석 프로그래밍 응용"
   ]
  },
  {
   "cell_type": "markdown",
   "id": "c374e93f-f9bd-45d1-8834-f1f0b7370ad9",
   "metadata": {},
   "source": [
    "<p algin=\"right\">\n",
    "파이썬 주식 시장 동향 분석 - 자연어처리 감성분석\n",
    "swsong\n",
    "2023. 1. 12. 07:04\n",
    "</p>\n",
    "\n",
    "<p>origin : https://songseungwon.tistory.com/125</p>"
   ]
  },
  {
   "cell_type": "markdown",
   "id": "457d64c2-2905-4302-878b-4c3949f3941a",
   "metadata": {},
   "source": [
    "- Step 1. 블로그 정보 수집Step\n",
    "- Step 2. 블로그 내용 수집Step\n",
    "- Step 3. 감성 분류"
   ]
  },
  {
   "cell_type": "markdown",
   "id": "1af9eaf3-ad77-46d0-b515-b8bc15346f0c",
   "metadata": {},
   "source": [
    "<p>주식 시장에는 기본적으로 주식을 팔고자 하는 사람과 사고자 하는 사람, 이렇게 크게 두 유형이 있다. 팽팽한 줄다리기 끝에 팔고자 하는 사람이 더 많으면 공급 초과로 가격은 하락하게 된다.\n",
    "​주가에 영향을 주는 요소는 금융 애널리스트의 예측, 기관 예측, 경제 위기, 그리고 이를 전달하는 뉴스 매체 등으로 셀 수 없이 많지만 결국 그 종착지에는 대중의 움직임이 있다. 그러한 대중의 움직임이 파는 쪽에 더 치우치면 가격은 떨어지고, 사는 쪽에 치우치면 가격은 상승한다.\n",
    "그렇다면 우리는 지금 이 시간, 대중의 움직임이 어느 방향으로 기울고 있는가를 분석해 볼 수 있다. 그 대상은 특정 종목이나 특정 국가가 될 수도 있고 주식 시장 자체가 될 수 있다. 본 분석은 후자, 주식 시장 자체에 대해 사람들이 어떻게 평가하고 있는가를 분석해 볼 것이며 분석 대상이 되는 기간은 1주일이다. 즉, '이번 주 주식 시장에 대한 사람들의 평가는 어떠한가?'에 대한 분석이 되겠다.(2022-10-12 기준)</p>"
   ]
  },
  {
   "cell_type": "markdown",
   "id": "14b14dd2-23a7-4a90-ab06-db5d46c12a1c",
   "metadata": {},
   "source": [
    "### Step 1. 블로그 정보 수집"
   ]
  },
  {
   "cell_type": "markdown",
   "id": "ff445b4f-0a07-4ab8-b166-6192012f270d",
   "metadata": {},
   "source": [
    "\n",
    "#### 1-1. 웹사이트 구조 및 데이터 호출 정보 확인\n",
    "\n",
    "<p>파이썬으로 포스팅을 긁어올 것이므로 타깃을 명확히 확인하자. '네이버 블로그'(https://section.blog.naver.com/) 사이트에 진입해서 '주가 전망'이라는 키워드를 검색 후 개발자 모드를 열어 네트워크 탭을 살펴본다.\n",
    "미리 보기를 통해 반환된 문서들을 살펴보면 그중 SearchList.naver에 우리가 찾는 데이터가 있는 것을 확인할 수 있다. 이제 파이썬으로 해당 자료를 가져올 수 있으면 된다.\n",
    "먼저 해당 데이터가 어떤 방식(GET, POST)으로, 어떤 url 값으로 반환받을 수 있는지 살펴본 다음, 하단 쿼리 문자열 매개변수를 확인함으로써 넘겨줄 요청 값들을 지정해 줄 수 있다.</p>\n",
    "\n",
    "<img src=\"./img/finance_analyze_01.png\"/>"
   ]
  },
  {
   "cell_type": "code",
   "execution_count": 1,
   "id": "548d6afe-fbf9-465c-8f4f-e25c33c52492",
   "metadata": {},
   "outputs": [],
   "source": [
    "import pandas as pd\n",
    "import requests\n",
    "from bs4 import BeautifulSoup\n",
    "from datetime import datetime, timedelta\n",
    "import json"
   ]
  },
  {
   "cell_type": "markdown",
   "id": "226a7ad4-6c67-47a8-b562-e9929f401cb5",
   "metadata": {},
   "source": [
    "#### 1-2. 단일 페이지 데이터 호출\n",
    "\n",
    "<p>currentPage는 현재 페이지 번호, countPerPage는 페이지당 포함하는 포스팅 수, endDate와 startDate는 지난 7일간을 지정해 주고 keyword는 검색한 값을 보여준다. 이렇게 파라미터 파악이 끝났으면 코드 작성을 위해 필요한 라이브러리를 호출하겠다.</p>"
   ]
  },
  {
   "cell_type": "markdown",
   "id": "364b8453-90b4-4806-9aac-7ca21b1b8009",
   "metadata": {},
   "source": [
    "<p>endDate, startDate는 직접 문자열로 입력해 줘도 되지만 스크래퍼를 개발할 때에는 항상 자동화를 염두에 두어야 한다. 따라서 기준 날짜로부터 지난 7일을 계산할 수 있도록 다음과 같이 함수를 사용하겠다.</p>"
   ]
  },
  {
   "cell_type": "code",
   "execution_count": 2,
   "id": "03a6d45d-c046-4021-a417-847c9ee6973a",
   "metadata": {},
   "outputs": [
    {
     "data": {
      "text/plain": [
       "datetime.datetime(2025, 5, 1, 23, 16, 3, 16906)"
      ]
     },
     "execution_count": 2,
     "metadata": {},
     "output_type": "execute_result"
    }
   ],
   "source": [
    "datetime.today() - timedelta(30)"
   ]
  },
  {
   "cell_type": "code",
   "execution_count": 3,
   "id": "45e29b1b-0dbb-4fbb-a97c-be8f2fb24be0",
   "metadata": {},
   "outputs": [
    {
     "data": {
      "text/plain": [
       "'2025-05-31'"
      ]
     },
     "execution_count": 3,
     "metadata": {},
     "output_type": "execute_result"
    }
   ],
   "source": [
    "datetime.today().strftime('%Y-%m-%d')"
   ]
  },
  {
   "cell_type": "markdown",
   "id": "4bad854a-9201-4db2-86d2-ebc0078009cb",
   "metadata": {},
   "source": [
    "<p>이제, url, header, date, params를 정의하고 파라미터가 잘 세팅되는지 확인한다.</p>"
   ]
  },
  {
   "cell_type": "code",
   "execution_count": 4,
   "id": "07d74543-e44f-4056-a875-909259bb5207",
   "metadata": {},
   "outputs": [
    {
     "data": {
      "text/plain": [
       "{'countPerPage': 7,\n",
       " 'currentPage': 1,\n",
       " 'endDate': '2025-05-31',\n",
       " 'keyword': '주가전망',\n",
       " 'orderby': 'sim',\n",
       " 'startDate': '2025-05-24',\n",
       " 'type': 'post'}"
      ]
     },
     "execution_count": 4,
     "metadata": {},
     "output_type": "execute_result"
    }
   ],
   "source": [
    "url = 'https://section.blog.naver.com/ajax/SearchList.naver'\n",
    "header = {\n",
    "    \"Referer\": \"https://section.blog.naver.com/Search/Post.naver\",\n",
    "}\n",
    "end_date = datetime.today()\n",
    "start_date = end_date - timedelta(days=7)\n",
    "params = {\n",
    "    'countPerPage': 7,\n",
    "    'currentPage': 1,\n",
    "    'endDate': end_date.strftime('%Y-%m-%d'),\n",
    "    'keyword': '주가전망',\n",
    "    'orderby': 'sim',\n",
    "    'startDate': start_date.strftime('%Y-%m-%d'),\n",
    "    'type' : 'post'\n",
    "}\n",
    "params"
   ]
  },
  {
   "cell_type": "markdown",
   "id": "ceccb83a-2eef-4adc-bbae-c151a51bf661",
   "metadata": {},
   "source": [
    "<p>requests 모듈을 통해 데이터를 불러온다. 결괏값을 확인했을 때 우리가 앞서 봤던 SearchList.naver의 미리 보기 값과 형태가 동일해야 한다. 텍스트 앞부분만 짧게 출력하자.</p>"
   ]
  },
  {
   "cell_type": "code",
   "execution_count": 5,
   "id": "2fe00abe-87bb-44fe-8e9f-a19c1da4727e",
   "metadata": {},
   "outputs": [
    {
     "data": {
      "text/plain": [
       "')]}\\',\\n{\"result\":{\"searchDisplayInfo\":{\"authUrlType\":\"LOGIN\",\"authUrl\":\"https://nid.naver.com/nidlogin.login?svctype=128&a_version=2&viewtype=1&&url=https://section.blog.naver.com/Search/Post.naver?keyword=%25EC%25A3%25BC%25EA%25B0%2580%25EC%25A0%2584%25EB%25A7%259D&surl=https://section.blog.naver.com\",\"existSuicideWord\":false,\"keyword\":\"주가전망\",\"eucKrEncodedKeyword\":\"%C1%D6%B0%A1%C0%FC%B8%C1\",\"displayType\":\"NORMAL\",\"blockedByBifrostShield\":false},\"searchList\":[{\"domainIdOrBlogId\":\"press02\",\"logNo\":223881896022,\"gdid\":\"90000003_00000000000000342066A056\",\"postUrl\":\"https://blog.naver.com/press02/223881896022\",\"title\":\"원전관련주 두산에너빌리티 목표<strong class=\\\\\"search_keyword\\\\\">주가 전망</strong>: 해외수주 양호\",\"noTagTitle\":\"원전관련주 두산에너빌리티 목표주가 전망: 해외수주 양호\",\"contents\":\"실제로 증권사들의 목표<strong class=\\\\\"search_keyword\\\\\">주가</strong> 평균인 38,286원은 현재가보다 낮습니다. 가장 높은 <strong class=\\\\\"search_keyword\\\\\">전망</strong>은 대신증권의 46,000원, 가장 낮은 곳은 유안타증권의 31,000원이었습니다. 이 말은 ‘이미 오를 만큼 오른 것 아니냐’는 우려도 있다는 뜻입니다. 게다가 현재 PER(<strong class=\\\\\"'"
      ]
     },
     "execution_count": 5,
     "metadata": {},
     "output_type": "execute_result"
    }
   ],
   "source": [
    "res = requests.get(url, params=params, headers=header)\n",
    "res\n",
    "res.text[:1000]"
   ]
  },
  {
   "cell_type": "markdown",
   "id": "c85549ce-6fca-44c2-a7bb-880569f03248",
   "metadata": {},
   "source": [
    "<p>데이터를 json 형태로 변환해 주면 좋겠다. 그전에 앞부분의 불필요한 문자열을 잘라줘야 정상적으로 변환이 될 것이다.</p>"
   ]
  },
  {
   "cell_type": "code",
   "execution_count": 6,
   "id": "ff34e2d0-f83b-460a-b5a5-e3117c4d828f",
   "metadata": {},
   "outputs": [
    {
     "data": {
      "text/plain": [
       "[{'domainIdOrBlogId': 'press02',\n",
       "  'logNo': 223881896022,\n",
       "  'gdid': '90000003_00000000000000342066A056',\n",
       "  'postUrl': 'https://blog.naver.com/press02/223881896022',\n",
       "  'title': '원전관련주 두산에너빌리티 목표<strong class=\"search_keyword\">주가 전망</strong>: 해외수주 양호',\n",
       "  'noTagTitle': '원전관련주 두산에너빌리티 목표주가 전망: 해외수주 양호',\n",
       "  'contents': '실제로 증권사들의 목표<strong class=\"search_keyword\">주가</strong> 평균인 38,286원은 현재가보다 낮습니다. 가장 높은 <strong class=\"search_keyword\">전망</strong>은 대신증권의 46,000원, 가장 낮은 곳은 유안타증권의 31,000원이었습니다. 이 말은 ‘이미 오를 만큼 오른 것 아니냐’는 우려도 있다는 뜻입니다. 게다가 현재 PER(<strong class=\"search_keyword\">주가</strong>수익비율)은 64.1배, PBR(<strong class=\"search_keyword\">주가</strong>순자산비율)은... ',\n",
       "  'nickName': '재미진 저널리스트',\n",
       "  'blogName': '재미진 저널리스트의 금융탐구생활',\n",
       "  'profileImgUrl': 'https://blogpfthumb-phinf.pstatic.net/MjAyNDA3MjNfMjM2/MDAxNzIxNzA0NjQyMTgz.or0KzbaFI9cpwv4aAeT86_hscrGZFPCbyPT5e2asceUg.wga-Vaoidl-BtmYVO0mldLwk1NpD2qX6xqF8lDtawIsg.JPEG/1.jpeg?type=s1',\n",
       "  'addDate': 1748496600000,\n",
       "  'thumbnails': [{'url': 'https://blogthumb.pstatic.net/MjAyNTA1MjlfMjU2/MDAxNzQ4NDk2NDkyODE5.fqexI4fWW8osEgaQn-c6XFWzhTLGhkP9KI141li2Cp0g.0cEYJIJCp0Mu5qgC89M9yqfr_A2RtlPkTsy8djhwEW4g.PNG/%B5%CE%BB%EA%BF%A1%B3%CA%BA%F4%B8%AE%C6%BC_%C1%D6%B0%A1_%C0%FC%B8%C1_%BD%C7%C0%FB_%C3%DF%C0%CC.png?type=s2',\n",
       "    'vrthumbnail': False,\n",
       "    'videoThumbnail': False},\n",
       "   {'url': 'https://blogthumb.pstatic.net/MjAyNTA1MjlfMTUg/MDAxNzQ4NDk2NTIzNTAz.L598a8fMPCspCF90QzKEPg-fATFFjAK5tgWGN9ootocg.j6lzq3oTuRSZHI0z2EruIwTdpcavxP4jlSAYfqbVtUQg.PNG/%B5%CE%BB%EA%BF%A1%B3%CA%BA%F4%B8%AE%C6%BC_1%B3%E2_%C1%D6%B0%A1.PNG?type=s2',\n",
       "    'vrthumbnail': False,\n",
       "    'videoThumbnail': False},\n",
       "   {'url': 'https://blogthumb.pstatic.net/MjAyNTA1MjlfMjc4/MDAxNzQ4NDk2NTM2ODMy.n0KsTcCbtWzOB1q2dBt1aXWIeLbIV3PLdN5jjgei024g.FtUAFr_wRGievVLzVUKe1yXF8mYm_YqIcbLMAp0sbJYg.PNG/%B5%CE%BB%EA%BF%A1%B3%CA%BA%F4%B8%AE%C6%BC_%C7%D8%BF%DC%BC%F6%C1%D6.PNG?type=s2',\n",
       "    'vrthumbnail': False,\n",
       "    'videoThumbnail': False},\n",
       "   {'url': 'https://blogthumb.pstatic.net/MjAyNTA1MjlfMTI0/MDAxNzQ4NDk2NTQ1MzYw.eLn_NYq5bmPtToe_RRtvvX30Zk6htDdFguUHHBfMg7gg._OagRFWRjoabRVYipT9PwiaX0qgVXSqo6JbwEawNJpwg.PNG/%B5%CE%BB%EA%BF%A1%B3%CA%BA%F4%B8%AE%C6%BC_%BC%B3%BA%F1%C5%F5%C0%DA.PNG?type=s2',\n",
       "    'vrthumbnail': False,\n",
       "    'videoThumbnail': False}],\n",
       "  'product': None,\n",
       "  'titleHead': None,\n",
       "  'titleHeadColor': None,\n",
       "  'marketPost': False,\n",
       "  'hasThumbnail': True},\n",
       " {'domainIdOrBlogId': 'yahoyaho08',\n",
       "  'logNo': 223880295474,\n",
       "  'gdid': '90000003_0000000000000034204E3432',\n",
       "  'postUrl': 'https://blog.naver.com/yahoyaho08/223880295474',\n",
       "  'title': '에코프로 <strong class=\"search_keyword\">주가 전망</strong>과 가격 분석 :: 계속 하락하는 이유는?',\n",
       "  'noTagTitle': '에코프로 주가 전망과 가격 분석 :: 계속 하락하는 이유는?',\n",
       "  'contents': '현재 가격 분석과 <strong class=\"search_keyword\">주가전망</strong> 그리고 하락하는 이유까지 살펴보겠습니다. 에코프로 주가 현황, 가격분석 에코프로 주가현황입니다. 23년 전성기를 누리던 주식이 딱 2년이 지난 지금은 하염없이 하락만 이어지고 있습니다. 고점에 비해서는 -85% 수준의 가격이고, 최근 2년간 제대로 된 반등 한번... ',\n",
       "  'nickName': '디노',\n",
       "  'blogName': '디노의 경제 재테크이야기',\n",
       "  'profileImgUrl': 'https://blogpfthumb-phinf.pstatic.net/MjAyNDEyMDlfMjY1/MDAxNzMzNzM1ODQ4MzIw.ljJsp9PTJWEY2ehuYEKeJb52XfPb8p-Ph32HuBjfUHYg.MYi50jZVGklcyNkGX7oRSvEpiKr7IxI4KEGzMsbymZIg.JPEG/%25ED%2594%2584%25EB%25A1%259C%25ED%2595%2584.JPG/%25ED%2594%2584%25EB%25A1%259C%25ED%2595%2584.JPG?type=s1',\n",
       "  'addDate': 1748384040000,\n",
       "  'thumbnails': [{'url': 'https://blogthumb.pstatic.net/MjAyNTA1MjdfMjk2/MDAxNzQ4MzMwOTY3NjMx.LzZFb6DGSHVH5D_VimhI4Acfz3RrXIcAgfHy9-jwgNUg.cNwPt-2C6itpr6TDe1h2brGm8e-GYxsRO8Jixg9JkF4g.PNG/%C1%A6%B8%F1%C0%BB-%C0%D4%B7%C2%C7%D8%C1%D6%BC%BC%BF%E4_-001_-_2025-05-27T162818.679.png?type=s2',\n",
       "    'vrthumbnail': False,\n",
       "    'videoThumbnail': False},\n",
       "   {'url': 'https://blogthumb.pstatic.net/MjAyNTA1MjdfMTMy/MDAxNzQ4MzI0NzY4MzEw.qR5LLH5O87USNBj9SL35Di6I_DChDjfEkTRfeWO2q1og.jEMXq5XiQVF1wSjRFVxfUbsWnzB-5ZH4WGxWVVzPxlIg.PNG/image.png?type=s2',\n",
       "    'vrthumbnail': False,\n",
       "    'videoThumbnail': False},\n",
       "   {'url': 'https://blogthumb.pstatic.net/MjAyNTA1MjdfOTIg/MDAxNzQ4MzMwMzMzMDc0.jfFR8fsdPFhtG7zljBda9evAYTzl4AKuRGzZMHU9Fx4g.NBcWWLPNfTrh9DgviAglNvWxZYGh0sv043A05uAlDTIg.PNG/image.png?type=s2',\n",
       "    'vrthumbnail': False,\n",
       "    'videoThumbnail': False},\n",
       "   {'url': 'https://blogthumb.pstatic.net/MjAyNTA1MjdfMTk4/MDAxNzQ4MzI1MjUyNDMz.uDtHOBupWfLEs8u7TpADZYUmtwqKr9VTgutmI2Ft4msg.r4_YvH1IebcTSQsxdpPALkJ6z3wqmA7dwqcEVGr_BP0g.PNG/image.png?type=s2',\n",
       "    'vrthumbnail': False,\n",
       "    'videoThumbnail': False}],\n",
       "  'product': None,\n",
       "  'titleHead': None,\n",
       "  'titleHeadColor': None,\n",
       "  'marketPost': False,\n",
       "  'hasThumbnail': True},\n",
       " {'domainIdOrBlogId': 'nasiba5083',\n",
       "  'logNo': 223882664010,\n",
       "  'gdid': '90000003_00000000000000342072584A',\n",
       "  'postUrl': 'https://blog.naver.com/nasiba5083/223882664010',\n",
       "  'title': '테슬라 목표 <strong class=\"search_keyword\">주가</strong> 보다 <strong class=\"search_keyword\">전망</strong> 기대에 초점, 적정 예측이 어려운 주식',\n",
       "  'noTagTitle': '테슬라 목표 주가 보다 전망 기대에 초점, 적정 예측이 어려운 주식',\n",
       "  'contents': '지난 테슬라 <strong class=\"search_keyword\">주가 전망</strong>에서 제가 다뤘듯이.... 저는 손절을 진행했습니다. 이유는 머스크가 그리는 큰 그림이 어떤 건지는 알겠지만, 그에 따라 주주로서 안심하기에는 너무나 롤러코스터와 같은 변동성이 진행된다는 점이었는데요. 그야말로 기대에 초점이 있긴 하나 중간에 멀미가 너무 심한... ',\n",
       "  'nickName': '콘시토르',\n",
       "  'blogName': '콘시토르의 경제 유니버스',\n",
       "  'profileImgUrl': 'https://blogpfthumb-phinf.pstatic.net/MjAyNTA1MDNfMjY1/MDAxNzQ2MjAxODUyMTA0.qk3T8T27qYI9f7EmArUVTH9ulz9aNoS8OcNYYk7sLKsg.ypTJzGQ4DmwbEcZVW6gxb2DKNIV4wg2avr-CtzLBUS8g.PNG/%25EC%25A0%259C%25EB%25AA%25A9%25EC%259D%2584_%25EC%259E%2585%25EB%25A0%25A5%25ED%2595%25B4%25EC%25A3%25BC%25EC%2584%25B8%25EC%259A%2594_-021_%25282%2529.png/%25EC%25A0%259C%25EB%25AA%25A9%25EC%259D%2584%2B%25EC%259E%2585%25EB%25A0%25A5%25ED%2595%25B4%25EC%25A3%25BC%25EC%2584%25B8%25EC%259A%2594_-021%2B%25282%2529.png?type=s1',\n",
       "  'addDate': 1748559180000,\n",
       "  'thumbnails': [{'url': 'https://blogthumb.pstatic.net/MjAyNTA1MjhfNDYg/MDAxNzQ4NDMxOTA4NDc3.MNC0R7raZ5h3wDJvpE0FaphIEUmk9vxc_Qa5-ZXJiVcg.7QJAm2YUMZS0aa8LIwiL1f3HZ6V-iwjK3z5eDjyiuhog.PNG/%C7%A5%C1%F6_%B8%B8%B5%E9%B1%E2-001_%289%29.png?type=s2',\n",
       "    'vrthumbnail': False,\n",
       "    'videoThumbnail': False},\n",
       "   {'url': 'https://blogthumb.pstatic.net/MjAyNTA1MjlfMjQ0/MDAxNzQ4NTIzNjEzMzI0.ZRoZfTP4AYj4HqyGn1-jyZLQA_uV4FbLipGo-a8hHX0g.fFMQToh7nvWi4vkejR2Df-pdAGpuWlXs0u8HXbCCRo4g.PNG/%C1%F7%BB%E7%B0%A2%C7%FC_%C0%DA%B7%E1_%B8%B8%B5%E9%B1%E2-004_%288%29.png?type=s2',\n",
       "    'vrthumbnail': False,\n",
       "    'videoThumbnail': False},\n",
       "   {'url': 'https://blogthumb.pstatic.net/MjAyNTA1MjlfMTAy/MDAxNzQ4NTI0MjE5NjE5._iJLbFbVOu3Ubw4f5QK9R_lZtAPAMItchsc78abqxrEg.n5KLmctVf3b326TBHTwCgfvupbPT3GKEN6hDuGwEHJIg.PNG/%C1%F7%BB%E7%B0%A2%C7%FC_%C0%DA%B7%E1_%B8%B8%B5%E9%B1%E2-004_%289%29.png?type=s2',\n",
       "    'vrthumbnail': False,\n",
       "    'videoThumbnail': False},\n",
       "   {'url': 'https://blogthumb.pstatic.net/MjAyNTA1MjlfMjAg/MDAxNzQ4NTI0NDY2OTEy.CKlXxPs8x78D_FLs4Frxz-ATtly4lFxhyT0Jya2VY20g.ApxeXj0_pX_yUeAc4gkeC25hPm_J4fBIJISA_DZ73T8g.PNG/%C1%F7%BB%E7%B0%A2%C7%FC_%C0%DA%B7%E1_%B8%B8%B5%E9%B1%E2-004_%2810%29.png?type=s2',\n",
       "    'vrthumbnail': False,\n",
       "    'videoThumbnail': False}],\n",
       "  'product': None,\n",
       "  'titleHead': None,\n",
       "  'titleHeadColor': None,\n",
       "  'marketPost': False,\n",
       "  'hasThumbnail': True},\n",
       " {'domainIdOrBlogId': 'rouhey',\n",
       "  'logNo': 223877316692,\n",
       "  'gdid': '90000003_00000000000000342020C054',\n",
       "  'postUrl': 'https://blog.naver.com/rouhey/223877316692',\n",
       "  'title': '한국전력 <strong class=\"search_keyword\">주가 전망</strong>, 지금이 매수 타이밍일까',\n",
       "  'noTagTitle': '한국전력 주가 전망, 지금이 매수 타이밍일까',\n",
       "  'contents': '한국전력 <strong class=\"search_keyword\">주가 전망</strong>, 지금이 매수 타이밍일까 최근 주식시장에서 가장 뜨거운 종목 중 하나가 바로 한국전력이에요. 전기요금 인상 기대감과 실적 반등 소식이 맞물리면서 주가가 큰 폭으로 상승하고 있답니다. 오늘은 한국전력 주가의 흐름과 향후 전망, 투자 시 유의해야 할 점까지 자세히... ',\n",
       "  'nickName': '경제엄마',\n",
       "  'blogName': '경제엄마 부자되기',\n",
       "  'profileImgUrl': 'https://blogpfthumb-phinf.pstatic.net/MjAyNDExMTRfMTQ0/MDAxNzMxNTg2NTk1OTg4.ar951-I2pdWk3FqmXZ0c45ouiOZFPjVV2-9qtR6LPtog.Bh6rAGEMMUsrxl6fRDD9eHLRRRbXV9U0XFsBC6DPAIcg.JPEG/20241114_211401_%25EB%25B3%25B5%25EC%2582%25AC.jpg/20241114_211401%2B%25EB%25B3%25B5%25EC%2582%25AC.jpg?type=s1',\n",
       "  'addDate': 1748169180000,\n",
       "  'thumbnails': [{'url': 'https://blogthumb.pstatic.net/MjAyNTA1MjVfNCAg/MDAxNzQ4MTYyODI4ODU1.b64Wb4q6Q03s1mhvdQ3otA8sWvn59AfnputLLkFxwlgg.uK1b0pr6VmgOeKdo4JerqRRFYqQLDeDYTwppXR0tWncg.PNG/%B3%D7%C0%CC%B9%F6%BA%ED%B7%CE%B1%D7__%BA%B9%BB%E7%BA%BB-001_%2887%29.png?type=s2',\n",
       "    'vrthumbnail': False,\n",
       "    'videoThumbnail': False},\n",
       "   {'url': 'https://blogthumb.pstatic.net/MjAyNTA1MjVfMjAx/MDAxNzQ4MTY5MjI1MTE0.46VSOU3at_8HoJHixaxMqHIXpX-gsxCG4JBKplQnb3Qg.ZqdTJrK-kdvyWBtGDsS2nhmDtUazIB_fRFg4FEBwTrkg.PNG/image.png?type=s2',\n",
       "    'vrthumbnail': False,\n",
       "    'videoThumbnail': False}],\n",
       "  'product': None,\n",
       "  'titleHead': None,\n",
       "  'titleHeadColor': None,\n",
       "  'marketPost': False,\n",
       "  'hasThumbnail': True},\n",
       " {'domainIdOrBlogId': 'loveisimpress',\n",
       "  'logNo': 223880702735,\n",
       "  'gdid': '90000003_000000000000003420546B0F',\n",
       "  'postUrl': 'https://blog.naver.com/loveisimpress/223880702735',\n",
       "  'title': '엔비디아 실적 발표일 1분기 한국 시간 <strong class=\"search_keyword\">주가 전망</strong>',\n",
       "  'noTagTitle': '엔비디아 실적 발표일 1분기 한국 시간 주가 전망',\n",
       "  'contents': '엔비디아 실적 발표일 1분기 한국 시간 그리고 <strong class=\"search_keyword\">주가 전망</strong>은 어떻게 될지 꿀팁 알려드릴게요! 1. 엔비디아 실적 발표일 한국 시간 아무래도 우리나라의 경우 미국 기업들의 일정이 언제인지 확인하기 위해서는 해당 기업에 들어가거나 일일이 검색해서 찾아볼 수 밖에 없어요. 그러나 쉽게 찾을 수... ',\n",
       "  'nickName': '경제 IT로거',\n",
       "  'blogName': '경제 IT로거',\n",
       "  'profileImgUrl': 'https://blogpfthumb-phinf.pstatic.net/MjAyNDA3MDlfMjc5/MDAxNzIwNTE4NjI1NTQ2.B5mA7jNXOpY0rB-1-HIL1uiU4UCD1XinivJS9KtF3Y0g.Qw2Eeo8fGXXb-mBtv7LEJtxXmVM1IrCPTvdlb1wgQZcg.PNG/%25EC%25A0%259C%25EB%25AA%25A9%25EC%259D%2584_%25EC%259E%2585%25EB%25A0%25A5%25ED%2595%25B4%25EC%25A3%25BC%25EC%2584%25B8%25EC%259A%2594_-003_%25283%2529.png/%25EC%25A0%259C%25EB%25AA%25A9%25EC%259D%2584%2B%25EC%259E%2585%25EB%25A0%25A5%25ED%2595%25B4%25EC%25A3%25BC%25EC%2584%25B8%25EC%259A%2594_-003%2B%25283%2529.png?type=s1',\n",
       "  'addDate': 1748409420000,\n",
       "  'thumbnails': [{'url': 'https://blogthumb.pstatic.net/MjAyNTA1MjhfMjgz/MDAxNzQ4NDA5MjQ1MTQ1.4w8qMRcpFuwHcQqJU8Z8a-V7NYBdod58JRzHEW6n3Dsg.F5egYakyGgn5RE0cf65reeXEWBjtfP0CW8EMldcIt4Yg.PNG/%BF%A3%BA%F1%B5%F0%BE%C6_%BD%C7%C0%FB_%B9%DF%C7%A5%C0%CF.png?type=s2',\n",
       "    'vrthumbnail': False,\n",
       "    'videoThumbnail': False},\n",
       "   {'url': 'https://blogthumb.pstatic.net/MjAyNTA1MjhfMjk2/MDAxNzQ4NDA5MzY0NDQ5.2NxzYe-REggIcTjhS65XgijvEXH8G_CSnkqOW8mlR10g.YZs7BCoax2IAvPov_Wmu4F2ACP2f3N9V4UTaWlcj85kg.PNG/%BD%BA%C5%A9%B8%B0%BC%A6_2025-05-28_141457.png?type=s2',\n",
       "    'vrthumbnail': False,\n",
       "    'videoThumbnail': False},\n",
       "   {'url': 'https://blogthumb.pstatic.net/MjAyNTA1MjhfMTQx/MDAxNzQ4NDA5MzcwNjUz.PKmSJb8s29OfKvcr-4PFwscUFL2vAj9cm_n6JLWBePcg.pxxMFkWFkL2jND57kBjs52cm5qktWlJS9rVdAGsjFAAg.PNG/%BD%BA%C5%A9%B8%B0%BC%A6_2025-05-28_141443.png?type=s2',\n",
       "    'vrthumbnail': False,\n",
       "    'videoThumbnail': False},\n",
       "   {'url': 'https://blogthumb.pstatic.net/MjAyNTA1MjhfMjE5/MDAxNzQ4NDA5Mzg1NzYx.msescZ59dUOew-Kt-peRdGO7WIzv2cBTQ0lbOMhOoR8g.LiJ8ZOfbTxeii1R_aVh95Cu3lGVb7nt3KMTIUTeUKKMg.PNG/%BD%BA%C5%A9%B8%B0%BC%A6_2025-05-28_141515.png?type=s2',\n",
       "    'vrthumbnail': False,\n",
       "    'videoThumbnail': False}],\n",
       "  'product': None,\n",
       "  'titleHead': None,\n",
       "  'titleHeadColor': None,\n",
       "  'marketPost': False,\n",
       "  'hasThumbnail': True},\n",
       " {'domainIdOrBlogId': 'kis6574',\n",
       "  'logNo': 223879176412,\n",
       "  'gdid': '90000003_0000000000000034203D20DC',\n",
       "  'postUrl': 'https://blog.naver.com/kis6574/223879176412',\n",
       "  'title': 'SK하이닉스 <strong class=\"search_keyword\">주가 전망</strong>, 30만원 갈 수 있을까?',\n",
       "  'noTagTitle': 'SK하이닉스 주가 전망, 30만원 갈 수 있을까?',\n",
       "  'contents': 'SK하이닉스 주식을 보유하고 계신 분들은 대응을 고려해보셔야겠죠. 여러분들의 생각은? 페넌트 패턴을 만들고 있는 SK하이닉스 <strong class=\"search_keyword\">주가 전망</strong>에 대한 여러분들의 생각은 어떠신가요? 댓글을 통해 다양한 의견을 남겨주세요~! ☞테슬라 관점은 요기로~ *매매에 대한 책임은 본인에게 있습니다.',\n",
       "  'nickName': '인삼',\n",
       "  'blogName': '차트보는 말희아빠',\n",
       "  'profileImgUrl': 'https://blogpfthumb-phinf.pstatic.net/MjAyMjA5MTNfMTY0/MDAxNjYzMDM2NDA2OTMz.9EYZ5HTlOaUXrEV6UkfU8b5TULwvxN9ck8vKgyQsY7gg.a4VVQoJANpBjmiLnS1RItlt3d4rRbojwjHUNvnvHlYcg.PNG.kis6574/profileImage.png?type=s1',\n",
       "  'addDate': 1748306340000,\n",
       "  'thumbnails': [{'url': 'https://blogthumb.pstatic.net/MjAyNTA1MjdfMjEy/MDAxNzQ4MzA2MzM1MDg5.k_ngNb5VOF7yOSDoxifAvk-iju50fPez4VmYjIQyqkog.W20yu3CqBfktCVm0OjZTdV0G3KpkEbDl-xGEuqNYwusg.PNG/image.png?type=s2',\n",
       "    'vrthumbnail': False,\n",
       "    'videoThumbnail': False},\n",
       "   {'url': 'https://blogthumb.pstatic.net/MjAyNTA1MjdfNjYg/MDAxNzQ4MzAxNzc2NDc1.cTVN6uodwCbDvNsDgdy0lMM3P3QWTjoRtlMu1GfnHzcg.WBB6p3n_Dap9pG4wIklPkXCS28tDcrTBMI9UL8hDUa0g.PNG/image.png?type=s2',\n",
       "    'vrthumbnail': False,\n",
       "    'videoThumbnail': False},\n",
       "   {'url': 'https://blogthumb.pstatic.net/MjAyNTA1MjdfMTQ4/MDAxNzQ4MzAyMzAzOTcx.X3Oxrd3ry5trGBo_Hnd0Ly9zbJVlhRXDeOL11w1iaoQg.ZVnvNCl7txMQsdzFkngxmyCfEgSELYb5B9RT8UQQyAgg.PNG/image.png?type=s2',\n",
       "    'vrthumbnail': False,\n",
       "    'videoThumbnail': False},\n",
       "   {'url': 'https://blogthumb.pstatic.net/MjAyNTA1MjdfMjM3/MDAxNzQ4MzAzMjQ4NTk0.dOjczC-JflQ_RcVVWHlA3daUrc2U45hldmZfjnIek2sg.LzzBceVy2B6VcaJt0XEUjDmGRveSmTdrhlF0Cbw0bR4g.PNG/image.png?type=s2',\n",
       "    'vrthumbnail': False,\n",
       "    'videoThumbnail': False}],\n",
       "  'product': None,\n",
       "  'titleHead': None,\n",
       "  'titleHeadColor': None,\n",
       "  'marketPost': False,\n",
       "  'hasThumbnail': True},\n",
       " {'domainIdOrBlogId': 'jkyun0621',\n",
       "  'logNo': 223879391584,\n",
       "  'gdid': '90000003_000000000000003420406960',\n",
       "  'postUrl': 'https://blog.naver.com/jkyun0621/223879391584',\n",
       "  'title': '엔비디아 실적발표일 한국시간, 1분기 <strong class=\"search_keyword\">주가 전망</strong>과 투자 전략은?',\n",
       "  'noTagTitle': '엔비디아 실적발표일 한국시간, 1분기 주가 전망과 투자 전략은?',\n",
       "  'contents': '그렇다면 발표 일정은 언제인지, 실적 <strong class=\"search_keyword\">전망</strong>은 어떤지, 그리고 앞으로 <strong class=\"search_keyword\">주가</strong>는 어떻게 될지, 지금부터 하나하나 쉽게 정리해 드릴게요. 엔비디아 실적발표 엔비디아는 미국 나스닥에 상장된 기업이기 때문에, 실적 발표는 미국 현지 시간 기준으로 이루어집니다. 보통 이러한 기업들은 정규장... ',\n",
       "  'nickName': '경제현미경',\n",
       "  'blogName': '경제현미경의 디테일한 시야',\n",
       "  'profileImgUrl': 'https://blogpfthumb-phinf.pstatic.net/MjAyNDAzMDZfMTU5/MDAxNzA5NzMwNzY0NDk5.lXJDoUH_pTZryvIyVpOUtCQfROgKJjGhcJNo12mRqBsg.jE1nfSgBvM79o60844kUWxQcAUCAoi9DmcyIQIC0JvAg.PNG/%25ED%2594%2584%25EB%25A1%259C%25ED%2595%2584%25EC%259D%25B4%25EB%25AF%25B8%25EC%25A7%2580.png/%25ED%2594%2584%25EB%25A1%259C%25ED%2595%2584%25EC%259D%25B4%25EB%25AF%25B8%25EC%25A7%2580.png?type=s1',\n",
       "  'addDate': 1748318400000,\n",
       "  'thumbnails': [{'url': 'https://blogthumb.pstatic.net/MjAyNTA1MjdfNiAg/MDAxNzQ4MzE2OTgxOTA0.jo1seqQDg4mNZKKACbW_wYfyfOEYg1YM_eIWeX3vQNEg.KA67H9y6ppBesh_sYgzcKkSLhN78pEhHJlq5Dl_A1ekg.PNG/%BF%A3%BA%F1%B5%F0%BE%C6_%BD%C7%C0%FB%B9%DF%C7%A5_%B4%EB%C7%A5%C0%CC%B9%CC%C1%F6.png?type=s2',\n",
       "    'vrthumbnail': False,\n",
       "    'videoThumbnail': False},\n",
       "   {'url': 'https://blogthumb.pstatic.net/MjAyNTA1MjdfMjE0/MDAxNzQ4MzE2OTkwNjM5.qVgDB2DTlGByW6VHb1_DBpNHf-D3BwbnkiQRgwTWvr8g.qCl5OSdmmgFMlcMxO5skP6xl8Fb0fE4FQbrzwi8GYzMg.JPEG/GrowkMxXUAAyWSJ.jpg?type=s2',\n",
       "    'vrthumbnail': False,\n",
       "    'videoThumbnail': False},\n",
       "   {'url': 'https://blogthumb.pstatic.net/MjAyNTA1MjdfMzEg/MDAxNzQ4MzE3MTA3MTAy.w8vz993PdBEhUp1sM7F9toB7kfUsBke1AxcbGzNFhrwg.75pRHncJ5_xs2apOl3FiSEVqmQRcHNW7nzY_YT99IY4g.JPEG/KakaoTalk_20250525_003124968.jpg?type=s2',\n",
       "    'vrthumbnail': False,\n",
       "    'videoThumbnail': False},\n",
       "   {'url': 'https://blogthumb.pstatic.net/MjAyNTA1MjdfMTAg/MDAxNzQ4MzE3MDIzOTg4.N10ara3mbIEFuyzGcyGr1OptoJd6eE9ztEzVuLISK-Ag.gPOlaZk1RICp3P4S-4h5TGDA5MG1JEJM8mlj4cYqbBUg.PNG/%BF%A3%BA%F1%B5%F0%BE%C6_%BC%D2%B0%B3.PNG?type=s2',\n",
       "    'vrthumbnail': False,\n",
       "    'videoThumbnail': False}],\n",
       "  'product': None,\n",
       "  'titleHead': None,\n",
       "  'titleHeadColor': None,\n",
       "  'marketPost': False,\n",
       "  'hasThumbnail': True}]"
      ]
     },
     "execution_count": 6,
     "metadata": {},
     "output_type": "execute_result"
    }
   ],
   "source": [
    "import json\n",
    "json.loads(res.text.split('\\n')[1])['result']['searchList']"
   ]
  },
  {
   "cell_type": "markdown",
   "id": "01262520-b7ab-495a-b56c-3952d74ef2cd",
   "metadata": {},
   "source": [
    "#### 1-3. 다중 페이지 데이터 호출(함수)\n",
    "이제, 앞서 구현한 코드들을 종합하여 키워드와 페이지 번호만 넣어주면 지난 7일간의 포스팅 정보를 긁어올 수 있는 함수를 정의하겠다."
   ]
  },
  {
   "cell_type": "code",
   "execution_count": 7,
   "id": "0b4655af-a0fe-4d4c-8298-808bbed3c85f",
   "metadata": {},
   "outputs": [],
   "source": [
    "def get_posts_info(keyword, start_page=1, end_page=10):\n",
    "    url = 'https://section.blog.naver.com/ajax/SearchList.naver'\n",
    "    headers = {\n",
    "        'Referer': 'https://section.blog.naver.com/search/Post.naver',\n",
    "    }\n",
    "    end_date = datetime.today()\n",
    "    start_date = end_date - timedelta(days=7)\n",
    "\n",
    "    all_posts_info = []\n",
    "    print(f'[INFP] keyword : {keyword}, start_page : {start_page}, end_page : {end_page}')\n",
    "    for i in range(start_page, end_page+1):\n",
    "        params = {\n",
    "            'countPerPage': 7,\n",
    "            'currentPage': 1,\n",
    "            'endDate': end_date.strftime('%Y-%m-%d'),\n",
    "            'keyword': keyword,\n",
    "            'orderBy': 'sim',\n",
    "            'startDate': start_date.strftime('%Y-%m-%d'),\n",
    "            'type': 'post',\n",
    "        }\n",
    "        res = requests.get(url, params=params, headers=headers)\n",
    "        current_posts_info = json.loads(res.text.split('\\n')[1])['result']['searchList']\n",
    "        all_posts_info += current_posts_info\n",
    "        print(f'[INFO] 포스트 정보 수집 중 .. (page : {i}/{end_page} current posts : {len(current_posts_info)} all posts : {len(all_posts_info)}')\n",
    "    return all_posts_info"
   ]
  },
  {
   "cell_type": "code",
   "execution_count": 34,
   "id": "6080ff9a-3cae-4aca-b8f7-6de483de13d7",
   "metadata": {},
   "outputs": [
    {
     "name": "stdout",
     "output_type": "stream",
     "text": [
      "[INFP] keyword : 엔비디아, start_page : 1, end_page : 10\n",
      "[INFO] 포스트 정보 수집 중 .. (page : 1/10 current posts : 7 all posts : 7\n",
      "[INFO] 포스트 정보 수집 중 .. (page : 2/10 current posts : 7 all posts : 14\n",
      "[INFO] 포스트 정보 수집 중 .. (page : 3/10 current posts : 7 all posts : 21\n",
      "[INFO] 포스트 정보 수집 중 .. (page : 4/10 current posts : 7 all posts : 28\n",
      "[INFO] 포스트 정보 수집 중 .. (page : 5/10 current posts : 7 all posts : 35\n",
      "[INFO] 포스트 정보 수집 중 .. (page : 6/10 current posts : 7 all posts : 42\n",
      "[INFO] 포스트 정보 수집 중 .. (page : 7/10 current posts : 7 all posts : 49\n",
      "[INFO] 포스트 정보 수집 중 .. (page : 8/10 current posts : 7 all posts : 56\n",
      "[INFO] 포스트 정보 수집 중 .. (page : 9/10 current posts : 7 all posts : 63\n",
      "[INFO] 포스트 정보 수집 중 .. (page : 10/10 current posts : 7 all posts : 70\n"
     ]
    }
   ],
   "source": [
    "posts_info = get_posts_info('엔비디아', 1, 10)"
   ]
  },
  {
   "cell_type": "markdown",
   "id": "d4c7b601-5a97-4f95-ae53-f635a570f9b7",
   "metadata": {},
   "source": [
    "<p>총 10개 페이지, 70개 포스팅 정보가 수집되었다.</p>"
   ]
  },
  {
   "cell_type": "markdown",
   "id": "7c510c87-1fc8-435f-8195-c103aef53a22",
   "metadata": {},
   "source": [
    "### Step 2. 블로그 내용 수집"
   ]
  },
  {
   "cell_type": "markdown",
   "id": "f859bb1e-40f3-4eae-a832-0db0eb9b3d55",
   "metadata": {},
   "source": [
    "#### 2-1. HTML 태그 정보 확인\n",
    "\n",
    "<p>이렇게 수집한 포스팅 정보로 각 url을 순회하며 텍스트만 뽑아올 것다. 수집한 url 중 하나에 진입해서 html 태그를 살펴보자.</p>"
   ]
  },
  {
   "cell_type": "markdown",
   "id": "5e568257-cd39-49d8-94e3-463078070c3f",
   "metadata": {},
   "source": [
    "<img src=\"img/finance_analyze_02.png\"/>"
   ]
  },
  {
   "cell_type": "markdown",
   "id": "73c2f7af-1b57-478b-bf76-3cd6f92f7c4b",
   "metadata": {},
   "source": [
    "<p>본문 텍스트는 se-main-continer라는 div class가 지정되어 있다.</p>"
   ]
  },
  {
   "cell_type": "markdown",
   "id": "ca388c89-ecc9-447b-a8dc-5ec4eacaabf5",
   "metadata": {},
   "source": [
    "#### 2-2. 데이터 호출 정보 확인\n",
    "\n",
    "<p>데이터 호출을 위해 이번에는 네트워크 탭의 '문서'를 살펴보면 PostView.naver에 우리가 찾는 본문 텍스트가 있다. 해당 데이터를 어떻게 호출할 수 있을지 url과 매개변수를 통해 살펴본다.</p>"
   ]
  },
  {
   "cell_type": "markdown",
   "id": "b6cc3678-e4e5-458c-b666-83c19e467811",
   "metadata": {},
   "source": [
    "<img src=\"img/finance_analyze_03.png\"/>"
   ]
  },
  {
   "cell_type": "markdown",
   "id": "8eb8be95-ef3c-4d6d-ac93-fa6928e0aef1",
   "metadata": {},
   "source": [
    "#### 2-3. 단일 페이지 데이터 호출(함수)\n",
    "\n",
    "<p>이번에는 함수로 바로 만들어주겠다. select_one 함수로 본문을 가져오고 select('p')를 해줌으로써 본문 내 모든 문장들을 리스트로 추출한다. 또한, list comprehension 문법을 통해 각 리스트 내 요소에서 텍스트만 추출해 다시 리스트로 저장하고, 제어문자(u200b는 폭 없는 공백이다. 네이버 블로그 포스팅 시 자동으로 문자 사이에 포함됩니다.)는 없애준다.</p>\n",
    "\n",
    "<p>계속해서 list comprehension 문법을 사용하며 줄바꿈은 분리해 주고 공백 요소는 제거해 깔끔한 형태의 문자열만 담은 리스트로 만든다.</p>"
   ]
  },
  {
   "cell_type": "code",
   "execution_count": 9,
   "id": "fb8be0ea-c31a-44c9-93bc-601c845d49c3",
   "metadata": {},
   "outputs": [],
   "source": [
    "def get_posts(x):\n",
    "    url = 'https://blog.naver.com/PostView.naver'\n",
    "    params = {\n",
    "        'blogId': x['domainIdOrBlogId'],\n",
    "        'logNo': x['logNo'],\n",
    "        'redirect': 'Dlog',\n",
    "        'widgetTypeCall': 'true',\n",
    "        'directAccess': 'false'\n",
    "    }\n",
    "\n",
    "    res = requests.get(url, params=params)\n",
    "    soup = BeautifulSoup(res.text, 'lxml')\n",
    "    posts = soup.select_one('.se-main-container').select('p')\n",
    "    posts = [x.get_text().replace('\\u200b', '') for x in posts]\n",
    "\n",
    "    filtered_posts = [x.replace('다. ', '다. \\n') for x in posts]\n",
    "    filtered_posts = sum([x.split('\\n') for x in posts], [])\n",
    "    filtered_posts = [x.strip() for x in filtered_posts if not x in ['', ' ']]\n",
    "    return filtered_posts"
   ]
  },
  {
   "cell_type": "code",
   "execution_count": 35,
   "id": "c18dedd6-6dbb-45d1-ae7f-c01374b880f6",
   "metadata": {},
   "outputs": [
    {
     "data": {
      "text/plain": [
       "['“트럼프가 철강에 관세를 두 배로 올린다는데, 엔비디아는 왜 떨어지지?”',\n",
       " '주식 시장이 가끔은 참 얄궂습니다.',\n",
       " '철강 이야기가 나오면 철강주가 오르거나, 수입 철강을 쓰는 기업이 떨어지는 건 이해됩니다.',\n",
       " '그런데 웬 AI 반도체 회사가 직격탄을 맞는 건 뭔가 억울해 보이죠.',\n",
       " '하지만 요즘 시장은 억울하다고 봐주는 법이 없습니다.',\n",
       " '지난 5월 30일, 도널드 트럼프 전 미국 대통령이 “외국산 철강과 알루미늄에 부과되던 25% 관세를 50%로 인상하겠다\"라고 선언하자, 시장은 즉각 반응했습니다.',\n",
       " '해당 발표는 단순한 무역 조치가 아니라, ‘경제적 시그널’이었습니다.',\n",
       " '수출입 통로가 좁아지면 결국 글로벌 공급망 전체가 진동하게 되니까요.',\n",
       " '그리고 그 진동은 의외의 곳까지 도달합니다.',\n",
       " '바로 엔비디아였습니다.',\n",
       " '철강에서 시작된 뉴스',\n",
       " '반도체까지 덮치다',\n",
       " '트럼프의 관세 카드는 처음부터 예고된 건 아니었습니다.',\n",
       " '그는 펜실베이니아주 US 스틸 공장에서 “미국 철강산업을 보호하겠다”면서 관세를 두 배로 올리겠다고 밝혔죠.',\n",
       " '겉으론 철강 노동자들을 위한 보호 조치였지만, 내용을 곱씹어 보면 정치적 계산이 담긴 발표였습니다.',\n",
       " '이 발표에 더해, 트럼프는 중국이 “합의를 어겼다\"라며 다시 ‘추가 조치’를 예고했습니다.',\n",
       " '미국과 중국은 이달 초 스위스에서 90일간 상호 관세를 일부 인하하기로 했는데, 트럼프는 중국이 이를 위반했다고 주장했죠.',\n",
       " '문제는 이 타이밍이었습니다.',\n",
       " '이런 식의 무역 갈등 신호가 시장에 퍼지면, 가장 먼저 흔들리는 건 수출 비중이 높고, 밸류에이션이 높은 기술주입니다.',\n",
       " '특히 엔비디아는 인공지능 붐으로 주가가 고공비행 중이던 상황이라, 작은 충격에도 출렁일 수밖에 없었습니다.',\n",
       " '실제로 30일 뉴욕 증시에서 엔비디아 주가는 장중 5% 넘게 빠졌다가, 결국 2.92% 하락한 135.13달러로 마감됐습니다.',\n",
       " '엔비디아, 왜 이렇게 예민할까?',\n",
       " '엔비디아는 단순한 칩 회사가 아닙니다.',\n",
       " '전 세계 인공지능 서버에서 돌아가는 핵심 장비의 심장 같은 존재입니다.',\n",
       " '그런데 그 칩이 만들어지려면 수많은 나라를 거쳐야 하죠.',\n",
       " '설계는 미국에서, 생산은 대만이나 한국에서, 후공정(조립이나 테스트)은 중국이나 동남아에서 이뤄집니다.',\n",
       " '이 복잡한 생산 구조를 글로벌 공급망이라고 부릅니다.',\n",
       " '이런 공급망은 평소엔 매우 효율적이지만, 어느 한 나라가 재채기만 해도 다른 나라 기업이 감기에 걸릴 수 있습니다.',\n",
       " '트럼프가 철강과 알루미늄 관세를 두 배로 올린다?',\n",
       " '그러면 중국은 희토류 같은 자원을 잠그는 방식으로 대응할 수 있습니다.',\n",
       " '희토류는 반도체를 구성하거나 냉각 장비에 필요한 전략 자원이죠.',\n",
       " '즉, 시장은 ‘관세 인상 → 중국 보복 → 희토류 수출 제한 → 반도체 부품 공급 차질 → 기술주 타격’이라는 연쇄 반응을 순식간에 계산합니다.',\n",
       " '물론 이 시나리오가 반드시 현실이 된다는 보장은 없습니다.',\n",
       " '하지만 주식 시장은 가능성만으로도 먼저 반응합니다.',\n",
       " '정책은 말보다 빨리 돈을 움직인다',\n",
       " '사실 기술주, 특히 엔비디아 같은 종목은 ‘높은 성장’을 전제로 가격이 형성돼 있습니다.',\n",
       " '미래 수익이 현재 주가에 반영되어 있다는 얘기죠.',\n",
       " '그런데 이런 성장 스토리는 불확실성 앞에서 약해집니다.',\n",
       " '이럴 때 자주 등장하는 개념이 리스크 프리미엄입니다.',\n",
       " '쉽게 말해 “불안할수록 더 많은 보상을 받아야 한다\"라는 투자자들의 심리죠.',\n",
       " '트럼프의 관세 폭탄은 이 프리미엄을 높이고, 결과적으로 기업의 미래 가치를 낮추는 방향으로 작동합니다.',\n",
       " '또 하나 주의할 점은 베타 값입니다.',\n",
       " '이는 한 종목이 시장 전체 흐름에 얼마나 민감하게 반응하는지를 나타내는 지표인데, 엔비디아는 베타가 2에 가깝습니다.',\n",
       " '시장이 1% 움직일 때 이 종목은 2% 움직인다는 뜻이죠.',\n",
       " '즉, 좋은 날엔 좋지만 나쁜 날엔 더 나쁩니다.',\n",
       " '재미진 Insight',\n",
       " '철강은 핑계, 시장은',\n",
       " '이유를 찾아 움직인다',\n",
       " '많은 개인 투자자들이 “트럼프가 철강 이야기했는데 왜 반도체가 맞냐\"라고 묻습니다.',\n",
       " '하지만 시장은 항상 명분보단 심리를 따라갑니다.',\n",
       " '철강 관세가 이슈가 된 게 아니라, ‘미중 간 경제 전쟁 재점화’라는 공포가 다시 수면 위로 올라온 게 핵심이죠.',\n",
       " '엔비디아는 이번에도 피해자였습니다.',\n",
       " '고평가된 주식은 늘 작은 뉴스에도 크게 반응합니다.',\n",
       " '그것이 지금의 현실입니다.',\n",
       " '저는 이 사태를 통해 두 가지 교훈을 얻었습니다.',\n",
       " '첫째, 정책 리스크는 늘 후속 타를 동반한다는 점입니다.',\n",
       " '철강 하나 건드렸다고 끝날 게 아닙니다.',\n",
       " '늘 다음 조치가 따라오고, 그 조치가 어디로 튈지는 아무도 모릅니다.',\n",
       " '둘째, 기술주라고 해서 정치적 불확실성에 안전한 것은 절대 아니다는 점입니다.',\n",
       " '오히려 그 반대입니다.',\n",
       " '기술주는 글로벌화된 만큼, 정치 뉴스에 더 취약합니다.',\n",
       " '개인적으로는 앞으로도 기술주 비중을 유지하되, 정치 이벤트가 예상되는 시즌엔 일부 차익 실현도 고려할 생각입니다.',\n",
       " '특히 미중 회담 시즌 같은 ‘정책 폭풍’이 불기 쉬운 시기엔, 주식보다 커피 한 잔이 더 편할 수 있습니다.',\n",
       " '지금은 철강이지만, 내일은 희토류일 수 있고, 모레는 반도체 자체가 될 수 있습니다.',\n",
       " '뉴스가 주가를 흔들 수 있는 시대, 우리는 단순한 ‘헤드라인 소비자’가 아니라, 그 이면의 시장의 속내를 읽는 해석자가 되어야 할 때입니다.',\n",
       " '\"주가는 숫자로 움직이지 않는다. 감정으로 움직이고, 심리로 폭주한다.\"',\n",
       " '오늘도 한 문장 속 경제를 읽어보려 합니다.',\n",
       " '인플루언서 팬 하기 부탁드립니다',\n",
       " '키워드 말고 가치 있는 글을 쓰고 싶습니다']"
      ]
     },
     "execution_count": 35,
     "metadata": {},
     "output_type": "execute_result"
    }
   ],
   "source": [
    "get_posts(posts_info[0])"
   ]
  },
  {
   "cell_type": "code",
   "execution_count": 36,
   "id": "fbf63a84-c213-472a-aabc-72ff6388099a",
   "metadata": {},
   "outputs": [
    {
     "data": {
      "text/plain": [
       "['공교롭게 1~2주 차 사이로 두 권의 비슷한 책을 읽게 되었다.',\n",
       " '정확히 말하면 엔비디아 레볼루션을 읽고 오~ 재밌다 했는데, 서점에서 저 위의 책에 \"젠슨황의 첫 공식 자서전\"이라는 글귀에 홀려서 또 구매해서 읽어 좀.',\n",
       " '중복되는 부분이 50%정도는 있지만 또 다른 관점에서 볼 내용들도 있었음.',\n",
       " '재밌다.',\n",
       " '역시 인상적인 부분만 내 맘대로 정리.',\n",
       " '1. 어른스러운 문제 해결사, 젠슨 황',\n",
       " '1963년생 젠슨황 형님. 대만 출신. 9세에 미국 유학와서 고생해서 성공.',\n",
       " '이런 내용들은 뻔해 보이지만.',\n",
       " '전반적으로 인간 젠슨 황을 이 책을 읽으며 정의해보면 \"어른스러운 문제 해결사\"',\n",
       " '실제로 직원들은 젠슨 황의 젊은 시절부터 또래의 다른 사람들과 달리 책임감 있고 \"어른스러운\" 사람이라고 표현.',\n",
       " '그래서 그런지 다른 빅테크들의 창업자들과 달리 큰 사회적 이슈도 만들지 않고, 일만 죽도록 하면서도 이혼 없이 가정을 잘 꾸려가는 것도 같음.',\n",
       " '그리고 직원들의 평판도 \"저 형님은 쌍욕은 해도 해고는 안해요\" 임.',\n",
       " '이 분에 대해 더 잘 보여주는 것으 엔비디아의 창업 스토리임.',\n",
       " '같이 공동 창업한 나머지 2명의 엔지니어들은 젠슨 황의 고객이었음. 즉 반도체를 설계해서 젠슨 황의 회사에(LSI로직) 맡기면 생산해주는 역할이었는데, 젠슨 황이 압도적으로 모든 문제를 원만하게 다 잘 해결해주었다 함. 그래서 동업 제안.',\n",
       " '그렇게 창업하려고 투자 받으러 다니는데, 젠슨 황의 회사 창업자이자 사장이 직접 세콰이어 캐피탈 같은 대형 VC에 강력 추천해 주며 밀어줌.',\n",
       " '그래서 PPT도 망치고, HW 투자라는 성공 가능성이 낮아 보이는 사업임에도 불구하고 훌륭한 VC들로부터 투자를 충분히 받고 투자를 시작',\n",
       " '젠슨황의 한마디',\n",
       " '사업계획서 작성 능력은 좀 부족해도 평판은 나보다 먼저 나에 대해 말해준답니다.',\n",
       " '자신의 고객들이 같이 회사를 창업하고 CEO를 맡아달라는 부탁을 하고, 퇴사하려고 하니 사장님이 직접 밀어주고. 거참... 남다른 사람이었다 봄.',\n",
       " '2. SW가 경쟁력인 HW회사',\n",
       " '사업초기부터 공동 창업자 중에 한명이 커티스 프리엠은 엔비디아의 모든 칩에 SW 기반의 자원 관리자를 포함.',\n",
       " '이를 통해 HW기능을 좀 더 컨트롤 가능해서 더 과감한 시도 가능.',\n",
       " '이런 장점등을 기반으로 사업 초기 6개월마다 신규 그래픽 카드를 출시하며 경쟁사들을 압도(경쟁사들은 1년마다 신제품 출시)',\n",
       " '엔비디아가 성공한 이유는 회로의 성능이 더 뛰어나서가 아니었다.',\n",
       " '핵심은 SW였다.',\n",
       " '더 이상 성능 향상을 위해 트랜지스터를 더 많이 집적하는 고전적인 방식이 통하지 않았다.',\n",
       " '엔비디아 엔지니어들은 GPU에 새로운 명령어를 가르쳐, 연산 속도를 높였다.',\n",
       " '2012년부터 2022년까지 10년 동안 엔비디아는 단알 칩의 추론 성능을 1000배 향상.',\n",
       " '트랜지스터 증가로 인한 성능 향상은 겨우 2.5배.',\n",
       " '나머지 400배는 전적으로 엔비디아의 수학적 기술 덕분.',\n",
       " '그리고 이런 SW기술력이 지금의 엔비디아를 만든 것.',\n",
       " '사실 이 정도로 GPU에서 SW가 중요한 것인지는 나도 잘 몰랐음.',\n",
       " '그래서 아직도 다른 경쟁자들이 바로 못 따라오는 거구나...',\n",
       " '3. CUDA에 대한 투자.',\n",
       " '앞의 SW기술력과 연관된 이야기이지만 이제 많이들 아는 CUDA',\n",
       " 'CUDA가 2006년에 출시된 것은 몰랐음(그렇게나 오래전...)',\n",
       " '당시부터 젠슨 황은 GPU를 통한 가속컴퓨팅의 미래를 믿고 모든 칩을 CUDA 호환으로 제작. 이 때문에 칩 생산 비용이 증가.',\n",
       " '회사의 이익이 정체 되면서 행동주의 투자 펀드로부터 공격도 받음.',\n",
       " '2013년초 행동주의 투자 펀드 스타보드 밸류로부터 공개 서한.',\n",
       " '투자 애널리스트들은 엔비디아가 수익을 쿠다에 재투자하는 대신 주주들에게 배당금을 지급했다면 주가가 더 높게 형성되었을 것이라고 주장했다.',\n",
       " '당시의 상황을 좀 보면.',\n",
       " '위는 대략 2014년까지의 엔비디아의 매출액과 영업이익.',\n",
       " '매출은 2008년 정점 이후 정체. 이익은 계속 별로인 상황.',\n",
       " '큰 이유중에 하나는.',\n",
       " '영업이익률이 10% 나올까 말까한 회사에서 R&D에 쓰는 비용이 계속 증가하며 거의 30%까지 육박하려는 상황.',\n",
       " '상장이후 2014년까지 주가인데 당연히 주가는 횡보.',\n",
       " '당시 딥러닝 등을 사용하는 슈퍼컴퓨팅 고객들이 제한적인 상황에서 CUDA등에 계속 투자하는 것이 당연히 투자자들의 공격대상.',\n",
       " '그러나 젠슨 황은 AI의 미래를 믿고 그대로 진격',\n",
       " '실제로 2013년부터 AI올인 선언.',\n",
       " \"'이제 우리는 모든 것을 딥러닝에 집중한다. 이제 우리는 더 이상 그래픽 회사가 아니다'  라고 말함.\",\n",
       " '비전 있는 오너 경영자 만이 할 수 있는 일.',\n",
       " '그래서 결국 딥러닝, 비트코인, AI시장이 계속 열리면서 세상의 중심이 될 수 있었음.',\n",
       " '위는 2015년 1월 결산까지 NVIDIA의 영업이익.',\n",
       " '행동주의 펀드에게 공격 받던 시기의(2013년) 영업이익이 얼마였는지 너무 먼지 같아서 보이지도 않음.',\n",
       " '4. 현재의 NVIDIA',\n",
       " '위는 주요 빅테크 3개사(Meta,alphabet,msft)의 분기별 capex와 엔비디아의 데이터센터향 매출(빨간색)을 같이 그린 그래프.',\n",
       " '위는 엔비디아의 데이터센터향 매출액을 3개 빅테크의 capex로 나눈 그래프.',\n",
       " '2023년 이후 모든 것이 달라졌음. capex가 늘어난 것 뿐 아니라 capex의 집중이 모두 엔비디아의 GPU로 간 상황.',\n",
       " '사실 전에 공부를 열심히 하기전에는 단순히 GPU를 HW라로 생각했는데. 이 책에서 엔비디아 엔지니어가 다음과 같이 인터뷰 함.',\n",
       " '\"AMD도 우리만큼 훌륭한 칩을 만들 수 있습니다.',\n",
       " '하지만 연산 속도를 이렇게까지 끌어올릴 수는 없죠\"',\n",
       " '그렇다. HW가 아니라 SW기술.',\n",
       " 'AI의 시대 항상 생각이 많다.',\n",
       " '그리고 훌륭한 기업을 만들어가는 과정에서 나올 수 밖에 없는 오너경영자와 투자자들사이의 간극에 대해 더 많은 고민을 하게 되었음.',\n",
       " '여튼 즐거운 독서!! 추천.',\n",
       " '아무리 봐도 옆집 아저씨 같은 느낌인디 ㅎㅎ']"
      ]
     },
     "execution_count": 36,
     "metadata": {},
     "output_type": "execute_result"
    }
   ],
   "source": [
    "get_posts(posts_info[1])"
   ]
  },
  {
   "cell_type": "markdown",
   "id": "3293a1c9-fe8d-4178-b1e8-056340d65365",
   "metadata": {},
   "source": [
    "### Step 3. 감성 분류\n",
    "\n",
    "<p>이제, 이렇게 얻은 문자열에 대해 감성 분류를 실시할 수 있다. 텍스트 클렌징 작업은 최대한 정교하게 할수록 좋다. 텍스트 수집에 정도가 없듯 텍스트 전처리 방법에도 역시 정도가 없다.</p>\n",
    "<p>이번 튜토리얼에서는 간단하게 전처리한 문장을 활용해 감성 분류를 해보자.</p>"
   ]
  },
  {
   "cell_type": "markdown",
   "id": "b6cc8c44-0f4b-467e-9ea9-674e9aee349b",
   "metadata": {},
   "source": [
    "#### 3-1. 허깅페이스 모델 검색\n",
    "\n",
    "<p>우선, 임의의 텍스트 한 줄을 가져다 잘 분류해 줄 수 있는 모델을 찾아보자.</p>\n",
    "<p>언어 모델의 경우 대규모로 사전학습된 모델을 먼저 리서치해 보는 것이 좋다. 간단한 분석을 위해 몇 주간의 학습 시간을 소진하기에는 현실적으로 어렵기 때문에, 언어 모델 사용 시 다운스트림 테스크로 우리의 데이터 셋에 조금 더 확률 값을 높여주고 우리가 목표로 하는 결괏값을 출력해 내도록 구조를 맞춰주는 정도의 파인튜닝이 일반적이다.</p>\n",
    "<p>감성 분류, 그중에서도 금융 텍스트에 특화된 한국어 모델이 이미 허깅페이스에 올라와 있다. 해당 모델을 테스트해 보고 사용 여부를 판단한다.</p>\n",
    "<img src=\"img/finance_analyze_04.png\"/>\n",
    "<p>부정적 어감의 문장을 가져다 넣으니 negative로 잘 분류해 준다. 중립은 어떨까?</p>\n",
    "<img src=\"img/finance_analyze_05.png\"/>\n",
    "<p>'엔비디아 전망'이라는 텍스트는 97.6%의 확률로 neutral으로 분류를 해준다. 만약 우리가 사용하는 모델이 긍/부정으로만 분류할 수 있다면 중립에 해당하는 문장은 최대한 걸러내야 할 것이다.</p>\n",
    "<p>여기서는 우리가 수집한 전체 문장에 대해 중립, 부정, 긍정 각각의 비중을 살펴보고 주식시장의 동향을 파악해 보고자 한다.</p>\n",
    "<p>우리는 특정 블로그 포스팅 자체에 대해 '긍정 포스팅이다.', '부정 포스팅이다.' 하고 분류하기보다 위 방식처럼 하나의 글 내에서도 여러 문장으로 분리하고 각각을 분류 대상으로 삼을 것이다. 한 명이 작성한 하나의 블로그 포스팅 안에서도 긍정적인 문장과 부정적인 문장이 혼재해있다. 해당 블로그 포스팅으로 누군가는 부정적인 정보를 획득해갈 것이고 누군가는 반대로 긍정적인 정보를 획득해간다. 사람마다 받아들이는 정보는 매우 주관적이므로 블로그 포스팅 내 모든 문장을 정보 혹은 대중의 판단 근거라 가정하는 것이다.</p>\n",
    "<p>물론 이러한 분석 방식 역시 주관과 의도가 강하게 개입되어 있으며, 유일한 정답일 수 없다.</p>"
   ]
  },
  {
   "cell_type": "markdown",
   "id": "5412926c-ab17-417a-89d9-c48aae63066f",
   "metadata": {},
   "source": [
    "#### 3-2. 추론 모델 인스턴스 생성 및 테스트"
   ]
  },
  {
   "cell_type": "code",
   "execution_count": 17,
   "id": "29295670-9b5e-4a7f-bc95-38f9dd78a20b",
   "metadata": {},
   "outputs": [
    {
     "name": "stderr",
     "output_type": "stream",
     "text": [
      "Device set to use cpu\n"
     ]
    }
   ],
   "source": [
    "from transformers import AutoTokenizer, AutoModelForSequenceClassification\n",
    "from transformers import pipeline\n",
    "\n",
    "tokenizer = AutoTokenizer.from_pretrained('snunlp/KR-FinBert-SC')\n",
    "model = AutoModelForSequenceClassification.from_pretrained('snunlp/KR-FinBert-SC')\n",
    "senti_classifier = pipeline(task='text-classification', model=model, tokenizer=tokenizer)"
   ]
  },
  {
   "cell_type": "markdown",
   "id": "797ca04d-cd42-42a6-bae8-071909c99d01",
   "metadata": {},
   "source": [
    "<p>위 코드는 허깅페이스를 통해 우리가 사용하려는 모델과 토크나이저를 불러와 빠르게 추론 모델을 만든다.</p>\n",
    "<p>해당 모델은 뉴스 기사 텍스트로 1차 파인튜닝된 모델이다. 그렇기 때문에 추가 학습 없이 우리 테스크에 바로 적용할 수 있다.</p>\n",
    "<p>다만, 경우에 따라 같은 유형의 테스크라 하더라도 모델이 우리 데이터에 완전히 맞지는 않을 수 있다. 따라서 몇 가지 단어를 넣어 적절한 출력이 나오는지 한 번 더 확인하겠다.</p>"
   ]
  },
  {
   "cell_type": "code",
   "execution_count": 19,
   "id": "cf35fa1d-0024-45cf-8e81-a6750af28a8f",
   "metadata": {},
   "outputs": [
    {
     "data": {
      "text/plain": [
       "[{'label': 'positive', 'score': 0.8705510497093201},\n",
       " {'label': 'negative', 'score': 0.9346328973770142},\n",
       " {'label': 'neutral', 'score': 0.5876973867416382}]"
      ]
     },
     "execution_count": 19,
     "metadata": {},
     "output_type": "execute_result"
    }
   ],
   "source": [
    "senti_classifier(['상승', '하락', '애플'])"
   ]
  },
  {
   "cell_type": "markdown",
   "id": "b3ef686b-4c36-4765-93b3-ceb2d47557d7",
   "metadata": {},
   "source": [
    "<p>주가 관련 텍스트를 학습한 탓에 상승이라는 키워드에는 positive를, 하락이라는 키워드에는 negative를, 애플과 같은 고유명사에는 neutral을 출력해 준다. 우리가 기대했던 결과값이다.</p>\n",
    "<p>그럼, 이제 지난 7일간의 주식 시장에 대한 평가를 네이버 블로그에 한정해서 살펴보도록 하겠다.</p>"
   ]
  },
  {
   "cell_type": "markdown",
   "id": "1962dc09-7b7e-4d01-a28e-9bc4732b351a",
   "metadata": {},
   "source": [
    "#### 3-3. 단일 포스팅 내 텍스트 감성 분류"
   ]
  },
  {
   "cell_type": "code",
   "execution_count": 21,
   "id": "a97a5f77-7834-4421-8704-d9fcdccae517",
   "metadata": {},
   "outputs": [
    {
     "data": {
      "text/plain": [
       "70"
      ]
     },
     "execution_count": 21,
     "metadata": {},
     "output_type": "execute_result"
    }
   ],
   "source": [
    "len(posts_info)"
   ]
  },
  {
   "cell_type": "markdown",
   "id": "fdc4ef79-3123-482d-9291-419c23c8646f",
   "metadata": {},
   "source": [
    "<p>우리가 분석하려는 총 포스트 수는 총 70개다. 첫 번째 포스팅을 먼저 분석해 보겠다.</p>"
   ]
  },
  {
   "cell_type": "code",
   "execution_count": 37,
   "id": "dc99b59d-498c-452d-a124-30a7a951ef1b",
   "metadata": {},
   "outputs": [
    {
     "data": {
      "text/plain": [
       "['“트럼프가 철강에 관세를 두 배로 올린다는데, 엔비디아는 왜 떨어지지?”',\n",
       " '주식 시장이 가끔은 참 얄궂습니다.',\n",
       " '철강 이야기가 나오면 철강주가 오르거나, 수입 철강을 쓰는 기업이 떨어지는 건 이해됩니다.',\n",
       " '그런데 웬 AI 반도체 회사가 직격탄을 맞는 건 뭔가 억울해 보이죠.',\n",
       " '하지만 요즘 시장은 억울하다고 봐주는 법이 없습니다.',\n",
       " '지난 5월 30일, 도널드 트럼프 전 미국 대통령이 “외국산 철강과 알루미늄에 부과되던 25% 관세를 50%로 인상하겠다\"라고 선언하자, 시장은 즉각 반응했습니다.',\n",
       " '해당 발표는 단순한 무역 조치가 아니라, ‘경제적 시그널’이었습니다.',\n",
       " '수출입 통로가 좁아지면 결국 글로벌 공급망 전체가 진동하게 되니까요.',\n",
       " '그리고 그 진동은 의외의 곳까지 도달합니다.',\n",
       " '바로 엔비디아였습니다.',\n",
       " '철강에서 시작된 뉴스',\n",
       " '반도체까지 덮치다',\n",
       " '트럼프의 관세 카드는 처음부터 예고된 건 아니었습니다.',\n",
       " '그는 펜실베이니아주 US 스틸 공장에서 “미국 철강산업을 보호하겠다”면서 관세를 두 배로 올리겠다고 밝혔죠.',\n",
       " '겉으론 철강 노동자들을 위한 보호 조치였지만, 내용을 곱씹어 보면 정치적 계산이 담긴 발표였습니다.',\n",
       " '이 발표에 더해, 트럼프는 중국이 “합의를 어겼다\"라며 다시 ‘추가 조치’를 예고했습니다.',\n",
       " '미국과 중국은 이달 초 스위스에서 90일간 상호 관세를 일부 인하하기로 했는데, 트럼프는 중국이 이를 위반했다고 주장했죠.',\n",
       " '문제는 이 타이밍이었습니다.',\n",
       " '이런 식의 무역 갈등 신호가 시장에 퍼지면, 가장 먼저 흔들리는 건 수출 비중이 높고, 밸류에이션이 높은 기술주입니다.',\n",
       " '특히 엔비디아는 인공지능 붐으로 주가가 고공비행 중이던 상황이라, 작은 충격에도 출렁일 수밖에 없었습니다.',\n",
       " '실제로 30일 뉴욕 증시에서 엔비디아 주가는 장중 5% 넘게 빠졌다가, 결국 2.92% 하락한 135.13달러로 마감됐습니다.',\n",
       " '엔비디아, 왜 이렇게 예민할까?',\n",
       " '엔비디아는 단순한 칩 회사가 아닙니다.',\n",
       " '전 세계 인공지능 서버에서 돌아가는 핵심 장비의 심장 같은 존재입니다.',\n",
       " '그런데 그 칩이 만들어지려면 수많은 나라를 거쳐야 하죠.',\n",
       " '설계는 미국에서, 생산은 대만이나 한국에서, 후공정(조립이나 테스트)은 중국이나 동남아에서 이뤄집니다.',\n",
       " '이 복잡한 생산 구조를 글로벌 공급망이라고 부릅니다.',\n",
       " '이런 공급망은 평소엔 매우 효율적이지만, 어느 한 나라가 재채기만 해도 다른 나라 기업이 감기에 걸릴 수 있습니다.',\n",
       " '트럼프가 철강과 알루미늄 관세를 두 배로 올린다?',\n",
       " '그러면 중국은 희토류 같은 자원을 잠그는 방식으로 대응할 수 있습니다.',\n",
       " '희토류는 반도체를 구성하거나 냉각 장비에 필요한 전략 자원이죠.',\n",
       " '즉, 시장은 ‘관세 인상 → 중국 보복 → 희토류 수출 제한 → 반도체 부품 공급 차질 → 기술주 타격’이라는 연쇄 반응을 순식간에 계산합니다.',\n",
       " '물론 이 시나리오가 반드시 현실이 된다는 보장은 없습니다.',\n",
       " '하지만 주식 시장은 가능성만으로도 먼저 반응합니다.',\n",
       " '정책은 말보다 빨리 돈을 움직인다',\n",
       " '사실 기술주, 특히 엔비디아 같은 종목은 ‘높은 성장’을 전제로 가격이 형성돼 있습니다.',\n",
       " '미래 수익이 현재 주가에 반영되어 있다는 얘기죠.',\n",
       " '그런데 이런 성장 스토리는 불확실성 앞에서 약해집니다.',\n",
       " '이럴 때 자주 등장하는 개념이 리스크 프리미엄입니다.',\n",
       " '쉽게 말해 “불안할수록 더 많은 보상을 받아야 한다\"라는 투자자들의 심리죠.',\n",
       " '트럼프의 관세 폭탄은 이 프리미엄을 높이고, 결과적으로 기업의 미래 가치를 낮추는 방향으로 작동합니다.',\n",
       " '또 하나 주의할 점은 베타 값입니다.',\n",
       " '이는 한 종목이 시장 전체 흐름에 얼마나 민감하게 반응하는지를 나타내는 지표인데, 엔비디아는 베타가 2에 가깝습니다.',\n",
       " '시장이 1% 움직일 때 이 종목은 2% 움직인다는 뜻이죠.',\n",
       " '즉, 좋은 날엔 좋지만 나쁜 날엔 더 나쁩니다.',\n",
       " '재미진 Insight',\n",
       " '철강은 핑계, 시장은',\n",
       " '이유를 찾아 움직인다',\n",
       " '많은 개인 투자자들이 “트럼프가 철강 이야기했는데 왜 반도체가 맞냐\"라고 묻습니다.',\n",
       " '하지만 시장은 항상 명분보단 심리를 따라갑니다.',\n",
       " '철강 관세가 이슈가 된 게 아니라, ‘미중 간 경제 전쟁 재점화’라는 공포가 다시 수면 위로 올라온 게 핵심이죠.',\n",
       " '엔비디아는 이번에도 피해자였습니다.',\n",
       " '고평가된 주식은 늘 작은 뉴스에도 크게 반응합니다.',\n",
       " '그것이 지금의 현실입니다.',\n",
       " '저는 이 사태를 통해 두 가지 교훈을 얻었습니다.',\n",
       " '첫째, 정책 리스크는 늘 후속 타를 동반한다는 점입니다.',\n",
       " '철강 하나 건드렸다고 끝날 게 아닙니다.',\n",
       " '늘 다음 조치가 따라오고, 그 조치가 어디로 튈지는 아무도 모릅니다.',\n",
       " '둘째, 기술주라고 해서 정치적 불확실성에 안전한 것은 절대 아니다는 점입니다.',\n",
       " '오히려 그 반대입니다.',\n",
       " '기술주는 글로벌화된 만큼, 정치 뉴스에 더 취약합니다.',\n",
       " '개인적으로는 앞으로도 기술주 비중을 유지하되, 정치 이벤트가 예상되는 시즌엔 일부 차익 실현도 고려할 생각입니다.',\n",
       " '특히 미중 회담 시즌 같은 ‘정책 폭풍’이 불기 쉬운 시기엔, 주식보다 커피 한 잔이 더 편할 수 있습니다.',\n",
       " '지금은 철강이지만, 내일은 희토류일 수 있고, 모레는 반도체 자체가 될 수 있습니다.',\n",
       " '뉴스가 주가를 흔들 수 있는 시대, 우리는 단순한 ‘헤드라인 소비자’가 아니라, 그 이면의 시장의 속내를 읽는 해석자가 되어야 할 때입니다.',\n",
       " '\"주가는 숫자로 움직이지 않는다. 감정으로 움직이고, 심리로 폭주한다.\"',\n",
       " '오늘도 한 문장 속 경제를 읽어보려 합니다.',\n",
       " '인플루언서 팬 하기 부탁드립니다',\n",
       " '키워드 말고 가치 있는 글을 쓰고 싶습니다']"
      ]
     },
     "execution_count": 37,
     "metadata": {},
     "output_type": "execute_result"
    }
   ],
   "source": [
    "get_posts(posts_info[0])"
   ]
  },
  {
   "cell_type": "code",
   "execution_count": 38,
   "id": "0fbb3164-d265-4531-a839-166e61db69cf",
   "metadata": {},
   "outputs": [
    {
     "data": {
      "text/html": [
       "<div>\n",
       "<style scoped>\n",
       "    .dataframe tbody tr th:only-of-type {\n",
       "        vertical-align: middle;\n",
       "    }\n",
       "\n",
       "    .dataframe tbody tr th {\n",
       "        vertical-align: top;\n",
       "    }\n",
       "\n",
       "    .dataframe thead th {\n",
       "        text-align: right;\n",
       "    }\n",
       "</style>\n",
       "<table border=\"1\" class=\"dataframe\">\n",
       "  <thead>\n",
       "    <tr style=\"text-align: right;\">\n",
       "      <th></th>\n",
       "      <th>text</th>\n",
       "      <th>senti</th>\n",
       "    </tr>\n",
       "  </thead>\n",
       "  <tbody>\n",
       "    <tr>\n",
       "      <th>0</th>\n",
       "      <td>“트럼프가 철강에 관세를 두 배로 올린다는데, 엔비디아는 왜 떨어지지?”</td>\n",
       "      <td>neutral</td>\n",
       "    </tr>\n",
       "    <tr>\n",
       "      <th>1</th>\n",
       "      <td>주식 시장이 가끔은 참 얄궂습니다.</td>\n",
       "      <td>neutral</td>\n",
       "    </tr>\n",
       "    <tr>\n",
       "      <th>2</th>\n",
       "      <td>철강 이야기가 나오면 철강주가 오르거나, 수입 철강을 쓰는 기업이 떨어지는 건 이해...</td>\n",
       "      <td>neutral</td>\n",
       "    </tr>\n",
       "    <tr>\n",
       "      <th>3</th>\n",
       "      <td>그런데 웬 AI 반도체 회사가 직격탄을 맞는 건 뭔가 억울해 보이죠.</td>\n",
       "      <td>negative</td>\n",
       "    </tr>\n",
       "    <tr>\n",
       "      <th>4</th>\n",
       "      <td>하지만 요즘 시장은 억울하다고 봐주는 법이 없습니다.</td>\n",
       "      <td>negative</td>\n",
       "    </tr>\n",
       "    <tr>\n",
       "      <th>...</th>\n",
       "      <td>...</td>\n",
       "      <td>...</td>\n",
       "    </tr>\n",
       "    <tr>\n",
       "      <th>64</th>\n",
       "      <td>뉴스가 주가를 흔들 수 있는 시대, 우리는 단순한 ‘헤드라인 소비자’가 아니라, 그...</td>\n",
       "      <td>neutral</td>\n",
       "    </tr>\n",
       "    <tr>\n",
       "      <th>65</th>\n",
       "      <td>\"주가는 숫자로 움직이지 않는다. 감정으로 움직이고, 심리로 폭주한다.\"</td>\n",
       "      <td>neutral</td>\n",
       "    </tr>\n",
       "    <tr>\n",
       "      <th>66</th>\n",
       "      <td>오늘도 한 문장 속 경제를 읽어보려 합니다.</td>\n",
       "      <td>neutral</td>\n",
       "    </tr>\n",
       "    <tr>\n",
       "      <th>67</th>\n",
       "      <td>인플루언서 팬 하기 부탁드립니다</td>\n",
       "      <td>neutral</td>\n",
       "    </tr>\n",
       "    <tr>\n",
       "      <th>68</th>\n",
       "      <td>키워드 말고 가치 있는 글을 쓰고 싶습니다</td>\n",
       "      <td>neutral</td>\n",
       "    </tr>\n",
       "  </tbody>\n",
       "</table>\n",
       "<p>69 rows × 2 columns</p>\n",
       "</div>"
      ],
      "text/plain": [
       "                                                 text     senti\n",
       "0            “트럼프가 철강에 관세를 두 배로 올린다는데, 엔비디아는 왜 떨어지지?”   neutral\n",
       "1                                 주식 시장이 가끔은 참 얄궂습니다.   neutral\n",
       "2   철강 이야기가 나오면 철강주가 오르거나, 수입 철강을 쓰는 기업이 떨어지는 건 이해...   neutral\n",
       "3              그런데 웬 AI 반도체 회사가 직격탄을 맞는 건 뭔가 억울해 보이죠.  negative\n",
       "4                       하지만 요즘 시장은 억울하다고 봐주는 법이 없습니다.  negative\n",
       "..                                                ...       ...\n",
       "64  뉴스가 주가를 흔들 수 있는 시대, 우리는 단순한 ‘헤드라인 소비자’가 아니라, 그...   neutral\n",
       "65           \"주가는 숫자로 움직이지 않는다. 감정으로 움직이고, 심리로 폭주한다.\"   neutral\n",
       "66                           오늘도 한 문장 속 경제를 읽어보려 합니다.   neutral\n",
       "67                                  인플루언서 팬 하기 부탁드립니다   neutral\n",
       "68                            키워드 말고 가치 있는 글을 쓰고 싶습니다   neutral\n",
       "\n",
       "[69 rows x 2 columns]"
      ]
     },
     "execution_count": 38,
     "metadata": {},
     "output_type": "execute_result"
    }
   ],
   "source": [
    "x = get_posts(posts_info[0])\n",
    "y = [x['label'] for x in senti_classifier(x)]\n",
    "\n",
    "df = pd.DataFrame(data={'text': x, 'senti': y})\n",
    "df"
   ]
  },
  {
   "cell_type": "markdown",
   "id": "366ec2ea-bec7-4e5f-95eb-b55d477ad2b4",
   "metadata": {},
   "source": [
    "#### 3-4. 전체 7일간 포스팅 감성 분류\n",
    "<p>서론, 혹은 이야기를 풀어나가기 위한 담화용 텍스트는 neutral로 분류되고 그 외 주가 판단에 대한 내용은 positive 혹은 negative로 분류되는 모습을 볼 수 있다.</p>\n",
    "<p>이번에는 전체 70개 포스팅에 대해 모두 분류하고 분류 비중을 살펴보도록 하겠다.</p>\n",
    "<p>포스팅을 먼저 모두 수집하고 전체 데이터에 대해 한 번에 추론하는 방식 혹은 매 포스팅마다 수집과 추론을 반복해서 결괏값을 합치는 방식을 취할 수 있다.</p>\n",
    "<p>속도 및 작업 편의를 고려하면 전자가 좋겠지만 각 포스팅에 수십 개의 문장이 있기 때문에 전체 분류 타깃이 메모리에 한 번에 올라가게 되면 중간에 멈출 수도 있다. 따라서 배치 작업으로 안정적인 추론이 이루어질 수 있도록 후자 형태로 코드를 구성하겠다.</p>"
   ]
  },
  {
   "cell_type": "code",
   "execution_count": 39,
   "id": "138350b6-3c13-48d8-a9ee-6cd5f2a9c35b",
   "metadata": {},
   "outputs": [
    {
     "name": "stdout",
     "output_type": "stream",
     "text": [
      "[INFO] 분류 작업 중.. (타겟 포스팅: 1/69 분류 된 문장 수: 135\n",
      "[INFO] 분류 작업 중.. (타겟 포스팅: 2/69 분류 된 문장 수: 146\n",
      "[INFO] 분류 작업 중.. (타겟 포스팅: 3/69 분류 된 문장 수: 161\n",
      "[INFO] 분류 작업 중.. (타겟 포스팅: 4/69 분류 된 문장 수: 189\n",
      "[INFO] 분류 작업 중.. (타겟 포스팅: 5/69 분류 된 문장 수: 218\n",
      "[INFO] 분류 작업 중.. (타겟 포스팅: 6/69 분류 된 문장 수: 254\n",
      "[INFO] 분류 작업 중.. (타겟 포스팅: 7/69 분류 된 문장 수: 323\n",
      "[INFO] 분류 작업 중.. (타겟 포스팅: 8/69 분류 된 문장 수: 389\n",
      "[INFO] 분류 작업 중.. (타겟 포스팅: 9/69 분류 된 문장 수: 400\n",
      "[INFO] 분류 작업 중.. (타겟 포스팅: 10/69 분류 된 문장 수: 415\n",
      "[INFO] 분류 작업 중.. (타겟 포스팅: 11/69 분류 된 문장 수: 443\n",
      "[INFO] 분류 작업 중.. (타겟 포스팅: 12/69 분류 된 문장 수: 472\n",
      "[INFO] 분류 작업 중.. (타겟 포스팅: 13/69 분류 된 문장 수: 508\n",
      "[INFO] 분류 작업 중.. (타겟 포스팅: 14/69 분류 된 문장 수: 577\n",
      "[INFO] 분류 작업 중.. (타겟 포스팅: 15/69 분류 된 문장 수: 643\n",
      "[INFO] 분류 작업 중.. (타겟 포스팅: 16/69 분류 된 문장 수: 654\n",
      "[INFO] 분류 작업 중.. (타겟 포스팅: 17/69 분류 된 문장 수: 669\n",
      "[INFO] 분류 작업 중.. (타겟 포스팅: 18/69 분류 된 문장 수: 697\n",
      "[INFO] 분류 작업 중.. (타겟 포스팅: 19/69 분류 된 문장 수: 726\n",
      "[INFO] 분류 작업 중.. (타겟 포스팅: 20/69 분류 된 문장 수: 762\n",
      "[INFO] 분류 작업 중.. (타겟 포스팅: 21/69 분류 된 문장 수: 831\n",
      "[INFO] 분류 작업 중.. (타겟 포스팅: 22/69 분류 된 문장 수: 897\n",
      "[INFO] 분류 작업 중.. (타겟 포스팅: 23/69 분류 된 문장 수: 908\n",
      "[INFO] 분류 작업 중.. (타겟 포스팅: 24/69 분류 된 문장 수: 923\n",
      "[INFO] 분류 작업 중.. (타겟 포스팅: 25/69 분류 된 문장 수: 951\n",
      "[INFO] 분류 작업 중.. (타겟 포스팅: 26/69 분류 된 문장 수: 980\n",
      "[INFO] 분류 작업 중.. (타겟 포스팅: 27/69 분류 된 문장 수: 1016\n",
      "[INFO] 분류 작업 중.. (타겟 포스팅: 28/69 분류 된 문장 수: 1085\n",
      "[INFO] 분류 작업 중.. (타겟 포스팅: 29/69 분류 된 문장 수: 1151\n",
      "[INFO] 분류 작업 중.. (타겟 포스팅: 30/69 분류 된 문장 수: 1162\n",
      "[INFO] 분류 작업 중.. (타겟 포스팅: 31/69 분류 된 문장 수: 1177\n",
      "[INFO] 분류 작업 중.. (타겟 포스팅: 32/69 분류 된 문장 수: 1205\n",
      "[INFO] 분류 작업 중.. (타겟 포스팅: 33/69 분류 된 문장 수: 1234\n",
      "[INFO] 분류 작업 중.. (타겟 포스팅: 34/69 분류 된 문장 수: 1270\n",
      "[INFO] 분류 작업 중.. (타겟 포스팅: 35/69 분류 된 문장 수: 1339\n",
      "[INFO] 분류 작업 중.. (타겟 포스팅: 36/69 분류 된 문장 수: 1405\n",
      "[INFO] 분류 작업 중.. (타겟 포스팅: 37/69 분류 된 문장 수: 1416\n",
      "[INFO] 분류 작업 중.. (타겟 포스팅: 38/69 분류 된 문장 수: 1431\n",
      "[INFO] 분류 작업 중.. (타겟 포스팅: 39/69 분류 된 문장 수: 1459\n",
      "[INFO] 분류 작업 중.. (타겟 포스팅: 40/69 분류 된 문장 수: 1488\n",
      "[INFO] 분류 작업 중.. (타겟 포스팅: 41/69 분류 된 문장 수: 1524\n",
      "[INFO] 분류 작업 중.. (타겟 포스팅: 42/69 분류 된 문장 수: 1593\n",
      "[INFO] 분류 작업 중.. (타겟 포스팅: 43/69 분류 된 문장 수: 1659\n",
      "[INFO] 분류 작업 중.. (타겟 포스팅: 44/69 분류 된 문장 수: 1670\n",
      "[INFO] 분류 작업 중.. (타겟 포스팅: 45/69 분류 된 문장 수: 1685\n",
      "[INFO] 분류 작업 중.. (타겟 포스팅: 46/69 분류 된 문장 수: 1713\n",
      "[INFO] 분류 작업 중.. (타겟 포스팅: 47/69 분류 된 문장 수: 1742\n",
      "[INFO] 분류 작업 중.. (타겟 포스팅: 48/69 분류 된 문장 수: 1778\n",
      "[INFO] 분류 작업 중.. (타겟 포스팅: 49/69 분류 된 문장 수: 1847\n",
      "[INFO] 분류 작업 중.. (타겟 포스팅: 50/69 분류 된 문장 수: 1913\n",
      "[INFO] 분류 작업 중.. (타겟 포스팅: 51/69 분류 된 문장 수: 1924\n",
      "[INFO] 분류 작업 중.. (타겟 포스팅: 52/69 분류 된 문장 수: 1939\n",
      "[INFO] 분류 작업 중.. (타겟 포스팅: 53/69 분류 된 문장 수: 1967\n",
      "[INFO] 분류 작업 중.. (타겟 포스팅: 54/69 분류 된 문장 수: 1996\n",
      "[INFO] 분류 작업 중.. (타겟 포스팅: 55/69 분류 된 문장 수: 2032\n",
      "[INFO] 분류 작업 중.. (타겟 포스팅: 56/69 분류 된 문장 수: 2101\n",
      "[INFO] 분류 작업 중.. (타겟 포스팅: 57/69 분류 된 문장 수: 2167\n",
      "[INFO] 분류 작업 중.. (타겟 포스팅: 58/69 분류 된 문장 수: 2178\n",
      "[INFO] 분류 작업 중.. (타겟 포스팅: 59/69 분류 된 문장 수: 2193\n",
      "[INFO] 분류 작업 중.. (타겟 포스팅: 60/69 분류 된 문장 수: 2221\n",
      "[INFO] 분류 작업 중.. (타겟 포스팅: 61/69 분류 된 문장 수: 2250\n",
      "[INFO] 분류 작업 중.. (타겟 포스팅: 62/69 분류 된 문장 수: 2286\n",
      "[INFO] 분류 작업 중.. (타겟 포스팅: 63/69 분류 된 문장 수: 2355\n",
      "[INFO] 분류 작업 중.. (타겟 포스팅: 64/69 분류 된 문장 수: 2421\n",
      "[INFO] 분류 작업 중.. (타겟 포스팅: 65/69 분류 된 문장 수: 2432\n",
      "[INFO] 분류 작업 중.. (타겟 포스팅: 66/69 분류 된 문장 수: 2447\n",
      "[INFO] 분류 작업 중.. (타겟 포스팅: 67/69 분류 된 문장 수: 2475\n",
      "[INFO] 분류 작업 중.. (타겟 포스팅: 68/69 분류 된 문장 수: 2504\n",
      "[INFO] 분류 작업 중.. (타겟 포스팅: 69/69 분류 된 문장 수: 2540\n"
     ]
    }
   ],
   "source": [
    "for i in range(1, len(posts_info)):\n",
    "    x = get_posts(posts_info[i])\n",
    "    y = [x['label'] for x in senti_classifier(x)]\n",
    "    df_next = pd.DataFrame(data={'text': x, 'senti': y})\n",
    "    df = pd.concat([df, df_next])\n",
    "    print(f'[INFO] 분류 작업 중.. (타겟 포스팅: {i}/{len(posts_info)-1} 분류 된 문장 수: {len(df)}')"
   ]
  },
  {
   "cell_type": "code",
   "execution_count": 40,
   "id": "7456ef14-27ae-4c37-9723-5e34ca087d79",
   "metadata": {},
   "outputs": [
    {
     "data": {
      "text/html": [
       "<div>\n",
       "<style scoped>\n",
       "    .dataframe tbody tr th:only-of-type {\n",
       "        vertical-align: middle;\n",
       "    }\n",
       "\n",
       "    .dataframe tbody tr th {\n",
       "        vertical-align: top;\n",
       "    }\n",
       "\n",
       "    .dataframe thead th {\n",
       "        text-align: right;\n",
       "    }\n",
       "</style>\n",
       "<table border=\"1\" class=\"dataframe\">\n",
       "  <thead>\n",
       "    <tr style=\"text-align: right;\">\n",
       "      <th></th>\n",
       "      <th>text</th>\n",
       "      <th>senti</th>\n",
       "    </tr>\n",
       "  </thead>\n",
       "  <tbody>\n",
       "    <tr>\n",
       "      <th>0</th>\n",
       "      <td>“트럼프가 철강에 관세를 두 배로 올린다는데, 엔비디아는 왜 떨어지지?”</td>\n",
       "      <td>neutral</td>\n",
       "    </tr>\n",
       "    <tr>\n",
       "      <th>1</th>\n",
       "      <td>주식 시장이 가끔은 참 얄궂습니다.</td>\n",
       "      <td>neutral</td>\n",
       "    </tr>\n",
       "    <tr>\n",
       "      <th>2</th>\n",
       "      <td>철강 이야기가 나오면 철강주가 오르거나, 수입 철강을 쓰는 기업이 떨어지는 건 이해...</td>\n",
       "      <td>neutral</td>\n",
       "    </tr>\n",
       "    <tr>\n",
       "      <th>3</th>\n",
       "      <td>그런데 웬 AI 반도체 회사가 직격탄을 맞는 건 뭔가 억울해 보이죠.</td>\n",
       "      <td>negative</td>\n",
       "    </tr>\n",
       "    <tr>\n",
       "      <th>4</th>\n",
       "      <td>하지만 요즘 시장은 억울하다고 봐주는 법이 없습니다.</td>\n",
       "      <td>negative</td>\n",
       "    </tr>\n",
       "    <tr>\n",
       "      <th>...</th>\n",
       "      <td>...</td>\n",
       "      <td>...</td>\n",
       "    </tr>\n",
       "    <tr>\n",
       "      <th>2535</th>\n",
       "      <td>주식 공부를 어떻게 해야할지 고민이신 분들은 아래글도 참고해보시길 바랍니당!</td>\n",
       "      <td>neutral</td>\n",
       "    </tr>\n",
       "    <tr>\n",
       "      <th>2536</th>\n",
       "      <td>다음에 또 좋은 꿀팁 가져올게요!</td>\n",
       "      <td>neutral</td>\n",
       "    </tr>\n",
       "    <tr>\n",
       "      <th>2537</th>\n",
       "      <td>감사합니다 :)</td>\n",
       "      <td>neutral</td>\n",
       "    </tr>\n",
       "    <tr>\n",
       "      <th>2538</th>\n",
       "      <td>서비스협찬 요즘 주식시장이 들썩이고 있어요. 우리는 이제 재테크 없이는 살기가 힘든...</td>\n",
       "      <td>neutral</td>\n",
       "    </tr>\n",
       "    <tr>\n",
       "      <th>2539</th>\n",
       "      <td>blog.naver.com</td>\n",
       "      <td>neutral</td>\n",
       "    </tr>\n",
       "  </tbody>\n",
       "</table>\n",
       "<p>2540 rows × 2 columns</p>\n",
       "</div>"
      ],
      "text/plain": [
       "                                                   text     senti\n",
       "0              “트럼프가 철강에 관세를 두 배로 올린다는데, 엔비디아는 왜 떨어지지?”   neutral\n",
       "1                                   주식 시장이 가끔은 참 얄궂습니다.   neutral\n",
       "2     철강 이야기가 나오면 철강주가 오르거나, 수입 철강을 쓰는 기업이 떨어지는 건 이해...   neutral\n",
       "3                그런데 웬 AI 반도체 회사가 직격탄을 맞는 건 뭔가 억울해 보이죠.  negative\n",
       "4                         하지만 요즘 시장은 억울하다고 봐주는 법이 없습니다.  negative\n",
       "...                                                 ...       ...\n",
       "2535         주식 공부를 어떻게 해야할지 고민이신 분들은 아래글도 참고해보시길 바랍니당!   neutral\n",
       "2536                                 다음에 또 좋은 꿀팁 가져올게요!   neutral\n",
       "2537                                           감사합니다 :)   neutral\n",
       "2538  서비스협찬 요즘 주식시장이 들썩이고 있어요. 우리는 이제 재테크 없이는 살기가 힘든...   neutral\n",
       "2539                                     blog.naver.com   neutral\n",
       "\n",
       "[2540 rows x 2 columns]"
      ]
     },
     "execution_count": 40,
     "metadata": {},
     "output_type": "execute_result"
    }
   ],
   "source": [
    "df = df.reset_index(drop=True)\n",
    "df"
   ]
  },
  {
   "cell_type": "markdown",
   "id": "5b7dbace-a425-4417-9dc1-c355f10b5e67",
   "metadata": {},
   "source": [
    "#### 3-5. 결과"
   ]
  },
  {
   "attachments": {},
   "cell_type": "markdown",
   "id": "d1007425-c39e-4f24-ba84-76f389b6e335",
   "metadata": {
    "jp-MarkdownHeadingCollapsed": true
   },
   "source": [
    "<p>결과는 중립 73%, 긍정 18%, 부정 8%로 현재 불안정한 시장 상황을 충분히 반영하고 있다.</p>\n",
    "<p>사실, 이는 해석하기 나름이다. '여전히 긍정적인 전망을 하는 사람들이 더 많기 때문에 아직 바닥이 아니다'라고 할 수도 있고, '이제 바닥을 찍고 상승하려는 움직임이 보인다'라고 할 수도 있다.</p>\n",
    "<p>따라서 이렇게 하나의 지표나 결과를 보고 전체 주식시장을 판단하는 것은 무리가 있겠지만 이러한 비율을 매주 추적하며 시계열로 분석한다면 더 유의미한 추세적 지표로 활용할 수 있을 것이다.</p>"
   ]
  },
  {
   "cell_type": "markdown",
   "id": "f497b2c2-d426-4ff9-8faf-f33fade33315",
   "metadata": {},
   "source": [
    "<p>출처: https://songseungwon.tistory.com/125 [관성을 이기는 데이터:티스토리]</p>"
   ]
  },
  {
   "cell_type": "code",
   "execution_count": null,
   "id": "eab28ab4-cf17-4a0d-8ddc-71c42afd0aee",
   "metadata": {},
   "outputs": [],
   "source": []
  }
 ],
 "metadata": {
  "kernelspec": {
   "display_name": "finance",
   "language": "python",
   "name": "finance"
  },
  "language_info": {
   "codemirror_mode": {
    "name": "ipython",
    "version": 3
   },
   "file_extension": ".py",
   "mimetype": "text/x-python",
   "name": "python",
   "nbconvert_exporter": "python",
   "pygments_lexer": "ipython3",
   "version": "3.11.2"
  }
 },
 "nbformat": 4,
 "nbformat_minor": 5
}
