{
 "cells": [
  {
   "cell_type": "markdown",
   "id": "aed6f42b-42b7-4ff8-9b3b-0b4861f1bfd0",
   "metadata": {},
   "source": [
    "## 3. 튜토리얼/금융 분석 프로그래밍 응용"
   ]
  },
  {
   "cell_type": "markdown",
   "id": "c374e93f-f9bd-45d1-8834-f1f0b7370ad9",
   "metadata": {},
   "source": [
    "<p algin=\"right\">\n",
    "파이썬 주식 시장 동향 분석 - 자연어처리 감성분석\n",
    "swsong\n",
    "2023. 1. 12. 07:04\n",
    "</p>\n",
    "\n",
    "<p>origin : https://songseungwon.tistory.com/125</p>"
   ]
  },
  {
   "cell_type": "markdown",
   "id": "457d64c2-2905-4302-878b-4c3949f3941a",
   "metadata": {},
   "source": [
    "- Step 1. 블로그 정보 수집Step\n",
    "- Step 2. 블로그 내용 수집Step\n",
    "- Step 3. 감성 분류"
   ]
  },
  {
   "cell_type": "markdown",
   "id": "1af9eaf3-ad77-46d0-b515-b8bc15346f0c",
   "metadata": {},
   "source": [
    "<p>주식 시장에는 기본적으로 주식을 팔고자 하는 사람과 사고자 하는 사람, 이렇게 크게 두 유형이 있다. 팽팽한 줄다리기 끝에 팔고자 하는 사람이 더 많으면 공급 초과로 가격은 하락하게 된다.\n",
    "​주가에 영향을 주는 요소는 금융 애널리스트의 예측, 기관 예측, 경제 위기, 그리고 이를 전달하는 뉴스 매체 등으로 셀 수 없이 많지만 결국 그 종착지에는 대중의 움직임이 있다. 그러한 대중의 움직임이 파는 쪽에 더 치우치면 가격은 떨어지고, 사는 쪽에 치우치면 가격은 상승한다.\n",
    "그렇다면 우리는 지금 이 시간, 대중의 움직임이 어느 방향으로 기울고 있는가를 분석해 볼 수 있다. 그 대상은 특정 종목이나 특정 국가가 될 수도 있고 주식 시장 자체가 될 수 있다. 본 분석은 후자, 주식 시장 자체에 대해 사람들이 어떻게 평가하고 있는가를 분석해 볼 것이며 분석 대상이 되는 기간은 1주일이다. 즉, '이번 주 주식 시장에 대한 사람들의 평가는 어떠한가?'에 대한 분석이 되겠다.(2022-10-12 기준)</p>"
   ]
  },
  {
   "cell_type": "markdown",
   "id": "14b14dd2-23a7-4a90-ab06-db5d46c12a1c",
   "metadata": {},
   "source": [
    "### Step 1. 블로그 정보 수집"
   ]
  },
  {
   "cell_type": "markdown",
   "id": "ff445b4f-0a07-4ab8-b166-6192012f270d",
   "metadata": {},
   "source": [
    "\n",
    "#### 1-1. 웹사이트 구조 및 데이터 호출 정보 확인\n",
    "\n",
    "<p>파이썬으로 포스팅을 긁어올 것이므로 타깃을 명확히 확인하자. '네이버 블로그'(https://section.blog.naver.com/) 사이트에 진입해서 '주가 전망'이라는 키워드를 검색 후 개발자 모드를 열어 네트워크 탭을 살펴본다.\n",
    "미리 보기를 통해 반환된 문서들을 살펴보면 그중 SearchList.naver에 우리가 찾는 데이터가 있는 것을 확인할 수 있다. 이제 파이썬으로 해당 자료를 가져올 수 있으면 된다.\n",
    "먼저 해당 데이터가 어떤 방식(GET, POST)으로, 어떤 url 값으로 반환받을 수 있는지 살펴본 다음, 하단 쿼리 문자열 매개변수를 확인함으로써 넘겨줄 요청 값들을 지정해 줄 수 있다.</p>\n",
    "\n",
    "<img src=\"./img/finance_analyze_01.png\"/>"
   ]
  },
  {
   "cell_type": "code",
   "execution_count": 1,
   "id": "548d6afe-fbf9-465c-8f4f-e25c33c52492",
   "metadata": {},
   "outputs": [],
   "source": [
    "import pandas as pd\n",
    "import requests\n",
    "from bs4 import BeautifulSoup\n",
    "from datetime import datetime, timedelta\n",
    "import json"
   ]
  },
  {
   "cell_type": "markdown",
   "id": "226a7ad4-6c67-47a8-b562-e9929f401cb5",
   "metadata": {},
   "source": [
    "#### 1-2. 단일 페이지 데이터 호출\n",
    "\n",
    "<p>currentPage는 현재 페이지 번호, countPerPage는 페이지당 포함하는 포스팅 수, endDate와 startDate는 지난 7일간을 지정해 주고 keyword는 검색한 값을 보여준다. 이렇게 파라미터 파악이 끝났으면 코드 작성을 위해 필요한 라이브러리를 호출하겠다.</p>"
   ]
  },
  {
   "cell_type": "markdown",
   "id": "364b8453-90b4-4806-9aac-7ca21b1b8009",
   "metadata": {},
   "source": [
    "<p>endDate, startDate는 직접 문자열로 입력해 줘도 되지만 스크래퍼를 개발할 때에는 항상 자동화를 염두에 두어야 한다. 따라서 기준 날짜로부터 지난 7일을 계산할 수 있도록 다음과 같이 함수를 사용하겠다.</p>"
   ]
  },
  {
   "cell_type": "code",
   "execution_count": 2,
   "id": "03a6d45d-c046-4021-a417-847c9ee6973a",
   "metadata": {},
   "outputs": [
    {
     "data": {
      "text/plain": [
       "datetime.datetime(2025, 5, 1, 23, 16, 3, 16906)"
      ]
     },
     "execution_count": 2,
     "metadata": {},
     "output_type": "execute_result"
    }
   ],
   "source": [
    "datetime.today() - timedelta(30)"
   ]
  },
  {
   "cell_type": "code",
   "execution_count": 3,
   "id": "45e29b1b-0dbb-4fbb-a97c-be8f2fb24be0",
   "metadata": {},
   "outputs": [
    {
     "data": {
      "text/plain": [
       "'2025-05-31'"
      ]
     },
     "execution_count": 3,
     "metadata": {},
     "output_type": "execute_result"
    }
   ],
   "source": [
    "datetime.today().strftime('%Y-%m-%d')"
   ]
  },
  {
   "cell_type": "markdown",
   "id": "4bad854a-9201-4db2-86d2-ebc0078009cb",
   "metadata": {},
   "source": [
    "<p>이제, url, header, date, params를 정의하고 파라미터가 잘 세팅되는지 확인한다.</p>"
   ]
  },
  {
   "cell_type": "code",
   "execution_count": 4,
   "id": "07d74543-e44f-4056-a875-909259bb5207",
   "metadata": {},
   "outputs": [
    {
     "data": {
      "text/plain": [
       "{'countPerPage': 7,\n",
       " 'currentPage': 1,\n",
       " 'endDate': '2025-05-31',\n",
       " 'keyword': '주가전망',\n",
       " 'orderby': 'sim',\n",
       " 'startDate': '2025-05-24',\n",
       " 'type': 'post'}"
      ]
     },
     "execution_count": 4,
     "metadata": {},
     "output_type": "execute_result"
    }
   ],
   "source": [
    "url = 'https://section.blog.naver.com/ajax/SearchList.naver'\n",
    "header = {\n",
    "    \"Referer\": \"https://section.blog.naver.com/Search/Post.naver\",\n",
    "}\n",
    "end_date = datetime.today()\n",
    "start_date = end_date - timedelta(days=7)\n",
    "params = {\n",
    "    'countPerPage': 7,\n",
    "    'currentPage': 1,\n",
    "    'endDate': end_date.strftime('%Y-%m-%d'),\n",
    "    'keyword': '주가전망',\n",
    "    'orderby': 'sim',\n",
    "    'startDate': start_date.strftime('%Y-%m-%d'),\n",
    "    'type' : 'post'\n",
    "}\n",
    "params"
   ]
  },
  {
   "cell_type": "markdown",
   "id": "ceccb83a-2eef-4adc-bbae-c151a51bf661",
   "metadata": {},
   "source": [
    "<p>requests 모듈을 통해 데이터를 불러온다. 결괏값을 확인했을 때 우리가 앞서 봤던 SearchList.naver의 미리 보기 값과 형태가 동일해야 한다. 텍스트 앞부분만 짧게 출력하자.</p>"
   ]
  },
  {
   "cell_type": "code",
   "execution_count": 5,
   "id": "2fe00abe-87bb-44fe-8e9f-a19c1da4727e",
   "metadata": {},
   "outputs": [
    {
     "data": {
      "text/plain": [
       "')]}\\',\\n{\"result\":{\"searchDisplayInfo\":{\"authUrlType\":\"LOGIN\",\"authUrl\":\"https://nid.naver.com/nidlogin.login?svctype=128&a_version=2&viewtype=1&&url=https://section.blog.naver.com/Search/Post.naver?keyword=%25EC%25A3%25BC%25EA%25B0%2580%25EC%25A0%2584%25EB%25A7%259D&surl=https://section.blog.naver.com\",\"existSuicideWord\":false,\"keyword\":\"주가전망\",\"eucKrEncodedKeyword\":\"%C1%D6%B0%A1%C0%FC%B8%C1\",\"displayType\":\"NORMAL\",\"blockedByBifrostShield\":false},\"searchList\":[{\"domainIdOrBlogId\":\"press02\",\"logNo\":223881896022,\"gdid\":\"90000003_00000000000000342066A056\",\"postUrl\":\"https://blog.naver.com/press02/223881896022\",\"title\":\"원전관련주 두산에너빌리티 목표<strong class=\\\\\"search_keyword\\\\\">주가 전망</strong>: 해외수주 양호\",\"noTagTitle\":\"원전관련주 두산에너빌리티 목표주가 전망: 해외수주 양호\",\"contents\":\"실제로 증권사들의 목표<strong class=\\\\\"search_keyword\\\\\">주가</strong> 평균인 38,286원은 현재가보다 낮습니다. 가장 높은 <strong class=\\\\\"search_keyword\\\\\">전망</strong>은 대신증권의 46,000원, 가장 낮은 곳은 유안타증권의 31,000원이었습니다. 이 말은 ‘이미 오를 만큼 오른 것 아니냐’는 우려도 있다는 뜻입니다. 게다가 현재 PER(<strong class=\\\\\"'"
      ]
     },
     "execution_count": 5,
     "metadata": {},
     "output_type": "execute_result"
    }
   ],
   "source": [
    "res = requests.get(url, params=params, headers=header)\n",
    "res\n",
    "res.text[:1000]"
   ]
  },
  {
   "cell_type": "markdown",
   "id": "c85549ce-6fca-44c2-a7bb-880569f03248",
   "metadata": {},
   "source": [
    "<p>데이터를 json 형태로 변환해 주면 좋겠다. 그전에 앞부분의 불필요한 문자열을 잘라줘야 정상적으로 변환이 될 것이다.</p>"
   ]
  },
  {
   "cell_type": "code",
   "execution_count": 6,
   "id": "ff34e2d0-f83b-460a-b5a5-e3117c4d828f",
   "metadata": {},
   "outputs": [
    {
     "data": {
      "text/plain": [
       "[{'domainIdOrBlogId': 'press02',\n",
       "  'logNo': 223881896022,\n",
       "  'gdid': '90000003_00000000000000342066A056',\n",
       "  'postUrl': 'https://blog.naver.com/press02/223881896022',\n",
       "  'title': '원전관련주 두산에너빌리티 목표<strong class=\"search_keyword\">주가 전망</strong>: 해외수주 양호',\n",
       "  'noTagTitle': '원전관련주 두산에너빌리티 목표주가 전망: 해외수주 양호',\n",
       "  'contents': '실제로 증권사들의 목표<strong class=\"search_keyword\">주가</strong> 평균인 38,286원은 현재가보다 낮습니다. 가장 높은 <strong class=\"search_keyword\">전망</strong>은 대신증권의 46,000원, 가장 낮은 곳은 유안타증권의 31,000원이었습니다. 이 말은 ‘이미 오를 만큼 오른 것 아니냐’는 우려도 있다는 뜻입니다. 게다가 현재 PER(<strong class=\"search_keyword\">주가</strong>수익비율)은 64.1배, PBR(<strong class=\"search_keyword\">주가</strong>순자산비율)은... ',\n",
       "  'nickName': '재미진 저널리스트',\n",
       "  'blogName': '재미진 저널리스트의 금융탐구생활',\n",
       "  'profileImgUrl': 'https://blogpfthumb-phinf.pstatic.net/MjAyNDA3MjNfMjM2/MDAxNzIxNzA0NjQyMTgz.or0KzbaFI9cpwv4aAeT86_hscrGZFPCbyPT5e2asceUg.wga-Vaoidl-BtmYVO0mldLwk1NpD2qX6xqF8lDtawIsg.JPEG/1.jpeg?type=s1',\n",
       "  'addDate': 1748496600000,\n",
       "  'thumbnails': [{'url': 'https://blogthumb.pstatic.net/MjAyNTA1MjlfMjU2/MDAxNzQ4NDk2NDkyODE5.fqexI4fWW8osEgaQn-c6XFWzhTLGhkP9KI141li2Cp0g.0cEYJIJCp0Mu5qgC89M9yqfr_A2RtlPkTsy8djhwEW4g.PNG/%B5%CE%BB%EA%BF%A1%B3%CA%BA%F4%B8%AE%C6%BC_%C1%D6%B0%A1_%C0%FC%B8%C1_%BD%C7%C0%FB_%C3%DF%C0%CC.png?type=s2',\n",
       "    'vrthumbnail': False,\n",
       "    'videoThumbnail': False},\n",
       "   {'url': 'https://blogthumb.pstatic.net/MjAyNTA1MjlfMTUg/MDAxNzQ4NDk2NTIzNTAz.L598a8fMPCspCF90QzKEPg-fATFFjAK5tgWGN9ootocg.j6lzq3oTuRSZHI0z2EruIwTdpcavxP4jlSAYfqbVtUQg.PNG/%B5%CE%BB%EA%BF%A1%B3%CA%BA%F4%B8%AE%C6%BC_1%B3%E2_%C1%D6%B0%A1.PNG?type=s2',\n",
       "    'vrthumbnail': False,\n",
       "    'videoThumbnail': False},\n",
       "   {'url': 'https://blogthumb.pstatic.net/MjAyNTA1MjlfMjc4/MDAxNzQ4NDk2NTM2ODMy.n0KsTcCbtWzOB1q2dBt1aXWIeLbIV3PLdN5jjgei024g.FtUAFr_wRGievVLzVUKe1yXF8mYm_YqIcbLMAp0sbJYg.PNG/%B5%CE%BB%EA%BF%A1%B3%CA%BA%F4%B8%AE%C6%BC_%C7%D8%BF%DC%BC%F6%C1%D6.PNG?type=s2',\n",
       "    'vrthumbnail': False,\n",
       "    'videoThumbnail': False},\n",
       "   {'url': 'https://blogthumb.pstatic.net/MjAyNTA1MjlfMTI0/MDAxNzQ4NDk2NTQ1MzYw.eLn_NYq5bmPtToe_RRtvvX30Zk6htDdFguUHHBfMg7gg._OagRFWRjoabRVYipT9PwiaX0qgVXSqo6JbwEawNJpwg.PNG/%B5%CE%BB%EA%BF%A1%B3%CA%BA%F4%B8%AE%C6%BC_%BC%B3%BA%F1%C5%F5%C0%DA.PNG?type=s2',\n",
       "    'vrthumbnail': False,\n",
       "    'videoThumbnail': False}],\n",
       "  'product': None,\n",
       "  'titleHead': None,\n",
       "  'titleHeadColor': None,\n",
       "  'marketPost': False,\n",
       "  'hasThumbnail': True},\n",
       " {'domainIdOrBlogId': 'yahoyaho08',\n",
       "  'logNo': 223880295474,\n",
       "  'gdid': '90000003_0000000000000034204E3432',\n",
       "  'postUrl': 'https://blog.naver.com/yahoyaho08/223880295474',\n",
       "  'title': '에코프로 <strong class=\"search_keyword\">주가 전망</strong>과 가격 분석 :: 계속 하락하는 이유는?',\n",
       "  'noTagTitle': '에코프로 주가 전망과 가격 분석 :: 계속 하락하는 이유는?',\n",
       "  'contents': '현재 가격 분석과 <strong class=\"search_keyword\">주가전망</strong> 그리고 하락하는 이유까지 살펴보겠습니다. 에코프로 주가 현황, 가격분석 에코프로 주가현황입니다. 23년 전성기를 누리던 주식이 딱 2년이 지난 지금은 하염없이 하락만 이어지고 있습니다. 고점에 비해서는 -85% 수준의 가격이고, 최근 2년간 제대로 된 반등 한번... ',\n",
       "  'nickName': '디노',\n",
       "  'blogName': '디노의 경제 재테크이야기',\n",
       "  'profileImgUrl': 'https://blogpfthumb-phinf.pstatic.net/MjAyNDEyMDlfMjY1/MDAxNzMzNzM1ODQ4MzIw.ljJsp9PTJWEY2ehuYEKeJb52XfPb8p-Ph32HuBjfUHYg.MYi50jZVGklcyNkGX7oRSvEpiKr7IxI4KEGzMsbymZIg.JPEG/%25ED%2594%2584%25EB%25A1%259C%25ED%2595%2584.JPG/%25ED%2594%2584%25EB%25A1%259C%25ED%2595%2584.JPG?type=s1',\n",
       "  'addDate': 1748384040000,\n",
       "  'thumbnails': [{'url': 'https://blogthumb.pstatic.net/MjAyNTA1MjdfMjk2/MDAxNzQ4MzMwOTY3NjMx.LzZFb6DGSHVH5D_VimhI4Acfz3RrXIcAgfHy9-jwgNUg.cNwPt-2C6itpr6TDe1h2brGm8e-GYxsRO8Jixg9JkF4g.PNG/%C1%A6%B8%F1%C0%BB-%C0%D4%B7%C2%C7%D8%C1%D6%BC%BC%BF%E4_-001_-_2025-05-27T162818.679.png?type=s2',\n",
       "    'vrthumbnail': False,\n",
       "    'videoThumbnail': False},\n",
       "   {'url': 'https://blogthumb.pstatic.net/MjAyNTA1MjdfMTMy/MDAxNzQ4MzI0NzY4MzEw.qR5LLH5O87USNBj9SL35Di6I_DChDjfEkTRfeWO2q1og.jEMXq5XiQVF1wSjRFVxfUbsWnzB-5ZH4WGxWVVzPxlIg.PNG/image.png?type=s2',\n",
       "    'vrthumbnail': False,\n",
       "    'videoThumbnail': False},\n",
       "   {'url': 'https://blogthumb.pstatic.net/MjAyNTA1MjdfOTIg/MDAxNzQ4MzMwMzMzMDc0.jfFR8fsdPFhtG7zljBda9evAYTzl4AKuRGzZMHU9Fx4g.NBcWWLPNfTrh9DgviAglNvWxZYGh0sv043A05uAlDTIg.PNG/image.png?type=s2',\n",
       "    'vrthumbnail': False,\n",
       "    'videoThumbnail': False},\n",
       "   {'url': 'https://blogthumb.pstatic.net/MjAyNTA1MjdfMTk4/MDAxNzQ4MzI1MjUyNDMz.uDtHOBupWfLEs8u7TpADZYUmtwqKr9VTgutmI2Ft4msg.r4_YvH1IebcTSQsxdpPALkJ6z3wqmA7dwqcEVGr_BP0g.PNG/image.png?type=s2',\n",
       "    'vrthumbnail': False,\n",
       "    'videoThumbnail': False}],\n",
       "  'product': None,\n",
       "  'titleHead': None,\n",
       "  'titleHeadColor': None,\n",
       "  'marketPost': False,\n",
       "  'hasThumbnail': True},\n",
       " {'domainIdOrBlogId': 'nasiba5083',\n",
       "  'logNo': 223882664010,\n",
       "  'gdid': '90000003_00000000000000342072584A',\n",
       "  'postUrl': 'https://blog.naver.com/nasiba5083/223882664010',\n",
       "  'title': '테슬라 목표 <strong class=\"search_keyword\">주가</strong> 보다 <strong class=\"search_keyword\">전망</strong> 기대에 초점, 적정 예측이 어려운 주식',\n",
       "  'noTagTitle': '테슬라 목표 주가 보다 전망 기대에 초점, 적정 예측이 어려운 주식',\n",
       "  'contents': '지난 테슬라 <strong class=\"search_keyword\">주가 전망</strong>에서 제가 다뤘듯이.... 저는 손절을 진행했습니다. 이유는 머스크가 그리는 큰 그림이 어떤 건지는 알겠지만, 그에 따라 주주로서 안심하기에는 너무나 롤러코스터와 같은 변동성이 진행된다는 점이었는데요. 그야말로 기대에 초점이 있긴 하나 중간에 멀미가 너무 심한... ',\n",
       "  'nickName': '콘시토르',\n",
       "  'blogName': '콘시토르의 경제 유니버스',\n",
       "  'profileImgUrl': 'https://blogpfthumb-phinf.pstatic.net/MjAyNTA1MDNfMjY1/MDAxNzQ2MjAxODUyMTA0.qk3T8T27qYI9f7EmArUVTH9ulz9aNoS8OcNYYk7sLKsg.ypTJzGQ4DmwbEcZVW6gxb2DKNIV4wg2avr-CtzLBUS8g.PNG/%25EC%25A0%259C%25EB%25AA%25A9%25EC%259D%2584_%25EC%259E%2585%25EB%25A0%25A5%25ED%2595%25B4%25EC%25A3%25BC%25EC%2584%25B8%25EC%259A%2594_-021_%25282%2529.png/%25EC%25A0%259C%25EB%25AA%25A9%25EC%259D%2584%2B%25EC%259E%2585%25EB%25A0%25A5%25ED%2595%25B4%25EC%25A3%25BC%25EC%2584%25B8%25EC%259A%2594_-021%2B%25282%2529.png?type=s1',\n",
       "  'addDate': 1748559180000,\n",
       "  'thumbnails': [{'url': 'https://blogthumb.pstatic.net/MjAyNTA1MjhfNDYg/MDAxNzQ4NDMxOTA4NDc3.MNC0R7raZ5h3wDJvpE0FaphIEUmk9vxc_Qa5-ZXJiVcg.7QJAm2YUMZS0aa8LIwiL1f3HZ6V-iwjK3z5eDjyiuhog.PNG/%C7%A5%C1%F6_%B8%B8%B5%E9%B1%E2-001_%289%29.png?type=s2',\n",
       "    'vrthumbnail': False,\n",
       "    'videoThumbnail': False},\n",
       "   {'url': 'https://blogthumb.pstatic.net/MjAyNTA1MjlfMjQ0/MDAxNzQ4NTIzNjEzMzI0.ZRoZfTP4AYj4HqyGn1-jyZLQA_uV4FbLipGo-a8hHX0g.fFMQToh7nvWi4vkejR2Df-pdAGpuWlXs0u8HXbCCRo4g.PNG/%C1%F7%BB%E7%B0%A2%C7%FC_%C0%DA%B7%E1_%B8%B8%B5%E9%B1%E2-004_%288%29.png?type=s2',\n",
       "    'vrthumbnail': False,\n",
       "    'videoThumbnail': False},\n",
       "   {'url': 'https://blogthumb.pstatic.net/MjAyNTA1MjlfMTAy/MDAxNzQ4NTI0MjE5NjE5._iJLbFbVOu3Ubw4f5QK9R_lZtAPAMItchsc78abqxrEg.n5KLmctVf3b326TBHTwCgfvupbPT3GKEN6hDuGwEHJIg.PNG/%C1%F7%BB%E7%B0%A2%C7%FC_%C0%DA%B7%E1_%B8%B8%B5%E9%B1%E2-004_%289%29.png?type=s2',\n",
       "    'vrthumbnail': False,\n",
       "    'videoThumbnail': False},\n",
       "   {'url': 'https://blogthumb.pstatic.net/MjAyNTA1MjlfMjAg/MDAxNzQ4NTI0NDY2OTEy.CKlXxPs8x78D_FLs4Frxz-ATtly4lFxhyT0Jya2VY20g.ApxeXj0_pX_yUeAc4gkeC25hPm_J4fBIJISA_DZ73T8g.PNG/%C1%F7%BB%E7%B0%A2%C7%FC_%C0%DA%B7%E1_%B8%B8%B5%E9%B1%E2-004_%2810%29.png?type=s2',\n",
       "    'vrthumbnail': False,\n",
       "    'videoThumbnail': False}],\n",
       "  'product': None,\n",
       "  'titleHead': None,\n",
       "  'titleHeadColor': None,\n",
       "  'marketPost': False,\n",
       "  'hasThumbnail': True},\n",
       " {'domainIdOrBlogId': 'rouhey',\n",
       "  'logNo': 223877316692,\n",
       "  'gdid': '90000003_00000000000000342020C054',\n",
       "  'postUrl': 'https://blog.naver.com/rouhey/223877316692',\n",
       "  'title': '한국전력 <strong class=\"search_keyword\">주가 전망</strong>, 지금이 매수 타이밍일까',\n",
       "  'noTagTitle': '한국전력 주가 전망, 지금이 매수 타이밍일까',\n",
       "  'contents': '한국전력 <strong class=\"search_keyword\">주가 전망</strong>, 지금이 매수 타이밍일까 최근 주식시장에서 가장 뜨거운 종목 중 하나가 바로 한국전력이에요. 전기요금 인상 기대감과 실적 반등 소식이 맞물리면서 주가가 큰 폭으로 상승하고 있답니다. 오늘은 한국전력 주가의 흐름과 향후 전망, 투자 시 유의해야 할 점까지 자세히... ',\n",
       "  'nickName': '경제엄마',\n",
       "  'blogName': '경제엄마 부자되기',\n",
       "  'profileImgUrl': 'https://blogpfthumb-phinf.pstatic.net/MjAyNDExMTRfMTQ0/MDAxNzMxNTg2NTk1OTg4.ar951-I2pdWk3FqmXZ0c45ouiOZFPjVV2-9qtR6LPtog.Bh6rAGEMMUsrxl6fRDD9eHLRRRbXV9U0XFsBC6DPAIcg.JPEG/20241114_211401_%25EB%25B3%25B5%25EC%2582%25AC.jpg/20241114_211401%2B%25EB%25B3%25B5%25EC%2582%25AC.jpg?type=s1',\n",
       "  'addDate': 1748169180000,\n",
       "  'thumbnails': [{'url': 'https://blogthumb.pstatic.net/MjAyNTA1MjVfNCAg/MDAxNzQ4MTYyODI4ODU1.b64Wb4q6Q03s1mhvdQ3otA8sWvn59AfnputLLkFxwlgg.uK1b0pr6VmgOeKdo4JerqRRFYqQLDeDYTwppXR0tWncg.PNG/%B3%D7%C0%CC%B9%F6%BA%ED%B7%CE%B1%D7__%BA%B9%BB%E7%BA%BB-001_%2887%29.png?type=s2',\n",
       "    'vrthumbnail': False,\n",
       "    'videoThumbnail': False},\n",
       "   {'url': 'https://blogthumb.pstatic.net/MjAyNTA1MjVfMjAx/MDAxNzQ4MTY5MjI1MTE0.46VSOU3at_8HoJHixaxMqHIXpX-gsxCG4JBKplQnb3Qg.ZqdTJrK-kdvyWBtGDsS2nhmDtUazIB_fRFg4FEBwTrkg.PNG/image.png?type=s2',\n",
       "    'vrthumbnail': False,\n",
       "    'videoThumbnail': False}],\n",
       "  'product': None,\n",
       "  'titleHead': None,\n",
       "  'titleHeadColor': None,\n",
       "  'marketPost': False,\n",
       "  'hasThumbnail': True},\n",
       " {'domainIdOrBlogId': 'loveisimpress',\n",
       "  'logNo': 223880702735,\n",
       "  'gdid': '90000003_000000000000003420546B0F',\n",
       "  'postUrl': 'https://blog.naver.com/loveisimpress/223880702735',\n",
       "  'title': '엔비디아 실적 발표일 1분기 한국 시간 <strong class=\"search_keyword\">주가 전망</strong>',\n",
       "  'noTagTitle': '엔비디아 실적 발표일 1분기 한국 시간 주가 전망',\n",
       "  'contents': '엔비디아 실적 발표일 1분기 한국 시간 그리고 <strong class=\"search_keyword\">주가 전망</strong>은 어떻게 될지 꿀팁 알려드릴게요! 1. 엔비디아 실적 발표일 한국 시간 아무래도 우리나라의 경우 미국 기업들의 일정이 언제인지 확인하기 위해서는 해당 기업에 들어가거나 일일이 검색해서 찾아볼 수 밖에 없어요. 그러나 쉽게 찾을 수... ',\n",
       "  'nickName': '경제 IT로거',\n",
       "  'blogName': '경제 IT로거',\n",
       "  'profileImgUrl': 'https://blogpfthumb-phinf.pstatic.net/MjAyNDA3MDlfMjc5/MDAxNzIwNTE4NjI1NTQ2.B5mA7jNXOpY0rB-1-HIL1uiU4UCD1XinivJS9KtF3Y0g.Qw2Eeo8fGXXb-mBtv7LEJtxXmVM1IrCPTvdlb1wgQZcg.PNG/%25EC%25A0%259C%25EB%25AA%25A9%25EC%259D%2584_%25EC%259E%2585%25EB%25A0%25A5%25ED%2595%25B4%25EC%25A3%25BC%25EC%2584%25B8%25EC%259A%2594_-003_%25283%2529.png/%25EC%25A0%259C%25EB%25AA%25A9%25EC%259D%2584%2B%25EC%259E%2585%25EB%25A0%25A5%25ED%2595%25B4%25EC%25A3%25BC%25EC%2584%25B8%25EC%259A%2594_-003%2B%25283%2529.png?type=s1',\n",
       "  'addDate': 1748409420000,\n",
       "  'thumbnails': [{'url': 'https://blogthumb.pstatic.net/MjAyNTA1MjhfMjgz/MDAxNzQ4NDA5MjQ1MTQ1.4w8qMRcpFuwHcQqJU8Z8a-V7NYBdod58JRzHEW6n3Dsg.F5egYakyGgn5RE0cf65reeXEWBjtfP0CW8EMldcIt4Yg.PNG/%BF%A3%BA%F1%B5%F0%BE%C6_%BD%C7%C0%FB_%B9%DF%C7%A5%C0%CF.png?type=s2',\n",
       "    'vrthumbnail': False,\n",
       "    'videoThumbnail': False},\n",
       "   {'url': 'https://blogthumb.pstatic.net/MjAyNTA1MjhfMjk2/MDAxNzQ4NDA5MzY0NDQ5.2NxzYe-REggIcTjhS65XgijvEXH8G_CSnkqOW8mlR10g.YZs7BCoax2IAvPov_Wmu4F2ACP2f3N9V4UTaWlcj85kg.PNG/%BD%BA%C5%A9%B8%B0%BC%A6_2025-05-28_141457.png?type=s2',\n",
       "    'vrthumbnail': False,\n",
       "    'videoThumbnail': False},\n",
       "   {'url': 'https://blogthumb.pstatic.net/MjAyNTA1MjhfMTQx/MDAxNzQ4NDA5MzcwNjUz.PKmSJb8s29OfKvcr-4PFwscUFL2vAj9cm_n6JLWBePcg.pxxMFkWFkL2jND57kBjs52cm5qktWlJS9rVdAGsjFAAg.PNG/%BD%BA%C5%A9%B8%B0%BC%A6_2025-05-28_141443.png?type=s2',\n",
       "    'vrthumbnail': False,\n",
       "    'videoThumbnail': False},\n",
       "   {'url': 'https://blogthumb.pstatic.net/MjAyNTA1MjhfMjE5/MDAxNzQ4NDA5Mzg1NzYx.msescZ59dUOew-Kt-peRdGO7WIzv2cBTQ0lbOMhOoR8g.LiJ8ZOfbTxeii1R_aVh95Cu3lGVb7nt3KMTIUTeUKKMg.PNG/%BD%BA%C5%A9%B8%B0%BC%A6_2025-05-28_141515.png?type=s2',\n",
       "    'vrthumbnail': False,\n",
       "    'videoThumbnail': False}],\n",
       "  'product': None,\n",
       "  'titleHead': None,\n",
       "  'titleHeadColor': None,\n",
       "  'marketPost': False,\n",
       "  'hasThumbnail': True},\n",
       " {'domainIdOrBlogId': 'kis6574',\n",
       "  'logNo': 223879176412,\n",
       "  'gdid': '90000003_0000000000000034203D20DC',\n",
       "  'postUrl': 'https://blog.naver.com/kis6574/223879176412',\n",
       "  'title': 'SK하이닉스 <strong class=\"search_keyword\">주가 전망</strong>, 30만원 갈 수 있을까?',\n",
       "  'noTagTitle': 'SK하이닉스 주가 전망, 30만원 갈 수 있을까?',\n",
       "  'contents': 'SK하이닉스 주식을 보유하고 계신 분들은 대응을 고려해보셔야겠죠. 여러분들의 생각은? 페넌트 패턴을 만들고 있는 SK하이닉스 <strong class=\"search_keyword\">주가 전망</strong>에 대한 여러분들의 생각은 어떠신가요? 댓글을 통해 다양한 의견을 남겨주세요~! ☞테슬라 관점은 요기로~ *매매에 대한 책임은 본인에게 있습니다.',\n",
       "  'nickName': '인삼',\n",
       "  'blogName': '차트보는 말희아빠',\n",
       "  'profileImgUrl': 'https://blogpfthumb-phinf.pstatic.net/MjAyMjA5MTNfMTY0/MDAxNjYzMDM2NDA2OTMz.9EYZ5HTlOaUXrEV6UkfU8b5TULwvxN9ck8vKgyQsY7gg.a4VVQoJANpBjmiLnS1RItlt3d4rRbojwjHUNvnvHlYcg.PNG.kis6574/profileImage.png?type=s1',\n",
       "  'addDate': 1748306340000,\n",
       "  'thumbnails': [{'url': 'https://blogthumb.pstatic.net/MjAyNTA1MjdfMjEy/MDAxNzQ4MzA2MzM1MDg5.k_ngNb5VOF7yOSDoxifAvk-iju50fPez4VmYjIQyqkog.W20yu3CqBfktCVm0OjZTdV0G3KpkEbDl-xGEuqNYwusg.PNG/image.png?type=s2',\n",
       "    'vrthumbnail': False,\n",
       "    'videoThumbnail': False},\n",
       "   {'url': 'https://blogthumb.pstatic.net/MjAyNTA1MjdfNjYg/MDAxNzQ4MzAxNzc2NDc1.cTVN6uodwCbDvNsDgdy0lMM3P3QWTjoRtlMu1GfnHzcg.WBB6p3n_Dap9pG4wIklPkXCS28tDcrTBMI9UL8hDUa0g.PNG/image.png?type=s2',\n",
       "    'vrthumbnail': False,\n",
       "    'videoThumbnail': False},\n",
       "   {'url': 'https://blogthumb.pstatic.net/MjAyNTA1MjdfMTQ4/MDAxNzQ4MzAyMzAzOTcx.X3Oxrd3ry5trGBo_Hnd0Ly9zbJVlhRXDeOL11w1iaoQg.ZVnvNCl7txMQsdzFkngxmyCfEgSELYb5B9RT8UQQyAgg.PNG/image.png?type=s2',\n",
       "    'vrthumbnail': False,\n",
       "    'videoThumbnail': False},\n",
       "   {'url': 'https://blogthumb.pstatic.net/MjAyNTA1MjdfMjM3/MDAxNzQ4MzAzMjQ4NTk0.dOjczC-JflQ_RcVVWHlA3daUrc2U45hldmZfjnIek2sg.LzzBceVy2B6VcaJt0XEUjDmGRveSmTdrhlF0Cbw0bR4g.PNG/image.png?type=s2',\n",
       "    'vrthumbnail': False,\n",
       "    'videoThumbnail': False}],\n",
       "  'product': None,\n",
       "  'titleHead': None,\n",
       "  'titleHeadColor': None,\n",
       "  'marketPost': False,\n",
       "  'hasThumbnail': True},\n",
       " {'domainIdOrBlogId': 'jkyun0621',\n",
       "  'logNo': 223879391584,\n",
       "  'gdid': '90000003_000000000000003420406960',\n",
       "  'postUrl': 'https://blog.naver.com/jkyun0621/223879391584',\n",
       "  'title': '엔비디아 실적발표일 한국시간, 1분기 <strong class=\"search_keyword\">주가 전망</strong>과 투자 전략은?',\n",
       "  'noTagTitle': '엔비디아 실적발표일 한국시간, 1분기 주가 전망과 투자 전략은?',\n",
       "  'contents': '그렇다면 발표 일정은 언제인지, 실적 <strong class=\"search_keyword\">전망</strong>은 어떤지, 그리고 앞으로 <strong class=\"search_keyword\">주가</strong>는 어떻게 될지, 지금부터 하나하나 쉽게 정리해 드릴게요. 엔비디아 실적발표 엔비디아는 미국 나스닥에 상장된 기업이기 때문에, 실적 발표는 미국 현지 시간 기준으로 이루어집니다. 보통 이러한 기업들은 정규장... ',\n",
       "  'nickName': '경제현미경',\n",
       "  'blogName': '경제현미경의 디테일한 시야',\n",
       "  'profileImgUrl': 'https://blogpfthumb-phinf.pstatic.net/MjAyNDAzMDZfMTU5/MDAxNzA5NzMwNzY0NDk5.lXJDoUH_pTZryvIyVpOUtCQfROgKJjGhcJNo12mRqBsg.jE1nfSgBvM79o60844kUWxQcAUCAoi9DmcyIQIC0JvAg.PNG/%25ED%2594%2584%25EB%25A1%259C%25ED%2595%2584%25EC%259D%25B4%25EB%25AF%25B8%25EC%25A7%2580.png/%25ED%2594%2584%25EB%25A1%259C%25ED%2595%2584%25EC%259D%25B4%25EB%25AF%25B8%25EC%25A7%2580.png?type=s1',\n",
       "  'addDate': 1748318400000,\n",
       "  'thumbnails': [{'url': 'https://blogthumb.pstatic.net/MjAyNTA1MjdfNiAg/MDAxNzQ4MzE2OTgxOTA0.jo1seqQDg4mNZKKACbW_wYfyfOEYg1YM_eIWeX3vQNEg.KA67H9y6ppBesh_sYgzcKkSLhN78pEhHJlq5Dl_A1ekg.PNG/%BF%A3%BA%F1%B5%F0%BE%C6_%BD%C7%C0%FB%B9%DF%C7%A5_%B4%EB%C7%A5%C0%CC%B9%CC%C1%F6.png?type=s2',\n",
       "    'vrthumbnail': False,\n",
       "    'videoThumbnail': False},\n",
       "   {'url': 'https://blogthumb.pstatic.net/MjAyNTA1MjdfMjE0/MDAxNzQ4MzE2OTkwNjM5.qVgDB2DTlGByW6VHb1_DBpNHf-D3BwbnkiQRgwTWvr8g.qCl5OSdmmgFMlcMxO5skP6xl8Fb0fE4FQbrzwi8GYzMg.JPEG/GrowkMxXUAAyWSJ.jpg?type=s2',\n",
       "    'vrthumbnail': False,\n",
       "    'videoThumbnail': False},\n",
       "   {'url': 'https://blogthumb.pstatic.net/MjAyNTA1MjdfMzEg/MDAxNzQ4MzE3MTA3MTAy.w8vz993PdBEhUp1sM7F9toB7kfUsBke1AxcbGzNFhrwg.75pRHncJ5_xs2apOl3FiSEVqmQRcHNW7nzY_YT99IY4g.JPEG/KakaoTalk_20250525_003124968.jpg?type=s2',\n",
       "    'vrthumbnail': False,\n",
       "    'videoThumbnail': False},\n",
       "   {'url': 'https://blogthumb.pstatic.net/MjAyNTA1MjdfMTAg/MDAxNzQ4MzE3MDIzOTg4.N10ara3mbIEFuyzGcyGr1OptoJd6eE9ztEzVuLISK-Ag.gPOlaZk1RICp3P4S-4h5TGDA5MG1JEJM8mlj4cYqbBUg.PNG/%BF%A3%BA%F1%B5%F0%BE%C6_%BC%D2%B0%B3.PNG?type=s2',\n",
       "    'vrthumbnail': False,\n",
       "    'videoThumbnail': False}],\n",
       "  'product': None,\n",
       "  'titleHead': None,\n",
       "  'titleHeadColor': None,\n",
       "  'marketPost': False,\n",
       "  'hasThumbnail': True}]"
      ]
     },
     "execution_count": 6,
     "metadata": {},
     "output_type": "execute_result"
    }
   ],
   "source": [
    "import json\n",
    "json.loads(res.text.split('\\n')[1])['result']['searchList']"
   ]
  },
  {
   "cell_type": "markdown",
   "id": "01262520-b7ab-495a-b56c-3952d74ef2cd",
   "metadata": {},
   "source": [
    "#### 1-3. 다중 페이지 데이터 호출(함수)\n",
    "이제, 앞서 구현한 코드들을 종합하여 키워드와 페이지 번호만 넣어주면 지난 7일간의 포스팅 정보를 긁어올 수 있는 함수를 정의하겠다."
   ]
  },
  {
   "cell_type": "code",
   "execution_count": 7,
   "id": "0b4655af-a0fe-4d4c-8298-808bbed3c85f",
   "metadata": {},
   "outputs": [],
   "source": [
    "def get_posts_info(keyword, start_page=1, end_page=10):\n",
    "    url = 'https://section.blog.naver.com/ajax/SearchList.naver'\n",
    "    headers = {\n",
    "        'Referer': 'https://section.blog.naver.com/search/Post.naver',\n",
    "    }\n",
    "    end_date = datetime.today()\n",
    "    start_date = end_date - timedelta(days=7)\n",
    "\n",
    "    all_posts_info = []\n",
    "    print(f'[INFP] keyword : {keyword}, start_page : {start_page}, end_page : {end_page}')\n",
    "    for i in range(start_page, end_page+1):\n",
    "        params = {\n",
    "            'countPerPage': 7,\n",
    "            'currentPage': 1,\n",
    "            'endDate': end_date.strftime('%Y-%m-%d'),\n",
    "            'keyword': keyword,\n",
    "            'orderBy': 'sim',\n",
    "            'startDate': start_date.strftime('%Y-%m-%d'),\n",
    "            'type': 'post',\n",
    "        }\n",
    "        res = requests.get(url, params=params, headers=headers)\n",
    "        current_posts_info = json.loads(res.text.split('\\n')[1])['result']['searchList']\n",
    "        all_posts_info += current_posts_info\n",
    "        print(f'[INFO] 포스트 정보 수집 중 .. (page : {i}/{end_page} current posts : {len(current_posts_info)} all posts : {len(all_posts_info)}')\n",
    "    return all_posts_info"
   ]
  },
  {
   "cell_type": "code",
   "execution_count": 8,
   "id": "6080ff9a-3cae-4aca-b8f7-6de483de13d7",
   "metadata": {},
   "outputs": [
    {
     "name": "stdout",
     "output_type": "stream",
     "text": [
      "[INFP] keyword : 주가전망, start_page : 1, end_page : 10\n",
      "[INFO] 포스트 정보 수집 중 .. (page : 1/10 current posts : 7 all posts : 7\n",
      "[INFO] 포스트 정보 수집 중 .. (page : 2/10 current posts : 7 all posts : 14\n",
      "[INFO] 포스트 정보 수집 중 .. (page : 3/10 current posts : 7 all posts : 21\n",
      "[INFO] 포스트 정보 수집 중 .. (page : 4/10 current posts : 7 all posts : 28\n",
      "[INFO] 포스트 정보 수집 중 .. (page : 5/10 current posts : 7 all posts : 35\n",
      "[INFO] 포스트 정보 수집 중 .. (page : 6/10 current posts : 7 all posts : 42\n",
      "[INFO] 포스트 정보 수집 중 .. (page : 7/10 current posts : 7 all posts : 49\n",
      "[INFO] 포스트 정보 수집 중 .. (page : 8/10 current posts : 7 all posts : 56\n",
      "[INFO] 포스트 정보 수집 중 .. (page : 9/10 current posts : 7 all posts : 63\n",
      "[INFO] 포스트 정보 수집 중 .. (page : 10/10 current posts : 7 all posts : 70\n"
     ]
    }
   ],
   "source": [
    "posts_info = get_posts_info('주가전망', 1, 10)"
   ]
  },
  {
   "cell_type": "markdown",
   "id": "d4c7b601-5a97-4f95-ae53-f635a570f9b7",
   "metadata": {},
   "source": [
    "<p>총 10개 페이지, 70개 포스팅 정보가 수집되었다.</p>"
   ]
  },
  {
   "cell_type": "markdown",
   "id": "7c510c87-1fc8-435f-8195-c103aef53a22",
   "metadata": {},
   "source": [
    "### Step 2. 블로그 내용 수집"
   ]
  },
  {
   "cell_type": "markdown",
   "id": "f859bb1e-40f3-4eae-a832-0db0eb9b3d55",
   "metadata": {},
   "source": [
    "#### 2-1. HTML 태그 정보 확인\n",
    "\n",
    "<p>이렇게 수집한 포스팅 정보로 각 url을 순회하며 텍스트만 뽑아올 것다. 수집한 url 중 하나에 진입해서 html 태그를 살펴보자.</p>"
   ]
  },
  {
   "cell_type": "markdown",
   "id": "5e568257-cd39-49d8-94e3-463078070c3f",
   "metadata": {},
   "source": [
    "<img src=\"img/finance_analyze_02.png\"/>"
   ]
  },
  {
   "cell_type": "markdown",
   "id": "73c2f7af-1b57-478b-bf76-3cd6f92f7c4b",
   "metadata": {},
   "source": [
    "<p>본문 텍스트는 se-main-continer라는 div class가 지정되어 있다.</p>"
   ]
  },
  {
   "cell_type": "markdown",
   "id": "ca388c89-ecc9-447b-a8dc-5ec4eacaabf5",
   "metadata": {},
   "source": [
    "#### 2-2. 데이터 호출 정보 확인\n",
    "\n",
    "<p>데이터 호출을 위해 이번에는 네트워크 탭의 '문서'를 살펴보면 PostView.naver에 우리가 찾는 본문 텍스트가 있다. 해당 데이터를 어떻게 호출할 수 있을지 url과 매개변수를 통해 살펴본다.</p>"
   ]
  },
  {
   "cell_type": "markdown",
   "id": "b6cc3678-e4e5-458c-b666-83c19e467811",
   "metadata": {},
   "source": [
    "<img src=\"img/finance_analyze_03.png\"/>"
   ]
  },
  {
   "cell_type": "markdown",
   "id": "8eb8be95-ef3c-4d6d-ac93-fa6928e0aef1",
   "metadata": {},
   "source": [
    "#### 2-3. 단일 페이지 데이터 호출(함수)\n",
    "\n",
    "<p>이번에는 함수로 바로 만들어주겠다. select_one 함수로 본문을 가져오고 select('p')를 해줌으로써 본문 내 모든 문장들을 리스트로 추출한다. 또한, list comprehension 문법을 통해 각 리스트 내 요소에서 텍스트만 추출해 다시 리스트로 저장하고, 제어문자(u200b는 폭 없는 공백이다. 네이버 블로그 포스팅 시 자동으로 문자 사이에 포함됩니다.)는 없애준다.</p>\n",
    "\n",
    "<p>계속해서 list comprehension 문법을 사용하며 줄바꿈은 분리해 주고 공백 요소는 제거해 깔끔한 형태의 문자열만 담은 리스트로 만든다.</p>"
   ]
  },
  {
   "cell_type": "code",
   "execution_count": 9,
   "id": "fb8be0ea-c31a-44c9-93bc-601c845d49c3",
   "metadata": {},
   "outputs": [],
   "source": [
    "def get_posts(x):\n",
    "    url = 'https://blog.naver.com/PostView.naver'\n",
    "    params = {\n",
    "        'blogId': x['domainIdOrBlogId'],\n",
    "        'logNo': x['logNo'],\n",
    "        'redirect': 'Dlog',\n",
    "        'widgetTypeCall': 'true',\n",
    "        'directAccess': 'false'\n",
    "    }\n",
    "\n",
    "    res = requests.get(url, params=params)\n",
    "    soup = BeautifulSoup(res.text, 'lxml')\n",
    "    posts = soup.select_one('.se-main-container').select('p')\n",
    "    posts = [x.get_text().replace('\\u200b', '') for x in posts]\n",
    "\n",
    "    filtered_posts = [x.replace('다. ', '다. \\n') for x in posts]\n",
    "    filtered_posts = sum([x.split('\\n') for x in posts], [])\n",
    "    filtered_posts = [x.strip() for x in filtered_posts if not x in ['', ' ']]\n",
    "    return filtered_posts"
   ]
  },
  {
   "cell_type": "code",
   "execution_count": 10,
   "id": "c18dedd6-6dbb-45d1-ae7f-c01374b880f6",
   "metadata": {},
   "outputs": [
    {
     "data": {
      "text/plain": [
       "['요즘 주식시장 보면 마치 롤러코스터를 탄 듯한 종목들이 많습니다.',\n",
       " '그중에서도 유난히 고공비행 중인 종목이 하나 있는데요, 바로 두산에너빌리티입니다.',\n",
       " '이름부터 뭔가 거창한 이 기업, 최근 주가가 하늘 높은 줄 모르고 치솟고 있습니다.',\n",
       " '도대체 무슨 일이 벌어지고 있는 걸까요?',\n",
       " '주가는 거짓말을 안 한다?',\n",
       " '한때 15,150원이었던 이 종목이 불과 9개월 만에 43,450원까지 올라갔습니다.',\n",
       " '그냥 ‘오른 게 아니라’ 거의 세 배 가까이 치솟은 셈입니다.',\n",
       " '지금은 41,650원 선에서 거래 중인데, 하루 전보다 1,850원이나 오른 상태죠.',\n",
       " '이쯤 되면 그냥 강세장이 아니라 거의 ‘폭등장’입니다.',\n",
       " '주식 좀 해보신 분들은 아시겠지만, 이런 흐름은 아무 이유 없이 나오지 않습니다.',\n",
       " '이번엔 사우디다, 그것도 두 번',\n",
       " '최근 두산에너빌리티가 사우디에서만 두 건의 수주를 따냈다는 소식이 들려왔습니다.',\n",
       " '1300억 원 규모의 연료전환 사업에 이어, 3400억 원 규모의 가스복합발전소 설비 계약까지.',\n",
       " '연이은 수주 소식은 마치 크리스마스 선물처럼 투자자들을 들뜨게 했습니다.',\n",
       " '계약 대상은 리야드 북동쪽에 위치한 발전소 두 곳인데, 증기터빈과 발전기를 각각 두 기씩 납품할 예정이라고 하니, 그 규모만 봐도 상당하죠.',\n",
       " '게다가 이 회사, 최근 5년간 전 세계에서 발주된 초대형 증기터빈 물량의 33%를 수주했다는 자랑거리도 있습니다.',\n",
       " '이쯤 되면 단순히 ‘운 좋게 딴 계약’이 아니라, 기술력으로 증명된 실력이라 봐야겠죠.',\n",
       " '투자? 그냥 하는 게 아닙니다',\n",
       " '수주만 많다고 회사가 무조건 좋아지진 않습니다.',\n",
       " '문제는 그걸 잘 만들어내느냐인데요, 두산에너빌리티는 이 부분에서도 승부수를 띄웠습니다.',\n",
       " '2027년까지 무려 1조 3,232억 원 규모의 설비 투자를 예고했습니다.',\n",
       " '올해만 4,796억 원을 쓰겠다고 했는데, 작년 2,140억 원과 비교하면 두 배가 넘는 규모입니다.',\n",
       " '이 중 공장 신설과 개보수에만 2,760억 원을 쏟아붓는다니, 이 회사 진짜 ‘판’ 키우려는 의지가 대단합니다.',\n",
       " '가스터빈 생산 라인도 늘리고, SMR이라고 불리는 소형모듈원전 전용 공장까지 만들겠다는 계획까지 나왔습니다.',\n",
       " 'SMR은 쉽게 말하면 ‘원자로의 에어팟’이라고 할까요?',\n",
       " '기존 대형 원전보다 작지만, 효율은 뛰어나고 안전성도 좋다는 평가를 받습니다.',\n",
       " '전 세계적으로 이쪽 수요가 폭증할 거라는 분석이 지배적입니다.',\n",
       " '실적은 조금 아쉬웠지만...',\n",
       " '물론 장밋빛 이야기만 있는 건 아닙니다.',\n",
       " '최근 발표된 1분기 실적은 기대치에 못 미쳤습니다.',\n",
       " '매출은 3조 7,486억 원으로 전년보다 8.5% 줄었고, 영업이익은 1,425억 원으로 4.9% 감소했습니다.',\n",
       " '자회사 실적 감소가 컸던 탓이죠.',\n",
       " '그런데 중요한 건, 이 수치는 오히려 반전의 서막일 수 있다는 점입니다.',\n",
       " '2분기부터는 수익성이 높은 원자력과 SMR 부문 매출이 대거 반영될 예정이거든요.',\n",
       " '1분기 54%였던 고수익 사업 비중이 연말까지 78%로 높아질 전망이라, 영업이익도 다시 3,700억 원대에 진입할 가능성이 있습니다.',\n",
       " '말 그대로 실적이 ‘뒤늦게’ 폭발할 수 있는 거죠.',\n",
       " '주가가 이미 많이 올랐다고요?',\n",
       " '맞습니다. 실제로 증권사들의 목표주가 평균인 38,286원은 현재가보다 낮습니다.',\n",
       " '가장 높은 전망은 대신증권의 46,000원, 가장 낮은 곳은 유안타증권의 31,000원이었습니다.',\n",
       " '이 말은 ‘이미 오를 만큼 오른 것 아니냐’는 우려도 있다는 뜻입니다.',\n",
       " '게다가 현재 PER(주가수익비율)은 64.1배, PBR(주가순자산비율)은 2.4배로, 일반적으로는 비싼 평가를 받고 있는 상황입니다.',\n",
       " '하지만 PER이나 PBR은 ‘현재의 숫자’에 기반하기 때문에, 만약 실적이 상향 조정된다면 이 지표들도 자연스럽게 안정됩니다.',\n",
       " '결국 중요한 건, 2분기 이후 실제 실적이 얼마나 개선되느냐겠죠.',\n",
       " '재미진 Insight',\n",
       " '그렇다면 지금 들어가도 될까?',\n",
       " '이 질문, 아마 많은 분들이 머릿속에 떠올리실 겁니다.',\n",
       " '개인적으로는 만약 이미 일정 부분 오른 상태에서 신규 진입을 고민하고 있다면, 지금은 무리한 ‘몰빵’보다는 분할 매수가 현명하다고 봅니다.',\n",
       " '특히 2026년 창원 공장에서 SMR 전용 라인이 본격 가동되는 시점, 또는 미국 SMR 시장에서 추가 수주가 터질 경우를 두 번째 매수 포인트로 삼는 것도 괜찮습니다.',\n",
       " '우리가 주식에서 원하는 건 ‘빠른 수익’이 아니라 ‘지속 가능한 수익’이니까요.',\n",
       " '그리고 지금 이 기업은 단기 반등이 아닌, 중장기적인 구조 변화를 시작하는 단계에 있습니다.',\n",
       " '두산에너빌리티는 현재 단순히 원전 관련주로 끝나지 않습니다.',\n",
       " 'AI 시대에 따른 전력 수요 증가, 친환경 발전의 확대, 그리고 글로벌 원자력 정책의 변화까지.',\n",
       " '여러 거대한 흐름이 이 회사를 중심으로 움직이고 있습니다.',\n",
       " '실제로 트럼프 전 미국 대통령이 다시 나설 경우, 미국 원자력 정책이 재차 강화될 가능성이 높고, 이는 이 회사의 북미 수주 확대에 날개를 달아줄 수 있습니다.',\n",
       " '과거 웨스팅하우스와의 협업 경험이 있는 만큼, 현지에서의 실적 확장도 그리 먼 이야기는 아닙니다.',\n",
       " '결국 이 종목은 \"지금 당장 이익이 아니라, 앞으로 3년간의 판을 보고 투자할 수 있느냐\"에 대한 질문을 던지고 있습니다.',\n",
       " '만약 그 질문에 ‘YES’라고 대답하신다면, 두산에너빌리티는 지금도 충분히 매력적인 종목일 수 있습니다.',\n",
       " '긴 글 읽어주셔서 감사합니다.',\n",
       " '오늘도 현명한 투자되시길 바랍니다.',\n",
       " '인플루언서 팬 하기 부탁드립니다',\n",
       " '키워드 말고 가치 있는 글을 쓰고 싶습니다']"
      ]
     },
     "execution_count": 10,
     "metadata": {},
     "output_type": "execute_result"
    }
   ],
   "source": [
    "get_posts(posts_info[0])"
   ]
  },
  {
   "cell_type": "code",
   "execution_count": 11,
   "id": "fbf63a84-c213-472a-aabc-72ff6388099a",
   "metadata": {},
   "outputs": [
    {
     "data": {
      "text/plain": [
       "['안녕하세요 경제 인플루언서 디노!입니다.',\n",
       " '오늘 알아볼 국내주식은 에코프로 입니다.',\n",
       " '현재 가격 분석과 주가전망 그리고 하락하는 이유까지 살펴보겠습니다.',\n",
       " '에코프로 주가 현황, 가격분석',\n",
       " '에코프로 주가현황입니다.',\n",
       " '23년 전성기를 누리던 주식이 딱 2년이 지난 지금은 하염없이 하락만 이어지고 있습니다.',\n",
       " '고점에 비해서는 -85% 수준의 가격이고, 최근 2년간 제대로 된 반등 한번 없이 하락하는걸 보면 정말 테마주였나..? 하는 생각마저 드는데요.',\n",
       " '(에코프로는 24년 액면분할이 있었습니다)',\n",
       " '저도 한때 2차전지주인 엘앤에프를 보유했던 기억이 있어서 남의 일 같지가 않은 차트입니다.',\n",
       " '현재 가격이 어떤지 분석해보려고 일봉으로도 보고, 주봉으로도 봤지만 이평선 밑에서 계속 놀고있고, 한번을 이평위로 지지받지 못하는 모습을 보이고 있습니다. 이런 부분만 봐도 여전히 대중은 비싸다고 생각하는것 같습니다.',\n",
       " '에코프로의 현 시총은 5.2조로 과거 30조를 찍엇던 시기를 생각하면 싸보이지만.. 현재 상황은 이것도 비싸보입니다.',\n",
       " '과연, 현재 에코프로는 현재 어떤 상태를 보이고 있는 기업일지.. 살펴보도록 하겠습니다.',\n",
       " '에코프로 현재는 어떤가?',\n",
       " '그럼, 에코프로의 매출과 영업이익 상태부터 진단해보겠습니다.',\n",
       " '22년 매출 5.6조, 23년 7.2조를 기록하던 에코프로',\n",
       " '24년에는 50% 이상 하락한 3.1조를 기록했고 영업이익은 -2930억으로 적자전환이 이뤄졌습니다.',\n",
       " '분기 매출을 살펴봐도 이렇다할 반등도 없고, 이익 역시 한분기만의 miss가 아닌 지속적인 적자를 기록하고 있습니다.',\n",
       " '에코프로 주가 하락하는 이유, 전망은?',\n",
       " '에코프로가 이 같이 하락하는데에는 중국의 영향이 상당히 큽니다.',\n",
       " '중국은 상대적으로 가격이 낮고 효율이 좋은 LFP배터리로 점유율을 키워오고 있습니다.',\n",
       " '중국이 선택한 LFP가 배터리 시장의 표준으로 인식되고있고, 여기에 그동안 단점으로 꼽히던 에너지 밀도 역시 최근 급격하게 개선되고 있습니다. 단점을 극복하기 힘들어 보여 삼원계 배터리 위주로 구성하던 국내 기업들은 당연히 뒤로 밀릴수 밖에는 없습니다.',\n",
       " '중국하면, 저가에 질 안좋은 배터리일 것이라는 인식은 더이상 팩트가 아닙니다.',\n",
       " '정부의 지원과 어마무시한 자본을 투자해 배터리 효율을 높여왔고, 기술력에 국내 기업들이 밀린것을 인정해야만 하는 상황입니다.',\n",
       " 'CATL은 4년째 1위를 기록하고 있고, 이제 2위자리도 BYD에 양보했습니다.',\n",
       " '3위에는 LG엔솔, 4위에는 SK온 5위에는 삼성 SDI가 있지만 중국의 비중에 비하면 계속해서 급감하고 있는것이 현실입니다.',\n",
       " '여기에 전차 수요둔화, 배터리 재고과잉, 원재료가격 하락등의 요소도 2차전지 주식들에게는 좋은 소식이 아닙니다.',\n",
       " '계속해서 증가세가 유지되지 못한 시장앞에서 에코프로처럼 2차전지에 몰빵되어 있는 회사에게는 타격이 상대적으로 더 클수밖에는 없습니다.',\n",
       " '문제는, 이같은 정체가 쉽게 풀리지 않을것이라는 전망입니다.',\n",
       " '트럼프 행정부는 친환경에 그닥 관심이 크지 않습니다.',\n",
       " '다행히도 배터리 생산 보조금은 유지하기로 했기에, 수익성은 방어할수 있지만, 여전히 성장은 제한적입니다.',\n",
       " '남은 기대를 걸 부분은 이제 ESS 시장입니다.',\n",
       " 'AI로 인해 늘어나는 전력수요로 인해 꾸준한 성장이 예상되고, 중국을 싫어하는 미국입장에서 한국을 선택할 수 밖에는 없도록 진출 및 공략이 필수적입니다. 국내에서도 38년까지 40조원 규모의 시장이 예측 되는 만큼 국내기업들이 빠르게 신 사업분야를 개척해 나가는 수밖에는 없을것 같습니다.',\n",
       " '단기간에, 에코프로의 주가가 이전의 영광을 찾을 가능성은 극히 낮아보입니다.',\n",
       " '배터리 대기업들 전부 죽쓰고 있고, 수익성을 확보하지 못하고 있는 모습을 보여주고 있는데요.',\n",
       " '한 때 2차 전지 황제주로 불리며 모든 자금을 휩쓸어 갔던 에코프로가 다시 황제주로 불릴정도로 성장할지.. 개인적으로는 회의적입니다.',\n",
       " '다만, 지속된 하락세가 좀 잦아들고, 반등할 여지를 찾기 위해서는 ESS 시장에서 독보적인 무언가를 보여줘야 가능하지 않을까 생각합니다.',\n",
       " \"디노's Comment\",\n",
       " '오늘은 과거 코스닥 시총 1위였던 에코프로의 주가 전망과 가격분석 그리고 하락하고 있는 이유에 대해서 알아봤습니다.',\n",
       " '항상, 이런 테마성을 띄고 있는 주식들은 열기가 식고나면 완전히 투자심리가 죽어버릴정도로 하락하는 경우가 많은것 같습니다.',\n",
       " '역시 영원한 상승은 없고.. 예상치 못한 변수는 항상 있기 마련이라 투자에 유의하셔야 겠습니다.',\n",
       " '팬하기 한번씩 해주시면 감사드립니다!!']"
      ]
     },
     "execution_count": 11,
     "metadata": {},
     "output_type": "execute_result"
    }
   ],
   "source": [
    "get_posts(posts_info[1])"
   ]
  },
  {
   "cell_type": "markdown",
   "id": "3293a1c9-fe8d-4178-b1e8-056340d65365",
   "metadata": {},
   "source": [
    "### Step 3. 감성 분류\n",
    "\n",
    "<p>이제, 이렇게 얻은 문자열에 대해 감성 분류를 실시할 수 있다. 텍스트 클렌징 작업은 최대한 정교하게 할수록 좋다. 텍스트 수집에 정도가 없듯 텍스트 전처리 방법에도 역시 정도가 없다.</p>\n",
    "<p>이번 튜토리얼에서는 간단하게 전처리한 문장을 활용해 감성 분류를 해보자.</p>"
   ]
  },
  {
   "cell_type": "markdown",
   "id": "b6cc8c44-0f4b-467e-9ea9-674e9aee349b",
   "metadata": {},
   "source": [
    "#### 3-1. 허깅페이스 모델 검색\n",
    "\n",
    "<p>우선, 임의의 텍스트 한 줄을 가져다 잘 분류해 줄 수 있는 모델을 찾아보자.</p>\n",
    "<p>언어 모델의 경우 대규모로 사전학습된 모델을 먼저 리서치해 보는 것이 좋다. 간단한 분석을 위해 몇 주간의 학습 시간을 소진하기에는 현실적으로 어렵기 때문에, 언어 모델 사용 시 다운스트림 테스크로 우리의 데이터 셋에 조금 더 확률 값을 높여주고 우리가 목표로 하는 결괏값을 출력해 내도록 구조를 맞춰주는 정도의 파인튜닝이 일반적이다.</p>\n",
    "<p>감성 분류, 그중에서도 금융 텍스트에 특화된 한국어 모델이 이미 허깅페이스에 올라와 있다. 해당 모델을 테스트해 보고 사용 여부를 판단한다.</p>\n",
    "<img src=\"img/finance_analyze_04.png\"/>\n",
    "<p>부정적 어감의 문장을 가져다 넣으니 negative로 잘 분류해 준다. 중립은 어떨까?</p>\n",
    "<img src=\"img/finance_analyze_05.png\"/>\n",
    "<p>'엔비디아 전망'이라는 텍스트는 97.6%의 확률로 neutral으로 분류를 해준다. 만약 우리가 사용하는 모델이 긍/부정으로만 분류할 수 있다면 중립에 해당하는 문장은 최대한 걸러내야 할 것이다.</p>\n",
    "<p>여기서는 우리가 수집한 전체 문장에 대해 중립, 부정, 긍정 각각의 비중을 살펴보고 주식시장의 동향을 파악해 보고자 한다.</p>\n",
    "<p>우리는 특정 블로그 포스팅 자체에 대해 '긍정 포스팅이다.', '부정 포스팅이다.' 하고 분류하기보다 위 방식처럼 하나의 글 내에서도 여러 문장으로 분리하고 각각을 분류 대상으로 삼을 것이다. 한 명이 작성한 하나의 블로그 포스팅 안에서도 긍정적인 문장과 부정적인 문장이 혼재해있다. 해당 블로그 포스팅으로 누군가는 부정적인 정보를 획득해갈 것이고 누군가는 반대로 긍정적인 정보를 획득해간다. 사람마다 받아들이는 정보는 매우 주관적이므로 블로그 포스팅 내 모든 문장을 정보 혹은 대중의 판단 근거라 가정하는 것이다.</p>\n",
    "<p>물론 이러한 분석 방식 역시 주관과 의도가 강하게 개입되어 있으며, 유일한 정답일 수 없다.</p>"
   ]
  },
  {
   "cell_type": "markdown",
   "id": "5412926c-ab17-417a-89d9-c48aae63066f",
   "metadata": {},
   "source": [
    "#### 3-2. 추론 모델 인스턴스 생성 및 테스트"
   ]
  },
  {
   "cell_type": "code",
   "execution_count": 33,
   "id": "15de4c41-9866-435d-965a-e53a59e2deab",
   "metadata": {},
   "outputs": [
    {
     "name": "stdout",
     "output_type": "stream",
     "text": [
      "/home/swhors/jupyter-workspace/LSTM/study\n"
     ]
    }
   ],
   "source": [
    "!pip freeze > req.txt\n",
    "!pwd"
   ]
  },
  {
   "cell_type": "code",
   "execution_count": 17,
   "id": "29295670-9b5e-4a7f-bc95-38f9dd78a20b",
   "metadata": {},
   "outputs": [
    {
     "name": "stderr",
     "output_type": "stream",
     "text": [
      "Device set to use cpu\n"
     ]
    }
   ],
   "source": [
    "from transformers import AutoTokenizer, AutoModelForSequenceClassification\n",
    "from transformers import pipeline\n",
    "\n",
    "tokenizer = AutoTokenizer.from_pretrained('snunlp/KR-FinBert-SC')\n",
    "model = AutoModelForSequenceClassification.from_pretrained('snunlp/KR-FinBert-SC')\n",
    "senti_classifier = pipeline(task='text-classification', model=model, tokenizer=tokenizer)"
   ]
  },
  {
   "cell_type": "markdown",
   "id": "797ca04d-cd42-42a6-bae8-071909c99d01",
   "metadata": {},
   "source": [
    "<p>위 코드는 허깅페이스를 통해 우리가 사용하려는 모델과 토크나이저를 불러와 빠르게 추론 모델을 만든다.</p>\n",
    "<p>해당 모델은 뉴스 기사 텍스트로 1차 파인튜닝된 모델이다. 그렇기 때문에 추가 학습 없이 우리 테스크에 바로 적용할 수 있다.</p>\n",
    "<p>다만, 경우에 따라 같은 유형의 테스크라 하더라도 모델이 우리 데이터에 완전히 맞지는 않을 수 있다. 따라서 몇 가지 단어를 넣어 적절한 출력이 나오는지 한 번 더 확인하겠다.</p>"
   ]
  },
  {
   "cell_type": "code",
   "execution_count": 19,
   "id": "cf35fa1d-0024-45cf-8e81-a6750af28a8f",
   "metadata": {},
   "outputs": [
    {
     "data": {
      "text/plain": [
       "[{'label': 'positive', 'score': 0.8705510497093201},\n",
       " {'label': 'negative', 'score': 0.9346328973770142},\n",
       " {'label': 'neutral', 'score': 0.5876973867416382}]"
      ]
     },
     "execution_count": 19,
     "metadata": {},
     "output_type": "execute_result"
    }
   ],
   "source": [
    "senti_classifier(['상승', '하락', '애플'])"
   ]
  },
  {
   "cell_type": "markdown",
   "id": "b3ef686b-4c36-4765-93b3-ceb2d47557d7",
   "metadata": {},
   "source": [
    "<p>주가 관련 텍스트를 학습한 탓에 상승이라는 키워드에는 positive를, 하락이라는 키워드에는 negative를, 애플과 같은 고유명사에는 neutral을 출력해 준다. 우리가 기대했던 결과값이다.</p>\n",
    "<p>그럼, 이제 지난 7일간의 주식 시장에 대한 평가를 네이버 블로그에 한정해서 살펴보도록 하겠다.</p>"
   ]
  },
  {
   "cell_type": "markdown",
   "id": "1962dc09-7b7e-4d01-a28e-9bc4732b351a",
   "metadata": {},
   "source": [
    "#### 3-3. 단일 포스팅 내 텍스트 감성 분류"
   ]
  },
  {
   "cell_type": "code",
   "execution_count": 21,
   "id": "a97a5f77-7834-4421-8704-d9fcdccae517",
   "metadata": {},
   "outputs": [
    {
     "data": {
      "text/plain": [
       "70"
      ]
     },
     "execution_count": 21,
     "metadata": {},
     "output_type": "execute_result"
    }
   ],
   "source": [
    "len(posts_info)"
   ]
  },
  {
   "cell_type": "markdown",
   "id": "fdc4ef79-3123-482d-9291-419c23c8646f",
   "metadata": {},
   "source": [
    "<p>우리가 분석하려는 총 포스트 수는 총 70개다. 첫 번째 포스팅을 먼저 분석해 보겠다.</p>"
   ]
  },
  {
   "cell_type": "code",
   "execution_count": 22,
   "id": "dc99b59d-498c-452d-a124-30a7a951ef1b",
   "metadata": {},
   "outputs": [
    {
     "data": {
      "text/plain": [
       "['요즘 주식시장 보면 마치 롤러코스터를 탄 듯한 종목들이 많습니다.',\n",
       " '그중에서도 유난히 고공비행 중인 종목이 하나 있는데요, 바로 두산에너빌리티입니다.',\n",
       " '이름부터 뭔가 거창한 이 기업, 최근 주가가 하늘 높은 줄 모르고 치솟고 있습니다.',\n",
       " '도대체 무슨 일이 벌어지고 있는 걸까요?',\n",
       " '주가는 거짓말을 안 한다?',\n",
       " '한때 15,150원이었던 이 종목이 불과 9개월 만에 43,450원까지 올라갔습니다.',\n",
       " '그냥 ‘오른 게 아니라’ 거의 세 배 가까이 치솟은 셈입니다.',\n",
       " '지금은 41,650원 선에서 거래 중인데, 하루 전보다 1,850원이나 오른 상태죠.',\n",
       " '이쯤 되면 그냥 강세장이 아니라 거의 ‘폭등장’입니다.',\n",
       " '주식 좀 해보신 분들은 아시겠지만, 이런 흐름은 아무 이유 없이 나오지 않습니다.',\n",
       " '이번엔 사우디다, 그것도 두 번',\n",
       " '최근 두산에너빌리티가 사우디에서만 두 건의 수주를 따냈다는 소식이 들려왔습니다.',\n",
       " '1300억 원 규모의 연료전환 사업에 이어, 3400억 원 규모의 가스복합발전소 설비 계약까지.',\n",
       " '연이은 수주 소식은 마치 크리스마스 선물처럼 투자자들을 들뜨게 했습니다.',\n",
       " '계약 대상은 리야드 북동쪽에 위치한 발전소 두 곳인데, 증기터빈과 발전기를 각각 두 기씩 납품할 예정이라고 하니, 그 규모만 봐도 상당하죠.',\n",
       " '게다가 이 회사, 최근 5년간 전 세계에서 발주된 초대형 증기터빈 물량의 33%를 수주했다는 자랑거리도 있습니다.',\n",
       " '이쯤 되면 단순히 ‘운 좋게 딴 계약’이 아니라, 기술력으로 증명된 실력이라 봐야겠죠.',\n",
       " '투자? 그냥 하는 게 아닙니다',\n",
       " '수주만 많다고 회사가 무조건 좋아지진 않습니다.',\n",
       " '문제는 그걸 잘 만들어내느냐인데요, 두산에너빌리티는 이 부분에서도 승부수를 띄웠습니다.',\n",
       " '2027년까지 무려 1조 3,232억 원 규모의 설비 투자를 예고했습니다.',\n",
       " '올해만 4,796억 원을 쓰겠다고 했는데, 작년 2,140억 원과 비교하면 두 배가 넘는 규모입니다.',\n",
       " '이 중 공장 신설과 개보수에만 2,760억 원을 쏟아붓는다니, 이 회사 진짜 ‘판’ 키우려는 의지가 대단합니다.',\n",
       " '가스터빈 생산 라인도 늘리고, SMR이라고 불리는 소형모듈원전 전용 공장까지 만들겠다는 계획까지 나왔습니다.',\n",
       " 'SMR은 쉽게 말하면 ‘원자로의 에어팟’이라고 할까요?',\n",
       " '기존 대형 원전보다 작지만, 효율은 뛰어나고 안전성도 좋다는 평가를 받습니다.',\n",
       " '전 세계적으로 이쪽 수요가 폭증할 거라는 분석이 지배적입니다.',\n",
       " '실적은 조금 아쉬웠지만...',\n",
       " '물론 장밋빛 이야기만 있는 건 아닙니다.',\n",
       " '최근 발표된 1분기 실적은 기대치에 못 미쳤습니다.',\n",
       " '매출은 3조 7,486억 원으로 전년보다 8.5% 줄었고, 영업이익은 1,425억 원으로 4.9% 감소했습니다.',\n",
       " '자회사 실적 감소가 컸던 탓이죠.',\n",
       " '그런데 중요한 건, 이 수치는 오히려 반전의 서막일 수 있다는 점입니다.',\n",
       " '2분기부터는 수익성이 높은 원자력과 SMR 부문 매출이 대거 반영될 예정이거든요.',\n",
       " '1분기 54%였던 고수익 사업 비중이 연말까지 78%로 높아질 전망이라, 영업이익도 다시 3,700억 원대에 진입할 가능성이 있습니다.',\n",
       " '말 그대로 실적이 ‘뒤늦게’ 폭발할 수 있는 거죠.',\n",
       " '주가가 이미 많이 올랐다고요?',\n",
       " '맞습니다. 실제로 증권사들의 목표주가 평균인 38,286원은 현재가보다 낮습니다.',\n",
       " '가장 높은 전망은 대신증권의 46,000원, 가장 낮은 곳은 유안타증권의 31,000원이었습니다.',\n",
       " '이 말은 ‘이미 오를 만큼 오른 것 아니냐’는 우려도 있다는 뜻입니다.',\n",
       " '게다가 현재 PER(주가수익비율)은 64.1배, PBR(주가순자산비율)은 2.4배로, 일반적으로는 비싼 평가를 받고 있는 상황입니다.',\n",
       " '하지만 PER이나 PBR은 ‘현재의 숫자’에 기반하기 때문에, 만약 실적이 상향 조정된다면 이 지표들도 자연스럽게 안정됩니다.',\n",
       " '결국 중요한 건, 2분기 이후 실제 실적이 얼마나 개선되느냐겠죠.',\n",
       " '재미진 Insight',\n",
       " '그렇다면 지금 들어가도 될까?',\n",
       " '이 질문, 아마 많은 분들이 머릿속에 떠올리실 겁니다.',\n",
       " '개인적으로는 만약 이미 일정 부분 오른 상태에서 신규 진입을 고민하고 있다면, 지금은 무리한 ‘몰빵’보다는 분할 매수가 현명하다고 봅니다.',\n",
       " '특히 2026년 창원 공장에서 SMR 전용 라인이 본격 가동되는 시점, 또는 미국 SMR 시장에서 추가 수주가 터질 경우를 두 번째 매수 포인트로 삼는 것도 괜찮습니다.',\n",
       " '우리가 주식에서 원하는 건 ‘빠른 수익’이 아니라 ‘지속 가능한 수익’이니까요.',\n",
       " '그리고 지금 이 기업은 단기 반등이 아닌, 중장기적인 구조 변화를 시작하는 단계에 있습니다.',\n",
       " '두산에너빌리티는 현재 단순히 원전 관련주로 끝나지 않습니다.',\n",
       " 'AI 시대에 따른 전력 수요 증가, 친환경 발전의 확대, 그리고 글로벌 원자력 정책의 변화까지.',\n",
       " '여러 거대한 흐름이 이 회사를 중심으로 움직이고 있습니다.',\n",
       " '실제로 트럼프 전 미국 대통령이 다시 나설 경우, 미국 원자력 정책이 재차 강화될 가능성이 높고, 이는 이 회사의 북미 수주 확대에 날개를 달아줄 수 있습니다.',\n",
       " '과거 웨스팅하우스와의 협업 경험이 있는 만큼, 현지에서의 실적 확장도 그리 먼 이야기는 아닙니다.',\n",
       " '결국 이 종목은 \"지금 당장 이익이 아니라, 앞으로 3년간의 판을 보고 투자할 수 있느냐\"에 대한 질문을 던지고 있습니다.',\n",
       " '만약 그 질문에 ‘YES’라고 대답하신다면, 두산에너빌리티는 지금도 충분히 매력적인 종목일 수 있습니다.',\n",
       " '긴 글 읽어주셔서 감사합니다.',\n",
       " '오늘도 현명한 투자되시길 바랍니다.',\n",
       " '인플루언서 팬 하기 부탁드립니다',\n",
       " '키워드 말고 가치 있는 글을 쓰고 싶습니다']"
      ]
     },
     "execution_count": 22,
     "metadata": {},
     "output_type": "execute_result"
    }
   ],
   "source": [
    "get_posts(posts_info[0])"
   ]
  },
  {
   "cell_type": "code",
   "execution_count": 27,
   "id": "0fbb3164-d265-4531-a839-166e61db69cf",
   "metadata": {},
   "outputs": [
    {
     "data": {
      "text/html": [
       "<div>\n",
       "<style scoped>\n",
       "    .dataframe tbody tr th:only-of-type {\n",
       "        vertical-align: middle;\n",
       "    }\n",
       "\n",
       "    .dataframe tbody tr th {\n",
       "        vertical-align: top;\n",
       "    }\n",
       "\n",
       "    .dataframe thead th {\n",
       "        text-align: right;\n",
       "    }\n",
       "</style>\n",
       "<table border=\"1\" class=\"dataframe\">\n",
       "  <thead>\n",
       "    <tr style=\"text-align: right;\">\n",
       "      <th></th>\n",
       "      <th>text</th>\n",
       "      <th>senti</th>\n",
       "    </tr>\n",
       "  </thead>\n",
       "  <tbody>\n",
       "    <tr>\n",
       "      <th>0</th>\n",
       "      <td>요즘 주식시장 보면 마치 롤러코스터를 탄 듯한 종목들이 많습니다.</td>\n",
       "      <td>neutral</td>\n",
       "    </tr>\n",
       "    <tr>\n",
       "      <th>1</th>\n",
       "      <td>그중에서도 유난히 고공비행 중인 종목이 하나 있는데요, 바로 두산에너빌리티입니다.</td>\n",
       "      <td>neutral</td>\n",
       "    </tr>\n",
       "    <tr>\n",
       "      <th>2</th>\n",
       "      <td>이름부터 뭔가 거창한 이 기업, 최근 주가가 하늘 높은 줄 모르고 치솟고 있습니다.</td>\n",
       "      <td>neutral</td>\n",
       "    </tr>\n",
       "    <tr>\n",
       "      <th>3</th>\n",
       "      <td>도대체 무슨 일이 벌어지고 있는 걸까요?</td>\n",
       "      <td>neutral</td>\n",
       "    </tr>\n",
       "    <tr>\n",
       "      <th>4</th>\n",
       "      <td>주가는 거짓말을 안 한다?</td>\n",
       "      <td>neutral</td>\n",
       "    </tr>\n",
       "    <tr>\n",
       "      <th>...</th>\n",
       "      <td>...</td>\n",
       "      <td>...</td>\n",
       "    </tr>\n",
       "    <tr>\n",
       "      <th>56</th>\n",
       "      <td>만약 그 질문에 ‘YES’라고 대답하신다면, 두산에너빌리티는 지금도 충분히 매력적인...</td>\n",
       "      <td>neutral</td>\n",
       "    </tr>\n",
       "    <tr>\n",
       "      <th>57</th>\n",
       "      <td>긴 글 읽어주셔서 감사합니다.</td>\n",
       "      <td>neutral</td>\n",
       "    </tr>\n",
       "    <tr>\n",
       "      <th>58</th>\n",
       "      <td>오늘도 현명한 투자되시길 바랍니다.</td>\n",
       "      <td>neutral</td>\n",
       "    </tr>\n",
       "    <tr>\n",
       "      <th>59</th>\n",
       "      <td>인플루언서 팬 하기 부탁드립니다</td>\n",
       "      <td>neutral</td>\n",
       "    </tr>\n",
       "    <tr>\n",
       "      <th>60</th>\n",
       "      <td>키워드 말고 가치 있는 글을 쓰고 싶습니다</td>\n",
       "      <td>neutral</td>\n",
       "    </tr>\n",
       "  </tbody>\n",
       "</table>\n",
       "<p>61 rows × 2 columns</p>\n",
       "</div>"
      ],
      "text/plain": [
       "                                                 text    senti\n",
       "0                요즘 주식시장 보면 마치 롤러코스터를 탄 듯한 종목들이 많습니다.  neutral\n",
       "1       그중에서도 유난히 고공비행 중인 종목이 하나 있는데요, 바로 두산에너빌리티입니다.  neutral\n",
       "2      이름부터 뭔가 거창한 이 기업, 최근 주가가 하늘 높은 줄 모르고 치솟고 있습니다.  neutral\n",
       "3                              도대체 무슨 일이 벌어지고 있는 걸까요?  neutral\n",
       "4                                      주가는 거짓말을 안 한다?  neutral\n",
       "..                                                ...      ...\n",
       "56  만약 그 질문에 ‘YES’라고 대답하신다면, 두산에너빌리티는 지금도 충분히 매력적인...  neutral\n",
       "57                                   긴 글 읽어주셔서 감사합니다.  neutral\n",
       "58                                오늘도 현명한 투자되시길 바랍니다.  neutral\n",
       "59                                  인플루언서 팬 하기 부탁드립니다  neutral\n",
       "60                            키워드 말고 가치 있는 글을 쓰고 싶습니다  neutral\n",
       "\n",
       "[61 rows x 2 columns]"
      ]
     },
     "execution_count": 27,
     "metadata": {},
     "output_type": "execute_result"
    }
   ],
   "source": [
    "x = get_posts(posts_info[0])\n",
    "y = [x['label'] for x in senti_classifier(x)]\n",
    "\n",
    "df = pd.DataFrame(data={'text': x, 'senti': y})\n",
    "df"
   ]
  },
  {
   "cell_type": "markdown",
   "id": "366ec2ea-bec7-4e5f-95eb-b55d477ad2b4",
   "metadata": {},
   "source": [
    "#### 3-4. 전체 7일간 포스팅 감성 분류\n",
    "<p>서론, 혹은 이야기를 풀어나가기 위한 담화용 텍스트는 neutral로 분류되고 그 외 주가 판단에 대한 내용은 positive 혹은 negative로 분류되는 모습을 볼 수 있다.</p>\n",
    "<p>이번에는 전체 70개 포스팅에 대해 모두 분류하고 분류 비중을 살펴보도록 하겠다.</p>\n",
    "<p>포스팅을 먼저 모두 수집하고 전체 데이터에 대해 한 번에 추론하는 방식 혹은 매 포스팅마다 수집과 추론을 반복해서 결괏값을 합치는 방식을 취할 수 있다.</p>\n",
    "<p>속도 및 작업 편의를 고려하면 전자가 좋겠지만 각 포스팅에 수십 개의 문장이 있기 때문에 전체 분류 타깃이 메모리에 한 번에 올라가게 되면 중간에 멈출 수도 있다. 따라서 배치 작업으로 안정적인 추론이 이루어질 수 있도록 후자 형태로 코드를 구성하겠다.</p>"
   ]
  },
  {
   "cell_type": "code",
   "execution_count": 29,
   "id": "138350b6-3c13-48d8-a9ee-6cd5f2a9c35b",
   "metadata": {},
   "outputs": [
    {
     "name": "stdout",
     "output_type": "stream",
     "text": [
      "[INFO] 분류 작업 중.. (타겟 포스팅: 1/69 분류 된 문장 수: 102\n",
      "[INFO] 분류 작업 중.. (타겟 포스팅: 2/69 분류 된 문장 수: 181\n",
      "[INFO] 분류 작업 중.. (타겟 포스팅: 3/69 분류 된 문장 수: 200\n",
      "[INFO] 분류 작업 중.. (타겟 포스팅: 4/69 분류 된 문장 수: 236\n",
      "[INFO] 분류 작업 중.. (타겟 포스팅: 5/69 분류 된 문장 수: 258\n",
      "[INFO] 분류 작업 중.. (타겟 포스팅: 6/69 분류 된 문장 수: 287\n",
      "[INFO] 분류 작업 중.. (타겟 포스팅: 7/69 분류 된 문장 수: 348\n",
      "[INFO] 분류 작업 중.. (타겟 포스팅: 8/69 분류 된 문장 수: 389\n",
      "[INFO] 분류 작업 중.. (타겟 포스팅: 9/69 분류 된 문장 수: 468\n",
      "[INFO] 분류 작업 중.. (타겟 포스팅: 10/69 분류 된 문장 수: 487\n",
      "[INFO] 분류 작업 중.. (타겟 포스팅: 11/69 분류 된 문장 수: 523\n",
      "[INFO] 분류 작업 중.. (타겟 포스팅: 12/69 분류 된 문장 수: 545\n",
      "[INFO] 분류 작업 중.. (타겟 포스팅: 13/69 분류 된 문장 수: 574\n",
      "[INFO] 분류 작업 중.. (타겟 포스팅: 14/69 분류 된 문장 수: 635\n",
      "[INFO] 분류 작업 중.. (타겟 포스팅: 15/69 분류 된 문장 수: 676\n",
      "[INFO] 분류 작업 중.. (타겟 포스팅: 16/69 분류 된 문장 수: 755\n",
      "[INFO] 분류 작업 중.. (타겟 포스팅: 17/69 분류 된 문장 수: 774\n",
      "[INFO] 분류 작업 중.. (타겟 포스팅: 18/69 분류 된 문장 수: 810\n",
      "[INFO] 분류 작업 중.. (타겟 포스팅: 19/69 분류 된 문장 수: 832\n",
      "[INFO] 분류 작업 중.. (타겟 포스팅: 20/69 분류 된 문장 수: 861\n",
      "[INFO] 분류 작업 중.. (타겟 포스팅: 21/69 분류 된 문장 수: 922\n",
      "[INFO] 분류 작업 중.. (타겟 포스팅: 22/69 분류 된 문장 수: 963\n",
      "[INFO] 분류 작업 중.. (타겟 포스팅: 23/69 분류 된 문장 수: 1042\n",
      "[INFO] 분류 작업 중.. (타겟 포스팅: 24/69 분류 된 문장 수: 1061\n",
      "[INFO] 분류 작업 중.. (타겟 포스팅: 25/69 분류 된 문장 수: 1097\n",
      "[INFO] 분류 작업 중.. (타겟 포스팅: 26/69 분류 된 문장 수: 1119\n",
      "[INFO] 분류 작업 중.. (타겟 포스팅: 27/69 분류 된 문장 수: 1148\n",
      "[INFO] 분류 작업 중.. (타겟 포스팅: 28/69 분류 된 문장 수: 1209\n",
      "[INFO] 분류 작업 중.. (타겟 포스팅: 29/69 분류 된 문장 수: 1250\n",
      "[INFO] 분류 작업 중.. (타겟 포스팅: 30/69 분류 된 문장 수: 1329\n",
      "[INFO] 분류 작업 중.. (타겟 포스팅: 31/69 분류 된 문장 수: 1348\n",
      "[INFO] 분류 작업 중.. (타겟 포스팅: 32/69 분류 된 문장 수: 1384\n",
      "[INFO] 분류 작업 중.. (타겟 포스팅: 33/69 분류 된 문장 수: 1406\n",
      "[INFO] 분류 작업 중.. (타겟 포스팅: 34/69 분류 된 문장 수: 1435\n",
      "[INFO] 분류 작업 중.. (타겟 포스팅: 35/69 분류 된 문장 수: 1496\n",
      "[INFO] 분류 작업 중.. (타겟 포스팅: 36/69 분류 된 문장 수: 1537\n",
      "[INFO] 분류 작업 중.. (타겟 포스팅: 37/69 분류 된 문장 수: 1616\n",
      "[INFO] 분류 작업 중.. (타겟 포스팅: 38/69 분류 된 문장 수: 1635\n",
      "[INFO] 분류 작업 중.. (타겟 포스팅: 39/69 분류 된 문장 수: 1671\n",
      "[INFO] 분류 작업 중.. (타겟 포스팅: 40/69 분류 된 문장 수: 1693\n",
      "[INFO] 분류 작업 중.. (타겟 포스팅: 41/69 분류 된 문장 수: 1722\n",
      "[INFO] 분류 작업 중.. (타겟 포스팅: 42/69 분류 된 문장 수: 1783\n",
      "[INFO] 분류 작업 중.. (타겟 포스팅: 43/69 분류 된 문장 수: 1824\n",
      "[INFO] 분류 작업 중.. (타겟 포스팅: 44/69 분류 된 문장 수: 1903\n",
      "[INFO] 분류 작업 중.. (타겟 포스팅: 45/69 분류 된 문장 수: 1922\n",
      "[INFO] 분류 작업 중.. (타겟 포스팅: 46/69 분류 된 문장 수: 1958\n",
      "[INFO] 분류 작업 중.. (타겟 포스팅: 47/69 분류 된 문장 수: 1980\n",
      "[INFO] 분류 작업 중.. (타겟 포스팅: 48/69 분류 된 문장 수: 2009\n",
      "[INFO] 분류 작업 중.. (타겟 포스팅: 49/69 분류 된 문장 수: 2070\n",
      "[INFO] 분류 작업 중.. (타겟 포스팅: 50/69 분류 된 문장 수: 2111\n",
      "[INFO] 분류 작업 중.. (타겟 포스팅: 51/69 분류 된 문장 수: 2190\n",
      "[INFO] 분류 작업 중.. (타겟 포스팅: 52/69 분류 된 문장 수: 2209\n",
      "[INFO] 분류 작업 중.. (타겟 포스팅: 53/69 분류 된 문장 수: 2245\n",
      "[INFO] 분류 작업 중.. (타겟 포스팅: 54/69 분류 된 문장 수: 2267\n",
      "[INFO] 분류 작업 중.. (타겟 포스팅: 55/69 분류 된 문장 수: 2296\n",
      "[INFO] 분류 작업 중.. (타겟 포스팅: 56/69 분류 된 문장 수: 2357\n",
      "[INFO] 분류 작업 중.. (타겟 포스팅: 57/69 분류 된 문장 수: 2398\n",
      "[INFO] 분류 작업 중.. (타겟 포스팅: 58/69 분류 된 문장 수: 2477\n",
      "[INFO] 분류 작업 중.. (타겟 포스팅: 59/69 분류 된 문장 수: 2496\n",
      "[INFO] 분류 작업 중.. (타겟 포스팅: 60/69 분류 된 문장 수: 2532\n",
      "[INFO] 분류 작업 중.. (타겟 포스팅: 61/69 분류 된 문장 수: 2554\n",
      "[INFO] 분류 작업 중.. (타겟 포스팅: 62/69 분류 된 문장 수: 2583\n",
      "[INFO] 분류 작업 중.. (타겟 포스팅: 63/69 분류 된 문장 수: 2644\n",
      "[INFO] 분류 작업 중.. (타겟 포스팅: 64/69 분류 된 문장 수: 2685\n",
      "[INFO] 분류 작업 중.. (타겟 포스팅: 65/69 분류 된 문장 수: 2764\n",
      "[INFO] 분류 작업 중.. (타겟 포스팅: 66/69 분류 된 문장 수: 2783\n",
      "[INFO] 분류 작업 중.. (타겟 포스팅: 67/69 분류 된 문장 수: 2819\n",
      "[INFO] 분류 작업 중.. (타겟 포스팅: 68/69 분류 된 문장 수: 2841\n",
      "[INFO] 분류 작업 중.. (타겟 포스팅: 69/69 분류 된 문장 수: 2870\n"
     ]
    }
   ],
   "source": [
    "for i in range(1, len(posts_info)):\n",
    "    x = get_posts(posts_info[i])\n",
    "    y = [x['label'] for x in senti_classifier(x)]\n",
    "    df_next = pd.DataFrame(data={'text': x, 'senti': y})\n",
    "    df = pd.concat([df, df_next])\n",
    "    print(f'[INFO] 분류 작업 중.. (타겟 포스팅: {i}/{len(posts_info)-1} 분류 된 문장 수: {len(df)}')"
   ]
  },
  {
   "cell_type": "code",
   "execution_count": 32,
   "id": "7456ef14-27ae-4c37-9723-5e34ca087d79",
   "metadata": {},
   "outputs": [
    {
     "data": {
      "text/html": [
       "<div>\n",
       "<style scoped>\n",
       "    .dataframe tbody tr th:only-of-type {\n",
       "        vertical-align: middle;\n",
       "    }\n",
       "\n",
       "    .dataframe tbody tr th {\n",
       "        vertical-align: top;\n",
       "    }\n",
       "\n",
       "    .dataframe thead th {\n",
       "        text-align: right;\n",
       "    }\n",
       "</style>\n",
       "<table border=\"1\" class=\"dataframe\">\n",
       "  <thead>\n",
       "    <tr style=\"text-align: right;\">\n",
       "      <th></th>\n",
       "      <th>text</th>\n",
       "      <th>senti</th>\n",
       "    </tr>\n",
       "  </thead>\n",
       "  <tbody>\n",
       "    <tr>\n",
       "      <th>0</th>\n",
       "      <td>요즘 주식시장 보면 마치 롤러코스터를 탄 듯한 종목들이 많습니다.</td>\n",
       "      <td>neutral</td>\n",
       "    </tr>\n",
       "    <tr>\n",
       "      <th>1</th>\n",
       "      <td>그중에서도 유난히 고공비행 중인 종목이 하나 있는데요, 바로 두산에너빌리티입니다.</td>\n",
       "      <td>neutral</td>\n",
       "    </tr>\n",
       "    <tr>\n",
       "      <th>2</th>\n",
       "      <td>이름부터 뭔가 거창한 이 기업, 최근 주가가 하늘 높은 줄 모르고 치솟고 있습니다.</td>\n",
       "      <td>neutral</td>\n",
       "    </tr>\n",
       "    <tr>\n",
       "      <th>3</th>\n",
       "      <td>도대체 무슨 일이 벌어지고 있는 걸까요?</td>\n",
       "      <td>neutral</td>\n",
       "    </tr>\n",
       "    <tr>\n",
       "      <th>4</th>\n",
       "      <td>주가는 거짓말을 안 한다?</td>\n",
       "      <td>neutral</td>\n",
       "    </tr>\n",
       "    <tr>\n",
       "      <th>...</th>\n",
       "      <td>...</td>\n",
       "      <td>...</td>\n",
       "    </tr>\n",
       "    <tr>\n",
       "      <th>2865</th>\n",
       "      <td>마치며..</td>\n",
       "      <td>neutral</td>\n",
       "    </tr>\n",
       "    <tr>\n",
       "      <th>2866</th>\n",
       "      <td>지금 이 시점에서의 엔비디아 실적 발표는 단순한 기업 보고가 아니라, AI 산업 전...</td>\n",
       "      <td>neutral</td>\n",
       "    </tr>\n",
       "    <tr>\n",
       "      <th>2867</th>\n",
       "      <td>어떤 숫자가 나올지, 그리고 시장은 어떻게 반응할지에 따라, 다음 투자 전략도 크게...</td>\n",
       "      <td>neutral</td>\n",
       "    </tr>\n",
       "    <tr>\n",
       "      <th>2868</th>\n",
       "      <td>따라서 너무 짧은 시야로 보기보단, 변동성을 활용한 분할 매수 전략과 함께 중장기적...</td>\n",
       "      <td>neutral</td>\n",
       "    </tr>\n",
       "    <tr>\n",
       "      <th>2869</th>\n",
       "      <td>※ 본 글은 특정 종목에 대한 투자 권유가 아닌, 시장 정보와 투자자 관점에서의 흐...</td>\n",
       "      <td>neutral</td>\n",
       "    </tr>\n",
       "  </tbody>\n",
       "</table>\n",
       "<p>2870 rows × 2 columns</p>\n",
       "</div>"
      ],
      "text/plain": [
       "                                                   text    senti\n",
       "0                  요즘 주식시장 보면 마치 롤러코스터를 탄 듯한 종목들이 많습니다.  neutral\n",
       "1         그중에서도 유난히 고공비행 중인 종목이 하나 있는데요, 바로 두산에너빌리티입니다.  neutral\n",
       "2        이름부터 뭔가 거창한 이 기업, 최근 주가가 하늘 높은 줄 모르고 치솟고 있습니다.  neutral\n",
       "3                                도대체 무슨 일이 벌어지고 있는 걸까요?  neutral\n",
       "4                                        주가는 거짓말을 안 한다?  neutral\n",
       "...                                                 ...      ...\n",
       "2865                                              마치며..  neutral\n",
       "2866  지금 이 시점에서의 엔비디아 실적 발표는 단순한 기업 보고가 아니라, AI 산업 전...  neutral\n",
       "2867  어떤 숫자가 나올지, 그리고 시장은 어떻게 반응할지에 따라, 다음 투자 전략도 크게...  neutral\n",
       "2868  따라서 너무 짧은 시야로 보기보단, 변동성을 활용한 분할 매수 전략과 함께 중장기적...  neutral\n",
       "2869  ※ 본 글은 특정 종목에 대한 투자 권유가 아닌, 시장 정보와 투자자 관점에서의 흐...  neutral\n",
       "\n",
       "[2870 rows x 2 columns]"
      ]
     },
     "execution_count": 32,
     "metadata": {},
     "output_type": "execute_result"
    }
   ],
   "source": [
    "df = df.reset_index(drop=True)\n",
    "df"
   ]
  },
  {
   "cell_type": "markdown",
   "id": "5b7dbace-a425-4417-9dc1-c355f10b5e67",
   "metadata": {},
   "source": [
    "#### 3-5. 결과"
   ]
  },
  {
   "attachments": {},
   "cell_type": "markdown",
   "id": "d1007425-c39e-4f24-ba84-76f389b6e335",
   "metadata": {
    "jp-MarkdownHeadingCollapsed": true
   },
   "source": [
    "<p>결과는 중립 73%, 긍정 18%, 부정 8%로 현재 불안정한 시장 상황을 충분히 반영하고 있다.</p>\n",
    "<p>사실, 이는 해석하기 나름이다. '여전히 긍정적인 전망을 하는 사람들이 더 많기 때문에 아직 바닥이 아니다'라고 할 수도 있고, '이제 바닥을 찍고 상승하려는 움직임이 보인다'라고 할 수도 있다.</p>\n",
    "<p>따라서 이렇게 하나의 지표나 결과를 보고 전체 주식시장을 판단하는 것은 무리가 있겠지만 이러한 비율을 매주 추적하며 시계열로 분석한다면 더 유의미한 추세적 지표로 활용할 수 있을 것이다.</p>"
   ]
  },
  {
   "cell_type": "code",
   "execution_count": null,
   "id": "5569054e-f80e-4a3c-b6d8-1115bbd8222a",
   "metadata": {},
   "outputs": [],
   "source": [
    "<p>출처: https://songseungwon.tistory.com/125 [관성을 이기는 데이터:티스토리]</p>"
   ]
  }
 ],
 "metadata": {
  "kernelspec": {
   "display_name": "finance",
   "language": "python",
   "name": "finance"
  },
  "language_info": {
   "codemirror_mode": {
    "name": "ipython",
    "version": 3
   },
   "file_extension": ".py",
   "mimetype": "text/x-python",
   "name": "python",
   "nbconvert_exporter": "python",
   "pygments_lexer": "ipython3",
   "version": "3.11.2"
  }
 },
 "nbformat": 4,
 "nbformat_minor": 5
}
