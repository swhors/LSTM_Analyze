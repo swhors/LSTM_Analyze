{
 "cells": [
  {
   "cell_type": "markdown",
   "id": "72a683c5-f43d-45d8-9f17-119297bf4679",
   "metadata": {},
   "source": [
    "## 01. SNA 분석 이해 "
   ]
  },
  {
   "cell_type": "markdown",
   "id": "123f5786-a4e7-4bcf-8c9c-22dde33de337",
   "metadata": {},
   "source": [
    "---"
   ]
  },
  {
   "cell_type": "markdown",
   "id": "6bed41af-bc55-4d65-826b-6f41cc97a79f",
   "metadata": {},
   "source": [
    "### 1-1. 정보 확산과 소셜 네트워크 분석(SNA)의 이해\n",
    "\n",
    "- 정보의 홍수 시대에 사용자들은 정보를 선별적으로 소비하기 때문에, 모든 정보가 자연스럽게 대규모로 확산되기는 어렵다.\n",
    "- 하지만 소셜 네트워크와 같은 복잡계 네트워크(complex network)에서는 정보 확산에 특정한 임계점(tipping point) 이 존재함을 알 수 있다. 이 임계점을 넘어서면, 정보는 급격하게 광범위한 영역으로 퍼져나가며 대규모 확산(mass diffusion) 현상이 발생한다.\n",
    "- SNS를 활용한 소셜 마케팅은 이러한 특성을 이용하여, 소수의 영향력 있는 사용자(influencer) 를 통해 적은 비용으로 최대의 확산 효과 를 거두는 것을 목표로 한다.\n",
    "- SNS에서 영향력이 있는 사용자는 일반적으로 많은 직접 연결(노드 연결 수, degree) 을 가진 사람으로 인식되지만, 실제로는 단순한 연결 수만으로는 영향력을 정확히 설명하기 어렵다.\n",
    "- 이러한 배경에서, 노드 간의 관계 구조와 네트워크 전체의 확산 특성을 정량적으로 분석하기 위한 방법이 바로 소셜 네트워크 분석(Social Network Analysis, SNA) 이다.\n",
    "- 특히 SNS의 정보 확산, 글로벌 허브 공항 간 연결, 통신망 구조와 같은 네트워크는 정규분포(normal distribution) 가 아닌, 멱함수 분포(power-law distribution) 를 따른다.\n",
    "- 소셜 네트워크 분석은 이러한 비정규적이고 복잡한 구조를 가진 네트워크를 분석하고 정보 전달의 핵심 노드를 식별하며, 효율적인 확산 전략을 수립하는 데 필요한 도구를 제공한다.\n",
    "\n",
    "<img src=\"img/sns_01_01.png\" />"
   ]
  },
  {
   "cell_type": "markdown",
   "id": "65bffe9a-969f-46cf-af21-d8f7673d8625",
   "metadata": {},
   "source": [
    "### 1-2. 소셜 네트워크 분석(SNA)의 등장과 발전\n",
    "\n",
    "- 인간은 혈연관계, 언어, 교류, 갈등, 협력 등에 의해 형성된 소셜 네트워크를 통해 살아왔고 소셜 네트워크를 통해 다른 사람들과 연결된다. 즉 소셜 네트워크는 직·간접적으로 다른 사람들이나 단체, 물건 등과 상호작용할 때 형성된다. 소셜 네트워크 분석은 수학 그래프 이론의 개념을 바탕으로 한다.\n",
    "- 소셜 네트워크 분석(Social Network Analysis, SNA)은 루마니아 출신 Jacob Levy Moreno(정신과 의사이자 심리학자)에 의해 처음 개발되었다.\n",
    "- 모레노는 1934년 저서 \"Who Shall Survive?(누가 살아남을 것인가?)\"에서 네트워크 다이어그램(소시오그램, sociogram) 이라는 새로운 시각화 방법을 소개하였다.\n",
    "\n",
    "```\n",
    "\"Who Shall Survive?\"에 등장하는 소시오그램은, 뉴욕 주 허드슨 학교(Hudson School for Girls)에 수용된 가출 소녀들(runaway girls) 간의 관계망을 분석하여, 소녀들이 가출하는 이유가 단순한 개인 문제 때문이 아니라 관계망에서 밀려나고 고립된 결과 였음을 보여주었다.\n",
    "또한, 모레노는 초등학교 3학년 학생들(19명 남학생과 14명 여학생) 을 대상으로 서로 '함께 앉고 싶은 친구'를 2명씩 선택하게 한 후, 그 선택 결과를 소시오그램으로 시각화하였다.\n",
    "그는 이 연구를 통해 사회적 유대(social bonds) 와 집단 구조(group structure) 가 어떻게 형성되고 진화하는지를 시각적으로 표현하였다.\n",
    "```\n",
    "                \n",
    "<img src=\"img/Who_Shall_Survive.png\" />"
   ]
  },
  {
   "cell_type": "markdown",
   "id": "476281d5-7188-468c-9266-762ff35deaba",
   "metadata": {},
   "source": [
    "### 1-3. 소셜 네트워크 분석의 4가지 구성 요소\n",
    "\n",
    "초기 사회심리학자들(Paul Lazarsfeld, Helen Hall Jennings, Gardner Murphy)과 함께한 논의된 내용을 기반으로 소셜 네트워크 분석(Social Network Analysis, SNA) 을 구성하는 4가지 요소는 아래와 같이 정리된다.\n",
    "\n",
    "|구성 요소| \t정의 및 설명|\n",
    "|--|--|\n",
    "|1. 구조적 사고 (Structural Intuition)|사회를 개인의 속성(attribute)의 집합이 아니라 개인들 간 관계구조(pattern)로 이해하려는 사고 방식. \"누구인가\"보다는 \"누구와 연결되었는가\"가 더 중요하다는 인식으로 개인은 독립적 존재가 아니라 관계망 속의 위치에 의해 제약되고 기회가 결정된다.|\n",
    "|2. 체계적인 관계 데이터 (Systematic Relational Data)|개인의 특성만 수집하는 것이 아니라 개인의 관계성을 데이터로 수집하는 방식. 예를 들어 친구 목록, 동료 추천, 정보 흐름 지도와 같은 관계 데이터는 1:1 대응이 아닌 1:다수, 다수:다수 관계를 형성한다.|\n",
    "|3. 시각화 (Graphic Imagery)|소시오그램(sociogram) 과 같은 도구를 사용해 사람들 간의 연결망을 시각적으로 표현. 복잡한 관계를 한 눈에 이해할 수 있으며 네트워크 구조를 직관적으로 파악할 수 있게 해 준다.|\n",
    "|4. 수학적 또는 계산 모델 (Mathematical/Computational Models)|관계 데이터를 기반으로 행렬, 그래프 이론, 알고리즘을 통해 네트워크를 정량적으로 분석하는 방식. 노드 중심성(centrality), 군집성(clustering), 경로(path) 등을 분석에 활용한다.|\n",
    "\n",
    "- 소셜 네트워크 분석은 정규분포를 따르지 않는 복잡한 세상을 이해하기 위해 발전해 왔으며, 현재는 교유관계에서의 따돌림, 교통체증, 바이러스 확산, 테러 조직의 핵심 인물 분석, 보험 사기단 적발, 인플루언서 마케팅 등 다양한 분야에 적용되고 있다.\n",
    "- 소셜 네트워크는 사람의 '개인적 특성'보다는 그를 둘러싼 관계 패턴에 초점을 두고 설명한다. 개인이 '어떤 특성을 지녔는가' 보다는 '누구를 아는가'가 더욱 중요하게 인식되며 네트워크 분석은 중요한 사람이나 그룹 간 연결망을 시각적 및 수학적으로 보여준다.\n",
    "- 즉 친구들 간의 관계나 친구 그룹 간에서 Gatekeeper 나 Bridge 역할을 담당하는 사람이 누구인지, 얼마나 영향력이 있는지를 파악할 수 있으며 이를 통해 직관적으로 볼 수 없는 관계망이 가진 패턴을 분석할 수 있다."
   ]
  },
  {
   "cell_type": "markdown",
   "id": "81e127c3-fc87-46b0-8ab2-14075c4a6499",
   "metadata": {},
   "source": [
    "### 1-4. SNA 기본 개념 이해\n",
    "\n",
    "- 소셜 네트워크는 사람의 특성(attribute)보다는 개인을 둘러싼 관계들의 패턴으로 설명하는 데 초점을 둔다. 따라서 SNA는 개인을 '어떻게 아는가' 보다는 '누구를 아는가'를 더 중요하게 다른다.\n",
    "```\n",
    "- 네트워크 = Node(노드) × Edge(엣지)\n",
    "```\n",
    "\n",
    "네트워크 분석을 위해서는 먼저 노드(Node)와 링크(Edge)의 정의가 필요하다.\n",
    "```\n",
    "- Node(노드) : Vertex(꼭지점), Agent, Entity, Item (네트워크를 구성하는 개별 요소)\n",
    "- Edge(엣지) : Link, Tie, Connection, Relationship (노드 간의 관계를 나타냄\n",
    "```\n",
    "\n",
    "네트워크는 두 가지 유형으로 구분할 수 있다.\n",
    "```\n",
    "- 방향성이 있는 네트워크(Directed Network) : 관계에 방향이 있는 경우 (예: A → B)\n",
    "- 방향성이 없는 네트워크(Undirected Network) : 관계에 방향이 없는 경우 (예: A — B)\n",
    "```\n",
    "\n",
    "\n",
    "<p style='text-align: right'>마지막 편집일시 : 2025년 4월 29일 6:19 오후</p>"
   ]
  },
  {
   "cell_type": "code",
   "execution_count": null,
   "id": "04a41ce9-ed68-43a4-afc6-284110a38742",
   "metadata": {},
   "outputs": [],
   "source": []
  }
 ],
 "metadata": {
  "kernelspec": {
   "display_name": "finance",
   "language": "python",
   "name": "finance"
  },
  "language_info": {
   "codemirror_mode": {
    "name": "ipython",
    "version": 3
   },
   "file_extension": ".py",
   "mimetype": "text/x-python",
   "name": "python",
   "nbconvert_exporter": "python",
   "pygments_lexer": "ipython3",
   "version": "3.11.2"
  }
 },
 "nbformat": 4,
 "nbformat_minor": 5
}
