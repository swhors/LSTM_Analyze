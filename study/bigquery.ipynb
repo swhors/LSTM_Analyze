{
 "cells": [
  {
   "cell_type": "code",
   "execution_count": null,
   "id": "0f2a0364-0a9e-4449-94b2-75e6ec33c37f",
   "metadata": {},
   "outputs": [],
   "source": [
    "!bigquery\n",
    "(\n",
    "SELECT\n",
    "  t1.menu_id,\n",
    "  t1.item_name,\n",
    "  SUM(t2.item_total) AS total_revenue\n",
    "FROM\n",
    "  `qwiklabs-gcp-04-181fac63a800`.coffee_on_wheels.menu AS t1\n",
    "  INNER JOIN\n",
    "  `qwiklabs-gcp-04-181fac63a800`.coffee_on_wheels.order_item AS t2\n",
    "  ON t1.menu_id = t2.menu_id\n",
    "GROUP BY 1, 2\n",
    "ORDER BY total_revenue DESC\n",
    "LIMIT 3) UNION ALL(\n",
    "SELECT\n",
    "  t1.menu_id,\n",
    "  t1.item_name,\n",
    "  SUM(t2.item_total) AS total_revenue\n",
    "FROM\n",
    "  `qwiklabs-gcp-04-181fac63a800`.coffee_on_wheels.menu AS t1\n",
    "  INNER JOIN\n",
    "  `qwiklabs-gcp-04-181fac63a800`.coffee_on_wheels.order_item AS t2\n",
    "  ON t1.menu_id = t2.menu_id\n",
    "GROUP BY 1, 2\n",
    "ORDER BY total_revenue\n",
    "LIMIT 3);\n"
   ]
  }
 ],
 "metadata": {
  "kernelspec": {
   "display_name": "clearml",
   "language": "python",
   "name": "clearml"
  },
  "language_info": {
   "codemirror_mode": {
    "name": "ipython",
    "version": 3
   },
   "file_extension": ".py",
   "mimetype": "text/x-python",
   "name": "python",
   "nbconvert_exporter": "python",
   "pygments_lexer": "ipython3",
   "version": "3.12.7"
  }
 },
 "nbformat": 4,
 "nbformat_minor": 5
}
