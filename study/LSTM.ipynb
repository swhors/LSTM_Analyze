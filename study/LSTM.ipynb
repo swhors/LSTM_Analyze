{
 "cells": [
  {
   "cell_type": "markdown",
   "id": "15d9b9b8-82fc-430e-a478-0017845d9bc7",
   "metadata": {},
   "source": [
    "### Args\n",
    "\n",
    "|args|Description|\n",
    "|--|--|\n",
    "|units|Positive integer, dimensionality of the output space.|\n",
    "|activation|Activation function to use. Default: hyperbolic tangent (tanh). If you pass None, no activation is applied (ie. \"linear\" activation: a(x) = x).|\n",
    "|recurrent_activation|Activation function to use for the recurrent step. Default: sigmoid (sigmoid). If you pass None, no activation is applied (ie. \"linear\" activation: a(x) = x).|\n",
    "|use_bias|Boolean, (default True), whether the layer should use a bias vector.|\n",
    "|kernel_initializer|Initializer for the kernel weights matrix, used for the linear transformation of the inputs. Default: \"glorot_uniform\".+\n",
    "|recurrent_initializer|Initializer for the recurrent_kernel weights matrix, used for the linear transformation of the recurrent state. Default: \"orthogonal\".|\n",
    "|bias_initializer|Initializer for the bias vector. Default: \"zeros\".|\n",
    "|unit_forget_bias|Boolean (default True). If True, add 1 to the bias of the forget gate at initialization. Setting it to True will also force bias_initializer=\"zeros\". This is recommended in Jozefowicz et al.|\n",
    "|kernel_regularizer|Regularizer function applied to the kernel weights matrix. Default: None.|\n",
    "|recurrent_regularizer|Regularizer function applied to the recurrent_kernel weights matrix. Default: None.|\n",
    "|bias_regularizer|Regularizer function applied to the bias vector. Default: None.|\n",
    "|activity_regularizer|Regularizer function applied to the output of the layer (its \"activation\"). Default: None.|\n",
    "|kernel_constraint|Constraint function applied to the kernel weights matrix. Default: None.|\n",
    "|recurrent_constraint|Constraint function applied to the recurrent_kernel weights matrix. Default: None.|\n",
    "|bias_constraint|Constraint function applied to the bias vector. Default: None.|\n",
    "|dropout|Float between 0 and 1. Fraction of the units to drop for the linear transformation of the inputs. Default: 0.|\n",
    "|recurrent_dropout|Float between 0 and 1. Fraction of the units to drop for the linear transformation of the recurrent state. Default: 0.|\n",
    "|seed|Random seed for dropout.|\n",
    "|return_sequences|Boolean. Whether to return the last output in the output sequence, or the full sequence. Default: False.|\n",
    "|return_state|Boolean. Whether to return the last state in addition to the output. Default: False.|\n",
    "|go_backwards|Boolean (default: False). If True, process the input sequence backwards and return the reversed sequence.|\n",
    "|stateful|Boolean (default: False). If True, the last state for each sample at index i in a batch will be used as initial state for the sample of index i in the following batch.|\n",
    "|unroll|Boolean (default False). If True, the network will be unrolled, else a symbolic loop will be used. Unrolling can speed-up a RNN, although it tends to be more memory-intensive. Unrolling is only suitable for short sequences.|\n",
    "|use_cudnn|Whether to use a cuDNN-backed implementation. \"auto\" will attempt to use cuDNN when feasible, and will fallback to the default implementation if not.|\n",
    "\n"
   ]
  },
  {
   "cell_type": "markdown",
   "id": "adf6650e-9dd2-4752-9780-e01216c0ad02",
   "metadata": {},
   "source": [
    "### Call arguments\n",
    "\n",
    "|args|Description|\n",
    "|--|--|\n",
    "|inputs|A 3D tensor, with shape (batch, timesteps, feature).|\n",
    "|mask|Binary tensor of shape (samples, timesteps) indicating whether a given timestep should be masked (optional). An individual True entry indicates that the corresponding timestep should be utilized, while a False entry indicates that the corresponding timestep should be ignored. Defaults to None.|\n",
    "|training|Python boolean indicating whether the layer should behave in training mode or in inference mode. This argument is passed to the cell when calling it. This is only relevant if dropout or recurrent_dropout is used (optional). Defaults to None.|\n",
    "|initial_state|List of initial state tensors to be passed to the first call of the cell (optional, None causes creation of zero-filled initial state tensors). Defaults to None.|"
   ]
  },
  {
   "cell_type": "markdown",
   "id": "54acacd5-3d0e-4a81-9cbf-dfbf6e4a6e63",
   "metadata": {},
   "source": [
    "### Attributes\n",
    "\n",
    "|Attributes|Description|\n",
    "|--|--|\n",
    "|activation||\n",
    "|bias_constraint||\n",
    "|bias_initializer||\n",
    "|bias_regularizer||\n",
    "|dropout||\n",
    "|input|Retrieves the input tensor(s) of a symbolic operation. Only returns the tensor(s) corresponding to the first time the operation was called.|\n",
    "|kernel_constraint||\n",
    "|kernel_initializer||\t\n",
    "|kernel_regularizer||\n",
    "|output|Retrieves the output tensor(s) of a layer. Only returns the tensor(s) corresponding to the first time the operation was called.|\n",
    "|recurrent_activation||\n",
    "|recurrent_constraint||\n",
    "|recurrent_dropout||\n",
    "|recurrent_initializer||\n",
    "|recurrent_regularizer||\n",
    "|unit_forget_bias||\n",
    "|units||\n",
    "|use_bias||"
   ]
  },
  {
   "cell_type": "code",
   "execution_count": null,
   "id": "c5489bf3-ae3a-4aef-9104-6fd4e5237a88",
   "metadata": {},
   "outputs": [],
   "source": []
  }
 ],
 "metadata": {
  "kernelspec": {
   "display_name": "Python 3 (ipykernel)",
   "language": "python",
   "name": "python3"
  },
  "language_info": {
   "codemirror_mode": {
    "name": "ipython",
    "version": 3
   },
   "file_extension": ".py",
   "mimetype": "text/x-python",
   "name": "python",
   "nbconvert_exporter": "python",
   "pygments_lexer": "ipython3",
   "version": "3.12.10"
  }
 },
 "nbformat": 4,
 "nbformat_minor": 5
}
