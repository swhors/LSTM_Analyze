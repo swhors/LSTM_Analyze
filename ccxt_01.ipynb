{
 "cells": [
  {
   "cell_type": "markdown",
   "id": "83f88e06-666e-4470-b9bf-b008a148b094",
   "metadata": {},
   "source": [
    "# Get Coin Info"
   ]
  },
  {
   "cell_type": "code",
   "execution_count": 1,
   "id": "f73a2668-2166-4bc6-98c6-7a71d76ddef2",
   "metadata": {},
   "outputs": [
    {
     "name": "stdout",
     "output_type": "stream",
     "text": [
      "Looking in indexes: https://pypi.org/simple, https://www.piwheels.org/simple\n",
      "Collecting ccxt\n",
      "  Downloading ccxt-4.4.85-py2.py3-none-any.whl (5.7 MB)\n",
      "\u001b[2K     \u001b[90m━━━━━━━━━━━━━━━━━━━━━━━━━━━━━━━━━━━━━━━━\u001b[0m \u001b[32m5.7/5.7 MB\u001b[0m \u001b[31m9.8 MB/s\u001b[0m eta \u001b[36m0:00:00\u001b[0m:00:01\u001b[0m00:01\u001b[0m\n",
      "\u001b[?25hRequirement already satisfied: setuptools>=60.9.0 in /home/swhors/jupyter-workspace/finance/venv/lib/python3.11/site-packages (from ccxt) (66.1.1)\n",
      "Requirement already satisfied: certifi>=2018.1.18 in /home/swhors/jupyter-workspace/finance/venv/lib/python3.11/site-packages (from ccxt) (2025.1.31)\n",
      "Requirement already satisfied: requests>=2.18.4 in /home/swhors/jupyter-workspace/finance/venv/lib/python3.11/site-packages (from ccxt) (2.32.3)\n",
      "Collecting cryptography>=2.6.1\n",
      "  Downloading cryptography-45.0.2-cp311-abi3-manylinux_2_34_aarch64.whl (4.2 MB)\n",
      "\u001b[2K     \u001b[90m━━━━━━━━━━━━━━━━━━━━━━━━━━━━━━━━━━━━━━━━\u001b[0m \u001b[32m4.2/4.2 MB\u001b[0m \u001b[31m12.4 MB/s\u001b[0m eta \u001b[36m0:00:00\u001b[0m00:01\u001b[0m00:01\u001b[0m\n",
      "\u001b[?25hRequirement already satisfied: typing-extensions>=4.4.0 in /home/swhors/jupyter-workspace/finance/venv/lib/python3.11/site-packages (from ccxt) (4.12.2)\n",
      "Collecting aiohttp>=3.10.11\n",
      "  Downloading aiohttp-3.12.0-cp311-cp311-manylinux_2_17_aarch64.manylinux2014_aarch64.whl (1.7 MB)\n",
      "\u001b[2K     \u001b[90m━━━━━━━━━━━━━━━━━━━━━━━━━━━━━━━━━━━━━━━━\u001b[0m \u001b[32m1.7/1.7 MB\u001b[0m \u001b[31m11.2 MB/s\u001b[0m eta \u001b[36m0:00:00\u001b[0m00:01\u001b[0m00:01\u001b[0m\n",
      "\u001b[?25hCollecting aiodns>=1.1.1\n",
      "  Downloading aiodns-3.4.0-py3-none-any.whl (7.1 kB)\n",
      "Collecting yarl>=1.7.2\n",
      "  Using cached yarl-1.20.0-cp311-cp311-manylinux_2_17_aarch64.manylinux2014_aarch64.whl (355 kB)\n",
      "Collecting pycares>=4.0.0\n",
      "  Downloading pycares-4.8.0-cp311-cp311-manylinux_2_17_aarch64.manylinux2014_aarch64.whl (625 kB)\n",
      "\u001b[2K     \u001b[90m━━━━━━━━━━━━━━━━━━━━━━━━━━━━━━━━━━━━━━\u001b[0m \u001b[32m625.5/625.5 kB\u001b[0m \u001b[31m10.2 MB/s\u001b[0m eta \u001b[36m0:00:00\u001b[0ma \u001b[36m0:00:01\u001b[0m\n",
      "\u001b[?25hCollecting aiohappyeyeballs>=2.5.0\n",
      "  Using cached https://www.piwheels.org/simple/aiohappyeyeballs/aiohappyeyeballs-2.6.1-py3-none-any.whl (15 kB)\n",
      "Collecting aiosignal>=1.1.2\n",
      "  Using cached https://www.piwheels.org/simple/aiosignal/aiosignal-1.3.2-py2.py3-none-any.whl (7.6 kB)\n",
      "Requirement already satisfied: attrs>=17.3.0 in /home/swhors/jupyter-workspace/finance/venv/lib/python3.11/site-packages (from aiohttp>=3.10.11->ccxt) (23.2.0)\n",
      "Collecting frozenlist>=1.1.1\n",
      "  Using cached frozenlist-1.6.0-cp311-cp311-manylinux_2_17_aarch64.manylinux2014_aarch64.whl (314 kB)\n",
      "Collecting multidict<7.0,>=4.5\n",
      "  Downloading multidict-6.4.4-cp311-cp311-manylinux_2_17_aarch64.manylinux2014_aarch64.whl (226 kB)\n",
      "\u001b[2K     \u001b[90m━━━━━━━━━━━━━━━━━━━━━━━━━━━━━━━━━━━━━━━\u001b[0m \u001b[32m226.7/226.7 kB\u001b[0m \u001b[31m7.4 MB/s\u001b[0m eta \u001b[36m0:00:00\u001b[0m\n",
      "\u001b[?25hCollecting propcache>=0.2.0\n",
      "  Using cached propcache-0.3.1-cp311-cp311-manylinux_2_17_aarch64.manylinux2014_aarch64.whl (233 kB)\n",
      "Requirement already satisfied: cffi>=1.14 in /home/swhors/jupyter-workspace/finance/venv/lib/python3.11/site-packages (from cryptography>=2.6.1->ccxt) (1.17.1)\n",
      "Requirement already satisfied: charset-normalizer<4,>=2 in /home/swhors/jupyter-workspace/finance/venv/lib/python3.11/site-packages (from requests>=2.18.4->ccxt) (3.4.1)\n",
      "Requirement already satisfied: idna<4,>=2.5 in /home/swhors/jupyter-workspace/finance/venv/lib/python3.11/site-packages (from requests>=2.18.4->ccxt) (3.10)\n",
      "Requirement already satisfied: urllib3<3,>=1.21.1 in /home/swhors/jupyter-workspace/finance/venv/lib/python3.11/site-packages (from requests>=2.18.4->ccxt) (1.26.20)\n",
      "Requirement already satisfied: pycparser in /home/swhors/jupyter-workspace/finance/venv/lib/python3.11/site-packages (from cffi>=1.14->cryptography>=2.6.1->ccxt) (2.22)\n",
      "Installing collected packages: propcache, multidict, frozenlist, aiohappyeyeballs, yarl, pycares, cryptography, aiosignal, aiohttp, aiodns, ccxt\n",
      "Successfully installed aiodns-3.4.0 aiohappyeyeballs-2.6.1 aiohttp-3.12.0 aiosignal-1.3.2 ccxt-4.4.85 cryptography-45.0.2 frozenlist-1.6.0 multidict-6.4.4 propcache-0.3.1 pycares-4.8.0 yarl-1.20.0\n"
     ]
    }
   ],
   "source": [
    "!pip install ccxt"
   ]
  },
  {
   "cell_type": "code",
   "execution_count": 2,
   "id": "68d90b91-88e8-4915-bdbc-8a02bb2a251a",
   "metadata": {},
   "outputs": [
    {
     "name": "stdout",
     "output_type": "stream",
     "text": [
      "107830.69\n",
      "109506.03\n",
      "107206.0\n",
      "[[1748133600000, 107928.58, 107928.58, 107852.95, 107852.96, 9.19282], [1748133660000, 107852.95, 107852.95, 107717.0, 107717.01, 34.58407], [1748133720000, 107717.0, 107718.0, 107508.0, 107535.89, 71.44542], [1748133780000, 107535.89, 107535.9, 107306.16, 107418.03, 157.74955], [1748133840000, 107418.03, 107545.39, 107407.76, 107502.44, 38.50534], [1748133900000, 107502.45, 107502.45, 107303.96, 107381.16, 26.31443], [1748133960000, 107381.15, 107558.7, 107363.63, 107557.68, 35.49735], [1748134020000, 107557.67, 107628.0, 107557.67, 107616.87, 8.37031], [1748134080000, 107616.86, 107640.31, 107556.24, 107567.24, 18.52047], [1748134140000, 107567.24, 107626.41, 107525.61, 107525.61, 4.43497], [1748134200000, 107525.62, 107601.99, 107525.62, 107589.6, 13.91075], [1748134260000, 107589.6, 107610.76, 107522.03, 107522.04, 9.17985], [1748134320000, 107522.03, 107529.16, 107320.0, 107322.6, 22.14048], [1748134380000, 107322.59, 107430.98, 107286.28, 107430.97, 24.42971], [1748134440000, 107430.97, 107435.95, 107409.09, 107435.94, 4.33687], [1748134500000, 107435.95, 107440.0, 107289.99, 107331.71, 29.36727], [1748134560000, 107331.71, 107449.27, 107331.7, 107449.27, 10.34904], [1748134620000, 107449.26, 107449.27, 107404.11, 107404.11, 12.22931], [1748134680000, 107404.1, 107472.06, 107381.83, 107454.54, 31.60801], [1748134740000, 107454.54, 107454.54, 107363.63, 107443.9, 5.32188], [1748134800000, 107443.9, 107443.9, 107308.55, 107318.69, 25.28328], [1748134860000, 107319.99, 107319.99, 107250.03, 107286.01, 27.73697], [1748134920000, 107286.01, 107445.07, 107286.01, 107382.94, 19.09499], [1748134980000, 107382.94, 107578.6, 107380.95, 107565.47, 21.72043], [1748135040000, 107565.48, 107615.38, 107504.02, 107539.54, 29.27218], [1748135100000, 107539.55, 107540.0, 107400.0, 107402.0, 12.72236], [1748135160000, 107402.0, 107402.01, 107345.6, 107363.64, 22.29678], [1748135220000, 107363.63, 107399.91, 107318.18, 107389.26, 6.02188], [1748135280000, 107389.26, 107498.9, 107389.26, 107445.09, 23.3475], [1748135340000, 107445.09, 107500.0, 107438.04, 107454.54, 11.3697], [1748135400000, 107454.55, 107469.56, 107380.95, 107409.1, 7.85675], [1748135460000, 107409.1, 107440.11, 107383.95, 107409.1, 5.08117], [1748135520000, 107409.1, 107409.1, 107349.64, 107355.88, 6.53723], [1748135580000, 107355.87, 107401.96, 107340.0, 107378.62, 15.15736], [1748135640000, 107378.62, 107400.96, 107308.06, 107355.49, 9.85968], [1748135700000, 107355.48, 107355.48, 107206.0, 107246.67, 44.98825], [1748135760000, 107246.68, 107481.77, 107246.68, 107467.08, 24.25094], [1748135820000, 107467.09, 107467.09, 107314.4, 107379.76, 20.45526], [1748135880000, 107379.76, 107449.47, 107333.34, 107449.47, 9.04178], [1748135940000, 107449.47, 107639.98, 107422.69, 107638.2, 28.59949], [1748136000000, 107638.21, 107708.59, 107574.01, 107681.81, 13.06184], [1748136060000, 107681.82, 107684.19, 107636.36, 107684.19, 8.00706], [1748136120000, 107684.18, 107712.42, 107637.83, 107664.91, 5.87193], [1748136180000, 107664.91, 107750.0, 107664.9, 107750.0, 6.90397], [1748136240000, 107749.99, 107762.0, 107715.68, 107762.0, 7.33934], [1748136300000, 107761.99, 107788.85, 107687.42, 107723.03, 8.76138], [1748136360000, 107723.03, 107854.0, 107723.03, 107835.2, 13.53059], [1748136420000, 107835.2, 107854.0, 107823.7, 107823.71, 9.64249], [1748136480000, 107823.7, 107891.65, 107823.7, 107878.0, 16.79105], [1748136540000, 107878.0, 107896.0, 107841.91, 107872.5, 9.57577], [1748136600000, 107872.5, 107994.46, 107872.5, 107963.53, 24.47281], [1748136660000, 107963.54, 108007.29, 107952.38, 107952.39, 16.77459], [1748136720000, 107952.39, 107998.0, 107952.38, 107963.47, 13.97879], [1748136780000, 107963.48, 107963.48, 107864.07, 107864.07, 3.29258], [1748136840000, 107864.07, 107880.04, 107750.6, 107750.6, 7.17583], [1748136900000, 107750.61, 107750.61, 107727.27, 107736.53, 7.43639], [1748136960000, 107736.54, 107805.04, 107727.27, 107776.76, 8.88447], [1748137020000, 107776.76, 107867.88, 107776.75, 107867.88, 17.00043], [1748137080000, 107867.88, 107877.15, 107843.56, 107843.56, 5.73634], [1748137140000, 107843.56, 107863.64, 107830.68, 107830.69, 4.2801]]\n"
     ]
    }
   ],
   "source": [
    "        import ccxt\n",
    "        import time\n",
    "\n",
    "        # 거래소 객체 생성 (예: Binance 거래소)\n",
    "        exchange = ccxt.binance()\n",
    "\n",
    "        # 코인 시세 가져오기\n",
    "        ticker = exchange.fetch_ticker('BTC/USDT')\n",
    "\n",
    "        # 결과 출력\n",
    "        print(ticker['last'])  # 가장 최근 가격\n",
    "        print(ticker['high'])  # 24시간 최고가\n",
    "        print(ticker['low'])  # 24시간 최저가\n",
    "\n",
    "        # 1분봉 데이터 가져오기 (최대 500개까지)\n",
    "        ohlcv = exchange.fetch_ohlcv('BTC/USDT', timeframe='1m', since=int(time.time() * 1000) - 3600 * 1000) # 최근 1시간\n",
    "\n",
    "        # 1분봉 데이터 출력\n",
    "        print(ohlcv)"
   ]
  },
  {
   "cell_type": "code",
   "execution_count": 3,
   "id": "02edd9a1-7a5b-49ac-9e67-27a4e3089c5c",
   "metadata": {},
   "outputs": [
    {
     "name": "stdout",
     "output_type": "stream",
     "text": [
      "<class 'list'>\n"
     ]
    }
   ],
   "source": [
    "print(type(ohlcv))"
   ]
  },
  {
   "cell_type": "code",
   "execution_count": 4,
   "id": "4a550636-42b5-4ef0-92aa-4df746dd6592",
   "metadata": {},
   "outputs": [
    {
     "name": "stdout",
     "output_type": "stream",
     "text": [
      "Looking in indexes: https://pypi.org/simple, https://www.piwheels.org/simple\n",
      "Collecting pyupbit\n",
      "  Downloading pyupbit-0.2.34-py3-none-any.whl (24 kB)\n",
      "Requirement already satisfied: pyjwt>=2.0.0 in /home/swhors/jupyter-workspace/finance/venv/lib/python3.11/site-packages (from pyupbit) (2.8.0)\n",
      "Requirement already satisfied: pandas in /home/swhors/jupyter-workspace/finance/venv/lib/python3.11/site-packages (from pyupbit) (2.2.3)\n",
      "Requirement already satisfied: requests in /home/swhors/jupyter-workspace/finance/venv/lib/python3.11/site-packages (from pyupbit) (2.32.3)\n",
      "Requirement already satisfied: websockets in /home/swhors/jupyter-workspace/finance/venv/lib/python3.11/site-packages (from pyupbit) (15.0.1)\n",
      "Requirement already satisfied: numpy>=1.23.2 in /home/swhors/jupyter-workspace/finance/venv/lib/python3.11/site-packages (from pandas->pyupbit) (2.1.3)\n",
      "Requirement already satisfied: python-dateutil>=2.8.2 in /home/swhors/jupyter-workspace/finance/venv/lib/python3.11/site-packages (from pandas->pyupbit) (2.8.2)\n",
      "Requirement already satisfied: pytz>=2020.1 in /home/swhors/jupyter-workspace/finance/venv/lib/python3.11/site-packages (from pandas->pyupbit) (2025.2)\n",
      "Requirement already satisfied: tzdata>=2022.7 in /home/swhors/jupyter-workspace/finance/venv/lib/python3.11/site-packages (from pandas->pyupbit) (2025.2)\n",
      "Requirement already satisfied: charset-normalizer<4,>=2 in /home/swhors/jupyter-workspace/finance/venv/lib/python3.11/site-packages (from requests->pyupbit) (3.4.1)\n",
      "Requirement already satisfied: idna<4,>=2.5 in /home/swhors/jupyter-workspace/finance/venv/lib/python3.11/site-packages (from requests->pyupbit) (3.10)\n",
      "Requirement already satisfied: urllib3<3,>=1.21.1 in /home/swhors/jupyter-workspace/finance/venv/lib/python3.11/site-packages (from requests->pyupbit) (1.26.20)\n",
      "Requirement already satisfied: certifi>=2017.4.17 in /home/swhors/jupyter-workspace/finance/venv/lib/python3.11/site-packages (from requests->pyupbit) (2025.1.31)\n",
      "Requirement already satisfied: six>=1.5 in /home/swhors/jupyter-workspace/finance/venv/lib/python3.11/site-packages (from python-dateutil>=2.8.2->pandas->pyupbit) (1.17.0)\n",
      "Installing collected packages: pyupbit\n",
      "Successfully installed pyupbit-0.2.34\n"
     ]
    }
   ],
   "source": [
    "!pip install pyupbit"
   ]
  },
  {
   "cell_type": "code",
   "execution_count": 5,
   "id": "6eb064ea-ed82-43c4-80df-9f2f813f20bb",
   "metadata": {},
   "outputs": [],
   "source": [
    "import pyupbit"
   ]
  },
  {
   "cell_type": "code",
   "execution_count": 6,
   "id": "aac71dd9-302c-4337-bfed-cedbcfed32c9",
   "metadata": {},
   "outputs": [
    {
     "data": {
      "text/plain": [
       "{'KRW-BTC': 151140000.0, 'KRW-ETH': 3509000.0}"
      ]
     },
     "execution_count": 6,
     "metadata": {},
     "output_type": "execute_result"
    }
   ],
   "source": [
    "pyupbit.get_current_price([\"KRW-BTC\", \"KRW-ETH\"])"
   ]
  },
  {
   "cell_type": "code",
   "execution_count": 7,
   "id": "b0d1029a-c69d-43f9-8dd5-37735c21e55d",
   "metadata": {},
   "outputs": [
    {
     "data": {
      "text/html": [
       "<div>\n",
       "<style scoped>\n",
       "    .dataframe tbody tr th:only-of-type {\n",
       "        vertical-align: middle;\n",
       "    }\n",
       "\n",
       "    .dataframe tbody tr th {\n",
       "        vertical-align: top;\n",
       "    }\n",
       "\n",
       "    .dataframe thead th {\n",
       "        text-align: right;\n",
       "    }\n",
       "</style>\n",
       "<table border=\"1\" class=\"dataframe\">\n",
       "  <thead>\n",
       "    <tr style=\"text-align: right;\">\n",
       "      <th></th>\n",
       "      <th>open</th>\n",
       "      <th>high</th>\n",
       "      <th>low</th>\n",
       "      <th>close</th>\n",
       "      <th>volume</th>\n",
       "      <th>value</th>\n",
       "    </tr>\n",
       "  </thead>\n",
       "  <tbody>\n",
       "    <tr>\n",
       "      <th>2024-01-01 20:10:00</th>\n",
       "      <td>57389000.0</td>\n",
       "      <td>57391000.0</td>\n",
       "      <td>57375000.0</td>\n",
       "      <td>57375000.0</td>\n",
       "      <td>1.810154</td>\n",
       "      <td>1.038623e+08</td>\n",
       "    </tr>\n",
       "    <tr>\n",
       "      <th>2024-01-01 20:11:00</th>\n",
       "      <td>57391000.0</td>\n",
       "      <td>57393000.0</td>\n",
       "      <td>57374000.0</td>\n",
       "      <td>57391000.0</td>\n",
       "      <td>1.333830</td>\n",
       "      <td>7.654417e+07</td>\n",
       "    </tr>\n",
       "    <tr>\n",
       "      <th>2024-01-01 20:12:00</th>\n",
       "      <td>57377000.0</td>\n",
       "      <td>57391000.0</td>\n",
       "      <td>57377000.0</td>\n",
       "      <td>57377000.0</td>\n",
       "      <td>2.194568</td>\n",
       "      <td>1.259192e+08</td>\n",
       "    </tr>\n",
       "    <tr>\n",
       "      <th>2024-01-01 20:13:00</th>\n",
       "      <td>57377000.0</td>\n",
       "      <td>57387000.0</td>\n",
       "      <td>57365000.0</td>\n",
       "      <td>57370000.0</td>\n",
       "      <td>1.969748</td>\n",
       "      <td>1.130076e+08</td>\n",
       "    </tr>\n",
       "    <tr>\n",
       "      <th>2024-01-01 20:14:00</th>\n",
       "      <td>57370000.0</td>\n",
       "      <td>57393000.0</td>\n",
       "      <td>57364000.0</td>\n",
       "      <td>57367000.0</td>\n",
       "      <td>1.630349</td>\n",
       "      <td>9.354849e+07</td>\n",
       "    </tr>\n",
       "    <tr>\n",
       "      <th>2024-01-01 20:15:00</th>\n",
       "      <td>57367000.0</td>\n",
       "      <td>57371000.0</td>\n",
       "      <td>57351000.0</td>\n",
       "      <td>57351000.0</td>\n",
       "      <td>2.770933</td>\n",
       "      <td>1.589565e+08</td>\n",
       "    </tr>\n",
       "    <tr>\n",
       "      <th>2024-01-01 20:16:00</th>\n",
       "      <td>57371000.0</td>\n",
       "      <td>57371000.0</td>\n",
       "      <td>57347000.0</td>\n",
       "      <td>57347000.0</td>\n",
       "      <td>1.977734</td>\n",
       "      <td>1.134268e+08</td>\n",
       "    </tr>\n",
       "    <tr>\n",
       "      <th>2024-01-01 20:17:00</th>\n",
       "      <td>57348000.0</td>\n",
       "      <td>57348000.0</td>\n",
       "      <td>57347000.0</td>\n",
       "      <td>57348000.0</td>\n",
       "      <td>0.848960</td>\n",
       "      <td>4.868565e+07</td>\n",
       "    </tr>\n",
       "    <tr>\n",
       "      <th>2024-01-01 20:18:00</th>\n",
       "      <td>57348000.0</td>\n",
       "      <td>57371000.0</td>\n",
       "      <td>57348000.0</td>\n",
       "      <td>57368000.0</td>\n",
       "      <td>2.783171</td>\n",
       "      <td>1.596204e+08</td>\n",
       "    </tr>\n",
       "    <tr>\n",
       "      <th>2024-01-01 20:19:00</th>\n",
       "      <td>57368000.0</td>\n",
       "      <td>57381000.0</td>\n",
       "      <td>57367000.0</td>\n",
       "      <td>57381000.0</td>\n",
       "      <td>0.746669</td>\n",
       "      <td>4.283987e+07</td>\n",
       "    </tr>\n",
       "  </tbody>\n",
       "</table>\n",
       "</div>"
      ],
      "text/plain": [
       "                           open        high         low       close    volume  \\\n",
       "2024-01-01 20:10:00  57389000.0  57391000.0  57375000.0  57375000.0  1.810154   \n",
       "2024-01-01 20:11:00  57391000.0  57393000.0  57374000.0  57391000.0  1.333830   \n",
       "2024-01-01 20:12:00  57377000.0  57391000.0  57377000.0  57377000.0  2.194568   \n",
       "2024-01-01 20:13:00  57377000.0  57387000.0  57365000.0  57370000.0  1.969748   \n",
       "2024-01-01 20:14:00  57370000.0  57393000.0  57364000.0  57367000.0  1.630349   \n",
       "2024-01-01 20:15:00  57367000.0  57371000.0  57351000.0  57351000.0  2.770933   \n",
       "2024-01-01 20:16:00  57371000.0  57371000.0  57347000.0  57347000.0  1.977734   \n",
       "2024-01-01 20:17:00  57348000.0  57348000.0  57347000.0  57348000.0  0.848960   \n",
       "2024-01-01 20:18:00  57348000.0  57371000.0  57348000.0  57368000.0  2.783171   \n",
       "2024-01-01 20:19:00  57368000.0  57381000.0  57367000.0  57381000.0  0.746669   \n",
       "\n",
       "                            value  \n",
       "2024-01-01 20:10:00  1.038623e+08  \n",
       "2024-01-01 20:11:00  7.654417e+07  \n",
       "2024-01-01 20:12:00  1.259192e+08  \n",
       "2024-01-01 20:13:00  1.130076e+08  \n",
       "2024-01-01 20:14:00  9.354849e+07  \n",
       "2024-01-01 20:15:00  1.589565e+08  \n",
       "2024-01-01 20:16:00  1.134268e+08  \n",
       "2024-01-01 20:17:00  4.868565e+07  \n",
       "2024-01-01 20:18:00  1.596204e+08  \n",
       "2024-01-01 20:19:00  4.283987e+07  "
      ]
     },
     "execution_count": 7,
     "metadata": {},
     "output_type": "execute_result"
    }
   ],
   "source": [
    "ticker = 'KRW-BTC'\n",
    "interval = 'minute1'\n",
    "to = '2024-01-01 11:20'\n",
    "count = 10\n",
    "pyupbit.get_ohlcv(ticker=ticker,interval=interval,to=to,count=count)"
   ]
  },
  {
   "cell_type": "code",
   "execution_count": 8,
   "id": "bf427356-027c-4d3a-abf1-74e92c377a66",
   "metadata": {},
   "outputs": [
    {
     "name": "stdout",
     "output_type": "stream",
     "text": [
      "['KRW-BTC', 'KRW-ETH', 'BTC-ETH', 'BTC-XRP', 'BTC-ETC', 'BTC-CVC', 'BTC-DGB', 'BTC-SC', 'BTC-SNT', 'BTC-WAVES', 'BTC-NMR', 'BTC-XEM', 'BTC-QTUM', 'BTC-BAT', 'BTC-LSK', 'BTC-STEEM', 'BTC-DOGE', 'BTC-BNT', 'BTC-XLM', 'BTC-ARDR', 'BTC-ARK', 'BTC-STORJ', 'BTC-GRS', 'BTC-RLC', 'USDT-BTC', 'USDT-ETH', 'USDT-XRP', 'USDT-ETC', 'KRW-NEO', 'KRW-MTL', 'KRW-XRP', 'KRW-ETC', 'KRW-SNT', 'KRW-WAVES', 'KRW-XEM', 'KRW-QTUM', 'KRW-LSK', 'KRW-STEEM', 'KRW-XLM', 'KRW-ARDR', 'KRW-ARK', 'KRW-STORJ', 'KRW-GRS', 'KRW-ADA', 'BTC-ADA', 'BTC-MANA', 'KRW-POWR', 'BTC-POWR', 'USDT-ADA', 'BTC-DNT', 'BTC-ZRX', 'BTC-TRX', 'BTC-TUSD', 'BTC-LRC', 'KRW-ICX', 'KRW-EOS', 'USDT-TUSD', 'KRW-TRX', 'BTC-POLYX', 'USDT-SC', 'USDT-TRX', 'KRW-SC', 'KRW-ONT', 'KRW-ZIL', 'KRW-POLYX', 'KRW-ZRX', 'BTC-BCH', 'USDT-BCH', 'KRW-BCH', 'KRW-BAT', 'KRW-IOST', 'USDT-DGB', 'KRW-CVC', 'KRW-IQ', 'KRW-IOTA', 'BTC-RVN', 'BTC-GO', 'BTC-BOUNTY', 'BTC-ENJ', 'KRW-ONG', 'KRW-GAS', 'BTC-MTL', 'KRW-BOUNTY', 'KRW-ELF', 'USDT-DOGE', 'USDT-ZRX', 'USDT-RVN', 'USDT-BAT', 'KRW-KNC', 'BTC-MOC', 'BTC-ZIL', 'KRW-BSV', 'BTC-BSV', 'BTC-IOST', 'KRW-THETA', 'BTC-DENT', 'KRW-QKC', 'BTC-ELF', 'KRW-BTT', 'BTC-IOTX', 'BTC-NKN', 'BTC-META', 'KRW-MOC', 'BTC-ANKR', 'BTC-CRO', 'KRW-TFUEL', 'KRW-MANA', 'KRW-ANKR', 'BTC-ORBS', 'BTC-AERGO', 'KRW-AERGO', 'KRW-ATOM', 'KRW-TT', 'KRW-GAME2', 'BTC-ATOM', 'BTC-AWE', 'KRW-MBL', 'BTC-EOS', 'BTC-USDS', 'BTC-SKY', 'BTC-BORA', 'KRW-WAXP', 'BTC-WAXP', 'KRW-HBAR', 'KRW-MED', 'BTC-MED', 'BTC-MLK', 'KRW-MLK', 'KRW-AWE', 'BTC-VET', 'KRW-ORBS', 'BTC-CHZ', 'KRW-VET', 'BTC-PUNDIAI', 'BTC-OGN', 'KRW-CHZ', 'BTC-XTZ', 'BTC-HIVE', 'BTC-HBD', 'BTC-OBSR', 'BTC-DKA', 'KRW-STMX', 'BTC-STMX', 'BTC-AHT', 'KRW-DKA', 'BTC-LINK', 'KRW-HIVE', 'KRW-KAVA', 'BTC-KAVA', 'KRW-AHT', 'KRW-LINK', 'KRW-XTZ', 'KRW-BORA', 'BTC-JST', 'BTC-CHR', 'BTC-TOKAMAK', 'KRW-JST', 'BTC-CTSI', 'BTC-DOT', 'KRW-CRO', 'BTC-COMP', 'BTC-SXP', 'BTC-HUNT', 'KRW-TOKAMAK', 'BTC-LWA', 'BTC-CRV', 'BTC-ALGO', 'BTC-RSR', 'KRW-SXP', 'BTC-OXT', 'KRW-HUNT', 'BTC-SAND', 'BTC-SUN', 'KRW-DOT', 'BTC-QTCON', 'BTC-MVL', 'KRW-MVL', 'BTC-REI', 'BTC-AQT', 'BTC-AXS', 'BTC-STRAX', 'KRW-STRAX', 'KRW-AQT', 'BTC-GLM', 'KRW-GLM', 'BTC-FCT2', 'KRW-META', 'KRW-FCT2', 'BTC-FIL', 'BTC-UNI', 'BTC-INJ', 'BTC-PROM', 'BTC-VAL', 'BTC-PSG', 'BTC-JUV', 'BTC-CBK', 'KRW-CBK', 'BTC-BFC', 'BTC-HP', 'BTC-CELO', 'KRW-SAND', 'KRW-HP', 'BTC-IQ', 'BTC-STX', 'KRW-DOGE', 'BTC-NEAR', 'BTC-AUCTION', 'BTC-FLOW', 'BTC-STRIKE', 'KRW-STRIKE', 'BTC-PUNDIX', 'KRW-PUNDIX', 'KRW-FLOW', 'KRW-AXS', 'KRW-STX', 'BTC-GRT', 'BTC-SNX', 'BTC-USDP', 'KRW-XEC', 'KRW-SOL', 'BTC-SOL', 'KRW-POL', 'BTC-POL', 'KRW-AAVE', 'KRW-1INCH', 'BTC-AAVE', 'BTC-1INCH', 'BTC-MASK', 'KRW-ALGO', 'BTC-AUDIO', 'KRW-NEAR', 'BTC-YGG', 'BTC-GTC', 'BTC-OCEAN', 'BTC-CTC', 'BTC-LPT', 'KRW-AVAX', 'BTC-AVAX', 'BTC-IMX', 'BTC-RENDER', 'BTC-RLY', 'KRW-T', 'BTC-T', 'KRW-CELO', 'BTC-RAD', 'BTC-AGLD', 'BTC-API3', 'BTC-ARPA', 'BTC-ENS', 'KRW-GMT', 'BTC-GMT', 'BTC-APE', 'BTC-RAY', 'KRW-APT', 'BTC-APT', 'BTC-ACM', 'BTC-AFC', 'BTC-ATM', 'BTC-BAR', 'BTC-CITY', 'BTC-INTER', 'BTC-NAP', 'KRW-SHIB', 'BTC-G', 'BTC-ASTR', 'BTC-BLUR', 'KRW-MASK', 'BTC-ACS', 'BTC-MAGIC', 'KRW-ARB', 'BTC-ARB', 'KRW-EGLD', 'BTC-EGLD', 'KRW-SUI', 'BTC-SUI', 'KRW-GRT', 'KRW-BLUR', 'BTC-MINA', 'KRW-IMX', 'BTC-STG', 'BTC-SEI', 'KRW-SEI', 'BTC-CYBER', 'BTC-GLMR', 'KRW-MINA', 'BTC-ID', 'BTC-AXL', 'KRW-CTC', 'KRW-ASTR', 'BTC-SPURS', 'KRW-ID', 'KRW-PYTH', 'BTC-PYTH', 'BTC-ALT', 'BTC-POKT', 'USDT-POKT', 'KRW-MNT', 'BTC-MNT', 'USDT-MNT', 'BTC-BIGTIME', 'USDT-BIGTIME', 'KRW-AKT', 'BTC-AKT', 'USDT-AKT', 'KRW-ZETA', 'BTC-ZETA', 'USDT-ZETA', 'BTC-OMNI', 'USDT-OMNI', 'BTC-OAS', 'USDT-OAS', 'KRW-AUCTION', 'KRW-STG', 'KRW-BEAM', 'BTC-BEAM', 'USDT-BEAM', 'KRW-TAIKO', 'BTC-TAIKO', 'USDT-TAIKO', 'KRW-USDT', 'BTC-USDT', 'KRW-ONDO', 'BTC-ONDO', 'USDT-ONDO', 'BTC-NEO', 'USDT-NEO', 'BTC-GAS', 'USDT-GAS', 'BTC-TT', 'BTC-GAME2', 'USDT-SOL', 'KRW-ZRO', 'BTC-ZRO', 'USDT-ZRO', 'KRW-BLAST', 'BTC-BLAST', 'USDT-BLAST', 'KRW-JUP', 'BTC-JUP', 'USDT-JUP', 'KRW-ENS', 'KRW-G', 'KRW-PENDLE', 'BTC-PENDLE', 'KRW-ATH', 'BTC-ATH', 'USDT-BRETT', 'USDT-PEPE', 'KRW-USDC', 'BTC-USDC', 'USDT-USDC', 'KRW-UXLINK', 'BTC-UXLINK', 'USDT-UXLINK', 'KRW-BIGTIME', 'KRW-CKB', 'BTC-CKB', 'USDT-CKB', 'BTC-MEW', 'USDT-MEW', 'KRW-W', 'BTC-W', 'USDT-W', 'KRW-CARV', 'BTC-CARV', 'USDT-CARV', 'KRW-INJ', 'USDT-INJ', 'KRW-MEW', 'USDT-BONK', 'KRW-UNI', 'USDT-UNI', 'KRW-SAFE', 'BTC-SAFE', 'USDT-SAFE', 'KRW-DRIFT', 'BTC-DRIFT', 'USDT-DRIFT', 'KRW-AGLD', 'USDT-AGLD', 'USDT-AHT', 'USDT-ARPA', 'USDT-ASTR', 'USDT-BNT', 'USDT-EGLD', 'USDT-FIL', 'USDT-LWA', 'USDT-NEAR', 'USDT-OXT', 'USDT-RAD', 'USDT-XLM', 'KRW-PEPE', 'KRW-BONK', 'BTC-JASMY', 'USDT-JASMY', 'BTC-NCT', 'USDT-NCT', 'KRW-RENDER', 'USDT-RENDER', 'BTC-PUFFER', 'USDT-PUFFER', 'BTC-SWELL', 'USDT-SWELL', 'KRW-MOVE', 'BTC-MOVE', 'USDT-MOVE', 'KRW-ME', 'BTC-ME', 'USDT-ME', 'KRW-MOCA', 'BTC-MOCA', 'USDT-MOCA', 'KRW-VANA', 'BTC-VANA', 'USDT-VANA', 'KRW-SONIC', 'BTC-SONIC', 'USDT-SONIC', 'KRW-VTHO', 'USDT-VTHO', 'KRW-ANIME', 'BTC-ANIME', 'USDT-ANIME', 'KRW-VIRTUAL', 'BTC-VIRTUAL', 'USDT-VIRTUAL', 'BTC-SCR', 'USDT-SCR', 'BTC-JTO', 'USDT-JTO', 'KRW-BERA', 'BTC-BERA', 'USDT-BERA', 'KRW-LAYER', 'BTC-LAYER', 'USDT-LAYER', 'KRW-TRUMP', 'BTC-TRUMP', 'USDT-TRUMP', 'KRW-JTO', 'BTC-ARKM', 'USDT-ARKM', 'KRW-COW', 'BTC-COW', 'USDT-COW', 'KRW-KAITO', 'BTC-KAITO', 'USDT-KAITO', 'KRW-ARKM', 'KRW-ORCA', 'BTC-ORCA', 'USDT-ORCA', 'KRW-WAL', 'BTC-WAL', 'USDT-WAL', 'KRW-COMP', 'KRW-FIL', 'KRW-WCT', 'BTC-WCT', 'USDT-WCT', 'BTC-SHELL', 'USDT-SHELL', 'BTC-DEEP', 'USDT-DEEP', 'KRW-DEEP', 'KRW-SIGN', 'BTC-SIGN', 'USDT-SIGN', 'KRW-TIA', 'BTC-TIA', 'USDT-TIA', 'BTC-IO', 'USDT-IO', 'KRW-PENGU', 'BTC-PENGU', 'USDT-PENGU', 'KRW-NXPC', 'BTC-NXPC', 'USDT-NXPC', 'USDT-ACS', 'USDT-GO', 'USDT-OBSR', 'USDT-QTCON', 'USDT-RLY', 'KRW-OM', 'BTC-OM', 'USDT-OM', 'BTC-KERNEL', 'USDT-KERNEL', 'BTC-SOON', 'USDT-SOON']\n"
     ]
    }
   ],
   "source": [
    "print(pyupbit.get_tickers())"
   ]
  },
  {
   "cell_type": "code",
   "execution_count": 9,
   "id": "e650ef46-b630-4ef5-a20c-af1b823b2e42",
   "metadata": {},
   "outputs": [
    {
     "name": "stdout",
     "output_type": "stream",
     "text": [
      "                            open         high          low        close  \\\n",
      "2025-05-21 09:00:00  150424000.0  153301000.0  148810000.0  152356000.0   \n",
      "2025-05-22 09:00:00  152356000.0  155323000.0  152070000.0  154861000.0   \n",
      "2025-05-23 09:00:00  154861000.0  155169000.0  149258000.0  149878000.0   \n",
      "2025-05-24 09:00:00  149962000.0  152700000.0  149422000.0  150660000.0   \n",
      "2025-05-25 09:00:00  150680000.0  151401000.0  150396000.0  150952000.0   \n",
      "\n",
      "                          volume         value  \n",
      "2025-05-21 09:00:00  3078.693150  4.642553e+11  \n",
      "2025-05-22 09:00:00  2781.675942  4.286430e+11  \n",
      "2025-05-23 09:00:00  3245.409407  4.939864e+11  \n",
      "2025-05-24 09:00:00  1063.006882  1.606266e+11  \n",
      "2025-05-25 09:00:00   114.784866  1.730587e+10  \n"
     ]
    }
   ],
   "source": [
    "df = pyupbit.get_ohlcv(\"KRW-BTC\")\n",
    "print(df.tail())"
   ]
  },
  {
   "cell_type": "code",
   "execution_count": 13,
   "id": "137933bb-cf2d-4b50-a508-48e4841bf3f4",
   "metadata": {},
   "outputs": [
    {
     "name": "stdout",
     "output_type": "stream",
     "text": [
      "                            open         high          low        close  \\\n",
      "2024-11-07 09:00:00  104085000.0  104999000.0  102290000.0  104115000.0   \n",
      "2024-11-08 09:00:00  104177000.0  107591000.0  104109000.0  106843000.0   \n",
      "2024-11-09 09:00:00  106845000.0  106990000.0  105873000.0  106294000.0   \n",
      "2024-11-10 09:00:00  106294000.0  112470000.0  106050000.0  111440000.0   \n",
      "2024-11-11 09:00:00  111440000.0  125073000.0  111273000.0  124503000.0   \n",
      "...                          ...          ...          ...          ...   \n",
      "2025-05-21 09:00:00  150424000.0  153301000.0  148810000.0  152356000.0   \n",
      "2025-05-22 09:00:00  152356000.0  155323000.0  152070000.0  154861000.0   \n",
      "2025-05-23 09:00:00  154861000.0  155169000.0  149258000.0  149878000.0   \n",
      "2025-05-24 09:00:00  149962000.0  152700000.0  149422000.0  150660000.0   \n",
      "2025-05-25 09:00:00  150680000.0  151401000.0  150396000.0  151112000.0   \n",
      "\n",
      "                           volume         value  \n",
      "2024-11-07 09:00:00   5517.189748  5.720857e+11  \n",
      "2024-11-08 09:00:00   5104.855742  5.393661e+11  \n",
      "2024-11-09 09:00:00   2702.452888  2.876788e+11  \n",
      "2024-11-10 09:00:00   8111.036561  8.895481e+11  \n",
      "2024-11-11 09:00:00  12056.831324  1.413171e+12  \n",
      "...                           ...           ...  \n",
      "2025-05-21 09:00:00   3078.693150  4.642553e+11  \n",
      "2025-05-22 09:00:00   2781.675942  4.286430e+11  \n",
      "2025-05-23 09:00:00   3245.409407  4.939864e+11  \n",
      "2025-05-24 09:00:00   1063.006882  1.606266e+11  \n",
      "2025-05-25 09:00:00    115.597485  1.742852e+10  \n",
      "\n",
      "[200 rows x 6 columns]\n",
      "                            open         high          low        close  \\\n",
      "2025-05-25 07:28:00  151700000.0  151755000.0  151690000.0  151740000.0   \n",
      "2025-05-25 07:29:00  151740000.0  151740000.0  151700000.0  151737000.0   \n",
      "2025-05-25 07:30:00  151737000.0  151737000.0  151700000.0  151700000.0   \n",
      "2025-05-25 07:31:00  151700000.0  151700000.0  151653000.0  151688000.0   \n",
      "2025-05-25 07:32:00  151688000.0  151689000.0  151648000.0  151648000.0   \n",
      "...                          ...          ...          ...          ...   \n",
      "2025-05-25 10:43:00  151140000.0  151140000.0  151130000.0  151140000.0   \n",
      "2025-05-25 10:44:00  151140000.0  151188000.0  151130000.0  151135000.0   \n",
      "2025-05-25 10:45:00  151135000.0  151135000.0  151036000.0  151036000.0   \n",
      "2025-05-25 10:46:00  151111000.0  151111000.0  150917000.0  150918000.0   \n",
      "2025-05-25 10:47:00  150918000.0  151112000.0  150898000.0  151112000.0   \n",
      "\n",
      "                       volume         value  \n",
      "2025-05-25 07:28:00  0.044317  6.723134e+06  \n",
      "2025-05-25 07:29:00  1.931966  2.931467e+08  \n",
      "2025-05-25 07:30:00  0.367002  5.567475e+07  \n",
      "2025-05-25 07:31:00  0.286533  4.346200e+07  \n",
      "2025-05-25 07:32:00  0.475697  7.214059e+07  \n",
      "...                       ...           ...  \n",
      "2025-05-25 10:43:00  0.851354  1.286663e+08  \n",
      "2025-05-25 10:44:00  0.249742  3.774515e+07  \n",
      "2025-05-25 10:45:00  0.519176  7.844969e+07  \n",
      "2025-05-25 10:46:00  0.535617  8.086659e+07  \n",
      "2025-05-25 10:47:00  0.508350  7.672404e+07  \n",
      "\n",
      "[200 rows x 6 columns]\n",
      "                            open         high          low        close  \\\n",
      "2021-07-26 09:00:00   41054000.0   49471000.0   40864000.0   46274000.0   \n",
      "2021-08-02 09:00:00   46263000.0   51731000.0   43841000.0   50799000.0   \n",
      "2021-08-09 09:00:00   50790000.0   55742000.0   49585000.0   54636000.0   \n",
      "2021-08-16 09:00:00   54638000.0   58280000.0   51938000.0   57681000.0   \n",
      "2021-08-23 09:00:00   57714000.0   58726000.0   54504000.0   57272000.0   \n",
      "...                          ...          ...          ...          ...   \n",
      "2025-04-21 09:00:00  122746000.0  137869000.0  122690000.0  135150000.0   \n",
      "2025-04-28 09:00:00  135160000.0  140516000.0  133720000.0  135652000.0   \n",
      "2025-05-05 09:00:00  135677000.0  146495000.0  132900000.0  145510000.0   \n",
      "2025-05-12 09:00:00  145510000.0  150600000.0  142532000.0  150458000.0   \n",
      "2025-05-19 09:00:00  150296000.0  155323000.0  145500000.0  151112000.0   \n",
      "\n",
      "                           volume         value  \n",
      "2021-07-26 09:00:00  67852.519120  3.091503e+12  \n",
      "2021-08-02 09:00:00  60845.217623  2.888007e+12  \n",
      "2021-08-09 09:00:00  75231.826500  3.997669e+12  \n",
      "2021-08-16 09:00:00  75315.591677  4.127601e+12  \n",
      "2021-08-23 09:00:00  73923.695478  4.204144e+12  \n",
      "...                           ...           ...  \n",
      "2025-04-21 09:00:00  13553.941990  1.788938e+12  \n",
      "2025-04-28 09:00:00   8553.046000  1.173869e+12  \n",
      "2025-05-05 09:00:00  11723.595995  1.650406e+12  \n",
      "2025-05-12 09:00:00  11175.564802  1.632842e+12  \n",
      "2025-05-19 09:00:00  14605.356951  2.206315e+12  \n",
      "\n",
      "[200 rows x 6 columns]\n"
     ]
    }
   ],
   "source": [
    "\"\"\"\n",
    "Interval :\n",
    "day/minute1/minute3/minute5/minute10/minute15/minute30/minute60/minute240/week/month\n",
    "\"\"\"\n",
    "print(pyupbit.get_ohlcv(\"KRW-BTC\", interval=\"day\"))             # 일봉 데이터 (5일)\n",
    "print(pyupbit.get_ohlcv(\"KRW-BTC\", interval=\"minute1\"))         # 분봉 데이터\n",
    "print(pyupbit.get_ohlcv(\"KRW-BTC\", interval=\"week\"))            # 주봉 데이터"
   ]
  },
  {
   "cell_type": "code",
   "execution_count": 14,
   "id": "4e074dbb-4f05-4756-a919-d037a4dbfbc2",
   "metadata": {},
   "outputs": [
    {
     "name": "stdout",
     "output_type": "stream",
     "text": [
      "                           open        high         low       close  \\\n",
      "2020-03-24 09:00:00   8047000.0   8412000.0   7892000.0   8367000.0   \n",
      "2020-03-25 09:00:00   8362000.0   8538000.0   8080000.0   8271000.0   \n",
      "2020-03-26 09:00:00   8276000.0   8344000.0   8091000.0   8272000.0   \n",
      "2020-03-27 09:00:00   8281000.0   8365000.0   7820000.0   7880000.0   \n",
      "2020-03-28 09:00:00   7883000.0   7885000.0   7403000.0   7656000.0   \n",
      "...                         ...         ...         ...         ...   \n",
      "2020-10-05 09:00:00  12446000.0  12545000.0  12385000.0  12536000.0   \n",
      "2020-10-06 09:00:00  12536000.0  12600000.0  12330000.0  12418000.0   \n",
      "2020-10-07 09:00:00  12408000.0  12435000.0  12337000.0  12423000.0   \n",
      "2020-10-08 09:00:00  12422000.0  12680000.0  12280000.0  12582000.0   \n",
      "2020-10-09 09:00:00  12582000.0  12750000.0  12503000.0  12638000.0   \n",
      "\n",
      "                           volume         value  \n",
      "2020-03-24 09:00:00  15158.039589  1.244216e+11  \n",
      "2020-03-25 09:00:00  12629.118008  1.043876e+11  \n",
      "2020-03-26 09:00:00   6160.813270  5.057246e+10  \n",
      "2020-03-27 09:00:00   6749.553055  5.514416e+10  \n",
      "2020-03-28 09:00:00   7702.102337  5.883592e+10  \n",
      "...                           ...           ...  \n",
      "2020-10-05 09:00:00   1578.027830  1.965762e+10  \n",
      "2020-10-06 09:00:00   1745.875329  2.175526e+10  \n",
      "2020-10-07 09:00:00   1357.358223  1.679513e+10  \n",
      "2020-10-08 09:00:00   2422.119262  3.014610e+10  \n",
      "2020-10-09 09:00:00   2245.607475  2.834224e+10  \n",
      "\n",
      "[200 rows x 6 columns]\n"
     ]
    }
   ],
   "source": [
    "print(pyupbit.get_ohlcv(\"KRW-BTC\", to=\"20201010\"))"
   ]
  },
  {
   "cell_type": "code",
   "execution_count": 17,
   "id": "7906b6dc-b884-4608-a689-c825620f33d5",
   "metadata": {},
   "outputs": [
    {
     "name": "stdout",
     "output_type": "stream",
     "text": [
      "                            open         high          low        close  \\\n",
      "2024-11-06 09:00:00   96196000.0  104395000.0   96104000.0  104085000.0   \n",
      "2024-11-07 09:00:00  104085000.0  104999000.0  102290000.0  104115000.0   \n",
      "2024-11-08 09:00:00  104177000.0  107591000.0  104109000.0  106843000.0   \n",
      "2024-11-09 09:00:00  106845000.0  106990000.0  105873000.0  106294000.0   \n",
      "2024-11-10 09:00:00  106294000.0  112470000.0  106050000.0  111440000.0   \n",
      "...                          ...          ...          ...          ...   \n",
      "2025-05-20 09:00:00  148700000.0  150990000.0  147743000.0  150424000.0   \n",
      "2025-05-21 09:00:00  150424000.0  153301000.0  148810000.0  152356000.0   \n",
      "2025-05-22 09:00:00  152356000.0  155323000.0  152070000.0  154861000.0   \n",
      "2025-05-23 09:00:00  154861000.0  155169000.0  149258000.0  149878000.0   \n",
      "2025-05-24 09:00:00  149962000.0  152700000.0  149422000.0  150660000.0   \n",
      "\n",
      "                           volume         value  \n",
      "2024-11-06 09:00:00  17173.682785  1.745208e+12  \n",
      "2024-11-07 09:00:00   5517.189748  5.720857e+11  \n",
      "2024-11-08 09:00:00   5104.855742  5.393661e+11  \n",
      "2024-11-09 09:00:00   2702.452888  2.876788e+11  \n",
      "2024-11-10 09:00:00   8111.036561  8.895481e+11  \n",
      "...                           ...           ...  \n",
      "2025-05-20 09:00:00   1919.887630  2.869194e+11  \n",
      "2025-05-21 09:00:00   3078.693150  4.642553e+11  \n",
      "2025-05-22 09:00:00   2781.675942  4.286430e+11  \n",
      "2025-05-23 09:00:00   3245.409407  4.939864e+11  \n",
      "2025-05-24 09:00:00   1063.006882  1.606266e+11  \n",
      "\n",
      "[200 rows x 6 columns]\n"
     ]
    }
   ],
   "source": [
    "print(pyupbit.get_ohlcv(\"KRW-BTC\", to=\"20250525\"))"
   ]
  },
  {
   "cell_type": "code",
   "execution_count": 16,
   "id": "1a917fa3-3b59-4621-bc9f-e9ebd058fbf6",
   "metadata": {},
   "outputs": [
    {
     "name": "stdout",
     "output_type": "stream",
     "text": [
      "None\n",
      "None\n"
     ]
    }
   ],
   "source": [
    "\"\"\"\n",
    "기준 시간 단위로 shift된 일봉을 계산할 수도 있습니다.\n",
    "\n",
    "예) 2019-06-01 12:00:00 ~ 2019-06-02 11:59:59\n",
    "\"\"\"\n",
    "print(pyupbit.get_daily_ohlcv_from_base(\"KRW-BTC\", base=12))\n",
    "\n",
    "\"\"\"\n",
    "예) 2019-06-01 13:00:00 ~ 2019-06-02 12:59:59\n",
    "\n",
    "\"\"\"\n",
    "print(pyupbit.get_daily_ohlcv_from_base(\"KRW-BTC\", base=13))"
   ]
  },
  {
   "cell_type": "code",
   "execution_count": 18,
   "id": "6227ff97-3486-4c8b-8f5a-eeaa6014cd82",
   "metadata": {},
   "outputs": [
    {
     "name": "stdout",
     "output_type": "stream",
     "text": [
      "{'market': 'KRW-BTC', 'timestamp': 1748139563234, 'total_ask_size': 3.47678165, 'total_bid_size': 2.83235611, 'orderbook_units': [{'ask_price': 150822000, 'bid_price': 150725000, 'ask_size': 0.17405178, 'bid_size': 0.00656828}, {'ask_price': 150834000, 'bid_price': 150709000, 'ask_size': 0.00162678, 'bid_size': 0.00845663}, {'ask_price': 150837000, 'bid_price': 150705000, 'ask_size': 0.00153279, 'bid_size': 0.00033167}, {'ask_price': 150849000, 'bid_price': 150704000, 'ask_size': 0.2335505, 'bid_size': 0.0731493}, {'ask_price': 150858000, 'bid_price': 150701000, 'ask_size': 0.00157093, 'bid_size': 0.00459705}, {'ask_price': 150861000, 'bid_price': 150700000, 'ask_size': 0.28842253, 'bid_size': 0.00725246}, {'ask_price': 150864000, 'bid_price': 150685000, 'ask_size': 0.06519, 'bid_size': 0.00103941}, {'ask_price': 150876000, 'bid_price': 150684000, 'ask_size': 0.00845663, 'bid_size': 0.89951605}, {'ask_price': 150880000, 'bid_price': 150676000, 'ask_size': 0.28826958, 'bid_size': 3.384e-05}, {'ask_price': 150902000, 'bid_price': 150673000, 'ask_size': 0.01166378, 'bid_size': 0.00845663}, {'ask_price': 150905000, 'bid_price': 150672000, 'ask_size': 0.00463867, 'bid_size': 0.00023939}, {'ask_price': 150907000, 'bid_price': 150671000, 'ask_size': 0.00081576, 'bid_size': 0.01596848}, {'ask_price': 150909000, 'bid_price': 150660000, 'ask_size': 0.00066398, 'bid_size': 0.03095446}, {'ask_price': 150928000, 'bid_price': 150656000, 'ask_size': 0.00410242, 'bid_size': 0.00016247}, {'ask_price': 150938000, 'bid_price': 150647000, 'ask_size': 0.00405, 'bid_size': 6.638e-05}, {'ask_price': 150939000, 'bid_price': 150645000, 'ask_size': 0.00875026, 'bid_size': 6.638e-05}, {'ask_price': 150942000, 'bid_price': 150643000, 'ask_size': 0.038, 'bid_size': 6.638e-05}, {'ask_price': 150945000, 'bid_price': 150640000, 'ask_size': 0.0187, 'bid_size': 6.638e-05}, {'ask_price': 150948000, 'bid_price': 150639000, 'ask_size': 0.28826958, 'bid_size': 0.001}, {'ask_price': 150951000, 'bid_price': 150637000, 'ask_size': 0.00665152, 'bid_size': 0.00019915}, {'ask_price': 150956000, 'bid_price': 150635000, 'ask_size': 9.38e-05, 'bid_size': 3.385e-05}, {'ask_price': 150960000, 'bid_price': 150632000, 'ask_size': 1.20006638, 'bid_size': 0.00182074}, {'ask_price': 150965000, 'bid_price': 150631000, 'ask_size': 0.00020394, 'bid_size': 0.18609211}, {'ask_price': 150967000, 'bid_price': 150628000, 'ask_size': 0.41986552, 'bid_size': 0.00915}, {'ask_price': 150973000, 'bid_price': 150622000, 'ask_size': 5.242e-05, 'bid_size': 0.00016592}, {'ask_price': 150983000, 'bid_price': 150611000, 'ask_size': 0.00013273, 'bid_size': 1.55904464}, {'ask_price': 150990000, 'bid_price': 150610000, 'ask_size': 0.00523059, 'bid_size': 6.639e-05}, {'ask_price': 150991000, 'bid_price': 150609000, 'ask_size': 0.01365878, 'bid_size': 0.01280309}, {'ask_price': 150998000, 'bid_price': 150608000, 'ask_size': 0.3785, 'bid_size': 0.00295468}, {'ask_price': 150999000, 'bid_price': 150605000, 'ask_size': 0.01, 'bid_size': 0.0020339}], 'level': 0}\n"
     ]
    }
   ],
   "source": [
    "\"\"\"\n",
    "매수/매도 호가\n",
    "get_orderbook 함수는 매수/매도 호가 정보를 조회합니다.\n",
    "\n",
    "리스트 안에 딕셔너리로 호가정보가 들어있습니다.\n",
    "\n",
    "- market : 암호화폐 티커\n",
    "- timestamp : 조회시간 (단위 ms)\n",
    "- orderbook_units : 매도호가/매수호가 정보\n",
    "\"\"\"\n",
    "print(pyupbit.get_orderbook(ticker=\"KRW-BTC\"))"
   ]
  },
  {
   "cell_type": "markdown",
   "id": "f655c486-b262-4fd5-baa2-12901dbf00db",
   "metadata": {},
   "source": [
    "# Exchange API\n",
    "<p>주문은 초당 8회, 분당 200회 / 주문 외 요청은 초당 30회, 분당 900회 사용 가능합니다.</p>"
   ]
  },
  {
   "cell_type": "markdown",
   "id": "dc3671d4-a2e1-4f00-abc2-f38ef3a00635",
   "metadata": {},
   "source": [
    "## 로그인\n",
    "\n",
    "```python\n",
    "import pyupbit\n",
    "\n",
    "access = \"73kVqowGQOGEjdR31221j31j2ifekjkgjekgjekg\"          # 본인 값으로 변경\n",
    "secret = \"egjekgj3iekeEEkej3i3j3iejjwiEejiejeEeijg\"          # 본인 값으로 변경\n",
    "upbit = pyupbit.Upbit(access, secret)\n",
    "```"
   ]
  },
  {
   "cell_type": "markdown",
   "id": "da2873b0-7f55-4e06-bfe7-9d2ac97b0667",
   "metadata": {},
   "source": [
    "## 잔고 조회\n",
    "<p>get_balance 메서드는 입력받은 티커의 보유 수량 정보를 조회합니다.</p>\n",
    "\n",
    "```python\n",
    "print(upbit.get_balance(\"KRW-XRP\"))     # KRW-XRP 조회\n",
    "print(upbit.get_balance(\"KRW\"))         # 보유 현금 조회\n",
    "```\n",
    "\n",
    "<p>get_balances 메서드는 보유 중인 모든 암호화폐의 잔고 및 단가 정보를 딕셔너리로 조회합니다.</p>\n",
    "\n",
    "```python\n",
    "print(upbit.get_balances())\n",
    "```\n",
    "\n",
    "```\n",
    " [{'currency': 'KRW',\n",
    "   'balance': '0.34689181',\n",
    "   'locked': '0.0',\n",
    "   'avg_buy_price': '0',\n",
    "   'avg_buy_price_modified': True,\n",
    "   'unit_currency': 'KRW'},\n",
    "  {'currency': 'BTC',\n",
    "   'balance': '0.00174304',\n",
    "   'locked': '0.0',\n",
    "   'avg_buy_price': '64387000',\n",
    "   'avg_buy_price_modified': False,\n",
    "   'unit_currency': 'KRW'},]\n",
    "```"
   ]
  },
  {
   "cell_type": "markdown",
   "id": "0afd2693-cef6-415c-841e-e816ba23d5be",
   "metadata": {},
   "source": [
    "## 지정가 매수/매도 주문\n",
    "\n",
    "<p>지정한 가격에 주문을 요청합니다. 다음은 원화 시장에 리플을 600원에 20개 매도 합니다.</p>\n",
    "\n",
    "```python\n",
    "# 매도\n",
    "print(upbit.sell_limit_order(\"KRW-XRP\", 600, 20))\n",
    "```\n",
    "\n",
    "<p>주문 정보가 딕셔너리로 반환됩니다. uuid는 주문에 대한 고윳값으로 이를 사용해 추후 주문을 취소하거나 정정할 수 있습니다.</p>\n",
    "\n",
    "```python\n",
    "{'uuid': '0bcf0916-a7f5-49ed-80a9-a45e9e190cd3',\n",
    " 'side': 'ask',\n",
    " 'ord_type': 'limit',\n",
    " 'price': '600.0',\n",
    " 'state': 'wait',\n",
    " 'market': 'KRW-XRP',\n",
    " 'created_at': '2021-03-21T15:24:11+09:00',\n",
    " 'volume': '20.0',\n",
    " 'remaining_volume': '20.0',\n",
    " 'reserved_fee': '0.0',\n",
    " 'remaining_fee': '0.0',\n",
    " 'paid_fee': '0.0',\n",
    " 'locked': '20.0',\n",
    " 'executed_volume': '0.0',\n",
    " 'trades_count': 0}\n",
    "```\n",
    "\n",
    "<p>다음은 원화 시장에 리플을 613원에 10개 매수 합니다.</p>\n",
    "\n",
    "```python\n",
    "# 매수\n",
    "print(upbit.buy_limit_order(\"KRW-XRP\", 613, 10))\n",
    "```\n",
    "\n",
    "```python\n",
    "{'uuid': '1907dcdc-2b96-4d85-9963-866f7aa220cd',\n",
    " 'side': 'bid',\n",
    " 'ord_type': 'limit',\n",
    " 'price': '613.0',\n",
    " 'state': 'wait',\n",
    " 'market': 'KRW-XRP',\n",
    " 'created_at': '2021-03-21T15:10:32+09:00',\n",
    " 'volume': '10.0',\n",
    " 'remaining_volume': '10.0',\n",
    " 'reserved_fee': '3.065',\n",
    " 'remaining_fee': '3.065',\n",
    " 'paid_fee': '0.0',\n",
    " 'locked': '6133.065',\n",
    " 'executed_volume': '0.0',\n",
    " 'trades_count': 0}\n",
    "```"
   ]
  },
  {
   "cell_type": "code",
   "execution_count": null,
   "id": "e9183f3e-64f7-45ea-b2ec-3e1a6226c37c",
   "metadata": {},
   "outputs": [],
   "source": []
  }
 ],
 "metadata": {
  "kernelspec": {
   "display_name": "finance",
   "language": "python",
   "name": "finance"
  },
  "language_info": {
   "codemirror_mode": {
    "name": "ipython",
    "version": 3
   },
   "file_extension": ".py",
   "mimetype": "text/x-python",
   "name": "python",
   "nbconvert_exporter": "python",
   "pygments_lexer": "ipython3",
   "version": "3.11.2"
  }
 },
 "nbformat": 4,
 "nbformat_minor": 5
}
